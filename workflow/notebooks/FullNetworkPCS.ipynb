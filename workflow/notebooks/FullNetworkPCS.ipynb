{
 "cells": [
  {
   "cell_type": "code",
   "execution_count": 1,
   "metadata": {},
   "outputs": [],
   "source": [
    "import pypsa\n",
    "import pandas as pd\n",
    "import numpy as np\n",
    "import matplotlib.pyplot as plt\n"
   ]
  },
  {
   "cell_type": "code",
   "execution_count": 3,
   "metadata": {},
   "outputs": [
    {
     "name": "stderr",
     "output_type": "stream",
     "text": [
      "INFO:pypsa.io:Imported network elec_s_100.nc has buses, carriers, generators, lines, links, loads\n"
     ]
    },
    {
     "data": {
      "text/plain": [
       "PyPSA Network\n",
       "Components:\n",
       " - Bus: 101\n",
       " - Carrier: 9\n",
       " - Generator: 229\n",
       " - Line: 274\n",
       " - Link: 3\n",
       " - Load: 101\n",
       "Snapshots: 8784"
      ]
     },
     "execution_count": 3,
     "metadata": {},
     "output_type": "execute_result"
    }
   ],
   "source": [
    "resources_path='/Users/kamrantehranchi/Library/CloudStorage/OneDrive-Stanford/Kamran_OSW/PyPSA_Models/pypsa-breakthroughenergy-usa/workflow/resources'\n",
    "\n",
    "BE_network='/Users/kamrantehranchi/Library/CloudStorage/OneDrive-Stanford/Kamran_OSW/PyPSA_Models/pypsa-breakthroughenergy-usa/workflow/resources/western/elec.nc'\n",
    "\n",
    "Simplified_WECC_network='/Users/kamrantehranchi/Library/CloudStorage/OneDrive-Stanford/Kamran_OSW/PyPSA_Models/pypsa-breakthroughenergy-usa/workflow/resources/western/elec_s.nc'\n",
    "\n",
    "clustered_path='/Users/kamrantehranchi/Library/CloudStorage/OneDrive-Stanford/Kamran_OSW/PyPSA_Models/pypsa-breakthroughenergy-usa/workflow/resources/western/elec_s_100.nc'\n",
    "\n",
    "network = pypsa.Network(clustered_path)\n",
    "network\n",
    "\n",
    "# network_solved = pypsa.Network('/Users/kamrantehranchi/Library/CloudStorage/OneDrive-Stanford/Kamran_OSW/PyPSA_Models/pypsa-breakthroughenergy-usa/workflow/notebooks/Solved_Network_WECC_50.nc')\n"
   ]
  },
  {
   "cell_type": "code",
   "execution_count": 6,
   "metadata": {},
   "outputs": [
    {
     "data": {
      "application/vnd.plotly.v1+json": {
       "config": {
        "linkText": "Export to plot.ly",
        "plotlyServerURL": "https://plot.ly",
        "showLink": false
       },
       "data": [
        {
         "lat": [
          40.02151282051282,
          34.75992
         ],
         "line": {
          "color": "darkseagreen",
          "width": 3
         },
         "lon": [
          -112.00714358974359,
          -117.29459999999999
         ],
         "mode": "lines",
         "opacity": 0.8,
         "type": "scattermapbox"
        },
        {
         "lat": [
          45.74428666666667,
          34.16446956521738
         ],
         "line": {
          "color": "darkseagreen",
          "width": 3
         },
         "lon": [
          -120.59450000000001,
          -118.46306521739132
         ],
         "mode": "lines",
         "opacity": 0.8,
         "type": "scattermapbox"
        },
        {
         "lat": [
          37.84361180555556,
          37.986842857142854
         ],
         "line": {
          "color": "darkseagreen",
          "width": 3
         },
         "lon": [
          -122.23822916666667,
          -121.58690000000001
         ],
         "mode": "lines",
         "opacity": 0.8,
         "type": "scattermapbox"
        },
        {
         "lat": [
          47.73997599999999,
          45.891866666666665
         ],
         "line": {
          "color": "rosybrown",
          "width": 3
         },
         "lon": [
          -117.27475999999997,
          -116.91741666666668
         ],
         "mode": "lines",
         "opacity": 0.8,
         "type": "scattermapbox"
        },
        {
         "lat": [
          47.73997599999999,
          48.246772727272734
         ],
         "line": {
          "color": "rosybrown",
          "width": 3
         },
         "lon": [
          -117.27475999999997,
          -115.68272727272728
         ],
         "mode": "lines",
         "opacity": 0.8,
         "type": "scattermapbox"
        },
        {
         "lat": [
          47.73997599999999,
          46.201475
         ],
         "line": {
          "color": "rosybrown",
          "width": 3
         },
         "lon": [
          -117.27475999999997,
          -118.14337499999999
         ],
         "mode": "lines",
         "opacity": 0.8,
         "type": "scattermapbox"
        },
        {
         "lat": [
          47.73997599999999,
          47.7797375
         ],
         "line": {
          "color": "rosybrown",
          "width": 3
         },
         "lon": [
          -117.27475999999997,
          -114.27487500000001
         ],
         "mode": "lines",
         "opacity": 0.8,
         "type": "scattermapbox"
        },
        {
         "lat": [
          47.73997599999999,
          48.11697692307692
         ],
         "line": {
          "color": "rosybrown",
          "width": 3
         },
         "lon": [
          -117.27475999999997,
          -119.68223076923078
         ],
         "mode": "lines",
         "opacity": 0.8,
         "type": "scattermapbox"
        },
        {
         "lat": [
          47.73997599999999,
          43.884603773584885
         ],
         "line": {
          "color": "rosybrown",
          "width": 3
         },
         "lon": [
          -117.27475999999997,
          -116.46432075471697
         ],
         "mode": "lines",
         "opacity": 0.8,
         "type": "scattermapbox"
        },
        {
         "lat": [
          33.065131578947366,
          35.14870869565217
         ],
         "line": {
          "color": "rosybrown",
          "width": 3
         },
         "lon": [
          -114.19973684210527,
          -114.22121739130434
         ],
         "mode": "lines",
         "opacity": 0.8,
         "type": "scattermapbox"
        },
        {
         "lat": [
          33.065131578947366,
          33.509182857142854
         ],
         "line": {
          "color": "rosybrown",
          "width": 3
         },
         "lon": [
          -114.19973684210527,
          -112.23489142857143
         ],
         "mode": "lines",
         "opacity": 0.8,
         "type": "scattermapbox"
        },
        {
         "lat": [
          33.065131578947366,
          33.827774999999995
         ],
         "line": {
          "color": "rosybrown",
          "width": 3
         },
         "lon": [
          -114.19973684210527,
          -115.18400000000001
         ],
         "mode": "lines",
         "opacity": 0.8,
         "type": "scattermapbox"
        },
        {
         "lat": [
          33.065131578947366,
          33.16159347826086
         ],
         "line": {
          "color": "rosybrown",
          "width": 3
         },
         "lon": [
          -114.19973684210527,
          -115.7453695652174
         ],
         "mode": "lines",
         "opacity": 0.8,
         "type": "scattermapbox"
        },
        {
         "lat": [
          33.065131578947366,
          38.282210194444446
         ],
         "line": {
          "color": "rosybrown",
          "width": 3
         },
         "lon": [
          -114.19973684210527,
          -120.65343600925925
         ],
         "mode": "lines",
         "opacity": 0.8,
         "type": "scattermapbox"
        },
        {
         "lat": [
          33.065131578947366,
          34.340066666666665
         ],
         "line": {
          "color": "rosybrown",
          "width": 3
         },
         "lon": [
          -114.19973684210527,
          -114.48700000000001
         ],
         "mode": "lines",
         "opacity": 0.8,
         "type": "scattermapbox"
        },
        {
         "lat": [
          34.835499999999996,
          33.283623000000006
         ],
         "line": {
          "color": "rosybrown",
          "width": 3
         },
         "lon": [
          -112.17625,
          -111.60539999999999
         ],
         "mode": "lines",
         "opacity": 0.8,
         "type": "scattermapbox"
        },
        {
         "lat": [
          34.835499999999996,
          35.14870869565217
         ],
         "line": {
          "color": "rosybrown",
          "width": 3
         },
         "lon": [
          -112.17625,
          -114.22121739130434
         ],
         "mode": "lines",
         "opacity": 0.8,
         "type": "scattermapbox"
        },
        {
         "lat": [
          34.835499999999996,
          36.634224999999994
         ],
         "line": {
          "color": "rosybrown",
          "width": 3
         },
         "lon": [
          -112.17625,
          -111.72258333333333
         ],
         "mode": "lines",
         "opacity": 0.8,
         "type": "scattermapbox"
        },
        {
         "lat": [
          34.835499999999996,
          35.983870833333334
         ],
         "line": {
          "color": "rosybrown",
          "width": 3
         },
         "lon": [
          -112.17625,
          -109.80304166666667
         ],
         "mode": "lines",
         "opacity": 0.8,
         "type": "scattermapbox"
        },
        {
         "lat": [
          34.835499999999996,
          33.509182857142854
         ],
         "line": {
          "color": "rosybrown",
          "width": 3
         },
         "lon": [
          -112.17625,
          -112.23489142857143
         ],
         "mode": "lines",
         "opacity": 0.8,
         "type": "scattermapbox"
        },
        {
         "lat": [
          33.283623000000006,
          33.509182857142854
         ],
         "line": {
          "color": "rosybrown",
          "width": 3
         },
         "lon": [
          -111.60539999999999,
          -112.23489142857143
         ],
         "mode": "lines",
         "opacity": 0.8,
         "type": "scattermapbox"
        },
        {
         "lat": [
          33.283623000000006,
          34.152877777777775
         ],
         "line": {
          "color": "rosybrown",
          "width": 3
         },
         "lon": [
          -111.60539999999999,
          -109.93714814814814
         ],
         "mode": "lines",
         "opacity": 0.8,
         "type": "scattermapbox"
        },
        {
         "lat": [
          33.283623000000006,
          32.07233734939759
         ],
         "line": {
          "color": "rosybrown",
          "width": 3
         },
         "lon": [
          -111.60539999999999,
          -110.81897590361444
         ],
         "mode": "lines",
         "opacity": 0.8,
         "type": "scattermapbox"
        },
        {
         "lat": [
          35.14870869565217,
          36.634224999999994
         ],
         "line": {
          "color": "rosybrown",
          "width": 3
         },
         "lon": [
          -114.22121739130434,
          -111.72258333333333
         ],
         "mode": "lines",
         "opacity": 0.8,
         "type": "scattermapbox"
        },
        {
         "lat": [
          35.14870869565217,
          33.827774999999995
         ],
         "line": {
          "color": "rosybrown",
          "width": 3
         },
         "lon": [
          -114.22121739130434,
          -115.18400000000001
         ],
         "mode": "lines",
         "opacity": 0.8,
         "type": "scattermapbox"
        },
        {
         "lat": [
          35.14870869565217,
          36.172562698412705
         ],
         "line": {
          "color": "rosybrown",
          "width": 3
         },
         "lon": [
          -114.22121739130434,
          -115.0824841269841
         ],
         "mode": "lines",
         "opacity": 0.8,
         "type": "scattermapbox"
        },
        {
         "lat": [
          35.14870869565217,
          34.340066666666665
         ],
         "line": {
          "color": "rosybrown",
          "width": 3
         },
         "lon": [
          -114.22121739130434,
          -114.48700000000001
         ],
         "mode": "lines",
         "opacity": 0.8,
         "type": "scattermapbox"
        },
        {
         "lat": [
          36.634224999999994,
          35.983870833333334
         ],
         "line": {
          "color": "rosybrown",
          "width": 3
         },
         "lon": [
          -111.72258333333333,
          -109.80304166666667
         ],
         "mode": "lines",
         "opacity": 0.8,
         "type": "scattermapbox"
        },
        {
         "lat": [
          36.634224999999994,
          36.172562698412705
         ],
         "line": {
          "color": "rosybrown",
          "width": 3
         },
         "lon": [
          -111.72258333333333,
          -115.0824841269841
         ],
         "mode": "lines",
         "opacity": 0.8,
         "type": "scattermapbox"
        },
        {
         "lat": [
          36.634224999999994,
          40.02151282051282
         ],
         "line": {
          "color": "rosybrown",
          "width": 3
         },
         "lon": [
          -111.72258333333333,
          -112.00714358974359
         ],
         "mode": "lines",
         "opacity": 0.8,
         "type": "scattermapbox"
        },
        {
         "lat": [
          35.983870833333334,
          34.152877777777775
         ],
         "line": {
          "color": "rosybrown",
          "width": 3
         },
         "lon": [
          -109.80304166666667,
          -109.93714814814814
         ],
         "mode": "lines",
         "opacity": 0.8,
         "type": "scattermapbox"
        },
        {
         "lat": [
          35.983870833333334,
          40.291528125
         ],
         "line": {
          "color": "rosybrown",
          "width": 3
         },
         "lon": [
          -109.80304166666667,
          -109.8623125
         ],
         "mode": "lines",
         "opacity": 0.8,
         "type": "scattermapbox"
        },
        {
         "lat": [
          35.983870833333334,
          40.02151282051282
         ],
         "line": {
          "color": "rosybrown",
          "width": 3
         },
         "lon": [
          -109.80304166666667,
          -112.00714358974359
         ],
         "mode": "lines",
         "opacity": 0.8,
         "type": "scattermapbox"
        },
        {
         "lat": [
          35.983870833333334,
          35.07218153846155
         ],
         "line": {
          "color": "rosybrown",
          "width": 3
         },
         "lon": [
          -109.80304166666667,
          -107.02026153846154
         ],
         "mode": "lines",
         "opacity": 0.8,
         "type": "scattermapbox"
        },
        {
         "lat": [
          33.509182857142854,
          33.827774999999995
         ],
         "line": {
          "color": "rosybrown",
          "width": 3
         },
         "lon": [
          -112.23489142857143,
          -115.18400000000001
         ],
         "mode": "lines",
         "opacity": 0.8,
         "type": "scattermapbox"
        },
        {
         "lat": [
          33.509182857142854,
          32.07233734939759
         ],
         "line": {
          "color": "rosybrown",
          "width": 3
         },
         "lon": [
          -112.23489142857143,
          -110.81897590361444
         ],
         "mode": "lines",
         "opacity": 0.8,
         "type": "scattermapbox"
        },
        {
         "lat": [
          34.152877777777775,
          35.07218153846155
         ],
         "line": {
          "color": "rosybrown",
          "width": 3
         },
         "lon": [
          -109.93714814814814,
          -107.02026153846154
         ],
         "mode": "lines",
         "opacity": 0.8,
         "type": "scattermapbox"
        },
        {
         "lat": [
          34.152877777777775,
          32.07233734939759
         ],
         "line": {
          "color": "rosybrown",
          "width": 3
         },
         "lon": [
          -109.93714814814814,
          -110.81897590361444
         ],
         "mode": "lines",
         "opacity": 0.8,
         "type": "scattermapbox"
        },
        {
         "lat": [
          38.42286292134831,
          39.15674210526316
         ],
         "line": {
          "color": "rosybrown",
          "width": 3
         },
         "lon": [
          -121.28998876404494,
          -121.0671052631579
         ],
         "mode": "lines",
         "opacity": 0.8,
         "type": "scattermapbox"
        },
        {
         "lat": [
          38.42286292134831,
          38.77952051282051
         ],
         "line": {
          "color": "rosybrown",
          "width": 3
         },
         "lon": [
          -121.28998876404494,
          -121.63976923076923
         ],
         "mode": "lines",
         "opacity": 0.8,
         "type": "scattermapbox"
        },
        {
         "lat": [
          38.42286292134831,
          37.986842857142854
         ],
         "line": {
          "color": "rosybrown",
          "width": 3
         },
         "lon": [
          -121.28998876404494,
          -121.58690000000001
         ],
         "mode": "lines",
         "opacity": 0.8,
         "type": "scattermapbox"
        },
        {
         "lat": [
          38.42286292134831,
          39.62286818181818
         ],
         "line": {
          "color": "rosybrown",
          "width": 3
         },
         "lon": [
          -121.28998876404494,
          -121.7255909090909
         ],
         "mode": "lines",
         "opacity": 0.8,
         "type": "scattermapbox"
        },
        {
         "lat": [
          38.42286292134831,
          38.725603703703705
         ],
         "line": {
          "color": "rosybrown",
          "width": 3
         },
         "lon": [
          -121.28998876404494,
          -120.56933333333333
         ],
         "mode": "lines",
         "opacity": 0.8,
         "type": "scattermapbox"
        },
        {
         "lat": [
          38.42286292134831,
          37.73881666666667
         ],
         "line": {
          "color": "rosybrown",
          "width": 3
         },
         "lon": [
          -121.28998876404494,
          -120.31872222222222
         ],
         "mode": "lines",
         "opacity": 0.8,
         "type": "scattermapbox"
        },
        {
         "lat": [
          38.42286292134831,
          37.50101578947368
         ],
         "line": {
          "color": "rosybrown",
          "width": 3
         },
         "lon": [
          -121.28998876404494,
          -120.88726315789475
         ],
         "mode": "lines",
         "opacity": 0.8,
         "type": "scattermapbox"
        },
        {
         "lat": [
          38.42286292134831,
          38.282210194444446
         ],
         "line": {
          "color": "rosybrown",
          "width": 3
         },
         "lon": [
          -121.28998876404494,
          -120.65343600925925
         ],
         "mode": "lines",
         "opacity": 0.8,
         "type": "scattermapbox"
        },
        {
         "lat": [
          40.6471,
          39.461022222222226
         ],
         "line": {
          "color": "rosybrown",
          "width": 3
         },
         "lon": [
          -122.76260000000002,
          -123.41822222222221
         ],
         "mode": "lines",
         "opacity": 0.8,
         "type": "scattermapbox"
        },
        {
         "lat": [
          40.6471,
          40.43733888888889
         ],
         "line": {
          "color": "rosybrown",
          "width": 3
         },
         "lon": [
          -122.76260000000002,
          -122.35572222222224
         ],
         "mode": "lines",
         "opacity": 0.8,
         "type": "scattermapbox"
        },
        {
         "lat": [
          44.29382978723404,
          44.10286111111112
         ],
         "line": {
          "color": "rosybrown",
          "width": 3
         },
         "lon": [
          -123.14925531914892,
          -121.20749999999998
         ],
         "mode": "lines",
         "opacity": 0.8,
         "type": "scattermapbox"
        },
        {
         "lat": [
          44.29382978723404,
          45.74428666666667
         ],
         "line": {
          "color": "rosybrown",
          "width": 3
         },
         "lon": [
          -123.14925531914892,
          -120.59450000000001
         ],
         "mode": "lines",
         "opacity": 0.8,
         "type": "scattermapbox"
        },
        {
         "lat": [
          44.29382978723404,
          45.9225984375
         ],
         "line": {
          "color": "rosybrown",
          "width": 3
         },
         "lon": [
          -123.14925531914892,
          -122.68379687499998
         ],
         "mode": "lines",
         "opacity": 0.8,
         "type": "scattermapbox"
        },
        {
         "lat": [
          44.29382978723404,
          42.50423285714286
         ],
         "line": {
          "color": "rosybrown",
          "width": 3
         },
         "lon": [
          -123.14925531914892,
          -122.86985714285713
         ],
         "mode": "lines",
         "opacity": 0.8,
         "type": "scattermapbox"
        },
        {
         "lat": [
          44.29382978723404,
          44.97036333333334
         ],
         "line": {
          "color": "rosybrown",
          "width": 3
         },
         "lon": [
          -123.14925531914892,
          -123.0203
         ],
         "mode": "lines",
         "opacity": 0.8,
         "type": "scattermapbox"
        },
        {
         "lat": [
          44.29382978723404,
          45.47333068181819
         ],
         "line": {
          "color": "rosybrown",
          "width": 3
         },
         "lon": [
          -123.14925531914892,
          -122.71163636363636
         ],
         "mode": "lines",
         "opacity": 0.8,
         "type": "scattermapbox"
        },
        {
         "lat": [
          44.29382978723404,
          38.282210194444446
         ],
         "line": {
          "color": "rosybrown",
          "width": 3
         },
         "lon": [
          -123.14925531914892,
          -120.65343600925925
         ],
         "mode": "lines",
         "opacity": 0.8,
         "type": "scattermapbox"
        },
        {
         "lat": [
          45.891866666666665,
          46.201475
         ],
         "line": {
          "color": "rosybrown",
          "width": 3
         },
         "lon": [
          -116.91741666666668,
          -118.14337499999999
         ],
         "mode": "lines",
         "opacity": 0.8,
         "type": "scattermapbox"
        },
        {
         "lat": [
          45.891866666666665,
          43.884603773584885
         ],
         "line": {
          "color": "rosybrown",
          "width": 3
         },
         "lon": [
          -116.91741666666668,
          -116.46432075471697
         ],
         "mode": "lines",
         "opacity": 0.8,
         "type": "scattermapbox"
        },
        {
         "lat": [
          47.125022916666666,
          47.575355555555554
         ],
         "line": {
          "color": "rosybrown",
          "width": 3
         },
         "lon": [
          -123.17552083333332,
          -122.26427777777778
         ],
         "mode": "lines",
         "opacity": 0.8,
         "type": "scattermapbox"
        },
        {
         "lat": [
          47.125022916666666,
          45.9225984375
         ],
         "line": {
          "color": "rosybrown",
          "width": 3
         },
         "lon": [
          -123.17552083333332,
          -122.68379687499998
         ],
         "mode": "lines",
         "opacity": 0.8,
         "type": "scattermapbox"
        },
        {
         "lat": [
          47.125022916666666,
          48.11697692307692
         ],
         "line": {
          "color": "rosybrown",
          "width": 3
         },
         "lon": [
          -123.17552083333332,
          -119.68223076923078
         ],
         "mode": "lines",
         "opacity": 0.8,
         "type": "scattermapbox"
        },
        {
         "lat": [
          47.125022916666666,
          38.282210194444446
         ],
         "line": {
          "color": "rosybrown",
          "width": 3
         },
         "lon": [
          -123.17552083333332,
          -120.65343600925925
         ],
         "mode": "lines",
         "opacity": 0.8,
         "type": "scattermapbox"
        },
        {
         "lat": [
          44.10286111111112,
          45.74428666666667
         ],
         "line": {
          "color": "rosybrown",
          "width": 3
         },
         "lon": [
          -121.20749999999998,
          -120.59450000000001
         ],
         "mode": "lines",
         "opacity": 0.8,
         "type": "scattermapbox"
        },
        {
         "lat": [
          44.10286111111112,
          45.9225984375
         ],
         "line": {
          "color": "rosybrown",
          "width": 3
         },
         "lon": [
          -121.20749999999998,
          -122.68379687499998
         ],
         "mode": "lines",
         "opacity": 0.8,
         "type": "scattermapbox"
        },
        {
         "lat": [
          44.10286111111112,
          45.744899999999994
         ],
         "line": {
          "color": "rosybrown",
          "width": 3
         },
         "lon": [
          -121.20749999999998,
          -119.66257142857141
         ],
         "mode": "lines",
         "opacity": 0.8,
         "type": "scattermapbox"
        },
        {
         "lat": [
          44.10286111111112,
          42.50423285714286
         ],
         "line": {
          "color": "rosybrown",
          "width": 3
         },
         "lon": [
          -121.20749999999998,
          -122.86985714285713
         ],
         "mode": "lines",
         "opacity": 0.8,
         "type": "scattermapbox"
        },
        {
         "lat": [
          44.10286111111112,
          44.97036333333334
         ],
         "line": {
          "color": "rosybrown",
          "width": 3
         },
         "lon": [
          -121.20749999999998,
          -123.0203
         ],
         "mode": "lines",
         "opacity": 0.8,
         "type": "scattermapbox"
        },
        {
         "lat": [
          47.575355555555554,
          45.9225984375
         ],
         "line": {
          "color": "rosybrown",
          "width": 3
         },
         "lon": [
          -122.26427777777778,
          -122.68379687499998
         ],
         "mode": "lines",
         "opacity": 0.8,
         "type": "scattermapbox"
        },
        {
         "lat": [
          47.575355555555554,
          46.76329047619048
         ],
         "line": {
          "color": "rosybrown",
          "width": 3
         },
         "lon": [
          -122.26427777777778,
          -120.4458095238095
         ],
         "mode": "lines",
         "opacity": 0.8,
         "type": "scattermapbox"
        },
        {
         "lat": [
          47.575355555555554,
          47.70271111111111
         ],
         "line": {
          "color": "rosybrown",
          "width": 3
         },
         "lon": [
          -122.26427777777778,
          -120.28122222222221
         ],
         "mode": "lines",
         "opacity": 0.8,
         "type": "scattermapbox"
        },
        {
         "lat": [
          47.575355555555554,
          48.11697692307692
         ],
         "line": {
          "color": "rosybrown",
          "width": 3
         },
         "lon": [
          -122.26427777777778,
          -119.68223076923078
         ],
         "mode": "lines",
         "opacity": 0.8,
         "type": "scattermapbox"
        },
        {
         "lat": [
          47.575355555555554,
          48.67661785714285
         ],
         "line": {
          "color": "rosybrown",
          "width": 3
         },
         "lon": [
          -122.26427777777778,
          -122.24942857142857
         ],
         "mode": "lines",
         "opacity": 0.8,
         "type": "scattermapbox"
        },
        {
         "lat": [
          47.575355555555554,
          38.282210194444446
         ],
         "line": {
          "color": "rosybrown",
          "width": 3
         },
         "lon": [
          -122.26427777777778,
          -120.65343600925925
         ],
         "mode": "lines",
         "opacity": 0.8,
         "type": "scattermapbox"
        },
        {
         "lat": [
          45.74428666666667,
          45.9225984375
         ],
         "line": {
          "color": "rosybrown",
          "width": 3
         },
         "lon": [
          -120.59450000000001,
          -122.68379687499998
         ],
         "mode": "lines",
         "opacity": 0.8,
         "type": "scattermapbox"
        },
        {
         "lat": [
          45.74428666666667,
          46.00853243243243
         ],
         "line": {
          "color": "rosybrown",
          "width": 3
         },
         "lon": [
          -120.59450000000001,
          -119.1392972972973
         ],
         "mode": "lines",
         "opacity": 0.8,
         "type": "scattermapbox"
        },
        {
         "lat": [
          45.74428666666667,
          46.76329047619048
         ],
         "line": {
          "color": "rosybrown",
          "width": 3
         },
         "lon": [
          -120.59450000000001,
          -120.4458095238095
         ],
         "mode": "lines",
         "opacity": 0.8,
         "type": "scattermapbox"
        },
        {
         "lat": [
          45.74428666666667,
          47.153645454545455
         ],
         "line": {
          "color": "rosybrown",
          "width": 3
         },
         "lon": [
          -120.59450000000001,
          -119.4911818181818
         ],
         "mode": "lines",
         "opacity": 0.8,
         "type": "scattermapbox"
        },
        {
         "lat": [
          45.74428666666667,
          45.744899999999994
         ],
         "line": {
          "color": "rosybrown",
          "width": 3
         },
         "lon": [
          -120.59450000000001,
          -119.66257142857141
         ],
         "mode": "lines",
         "opacity": 0.8,
         "type": "scattermapbox"
        },
        {
         "lat": [
          45.74428666666667,
          45.42545555555555
         ],
         "line": {
          "color": "rosybrown",
          "width": 3
         },
         "lon": [
          -120.59450000000001,
          -122.03833333333334
         ],
         "mode": "lines",
         "opacity": 0.8,
         "type": "scattermapbox"
        },
        {
         "lat": [
          48.246772727272734,
          47.7797375
         ],
         "line": {
          "color": "rosybrown",
          "width": 3
         },
         "lon": [
          -115.68272727272728,
          -114.27487500000001
         ],
         "mode": "lines",
         "opacity": 0.8,
         "type": "scattermapbox"
        },
        {
         "lat": [
          45.9225984375,
          46.76329047619048
         ],
         "line": {
          "color": "rosybrown",
          "width": 3
         },
         "lon": [
          -122.68379687499998,
          -120.4458095238095
         ],
         "mode": "lines",
         "opacity": 0.8,
         "type": "scattermapbox"
        },
        {
         "lat": [
          45.9225984375,
          45.42545555555555
         ],
         "line": {
          "color": "rosybrown",
          "width": 3
         },
         "lon": [
          -122.68379687499998,
          -122.03833333333334
         ],
         "mode": "lines",
         "opacity": 0.8,
         "type": "scattermapbox"
        },
        {
         "lat": [
          45.9225984375,
          45.47333068181819
         ],
         "line": {
          "color": "rosybrown",
          "width": 3
         },
         "lon": [
          -122.68379687499998,
          -122.71163636363636
         ],
         "mode": "lines",
         "opacity": 0.8,
         "type": "scattermapbox"
        },
        {
         "lat": [
          46.00853243243243,
          46.201475
         ],
         "line": {
          "color": "rosybrown",
          "width": 3
         },
         "lon": [
          -119.1392972972973,
          -118.14337499999999
         ],
         "mode": "lines",
         "opacity": 0.8,
         "type": "scattermapbox"
        },
        {
         "lat": [
          46.00853243243243,
          46.76329047619048
         ],
         "line": {
          "color": "rosybrown",
          "width": 3
         },
         "lon": [
          -119.1392972972973,
          -120.4458095238095
         ],
         "mode": "lines",
         "opacity": 0.8,
         "type": "scattermapbox"
        },
        {
         "lat": [
          46.00853243243243,
          47.153645454545455
         ],
         "line": {
          "color": "rosybrown",
          "width": 3
         },
         "lon": [
          -119.1392972972973,
          -119.4911818181818
         ],
         "mode": "lines",
         "opacity": 0.8,
         "type": "scattermapbox"
        },
        {
         "lat": [
          46.00853243243243,
          45.744899999999994
         ],
         "line": {
          "color": "rosybrown",
          "width": 3
         },
         "lon": [
          -119.1392972972973,
          -119.66257142857141
         ],
         "mode": "lines",
         "opacity": 0.8,
         "type": "scattermapbox"
        },
        {
         "lat": [
          46.00853243243243,
          43.884603773584885
         ],
         "line": {
          "color": "rosybrown",
          "width": 3
         },
         "lon": [
          -119.1392972972973,
          -116.46432075471697
         ],
         "mode": "lines",
         "opacity": 0.8,
         "type": "scattermapbox"
        },
        {
         "lat": [
          46.201475,
          43.884603773584885
         ],
         "line": {
          "color": "rosybrown",
          "width": 3
         },
         "lon": [
          -118.14337499999999,
          -116.46432075471697
         ],
         "mode": "lines",
         "opacity": 0.8,
         "type": "scattermapbox"
        },
        {
         "lat": [
          46.76329047619048,
          47.70271111111111
         ],
         "line": {
          "color": "rosybrown",
          "width": 3
         },
         "lon": [
          -120.4458095238095,
          -120.28122222222221
         ],
         "mode": "lines",
         "opacity": 0.8,
         "type": "scattermapbox"
        },
        {
         "lat": [
          46.76329047619048,
          48.11697692307692
         ],
         "line": {
          "color": "rosybrown",
          "width": 3
         },
         "lon": [
          -120.4458095238095,
          -119.68223076923078
         ],
         "mode": "lines",
         "opacity": 0.8,
         "type": "scattermapbox"
        },
        {
         "lat": [
          46.76329047619048,
          47.153645454545455
         ],
         "line": {
          "color": "rosybrown",
          "width": 3
         },
         "lon": [
          -120.4458095238095,
          -119.4911818181818
         ],
         "mode": "lines",
         "opacity": 0.8,
         "type": "scattermapbox"
        },
        {
         "lat": [
          47.7797375,
          46.62420740740741
         ],
         "line": {
          "color": "rosybrown",
          "width": 3
         },
         "lon": [
          -114.27487500000001,
          -111.14702777777777
         ],
         "mode": "lines",
         "opacity": 0.8,
         "type": "scattermapbox"
        },
        {
         "lat": [
          47.70271111111111,
          48.11697692307692
         ],
         "line": {
          "color": "rosybrown",
          "width": 3
         },
         "lon": [
          -120.28122222222221,
          -119.68223076923078
         ],
         "mode": "lines",
         "opacity": 0.8,
         "type": "scattermapbox"
        },
        {
         "lat": [
          37.84361180555556,
          38.53001555555556
         ],
         "line": {
          "color": "rosybrown",
          "width": 3
         },
         "lon": [
          -122.23822916666667,
          -122.67808888888891
         ],
         "mode": "lines",
         "opacity": 0.8,
         "type": "scattermapbox"
        },
        {
         "lat": [
          37.84361180555556,
          37.317671999999995
         ],
         "line": {
          "color": "rosybrown",
          "width": 3
         },
         "lon": [
          -122.23822916666667,
          -121.94274399999996
         ],
         "mode": "lines",
         "opacity": 0.8,
         "type": "scattermapbox"
        },
        {
         "lat": [
          37.84361180555556,
          38.77952051282051
         ],
         "line": {
          "color": "rosybrown",
          "width": 3
         },
         "lon": [
          -122.23822916666667,
          -121.63976923076923
         ],
         "mode": "lines",
         "opacity": 0.8,
         "type": "scattermapbox"
        },
        {
         "lat": [
          37.84361180555556,
          37.986842857142854
         ],
         "line": {
          "color": "rosybrown",
          "width": 3
         },
         "lon": [
          -122.23822916666667,
          -121.58690000000001
         ],
         "mode": "lines",
         "opacity": 0.8,
         "type": "scattermapbox"
        },
        {
         "lat": [
          37.84361180555556,
          38.282210194444446
         ],
         "line": {
          "color": "rosybrown",
          "width": 3
         },
         "lon": [
          -122.23822916666667,
          -120.65343600925925
         ],
         "mode": "lines",
         "opacity": 0.8,
         "type": "scattermapbox"
        },
        {
         "lat": [
          36.615154545454544,
          35.34083617021277
         ],
         "line": {
          "color": "rosybrown",
          "width": 3
         },
         "lon": [
          -119.87105454545456,
          -119.16953191489364
         ],
         "mode": "lines",
         "opacity": 0.8,
         "type": "scattermapbox"
        },
        {
         "lat": [
          36.615154545454544,
          36.787957142857145
         ],
         "line": {
          "color": "rosybrown",
          "width": 3
         },
         "lon": [
          -119.87105454545456,
          -119.10542857142856
         ],
         "mode": "lines",
         "opacity": 0.8,
         "type": "scattermapbox"
        },
        {
         "lat": [
          36.615154545454544,
          36.74811714285715
         ],
         "line": {
          "color": "rosybrown",
          "width": 3
         },
         "lon": [
          -119.87105454545456,
          -121.24422857142856
         ],
         "mode": "lines",
         "opacity": 0.8,
         "type": "scattermapbox"
        },
        {
         "lat": [
          36.615154545454544,
          35.163252941176474
         ],
         "line": {
          "color": "rosybrown",
          "width": 3
         },
         "lon": [
          -119.87105454545456,
          -120.52264705882354
         ],
         "mode": "lines",
         "opacity": 0.8,
         "type": "scattermapbox"
        },
        {
         "lat": [
          36.615154545454544,
          37.73881666666667
         ],
         "line": {
          "color": "rosybrown",
          "width": 3
         },
         "lon": [
          -119.87105454545456,
          -120.31872222222222
         ],
         "mode": "lines",
         "opacity": 0.8,
         "type": "scattermapbox"
        },
        {
         "lat": [
          36.615154545454544,
          36.9924
         ],
         "line": {
          "color": "rosybrown",
          "width": 3
         },
         "lon": [
          -119.87105454545456,
          -119.53261538461538
         ],
         "mode": "lines",
         "opacity": 0.8,
         "type": "scattermapbox"
        },
        {
         "lat": [
          36.615154545454544,
          36.040104
         ],
         "line": {
          "color": "rosybrown",
          "width": 3
         },
         "lon": [
          -119.87105454545456,
          -119.16888
         ],
         "mode": "lines",
         "opacity": 0.8,
         "type": "scattermapbox"
        },
        {
         "lat": [
          36.615154545454544,
          37.50101578947368
         ],
         "line": {
          "color": "rosybrown",
          "width": 3
         },
         "lon": [
          -119.87105454545456,
          -120.88726315789475
         ],
         "mode": "lines",
         "opacity": 0.8,
         "type": "scattermapbox"
        },
        {
         "lat": [
          35.34083617021277,
          36.74811714285715
         ],
         "line": {
          "color": "rosybrown",
          "width": 3
         },
         "lon": [
          -119.16953191489364,
          -121.24422857142856
         ],
         "mode": "lines",
         "opacity": 0.8,
         "type": "scattermapbox"
        },
        {
         "lat": [
          35.34083617021277,
          35.163252941176474
         ],
         "line": {
          "color": "rosybrown",
          "width": 3
         },
         "lon": [
          -119.16953191489364,
          -120.52264705882354
         ],
         "mode": "lines",
         "opacity": 0.8,
         "type": "scattermapbox"
        },
        {
         "lat": [
          35.34083617021277,
          34.349108928571425
         ],
         "line": {
          "color": "rosybrown",
          "width": 3
         },
         "lon": [
          -119.16953191489364,
          -118.58985714285714
         ],
         "mode": "lines",
         "opacity": 0.8,
         "type": "scattermapbox"
        },
        {
         "lat": [
          35.34083617021277,
          36.040104
         ],
         "line": {
          "color": "rosybrown",
          "width": 3
         },
         "lon": [
          -119.16953191489364,
          -119.16888
         ],
         "mode": "lines",
         "opacity": 0.8,
         "type": "scattermapbox"
        },
        {
         "lat": [
          35.34083617021277,
          34.96075365853658
         ],
         "line": {
          "color": "rosybrown",
          "width": 3
         },
         "lon": [
          -119.16953191489364,
          -118.26878048780486
         ],
         "mode": "lines",
         "opacity": 0.8,
         "type": "scattermapbox"
        },
        {
         "lat": [
          35.34083617021277,
          34.299835
         ],
         "line": {
          "color": "rosybrown",
          "width": 3
         },
         "lon": [
          -119.16953191489364,
          -119.2743
         ],
         "mode": "lines",
         "opacity": 0.8,
         "type": "scattermapbox"
        },
        {
         "lat": [
          38.53001555555556,
          38.77952051282051
         ],
         "line": {
          "color": "rosybrown",
          "width": 3
         },
         "lon": [
          -122.67808888888891,
          -121.63976923076923
         ],
         "mode": "lines",
         "opacity": 0.8,
         "type": "scattermapbox"
        },
        {
         "lat": [
          38.53001555555556,
          37.986842857142854
         ],
         "line": {
          "color": "rosybrown",
          "width": 3
         },
         "lon": [
          -122.67808888888891,
          -121.58690000000001
         ],
         "mode": "lines",
         "opacity": 0.8,
         "type": "scattermapbox"
        },
        {
         "lat": [
          38.53001555555556,
          39.461022222222226
         ],
         "line": {
          "color": "rosybrown",
          "width": 3
         },
         "lon": [
          -122.67808888888891,
          -123.41822222222221
         ],
         "mode": "lines",
         "opacity": 0.8,
         "type": "scattermapbox"
        },
        {
         "lat": [
          38.53001555555556,
          39.62286818181818
         ],
         "line": {
          "color": "rosybrown",
          "width": 3
         },
         "lon": [
          -122.67808888888891,
          -121.7255909090909
         ],
         "mode": "lines",
         "opacity": 0.8,
         "type": "scattermapbox"
        },
        {
         "lat": [
          38.53001555555556,
          40.43733888888889
         ],
         "line": {
          "color": "rosybrown",
          "width": 3
         },
         "lon": [
          -122.67808888888891,
          -122.35572222222224
         ],
         "mode": "lines",
         "opacity": 0.8,
         "type": "scattermapbox"
        },
        {
         "lat": [
          38.53001555555556,
          38.282210194444446
         ],
         "line": {
          "color": "rosybrown",
          "width": 3
         },
         "lon": [
          -122.67808888888891,
          -120.65343600925925
         ],
         "mode": "lines",
         "opacity": 0.8,
         "type": "scattermapbox"
        },
        {
         "lat": [
          37.317671999999995,
          37.986842857142854
         ],
         "line": {
          "color": "rosybrown",
          "width": 3
         },
         "lon": [
          -121.94274399999996,
          -121.58690000000001
         ],
         "mode": "lines",
         "opacity": 0.8,
         "type": "scattermapbox"
        },
        {
         "lat": [
          37.317671999999995,
          36.74811714285715
         ],
         "line": {
          "color": "rosybrown",
          "width": 3
         },
         "lon": [
          -121.94274399999996,
          -121.24422857142856
         ],
         "mode": "lines",
         "opacity": 0.8,
         "type": "scattermapbox"
        },
        {
         "lat": [
          37.317671999999995,
          37.50101578947368
         ],
         "line": {
          "color": "rosybrown",
          "width": 3
         },
         "lon": [
          -121.94274399999996,
          -120.88726315789475
         ],
         "mode": "lines",
         "opacity": 0.8,
         "type": "scattermapbox"
        },
        {
         "lat": [
          37.317671999999995,
          38.282210194444446
         ],
         "line": {
          "color": "rosybrown",
          "width": 3
         },
         "lon": [
          -121.94274399999996,
          -120.65343600925925
         ],
         "mode": "lines",
         "opacity": 0.8,
         "type": "scattermapbox"
        },
        {
         "lat": [
          39.15674210526316,
          38.77952051282051
         ],
         "line": {
          "color": "rosybrown",
          "width": 3
         },
         "lon": [
          -121.0671052631579,
          -121.63976923076923
         ],
         "mode": "lines",
         "opacity": 0.8,
         "type": "scattermapbox"
        },
        {
         "lat": [
          39.15674210526316,
          39.62286818181818
         ],
         "line": {
          "color": "rosybrown",
          "width": 3
         },
         "lon": [
          -121.0671052631579,
          -121.7255909090909
         ],
         "mode": "lines",
         "opacity": 0.8,
         "type": "scattermapbox"
        },
        {
         "lat": [
          39.15674210526316,
          40.104642857142856
         ],
         "line": {
          "color": "rosybrown",
          "width": 3
         },
         "lon": [
          -121.0671052631579,
          -120.85964285714286
         ],
         "mode": "lines",
         "opacity": 0.8,
         "type": "scattermapbox"
        },
        {
         "lat": [
          39.15674210526316,
          38.725603703703705
         ],
         "line": {
          "color": "rosybrown",
          "width": 3
         },
         "lon": [
          -121.0671052631579,
          -120.56933333333333
         ],
         "mode": "lines",
         "opacity": 0.8,
         "type": "scattermapbox"
        },
        {
         "lat": [
          38.77952051282051,
          37.986842857142854
         ],
         "line": {
          "color": "rosybrown",
          "width": 3
         },
         "lon": [
          -121.63976923076923,
          -121.58690000000001
         ],
         "mode": "lines",
         "opacity": 0.8,
         "type": "scattermapbox"
        },
        {
         "lat": [
          38.77952051282051,
          39.62286818181818
         ],
         "line": {
          "color": "rosybrown",
          "width": 3
         },
         "lon": [
          -121.63976923076923,
          -121.7255909090909
         ],
         "mode": "lines",
         "opacity": 0.8,
         "type": "scattermapbox"
        },
        {
         "lat": [
          38.77952051282051,
          40.104642857142856
         ],
         "line": {
          "color": "rosybrown",
          "width": 3
         },
         "lon": [
          -121.63976923076923,
          -120.85964285714286
         ],
         "mode": "lines",
         "opacity": 0.8,
         "type": "scattermapbox"
        },
        {
         "lat": [
          38.77952051282051,
          40.43733888888889
         ],
         "line": {
          "color": "rosybrown",
          "width": 3
         },
         "lon": [
          -121.63976923076923,
          -122.35572222222224
         ],
         "mode": "lines",
         "opacity": 0.8,
         "type": "scattermapbox"
        },
        {
         "lat": [
          37.986842857142854,
          39.62286818181818
         ],
         "line": {
          "color": "rosybrown",
          "width": 3
         },
         "lon": [
          -121.58690000000001,
          -121.7255909090909
         ],
         "mode": "lines",
         "opacity": 0.8,
         "type": "scattermapbox"
        },
        {
         "lat": [
          37.986842857142854,
          38.725603703703705
         ],
         "line": {
          "color": "rosybrown",
          "width": 3
         },
         "lon": [
          -121.58690000000001,
          -120.56933333333333
         ],
         "mode": "lines",
         "opacity": 0.8,
         "type": "scattermapbox"
        },
        {
         "lat": [
          37.986842857142854,
          37.50101578947368
         ],
         "line": {
          "color": "rosybrown",
          "width": 3
         },
         "lon": [
          -121.58690000000001,
          -120.88726315789475
         ],
         "mode": "lines",
         "opacity": 0.8,
         "type": "scattermapbox"
        },
        {
         "lat": [
          37.986842857142854,
          38.282210194444446
         ],
         "line": {
          "color": "rosybrown",
          "width": 3
         },
         "lon": [
          -121.58690000000001,
          -120.65343600925925
         ],
         "mode": "lines",
         "opacity": 0.8,
         "type": "scattermapbox"
        },
        {
         "lat": [
          40.87992857142857,
          39.62286818181818
         ],
         "line": {
          "color": "rosybrown",
          "width": 3
         },
         "lon": [
          -121.79014285714287,
          -121.7255909090909
         ],
         "mode": "lines",
         "opacity": 0.8,
         "type": "scattermapbox"
        },
        {
         "lat": [
          40.87992857142857,
          40.104642857142856
         ],
         "line": {
          "color": "rosybrown",
          "width": 3
         },
         "lon": [
          -121.79014285714287,
          -120.85964285714286
         ],
         "mode": "lines",
         "opacity": 0.8,
         "type": "scattermapbox"
        },
        {
         "lat": [
          40.87992857142857,
          40.43733888888889
         ],
         "line": {
          "color": "rosybrown",
          "width": 3
         },
         "lon": [
          -121.79014285714287,
          -122.35572222222224
         ],
         "mode": "lines",
         "opacity": 0.8,
         "type": "scattermapbox"
        },
        {
         "lat": [
          40.87992857142857,
          42.50423285714286
         ],
         "line": {
          "color": "rosybrown",
          "width": 3
         },
         "lon": [
          -121.79014285714287,
          -122.86985714285713
         ],
         "mode": "lines",
         "opacity": 0.8,
         "type": "scattermapbox"
        },
        {
         "lat": [
          36.787957142857145,
          36.9924
         ],
         "line": {
          "color": "rosybrown",
          "width": 3
         },
         "lon": [
          -119.10542857142856,
          -119.53261538461538
         ],
         "mode": "lines",
         "opacity": 0.8,
         "type": "scattermapbox"
        },
        {
         "lat": [
          36.787957142857145,
          37.342181818181814
         ],
         "line": {
          "color": "rosybrown",
          "width": 3
         },
         "lon": [
          -119.10542857142856,
          -118.96763636363636
         ],
         "mode": "lines",
         "opacity": 0.8,
         "type": "scattermapbox"
        },
        {
         "lat": [
          36.787957142857145,
          36.040104
         ],
         "line": {
          "color": "rosybrown",
          "width": 3
         },
         "lon": [
          -119.10542857142856,
          -119.16888
         ],
         "mode": "lines",
         "opacity": 0.8,
         "type": "scattermapbox"
        },
        {
         "lat": [
          36.787957142857145,
          34.96075365853658
         ],
         "line": {
          "color": "rosybrown",
          "width": 3
         },
         "lon": [
          -119.10542857142856,
          -118.26878048780486
         ],
         "mode": "lines",
         "opacity": 0.8,
         "type": "scattermapbox"
        },
        {
         "lat": [
          36.787957142857145,
          39.39854310344828
         ],
         "line": {
          "color": "rosybrown",
          "width": 3
         },
         "lon": [
          -119.10542857142856,
          -119.57694827586207
         ],
         "mode": "lines",
         "opacity": 0.8,
         "type": "scattermapbox"
        },
        {
         "lat": [
          39.461022222222226,
          40.82785
         ],
         "line": {
          "color": "rosybrown",
          "width": 3
         },
         "lon": [
          -123.41822222222221,
          -124.092375
         ],
         "mode": "lines",
         "opacity": 0.8,
         "type": "scattermapbox"
        },
        {
         "lat": [
          39.461022222222226,
          38.282210194444446
         ],
         "line": {
          "color": "rosybrown",
          "width": 3
         },
         "lon": [
          -123.41822222222221,
          -120.65343600925925
         ],
         "mode": "lines",
         "opacity": 0.8,
         "type": "scattermapbox"
        },
        {
         "lat": [
          39.62286818181818,
          40.104642857142856
         ],
         "line": {
          "color": "rosybrown",
          "width": 3
         },
         "lon": [
          -121.7255909090909,
          -120.85964285714286
         ],
         "mode": "lines",
         "opacity": 0.8,
         "type": "scattermapbox"
        },
        {
         "lat": [
          39.62286818181818,
          40.43733888888889
         ],
         "line": {
          "color": "rosybrown",
          "width": 3
         },
         "lon": [
          -121.7255909090909,
          -122.35572222222224
         ],
         "mode": "lines",
         "opacity": 0.8,
         "type": "scattermapbox"
        },
        {
         "lat": [
          39.62286818181818,
          38.725603703703705
         ],
         "line": {
          "color": "rosybrown",
          "width": 3
         },
         "lon": [
          -121.7255909090909,
          -120.56933333333333
         ],
         "mode": "lines",
         "opacity": 0.8,
         "type": "scattermapbox"
        },
        {
         "lat": [
          39.62286818181818,
          39.39854310344828
         ],
         "line": {
          "color": "rosybrown",
          "width": 3
         },
         "lon": [
          -121.7255909090909,
          -119.57694827586207
         ],
         "mode": "lines",
         "opacity": 0.8,
         "type": "scattermapbox"
        },
        {
         "lat": [
          39.62286818181818,
          42.50423285714286
         ],
         "line": {
          "color": "rosybrown",
          "width": 3
         },
         "lon": [
          -121.7255909090909,
          -122.86985714285713
         ],
         "mode": "lines",
         "opacity": 0.8,
         "type": "scattermapbox"
        },
        {
         "lat": [
          40.104642857142856,
          40.43733888888889
         ],
         "line": {
          "color": "rosybrown",
          "width": 3
         },
         "lon": [
          -120.85964285714286,
          -122.35572222222224
         ],
         "mode": "lines",
         "opacity": 0.8,
         "type": "scattermapbox"
        },
        {
         "lat": [
          40.104642857142856,
          39.39854310344828
         ],
         "line": {
          "color": "rosybrown",
          "width": 3
         },
         "lon": [
          -120.85964285714286,
          -119.57694827586207
         ],
         "mode": "lines",
         "opacity": 0.8,
         "type": "scattermapbox"
        },
        {
         "lat": [
          36.74811714285715,
          35.163252941176474
         ],
         "line": {
          "color": "rosybrown",
          "width": 3
         },
         "lon": [
          -121.24422857142856,
          -120.52264705882354
         ],
         "mode": "lines",
         "opacity": 0.8,
         "type": "scattermapbox"
        },
        {
         "lat": [
          36.74811714285715,
          37.73881666666667
         ],
         "line": {
          "color": "rosybrown",
          "width": 3
         },
         "lon": [
          -121.24422857142856,
          -120.31872222222222
         ],
         "mode": "lines",
         "opacity": 0.8,
         "type": "scattermapbox"
        },
        {
         "lat": [
          36.74811714285715,
          37.50101578947368
         ],
         "line": {
          "color": "rosybrown",
          "width": 3
         },
         "lon": [
          -121.24422857142856,
          -120.88726315789475
         ],
         "mode": "lines",
         "opacity": 0.8,
         "type": "scattermapbox"
        },
        {
         "lat": [
          36.74811714285715,
          38.282210194444446
         ],
         "line": {
          "color": "rosybrown",
          "width": 3
         },
         "lon": [
          -121.24422857142856,
          -120.65343600925925
         ],
         "mode": "lines",
         "opacity": 0.8,
         "type": "scattermapbox"
        },
        {
         "lat": [
          40.43733888888889,
          40.82785
         ],
         "line": {
          "color": "rosybrown",
          "width": 3
         },
         "lon": [
          -122.35572222222224,
          -124.092375
         ],
         "mode": "lines",
         "opacity": 0.8,
         "type": "scattermapbox"
        },
        {
         "lat": [
          40.43733888888889,
          42.50423285714286
         ],
         "line": {
          "color": "rosybrown",
          "width": 3
         },
         "lon": [
          -122.35572222222224,
          -122.86985714285713
         ],
         "mode": "lines",
         "opacity": 0.8,
         "type": "scattermapbox"
        },
        {
         "lat": [
          38.725603703703705,
          37.73881666666667
         ],
         "line": {
          "color": "rosybrown",
          "width": 3
         },
         "lon": [
          -120.56933333333333,
          -120.31872222222222
         ],
         "mode": "lines",
         "opacity": 0.8,
         "type": "scattermapbox"
        },
        {
         "lat": [
          38.725603703703705,
          36.9924
         ],
         "line": {
          "color": "rosybrown",
          "width": 3
         },
         "lon": [
          -120.56933333333333,
          -119.53261538461538
         ],
         "mode": "lines",
         "opacity": 0.8,
         "type": "scattermapbox"
        },
        {
         "lat": [
          38.725603703703705,
          39.39854310344828
         ],
         "line": {
          "color": "rosybrown",
          "width": 3
         },
         "lon": [
          -120.56933333333333,
          -119.57694827586207
         ],
         "mode": "lines",
         "opacity": 0.8,
         "type": "scattermapbox"
        },
        {
         "lat": [
          35.163252941176474,
          34.299835
         ],
         "line": {
          "color": "rosybrown",
          "width": 3
         },
         "lon": [
          -120.52264705882354,
          -119.2743
         ],
         "mode": "lines",
         "opacity": 0.8,
         "type": "scattermapbox"
        },
        {
         "lat": [
          35.163252941176474,
          38.282210194444446
         ],
         "line": {
          "color": "rosybrown",
          "width": 3
         },
         "lon": [
          -120.52264705882354,
          -120.65343600925925
         ],
         "mode": "lines",
         "opacity": 0.8,
         "type": "scattermapbox"
        },
        {
         "lat": [
          40.82785,
          40.837543
         ],
         "line": {
          "color": "rosybrown",
          "width": 3
         },
         "lon": [
          -124.092375,
          -124.511234
         ],
         "mode": "lines",
         "opacity": 0.8,
         "type": "scattermapbox"
        },
        {
         "lat": [
          40.82785,
          42.50423285714286
         ],
         "line": {
          "color": "rosybrown",
          "width": 3
         },
         "lon": [
          -124.092375,
          -122.86985714285713
         ],
         "mode": "lines",
         "opacity": 0.8,
         "type": "scattermapbox"
        },
        {
         "lat": [
          40.82785,
          38.282210194444446
         ],
         "line": {
          "color": "rosybrown",
          "width": 3
         },
         "lon": [
          -124.092375,
          -120.65343600925925
         ],
         "mode": "lines",
         "opacity": 0.8,
         "type": "scattermapbox"
        },
        {
         "lat": [
          37.73881666666667,
          36.9924
         ],
         "line": {
          "color": "rosybrown",
          "width": 3
         },
         "lon": [
          -120.31872222222222,
          -119.53261538461538
         ],
         "mode": "lines",
         "opacity": 0.8,
         "type": "scattermapbox"
        },
        {
         "lat": [
          37.73881666666667,
          37.50101578947368
         ],
         "line": {
          "color": "rosybrown",
          "width": 3
         },
         "lon": [
          -120.31872222222222,
          -120.88726315789475
         ],
         "mode": "lines",
         "opacity": 0.8,
         "type": "scattermapbox"
        },
        {
         "lat": [
          36.9924,
          37.342181818181814
         ],
         "line": {
          "color": "rosybrown",
          "width": 3
         },
         "lon": [
          -119.53261538461538,
          -118.96763636363636
         ],
         "mode": "lines",
         "opacity": 0.8,
         "type": "scattermapbox"
        },
        {
         "lat": [
          36.9924,
          36.040104
         ],
         "line": {
          "color": "rosybrown",
          "width": 3
         },
         "lon": [
          -119.53261538461538,
          -119.16888
         ],
         "mode": "lines",
         "opacity": 0.8,
         "type": "scattermapbox"
        },
        {
         "lat": [
          33.93598965517241,
          33.827774999999995
         ],
         "line": {
          "color": "rosybrown",
          "width": 3
         },
         "lon": [
          -116.53548275862067,
          -115.18400000000001
         ],
         "mode": "lines",
         "opacity": 0.8,
         "type": "scattermapbox"
        },
        {
         "lat": [
          33.93598965517241,
          33.7402375
         ],
         "line": {
          "color": "rosybrown",
          "width": 3
         },
         "lon": [
          -116.53548275862067,
          -117.16087499999999
         ],
         "mode": "lines",
         "opacity": 0.8,
         "type": "scattermapbox"
        },
        {
         "lat": [
          33.93598965517241,
          34.75992
         ],
         "line": {
          "color": "rosybrown",
          "width": 3
         },
         "lon": [
          -116.53548275862067,
          -117.29459999999999
         ],
         "mode": "lines",
         "opacity": 0.8,
         "type": "scattermapbox"
        },
        {
         "lat": [
          33.93598965517241,
          34.09793367346939
         ],
         "line": {
          "color": "rosybrown",
          "width": 3
         },
         "lon": [
          -116.53548275862067,
          -117.43873469387755
         ],
         "mode": "lines",
         "opacity": 0.8,
         "type": "scattermapbox"
        },
        {
         "lat": [
          33.93598965517241,
          33.16159347826086
         ],
         "line": {
          "color": "rosybrown",
          "width": 3
         },
         "lon": [
          -116.53548275862067,
          -115.7453695652174
         ],
         "mode": "lines",
         "opacity": 0.8,
         "type": "scattermapbox"
        },
        {
         "lat": [
          33.98371104651163,
          34.75992
         ],
         "line": {
          "color": "rosybrown",
          "width": 3
         },
         "lon": [
          -118.18170930232559,
          -117.29459999999999
         ],
         "mode": "lines",
         "opacity": 0.8,
         "type": "scattermapbox"
        },
        {
         "lat": [
          33.98371104651163,
          34.349108928571425
         ],
         "line": {
          "color": "rosybrown",
          "width": 3
         },
         "lon": [
          -118.18170930232559,
          -118.58985714285714
         ],
         "mode": "lines",
         "opacity": 0.8,
         "type": "scattermapbox"
        },
        {
         "lat": [
          33.98371104651163,
          34.96075365853658
         ],
         "line": {
          "color": "rosybrown",
          "width": 3
         },
         "lon": [
          -118.18170930232559,
          -118.26878048780486
         ],
         "mode": "lines",
         "opacity": 0.8,
         "type": "scattermapbox"
        },
        {
         "lat": [
          33.98371104651163,
          33.83699463087248
         ],
         "line": {
          "color": "rosybrown",
          "width": 3
         },
         "lon": [
          -118.18170930232559,
          -117.86893959731542
         ],
         "mode": "lines",
         "opacity": 0.8,
         "type": "scattermapbox"
        },
        {
         "lat": [
          33.98371104651163,
          34.075997101449275
         ],
         "line": {
          "color": "rosybrown",
          "width": 3
         },
         "lon": [
          -118.18170930232559,
          -118.29724637681157
         ],
         "mode": "lines",
         "opacity": 0.8,
         "type": "scattermapbox"
        },
        {
         "lat": [
          33.98371104651163,
          33.77478461538462
         ],
         "line": {
          "color": "rosybrown",
          "width": 3
         },
         "lon": [
          -118.18170930232559,
          -118.2673846153846
         ],
         "mode": "lines",
         "opacity": 0.8,
         "type": "scattermapbox"
        },
        {
         "lat": [
          33.98371104651163,
          34.16446956521738
         ],
         "line": {
          "color": "rosybrown",
          "width": 3
         },
         "lon": [
          -118.18170930232559,
          -118.46306521739132
         ],
         "mode": "lines",
         "opacity": 0.8,
         "type": "scattermapbox"
        },
        {
         "lat": [
          33.98371104651163,
          38.282210194444446
         ],
         "line": {
          "color": "rosybrown",
          "width": 3
         },
         "lon": [
          -118.18170930232559,
          -120.65343600925925
         ],
         "mode": "lines",
         "opacity": 0.8,
         "type": "scattermapbox"
        },
        {
         "lat": [
          35.813225,
          34.75992
         ],
         "line": {
          "color": "rosybrown",
          "width": 3
         },
         "lon": [
          -117.873625,
          -117.29459999999999
         ],
         "mode": "lines",
         "opacity": 0.8,
         "type": "scattermapbox"
        },
        {
         "lat": [
          35.813225,
          36.040104
         ],
         "line": {
          "color": "rosybrown",
          "width": 3
         },
         "lon": [
          -117.873625,
          -119.16888
         ],
         "mode": "lines",
         "opacity": 0.8,
         "type": "scattermapbox"
        },
        {
         "lat": [
          35.813225,
          34.96075365853658
         ],
         "line": {
          "color": "rosybrown",
          "width": 3
         },
         "lon": [
          -117.873625,
          -118.26878048780486
         ],
         "mode": "lines",
         "opacity": 0.8,
         "type": "scattermapbox"
        },
        {
         "lat": [
          33.827774999999995,
          32.852083050847455
         ],
         "line": {
          "color": "rosybrown",
          "width": 3
         },
         "lon": [
          -115.18400000000001,
          -117.08198305084746
         ],
         "mode": "lines",
         "opacity": 0.8,
         "type": "scattermapbox"
        },
        {
         "lat": [
          33.827774999999995,
          33.16159347826086
         ],
         "line": {
          "color": "rosybrown",
          "width": 3
         },
         "lon": [
          -115.18400000000001,
          -115.7453695652174
         ],
         "mode": "lines",
         "opacity": 0.8,
         "type": "scattermapbox"
        },
        {
         "lat": [
          33.827774999999995,
          34.340066666666665
         ],
         "line": {
          "color": "rosybrown",
          "width": 3
         },
         "lon": [
          -115.18400000000001,
          -114.48700000000001
         ],
         "mode": "lines",
         "opacity": 0.8,
         "type": "scattermapbox"
        },
        {
         "lat": [
          33.7402375,
          34.09793367346939
         ],
         "line": {
          "color": "rosybrown",
          "width": 3
         },
         "lon": [
          -117.16087499999999,
          -117.43873469387755
         ],
         "mode": "lines",
         "opacity": 0.8,
         "type": "scattermapbox"
        },
        {
         "lat": [
          33.7402375,
          33.83699463087248
         ],
         "line": {
          "color": "rosybrown",
          "width": 3
         },
         "lon": [
          -117.16087499999999,
          -117.86893959731542
         ],
         "mode": "lines",
         "opacity": 0.8,
         "type": "scattermapbox"
        },
        {
         "lat": [
          33.7402375,
          33.42087083333333
         ],
         "line": {
          "color": "rosybrown",
          "width": 3
         },
         "lon": [
          -117.16087499999999,
          -117.47137500000001
         ],
         "mode": "lines",
         "opacity": 0.8,
         "type": "scattermapbox"
        },
        {
         "lat": [
          34.75992,
          34.09793367346939
         ],
         "line": {
          "color": "rosybrown",
          "width": 3
         },
         "lon": [
          -117.29459999999999,
          -117.43873469387755
         ],
         "mode": "lines",
         "opacity": 0.8,
         "type": "scattermapbox"
        },
        {
         "lat": [
          34.75992,
          34.96075365853658
         ],
         "line": {
          "color": "rosybrown",
          "width": 3
         },
         "lon": [
          -117.29459999999999,
          -118.26878048780486
         ],
         "mode": "lines",
         "opacity": 0.8,
         "type": "scattermapbox"
        },
        {
         "lat": [
          34.75992,
          35.55666666666667
         ],
         "line": {
          "color": "rosybrown",
          "width": 3
         },
         "lon": [
          -117.29459999999999,
          -115.46833333333332
         ],
         "mode": "lines",
         "opacity": 0.8,
         "type": "scattermapbox"
        },
        {
         "lat": [
          34.75992,
          36.172562698412705
         ],
         "line": {
          "color": "rosybrown",
          "width": 3
         },
         "lon": [
          -117.29459999999999,
          -115.0824841269841
         ],
         "mode": "lines",
         "opacity": 0.8,
         "type": "scattermapbox"
        },
        {
         "lat": [
          34.349108928571425,
          34.96075365853658
         ],
         "line": {
          "color": "rosybrown",
          "width": 3
         },
         "lon": [
          -118.58985714285714,
          -118.26878048780486
         ],
         "mode": "lines",
         "opacity": 0.8,
         "type": "scattermapbox"
        },
        {
         "lat": [
          34.349108928571425,
          34.299835
         ],
         "line": {
          "color": "rosybrown",
          "width": 3
         },
         "lon": [
          -118.58985714285714,
          -119.2743
         ],
         "mode": "lines",
         "opacity": 0.8,
         "type": "scattermapbox"
        },
        {
         "lat": [
          34.349108928571425,
          33.83699463087248
         ],
         "line": {
          "color": "rosybrown",
          "width": 3
         },
         "lon": [
          -118.58985714285714,
          -117.86893959731542
         ],
         "mode": "lines",
         "opacity": 0.8,
         "type": "scattermapbox"
        },
        {
         "lat": [
          34.349108928571425,
          34.075997101449275
         ],
         "line": {
          "color": "rosybrown",
          "width": 3
         },
         "lon": [
          -118.58985714285714,
          -118.29724637681157
         ],
         "mode": "lines",
         "opacity": 0.8,
         "type": "scattermapbox"
        },
        {
         "lat": [
          34.349108928571425,
          34.16446956521738
         ],
         "line": {
          "color": "rosybrown",
          "width": 3
         },
         "lon": [
          -118.58985714285714,
          -118.46306521739132
         ],
         "mode": "lines",
         "opacity": 0.8,
         "type": "scattermapbox"
        },
        {
         "lat": [
          34.349108928571425,
          38.282210194444446
         ],
         "line": {
          "color": "rosybrown",
          "width": 3
         },
         "lon": [
          -118.58985714285714,
          -120.65343600925925
         ],
         "mode": "lines",
         "opacity": 0.8,
         "type": "scattermapbox"
        },
        {
         "lat": [
          34.09793367346939,
          33.83699463087248
         ],
         "line": {
          "color": "rosybrown",
          "width": 3
         },
         "lon": [
          -117.43873469387755,
          -117.86893959731542
         ],
         "mode": "lines",
         "opacity": 0.8,
         "type": "scattermapbox"
        },
        {
         "lat": [
          34.09793367346939,
          38.282210194444446
         ],
         "line": {
          "color": "rosybrown",
          "width": 3
         },
         "lon": [
          -117.43873469387755,
          -120.65343600925925
         ],
         "mode": "lines",
         "opacity": 0.8,
         "type": "scattermapbox"
        },
        {
         "lat": [
          36.040104,
          34.96075365853658
         ],
         "line": {
          "color": "rosybrown",
          "width": 3
         },
         "lon": [
          -119.16888,
          -118.26878048780486
         ],
         "mode": "lines",
         "opacity": 0.8,
         "type": "scattermapbox"
        },
        {
         "lat": [
          34.96075365853658,
          34.075997101449275
         ],
         "line": {
          "color": "rosybrown",
          "width": 3
         },
         "lon": [
          -118.26878048780486,
          -118.29724637681157
         ],
         "mode": "lines",
         "opacity": 0.8,
         "type": "scattermapbox"
        },
        {
         "lat": [
          34.96075365853658,
          34.16446956521738
         ],
         "line": {
          "color": "rosybrown",
          "width": 3
         },
         "lon": [
          -118.26878048780486,
          -118.46306521739132
         ],
         "mode": "lines",
         "opacity": 0.8,
         "type": "scattermapbox"
        },
        {
         "lat": [
          34.299835,
          34.075997101449275
         ],
         "line": {
          "color": "rosybrown",
          "width": 3
         },
         "lon": [
          -119.2743,
          -118.29724637681157
         ],
         "mode": "lines",
         "opacity": 0.8,
         "type": "scattermapbox"
        },
        {
         "lat": [
          34.299835,
          38.282210194444446
         ],
         "line": {
          "color": "rosybrown",
          "width": 3
         },
         "lon": [
          -119.2743,
          -120.65343600925925
         ],
         "mode": "lines",
         "opacity": 0.8,
         "type": "scattermapbox"
        },
        {
         "lat": [
          33.83699463087248,
          33.42087083333333
         ],
         "line": {
          "color": "rosybrown",
          "width": 3
         },
         "lon": [
          -117.86893959731542,
          -117.47137500000001
         ],
         "mode": "lines",
         "opacity": 0.8,
         "type": "scattermapbox"
        },
        {
         "lat": [
          33.83699463087248,
          38.282210194444446
         ],
         "line": {
          "color": "rosybrown",
          "width": 3
         },
         "lon": [
          -117.86893959731542,
          -120.65343600925925
         ],
         "mode": "lines",
         "opacity": 0.8,
         "type": "scattermapbox"
        },
        {
         "lat": [
          35.55666666666667,
          36.172562698412705
         ],
         "line": {
          "color": "rosybrown",
          "width": 3
         },
         "lon": [
          -115.46833333333332,
          -115.0824841269841
         ],
         "mode": "lines",
         "opacity": 0.8,
         "type": "scattermapbox"
        },
        {
         "lat": [
          33.42087083333333,
          32.852083050847455
         ],
         "line": {
          "color": "rosybrown",
          "width": 3
         },
         "lon": [
          -117.47137500000001,
          -117.08198305084746
         ],
         "mode": "lines",
         "opacity": 0.8,
         "type": "scattermapbox"
        },
        {
         "lat": [
          33.42087083333333,
          38.282210194444446
         ],
         "line": {
          "color": "rosybrown",
          "width": 3
         },
         "lon": [
          -117.47137500000001,
          -120.65343600925925
         ],
         "mode": "lines",
         "opacity": 0.8,
         "type": "scattermapbox"
        },
        {
         "lat": [
          32.852083050847455,
          33.16159347826086
         ],
         "line": {
          "color": "rosybrown",
          "width": 3
         },
         "lon": [
          -117.08198305084746,
          -115.7453695652174
         ],
         "mode": "lines",
         "opacity": 0.8,
         "type": "scattermapbox"
        },
        {
         "lat": [
          32.852083050847455,
          38.282210194444446
         ],
         "line": {
          "color": "rosybrown",
          "width": 3
         },
         "lon": [
          -117.08198305084746,
          -120.65343600925925
         ],
         "mode": "lines",
         "opacity": 0.8,
         "type": "scattermapbox"
        },
        {
         "lat": [
          36.404720000000005,
          36.172562698412705
         ],
         "line": {
          "color": "rosybrown",
          "width": 3
         },
         "lon": [
          -116.2266,
          -115.0824841269841
         ],
         "mode": "lines",
         "opacity": 0.8,
         "type": "scattermapbox"
        },
        {
         "lat": [
          48.11697692307692,
          47.153645454545455
         ],
         "line": {
          "color": "rosybrown",
          "width": 3
         },
         "lon": [
          -119.68223076923078,
          -119.4911818181818
         ],
         "mode": "lines",
         "opacity": 0.8,
         "type": "scattermapbox"
        },
        {
         "lat": [
          48.11697692307692,
          48.67661785714285
         ],
         "line": {
          "color": "rosybrown",
          "width": 3
         },
         "lon": [
          -119.68223076923078,
          -122.24942857142857
         ],
         "mode": "lines",
         "opacity": 0.8,
         "type": "scattermapbox"
        },
        {
         "lat": [
          31.988443661971832,
          35.07218153846155
         ],
         "line": {
          "color": "rosybrown",
          "width": 3
         },
         "lon": [
          -106.40547887323943,
          -107.02026153846154
         ],
         "mode": "lines",
         "opacity": 0.8,
         "type": "scattermapbox"
        },
        {
         "lat": [
          31.988443661971832,
          38.282210194444446
         ],
         "line": {
          "color": "rosybrown",
          "width": 3
         },
         "lon": [
          -106.40547887323943,
          -120.65343600925925
         ],
         "mode": "lines",
         "opacity": 0.8,
         "type": "scattermapbox"
        },
        {
         "lat": [
          33.16159347826086,
          38.282210194444446
         ],
         "line": {
          "color": "rosybrown",
          "width": 3
         },
         "lon": [
          -115.7453695652174,
          -120.65343600925925
         ],
         "mode": "lines",
         "opacity": 0.8,
         "type": "scattermapbox"
        },
        {
         "lat": [
          43.884603773584885,
          42.94182619047619
         ],
         "line": {
          "color": "rosybrown",
          "width": 3
         },
         "lon": [
          -116.46432075471697,
          -114.57604761904761
         ],
         "mode": "lines",
         "opacity": 0.8,
         "type": "scattermapbox"
        },
        {
         "lat": [
          43.884603773584885,
          46.62420740740741
         ],
         "line": {
          "color": "rosybrown",
          "width": 3
         },
         "lon": [
          -116.46432075471697,
          -111.14702777777777
         ],
         "mode": "lines",
         "opacity": 0.8,
         "type": "scattermapbox"
        },
        {
         "lat": [
          42.94182619047619,
          46.62420740740741
         ],
         "line": {
          "color": "rosybrown",
          "width": 3
         },
         "lon": [
          -114.57604761904761,
          -111.14702777777777
         ],
         "mode": "lines",
         "opacity": 0.8,
         "type": "scattermapbox"
        },
        {
         "lat": [
          42.94182619047619,
          40.88795555555555
         ],
         "line": {
          "color": "rosybrown",
          "width": 3
         },
         "lon": [
          -114.57604761904761,
          -115.17844444444444
         ],
         "mode": "lines",
         "opacity": 0.8,
         "type": "scattermapbox"
        },
        {
         "lat": [
          42.94182619047619,
          42.77879848484848
         ],
         "line": {
          "color": "rosybrown",
          "width": 3
         },
         "lon": [
          -114.57604761904761,
          -111.75784848484848
         ],
         "mode": "lines",
         "opacity": 0.8,
         "type": "scattermapbox"
        },
        {
         "lat": [
          34.075997101449275,
          33.77478461538462
         ],
         "line": {
          "color": "rosybrown",
          "width": 3
         },
         "lon": [
          -118.29724637681157,
          -118.2673846153846
         ],
         "mode": "lines",
         "opacity": 0.8,
         "type": "scattermapbox"
        },
        {
         "lat": [
          34.075997101449275,
          34.16446956521738
         ],
         "line": {
          "color": "rosybrown",
          "width": 3
         },
         "lon": [
          -118.29724637681157,
          -118.46306521739132
         ],
         "mode": "lines",
         "opacity": 0.8,
         "type": "scattermapbox"
        },
        {
         "lat": [
          34.075997101449275,
          38.282210194444446
         ],
         "line": {
          "color": "rosybrown",
          "width": 3
         },
         "lon": [
          -118.29724637681157,
          -120.65343600925925
         ],
         "mode": "lines",
         "opacity": 0.8,
         "type": "scattermapbox"
        },
        {
         "lat": [
          33.77478461538462,
          38.282210194444446
         ],
         "line": {
          "color": "rosybrown",
          "width": 3
         },
         "lon": [
          -118.2673846153846,
          -120.65343600925925
         ],
         "mode": "lines",
         "opacity": 0.8,
         "type": "scattermapbox"
        },
        {
         "lat": [
          34.16446956521738,
          38.282210194444446
         ],
         "line": {
          "color": "rosybrown",
          "width": 3
         },
         "lon": [
          -118.46306521739132,
          -120.65343600925925
         ],
         "mode": "lines",
         "opacity": 0.8,
         "type": "scattermapbox"
        },
        {
         "lat": [
          46.6394,
          46.62420740740741
         ],
         "line": {
          "color": "rosybrown",
          "width": 3
         },
         "lon": [
          -106.64900000000002,
          -111.14702777777777
         ],
         "mode": "lines",
         "opacity": 0.8,
         "type": "scattermapbox"
        },
        {
         "lat": [
          46.6394,
          38.282210194444446
         ],
         "line": {
          "color": "rosybrown",
          "width": 3
         },
         "lon": [
          -106.64900000000002,
          -120.65343600925925
         ],
         "mode": "lines",
         "opacity": 0.8,
         "type": "scattermapbox"
        },
        {
         "lat": [
          46.6394,
          43.61972424242424
         ],
         "line": {
          "color": "rosybrown",
          "width": 3
         },
         "lon": [
          -106.64900000000002,
          -105.85318181818181
         ],
         "mode": "lines",
         "opacity": 0.8,
         "type": "scattermapbox"
        },
        {
         "lat": [
          46.62420740740741,
          43.05154666666667
         ],
         "line": {
          "color": "rosybrown",
          "width": 3
         },
         "lon": [
          -111.14702777777777,
          -107.66606666666668
         ],
         "mode": "lines",
         "opacity": 0.8,
         "type": "scattermapbox"
        },
        {
         "lat": [
          46.62420740740741,
          42.77879848484848
         ],
         "line": {
          "color": "rosybrown",
          "width": 3
         },
         "lon": [
          -111.14702777777777,
          -111.75784848484848
         ],
         "mode": "lines",
         "opacity": 0.8,
         "type": "scattermapbox"
        },
        {
         "lat": [
          46.62420740740741,
          38.282210194444446
         ],
         "line": {
          "color": "rosybrown",
          "width": 3
         },
         "lon": [
          -111.14702777777777,
          -120.65343600925925
         ],
         "mode": "lines",
         "opacity": 0.8,
         "type": "scattermapbox"
        },
        {
         "lat": [
          46.62420740740741,
          43.61972424242424
         ],
         "line": {
          "color": "rosybrown",
          "width": 3
         },
         "lon": [
          -111.14702777777777,
          -105.85318181818181
         ],
         "mode": "lines",
         "opacity": 0.8,
         "type": "scattermapbox"
        },
        {
         "lat": [
          35.780878,
          38.282210194444446
         ],
         "line": {
          "color": "rosybrown",
          "width": 3
         },
         "lon": [
          -121.753665,
          -120.65343600925925
         ],
         "mode": "lines",
         "opacity": 0.8,
         "type": "scattermapbox"
        },
        {
         "lat": [
          36.172562698412705,
          40.249224999999996
         ],
         "line": {
          "color": "rosybrown",
          "width": 3
         },
         "lon": [
          -115.0824841269841,
          -117.21737499999999
         ],
         "mode": "lines",
         "opacity": 0.8,
         "type": "scattermapbox"
        },
        {
         "lat": [
          36.172562698412705,
          40.02151282051282
         ],
         "line": {
          "color": "rosybrown",
          "width": 3
         },
         "lon": [
          -115.0824841269841,
          -112.00714358974359
         ],
         "mode": "lines",
         "opacity": 0.8,
         "type": "scattermapbox"
        },
        {
         "lat": [
          36.172562698412705,
          34.340066666666665
         ],
         "line": {
          "color": "rosybrown",
          "width": 3
         },
         "lon": [
          -115.0824841269841,
          -114.48700000000001
         ],
         "mode": "lines",
         "opacity": 0.8,
         "type": "scattermapbox"
        },
        {
         "lat": [
          39.39854310344828,
          40.249224999999996
         ],
         "line": {
          "color": "rosybrown",
          "width": 3
         },
         "lon": [
          -119.57694827586207,
          -117.21737499999999
         ],
         "mode": "lines",
         "opacity": 0.8,
         "type": "scattermapbox"
        },
        {
         "lat": [
          40.249224999999996,
          40.88795555555555
         ],
         "line": {
          "color": "rosybrown",
          "width": 3
         },
         "lon": [
          -117.21737499999999,
          -115.17844444444444
         ],
         "mode": "lines",
         "opacity": 0.8,
         "type": "scattermapbox"
        },
        {
         "lat": [
          40.88795555555555,
          40.02151282051282
         ],
         "line": {
          "color": "rosybrown",
          "width": 3
         },
         "lon": [
          -115.17844444444444,
          -112.00714358974359
         ],
         "mode": "lines",
         "opacity": 0.8,
         "type": "scattermapbox"
        },
        {
         "lat": [
          43.05154666666667,
          42.77879848484848
         ],
         "line": {
          "color": "rosybrown",
          "width": 3
         },
         "lon": [
          -107.66606666666668,
          -111.75784848484848
         ],
         "mode": "lines",
         "opacity": 0.8,
         "type": "scattermapbox"
        },
        {
         "lat": [
          43.05154666666667,
          40.66039830508475
         ],
         "line": {
          "color": "rosybrown",
          "width": 3
         },
         "lon": [
          -107.66606666666668,
          -104.46022033898305
         ],
         "mode": "lines",
         "opacity": 0.8,
         "type": "scattermapbox"
        },
        {
         "lat": [
          43.05154666666667,
          43.61972424242424
         ],
         "line": {
          "color": "rosybrown",
          "width": 3
         },
         "lon": [
          -107.66606666666668,
          -105.85318181818181
         ],
         "mode": "lines",
         "opacity": 0.8,
         "type": "scattermapbox"
        },
        {
         "lat": [
          42.77879848484848,
          40.291528125
         ],
         "line": {
          "color": "rosybrown",
          "width": 3
         },
         "lon": [
          -111.75784848484848,
          -109.8623125
         ],
         "mode": "lines",
         "opacity": 0.8,
         "type": "scattermapbox"
        },
        {
         "lat": [
          42.77879848484848,
          40.02151282051282
         ],
         "line": {
          "color": "rosybrown",
          "width": 3
         },
         "lon": [
          -111.75784848484848,
          -112.00714358974359
         ],
         "mode": "lines",
         "opacity": 0.8,
         "type": "scattermapbox"
        },
        {
         "lat": [
          40.291528125,
          40.02151282051282
         ],
         "line": {
          "color": "rosybrown",
          "width": 3
         },
         "lon": [
          -109.8623125,
          -112.00714358974359
         ],
         "mode": "lines",
         "opacity": 0.8,
         "type": "scattermapbox"
        },
        {
         "lat": [
          40.291528125,
          38.83436395348837
         ],
         "line": {
          "color": "rosybrown",
          "width": 3
         },
         "lon": [
          -109.8623125,
          -107.28611627906979
         ],
         "mode": "lines",
         "opacity": 0.8,
         "type": "scattermapbox"
        },
        {
         "lat": [
          42.50423285714286,
          38.282210194444446
         ],
         "line": {
          "color": "rosybrown",
          "width": 3
         },
         "lon": [
          -122.86985714285713,
          -120.65343600925925
         ],
         "mode": "lines",
         "opacity": 0.8,
         "type": "scattermapbox"
        },
        {
         "lat": [
          44.97036333333334,
          45.42545555555555
         ],
         "line": {
          "color": "rosybrown",
          "width": 3
         },
         "lon": [
          -123.0203,
          -122.03833333333334
         ],
         "mode": "lines",
         "opacity": 0.8,
         "type": "scattermapbox"
        },
        {
         "lat": [
          44.97036333333334,
          45.47333068181819
         ],
         "line": {
          "color": "rosybrown",
          "width": 3
         },
         "lon": [
          -123.0203,
          -122.71163636363636
         ],
         "mode": "lines",
         "opacity": 0.8,
         "type": "scattermapbox"
        },
        {
         "lat": [
          45.42545555555555,
          45.47333068181819
         ],
         "line": {
          "color": "rosybrown",
          "width": 3
         },
         "lon": [
          -122.03833333333334,
          -122.71163636363636
         ],
         "mode": "lines",
         "opacity": 0.8,
         "type": "scattermapbox"
        },
        {
         "lat": [
          35.07218153846155,
          38.54326666666667
         ],
         "line": {
          "color": "rosybrown",
          "width": 3
         },
         "lon": [
          -107.02026153846154,
          -104.78480555555556
         ],
         "mode": "lines",
         "opacity": 0.8,
         "type": "scattermapbox"
        },
        {
         "lat": [
          35.07218153846155,
          32.07233734939759
         ],
         "line": {
          "color": "rosybrown",
          "width": 3
         },
         "lon": [
          -107.02026153846154,
          -110.81897590361444
         ],
         "mode": "lines",
         "opacity": 0.8,
         "type": "scattermapbox"
        },
        {
         "lat": [
          35.07218153846155,
          38.282210194444446
         ],
         "line": {
          "color": "rosybrown",
          "width": 3
         },
         "lon": [
          -107.02026153846154,
          -120.65343600925925
         ],
         "mode": "lines",
         "opacity": 0.8,
         "type": "scattermapbox"
        },
        {
         "lat": [
          35.07218153846155,
          38.83436395348837
         ],
         "line": {
          "color": "rosybrown",
          "width": 3
         },
         "lon": [
          -107.02026153846154,
          -107.28611627906979
         ],
         "mode": "lines",
         "opacity": 0.8,
         "type": "scattermapbox"
        },
        {
         "lat": [
          39.80834051282051,
          39.71326666666666
         ],
         "line": {
          "color": "rosybrown",
          "width": 3
         },
         "lon": [
          -104.94239487179487,
          -105.53000000000002
         ],
         "mode": "lines",
         "opacity": 0.8,
         "type": "scattermapbox"
        },
        {
         "lat": [
          39.80834051282051,
          38.54326666666667
         ],
         "line": {
          "color": "rosybrown",
          "width": 3
         },
         "lon": [
          -104.94239487179487,
          -104.78480555555556
         ],
         "mode": "lines",
         "opacity": 0.8,
         "type": "scattermapbox"
        },
        {
         "lat": [
          39.80834051282051,
          39.927566666666664
         ],
         "line": {
          "color": "rosybrown",
          "width": 3
         },
         "lon": [
          -104.94239487179487,
          -103.73926666666668
         ],
         "mode": "lines",
         "opacity": 0.8,
         "type": "scattermapbox"
        },
        {
         "lat": [
          39.80834051282051,
          40.66039830508475
         ],
         "line": {
          "color": "rosybrown",
          "width": 3
         },
         "lon": [
          -104.94239487179487,
          -104.46022033898305
         ],
         "mode": "lines",
         "opacity": 0.8,
         "type": "scattermapbox"
        },
        {
         "lat": [
          39.80834051282051,
          38.83436395348837
         ],
         "line": {
          "color": "rosybrown",
          "width": 3
         },
         "lon": [
          -104.94239487179487,
          -107.28611627906979
         ],
         "mode": "lines",
         "opacity": 0.8,
         "type": "scattermapbox"
        },
        {
         "lat": [
          37.80309999999999,
          38.54326666666667
         ],
         "line": {
          "color": "rosybrown",
          "width": 3
         },
         "lon": [
          -102.8144,
          -104.78480555555556
         ],
         "mode": "lines",
         "opacity": 0.8,
         "type": "scattermapbox"
        },
        {
         "lat": [
          37.80309999999999,
          39.927566666666664
         ],
         "line": {
          "color": "rosybrown",
          "width": 3
         },
         "lon": [
          -102.8144,
          -103.73926666666668
         ],
         "mode": "lines",
         "opacity": 0.8,
         "type": "scattermapbox"
        },
        {
         "lat": [
          39.71326666666666,
          40.66039830508475
         ],
         "line": {
          "color": "rosybrown",
          "width": 3
         },
         "lon": [
          -105.53000000000002,
          -104.46022033898305
         ],
         "mode": "lines",
         "opacity": 0.8,
         "type": "scattermapbox"
        },
        {
         "lat": [
          39.71326666666666,
          38.83436395348837
         ],
         "line": {
          "color": "rosybrown",
          "width": 3
         },
         "lon": [
          -105.53000000000002,
          -107.28611627906979
         ],
         "mode": "lines",
         "opacity": 0.8,
         "type": "scattermapbox"
        },
        {
         "lat": [
          38.54326666666667,
          39.927566666666664
         ],
         "line": {
          "color": "rosybrown",
          "width": 3
         },
         "lon": [
          -104.78480555555556,
          -103.73926666666668
         ],
         "mode": "lines",
         "opacity": 0.8,
         "type": "scattermapbox"
        },
        {
         "lat": [
          38.54326666666667,
          38.83436395348837
         ],
         "line": {
          "color": "rosybrown",
          "width": 3
         },
         "lon": [
          -104.78480555555556,
          -107.28611627906979
         ],
         "mode": "lines",
         "opacity": 0.8,
         "type": "scattermapbox"
        },
        {
         "lat": [
          39.927566666666664,
          40.66039830508475
         ],
         "line": {
          "color": "rosybrown",
          "width": 3
         },
         "lon": [
          -103.73926666666668,
          -104.46022033898305
         ],
         "mode": "lines",
         "opacity": 0.8,
         "type": "scattermapbox"
        },
        {
         "lat": [
          48.67661785714285,
          38.282210194444446
         ],
         "line": {
          "color": "rosybrown",
          "width": 3
         },
         "lon": [
          -122.24942857142857,
          -120.65343600925925
         ],
         "mode": "lines",
         "opacity": 0.8,
         "type": "scattermapbox"
        },
        {
         "lat": [
          32.07233734939759,
          38.282210194444446
         ],
         "line": {
          "color": "rosybrown",
          "width": 3
         },
         "lon": [
          -110.81897590361444,
          -120.65343600925925
         ],
         "mode": "lines",
         "opacity": 0.8,
         "type": "scattermapbox"
        },
        {
         "lat": [
          40.66039830508475,
          38.83436395348837
         ],
         "line": {
          "color": "rosybrown",
          "width": 3
         },
         "lon": [
          -104.46022033898305,
          -107.28611627906979
         ],
         "mode": "lines",
         "opacity": 0.8,
         "type": "scattermapbox"
        },
        {
         "lat": [
          40.66039830508475,
          43.61972424242424
         ],
         "line": {
          "color": "rosybrown",
          "width": 3
         },
         "lon": [
          -104.46022033898305,
          -105.85318181818181
         ],
         "mode": "lines",
         "opacity": 0.8,
         "type": "scattermapbox"
        },
        {
         "hoverinfo": "text",
         "lat": [
          37.39071641025641,
          39.95437811594202,
          37.91522733134921
         ],
         "lon": [
          -114.65087179487179,
          -119.52878260869566,
          -121.91256458333334
         ],
         "marker": {
          "opacity": 0
         },
         "mode": "markers",
         "text": [
          "Link 9",
          "Link 10",
          "Link 15"
         ],
         "type": "scattermapbox"
        },
        {
         "hoverinfo": "text",
         "lat": [
          46.81592133333333,
          47.99337436363636,
          46.9707255,
          47.75985675,
          47.92847646153845,
          45.81228988679244,
          34.10692013729977,
          33.28715721804511,
          33.44645328947368,
          33.113362528604114,
          35.6736708866959,
          33.702599122807015,
          34.0595615,
          34.992104347826086,
          35.73486249999999,
          35.40968541666666,
          34.17234142857143,
          33.39640292857143,
          33.71825038888889,
          32.6779801746988,
          35.89146684782608,
          34.48824184782608,
          35.66063569703243,
          34.74438768115942,
          36.309047916666664,
          36.40339384920635,
          38.327868910256406,
          35.06837430555555,
          38.13769947916667,
          38.002691826923076,
          35.528026185897446,
          33.668478928571425,
          32.79076010327022,
          34.61252965811966,
          33.11260756358769,
          38.78980251330574,
          38.60119171708441,
          38.204852889245586,
          39.022865551583244,
          38.574233312526005,
          38.08083979400749,
          37.961939355411,
          38.35253655789638,
          40.05406111111111,
          40.54221944444444,
          44.19834544917258,
          45.01905822695035,
          45.10821411236702,
          43.39903132218845,
          44.632096560283685,
          44.883580234526114,
          41.288019990839246,
          46.04667083333334,
          44.88823522012578,
          47.350189236111106,
          46.52381067708333,
          47.62099991987179,
          42.703616555555556,
          44.923573888888896,
          45.012729774305555,
          44.923880555555556,
          43.30354698412699,
          44.53661222222223,
          46.74897699652777,
          47.16932301587302,
          47.63903333333333,
          47.84616623931623,
          48.1259867063492,
          42.928782874999996,
          45.83344255208333,
          45.87640954954955,
          46.25378857142857,
          46.44896606060606,
          45.74459333333333,
          45.58487111111111,
          48.01325511363637,
          46.34294445684524,
          45.67402699652777,
          45.6979645596591,
          46.10500371621622,
          46.385911454311454,
          46.58108894348894,
          45.87671621621621,
          44.94656810300866,
          45.043039386792444,
          47.23300079365079,
          47.4401336996337,
          46.958467965367966,
          47.2019724537037,
          47.90984401709402,
          38.18681368055556,
          37.58064190277778,
          38.31156615918803,
          37.91522733134921,
          38.062911,
          35.977995357833656,
          36.70155584415585,
          36.68163584415585,
          35.889203743315505,
          37.17698560606061,
          36.803777272727274,
          36.32762927272727,
          37.058085167464114,
          36.044476656534954,
          35.252044555694624,
          34.8449725493921,
          35.690470085106384,
          35.15079491437467,
          34.820335585106385,
          38.65476803418804,
          38.258429206349206,
          38.995518888888896,
          39.07644186868687,
          39.48367722222223,
          38.406112875000005,
          37.652257428571424,
          37.03289457142857,
          37.409343894736836,
          37.79994109722222,
          38.96813130904184,
          39.38980514354067,
          39.63069248120301,
          38.94117290448344,
          38.38318168498168,
          39.201194347319344,
          39.44208168498169,
          39.6084297008547,
          38.80485551948051,
          38.35622328042328,
          37.743929323308265,
          38.134526525793646,
          40.25139837662337,
          40.492285714285714,
          40.658633730158726,
          41.692080714285716,
          36.89017857142858,
          37.06506948051948,
          36.41403057142857,
          35.874355400696864,
          38.093250123152714,
          40.14443611111111,
          38.871616208333336,
          39.86375551948052,
          40.03010353535353,
          39.174235942760944,
          39.510705642633226,
          41.063550519480515,
          40.270990873015876,
          39.75159298029557,
          35.95568504201681,
          37.24346690476191,
          37.12456646616542,
          37.5151636686508,
          40.63259444444444,
          41.47078587301587,
          38.23221018518519,
          37.85900185185186,
          39.062073403575994,
          34.731543970588234,
          36.722731567810456,
          40.8326965,
          41.66604142857143,
          39.55503009722222,
          37.36560833333334,
          37.61991622807018,
          37.16729090909091,
          36.516252,
          33.881882327586204,
          33.838113577586206,
          34.34795482758621,
          34.0169616643209,
          33.54879156671664,
          34.37181552325582,
          34.16640998754153,
          34.4722323525241,
          33.910352838692056,
          34.02985407398045,
          33.879247830948124,
          34.0740903058645,
          36.13296062047804,
          35.286572500000005,
          35.9266645,
          35.38698932926829,
          33.33992902542373,
          33.49468423913043,
          34.08392083333333,
          33.919085586734695,
          33.788616065436244,
          33.580554166666666,
          34.428926836734696,
          34.86033682926829,
          35.15829333333333,
          35.466241349206356,
          34.654931293554,
          34.32447196428571,
          34.093051779721954,
          34.21255301501035,
          34.2567892468944,
          36.315659561507935,
          33.96746415217093,
          36.190071933956915,
          35.50042882926829,
          34.51837537999293,
          34.56261161187698,
          34.18791605072464,
          36.291022597222224,
          33.62893273210291,
          36.059602412658464,
          35.86461468253969,
          33.1364769420904,
          35.85154051388889,
          33.00683826455416,
          35.56714662264595,
          36.28864134920636,
          47.63531118881119,
          48.39679739010988,
          33.53031260021669,
          35.13532692820814,
          35.72190183635266,
          43.41321498203054,
          45.25440559049615,
          44.7830167989418,
          41.91489087301587,
          42.860312337662336,
          33.92539085841695,
          34.12023333333333,
          36.17910364794686,
          36.02849740491453,
          36.22333987983092,
          46.63180370370371,
          42.46080509722222,
          45.12956212121212,
          44.83787703703704,
          44.701502946127945,
          42.45320880092593,
          45.121965824915826,
          37.03154409722222,
          38.21089384920635,
          38.097037759462765,
          35.25631468253968,
          39.823884051724136,
          40.56859027777777,
          40.45473418803418,
          42.91517257575757,
          41.85597248587571,
          43.335635454545454,
          41.53516330492424,
          41.40015565268065,
          40.15652047275641,
          39.56294603924418,
          40.39322152579365,
          45.19790944444445,
          45.22184700757576,
          45.44939311868687,
          36.80772410256411,
          33.57225944392957,
          36.677195866453,
          36.95327274597496,
          39.76080358974359,
          39.17580358974359,
          39.867953589743585,
          40.23436940895263,
          39.32135223315444,
          38.17318333333333,
          38.865333333333325,
          40.186832485875705,
          39.27381531007752,
          39.235416666666666,
          38.688815310077516,
          40.2939824858757,
          43.479414025793645,
          35.17727377192102,
          39.74738112928656,
          42.1400612737545
         ],
         "lon": [
          -117.09608833333333,
          -116.47874363636362,
          -117.70906749999997,
          -115.77481749999998,
          -118.47849538461537,
          -116.86954037735848,
          -114.2104771167048,
          -113.21731413533834,
          -114.69186842105265,
          -114.97255320366133,
          -117.42658642568226,
          -114.34336842105265,
          -111.89082499999999,
          -113.19873369565217,
          -111.94941666666666,
          -110.98964583333333,
          -112.20557071428571,
          -111.92014571428571,
          -110.77127407407406,
          -111.21218795180721,
          -112.97190036231883,
          -114.70260869565217,
          -114.65185075914422,
          -114.35410869565217,
          -110.7628125,
          -113.40253373015872,
          -111.86486346153846,
          -109.8700949074074,
          -109.83267708333334,
          -110.90509262820513,
          -108.4116516025641,
          -113.70944571428572,
          -111.52693366609293,
          -108.47870484330484,
          -110.37806202588129,
          -121.17854701360142,
          -121.46487899740708,
          -121.43844438202248,
          -121.50778983656792,
          -120.92966104868913,
          -120.80435549313358,
          -121.08862596096984,
          -120.97171238665209,
          -123.09041111111111,
          -122.55916111111114,
          -122.17837765957445,
          -121.87187765957447,
          -122.91652609707445,
          -123.00955623100302,
          -123.08477765957446,
          -122.93044584139264,
          -121.90134566420409,
          -117.53039583333333,
          -116.69086871069183,
          -122.71989930555554,
          -122.92965885416666,
          -121.42887580128206,
          -121.91447842129628,
          -120.901,
          -121.94564843749998,
          -120.4350357142857,
          -122.03867857142856,
          -122.1139,
          -122.47403732638888,
          -121.35504365079365,
          -121.27275,
          -120.97325427350428,
          -122.25685317460318,
          -121.45885689351852,
          -121.6391484375,
          -119.86689864864866,
          -120.52015476190476,
          -120.0428409090909,
          -120.1285357142857,
          -121.31641666666667,
          -114.97880113636364,
          -121.56480319940474,
          -122.36106510416667,
          -122.69771661931817,
          -118.64133614864865,
          -119.79255341055341,
          -119.31523955773955,
          -119.40093436293435,
          -117.80180902600713,
          -117.30384787735848,
          -120.36351587301586,
          -120.06402014652014,
          -119.96849567099565,
          -112.71095138888889,
          -119.98172649572649,
          -122.45815902777778,
          -122.09048658333332,
          -121.93899919871795,
          -121.91256458333334,
          -121.44583258796297,
          -119.5202932301741,
          -119.48824155844156,
          -120.55764155844156,
          -120.19685080213904,
          -120.0948883838384,
          -119.70183496503498,
          -119.51996727272729,
          -120.37915885167465,
          -120.2068802431611,
          -119.84608948685859,
          -118.87969452887539,
          -119.16920595744682,
          -118.71915620134925,
          -119.22191595744681,
          -122.15892905982906,
          -122.13249444444446,
          -123.04815555555555,
          -122.2018398989899,
          -122.51690555555558,
          -121.66576244907408,
          -121.76482199999998,
          -121.59348628571426,
          -121.41500357894736,
          -121.29809000462961,
          -121.35343724696357,
          -121.39634808612439,
          -120.96337406015039,
          -120.81821929824562,
          -121.61333461538462,
          -121.68268006993006,
          -121.24970604395605,
          -121.99774572649574,
          -121.65624545454546,
          -121.07811666666667,
          -121.23708157894738,
          -121.12016800462963,
          -121.75786688311689,
          -121.32489285714286,
          -122.07293253968255,
          -122.33,
          -119.31902197802196,
          -119.03653246753245,
          -119.13715428571427,
          -118.6871045296167,
          -119.34118842364532,
          -123.7552986111111,
          -122.03582911574074,
          -121.29261688311688,
          -122.04065656565658,
          -121.14746212121211,
          -120.65126959247648,
          -122.29772402597402,
          -121.60768253968254,
          -120.21829556650246,
          -120.88343781512606,
          -120.78147539682539,
          -121.06574586466166,
          -120.94883229034392,
          -123.22404861111113,
          -122.61278968253968,
          -120.44402777777778,
          -120.05097435897436,
          -120.0731408045977,
          -119.89847352941177,
          -120.5880415340414,
          -124.3018045,
          -123.48111607142857,
          -122.37290550462963,
          -119.9256688034188,
          -120.60299269005849,
          -119.25012587412587,
          -119.35074769230769,
          -115.85974137931035,
          -116.84817887931032,
          -116.91504137931034,
          -116.98710872624912,
          -116.14042616191904,
          -117.73815465116279,
          -118.38578322259136,
          -118.22524489506523,
          -118.0253244498205,
          -118.23947783956858,
          -118.22454695885509,
          -118.32238725985846,
          -119.41757265579241,
          -117.5841125,
          -118.5212525,
          -118.07120274390243,
          -116.13299152542373,
          -115.46468478260871,
          -114.83550000000001,
          -117.29980484693877,
          -117.5149072986577,
          -117.316125,
          -117.36666734693877,
          -117.78169024390243,
          -116.38146666666665,
          -116.18854206349204,
          -118.429318815331,
          -118.93207857142858,
          -118.22939837008627,
          -118.44355175983435,
          -118.52646118012423,
          -119.6216465760582,
          -117.65383714559648,
          -119.0460853515684,
          -118.71883024390243,
          -118.28301343230822,
          -118.36592285259809,
          -118.78577318840578,
          -119.96386800462963,
          -117.67015729865771,
          -119.26118780328733,
          -115.27540873015872,
          -117.27667902542373,
          -119.06240550462962,
          -116.41367630803242,
          -118.86770953005336,
          -115.65454206349204,
          -119.5867062937063,
          -120.96582967032967,
          -106.71287020585049,
          -113.52945744124935,
          -118.19940278723833,
          -115.52018418688229,
          -113.80567426624737,
          -112.86153769841269,
          -114.87724603174603,
          -113.16694805194805,
          -118.28231549609808,
          -118.38015579710145,
          -119.4753411930354,
          -119.46041031232193,
          -119.55825061332528,
          -108.8980138888889,
          -113.65121800462964,
          -106.25109090909092,
          -109.40654722222223,
          -111.45243813131313,
          -115.90023189351851,
          -108.50010479797979,
          -121.20355050462962,
          -116.14992956349204,
          -113.54481385836385,
          -114.78474206349205,
          -118.39716163793102,
          -116.19790972222222,
          -113.59279401709401,
          -109.71195757575758,
          -106.06314350282486,
          -106.75962424242425,
          -110.81008049242425,
          -111.88249603729604,
          -110.9347280448718,
          -108.57421438953489,
          -121.76164657605818,
          -122.52931666666667,
          -122.86596818181818,
          -122.37498484848484,
          -105.90253354700855,
          -108.91961872103799,
          -113.8368487738604,
          -107.15318890876566,
          -105.23619743589745,
          -104.86360021367523,
          -104.34083076923078,
          -104.70130760538896,
          -106.11425557543234,
          -103.79960277777778,
          -103.27683333333334,
          -104.99511016949154,
          -106.4080581395349,
          -104.26203611111112,
          -106.03546091731268,
          -104.09974350282486,
          -121.45143229034392,
          -115.73620595643685,
          -105.87316830902643,
          -105.15670107858243
         ],
         "marker": {
          "opacity": 0
         },
         "mode": "markers",
         "text": [
          "Line 1",
          "Line 2",
          "Line 3",
          "Line 4",
          "Line 5",
          "Line 6",
          "Line 7",
          "Line 8",
          "Line 9",
          "Line 10",
          "Line 11",
          "Line 12",
          "Line 13",
          "Line 14",
          "Line 15",
          "Line 16",
          "Line 17",
          "Line 18",
          "Line 19",
          "Line 20",
          "Line 21",
          "Line 22",
          "Line 23",
          "Line 24",
          "Line 25",
          "Line 26",
          "Line 27",
          "Line 28",
          "Line 29",
          "Line 30",
          "Line 31",
          "Line 32",
          "Line 33",
          "Line 34",
          "Line 35",
          "Line 36",
          "Line 37",
          "Line 38",
          "Line 39",
          "Line 40",
          "Line 41",
          "Line 42",
          "Line 43",
          "Line 44",
          "Line 45",
          "Line 46",
          "Line 47",
          "Line 48",
          "Line 49",
          "Line 50",
          "Line 51",
          "Line 52",
          "Line 53",
          "Line 54",
          "Line 55",
          "Line 56",
          "Line 57",
          "Line 58",
          "Line 59",
          "Line 60",
          "Line 61",
          "Line 62",
          "Line 63",
          "Line 64",
          "Line 65",
          "Line 66",
          "Line 67",
          "Line 68",
          "Line 69",
          "Line 70",
          "Line 71",
          "Line 72",
          "Line 73",
          "Line 74",
          "Line 75",
          "Line 76",
          "Line 77",
          "Line 78",
          "Line 79",
          "Line 80",
          "Line 81",
          "Line 82",
          "Line 83",
          "Line 84",
          "Line 85",
          "Line 86",
          "Line 87",
          "Line 88",
          "Line 89",
          "Line 90",
          "Line 91",
          "Line 92",
          "Line 93",
          "Line 94",
          "Line 95",
          "Line 96",
          "Line 97",
          "Line 98",
          "Line 99",
          "Line 100",
          "Line 101",
          "Line 102",
          "Line 103",
          "Line 104",
          "Line 105",
          "Line 106",
          "Line 107",
          "Line 108",
          "Line 109",
          "Line 110",
          "Line 111",
          "Line 112",
          "Line 113",
          "Line 114",
          "Line 115",
          "Line 116",
          "Line 117",
          "Line 118",
          "Line 119",
          "Line 120",
          "Line 121",
          "Line 122",
          "Line 123",
          "Line 124",
          "Line 125",
          "Line 126",
          "Line 127",
          "Line 128",
          "Line 129",
          "Line 130",
          "Line 131",
          "Line 132",
          "Line 133",
          "Line 134",
          "Line 135",
          "Line 136",
          "Line 137",
          "Line 138",
          "Line 139",
          "Line 140",
          "Line 141",
          "Line 142",
          "Line 143",
          "Line 144",
          "Line 145",
          "Line 146",
          "Line 147",
          "Line 148",
          "Line 149",
          "Line 150",
          "Line 151",
          "Line 152",
          "Line 153",
          "Line 154",
          "Line 155",
          "Line 156",
          "Line 157",
          "Line 158",
          "Line 159",
          "Line 160",
          "Line 161",
          "Line 162",
          "Line 163",
          "Line 164",
          "Line 165",
          "Line 166",
          "Line 167",
          "Line 168",
          "Line 169",
          "Line 170",
          "Line 171",
          "Line 172",
          "Line 173",
          "Line 174",
          "Line 175",
          "Line 176",
          "Line 177",
          "Line 178",
          "Line 179",
          "Line 180",
          "Line 181",
          "Line 182",
          "Line 183",
          "Line 184",
          "Line 185",
          "Line 186",
          "Line 187",
          "Line 188",
          "Line 189",
          "Line 190",
          "Line 191",
          "Line 192",
          "Line 193",
          "Line 194",
          "Line 195",
          "Line 196",
          "Line 197",
          "Line 198",
          "Line 199",
          "Line 200",
          "Line 201",
          "Line 202",
          "Line 203",
          "Line 204",
          "Line 205",
          "Line 206",
          "Line 207",
          "Line 208",
          "Line 209",
          "Line 210",
          "Line 211",
          "Line 212",
          "Line 213",
          "Line 214",
          "Line 215",
          "Line 216",
          "Line 217",
          "Line 218",
          "Line 219",
          "Line 220",
          "Line 221",
          "Line 222",
          "Line 223",
          "Line 224",
          "Line 225",
          "Line 226",
          "Line 227",
          "Line 228",
          "Line 229",
          "Line 230",
          "Line 231",
          "Line 232",
          "Line 233",
          "Line 234",
          "Line 235",
          "Line 236",
          "Line 237",
          "Line 238",
          "Line 239",
          "Line 240",
          "Line 241",
          "Line 242",
          "Line 243",
          "Line 244",
          "Line 245",
          "Line 246",
          "Line 247",
          "Line 248",
          "Line 249",
          "Line 250",
          "Line 251",
          "Line 252",
          "Line 253",
          "Line 254",
          "Line 255",
          "Line 256",
          "Line 257",
          "Line 258",
          "Line 259",
          "Line 260",
          "Line 261",
          "Line 262",
          "Line 263",
          "Line 264",
          "Line 265",
          "Line 266",
          "Line 267",
          "Line 268",
          "Line 269",
          "Line 270",
          "Line 271",
          "Line 272",
          "Line 273",
          "Line 274"
         ],
         "type": "scattermapbox"
        },
        {
         "hoverinfo": "text",
         "lat": [
          47.73997599999999,
          33.065131578947366,
          34.835499999999996,
          33.283623000000006,
          35.14870869565217,
          36.634224999999994,
          35.983870833333334,
          33.509182857142854,
          34.152877777777775,
          38.42286292134831,
          40.6471,
          44.29382978723404,
          45.891866666666665,
          47.125022916666666,
          44.10286111111112,
          47.575355555555554,
          45.74428666666667,
          48.246772727272734,
          45.9225984375,
          46.00853243243243,
          46.201475,
          46.76329047619048,
          47.7797375,
          47.70271111111111,
          37.84361180555556,
          36.615154545454544,
          35.34083617021277,
          38.53001555555556,
          37.317671999999995,
          39.15674210526316,
          38.77952051282051,
          37.986842857142854,
          40.87992857142857,
          36.787957142857145,
          39.461022222222226,
          39.62286818181818,
          40.104642857142856,
          36.74811714285715,
          40.43733888888889,
          38.725603703703705,
          35.163252941176474,
          40.82785,
          37.73881666666667,
          36.9924,
          33.93598965517241,
          33.98371104651163,
          35.813225,
          33.827774999999995,
          33.7402375,
          34.75992,
          37.342181818181814,
          34.349108928571425,
          34.09793367346939,
          36.040104,
          34.96075365853658,
          34.299835,
          33.83699463087248,
          35.55666666666667,
          33.42087083333333,
          32.852083050847455,
          36.404720000000005,
          48.11697692307692,
          31.988443661971832,
          47.153645454545455,
          45.744899999999994,
          40.837543,
          33.16159347826086,
          43.884603773584885,
          42.94182619047619,
          34.075997101449275,
          33.77478461538462,
          34.16446956521738,
          46.6394,
          46.62420740740741,
          35.780878,
          36.172562698412705,
          39.39854310344828,
          40.249224999999996,
          40.88795555555555,
          43.05154666666667,
          42.77879848484848,
          40.291528125,
          40.02151282051282,
          42.50423285714286,
          44.97036333333334,
          45.42545555555555,
          45.47333068181819,
          35.07218153846155,
          39.80834051282051,
          37.80309999999999,
          39.71326666666666,
          38.54326666666667,
          39.927566666666664,
          48.67661785714285,
          32.07233734939759,
          37.50101578947368,
          38.282210194444446,
          40.66039830508475,
          38.83436395348837,
          43.61972424242424,
          34.340066666666665
         ],
         "lon": [
          -117.27475999999997,
          -114.19973684210527,
          -112.17625,
          -111.60539999999999,
          -114.22121739130434,
          -111.72258333333333,
          -109.80304166666667,
          -112.23489142857143,
          -109.93714814814814,
          -121.28998876404494,
          -122.76260000000002,
          -123.14925531914892,
          -116.91741666666668,
          -123.17552083333332,
          -121.20749999999998,
          -122.26427777777778,
          -120.59450000000001,
          -115.68272727272728,
          -122.68379687499998,
          -119.1392972972973,
          -118.14337499999999,
          -120.4458095238095,
          -114.27487500000001,
          -120.28122222222221,
          -122.23822916666667,
          -119.87105454545456,
          -119.16953191489364,
          -122.67808888888891,
          -121.94274399999996,
          -121.0671052631579,
          -121.63976923076923,
          -121.58690000000001,
          -121.79014285714287,
          -119.10542857142856,
          -123.41822222222221,
          -121.7255909090909,
          -120.85964285714286,
          -121.24422857142856,
          -122.35572222222224,
          -120.56933333333333,
          -120.52264705882354,
          -124.092375,
          -120.31872222222222,
          -119.53261538461538,
          -116.53548275862067,
          -118.18170930232559,
          -117.873625,
          -115.18400000000001,
          -117.16087499999999,
          -117.29459999999999,
          -118.96763636363636,
          -118.58985714285714,
          -117.43873469387755,
          -119.16888,
          -118.26878048780486,
          -119.2743,
          -117.86893959731542,
          -115.46833333333332,
          -117.47137500000001,
          -117.08198305084746,
          -116.2266,
          -119.68223076923078,
          -106.40547887323943,
          -119.4911818181818,
          -119.66257142857141,
          -124.511234,
          -115.7453695652174,
          -116.46432075471697,
          -114.57604761904761,
          -118.29724637681157,
          -118.2673846153846,
          -118.46306521739132,
          -106.64900000000002,
          -111.14702777777777,
          -121.753665,
          -115.0824841269841,
          -119.57694827586207,
          -117.21737499999999,
          -115.17844444444444,
          -107.66606666666668,
          -111.75784848484848,
          -109.8623125,
          -112.00714358974359,
          -122.86985714285713,
          -123.0203,
          -122.03833333333334,
          -122.71163636363636,
          -107.02026153846154,
          -104.94239487179487,
          -102.8144,
          -105.53000000000002,
          -104.78480555555556,
          -103.73926666666668,
          -122.24942857142857,
          -110.81897590361444,
          -120.88726315789475,
          -120.65343600925925,
          -104.46022033898305,
          -107.28611627906979,
          -105.85318181818181,
          -114.48700000000001
         ],
         "marker": {
          "color": "cadetblue",
          "size": 10
         },
         "mode": "markers",
         "opacity": 1,
         "text": [
          "Bus AVA0 0",
          "Bus Arizona0 0",
          "Bus Arizona0 1",
          "Bus Arizona0 2",
          "Bus Arizona0 3",
          "Bus Arizona0 4",
          "Bus Arizona0 5",
          "Bus Arizona0 6",
          "Bus Arizona0 7",
          "Bus BANC0 0",
          "Bus BANC0 1",
          "Bus BPAT0 0",
          "Bus BPAT0 1",
          "Bus BPAT0 10",
          "Bus BPAT0 11",
          "Bus BPAT0 2",
          "Bus BPAT0 3",
          "Bus BPAT0 4",
          "Bus BPAT0 5",
          "Bus BPAT0 6",
          "Bus BPAT0 7",
          "Bus BPAT0 8",
          "Bus BPAT0 9",
          "Bus CHPD0 0",
          "Bus CISO-PGAE0 0",
          "Bus CISO-PGAE0 1",
          "Bus CISO-PGAE0 10",
          "Bus CISO-PGAE0 11",
          "Bus CISO-PGAE0 12",
          "Bus CISO-PGAE0 13",
          "Bus CISO-PGAE0 14",
          "Bus CISO-PGAE0 15",
          "Bus CISO-PGAE0 16",
          "Bus CISO-PGAE0 17",
          "Bus CISO-PGAE0 18",
          "Bus CISO-PGAE0 19",
          "Bus CISO-PGAE0 2",
          "Bus CISO-PGAE0 3",
          "Bus CISO-PGAE0 4",
          "Bus CISO-PGAE0 5",
          "Bus CISO-PGAE0 6",
          "Bus CISO-PGAE0 7",
          "Bus CISO-PGAE0 8",
          "Bus CISO-PGAE0 9",
          "Bus CISO-SCE0 0",
          "Bus CISO-SCE0 1",
          "Bus CISO-SCE0 10",
          "Bus CISO-SCE0 11",
          "Bus CISO-SCE0 12",
          "Bus CISO-SCE0 13",
          "Bus CISO-SCE0 2",
          "Bus CISO-SCE0 3",
          "Bus CISO-SCE0 4",
          "Bus CISO-SCE0 5",
          "Bus CISO-SCE0 6",
          "Bus CISO-SCE0 7",
          "Bus CISO-SCE0 8",
          "Bus CISO-SCE0 9",
          "Bus CISO-SDGE0 0",
          "Bus CISO-SDGE0 1",
          "Bus CISO-VEA0 0",
          "Bus DOPD0 0",
          "Bus EPE0 0",
          "Bus GCPD0 0",
          "Bus GRID0 0",
          "Bus Humboldt0 0",
          "Bus IID0 0",
          "Bus IPCO0 0",
          "Bus IPCO0 1",
          "Bus LADWP0 0",
          "Bus LADWP0 1",
          "Bus LADWP0 2",
          "Bus MISO-00010 0",
          "Bus MT_west0 0",
          "Bus Morro_Bay0 0",
          "Bus NEVP0 0",
          "Bus NEVP0 1",
          "Bus NEVP0 2",
          "Bus NEVP0 3",
          "Bus PACE0 0",
          "Bus PACE0 1",
          "Bus PACE0 2",
          "Bus PACE0 3",
          "Bus PACW0 0",
          "Bus PGE0 0",
          "Bus PGE0 1",
          "Bus PGE0 2",
          "Bus PNM0 0",
          "Bus PSCO0 0",
          "Bus PSCO0 1",
          "Bus PSCO0 2",
          "Bus PSCO0 3",
          "Bus PSCO0 4",
          "Bus PSEI0 0",
          "Bus TEPC0 0",
          "Bus TID0 0",
          "Bus US0 0",
          "Bus WACM0 0",
          "Bus WACM0 1",
          "Bus WACM0 2",
          "Bus WALC0 0"
         ],
         "type": "scattermapbox"
        }
       ],
       "layout": {
        "height": 700,
        "hovermode": "closest",
        "mapbox": {
         "accesstoken": "pk.eyJ1Ijoia3RlaHJhbmNoaSIsImEiOiJjbDJzNW5kdHMwaGJzM2pudDBsazZ5am80In0.hQfjJnhiiO1-YcJEEpN-1A",
         "center": {
          "lat": 40.33253075955734,
          "lon": -113.662817
         },
         "style": "open-street-map",
         "zoom": 2
        },
        "showlegend": false,
        "template": {
         "data": {
          "bar": [
           {
            "error_x": {
             "color": "#2a3f5f"
            },
            "error_y": {
             "color": "#2a3f5f"
            },
            "marker": {
             "line": {
              "color": "#E5ECF6",
              "width": 0.5
             },
             "pattern": {
              "fillmode": "overlay",
              "size": 10,
              "solidity": 0.2
             }
            },
            "type": "bar"
           }
          ],
          "barpolar": [
           {
            "marker": {
             "line": {
              "color": "#E5ECF6",
              "width": 0.5
             },
             "pattern": {
              "fillmode": "overlay",
              "size": 10,
              "solidity": 0.2
             }
            },
            "type": "barpolar"
           }
          ],
          "carpet": [
           {
            "aaxis": {
             "endlinecolor": "#2a3f5f",
             "gridcolor": "white",
             "linecolor": "white",
             "minorgridcolor": "white",
             "startlinecolor": "#2a3f5f"
            },
            "baxis": {
             "endlinecolor": "#2a3f5f",
             "gridcolor": "white",
             "linecolor": "white",
             "minorgridcolor": "white",
             "startlinecolor": "#2a3f5f"
            },
            "type": "carpet"
           }
          ],
          "choropleth": [
           {
            "colorbar": {
             "outlinewidth": 0,
             "ticks": ""
            },
            "type": "choropleth"
           }
          ],
          "contour": [
           {
            "colorbar": {
             "outlinewidth": 0,
             "ticks": ""
            },
            "colorscale": [
             [
              0,
              "#0d0887"
             ],
             [
              0.1111111111111111,
              "#46039f"
             ],
             [
              0.2222222222222222,
              "#7201a8"
             ],
             [
              0.3333333333333333,
              "#9c179e"
             ],
             [
              0.4444444444444444,
              "#bd3786"
             ],
             [
              0.5555555555555556,
              "#d8576b"
             ],
             [
              0.6666666666666666,
              "#ed7953"
             ],
             [
              0.7777777777777778,
              "#fb9f3a"
             ],
             [
              0.8888888888888888,
              "#fdca26"
             ],
             [
              1,
              "#f0f921"
             ]
            ],
            "type": "contour"
           }
          ],
          "contourcarpet": [
           {
            "colorbar": {
             "outlinewidth": 0,
             "ticks": ""
            },
            "type": "contourcarpet"
           }
          ],
          "heatmap": [
           {
            "colorbar": {
             "outlinewidth": 0,
             "ticks": ""
            },
            "colorscale": [
             [
              0,
              "#0d0887"
             ],
             [
              0.1111111111111111,
              "#46039f"
             ],
             [
              0.2222222222222222,
              "#7201a8"
             ],
             [
              0.3333333333333333,
              "#9c179e"
             ],
             [
              0.4444444444444444,
              "#bd3786"
             ],
             [
              0.5555555555555556,
              "#d8576b"
             ],
             [
              0.6666666666666666,
              "#ed7953"
             ],
             [
              0.7777777777777778,
              "#fb9f3a"
             ],
             [
              0.8888888888888888,
              "#fdca26"
             ],
             [
              1,
              "#f0f921"
             ]
            ],
            "type": "heatmap"
           }
          ],
          "heatmapgl": [
           {
            "colorbar": {
             "outlinewidth": 0,
             "ticks": ""
            },
            "colorscale": [
             [
              0,
              "#0d0887"
             ],
             [
              0.1111111111111111,
              "#46039f"
             ],
             [
              0.2222222222222222,
              "#7201a8"
             ],
             [
              0.3333333333333333,
              "#9c179e"
             ],
             [
              0.4444444444444444,
              "#bd3786"
             ],
             [
              0.5555555555555556,
              "#d8576b"
             ],
             [
              0.6666666666666666,
              "#ed7953"
             ],
             [
              0.7777777777777778,
              "#fb9f3a"
             ],
             [
              0.8888888888888888,
              "#fdca26"
             ],
             [
              1,
              "#f0f921"
             ]
            ],
            "type": "heatmapgl"
           }
          ],
          "histogram": [
           {
            "marker": {
             "pattern": {
              "fillmode": "overlay",
              "size": 10,
              "solidity": 0.2
             }
            },
            "type": "histogram"
           }
          ],
          "histogram2d": [
           {
            "colorbar": {
             "outlinewidth": 0,
             "ticks": ""
            },
            "colorscale": [
             [
              0,
              "#0d0887"
             ],
             [
              0.1111111111111111,
              "#46039f"
             ],
             [
              0.2222222222222222,
              "#7201a8"
             ],
             [
              0.3333333333333333,
              "#9c179e"
             ],
             [
              0.4444444444444444,
              "#bd3786"
             ],
             [
              0.5555555555555556,
              "#d8576b"
             ],
             [
              0.6666666666666666,
              "#ed7953"
             ],
             [
              0.7777777777777778,
              "#fb9f3a"
             ],
             [
              0.8888888888888888,
              "#fdca26"
             ],
             [
              1,
              "#f0f921"
             ]
            ],
            "type": "histogram2d"
           }
          ],
          "histogram2dcontour": [
           {
            "colorbar": {
             "outlinewidth": 0,
             "ticks": ""
            },
            "colorscale": [
             [
              0,
              "#0d0887"
             ],
             [
              0.1111111111111111,
              "#46039f"
             ],
             [
              0.2222222222222222,
              "#7201a8"
             ],
             [
              0.3333333333333333,
              "#9c179e"
             ],
             [
              0.4444444444444444,
              "#bd3786"
             ],
             [
              0.5555555555555556,
              "#d8576b"
             ],
             [
              0.6666666666666666,
              "#ed7953"
             ],
             [
              0.7777777777777778,
              "#fb9f3a"
             ],
             [
              0.8888888888888888,
              "#fdca26"
             ],
             [
              1,
              "#f0f921"
             ]
            ],
            "type": "histogram2dcontour"
           }
          ],
          "mesh3d": [
           {
            "colorbar": {
             "outlinewidth": 0,
             "ticks": ""
            },
            "type": "mesh3d"
           }
          ],
          "parcoords": [
           {
            "line": {
             "colorbar": {
              "outlinewidth": 0,
              "ticks": ""
             }
            },
            "type": "parcoords"
           }
          ],
          "pie": [
           {
            "automargin": true,
            "type": "pie"
           }
          ],
          "scatter": [
           {
            "fillpattern": {
             "fillmode": "overlay",
             "size": 10,
             "solidity": 0.2
            },
            "type": "scatter"
           }
          ],
          "scatter3d": [
           {
            "line": {
             "colorbar": {
              "outlinewidth": 0,
              "ticks": ""
             }
            },
            "marker": {
             "colorbar": {
              "outlinewidth": 0,
              "ticks": ""
             }
            },
            "type": "scatter3d"
           }
          ],
          "scattercarpet": [
           {
            "marker": {
             "colorbar": {
              "outlinewidth": 0,
              "ticks": ""
             }
            },
            "type": "scattercarpet"
           }
          ],
          "scattergeo": [
           {
            "marker": {
             "colorbar": {
              "outlinewidth": 0,
              "ticks": ""
             }
            },
            "type": "scattergeo"
           }
          ],
          "scattergl": [
           {
            "marker": {
             "colorbar": {
              "outlinewidth": 0,
              "ticks": ""
             }
            },
            "type": "scattergl"
           }
          ],
          "scattermapbox": [
           {
            "marker": {
             "colorbar": {
              "outlinewidth": 0,
              "ticks": ""
             }
            },
            "type": "scattermapbox"
           }
          ],
          "scatterpolar": [
           {
            "marker": {
             "colorbar": {
              "outlinewidth": 0,
              "ticks": ""
             }
            },
            "type": "scatterpolar"
           }
          ],
          "scatterpolargl": [
           {
            "marker": {
             "colorbar": {
              "outlinewidth": 0,
              "ticks": ""
             }
            },
            "type": "scatterpolargl"
           }
          ],
          "scatterternary": [
           {
            "marker": {
             "colorbar": {
              "outlinewidth": 0,
              "ticks": ""
             }
            },
            "type": "scatterternary"
           }
          ],
          "surface": [
           {
            "colorbar": {
             "outlinewidth": 0,
             "ticks": ""
            },
            "colorscale": [
             [
              0,
              "#0d0887"
             ],
             [
              0.1111111111111111,
              "#46039f"
             ],
             [
              0.2222222222222222,
              "#7201a8"
             ],
             [
              0.3333333333333333,
              "#9c179e"
             ],
             [
              0.4444444444444444,
              "#bd3786"
             ],
             [
              0.5555555555555556,
              "#d8576b"
             ],
             [
              0.6666666666666666,
              "#ed7953"
             ],
             [
              0.7777777777777778,
              "#fb9f3a"
             ],
             [
              0.8888888888888888,
              "#fdca26"
             ],
             [
              1,
              "#f0f921"
             ]
            ],
            "type": "surface"
           }
          ],
          "table": [
           {
            "cells": {
             "fill": {
              "color": "#EBF0F8"
             },
             "line": {
              "color": "white"
             }
            },
            "header": {
             "fill": {
              "color": "#C8D4E3"
             },
             "line": {
              "color": "white"
             }
            },
            "type": "table"
           }
          ]
         },
         "layout": {
          "annotationdefaults": {
           "arrowcolor": "#2a3f5f",
           "arrowhead": 0,
           "arrowwidth": 1
          },
          "autotypenumbers": "strict",
          "coloraxis": {
           "colorbar": {
            "outlinewidth": 0,
            "ticks": ""
           }
          },
          "colorscale": {
           "diverging": [
            [
             0,
             "#8e0152"
            ],
            [
             0.1,
             "#c51b7d"
            ],
            [
             0.2,
             "#de77ae"
            ],
            [
             0.3,
             "#f1b6da"
            ],
            [
             0.4,
             "#fde0ef"
            ],
            [
             0.5,
             "#f7f7f7"
            ],
            [
             0.6,
             "#e6f5d0"
            ],
            [
             0.7,
             "#b8e186"
            ],
            [
             0.8,
             "#7fbc41"
            ],
            [
             0.9,
             "#4d9221"
            ],
            [
             1,
             "#276419"
            ]
           ],
           "sequential": [
            [
             0,
             "#0d0887"
            ],
            [
             0.1111111111111111,
             "#46039f"
            ],
            [
             0.2222222222222222,
             "#7201a8"
            ],
            [
             0.3333333333333333,
             "#9c179e"
            ],
            [
             0.4444444444444444,
             "#bd3786"
            ],
            [
             0.5555555555555556,
             "#d8576b"
            ],
            [
             0.6666666666666666,
             "#ed7953"
            ],
            [
             0.7777777777777778,
             "#fb9f3a"
            ],
            [
             0.8888888888888888,
             "#fdca26"
            ],
            [
             1,
             "#f0f921"
            ]
           ],
           "sequentialminus": [
            [
             0,
             "#0d0887"
            ],
            [
             0.1111111111111111,
             "#46039f"
            ],
            [
             0.2222222222222222,
             "#7201a8"
            ],
            [
             0.3333333333333333,
             "#9c179e"
            ],
            [
             0.4444444444444444,
             "#bd3786"
            ],
            [
             0.5555555555555556,
             "#d8576b"
            ],
            [
             0.6666666666666666,
             "#ed7953"
            ],
            [
             0.7777777777777778,
             "#fb9f3a"
            ],
            [
             0.8888888888888888,
             "#fdca26"
            ],
            [
             1,
             "#f0f921"
            ]
           ]
          },
          "colorway": [
           "#636efa",
           "#EF553B",
           "#00cc96",
           "#ab63fa",
           "#FFA15A",
           "#19d3f3",
           "#FF6692",
           "#B6E880",
           "#FF97FF",
           "#FECB52"
          ],
          "font": {
           "color": "#2a3f5f"
          },
          "geo": {
           "bgcolor": "white",
           "lakecolor": "white",
           "landcolor": "#E5ECF6",
           "showlakes": true,
           "showland": true,
           "subunitcolor": "white"
          },
          "hoverlabel": {
           "align": "left"
          },
          "hovermode": "closest",
          "mapbox": {
           "style": "light"
          },
          "paper_bgcolor": "white",
          "plot_bgcolor": "#E5ECF6",
          "polar": {
           "angularaxis": {
            "gridcolor": "white",
            "linecolor": "white",
            "ticks": ""
           },
           "bgcolor": "#E5ECF6",
           "radialaxis": {
            "gridcolor": "white",
            "linecolor": "white",
            "ticks": ""
           }
          },
          "scene": {
           "xaxis": {
            "backgroundcolor": "#E5ECF6",
            "gridcolor": "white",
            "gridwidth": 2,
            "linecolor": "white",
            "showbackground": true,
            "ticks": "",
            "zerolinecolor": "white"
           },
           "yaxis": {
            "backgroundcolor": "#E5ECF6",
            "gridcolor": "white",
            "gridwidth": 2,
            "linecolor": "white",
            "showbackground": true,
            "ticks": "",
            "zerolinecolor": "white"
           },
           "zaxis": {
            "backgroundcolor": "#E5ECF6",
            "gridcolor": "white",
            "gridwidth": 2,
            "linecolor": "white",
            "showbackground": true,
            "ticks": "",
            "zerolinecolor": "white"
           }
          },
          "shapedefaults": {
           "line": {
            "color": "#2a3f5f"
           }
          },
          "ternary": {
           "aaxis": {
            "gridcolor": "white",
            "linecolor": "white",
            "ticks": ""
           },
           "baxis": {
            "gridcolor": "white",
            "linecolor": "white",
            "ticks": ""
           },
           "bgcolor": "#E5ECF6",
           "caxis": {
            "gridcolor": "white",
            "linecolor": "white",
            "ticks": ""
           }
          },
          "title": {
           "x": 0.05
          },
          "xaxis": {
           "automargin": true,
           "gridcolor": "white",
           "linecolor": "white",
           "ticks": "",
           "title": {
            "standoff": 15
           },
           "zerolinecolor": "white",
           "zerolinewidth": 2
          },
          "yaxis": {
           "automargin": true,
           "gridcolor": "white",
           "linecolor": "white",
           "ticks": "",
           "title": {
            "standoff": 15
           },
           "zerolinecolor": "white",
           "zerolinewidth": 2
          }
         }
        },
        "title": {
         "text": ""
        },
        "width": 1000
       }
      }
     },
     "metadata": {},
     "output_type": "display_data"
    }
   ],
   "source": [
    "# network.plot(margin=0.3 ,bus_sizes=0.005, line_widths=0.3)\n",
    "network.iplot(mapbox=True, mapbox_token='pk.eyJ1Ijoia3RlaHJhbmNoaSIsImEiOiJjbDJzNW5kdHMwaGJzM2pudDBsazZ5am80In0.hQfjJnhiiO1-YcJEEpN-1A',size= (1000,700));"
   ]
  },
  {
   "cell_type": "code",
   "execution_count": 44,
   "metadata": {},
   "outputs": [
    {
     "name": "stderr",
     "output_type": "stream",
     "text": [
      "INFO:pypsa.linopf:Prepare linear problem\n",
      "/Users/kamrantehranchi/opt/miniconda3/envs/pypsa-usa/lib/python3.10/site-packages/pypsa/linopt.py:473: FutureWarning:\n",
      "\n",
      "In a future version, `df.iloc[:, i] = newvals` will attempt to set the values inplace instead of always setting a new array. To retain the old behavior, use either `df[df.columns[i]] = newvals` or, if columns are non-unique, `df.isetitem(i, newvals)`\n",
      "\n",
      "/Users/kamrantehranchi/opt/miniconda3/envs/pypsa-usa/lib/python3.10/site-packages/pypsa/linopt.py:473: FutureWarning:\n",
      "\n",
      "In a future version, `df.iloc[:, i] = newvals` will attempt to set the values inplace instead of always setting a new array. To retain the old behavior, use either `df[df.columns[i]] = newvals` or, if columns are non-unique, `df.isetitem(i, newvals)`\n",
      "\n",
      "INFO:pypsa.linopf:Total preparation time: 1.67s\n",
      "INFO:pypsa.linopf:Solve linear problem using Gurobi solver\n"
     ]
    },
    {
     "name": "stdout",
     "output_type": "stream",
     "text": [
      "Read LP format model from file /var/folders/00/vqry7y9s78q3rvf_m_jmk_bc0000gn/T/pypsa-problem-c16t1b61.lp\n",
      "Reading time = 0.05 seconds\n",
      "obj: 22930 rows, 8885 columns, 50377 nonzeros\n",
      "Gurobi Optimizer version 10.0.0 build v10.0.0rc2 (mac64[x86])\n",
      "\n",
      "CPU model: Intel(R) Core(TM) i7-1068NG7 CPU @ 2.30GHz\n",
      "Thread count: 4 physical cores, 8 logical processors, using up to 8 threads\n",
      "\n",
      "Optimize a model with 22930 rows, 8885 columns and 50377 nonzeros\n",
      "Model fingerprint: 0x13ed454a\n",
      "Coefficient statistics:\n",
      "  Matrix range     [1e-03, 2e+03]\n",
      "  Objective range  [1e+00, 2e+05]\n",
      "  Bounds range     [1e+00, 3e+09]\n",
      "  RHS range        [1e+00, 3e+04]\n",
      "Warning: Model contains large bounds\n",
      "         Consider reformulating model or setting NumericFocus parameter\n",
      "         to avoid numerical issues.\n",
      "Presolve removed 19028 rows and 2697 columns\n",
      "Presolve time: 0.06s\n",
      "Presolved: 3902 rows, 6188 columns, 29946 nonzeros\n",
      "\n",
      "Concurrent LP optimizer: dual simplex and barrier\n",
      "Showing barrier log only...\n",
      "\n",
      "Ordering time: 0.01s\n",
      "\n",
      "Barrier statistics:\n",
      " AA' NZ     : 6.241e+04\n",
      " Factor NZ  : 1.944e+05 (roughly 6 MB of memory)\n",
      " Factor Ops : 1.926e+07 (less than 1 second per iteration)\n",
      " Threads    : 3\n",
      "\n",
      "                  Objective                Residual\n",
      "Iter       Primal          Dual         Primal    Dual     Compl     Time\n",
      "   0   9.92583145e+11 -3.81801787e+12  4.06e+04 5.34e-11  3.31e+09     0s\n",
      "   1   2.92152956e+11 -2.01503174e+12  4.19e+03 4.68e+04  4.55e+08     0s\n",
      "   2   4.91752555e+10 -4.91461713e+11  5.55e+02 8.44e+02  6.65e+07     0s\n",
      "   3   1.98647037e+10 -1.06258806e+11  2.01e+02 4.66e-09  1.56e+07     0s\n",
      "   4   1.48302968e+10 -4.15755992e+10  1.46e+02 1.12e-08  8.23e+06     0s\n",
      "   5   1.24465277e+10 -1.18101146e+10  1.19e+02 8.20e-08  5.74e+06     0s\n",
      "   6   1.22333323e+10  4.18643909e+09  1.14e+02 3.28e-07  5.48e+06     0s\n",
      "   7   1.22109152e+10  2.39348766e+10  1.13e+02 2.98e-07  5.40e+06     0s\n",
      "   8   1.21974806e+10  1.14987842e+11  1.12e+02 4.77e-07  5.35e+06     0s\n",
      "   9   1.21975434e+10  4.29135964e+11  1.12e+02 4.77e-07  5.39e+06     0s\n",
      "  10   9.74003783e+12 -3.81801787e+12  4.06e+05 5.34e-11  3.04e+10     0s\n",
      "  11   5.46714104e+12 -4.47428134e+12  5.60e+04 4.20e+04  6.52e+09     0s\n",
      "  12   3.57797979e+11 -2.55963669e+12  3.14e+03 3.73e-09  5.20e+08     0s\n",
      "  13   7.60442811e+10 -8.18370663e+11  5.92e+02 9.31e-10  1.08e+08     0s\n",
      "  14   3.17784900e+10 -1.76734555e+11  2.22e+02 4.28e-08  2.55e+07     0s\n",
      "  15   2.19856677e+10 -7.25178766e+10  1.49e+02 1.53e-07  1.26e+07     1s\n",
      "  16   1.86138876e+10 -3.95987150e+10  1.24e+02 7.45e-08  9.79e+06     1s\n",
      "  17   1.81655933e+10 -2.19463917e+10  1.19e+02 3.53e-05  9.17e+06     1s\n",
      "  18   1.80082473e+10 -4.52639217e+09  1.18e+02 1.31e-06  8.95e+06     1s\n",
      "  19   1.76396300e+10  3.27307676e+10  1.14e+02 8.94e-07  8.53e+06     1s\n",
      "  20   1.75982476e+10  2.15270802e+11  1.13e+02 5.72e-05  8.53e+06     1s\n",
      "  21   1.75419901e+10  9.70588406e+11  1.12e+02 2.30e-04  8.41e+06     1s\n",
      "  22   1.75239356e+10  1.90566230e+12  1.12e+02 2.27e-04  8.44e+06     1s\n",
      "  23   1.75452164e+10  3.21590755e+12  1.12e+02 7.63e-06  8.55e+06     1s\n",
      "  24   1.75704429e+10  1.97311226e+13  1.12e+02 4.88e-04  9.58e+06     1s\n",
      "  25   1.75278201e+10  1.30063383e+14  1.12e+02 3.91e-03  1.52e+07     1s\n",
      "  26   1.75675325e+10  7.25335916e+14  1.12e+02 1.95e-03  4.41e+07     1s\n",
      "  27   1.78296229e+10  2.11719019e+15  1.12e+02 9.18e-02  9.84e+07     1s\n",
      "  28   1.79202749e+10  3.98235033e+15  1.12e+02 1.91e-01  1.69e+08     1s\n",
      "  29   1.81205678e+10  7.90995934e+15  1.12e+02 3.91e-01  3.07e+08     1s\n",
      "  30   1.86755095e+10  2.34463583e+16  1.12e+02 1.78e+00  8.99e+08     1s\n",
      "  31   1.94976974e+10  2.81766874e+16  1.12e+02 2.05e-02  1.03e+09     1s\n",
      "\n",
      "Barrier performed 31 iterations in 0.72 seconds (0.17 work units)\n",
      "Numerical trouble encountered\n",
      "\n",
      "Model may be infeasible or unbounded.  Consider using the\n",
      "homogeneous algorithm (through parameter 'BarHomogeneous')\n",
      "\n",
      "\n",
      "Solved with dual simplex\n",
      "\n",
      "Solved in 3794 iterations and 0.87 seconds (0.47 work units)\n",
      "Infeasible or unbounded model\n"
     ]
    },
    {
     "name": "stderr",
     "output_type": "stream",
     "text": [
      "WARNING:pypsa.linopf:Optimization failed with status warning and termination condition infeasible or unbounded\n"
     ]
    },
    {
     "data": {
      "text/plain": [
       "('warning', 'infeasible or unbounded')"
      ]
     },
     "execution_count": 44,
     "metadata": {},
     "output_type": "execute_result"
    }
   ],
   "source": [
    "simulation_hours = 10\n",
    "network.lopf(network.snapshots[0:simulation_hours], solver_name=\"gurobi\")"
   ]
  },
  {
   "cell_type": "code",
   "execution_count": null,
   "metadata": {},
   "outputs": [],
   "source": []
  }
 ],
 "metadata": {
  "kernelspec": {
   "display_name": "pypsa-usa",
   "language": "python",
   "name": "python3"
  },
  "language_info": {
   "codemirror_mode": {
    "name": "ipython",
    "version": 3
   },
   "file_extension": ".py",
   "mimetype": "text/x-python",
   "name": "python",
   "nbconvert_exporter": "python",
   "pygments_lexer": "ipython3",
   "version": "3.10.7"
  },
  "orig_nbformat": 4
 },
 "nbformat": 4,
 "nbformat_minor": 2
}
