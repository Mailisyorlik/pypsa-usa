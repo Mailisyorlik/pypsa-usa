{
 "cells": [
  {
   "cell_type": "code",
   "execution_count": null,
   "id": "12be1b70",
   "metadata": {},
   "outputs": [],
   "source": [
    "# start coding here"
   ]
  },
  {
   "cell_type": "code",
   "execution_count": null,
   "id": "4c6fddcc",
   "metadata": {},
   "outputs": [],
   "source": [
    "import pypsa\n",
    "import matplotlib.pyplot as plt\n",
    "import geopandas as gpd\n",
    "import numpy as np\n",
    "import pandas as pd\n",
    "from pathlib import Path\n",
    "import seaborn as sns\n",
    "from datetime import datetime\n",
    "from cartopy import crs as ccrs\n",
    "from pypsa.plot import add_legend_circles, add_legend_lines, add_legend_patches"
   ]
  },
  {
   "cell_type": "code",
   "execution_count": null,
   "id": "745c8c97",
   "metadata": {},
   "outputs": [],
   "source": [
    "sns.set_theme(\"paper\", style=\"darkgrid\")"
   ]
  },
  {
   "cell_type": "code",
   "execution_count": null,
   "id": "19cf8141",
   "metadata": {},
   "outputs": [],
   "source": [
    "n = pypsa.Network(snakemake.input.network)\n",
    "regions_onshore = gpd.read_file(snakemake.input.regions_onshore)"
   ]
  },
  {
   "cell_type": "code",
   "execution_count": null,
   "id": "09df91d0",
   "metadata": {},
   "outputs": [],
   "source": [
    "# TODO\n",
    "n.carriers.loc[\"wind\", \"color\"] = \"lightblue\"\n",
    "n.carriers.loc[\"ng\", \"color\"] = \"indianred\""
   ]
  },
  {
   "cell_type": "markdown",
   "id": "1424d8d3",
   "metadata": {},
   "outputs": [],
   "source": [
    "# Capacity plots"
   ]
  },
  {
   "cell_type": "code",
   "execution_count": null,
   "id": "6b43b69c",
   "metadata": {},
   "outputs": [],
   "source": [
    "if snakemake.wildcards.interconnect != \"usa\":\n",
    "    bus_scale = 1e5\n",
    "else:\n",
    "    bus_scale = 5e3\n",
    "\n",
    "line_scale = 2e3"
   ]
  },
  {
   "cell_type": "code",
   "execution_count": null,
   "id": "a23790dd",
   "metadata": {},
   "outputs": [],
   "source": [
    "fig, ax = plt.subplots(figsize=(8, 8), subplot_kw={\"projection\": ccrs.PlateCarree()})\n",
    "n.plot(\n",
    "    bus_sizes=n.generators.groupby([\"bus\", \"carrier\"]).p_nom.sum() / bus_scale,\n",
    "    bus_alpha=0.7,\n",
    "    line_widths=n.lines.s_nom / line_scale,\n",
    "    line_colors=\"teal\",\n",
    "    ax=ax,\n",
    "    margin=0.2,\n",
    "    color_geomap=True,\n",
    ")\n",
    "regions_onshore.plot(\n",
    "    ax=ax,\n",
    "    facecolor=\"whitesmoke\",\n",
    "    edgecolor=\"grey\",\n",
    "    aspect=\"equal\",\n",
    "    transform=ccrs.PlateCarree(),\n",
    "    linewidth=0.1,\n",
    ")\n",
    "\n",
    "legend_kwargs = {\"loc\": \"upper left\", \"labelspacing\": 1.5, \"frameon\": False}\n",
    "bus_sizes = [1000, 2000, 5000]  # in MW\n",
    "line_sizes = [2000, 5000]  # in MW\n",
    "add_legend_circles(\n",
    "    ax,\n",
    "    [s / bus_scale for s in bus_sizes],\n",
    "    [f\"{s / 1000} GW\" for s in bus_sizes],\n",
    "    legend_kw={\"bbox_to_anchor\": (1, 1), **legend_kwargs},\n",
    ")\n",
    "add_legend_lines(\n",
    "    ax,\n",
    "    [s / line_scale for s in line_sizes],\n",
    "    [f\"{s / 1000} GW\" for s in line_sizes],\n",
    "    legend_kw={\"bbox_to_anchor\": (1, 0.8), **legend_kwargs},\n",
    ")\n",
    "add_legend_patches(\n",
    "    ax,\n",
    "    n.carriers.color,\n",
    "    n.carriers.nice_name,\n",
    "    legend_kw={\"bbox_to_anchor\": (1, 0.5), **legend_kwargs},\n",
    ")\n",
    "fig.tight_layout()\n",
    "fig.savefig(snakemake.output.capacity_map)"
   ]
  },
  {
   "cell_type": "code",
   "execution_count": null,
   "id": "50f462a3",
   "metadata": {},
   "outputs": [],
   "source": [
    "fig, ax = plt.subplots()\n",
    "capacities = n.generators.groupby(\"carrier\").p_nom_opt.sum()\n",
    "capacities.rename(n.carriers.nice_name, inplace=True)\n",
    "colors = n.carriers.set_index(\"nice_name\").color[capacities.index]\n",
    "capacities.div(1e3).plot.bar(color=colors, ax=ax)\n",
    "ax.set_ylabel(\"Total capacity [GW]\")\n",
    "ax.set_xlabel(\"\")\n",
    "fig.savefig(snakemake.output.capacity_bar)"
   ]
  },
  {
   "cell_type": "markdown",
   "id": "c97c0a59",
   "metadata": {},
   "outputs": [],
   "source": [
    "# Operation plots"
   ]
  },
  {
   "cell_type": "code",
   "execution_count": null,
   "id": "3afb3d2e",
   "metadata": {},
   "outputs": [],
   "source": [
    "if snakemake.wildcards.interconnect != \"usa\":\n",
    "    bus_scale = 5e7\n",
    "else:\n",
    "    bus_scale = 1e5\n",
    "\n",
    "line_scale = 1e6"
   ]
  },
  {
   "cell_type": "code",
   "execution_count": null,
   "id": "f58b45ae",
   "metadata": {},
   "outputs": [],
   "source": [
    "fig, ax = plt.subplots(figsize=(8, 8), subplot_kw={\"projection\": ccrs.PlateCarree()})\n",
    "n.plot(\n",
    "    bus_sizes=n.generators_t.p.sum()\n",
    "    .groupby([n.generators.bus, n.generators.carrier])\n",
    "    .sum()\n",
    "    / bus_scale,\n",
    "    bus_alpha=0.7,\n",
    "    line_widths=n.lines_t.p0.sum() / line_scale,\n",
    "    line_colors=\"teal\",\n",
    "    ax=ax,\n",
    "    margin=0.2,\n",
    "    color_geomap=True,\n",
    ")\n",
    "regions_onshore.plot(\n",
    "    ax=ax,\n",
    "    facecolor=\"whitesmoke\",\n",
    "    edgecolor=\"grey\",\n",
    "    aspect=\"equal\",\n",
    "    transform=ccrs.PlateCarree(),\n",
    "    linewidth=0.1,\n",
    ")\n",
    "\n",
    "legend_kwargs = {\"loc\": \"upper left\", \"labelspacing\": 1.5, \"frameon\": False}\n",
    "bus_sizes = [1000000, 2000000, 5000000]  # in MW\n",
    "line_sizes = [2000000, 5000000]  # in MW\n",
    "add_legend_circles(\n",
    "    ax,\n",
    "    [s / bus_scale for s in bus_sizes],\n",
    "    [f\"{s / 1e6} TWh\" for s in bus_sizes],\n",
    "    legend_kw={\"bbox_to_anchor\": (1, 1), **legend_kwargs},\n",
    ")\n",
    "add_legend_lines(\n",
    "    ax,\n",
    "    [s / line_scale for s in line_sizes],\n",
    "    [f\"{s / 1e6} TWh\" for s in line_sizes],\n",
    "    legend_kw={\"bbox_to_anchor\": (1, 0.8), **legend_kwargs},\n",
    ")\n",
    "add_legend_patches(\n",
    "    ax,\n",
    "    n.carriers.color,\n",
    "    n.carriers.nice_name,\n",
    "    legend_kw={\"bbox_to_anchor\": (1, 0.5), **legend_kwargs},\n",
    ")\n",
    "fig.tight_layout()\n",
    "fig.savefig(snakemake.output.operation_map)"
   ]
  },
  {
   "cell_type": "markdown",
   "id": "0abee5f1",
   "metadata": {},
   "outputs": [],
   "source": [
    "# Cost plots"
   ]
  },
  {
   "cell_type": "code",
   "execution_count": null,
   "id": "96321119",
   "metadata": {
    "scrolled": true
   },
   "outputs": [],
   "source": [
    "carriers = n.generators.carrier\n",
    "production = (\n",
    "    n.generators_t.p.groupby(carriers, axis=1)\n",
    "    .sum()\n",
    "    .rename(columns=n.carriers.nice_name)\n",
    "    / 1e3\n",
    ")\n",
    "production = production.loc[:, production.sum() > 0.1]\n",
    "demand = n.loads_t.p.sum(1).rename(\"Demand\") / 1e3\n",
    "colors = n.carriers.set_index(\"nice_name\").color[production.columns]\n",
    "\n",
    "for timeslice in list(range(1, 12)) + [\"all\"]:\n",
    "    snapshots = (\n",
    "        n.snapshots.get_loc(f\"2016-{timeslice}\")\n",
    "        if timeslice != \"all\"\n",
    "        else slice(None, None)\n",
    "    )\n",
    "    fig, ax = plt.subplots(figsize=(14, 4))\n",
    "    production[snapshots].plot.area(ax=ax, color=colors, alpha=0.7, legend=\"reverse\")\n",
    "    # demand.plot.line(ax=ax, ls='-', color='darkblue')\n",
    "    ax.legend(bbox_to_anchor=(1, 1), loc=\"upper left\")\n",
    "    ax.set_ylabel(\"Power [GW]\")\n",
    "    ax.set_xlabel(\"\")\n",
    "    fig.tight_layout()\n",
    "    suffix = (\n",
    "        \"-\" + datetime.strptime(str(timeslice), \"%m\").strftime(\"%b\")\n",
    "        if timeslice != \"all\"\n",
    "        else \"\"\n",
    "    )\n",
    "    path = Path(snakemake.output.operation_area)\n",
    "    fig.savefig(path.parent / (path.stem + suffix + path.suffix))"
   ]
  },
  {
   "cell_type": "code",
   "execution_count": null,
   "id": "328ee2cb",
   "metadata": {},
   "outputs": [],
   "source": [
    "fig, ax = plt.subplots()\n",
    "total_production = n.snapshot_weightings.generators @ production\n",
    "total_production.div(1e3).plot.bar(color=colors, ax=ax)\n",
    "ax.set_ylabel(\"Total production [TWh]\")\n",
    "ax.set_xlabel(\"\")\n",
    "fig.savefig(snakemake.output.operation_bar)"
   ]
  },
  {
   "cell_type": "code",
   "execution_count": null,
   "id": "dd213083",
   "metadata": {},
   "outputs": [],
   "source": [
    "fig, ax = plt.subplots()\n",
    "\n",
    "production = n.generators_t.p\n",
    "operational_costs = (\n",
    "    (production * n.generators.marginal_cost)\n",
    "    .groupby(carriers, axis=1)\n",
    "    .sum()\n",
    "    .rename(columns=n.carriers.nice_name)\n",
    ").sum()\n",
    "\n",
    "capital_costs = (\n",
    "    n.generators.eval(\"p_nom_opt * capital_cost\")\n",
    "    .groupby(carriers)\n",
    "    .sum()\n",
    "    .rename(n.carriers.nice_name)\n",
    ")\n",
    "\n",
    "costs = pd.concat([operational_costs, capital_costs], axis=1, keys=[\"OPEX\", \"CAPEX\"])\n",
    "costs = costs.reset_index(\"carrier\")\n",
    "\n",
    "\n",
    "s1 = sns.barplot(x=\"carrier\", y=\"CAPEX\", data=costs, alpha=0.6, ax=ax, palette=colors)\n",
    "s2 = sns.barplot(\n",
    "    x=\"carrier\", y=\"OPEX\", data=costs, ax=ax, bottom=costs[\"CAPEX\"], palette=colors\n",
    ")\n",
    "\n",
    "ax.set_xlabel(\"\")\n",
    "ax.set_ylabel(\"CAPEX & OPEX [bn€]\")\n",
    "fig.savefig(snakemake.output.cost_bar)"
   ]
  }
 ],
 "metadata": {
  "@webio": {
   "lastCommId": null,
   "lastKernelId": null
  },
  "kernelspec": {
   "display_name": "Python 3",
   "language": "python",
   "name": "python3"
  },
  "language_info": {
   "codemirror_mode": {
    "name": "ipython",
    "version": 3
   },
   "file_extension": ".py",
   "mimetype": "text/x-python",
   "name": "python",
   "nbconvert_exporter": "python",
   "pygments_lexer": "ipython3",
   "version": "3.10.5"
  }
 },
 "nbformat": 4,
 "nbformat_minor": 5
}
