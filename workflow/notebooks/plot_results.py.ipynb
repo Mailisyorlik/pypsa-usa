{
 "cells": [
  {
   "cell_type": "code",
   "execution_count": null,
   "id": "12be1b70",
   "metadata": {},
   "outputs": [],
   "source": [
    "# start coding here"
   ]
  },
  {
   "cell_type": "code",
   "execution_count": null,
   "id": "4c6fddcc",
   "metadata": {},
   "outputs": [],
   "source": [
    "import pypsa\n",
    "import matplotlib.pyplot as plt\n",
    "import numpy as np\n",
    "from pathlib import Path\n",
    "from datetime import datetime\n",
    "from cartopy import crs as ccrs\n",
    "from pypsa.plot import add_legend_circles, add_legend_lines, add_legend_patches"
   ]
  },
  {
   "cell_type": "code",
   "execution_count": null,
   "id": "19cf8141",
   "metadata": {},
   "outputs": [],
   "source": [
    "n = pypsa.Network(snakemake.input.network)\n",
    "\n",
    "if snakemake.wildcards.interconnect == \"texas\":\n",
    "    bus_scale = 1e5\n",
    "else:\n",
    "    bus_scale = 5e3\n",
    "\n",
    "line_scale = 2e3"
   ]
  },
  {
   "cell_type": "code",
   "execution_count": null,
   "id": "09df91d0",
   "metadata": {},
   "outputs": [],
   "source": [
    "# TODO\n",
    "n.carriers.loc[\"wind\", \"color\"] = \"lightblue\"\n",
    "n.carriers.loc[\"ng\", \"color\"] = \"indianred\""
   ]
  },
  {
   "cell_type": "code",
   "execution_count": null,
   "id": "a23790dd",
   "metadata": {},
   "outputs": [],
   "source": [
    "fig, ax = plt.subplots(figsize=(10, 10), subplot_kw={\"projection\": ccrs.PlateCarree()})\n",
    "n.plot(\n",
    "    bus_sizes=n.generators.groupby([\"bus\", \"carrier\"]).p_nom.sum() / bus_scale,\n",
    "    bus_alpha=0.7,\n",
    "    line_widths=n.lines.s_nom / line_scale,\n",
    "    line_colors=\"teal\",\n",
    "    ax=ax,\n",
    "    margin=0.2,\n",
    "    color_geomap=True,\n",
    ")\n",
    "\n",
    "legend_kwargs = {\"loc\": \"upper left\", \"labelspacing\": 2, \"frameon\": False}\n",
    "bus_sizes = [1000, 2000, 5000]  # in MW\n",
    "line_sizes = [2000, 5000]  # in MW\n",
    "add_legend_circles(\n",
    "    ax,\n",
    "    [s / bus_scale for s in bus_sizes],\n",
    "    [f\"{s / 1000} GW\" for s in bus_sizes],\n",
    "    legend_kw={\"bbox_to_anchor\": (1, 1), **legend_kwargs},\n",
    ")\n",
    "add_legend_lines(\n",
    "    ax,\n",
    "    [s / line_scale for s in line_sizes],\n",
    "    [f\"{s / 1000} GW\" for s in line_sizes],\n",
    "    legend_kw={\"bbox_to_anchor\": (1, 0.8), **legend_kwargs},\n",
    ")\n",
    "add_legend_patches(\n",
    "    ax,\n",
    "    n.carriers.color,\n",
    "    n.carriers.nice_name,\n",
    "    legend_kw={\"bbox_to_anchor\": (1, 0.5), **legend_kwargs},\n",
    ")\n",
    "fig.tight_layout()\n",
    "fig.savefig(snakemake.output.capacities)"
   ]
  },
  {
   "cell_type": "code",
   "execution_count": null,
   "id": "96321119",
   "metadata": {
    "scrolled": true
   },
   "outputs": [],
   "source": [
    "carriers = n.generators.carrier\n",
    "production = (\n",
    "    n.generators_t.p.groupby(carriers, axis=1)\n",
    "    .sum()\n",
    "    .rename(columns=n.carriers.nice_name)\n",
    "    / 1e3\n",
    ")\n",
    "production = production.loc[:, production.sum() > 0.1]\n",
    "demand = n.loads_t.p.sum(1).rename(\"Demand\") / 1e3\n",
    "colors = n.carriers.set_index(\"nice_name\").color[production.columns]\n",
    "\n",
    "for timeslice in list(range(1, 12)) + [\"all\"]:\n",
    "    sns = (\n",
    "        n.snapshots.get_loc(f\"2016-{timeslice}\")\n",
    "        if timeslice != \"all\"\n",
    "        else slice(None, None)\n",
    "    )\n",
    "    fig, ax = plt.subplots(figsize=(14, 4))\n",
    "    production[sns].plot.area(ax=ax, color=colors, alpha=0.7, legend=\"reverse\")\n",
    "    # demand.plot.line(ax=ax, ls='-', color='darkblue')\n",
    "    ax.legend(bbox_to_anchor=(1, 1), loc=\"upper left\")\n",
    "    ax.set_ylabel(\"Power [GW]\")\n",
    "    ax.set_xlabel(\"\")\n",
    "    fig.tight_layout()\n",
    "    suffix = (\n",
    "        \"-\" + datetime.strptime(str(timeslice), \"%m\").strftime(\"%b\")\n",
    "        if timeslice != \"all\"\n",
    "        else \"\"\n",
    "    )\n",
    "    path = Path(snakemake.output.operation)\n",
    "    fig.savefig(path.parent / (path.stem + suffix + path.suffix))"
   ]
  },
  {
   "cell_type": "code",
   "execution_count": null,
   "id": "328ee2cb",
   "metadata": {},
   "outputs": [],
   "source": []
  }
 ],
 "metadata": {
  "@webio": {
   "lastCommId": null,
   "lastKernelId": null
  },
  "kernelspec": {
   "display_name": "Python 3",
   "language": "python",
   "name": "python3"
  },
  "language_info": {
   "codemirror_mode": {
    "name": "ipython",
    "version": 3
   },
   "file_extension": ".py",
   "mimetype": "text/x-python",
   "name": "python",
   "nbconvert_exporter": "python",
   "pygments_lexer": "ipython3",
   "version": "3.10.5"
  }
 },
 "nbformat": 4,
 "nbformat_minor": 5
}
