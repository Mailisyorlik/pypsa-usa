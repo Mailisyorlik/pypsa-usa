{
 "cells": [
  {
   "cell_type": "code",
   "execution_count": 1,
   "metadata": {},
   "outputs": [],
   "source": [
    "import pypsa\n",
    "import pandas as pd\n",
    "import numpy as np\n",
    "import matplotlib.pyplot as plt\n",
    "# sns.set_theme(\"paper\", style=\"darkgrid\")"
   ]
  },
  {
   "attachments": {},
   "cell_type": "markdown",
   "metadata": {},
   "source": [
    "## Loading Network"
   ]
  },
  {
   "cell_type": "code",
   "execution_count": 2,
   "metadata": {},
   "outputs": [
    {
     "name": "stderr",
     "output_type": "stream",
     "text": [
      "INFO:pypsa.io:Imported network elec_s_50.nc has buses, carriers, generators, lines, links, loads\n"
     ]
    }
   ],
   "source": [
    "resources_path='/Users/kamrantehranchi/Library/CloudStorage/OneDrive-Stanford/Kamran_OSW/PyPSA_Models/pypsa-breakthroughenergy-usa/workflow/resources'\n",
    "clustered_path='/Users/kamrantehranchi/Library/CloudStorage/OneDrive-Stanford/Kamran_OSW/PyPSA_Models/pypsa-breakthroughenergy-usa/workflow/resources/western/elec_s_50.nc'\n",
    "network = pypsa.Network(clustered_path)\n",
    "\n",
    "# network_solved = pypsa.Network('/Users/kamrantehranchi/Library/CloudStorage/OneDrive-Stanford/Kamran_OSW/PyPSA_Models/pypsa-breakthroughenergy-usa/workflow/notebooks/Solved_Network_WECC_50.nc')"
   ]
  },
  {
   "cell_type": "code",
   "execution_count": 3,
   "metadata": {},
   "outputs": [
    {
     "data": {
      "application/vnd.plotly.v1+json": {
       "config": {
        "linkText": "Export to plot.ly",
        "plotlyServerURL": "https://plot.ly",
        "showLink": false
       },
       "data": [
        {
         "lat": [
          47.73997599999999,
          46.21532641509434
         ],
         "line": {
          "color": "rosybrown",
          "width": 3
         },
         "lon": [
          -117.27475999999997,
          -119.3096037735849
         ],
         "mode": "lines",
         "opacity": 0.8,
         "type": "scattermapbox"
        },
        {
         "lat": [
          47.73997599999999,
          47.97001111111112
         ],
         "line": {
          "color": "rosybrown",
          "width": 3
         },
         "lon": [
          -117.27475999999997,
          -114.84844444444445
         ],
         "mode": "lines",
         "opacity": 0.8,
         "type": "scattermapbox"
        },
        {
         "lat": [
          47.73997599999999,
          45.97231304347826
         ],
         "line": {
          "color": "rosybrown",
          "width": 3
         },
         "lon": [
          -117.27475999999997,
          -117.42165217391306
         ],
         "mode": "lines",
         "opacity": 0.8,
         "type": "scattermapbox"
        },
        {
         "lat": [
          47.73997599999999,
          48.11697692307692
         ],
         "line": {
          "color": "rosybrown",
          "width": 3
         },
         "lon": [
          -117.27475999999997,
          -119.68223076923078
         ],
         "mode": "lines",
         "opacity": 0.8,
         "type": "scattermapbox"
        },
        {
         "lat": [
          47.73997599999999,
          43.467796842105265
         ],
         "line": {
          "color": "rosybrown",
          "width": 3
         },
         "lon": [
          -117.27475999999997,
          -115.62950526315785
         ],
         "mode": "lines",
         "opacity": 0.8,
         "type": "scattermapbox"
        },
        {
         "lat": [
          33.50545581395349,
          36.24779090909092
         ],
         "line": {
          "color": "rosybrown",
          "width": 3
         },
         "lon": [
          -112.00686378737544,
          -111.46913636363637
         ],
         "mode": "lines",
         "opacity": 0.8,
         "type": "scattermapbox"
        },
        {
         "lat": [
          33.50545581395349,
          35.013650000000005
         ],
         "line": {
          "color": "rosybrown",
          "width": 3
         },
         "lon": [
          -112.00686378737544,
          -109.80593181818182
         ],
         "mode": "lines",
         "opacity": 0.8,
         "type": "scattermapbox"
        },
        {
         "lat": [
          33.50545581395349,
          34.31471521739131
         ],
         "line": {
          "color": "rosybrown",
          "width": 3
         },
         "lon": [
          -112.00686378737544,
          -114.11428260869566
         ],
         "mode": "lines",
         "opacity": 0.8,
         "type": "scattermapbox"
        },
        {
         "lat": [
          33.50545581395349,
          34.14683333333333
         ],
         "line": {
          "color": "rosybrown",
          "width": 3
         },
         "lon": [
          -112.00686378737544,
          -116.33466666666668
         ],
         "mode": "lines",
         "opacity": 0.8,
         "type": "scattermapbox"
        },
        {
         "lat": [
          33.50545581395349,
          32.07233734939759
         ],
         "line": {
          "color": "rosybrown",
          "width": 3
         },
         "lon": [
          -112.00686378737544,
          -110.81897590361444
         ],
         "mode": "lines",
         "opacity": 0.8,
         "type": "scattermapbox"
        },
        {
         "lat": [
          36.24779090909092,
          35.013650000000005
         ],
         "line": {
          "color": "rosybrown",
          "width": 3
         },
         "lon": [
          -111.46913636363637,
          -109.80593181818182
         ],
         "mode": "lines",
         "opacity": 0.8,
         "type": "scattermapbox"
        },
        {
         "lat": [
          36.24779090909092,
          34.31471521739131
         ],
         "line": {
          "color": "rosybrown",
          "width": 3
         },
         "lon": [
          -111.46913636363637,
          -114.11428260869566
         ],
         "mode": "lines",
         "opacity": 0.8,
         "type": "scattermapbox"
        },
        {
         "lat": [
          36.24779090909092,
          37.582955023923446
         ],
         "line": {
          "color": "rosybrown",
          "width": 3
         },
         "lon": [
          -111.46913636363637,
          -116.49732057416269
         ],
         "mode": "lines",
         "opacity": 0.8,
         "type": "scattermapbox"
        },
        {
         "lat": [
          36.24779090909092,
          40.78797987012987
         ],
         "line": {
          "color": "rosybrown",
          "width": 3
         },
         "lon": [
          -111.46913636363637,
          -111.51946753246753
         ],
         "mode": "lines",
         "opacity": 0.8,
         "type": "scattermapbox"
        },
        {
         "lat": [
          35.013650000000005,
          40.78797987012987
         ],
         "line": {
          "color": "rosybrown",
          "width": 3
         },
         "lon": [
          -109.80593181818182,
          -111.51946753246753
         ],
         "mode": "lines",
         "opacity": 0.8,
         "type": "scattermapbox"
        },
        {
         "lat": [
          35.013650000000005,
          35.04694351145039
         ],
         "line": {
          "color": "rosybrown",
          "width": 3
         },
         "lon": [
          -109.80593181818182,
          -107.02932824427481
         ],
         "mode": "lines",
         "opacity": 0.8,
         "type": "scattermapbox"
        },
        {
         "lat": [
          35.013650000000005,
          32.07233734939759
         ],
         "line": {
          "color": "rosybrown",
          "width": 3
         },
         "lon": [
          -109.80593181818182,
          -110.81897590361444
         ],
         "mode": "lines",
         "opacity": 0.8,
         "type": "scattermapbox"
        },
        {
         "lat": [
          34.31471521739131,
          34.14683333333333
         ],
         "line": {
          "color": "rosybrown",
          "width": 3
         },
         "lon": [
          -114.11428260869566,
          -116.33466666666668
         ],
         "mode": "lines",
         "opacity": 0.8,
         "type": "scattermapbox"
        },
        {
         "lat": [
          34.31471521739131,
          33.13900833333333
         ],
         "line": {
          "color": "rosybrown",
          "width": 3
         },
         "lon": [
          -114.11428260869566,
          -115.73981250000001
         ],
         "mode": "lines",
         "opacity": 0.8,
         "type": "scattermapbox"
        },
        {
         "lat": [
          34.31471521739131,
          37.582955023923446
         ],
         "line": {
          "color": "rosybrown",
          "width": 3
         },
         "lon": [
          -114.11428260869566,
          -116.49732057416269
         ],
         "mode": "lines",
         "opacity": 0.8,
         "type": "scattermapbox"
        },
        {
         "lat": [
          34.31471521739131,
          34.340066666666665
         ],
         "line": {
          "color": "rosybrown",
          "width": 3
         },
         "lon": [
          -114.11428260869566,
          -114.48700000000001
         ],
         "mode": "lines",
         "opacity": 0.8,
         "type": "scattermapbox"
        },
        {
         "lat": [
          38.54117340425532,
          39.17128761061947
         ],
         "line": {
          "color": "rosybrown",
          "width": 3
         },
         "lon": [
          -121.36831914893618,
          -121.18448672566373
         ],
         "mode": "lines",
         "opacity": 0.8,
         "type": "scattermapbox"
        },
        {
         "lat": [
          38.54117340425532,
          37.73256252771618
         ],
         "line": {
          "color": "rosybrown",
          "width": 3
         },
         "lon": [
          -121.36831914893618,
          -122.05737028824832
         ],
         "mode": "lines",
         "opacity": 0.8,
         "type": "scattermapbox"
        },
        {
         "lat": [
          38.54117340425532,
          36.983425842696626
         ],
         "line": {
          "color": "rosybrown",
          "width": 3
         },
         "lon": [
          -121.36831914893618,
          -119.91166292134832
         ],
         "mode": "lines",
         "opacity": 0.8,
         "type": "scattermapbox"
        },
        {
         "lat": [
          38.54117340425532,
          40.360611627906984
         ],
         "line": {
          "color": "rosybrown",
          "width": 3
         },
         "lon": [
          -121.36831914893618,
          -122.80541860465115
         ],
         "mode": "lines",
         "opacity": 0.8,
         "type": "scattermapbox"
        },
        {
         "lat": [
          38.54117340425532,
          37.50101578947368
         ],
         "line": {
          "color": "rosybrown",
          "width": 3
         },
         "lon": [
          -121.36831914893618,
          -120.88726315789475
         ],
         "mode": "lines",
         "opacity": 0.8,
         "type": "scattermapbox"
        },
        {
         "lat": [
          47.48542464285715,
          45.38594444444444
         ],
         "line": {
          "color": "rosybrown",
          "width": 3
         },
         "lon": [
          -122.4123357142857,
          -120.74307407407406
         ],
         "mode": "lines",
         "opacity": 0.8,
         "type": "scattermapbox"
        },
        {
         "lat": [
          47.48542464285715,
          45.17161801801801
         ],
         "line": {
          "color": "rosybrown",
          "width": 3
         },
         "lon": [
          -122.4123357142857,
          -122.9451531531532
         ],
         "mode": "lines",
         "opacity": 0.8,
         "type": "scattermapbox"
        },
        {
         "lat": [
          47.48542464285715,
          47.70271111111111
         ],
         "line": {
          "color": "rosybrown",
          "width": 3
         },
         "lon": [
          -122.4123357142857,
          -120.28122222222221
         ],
         "mode": "lines",
         "opacity": 0.8,
         "type": "scattermapbox"
        },
        {
         "lat": [
          47.48542464285715,
          48.11697692307692
         ],
         "line": {
          "color": "rosybrown",
          "width": 3
         },
         "lon": [
          -122.4123357142857,
          -119.68223076923078
         ],
         "mode": "lines",
         "opacity": 0.8,
         "type": "scattermapbox"
        },
        {
         "lat": [
          47.48542464285715,
          48.685356666666664
         ],
         "line": {
          "color": "rosybrown",
          "width": 3
         },
         "lon": [
          -122.4123357142857,
          -122.27136666666668
         ],
         "mode": "lines",
         "opacity": 0.8,
         "type": "scattermapbox"
        },
        {
         "lat": [
          47.48542464285715,
          40.43581743478261
         ],
         "line": {
          "color": "rosybrown",
          "width": 3
         },
         "lon": [
          -122.4123357142857,
          -123.02365604347825
         ],
         "mode": "lines",
         "opacity": 0.8,
         "type": "scattermapbox"
        },
        {
         "lat": [
          46.21532641509434,
          45.38594444444444
         ],
         "line": {
          "color": "rosybrown",
          "width": 3
         },
         "lon": [
          -119.3096037735849,
          -120.74307407407406
         ],
         "mode": "lines",
         "opacity": 0.8,
         "type": "scattermapbox"
        },
        {
         "lat": [
          46.21532641509434,
          45.97231304347826
         ],
         "line": {
          "color": "rosybrown",
          "width": 3
         },
         "lon": [
          -119.3096037735849,
          -117.42165217391306
         ],
         "mode": "lines",
         "opacity": 0.8,
         "type": "scattermapbox"
        },
        {
         "lat": [
          46.21532641509434,
          47.70271111111111
         ],
         "line": {
          "color": "rosybrown",
          "width": 3
         },
         "lon": [
          -119.3096037735849,
          -120.28122222222221
         ],
         "mode": "lines",
         "opacity": 0.8,
         "type": "scattermapbox"
        },
        {
         "lat": [
          46.21532641509434,
          48.11697692307692
         ],
         "line": {
          "color": "rosybrown",
          "width": 3
         },
         "lon": [
          -119.3096037735849,
          -119.68223076923078
         ],
         "mode": "lines",
         "opacity": 0.8,
         "type": "scattermapbox"
        },
        {
         "lat": [
          46.21532641509434,
          47.153645454545455
         ],
         "line": {
          "color": "rosybrown",
          "width": 3
         },
         "lon": [
          -119.3096037735849,
          -119.4911818181818
         ],
         "mode": "lines",
         "opacity": 0.8,
         "type": "scattermapbox"
        },
        {
         "lat": [
          46.21532641509434,
          45.744899999999994
         ],
         "line": {
          "color": "rosybrown",
          "width": 3
         },
         "lon": [
          -119.3096037735849,
          -119.66257142857141
         ],
         "mode": "lines",
         "opacity": 0.8,
         "type": "scattermapbox"
        },
        {
         "lat": [
          46.21532641509434,
          43.467796842105265
         ],
         "line": {
          "color": "rosybrown",
          "width": 3
         },
         "lon": [
          -119.3096037735849,
          -115.62950526315785
         ],
         "mode": "lines",
         "opacity": 0.8,
         "type": "scattermapbox"
        },
        {
         "lat": [
          47.97001111111112,
          46.62420740740741
         ],
         "line": {
          "color": "rosybrown",
          "width": 3
         },
         "lon": [
          -114.84844444444445,
          -111.14702777777777
         ],
         "mode": "lines",
         "opacity": 0.8,
         "type": "scattermapbox"
        },
        {
         "lat": [
          45.38594444444444,
          45.17161801801801
         ],
         "line": {
          "color": "rosybrown",
          "width": 3
         },
         "lon": [
          -120.74307407407406,
          -122.9451531531532
         ],
         "mode": "lines",
         "opacity": 0.8,
         "type": "scattermapbox"
        },
        {
         "lat": [
          45.38594444444444,
          48.11697692307692
         ],
         "line": {
          "color": "rosybrown",
          "width": 3
         },
         "lon": [
          -120.74307407407406,
          -119.68223076923078
         ],
         "mode": "lines",
         "opacity": 0.8,
         "type": "scattermapbox"
        },
        {
         "lat": [
          45.38594444444444,
          47.153645454545455
         ],
         "line": {
          "color": "rosybrown",
          "width": 3
         },
         "lon": [
          -120.74307407407406,
          -119.4911818181818
         ],
         "mode": "lines",
         "opacity": 0.8,
         "type": "scattermapbox"
        },
        {
         "lat": [
          45.38594444444444,
          45.744899999999994
         ],
         "line": {
          "color": "rosybrown",
          "width": 3
         },
         "lon": [
          -120.74307407407406,
          -119.66257142857141
         ],
         "mode": "lines",
         "opacity": 0.8,
         "type": "scattermapbox"
        },
        {
         "lat": [
          45.38594444444444,
          42.50423285714286
         ],
         "line": {
          "color": "rosybrown",
          "width": 3
         },
         "lon": [
          -120.74307407407406,
          -122.86985714285713
         ],
         "mode": "lines",
         "opacity": 0.8,
         "type": "scattermapbox"
        },
        {
         "lat": [
          45.38594444444444,
          45.351126771653554
         ],
         "line": {
          "color": "rosybrown",
          "width": 3
         },
         "lon": [
          -120.74307407407406,
          -122.7368346456693
         ],
         "mode": "lines",
         "opacity": 0.8,
         "type": "scattermapbox"
        },
        {
         "lat": [
          45.97231304347826,
          43.467796842105265
         ],
         "line": {
          "color": "rosybrown",
          "width": 3
         },
         "lon": [
          -117.42165217391306,
          -115.62950526315785
         ],
         "mode": "lines",
         "opacity": 0.8,
         "type": "scattermapbox"
        },
        {
         "lat": [
          45.17161801801801,
          42.50423285714286
         ],
         "line": {
          "color": "rosybrown",
          "width": 3
         },
         "lon": [
          -122.9451531531532,
          -122.86985714285713
         ],
         "mode": "lines",
         "opacity": 0.8,
         "type": "scattermapbox"
        },
        {
         "lat": [
          45.17161801801801,
          45.351126771653554
         ],
         "line": {
          "color": "rosybrown",
          "width": 3
         },
         "lon": [
          -122.9451531531532,
          -122.7368346456693
         ],
         "mode": "lines",
         "opacity": 0.8,
         "type": "scattermapbox"
        },
        {
         "lat": [
          45.17161801801801,
          40.43581743478261
         ],
         "line": {
          "color": "rosybrown",
          "width": 3
         },
         "lon": [
          -122.9451531531532,
          -123.02365604347825
         ],
         "mode": "lines",
         "opacity": 0.8,
         "type": "scattermapbox"
        },
        {
         "lat": [
          47.70271111111111,
          48.11697692307692
         ],
         "line": {
          "color": "rosybrown",
          "width": 3
         },
         "lon": [
          -120.28122222222221,
          -119.68223076923078
         ],
         "mode": "lines",
         "opacity": 0.8,
         "type": "scattermapbox"
        },
        {
         "lat": [
          39.17128761061947,
          37.73256252771618
         ],
         "line": {
          "color": "rosybrown",
          "width": 3
         },
         "lon": [
          -121.18448672566373,
          -122.05737028824832
         ],
         "mode": "lines",
         "opacity": 0.8,
         "type": "scattermapbox"
        },
        {
         "lat": [
          39.17128761061947,
          36.983425842696626
         ],
         "line": {
          "color": "rosybrown",
          "width": 3
         },
         "lon": [
          -121.18448672566373,
          -119.91166292134832
         ],
         "mode": "lines",
         "opacity": 0.8,
         "type": "scattermapbox"
        },
        {
         "lat": [
          39.17128761061947,
          40.360611627906984
         ],
         "line": {
          "color": "rosybrown",
          "width": 3
         },
         "lon": [
          -121.18448672566373,
          -122.80541860465115
         ],
         "mode": "lines",
         "opacity": 0.8,
         "type": "scattermapbox"
        },
        {
         "lat": [
          39.17128761061947,
          37.582955023923446
         ],
         "line": {
          "color": "rosybrown",
          "width": 3
         },
         "lon": [
          -121.18448672566373,
          -116.49732057416269
         ],
         "mode": "lines",
         "opacity": 0.8,
         "type": "scattermapbox"
        },
        {
         "lat": [
          39.17128761061947,
          42.50423285714286
         ],
         "line": {
          "color": "rosybrown",
          "width": 3
         },
         "lon": [
          -121.18448672566373,
          -122.86985714285713
         ],
         "mode": "lines",
         "opacity": 0.8,
         "type": "scattermapbox"
        },
        {
         "lat": [
          35.40350206185567,
          37.73256252771618
         ],
         "line": {
          "color": "rosybrown",
          "width": 3
         },
         "lon": [
          -119.81271134020619,
          -122.05737028824832
         ],
         "mode": "lines",
         "opacity": 0.8,
         "type": "scattermapbox"
        },
        {
         "lat": [
          35.40350206185567,
          36.983425842696626
         ],
         "line": {
          "color": "rosybrown",
          "width": 3
         },
         "lon": [
          -119.81271134020619,
          -119.91166292134832
         ],
         "mode": "lines",
         "opacity": 0.8,
         "type": "scattermapbox"
        },
        {
         "lat": [
          35.40350206185567,
          34.32987448979592
         ],
         "line": {
          "color": "rosybrown",
          "width": 3
         },
         "lon": [
          -119.81271134020619,
          -118.88435714285716
         ],
         "mode": "lines",
         "opacity": 0.8,
         "type": "scattermapbox"
        },
        {
         "lat": [
          35.40350206185567,
          36.0155
         ],
         "line": {
          "color": "rosybrown",
          "width": 3
         },
         "lon": [
          -119.81271134020619,
          -119.1165925925926
         ],
         "mode": "lines",
         "opacity": 0.8,
         "type": "scattermapbox"
        },
        {
         "lat": [
          35.40350206185567,
          35.05017857142857
         ],
         "line": {
          "color": "rosybrown",
          "width": 3
         },
         "lon": [
          -119.81271134020619,
          -118.07080357142857
         ],
         "mode": "lines",
         "opacity": 0.8,
         "type": "scattermapbox"
        },
        {
         "lat": [
          35.40350206185567,
          40.43581743478261
         ],
         "line": {
          "color": "rosybrown",
          "width": 3
         },
         "lon": [
          -119.81271134020619,
          -123.02365604347825
         ],
         "mode": "lines",
         "opacity": 0.8,
         "type": "scattermapbox"
        },
        {
         "lat": [
          37.73256252771618,
          36.983425842696626
         ],
         "line": {
          "color": "rosybrown",
          "width": 3
         },
         "lon": [
          -122.05737028824832,
          -119.91166292134832
         ],
         "mode": "lines",
         "opacity": 0.8,
         "type": "scattermapbox"
        },
        {
         "lat": [
          37.73256252771618,
          40.360611627906984
         ],
         "line": {
          "color": "rosybrown",
          "width": 3
         },
         "lon": [
          -122.05737028824832,
          -122.80541860465115
         ],
         "mode": "lines",
         "opacity": 0.8,
         "type": "scattermapbox"
        },
        {
         "lat": [
          37.73256252771618,
          35.780878
         ],
         "line": {
          "color": "rosybrown",
          "width": 3
         },
         "lon": [
          -122.05737028824832,
          -121.753665
         ],
         "mode": "lines",
         "opacity": 0.8,
         "type": "scattermapbox"
        },
        {
         "lat": [
          37.73256252771618,
          37.50101578947368
         ],
         "line": {
          "color": "rosybrown",
          "width": 3
         },
         "lon": [
          -122.05737028824832,
          -120.88726315789475
         ],
         "mode": "lines",
         "opacity": 0.8,
         "type": "scattermapbox"
        },
        {
         "lat": [
          37.73256252771618,
          40.43581743478261
         ],
         "line": {
          "color": "rosybrown",
          "width": 3
         },
         "lon": [
          -122.05737028824832,
          -123.02365604347825
         ],
         "mode": "lines",
         "opacity": 0.8,
         "type": "scattermapbox"
        },
        {
         "lat": [
          36.983425842696626,
          37.342181818181814
         ],
         "line": {
          "color": "rosybrown",
          "width": 3
         },
         "lon": [
          -119.91166292134832,
          -118.96763636363636
         ],
         "mode": "lines",
         "opacity": 0.8,
         "type": "scattermapbox"
        },
        {
         "lat": [
          36.983425842696626,
          36.0155
         ],
         "line": {
          "color": "rosybrown",
          "width": 3
         },
         "lon": [
          -119.91166292134832,
          -119.1165925925926
         ],
         "mode": "lines",
         "opacity": 0.8,
         "type": "scattermapbox"
        },
        {
         "lat": [
          36.983425842696626,
          35.05017857142857
         ],
         "line": {
          "color": "rosybrown",
          "width": 3
         },
         "lon": [
          -119.91166292134832,
          -118.07080357142857
         ],
         "mode": "lines",
         "opacity": 0.8,
         "type": "scattermapbox"
        },
        {
         "lat": [
          36.983425842696626,
          37.582955023923446
         ],
         "line": {
          "color": "rosybrown",
          "width": 3
         },
         "lon": [
          -119.91166292134832,
          -116.49732057416269
         ],
         "mode": "lines",
         "opacity": 0.8,
         "type": "scattermapbox"
        },
        {
         "lat": [
          36.983425842696626,
          37.50101578947368
         ],
         "line": {
          "color": "rosybrown",
          "width": 3
         },
         "lon": [
          -119.91166292134832,
          -120.88726315789475
         ],
         "mode": "lines",
         "opacity": 0.8,
         "type": "scattermapbox"
        },
        {
         "lat": [
          40.360611627906984,
          40.837543
         ],
         "line": {
          "color": "rosybrown",
          "width": 3
         },
         "lon": [
          -122.80541860465115,
          -124.511234
         ],
         "mode": "lines",
         "opacity": 0.8,
         "type": "scattermapbox"
        },
        {
         "lat": [
          40.360611627906984,
          42.50423285714286
         ],
         "line": {
          "color": "rosybrown",
          "width": 3
         },
         "lon": [
          -122.80541860465115,
          -122.86985714285713
         ],
         "mode": "lines",
         "opacity": 0.8,
         "type": "scattermapbox"
        },
        {
         "lat": [
          40.360611627906984,
          40.43581743478261
         ],
         "line": {
          "color": "rosybrown",
          "width": 3
         },
         "lon": [
          -122.80541860465115,
          -123.02365604347825
         ],
         "mode": "lines",
         "opacity": 0.8,
         "type": "scattermapbox"
        },
        {
         "lat": [
          33.92211261538461,
          34.32987448979592
         ],
         "line": {
          "color": "rosybrown",
          "width": 3
         },
         "lon": [
          -118.04963384615382,
          -118.88435714285716
         ],
         "mode": "lines",
         "opacity": 0.8,
         "type": "scattermapbox"
        },
        {
         "lat": [
          33.92211261538461,
          33.999784337349396
         ],
         "line": {
          "color": "rosybrown",
          "width": 3
         },
         "lon": [
          -118.04963384615382,
          -117.34664457831325
         ],
         "mode": "lines",
         "opacity": 0.8,
         "type": "scattermapbox"
        },
        {
         "lat": [
          33.92211261538461,
          35.05017857142857
         ],
         "line": {
          "color": "rosybrown",
          "width": 3
         },
         "lon": [
          -118.04963384615382,
          -118.07080357142857
         ],
         "mode": "lines",
         "opacity": 0.8,
         "type": "scattermapbox"
        },
        {
         "lat": [
          33.92211261538461,
          32.94567565789474
         ],
         "line": {
          "color": "rosybrown",
          "width": 3
         },
         "lon": [
          -118.04963384615382,
          -117.1556842105263
         ],
         "mode": "lines",
         "opacity": 0.8,
         "type": "scattermapbox"
        },
        {
         "lat": [
          33.92211261538461,
          34.074059090909095
         ],
         "line": {
          "color": "rosybrown",
          "width": 3
         },
         "lon": [
          -118.04963384615382,
          -118.35661363636363
         ],
         "mode": "lines",
         "opacity": 0.8,
         "type": "scattermapbox"
        },
        {
         "lat": [
          33.92211261538461,
          40.43581743478261
         ],
         "line": {
          "color": "rosybrown",
          "width": 3
         },
         "lon": [
          -118.04963384615382,
          -123.02365604347825
         ],
         "mode": "lines",
         "opacity": 0.8,
         "type": "scattermapbox"
        },
        {
         "lat": [
          34.14683333333333,
          33.999784337349396
         ],
         "line": {
          "color": "rosybrown",
          "width": 3
         },
         "lon": [
          -116.33466666666668,
          -117.34664457831325
         ],
         "mode": "lines",
         "opacity": 0.8,
         "type": "scattermapbox"
        },
        {
         "lat": [
          34.14683333333333,
          35.05017857142857
         ],
         "line": {
          "color": "rosybrown",
          "width": 3
         },
         "lon": [
          -116.33466666666668,
          -118.07080357142857
         ],
         "mode": "lines",
         "opacity": 0.8,
         "type": "scattermapbox"
        },
        {
         "lat": [
          34.14683333333333,
          32.94567565789474
         ],
         "line": {
          "color": "rosybrown",
          "width": 3
         },
         "lon": [
          -116.33466666666668,
          -117.1556842105263
         ],
         "mode": "lines",
         "opacity": 0.8,
         "type": "scattermapbox"
        },
        {
         "lat": [
          34.14683333333333,
          33.13900833333333
         ],
         "line": {
          "color": "rosybrown",
          "width": 3
         },
         "lon": [
          -116.33466666666668,
          -115.73981250000001
         ],
         "mode": "lines",
         "opacity": 0.8,
         "type": "scattermapbox"
        },
        {
         "lat": [
          34.14683333333333,
          37.582955023923446
         ],
         "line": {
          "color": "rosybrown",
          "width": 3
         },
         "lon": [
          -116.33466666666668,
          -116.49732057416269
         ],
         "mode": "lines",
         "opacity": 0.8,
         "type": "scattermapbox"
        },
        {
         "lat": [
          34.14683333333333,
          34.340066666666665
         ],
         "line": {
          "color": "rosybrown",
          "width": 3
         },
         "lon": [
          -116.33466666666668,
          -114.48700000000001
         ],
         "mode": "lines",
         "opacity": 0.8,
         "type": "scattermapbox"
        },
        {
         "lat": [
          34.32987448979592,
          35.05017857142857
         ],
         "line": {
          "color": "rosybrown",
          "width": 3
         },
         "lon": [
          -118.88435714285716,
          -118.07080357142857
         ],
         "mode": "lines",
         "opacity": 0.8,
         "type": "scattermapbox"
        },
        {
         "lat": [
          34.32987448979592,
          34.074059090909095
         ],
         "line": {
          "color": "rosybrown",
          "width": 3
         },
         "lon": [
          -118.88435714285716,
          -118.35661363636363
         ],
         "mode": "lines",
         "opacity": 0.8,
         "type": "scattermapbox"
        },
        {
         "lat": [
          34.32987448979592,
          40.43581743478261
         ],
         "line": {
          "color": "rosybrown",
          "width": 3
         },
         "lon": [
          -118.88435714285716,
          -123.02365604347825
         ],
         "mode": "lines",
         "opacity": 0.8,
         "type": "scattermapbox"
        },
        {
         "lat": [
          33.999784337349396,
          35.05017857142857
         ],
         "line": {
          "color": "rosybrown",
          "width": 3
         },
         "lon": [
          -117.34664457831325,
          -118.07080357142857
         ],
         "mode": "lines",
         "opacity": 0.8,
         "type": "scattermapbox"
        },
        {
         "lat": [
          33.999784337349396,
          32.94567565789474
         ],
         "line": {
          "color": "rosybrown",
          "width": 3
         },
         "lon": [
          -117.34664457831325,
          -117.1556842105263
         ],
         "mode": "lines",
         "opacity": 0.8,
         "type": "scattermapbox"
        },
        {
         "lat": [
          36.0155,
          35.05017857142857
         ],
         "line": {
          "color": "rosybrown",
          "width": 3
         },
         "lon": [
          -119.1165925925926,
          -118.07080357142857
         ],
         "mode": "lines",
         "opacity": 0.8,
         "type": "scattermapbox"
        },
        {
         "lat": [
          35.05017857142857,
          34.074059090909095
         ],
         "line": {
          "color": "rosybrown",
          "width": 3
         },
         "lon": [
          -118.07080357142857,
          -118.35661363636363
         ],
         "mode": "lines",
         "opacity": 0.8,
         "type": "scattermapbox"
        },
        {
         "lat": [
          32.94567565789474,
          33.13900833333333
         ],
         "line": {
          "color": "rosybrown",
          "width": 3
         },
         "lon": [
          -117.1556842105263,
          -115.73981250000001
         ],
         "mode": "lines",
         "opacity": 0.8,
         "type": "scattermapbox"
        },
        {
         "lat": [
          32.94567565789474,
          40.43581743478261
         ],
         "line": {
          "color": "rosybrown",
          "width": 3
         },
         "lon": [
          -117.1556842105263,
          -123.02365604347825
         ],
         "mode": "lines",
         "opacity": 0.8,
         "type": "scattermapbox"
        },
        {
         "lat": [
          36.404720000000005,
          37.582955023923446
         ],
         "line": {
          "color": "rosybrown",
          "width": 3
         },
         "lon": [
          -116.2266,
          -116.49732057416269
         ],
         "mode": "lines",
         "opacity": 0.8,
         "type": "scattermapbox"
        },
        {
         "lat": [
          48.11697692307692,
          47.153645454545455
         ],
         "line": {
          "color": "rosybrown",
          "width": 3
         },
         "lon": [
          -119.68223076923078,
          -119.4911818181818
         ],
         "mode": "lines",
         "opacity": 0.8,
         "type": "scattermapbox"
        },
        {
         "lat": [
          48.11697692307692,
          48.685356666666664
         ],
         "line": {
          "color": "rosybrown",
          "width": 3
         },
         "lon": [
          -119.68223076923078,
          -122.27136666666668
         ],
         "mode": "lines",
         "opacity": 0.8,
         "type": "scattermapbox"
        },
        {
         "lat": [
          31.981353424657538,
          35.04694351145039
         ],
         "line": {
          "color": "rosybrown",
          "width": 3
         },
         "lon": [
          -106.40617808219177,
          -107.02932824427481
         ],
         "mode": "lines",
         "opacity": 0.8,
         "type": "scattermapbox"
        },
        {
         "lat": [
          43.467796842105265,
          46.62420740740741
         ],
         "line": {
          "color": "rosybrown",
          "width": 3
         },
         "lon": [
          -115.62950526315785,
          -111.14702777777777
         ],
         "mode": "lines",
         "opacity": 0.8,
         "type": "scattermapbox"
        },
        {
         "lat": [
          43.467796842105265,
          37.582955023923446
         ],
         "line": {
          "color": "rosybrown",
          "width": 3
         },
         "lon": [
          -115.62950526315785,
          -116.49732057416269
         ],
         "mode": "lines",
         "opacity": 0.8,
         "type": "scattermapbox"
        },
        {
         "lat": [
          43.467796842105265,
          40.78797987012987
         ],
         "line": {
          "color": "rosybrown",
          "width": 3
         },
         "lon": [
          -115.62950526315785,
          -111.51946753246753
         ],
         "mode": "lines",
         "opacity": 0.8,
         "type": "scattermapbox"
        },
        {
         "lat": [
          46.6394,
          46.62420740740741
         ],
         "line": {
          "color": "rosybrown",
          "width": 3
         },
         "lon": [
          -106.64900000000002,
          -111.14702777777777
         ],
         "mode": "lines",
         "opacity": 0.8,
         "type": "scattermapbox"
        },
        {
         "lat": [
          46.6394,
          48.052
         ],
         "line": {
          "color": "rosybrown",
          "width": 3
         },
         "lon": [
          -106.64900000000002,
          -107.755
         ],
         "mode": "lines",
         "opacity": 0.8,
         "type": "scattermapbox"
        },
        {
         "lat": [
          46.6394,
          40.326796067415735
         ],
         "line": {
          "color": "rosybrown",
          "width": 3
         },
         "lon": [
          -106.64900000000002,
          -106.08378651685392
         ],
         "mode": "lines",
         "opacity": 0.8,
         "type": "scattermapbox"
        },
        {
         "lat": [
          46.62420740740741,
          40.78797987012987
         ],
         "line": {
          "color": "rosybrown",
          "width": 3
         },
         "lon": [
          -111.14702777777777,
          -111.51946753246753
         ],
         "mode": "lines",
         "opacity": 0.8,
         "type": "scattermapbox"
        },
        {
         "lat": [
          46.62420740740741,
          48.052
         ],
         "line": {
          "color": "rosybrown",
          "width": 3
         },
         "lon": [
          -111.14702777777777,
          -107.755
         ],
         "mode": "lines",
         "opacity": 0.8,
         "type": "scattermapbox"
        },
        {
         "lat": [
          46.62420740740741,
          40.326796067415735
         ],
         "line": {
          "color": "rosybrown",
          "width": 3
         },
         "lon": [
          -111.14702777777777,
          -106.08378651685392
         ],
         "mode": "lines",
         "opacity": 0.8,
         "type": "scattermapbox"
        },
        {
         "lat": [
          37.582955023923446,
          40.78797987012987
         ],
         "line": {
          "color": "rosybrown",
          "width": 3
         },
         "lon": [
          -116.49732057416269,
          -111.51946753246753
         ],
         "mode": "lines",
         "opacity": 0.8,
         "type": "scattermapbox"
        },
        {
         "lat": [
          37.582955023923446,
          34.340066666666665
         ],
         "line": {
          "color": "rosybrown",
          "width": 3
         },
         "lon": [
          -116.49732057416269,
          -114.48700000000001
         ],
         "mode": "lines",
         "opacity": 0.8,
         "type": "scattermapbox"
        },
        {
         "lat": [
          40.78797987012987,
          40.326796067415735
         ],
         "line": {
          "color": "rosybrown",
          "width": 3
         },
         "lon": [
          -111.51946753246753,
          -106.08378651685392
         ],
         "mode": "lines",
         "opacity": 0.8,
         "type": "scattermapbox"
        },
        {
         "lat": [
          42.50423285714286,
          40.43581743478261
         ],
         "line": {
          "color": "rosybrown",
          "width": 3
         },
         "lon": [
          -122.86985714285713,
          -123.02365604347825
         ],
         "mode": "lines",
         "opacity": 0.8,
         "type": "scattermapbox"
        },
        {
         "lat": [
          35.04694351145039,
          38.51713636363636
         ],
         "line": {
          "color": "rosybrown",
          "width": 3
         },
         "lon": [
          -107.02932824427481,
          -104.47440909090909
         ],
         "mode": "lines",
         "opacity": 0.8,
         "type": "scattermapbox"
        },
        {
         "lat": [
          35.04694351145039,
          32.07233734939759
         ],
         "line": {
          "color": "rosybrown",
          "width": 3
         },
         "lon": [
          -107.02932824427481,
          -110.81897590361444
         ],
         "mode": "lines",
         "opacity": 0.8,
         "type": "scattermapbox"
        },
        {
         "lat": [
          35.04694351145039,
          40.326796067415735
         ],
         "line": {
          "color": "rosybrown",
          "width": 3
         },
         "lon": [
          -107.02932824427481,
          -106.08378651685392
         ],
         "mode": "lines",
         "opacity": 0.8,
         "type": "scattermapbox"
        },
        {
         "lat": [
          38.51713636363636,
          39.82598904761905
         ],
         "line": {
          "color": "rosybrown",
          "width": 3
         },
         "lon": [
          -104.47440909090909,
          -104.91399047619049
         ],
         "mode": "lines",
         "opacity": 0.8,
         "type": "scattermapbox"
        },
        {
         "lat": [
          38.51713636363636,
          40.326796067415735
         ],
         "line": {
          "color": "rosybrown",
          "width": 3
         },
         "lon": [
          -104.47440909090909,
          -106.08378651685392
         ],
         "mode": "lines",
         "opacity": 0.8,
         "type": "scattermapbox"
        },
        {
         "lat": [
          39.82598904761905,
          40.326796067415735
         ],
         "line": {
          "color": "rosybrown",
          "width": 3
         },
         "lon": [
          -104.91399047619049,
          -106.08378651685392
         ],
         "mode": "lines",
         "opacity": 0.8,
         "type": "scattermapbox"
        },
        {
         "lat": [
          40.78797987012987,
          33.999784337349396
         ],
         "line": {
          "color": "darkseagreen",
          "width": 3
         },
         "lon": [
          -111.51946753246753,
          -117.34664457831325
         ],
         "mode": "lines",
         "opacity": 0.8,
         "type": "scattermapbox"
        },
        {
         "lat": [
          45.38594444444444,
          34.074059090909095
         ],
         "line": {
          "color": "darkseagreen",
          "width": 3
         },
         "lon": [
          -120.74307407407406,
          -118.35661363636363
         ],
         "mode": "lines",
         "opacity": 0.8,
         "type": "scattermapbox"
        },
        {
         "hoverinfo": "text",
         "lat": [
          46.97765120754717,
          47.85499355555555,
          46.856144521739125,
          47.92847646153845,
          45.60388642105263,
          34.876623361522206,
          34.25955290697675,
          33.9100855156724,
          33.82614457364341,
          32.788896581675544,
          35.63072045454546,
          35.28125306324111,
          36.91537296650718,
          38.51788538961039,
          37.900814935064936,
          35.030296755725196,
          33.5429936746988,
          34.23077427536232,
          33.72686177536232,
          35.94883512065738,
          34.327390942028984,
          38.856230507437395,
          38.13686796598575,
          37.76229962347597,
          39.450892516081154,
          38.0210945968645,
          46.435684543650794,
          46.32852133043758,
          47.59406787698413,
          47.80120078296703,
          48.08539065476191,
          43.96062103881988,
          45.800635429769386,
          46.093819729286295,
          46.95901876310272,
          47.16615166908563,
          46.6844859348199,
          45.98011320754716,
          44.841561628599806,
          47.297109259259265,
          45.27878123123122,
          46.75146068376068,
          46.26979494949495,
          45.56542222222222,
          43.94508865079365,
          45.368535608049,
          44.72005494279176,
          43.83792543758044,
          45.26137239483578,
          42.80371772640031,
          47.90984401709402,
          38.45192506916783,
          38.07735672665805,
          39.765949619263225,
          38.37712131727146,
          40.83776023388117,
          36.56803229478592,
          36.19346395227615,
          34.866688275825794,
          35.70950103092784,
          35.22684031664212,
          37.919659748319134,
          37.35799418520641,
          39.04658707781158,
          36.75672026385809,
          37.61678915859493,
          39.084189981249395,
          37.162803830439216,
          36.49946292134831,
          36.0168022070626,
          37.28319043331004,
          37.24222081608515,
          40.59907731395349,
          41.43242224252492,
          40.39821453134479,
          34.125993552590266,
          33.96094847636701,
          34.48614559340659,
          33.43389413663968,
          33.998085853146854,
          37.17896502508361,
          34.073308835341365,
          34.59850595238095,
          33.546254495614036,
          33.642920833333335,
          35.86489417862839,
          34.243449999999996,
          34.69002653061224,
          34.20196679035251,
          37.38284596228927,
          34.52498145438898,
          33.47272999762207,
          35.53283928571429,
          34.56211883116883,
          33.04234199561404,
          36.69074654633867,
          36.99383751196173,
          47.63531118881119,
          48.40116679487179,
          33.51414846805396,
          45.04600212475634,
          40.52537593301436,
          42.127888356117566,
          46.63180370370371,
          47.3457,
          43.48309803370787,
          43.706093638768635,
          47.33810370370371,
          43.47550173741158,
          39.18546744702665,
          35.96151084529505,
          40.5573879687728,
          41.47002514596274,
          36.782039937543374,
          33.55964043042399,
          37.68686978943306,
          39.17156270562771,
          39.42196621552605,
          40.076392557517394
         ],
         "lon": [
          -118.29218188679243,
          -116.0616022222222,
          -117.34820608695651,
          -118.47849538461537,
          -116.4521326315789,
          -111.73800007550591,
          -110.90639780277863,
          -113.06057319803554,
          -114.17076522702106,
          -111.41291984549494,
          -110.6375340909091,
          -112.79170948616601,
          -113.98322846889953,
          -111.49430194805194,
          -110.66269967532467,
          -108.41763003122831,
          -110.31245386089813,
          -115.22447463768117,
          -114.92704755434784,
          -115.30580159142917,
          -114.30064130434783,
          -121.27640293729996,
          -121.71284471859225,
          -120.63999103514226,
          -122.08686887679366,
          -121.12779115341547,
          -121.57770489417987,
          -122.67874443371946,
          -121.34677896825396,
          -121.04728324175824,
          -122.34185119047619,
          -122.71799587888198,
          -120.02633892382948,
          -118.36562797374899,
          -119.79541299790355,
          -119.49591727140785,
          -119.40039279588335,
          -119.48608760107815,
          -117.46955451837138,
          -112.99773611111111,
          -121.84411361361363,
          -120.21265242165242,
          -120.11712794612794,
          -120.20282275132274,
          -121.8064656084656,
          -121.73995435987169,
          -116.52557871853546,
          -122.90750514800516,
          -122.84099389941125,
          -122.98440459831573,
          -119.98172649572649,
          -121.62092850695603,
          -120.54807482350603,
          -121.99495266515744,
          -118.8409036499132,
          -122.02717193426042,
          -120.93504081422725,
          -119.86218713077726,
          -119.34853424153167,
          -119.4646519663994,
          -118.94175745581738,
          -121.41818369184222,
          -120.98451660479833,
          -122.43139444644973,
          -121.90551764412416,
          -121.47231672307154,
          -122.54051316586329,
          -119.43964964249234,
          -119.51412775697045,
          -118.99123324638845,
          -118.2044917477555,
          -120.39946303962154,
          -123.65832630232558,
          -122.83763787375415,
          -122.9145373240647,
          -118.46699549450548,
          -117.69813921223354,
          -118.0602187087912,
          -117.60265902834007,
          -118.20312374125874,
          -120.53664494481603,
          -116.84065562248996,
          -117.20273511904762,
          -116.74517543859649,
          -116.03723958333335,
          -116.41599362041468,
          -115.41083333333334,
          -118.47758035714287,
          -118.6204853896104,
          -120.9540065931677,
          -117.7087240748709,
          -117.25116439441977,
          -118.59369808201058,
          -118.2137086038961,
          -116.44774835526316,
          -120.08967012700228,
          -116.36196028708135,
          -119.5867062937063,
          -120.97679871794872,
          -106.71775316323328,
          -113.38826652046781,
          -116.06341291866028,
          -113.57448639781269,
          -108.8980138888889,
          -107.202,
          -106.36639325842697,
          -111.33324765512265,
          -109.45101388888888,
          -108.61540714731584,
          -114.0083940533151,
          -115.49216028708135,
          -108.80162702466072,
          -122.94675659316769,
          -105.75186866759195,
          -108.92415207394463,
          -106.55655738056436,
          -104.69419978354979,
          -105.27909780388151,
          -105.4988884965222
         ],
         "marker": {
          "opacity": 0
         },
         "mode": "markers",
         "text": [
          "Line 1",
          "Line 2",
          "Line 3",
          "Line 4",
          "Line 5",
          "Line 6",
          "Line 7",
          "Line 8",
          "Line 9",
          "Line 10",
          "Line 11",
          "Line 12",
          "Line 13",
          "Line 14",
          "Line 15",
          "Line 16",
          "Line 17",
          "Line 18",
          "Line 19",
          "Line 20",
          "Line 21",
          "Line 22",
          "Line 23",
          "Line 24",
          "Line 25",
          "Line 26",
          "Line 27",
          "Line 28",
          "Line 29",
          "Line 30",
          "Line 31",
          "Line 32",
          "Line 33",
          "Line 34",
          "Line 35",
          "Line 36",
          "Line 37",
          "Line 38",
          "Line 39",
          "Line 40",
          "Line 41",
          "Line 42",
          "Line 43",
          "Line 44",
          "Line 45",
          "Line 46",
          "Line 47",
          "Line 48",
          "Line 49",
          "Line 50",
          "Line 51",
          "Line 52",
          "Line 53",
          "Line 54",
          "Line 55",
          "Line 56",
          "Line 57",
          "Line 58",
          "Line 59",
          "Line 60",
          "Line 61",
          "Line 62",
          "Line 63",
          "Line 64",
          "Line 65",
          "Line 66",
          "Line 67",
          "Line 68",
          "Line 69",
          "Line 70",
          "Line 71",
          "Line 72",
          "Line 73",
          "Line 74",
          "Line 75",
          "Line 76",
          "Line 77",
          "Line 78",
          "Line 79",
          "Line 80",
          "Line 81",
          "Line 82",
          "Line 83",
          "Line 84",
          "Line 85",
          "Line 86",
          "Line 87",
          "Line 88",
          "Line 89",
          "Line 90",
          "Line 91",
          "Line 92",
          "Line 93",
          "Line 94",
          "Line 95",
          "Line 96",
          "Line 97",
          "Line 98",
          "Line 99",
          "Line 100",
          "Line 101",
          "Line 102",
          "Line 103",
          "Line 104",
          "Line 105",
          "Line 106",
          "Line 107",
          "Line 108",
          "Line 109",
          "Line 110",
          "Line 111",
          "Line 112",
          "Line 113",
          "Line 114",
          "Line 115",
          "Line 116",
          "Line 117",
          "Line 118",
          "Line 119"
         ],
         "type": "scattermapbox"
        },
        {
         "hoverinfo": "text",
         "lat": [
          37.39388210373963,
          39.73000176767677
         ],
         "lon": [
          -114.43305605539038,
          -119.54984385521885
         ],
         "marker": {
          "opacity": 0
         },
         "mode": "markers",
         "text": [
          "Link 9",
          "Link 10"
         ],
         "type": "scattermapbox"
        },
        {
         "hoverinfo": "text",
         "lat": [
          47.73997599999999,
          33.50545581395349,
          36.24779090909092,
          35.013650000000005,
          34.31471521739131,
          38.54117340425532,
          47.48542464285715,
          46.21532641509434,
          47.97001111111112,
          45.38594444444444,
          45.97231304347826,
          45.17161801801801,
          47.70271111111111,
          39.17128761061947,
          35.40350206185567,
          37.73256252771618,
          36.983425842696626,
          40.360611627906984,
          33.92211261538461,
          34.14683333333333,
          37.342181818181814,
          34.32987448979592,
          33.999784337349396,
          36.0155,
          35.05017857142857,
          32.94567565789474,
          36.404720000000005,
          48.11697692307692,
          31.981353424657538,
          47.153645454545455,
          45.744899999999994,
          40.837543,
          33.13900833333333,
          43.467796842105265,
          34.074059090909095,
          46.6394,
          46.62420740740741,
          35.780878,
          37.582955023923446,
          40.78797987012987,
          42.50423285714286,
          45.351126771653554,
          35.04694351145039,
          38.51713636363636,
          39.82598904761905,
          48.685356666666664,
          48.052,
          32.07233734939759,
          37.50101578947368,
          40.43581743478261,
          40.326796067415735,
          34.340066666666665
         ],
         "lon": [
          -117.27475999999997,
          -112.00686378737544,
          -111.46913636363637,
          -109.80593181818182,
          -114.11428260869566,
          -121.36831914893618,
          -122.4123357142857,
          -119.3096037735849,
          -114.84844444444445,
          -120.74307407407406,
          -117.42165217391306,
          -122.9451531531532,
          -120.28122222222221,
          -121.18448672566373,
          -119.81271134020619,
          -122.05737028824832,
          -119.91166292134832,
          -122.80541860465115,
          -118.04963384615382,
          -116.33466666666668,
          -118.96763636363636,
          -118.88435714285716,
          -117.34664457831325,
          -119.1165925925926,
          -118.07080357142857,
          -117.1556842105263,
          -116.2266,
          -119.68223076923078,
          -106.40617808219177,
          -119.4911818181818,
          -119.66257142857141,
          -124.511234,
          -115.73981250000001,
          -115.62950526315785,
          -118.35661363636363,
          -106.64900000000002,
          -111.14702777777777,
          -121.753665,
          -116.49732057416269,
          -111.51946753246753,
          -122.86985714285713,
          -122.7368346456693,
          -107.02932824427481,
          -104.47440909090909,
          -104.91399047619049,
          -122.27136666666668,
          -107.755,
          -110.81897590361444,
          -120.88726315789475,
          -123.02365604347825,
          -106.08378651685392,
          -114.48700000000001
         ],
         "marker": {
          "color": "cadetblue",
          "size": 10
         },
         "mode": "markers",
         "opacity": 1,
         "text": [
          "Bus AVA0 0",
          "Bus Arizona0 0",
          "Bus Arizona0 1",
          "Bus Arizona0 2",
          "Bus Arizona0 3",
          "Bus BANC0 0",
          "Bus BPAT0 0",
          "Bus BPAT0 1",
          "Bus BPAT0 2",
          "Bus BPAT0 3",
          "Bus BPAT0 4",
          "Bus BPAT0 5",
          "Bus CHPD0 0",
          "Bus CISO-PGAE0 0",
          "Bus CISO-PGAE0 1",
          "Bus CISO-PGAE0 2",
          "Bus CISO-PGAE0 3",
          "Bus CISO-PGAE0 4",
          "Bus CISO-SCE0 0",
          "Bus CISO-SCE0 1",
          "Bus CISO-SCE0 2",
          "Bus CISO-SCE0 3",
          "Bus CISO-SCE0 4",
          "Bus CISO-SCE0 5",
          "Bus CISO-SCE0 6",
          "Bus CISO-SDGE0 0",
          "Bus CISO-VEA0 0",
          "Bus DOPD0 0",
          "Bus EPE0 0",
          "Bus GCPD0 0",
          "Bus GRID0 0",
          "Bus Humboldt0 0",
          "Bus IID0 0",
          "Bus IPCO0 0",
          "Bus LADWP0 0",
          "Bus MISO-00010 0",
          "Bus MT_west0 0",
          "Bus Morro_Bay0 0",
          "Bus NEVP0 0",
          "Bus PACE0 0",
          "Bus PACW0 0",
          "Bus PGE0 0",
          "Bus PNM0 0",
          "Bus PSCO0 0",
          "Bus PSCO0 1",
          "Bus PSEI0 0",
          "Bus SPP-WAUE_West0 0",
          "Bus TEPC0 0",
          "Bus TID0 0",
          "Bus US0 0",
          "Bus WACM0 0",
          "Bus WALC0 0"
         ],
         "type": "scattermapbox"
        }
       ],
       "layout": {
        "height": 700,
        "hovermode": "closest",
        "mapbox": {
         "accesstoken": "pk.eyJ1Ijoia3RlaHJhbmNoaSIsImEiOiJjbDJzNW5kdHMwaGJzM2pudDBsazZ5am80In0.hQfjJnhiiO1-YcJEEpN-1A",
         "center": {
          "lat": 40.3333550456621,
          "lon": -114.49282154545455
         },
         "style": "open-street-map",
         "zoom": 2
        },
        "showlegend": false,
        "template": {
         "data": {
          "bar": [
           {
            "error_x": {
             "color": "#2a3f5f"
            },
            "error_y": {
             "color": "#2a3f5f"
            },
            "marker": {
             "line": {
              "color": "#E5ECF6",
              "width": 0.5
             },
             "pattern": {
              "fillmode": "overlay",
              "size": 10,
              "solidity": 0.2
             }
            },
            "type": "bar"
           }
          ],
          "barpolar": [
           {
            "marker": {
             "line": {
              "color": "#E5ECF6",
              "width": 0.5
             },
             "pattern": {
              "fillmode": "overlay",
              "size": 10,
              "solidity": 0.2
             }
            },
            "type": "barpolar"
           }
          ],
          "carpet": [
           {
            "aaxis": {
             "endlinecolor": "#2a3f5f",
             "gridcolor": "white",
             "linecolor": "white",
             "minorgridcolor": "white",
             "startlinecolor": "#2a3f5f"
            },
            "baxis": {
             "endlinecolor": "#2a3f5f",
             "gridcolor": "white",
             "linecolor": "white",
             "minorgridcolor": "white",
             "startlinecolor": "#2a3f5f"
            },
            "type": "carpet"
           }
          ],
          "choropleth": [
           {
            "colorbar": {
             "outlinewidth": 0,
             "ticks": ""
            },
            "type": "choropleth"
           }
          ],
          "contour": [
           {
            "colorbar": {
             "outlinewidth": 0,
             "ticks": ""
            },
            "colorscale": [
             [
              0,
              "#0d0887"
             ],
             [
              0.1111111111111111,
              "#46039f"
             ],
             [
              0.2222222222222222,
              "#7201a8"
             ],
             [
              0.3333333333333333,
              "#9c179e"
             ],
             [
              0.4444444444444444,
              "#bd3786"
             ],
             [
              0.5555555555555556,
              "#d8576b"
             ],
             [
              0.6666666666666666,
              "#ed7953"
             ],
             [
              0.7777777777777778,
              "#fb9f3a"
             ],
             [
              0.8888888888888888,
              "#fdca26"
             ],
             [
              1,
              "#f0f921"
             ]
            ],
            "type": "contour"
           }
          ],
          "contourcarpet": [
           {
            "colorbar": {
             "outlinewidth": 0,
             "ticks": ""
            },
            "type": "contourcarpet"
           }
          ],
          "heatmap": [
           {
            "colorbar": {
             "outlinewidth": 0,
             "ticks": ""
            },
            "colorscale": [
             [
              0,
              "#0d0887"
             ],
             [
              0.1111111111111111,
              "#46039f"
             ],
             [
              0.2222222222222222,
              "#7201a8"
             ],
             [
              0.3333333333333333,
              "#9c179e"
             ],
             [
              0.4444444444444444,
              "#bd3786"
             ],
             [
              0.5555555555555556,
              "#d8576b"
             ],
             [
              0.6666666666666666,
              "#ed7953"
             ],
             [
              0.7777777777777778,
              "#fb9f3a"
             ],
             [
              0.8888888888888888,
              "#fdca26"
             ],
             [
              1,
              "#f0f921"
             ]
            ],
            "type": "heatmap"
           }
          ],
          "heatmapgl": [
           {
            "colorbar": {
             "outlinewidth": 0,
             "ticks": ""
            },
            "colorscale": [
             [
              0,
              "#0d0887"
             ],
             [
              0.1111111111111111,
              "#46039f"
             ],
             [
              0.2222222222222222,
              "#7201a8"
             ],
             [
              0.3333333333333333,
              "#9c179e"
             ],
             [
              0.4444444444444444,
              "#bd3786"
             ],
             [
              0.5555555555555556,
              "#d8576b"
             ],
             [
              0.6666666666666666,
              "#ed7953"
             ],
             [
              0.7777777777777778,
              "#fb9f3a"
             ],
             [
              0.8888888888888888,
              "#fdca26"
             ],
             [
              1,
              "#f0f921"
             ]
            ],
            "type": "heatmapgl"
           }
          ],
          "histogram": [
           {
            "marker": {
             "pattern": {
              "fillmode": "overlay",
              "size": 10,
              "solidity": 0.2
             }
            },
            "type": "histogram"
           }
          ],
          "histogram2d": [
           {
            "colorbar": {
             "outlinewidth": 0,
             "ticks": ""
            },
            "colorscale": [
             [
              0,
              "#0d0887"
             ],
             [
              0.1111111111111111,
              "#46039f"
             ],
             [
              0.2222222222222222,
              "#7201a8"
             ],
             [
              0.3333333333333333,
              "#9c179e"
             ],
             [
              0.4444444444444444,
              "#bd3786"
             ],
             [
              0.5555555555555556,
              "#d8576b"
             ],
             [
              0.6666666666666666,
              "#ed7953"
             ],
             [
              0.7777777777777778,
              "#fb9f3a"
             ],
             [
              0.8888888888888888,
              "#fdca26"
             ],
             [
              1,
              "#f0f921"
             ]
            ],
            "type": "histogram2d"
           }
          ],
          "histogram2dcontour": [
           {
            "colorbar": {
             "outlinewidth": 0,
             "ticks": ""
            },
            "colorscale": [
             [
              0,
              "#0d0887"
             ],
             [
              0.1111111111111111,
              "#46039f"
             ],
             [
              0.2222222222222222,
              "#7201a8"
             ],
             [
              0.3333333333333333,
              "#9c179e"
             ],
             [
              0.4444444444444444,
              "#bd3786"
             ],
             [
              0.5555555555555556,
              "#d8576b"
             ],
             [
              0.6666666666666666,
              "#ed7953"
             ],
             [
              0.7777777777777778,
              "#fb9f3a"
             ],
             [
              0.8888888888888888,
              "#fdca26"
             ],
             [
              1,
              "#f0f921"
             ]
            ],
            "type": "histogram2dcontour"
           }
          ],
          "mesh3d": [
           {
            "colorbar": {
             "outlinewidth": 0,
             "ticks": ""
            },
            "type": "mesh3d"
           }
          ],
          "parcoords": [
           {
            "line": {
             "colorbar": {
              "outlinewidth": 0,
              "ticks": ""
             }
            },
            "type": "parcoords"
           }
          ],
          "pie": [
           {
            "automargin": true,
            "type": "pie"
           }
          ],
          "scatter": [
           {
            "fillpattern": {
             "fillmode": "overlay",
             "size": 10,
             "solidity": 0.2
            },
            "type": "scatter"
           }
          ],
          "scatter3d": [
           {
            "line": {
             "colorbar": {
              "outlinewidth": 0,
              "ticks": ""
             }
            },
            "marker": {
             "colorbar": {
              "outlinewidth": 0,
              "ticks": ""
             }
            },
            "type": "scatter3d"
           }
          ],
          "scattercarpet": [
           {
            "marker": {
             "colorbar": {
              "outlinewidth": 0,
              "ticks": ""
             }
            },
            "type": "scattercarpet"
           }
          ],
          "scattergeo": [
           {
            "marker": {
             "colorbar": {
              "outlinewidth": 0,
              "ticks": ""
             }
            },
            "type": "scattergeo"
           }
          ],
          "scattergl": [
           {
            "marker": {
             "colorbar": {
              "outlinewidth": 0,
              "ticks": ""
             }
            },
            "type": "scattergl"
           }
          ],
          "scattermapbox": [
           {
            "marker": {
             "colorbar": {
              "outlinewidth": 0,
              "ticks": ""
             }
            },
            "type": "scattermapbox"
           }
          ],
          "scatterpolar": [
           {
            "marker": {
             "colorbar": {
              "outlinewidth": 0,
              "ticks": ""
             }
            },
            "type": "scatterpolar"
           }
          ],
          "scatterpolargl": [
           {
            "marker": {
             "colorbar": {
              "outlinewidth": 0,
              "ticks": ""
             }
            },
            "type": "scatterpolargl"
           }
          ],
          "scatterternary": [
           {
            "marker": {
             "colorbar": {
              "outlinewidth": 0,
              "ticks": ""
             }
            },
            "type": "scatterternary"
           }
          ],
          "surface": [
           {
            "colorbar": {
             "outlinewidth": 0,
             "ticks": ""
            },
            "colorscale": [
             [
              0,
              "#0d0887"
             ],
             [
              0.1111111111111111,
              "#46039f"
             ],
             [
              0.2222222222222222,
              "#7201a8"
             ],
             [
              0.3333333333333333,
              "#9c179e"
             ],
             [
              0.4444444444444444,
              "#bd3786"
             ],
             [
              0.5555555555555556,
              "#d8576b"
             ],
             [
              0.6666666666666666,
              "#ed7953"
             ],
             [
              0.7777777777777778,
              "#fb9f3a"
             ],
             [
              0.8888888888888888,
              "#fdca26"
             ],
             [
              1,
              "#f0f921"
             ]
            ],
            "type": "surface"
           }
          ],
          "table": [
           {
            "cells": {
             "fill": {
              "color": "#EBF0F8"
             },
             "line": {
              "color": "white"
             }
            },
            "header": {
             "fill": {
              "color": "#C8D4E3"
             },
             "line": {
              "color": "white"
             }
            },
            "type": "table"
           }
          ]
         },
         "layout": {
          "annotationdefaults": {
           "arrowcolor": "#2a3f5f",
           "arrowhead": 0,
           "arrowwidth": 1
          },
          "autotypenumbers": "strict",
          "coloraxis": {
           "colorbar": {
            "outlinewidth": 0,
            "ticks": ""
           }
          },
          "colorscale": {
           "diverging": [
            [
             0,
             "#8e0152"
            ],
            [
             0.1,
             "#c51b7d"
            ],
            [
             0.2,
             "#de77ae"
            ],
            [
             0.3,
             "#f1b6da"
            ],
            [
             0.4,
             "#fde0ef"
            ],
            [
             0.5,
             "#f7f7f7"
            ],
            [
             0.6,
             "#e6f5d0"
            ],
            [
             0.7,
             "#b8e186"
            ],
            [
             0.8,
             "#7fbc41"
            ],
            [
             0.9,
             "#4d9221"
            ],
            [
             1,
             "#276419"
            ]
           ],
           "sequential": [
            [
             0,
             "#0d0887"
            ],
            [
             0.1111111111111111,
             "#46039f"
            ],
            [
             0.2222222222222222,
             "#7201a8"
            ],
            [
             0.3333333333333333,
             "#9c179e"
            ],
            [
             0.4444444444444444,
             "#bd3786"
            ],
            [
             0.5555555555555556,
             "#d8576b"
            ],
            [
             0.6666666666666666,
             "#ed7953"
            ],
            [
             0.7777777777777778,
             "#fb9f3a"
            ],
            [
             0.8888888888888888,
             "#fdca26"
            ],
            [
             1,
             "#f0f921"
            ]
           ],
           "sequentialminus": [
            [
             0,
             "#0d0887"
            ],
            [
             0.1111111111111111,
             "#46039f"
            ],
            [
             0.2222222222222222,
             "#7201a8"
            ],
            [
             0.3333333333333333,
             "#9c179e"
            ],
            [
             0.4444444444444444,
             "#bd3786"
            ],
            [
             0.5555555555555556,
             "#d8576b"
            ],
            [
             0.6666666666666666,
             "#ed7953"
            ],
            [
             0.7777777777777778,
             "#fb9f3a"
            ],
            [
             0.8888888888888888,
             "#fdca26"
            ],
            [
             1,
             "#f0f921"
            ]
           ]
          },
          "colorway": [
           "#636efa",
           "#EF553B",
           "#00cc96",
           "#ab63fa",
           "#FFA15A",
           "#19d3f3",
           "#FF6692",
           "#B6E880",
           "#FF97FF",
           "#FECB52"
          ],
          "font": {
           "color": "#2a3f5f"
          },
          "geo": {
           "bgcolor": "white",
           "lakecolor": "white",
           "landcolor": "#E5ECF6",
           "showlakes": true,
           "showland": true,
           "subunitcolor": "white"
          },
          "hoverlabel": {
           "align": "left"
          },
          "hovermode": "closest",
          "mapbox": {
           "style": "light"
          },
          "paper_bgcolor": "white",
          "plot_bgcolor": "#E5ECF6",
          "polar": {
           "angularaxis": {
            "gridcolor": "white",
            "linecolor": "white",
            "ticks": ""
           },
           "bgcolor": "#E5ECF6",
           "radialaxis": {
            "gridcolor": "white",
            "linecolor": "white",
            "ticks": ""
           }
          },
          "scene": {
           "xaxis": {
            "backgroundcolor": "#E5ECF6",
            "gridcolor": "white",
            "gridwidth": 2,
            "linecolor": "white",
            "showbackground": true,
            "ticks": "",
            "zerolinecolor": "white"
           },
           "yaxis": {
            "backgroundcolor": "#E5ECF6",
            "gridcolor": "white",
            "gridwidth": 2,
            "linecolor": "white",
            "showbackground": true,
            "ticks": "",
            "zerolinecolor": "white"
           },
           "zaxis": {
            "backgroundcolor": "#E5ECF6",
            "gridcolor": "white",
            "gridwidth": 2,
            "linecolor": "white",
            "showbackground": true,
            "ticks": "",
            "zerolinecolor": "white"
           }
          },
          "shapedefaults": {
           "line": {
            "color": "#2a3f5f"
           }
          },
          "ternary": {
           "aaxis": {
            "gridcolor": "white",
            "linecolor": "white",
            "ticks": ""
           },
           "baxis": {
            "gridcolor": "white",
            "linecolor": "white",
            "ticks": ""
           },
           "bgcolor": "#E5ECF6",
           "caxis": {
            "gridcolor": "white",
            "linecolor": "white",
            "ticks": ""
           }
          },
          "title": {
           "x": 0.05
          },
          "xaxis": {
           "automargin": true,
           "gridcolor": "white",
           "linecolor": "white",
           "ticks": "",
           "title": {
            "standoff": 15
           },
           "zerolinecolor": "white",
           "zerolinewidth": 2
          },
          "yaxis": {
           "automargin": true,
           "gridcolor": "white",
           "linecolor": "white",
           "ticks": "",
           "title": {
            "standoff": 15
           },
           "zerolinecolor": "white",
           "zerolinewidth": 2
          }
         }
        },
        "title": {
         "text": ""
        },
        "width": 1000
       }
      }
     },
     "metadata": {},
     "output_type": "display_data"
    }
   ],
   "source": [
    "# network.plot(margin=0.3 ,bus_sizes=0.05, line_widths=0.3)\n",
    "network.iplot(mapbox=True, mapbox_token='pk.eyJ1Ijoia3RlaHJhbmNoaSIsImEiOiJjbDJzNW5kdHMwaGJzM2pudDBsazZ5am80In0.hQfjJnhiiO1-YcJEEpN-1A',size= (1000,700));"
   ]
  },
  {
   "cell_type": "code",
   "execution_count": 27,
   "metadata": {},
   "outputs": [
    {
     "data": {
      "text/html": [
       "<div>\n",
       "<style scoped>\n",
       "    .dataframe tbody tr th:only-of-type {\n",
       "        vertical-align: middle;\n",
       "    }\n",
       "\n",
       "    .dataframe tbody tr th {\n",
       "        vertical-align: top;\n",
       "    }\n",
       "\n",
       "    .dataframe thead th {\n",
       "        text-align: right;\n",
       "    }\n",
       "</style>\n",
       "<table border=\"1\" class=\"dataframe\">\n",
       "  <thead>\n",
       "    <tr style=\"text-align: right;\">\n",
       "      <th></th>\n",
       "      <th>bus0</th>\n",
       "      <th>bus1</th>\n",
       "      <th>r</th>\n",
       "      <th>x</th>\n",
       "      <th>b</th>\n",
       "      <th>s_nom</th>\n",
       "      <th>s_max_pu</th>\n",
       "      <th>length</th>\n",
       "      <th>num_parallel</th>\n",
       "      <th>type</th>\n",
       "      <th>...</th>\n",
       "      <th>v_ang_max</th>\n",
       "      <th>sub_network</th>\n",
       "      <th>x_pu</th>\n",
       "      <th>r_pu</th>\n",
       "      <th>g_pu</th>\n",
       "      <th>b_pu</th>\n",
       "      <th>x_pu_eff</th>\n",
       "      <th>r_pu_eff</th>\n",
       "      <th>s_nom_opt</th>\n",
       "      <th>v_nom</th>\n",
       "    </tr>\n",
       "    <tr>\n",
       "      <th>Line</th>\n",
       "      <th></th>\n",
       "      <th></th>\n",
       "      <th></th>\n",
       "      <th></th>\n",
       "      <th></th>\n",
       "      <th></th>\n",
       "      <th></th>\n",
       "      <th></th>\n",
       "      <th></th>\n",
       "      <th></th>\n",
       "      <th></th>\n",
       "      <th></th>\n",
       "      <th></th>\n",
       "      <th></th>\n",
       "      <th></th>\n",
       "      <th></th>\n",
       "      <th></th>\n",
       "      <th></th>\n",
       "      <th></th>\n",
       "      <th></th>\n",
       "      <th></th>\n",
       "    </tr>\n",
       "  </thead>\n",
       "  <tbody>\n",
       "    <tr>\n",
       "      <th>1</th>\n",
       "      <td>AVA0 0</td>\n",
       "      <td>BPAT0 1</td>\n",
       "      <td>4.921142</td>\n",
       "      <td>33.328201</td>\n",
       "      <td>0.000034</td>\n",
       "      <td>10000</td>\n",
       "      <td>1.0</td>\n",
       "      <td>286.591033</td>\n",
       "      <td>0.360000</td>\n",
       "      <td></td>\n",
       "      <td>...</td>\n",
       "      <td>inf</td>\n",
       "      <td>0</td>\n",
       "      <td>0.000630</td>\n",
       "      <td>0.000093</td>\n",
       "      <td>0.0</td>\n",
       "      <td>1.806749</td>\n",
       "      <td>0.000630</td>\n",
       "      <td>0.000093</td>\n",
       "      <td>0.0</td>\n",
       "      <td>230.0</td>\n",
       "    </tr>\n",
       "    <tr>\n",
       "      <th>2</th>\n",
       "      <td>AVA0 0</td>\n",
       "      <td>BPAT0 2</td>\n",
       "      <td>0.847388</td>\n",
       "      <td>5.990092</td>\n",
       "      <td>0.000139</td>\n",
       "      <td>10000</td>\n",
       "      <td>11.0</td>\n",
       "      <td>228.530547</td>\n",
       "      <td>7.740000</td>\n",
       "      <td></td>\n",
       "      <td>...</td>\n",
       "      <td>inf</td>\n",
       "      <td>0</td>\n",
       "      <td>0.000113</td>\n",
       "      <td>0.000016</td>\n",
       "      <td>0.0</td>\n",
       "      <td>7.332470</td>\n",
       "      <td>0.000113</td>\n",
       "      <td>0.000016</td>\n",
       "      <td>0.0</td>\n",
       "      <td>230.0</td>\n",
       "    </tr>\n",
       "    <tr>\n",
       "      <th>3</th>\n",
       "      <td>AVA0 0</td>\n",
       "      <td>BPAT0 4</td>\n",
       "      <td>1.332076</td>\n",
       "      <td>17.453704</td>\n",
       "      <td>0.000055</td>\n",
       "      <td>10000</td>\n",
       "      <td>4.0</td>\n",
       "      <td>246.090182</td>\n",
       "      <td>15.922854</td>\n",
       "      <td></td>\n",
       "      <td>...</td>\n",
       "      <td>inf</td>\n",
       "      <td>0</td>\n",
       "      <td>0.000330</td>\n",
       "      <td>0.000025</td>\n",
       "      <td>0.0</td>\n",
       "      <td>2.929387</td>\n",
       "      <td>0.000330</td>\n",
       "      <td>0.000025</td>\n",
       "      <td>0.0</td>\n",
       "      <td>230.0</td>\n",
       "    </tr>\n",
       "    <tr>\n",
       "      <th>4</th>\n",
       "      <td>AVA0 0</td>\n",
       "      <td>DOPD0 0</td>\n",
       "      <td>0.979313</td>\n",
       "      <td>10.528460</td>\n",
       "      <td>0.000070</td>\n",
       "      <td>10000</td>\n",
       "      <td>6.0</td>\n",
       "      <td>230.247931</td>\n",
       "      <td>16.642854</td>\n",
       "      <td></td>\n",
       "      <td>...</td>\n",
       "      <td>inf</td>\n",
       "      <td>0</td>\n",
       "      <td>0.000199</td>\n",
       "      <td>0.000019</td>\n",
       "      <td>0.0</td>\n",
       "      <td>3.680059</td>\n",
       "      <td>0.000199</td>\n",
       "      <td>0.000019</td>\n",
       "      <td>0.0</td>\n",
       "      <td>230.0</td>\n",
       "    </tr>\n",
       "    <tr>\n",
       "      <th>5</th>\n",
       "      <td>AVA0 0</td>\n",
       "      <td>IPCO0 0</td>\n",
       "      <td>6.940746</td>\n",
       "      <td>211.460261</td>\n",
       "      <td>0.000026</td>\n",
       "      <td>10000</td>\n",
       "      <td>1.0</td>\n",
       "      <td>614.940313</td>\n",
       "      <td>11.062854</td>\n",
       "      <td></td>\n",
       "      <td>...</td>\n",
       "      <td>inf</td>\n",
       "      <td>0</td>\n",
       "      <td>0.003997</td>\n",
       "      <td>0.000131</td>\n",
       "      <td>0.0</td>\n",
       "      <td>1.366133</td>\n",
       "      <td>0.003997</td>\n",
       "      <td>0.000131</td>\n",
       "      <td>0.0</td>\n",
       "      <td>230.0</td>\n",
       "    </tr>\n",
       "    <tr>\n",
       "      <th>...</th>\n",
       "      <td>...</td>\n",
       "      <td>...</td>\n",
       "      <td>...</td>\n",
       "      <td>...</td>\n",
       "      <td>...</td>\n",
       "      <td>...</td>\n",
       "      <td>...</td>\n",
       "      <td>...</td>\n",
       "      <td>...</td>\n",
       "      <td>...</td>\n",
       "      <td>...</td>\n",
       "      <td>...</td>\n",
       "      <td>...</td>\n",
       "      <td>...</td>\n",
       "      <td>...</td>\n",
       "      <td>...</td>\n",
       "      <td>...</td>\n",
       "      <td>...</td>\n",
       "      <td>...</td>\n",
       "      <td>...</td>\n",
       "      <td>...</td>\n",
       "    </tr>\n",
       "    <tr>\n",
       "      <th>115</th>\n",
       "      <td>PNM0 0</td>\n",
       "      <td>TEPC0 0</td>\n",
       "      <td>7.826101</td>\n",
       "      <td>96.471081</td>\n",
       "      <td>0.000057</td>\n",
       "      <td>10000</td>\n",
       "      <td>2.0</td>\n",
       "      <td>602.896890</td>\n",
       "      <td>4.975898</td>\n",
       "      <td></td>\n",
       "      <td>...</td>\n",
       "      <td>inf</td>\n",
       "      <td>0</td>\n",
       "      <td>0.001824</td>\n",
       "      <td>0.000148</td>\n",
       "      <td>0.0</td>\n",
       "      <td>2.998033</td>\n",
       "      <td>0.001824</td>\n",
       "      <td>0.000148</td>\n",
       "      <td>0.0</td>\n",
       "      <td>230.0</td>\n",
       "    </tr>\n",
       "    <tr>\n",
       "      <th>116</th>\n",
       "      <td>PNM0 0</td>\n",
       "      <td>WACM0 0</td>\n",
       "      <td>3.387828</td>\n",
       "      <td>22.412969</td>\n",
       "      <td>0.000394</td>\n",
       "      <td>10000</td>\n",
       "      <td>1.0</td>\n",
       "      <td>741.184724</td>\n",
       "      <td>7.975898</td>\n",
       "      <td></td>\n",
       "      <td>...</td>\n",
       "      <td>inf</td>\n",
       "      <td>0</td>\n",
       "      <td>0.000424</td>\n",
       "      <td>0.000064</td>\n",
       "      <td>0.0</td>\n",
       "      <td>20.861300</td>\n",
       "      <td>0.000424</td>\n",
       "      <td>0.000064</td>\n",
       "      <td>0.0</td>\n",
       "      <td>230.0</td>\n",
       "    </tr>\n",
       "    <tr>\n",
       "      <th>117</th>\n",
       "      <td>PSCO0 0</td>\n",
       "      <td>PSCO0 1</td>\n",
       "      <td>0.502926</td>\n",
       "      <td>3.029340</td>\n",
       "      <td>0.000194</td>\n",
       "      <td>10000</td>\n",
       "      <td>1.0</td>\n",
       "      <td>187.986915</td>\n",
       "      <td>9.725898</td>\n",
       "      <td></td>\n",
       "      <td>...</td>\n",
       "      <td>inf</td>\n",
       "      <td>0</td>\n",
       "      <td>0.000057</td>\n",
       "      <td>0.000010</td>\n",
       "      <td>0.0</td>\n",
       "      <td>10.287352</td>\n",
       "      <td>0.000057</td>\n",
       "      <td>0.000010</td>\n",
       "      <td>0.0</td>\n",
       "      <td>230.0</td>\n",
       "    </tr>\n",
       "    <tr>\n",
       "      <th>118</th>\n",
       "      <td>PSCO0 0</td>\n",
       "      <td>WACM0 0</td>\n",
       "      <td>0.853321</td>\n",
       "      <td>5.813073</td>\n",
       "      <td>0.000254</td>\n",
       "      <td>10000</td>\n",
       "      <td>1.0</td>\n",
       "      <td>305.155337</td>\n",
       "      <td>13.451796</td>\n",
       "      <td></td>\n",
       "      <td>...</td>\n",
       "      <td>inf</td>\n",
       "      <td>0</td>\n",
       "      <td>0.000110</td>\n",
       "      <td>0.000016</td>\n",
       "      <td>0.0</td>\n",
       "      <td>13.425544</td>\n",
       "      <td>0.000110</td>\n",
       "      <td>0.000016</td>\n",
       "      <td>0.0</td>\n",
       "      <td>230.0</td>\n",
       "    </tr>\n",
       "    <tr>\n",
       "      <th>119</th>\n",
       "      <td>PSCO0 1</td>\n",
       "      <td>WACM0 0</td>\n",
       "      <td>0.158491</td>\n",
       "      <td>1.222394</td>\n",
       "      <td>0.000284</td>\n",
       "      <td>10000</td>\n",
       "      <td>1.0</td>\n",
       "      <td>142.562132</td>\n",
       "      <td>43.075388</td>\n",
       "      <td></td>\n",
       "      <td>...</td>\n",
       "      <td>inf</td>\n",
       "      <td>0</td>\n",
       "      <td>0.000023</td>\n",
       "      <td>0.000003</td>\n",
       "      <td>0.0</td>\n",
       "      <td>15.020625</td>\n",
       "      <td>0.000023</td>\n",
       "      <td>0.000003</td>\n",
       "      <td>0.0</td>\n",
       "      <td>230.0</td>\n",
       "    </tr>\n",
       "  </tbody>\n",
       "</table>\n",
       "<p>119 rows × 30 columns</p>\n",
       "</div>"
      ],
      "text/plain": [
       "         bus0     bus1         r           x         b  s_nom  s_max_pu  \\\n",
       "Line                                                                      \n",
       "1      AVA0 0  BPAT0 1  4.921142   33.328201  0.000034  10000       1.0   \n",
       "2      AVA0 0  BPAT0 2  0.847388    5.990092  0.000139  10000      11.0   \n",
       "3      AVA0 0  BPAT0 4  1.332076   17.453704  0.000055  10000       4.0   \n",
       "4      AVA0 0  DOPD0 0  0.979313   10.528460  0.000070  10000       6.0   \n",
       "5      AVA0 0  IPCO0 0  6.940746  211.460261  0.000026  10000       1.0   \n",
       "...       ...      ...       ...         ...       ...    ...       ...   \n",
       "115    PNM0 0  TEPC0 0  7.826101   96.471081  0.000057  10000       2.0   \n",
       "116    PNM0 0  WACM0 0  3.387828   22.412969  0.000394  10000       1.0   \n",
       "117   PSCO0 0  PSCO0 1  0.502926    3.029340  0.000194  10000       1.0   \n",
       "118   PSCO0 0  WACM0 0  0.853321    5.813073  0.000254  10000       1.0   \n",
       "119   PSCO0 1  WACM0 0  0.158491    1.222394  0.000284  10000       1.0   \n",
       "\n",
       "          length  num_parallel type  ...  v_ang_max  sub_network      x_pu  \\\n",
       "Line                                 ...                                     \n",
       "1     286.591033      0.360000       ...        inf            0  0.000630   \n",
       "2     228.530547      7.740000       ...        inf            0  0.000113   \n",
       "3     246.090182     15.922854       ...        inf            0  0.000330   \n",
       "4     230.247931     16.642854       ...        inf            0  0.000199   \n",
       "5     614.940313     11.062854       ...        inf            0  0.003997   \n",
       "...          ...           ...  ...  ...        ...          ...       ...   \n",
       "115   602.896890      4.975898       ...        inf            0  0.001824   \n",
       "116   741.184724      7.975898       ...        inf            0  0.000424   \n",
       "117   187.986915      9.725898       ...        inf            0  0.000057   \n",
       "118   305.155337     13.451796       ...        inf            0  0.000110   \n",
       "119   142.562132     43.075388       ...        inf            0  0.000023   \n",
       "\n",
       "          r_pu  g_pu       b_pu  x_pu_eff  r_pu_eff  s_nom_opt  v_nom  \n",
       "Line                                                                   \n",
       "1     0.000093   0.0   1.806749  0.000630  0.000093        0.0  230.0  \n",
       "2     0.000016   0.0   7.332470  0.000113  0.000016        0.0  230.0  \n",
       "3     0.000025   0.0   2.929387  0.000330  0.000025        0.0  230.0  \n",
       "4     0.000019   0.0   3.680059  0.000199  0.000019        0.0  230.0  \n",
       "5     0.000131   0.0   1.366133  0.003997  0.000131        0.0  230.0  \n",
       "...        ...   ...        ...       ...       ...        ...    ...  \n",
       "115   0.000148   0.0   2.998033  0.001824  0.000148        0.0  230.0  \n",
       "116   0.000064   0.0  20.861300  0.000424  0.000064        0.0  230.0  \n",
       "117   0.000010   0.0  10.287352  0.000057  0.000010        0.0  230.0  \n",
       "118   0.000016   0.0  13.425544  0.000110  0.000016        0.0  230.0  \n",
       "119   0.000003   0.0  15.020625  0.000023  0.000003        0.0  230.0  \n",
       "\n",
       "[119 rows x 30 columns]"
      ]
     },
     "execution_count": 27,
     "metadata": {},
     "output_type": "execute_result"
    }
   ],
   "source": [
    "network.lines "
   ]
  },
  {
   "attachments": {},
   "cell_type": "markdown",
   "metadata": {},
   "source": [
    "## Multi-Period Investment Network Simulation"
   ]
  },
  {
   "cell_type": "code",
   "execution_count": 6,
   "metadata": {},
   "outputs": [
    {
     "name": "stderr",
     "output_type": "stream",
     "text": [
      "INFO:pypsa.io:Imported network elec_s_60.nc has buses, carriers, generators, lines, links, loads\n",
      "/var/folders/00/vqry7y9s78q3rvf_m_jmk_bc0000gn/T/ipykernel_914/1439751184.py:36: FutureWarning:\n",
      "\n",
      "The frame.append method is deprecated and will be removed from pandas in a future version. Use pandas.concat instead.\n",
      "\n",
      "/var/folders/00/vqry7y9s78q3rvf_m_jmk_bc0000gn/T/ipykernel_914/1439751184.py:39: FutureWarning:\n",
      "\n",
      "The frame.append method is deprecated and will be removed from pandas in a future version. Use pandas.concat instead.\n",
      "\n",
      "/var/folders/00/vqry7y9s78q3rvf_m_jmk_bc0000gn/T/ipykernel_914/1439751184.py:36: FutureWarning:\n",
      "\n",
      "The frame.append method is deprecated and will be removed from pandas in a future version. Use pandas.concat instead.\n",
      "\n",
      "/var/folders/00/vqry7y9s78q3rvf_m_jmk_bc0000gn/T/ipykernel_914/1439751184.py:39: FutureWarning:\n",
      "\n",
      "The frame.append method is deprecated and will be removed from pandas in a future version. Use pandas.concat instead.\n",
      "\n",
      "/var/folders/00/vqry7y9s78q3rvf_m_jmk_bc0000gn/T/ipykernel_914/1439751184.py:36: FutureWarning:\n",
      "\n",
      "The frame.append method is deprecated and will be removed from pandas in a future version. Use pandas.concat instead.\n",
      "\n",
      "/var/folders/00/vqry7y9s78q3rvf_m_jmk_bc0000gn/T/ipykernel_914/1439751184.py:39: FutureWarning:\n",
      "\n",
      "The frame.append method is deprecated and will be removed from pandas in a future version. Use pandas.concat instead.\n",
      "\n",
      "/var/folders/00/vqry7y9s78q3rvf_m_jmk_bc0000gn/T/ipykernel_914/1439751184.py:36: FutureWarning:\n",
      "\n",
      "The frame.append method is deprecated and will be removed from pandas in a future version. Use pandas.concat instead.\n",
      "\n",
      "/var/folders/00/vqry7y9s78q3rvf_m_jmk_bc0000gn/T/ipykernel_914/1439751184.py:39: FutureWarning:\n",
      "\n",
      "The frame.append method is deprecated and will be removed from pandas in a future version. Use pandas.concat instead.\n",
      "\n",
      "/var/folders/00/vqry7y9s78q3rvf_m_jmk_bc0000gn/T/ipykernel_914/1439751184.py:36: FutureWarning:\n",
      "\n",
      "The frame.append method is deprecated and will be removed from pandas in a future version. Use pandas.concat instead.\n",
      "\n",
      "/var/folders/00/vqry7y9s78q3rvf_m_jmk_bc0000gn/T/ipykernel_914/1439751184.py:39: FutureWarning:\n",
      "\n",
      "The frame.append method is deprecated and will be removed from pandas in a future version. Use pandas.concat instead.\n",
      "\n",
      "/var/folders/00/vqry7y9s78q3rvf_m_jmk_bc0000gn/T/ipykernel_914/1439751184.py:36: FutureWarning:\n",
      "\n",
      "The frame.append method is deprecated and will be removed from pandas in a future version. Use pandas.concat instead.\n",
      "\n",
      "/var/folders/00/vqry7y9s78q3rvf_m_jmk_bc0000gn/T/ipykernel_914/1439751184.py:39: FutureWarning:\n",
      "\n",
      "The frame.append method is deprecated and will be removed from pandas in a future version. Use pandas.concat instead.\n",
      "\n",
      "ERROR:pypsa.io:Error, new components for Load are not unique\n",
      "INFO:pypsa.linopf:Prepare linear problem\n",
      "/Users/kamrantehranchi/opt/miniconda3/envs/pypsa-usa/lib/python3.10/site-packages/pypsa/linopt.py:473: FutureWarning:\n",
      "\n",
      "In a future version, `df.iloc[:, i] = newvals` will attempt to set the values inplace instead of always setting a new array. To retain the old behavior, use either `df[df.columns[i]] = newvals` or, if columns are non-unique, `df.isetitem(i, newvals)`\n",
      "\n",
      "/Users/kamrantehranchi/opt/miniconda3/envs/pypsa-usa/lib/python3.10/site-packages/pypsa/linopt.py:473: FutureWarning:\n",
      "\n",
      "In a future version, `df.iloc[:, i] = newvals` will attempt to set the values inplace instead of always setting a new array. To retain the old behavior, use either `df[df.columns[i]] = newvals` or, if columns are non-unique, `df.isetitem(i, newvals)`\n",
      "\n",
      "INFO:pypsa.linopf:Total preparation time: 0.96s\n",
      "INFO:pypsa.linopf:Solve linear problem using Gurobi solver\n"
     ]
    },
    {
     "name": "stdout",
     "output_type": "stream",
     "text": [
      "Set parameter Username\n",
      "Academic license - for non-commercial use only - expires 2024-01-16\n",
      "Read LP format model from file /var/folders/00/vqry7y9s78q3rvf_m_jmk_bc0000gn/T/pypsa-problem-4mhlyf_8.lp\n",
      "Reading time = 0.26 seconds\n",
      "obj: 136080 rows, 53813 columns, 266224 nonzeros\n",
      "Gurobi Optimizer version 10.0.0 build v10.0.0rc2 (mac64[x86])\n",
      "\n",
      "CPU model: Intel(R) Core(TM) i7-1068NG7 CPU @ 2.30GHz\n",
      "Thread count: 4 physical cores, 8 logical processors, using up to 8 threads\n",
      "\n",
      "Optimize a model with 136080 rows, 53813 columns and 266224 nonzeros\n",
      "Model fingerprint: 0x8fa3d65a\n",
      "Coefficient statistics:\n",
      "  Matrix range     [2e-06, 1e+03]\n",
      "  Objective range  [1e+00, 2e+05]\n",
      "  Bounds range     [1e+00, 3e+09]\n",
      "  RHS range        [1e+00, 6e+04]\n",
      "Warning: Model contains large bounds\n",
      "         Consider reformulating model or setting NumericFocus parameter\n",
      "         to avoid numerical issues.\n",
      "Presolve removed 113963 rows and 15794 columns\n",
      "Presolve time: 0.21s\n",
      "Presolved: 22117 rows, 38019 columns, 142632 nonzeros\n",
      "\n",
      "Concurrent LP optimizer: dual simplex and barrier\n",
      "Showing barrier log only...\n",
      "\n",
      "Ordering time: 0.19s\n",
      "\n",
      "Barrier statistics:\n",
      " Dense cols : 20\n",
      " AA' NZ     : 2.752e+05\n",
      " Factor NZ  : 1.767e+06 (roughly 40 MB of memory)\n",
      " Factor Ops : 9.324e+08 (less than 1 second per iteration)\n",
      " Threads    : 3\n",
      "\n",
      "                  Objective                Residual\n",
      "Iter       Primal          Dual         Primal    Dual     Compl     Time\n",
      "   0   5.03984688e+13 -1.25715980e+13  4.02e+07 1.77e-12  7.44e+10     1s\n",
      "   1   4.88254141e+13 -1.23885938e+13  5.92e+06 4.80e+03  1.17e+10     1s\n",
      "   2   1.45895593e+13 -1.01720005e+13  4.46e+05 4.89e+01  1.07e+09     1s\n",
      "   3   1.86804279e+12 -4.75777287e+12  5.18e+04 2.33e-09  1.58e+08     1s\n",
      "   4   1.60506436e+11 -1.19449175e+12  3.03e+03 2.79e-09  1.94e+07     1s\n",
      "   5   4.12052896e+10 -1.98363398e+11  4.35e+02 3.26e-09  3.11e+06     1s\n",
      "   6   1.32809198e+10 -4.76325250e+10  1.18e+02 2.79e-09  7.67e+05     1s\n",
      "   7   3.92953760e+09 -1.55481199e+10  3.44e+01 9.78e-09  2.42e+05     1s\n",
      "   8   1.65121637e+09 -5.83090257e+09  1.30e+01 1.63e-09  9.27e+04     1s\n",
      "   9   8.56305901e+08 -1.29660868e+09  6.27e+00 4.95e-10  2.67e+04     1s\n",
      "  10   5.02171039e+08 -8.18048290e+07  2.38e+00 7.92e-09  7.23e+03     1s\n",
      "  11   3.37635706e+08  1.76584444e+08  8.52e-01 2.33e-09  1.99e+03     1s\n",
      "  12   2.80064175e+08  2.29218282e+08  3.24e-01 2.21e-09  6.27e+02     1s\n",
      "  13   2.47233761e+08  2.36304031e+08  4.70e-02 2.21e-09  1.35e+02     1s\n",
      "  14   2.44943248e+08  2.39149873e+08  2.96e-02 9.31e-10  7.13e+01     1s\n",
      "  15   2.43198126e+08  2.39984573e+08  1.64e-02 2.79e-09  3.95e+01     1s\n",
      "  16   2.41515290e+08  2.40547157e+08  3.81e-03 3.61e-09  1.19e+01     2s\n",
      "  17   2.41095737e+08  2.40909105e+08  8.40e-04 1.51e-09  2.30e+00     2s\n",
      "  18   2.40968933e+08  2.40957671e+08  1.01e-05 3.26e-09  1.39e-01     2s\n",
      "  19   2.40964674e+08  2.40963946e+08  2.65e-07 4.66e-09  8.96e-03     2s\n",
      "  20   2.40964460e+08  2.40964438e+08  8.31e-08 1.98e-09  2.72e-04     2s\n",
      "  21   2.40964458e+08  2.40964458e+08  3.97e-10 1.16e-10  2.07e-06     2s\n",
      "  22   2.40964458e+08  2.40964458e+08  8.73e-11 2.33e-10  2.07e-09     2s\n",
      "\n",
      "Barrier solved model in 22 iterations and 1.96 seconds (1.58 work units)\n",
      "Optimal objective 2.40964458e+08\n",
      "\n",
      "Crossover log...\n",
      "\n",
      "     637 DPushes remaining with DInf 0.0000000e+00                 2s\n",
      "       0 DPushes remaining with DInf 0.0000000e+00                 2s\n",
      "\n",
      "      12 PPushes remaining with PInf 0.0000000e+00                 2s\n",
      "       0 PPushes remaining with PInf 0.0000000e+00                 2s\n",
      "\n",
      "  Push phase complete: Pinf 0.0000000e+00, Dinf 7.3943247e-11      2s\n",
      "\n",
      "\n",
      "Solved with barrier\n",
      "Iteration    Objective       Primal Inf.    Dual Inf.      Time\n",
      "     652    2.4096446e+08   0.000000e+00   0.000000e+00      2s\n",
      "\n",
      "Solved in 652 iterations and 2.46 seconds (1.85 work units)\n",
      "Optimal objective  2.409644581e+08\n"
     ]
    },
    {
     "name": "stderr",
     "output_type": "stream",
     "text": [
      "INFO:pypsa.linopf:Optimization successful. Objective value: 2.41e+08\n"
     ]
    },
    {
     "data": {
      "text/plain": [
       "('ok', 'optimal')"
      ]
     },
     "execution_count": 6,
     "metadata": {},
     "output_type": "execute_result"
    }
   ],
   "source": [
    "n = pypsa.Network(clustered_path)\n",
    "years = [2020, 2025, 2030, 2035, 2040, 2045]\n",
    "freq = \"1\" #hourly data\n",
    "\n",
    "snapshots = pd.DatetimeIndex([])\n",
    "for year in years:\n",
    "    period = pd.date_range(\n",
    "        start=\"{}-01-01 00:00\".format(year),\n",
    "        freq=\"{}H\".format(freq),\n",
    "        periods=8760 / float(freq),\n",
    "    )\n",
    "    snapshots = snapshots.append(period)\n",
    "\n",
    "# convert to multiindex and assign to network\n",
    "n.snapshots = pd.MultiIndex.from_arrays([snapshots.year, snapshots])\n",
    "n.investment_periods = years\n",
    "n.snapshots\n",
    "\n",
    "n.investment_period_weightings[\"years\"] = list(np.diff(years)) + [5]\n",
    "r = 0.01\n",
    "T = 0\n",
    "for period, nyears in n.investment_period_weightings.years.items():\n",
    "    discounts = [(1 / (1 + r) ** t) for t in range(T, T + nyears)]\n",
    "    n.investment_period_weightings.at[period, \"objective\"] = sum(discounts)\n",
    "    T += nyears\n",
    "n.investment_period_weightings\n",
    "\n",
    "loads_prev = network.loads_t.p_set.iloc[:8760,:]\n",
    "gen_prev = network.generators_t.p_max_pu.iloc[:8760,:] \n",
    "loads_df = pd.DataFrame()\n",
    "generators_df = pd.DataFrame()\n",
    "for year in years:\n",
    "    demand_index = n.snapshots[n.snapshots.get_level_values(0) == year]\n",
    "    load = loads_prev * 1.05\n",
    "    load.index = demand_index\n",
    "    loads_df = loads_df.append(load)\n",
    "    gen = gen_prev * 1.05\n",
    "    gen.index = demand_index\n",
    "    generators_df = generators_df.append(gen)\n",
    "    load_prev = load\n",
    "    gen_prev = gen\n",
    "\n",
    "# loads_df\n",
    "n.madd(\"Load\", loads_df.columns, bus=loads_df.columns, p_set=loads_df )\n",
    "\n",
    "n.generators_t.p_max_pu = generators_df\n",
    "n.generators_t.p_max_pu \n",
    "\n",
    "\n",
    "\n",
    "simulation_hours = 168\n",
    "sim_snapshot = n.snapshots[n.snapshots.get_level_values(0) == 2020][:simulation_hours]\n",
    "n.lopf(sim_snapshot, solver_name=\"gurobi\")\n",
    "\n"
   ]
  },
  {
   "cell_type": "code",
   "execution_count": 18,
   "metadata": {},
   "outputs": [
    {
     "name": "stdout",
     "output_type": "stream",
     "text": [
      "Total Operational Cost:   240964458.365194\n"
     ]
    },
    {
     "data": {
      "image/png": "[encoded data removed]",
      "text/plain": [
       "<Figure size 640x480 with 1 Axes>"
      ]
     },
     "metadata": {},
     "output_type": "display_data"
    }
   ],
   "source": [
    "generation_ts = n.generators_t.p.loc[sim_snapshot]\n",
    "ax = generation_ts.groupby(n.generators.carrier,axis=1).sum().plot(kind='area',stacked=True,linewidth=0,legend=True)\n",
    "load_ts = n.loads_t.p.loc[sim_snapshot].sum(axis=1)\n",
    "load_ts.plot( color='black',linewidth=2, label='Load',ax=ax,legend=True)\n",
    "operation_costs = n.generators.marginal_cost * generation_ts\n",
    "print(\"Total Operational Cost:  \" , operation_costs.sum(axis=1).sum())"
   ]
  },
  {
   "cell_type": "code",
   "execution_count": null,
   "metadata": {},
   "outputs": [],
   "source": [
    "n.export_to_netcdf('/Users/kamrantehranchi/Documents/GradSchool/Courses/Q5/Decision Making under Uncertainty/DMuU_TransmissionExpansion/pypsa_60_multiyear.nc')"
   ]
  },
  {
   "attachments": {},
   "cell_type": "markdown",
   "metadata": {},
   "source": [
    "## Adding Lines/Generators to Multi-Investment Period Model"
   ]
  },
  {
   "cell_type": "code",
   "execution_count": 46,
   "metadata": {},
   "outputs": [],
   "source": [
    "n.remove(\"Line\", \"New_HVAC\")\n",
    "n.remove(\"Link\", \"New_HVDC\")\n",
    "n.remove(\"Generator\", \"Humboldt_OSW\")"
   ]
  },
  {
   "cell_type": "code",
   "execution_count": 47,
   "metadata": {},
   "outputs": [
    {
     "data": {
      "text/plain": [
       "array([0.6946081 , 0.6946081 , 0.6946081 , ..., 0.79822267, 0.79822267,\n",
       "       0.79822267])"
      ]
     },
     "execution_count": 47,
     "metadata": {},
     "output_type": "execute_result"
    }
   ],
   "source": [
    "ows_cf = pd.read_csv('/Users/kamrantehranchi/Documents/GradSchool/Courses/Q5/Decision Making under Uncertainty/DMuU_TransmissionExpansion/OSW_CF_Humboldt.csv')\n"
   ]
  },
  {
   "cell_type": "code",
   "execution_count": 48,
   "metadata": {},
   "outputs": [
    {
     "name": "stderr",
     "output_type": "stream",
     "text": [
      "WARNING:pypsa.components:Line has no attribute v_nom, ignoring this passed value.\n"
     ]
    }
   ],
   "source": [
    "n.line_types.loc[\"Rail\"] = pd.Series(\n",
    "    [60, 0.0683, 0.335, 15, 1.01],\n",
    "    index=[\"f_nom\", \"r_per_length\", \"x_per_length\", \"c_per_length\", \"i_nom\"],\n",
    "    )\n",
    "\n",
    "n.add(\"Line\", \"New_HVAC\", bus0=\"CISO-PGAE0 13\", bus1=\"CISO-PGAE0 16\",\n",
    "            r=0.815803, x=6.873208, b=0.000398 ,s_nom=536.51,length=400, \n",
    "            type=\"Rail\",v_nom=230,\n",
    "            x_pu= 0.000725,\n",
    "            r_pu= 0.000085,\n",
    "            g_pu= 0.0,\n",
    "            b_pu= 7.557957,\n",
    "            x_pu_eff= 0.000725,\n",
    "            r_pu_eff= 0.000085,\n",
    "            s_nom_opt= 2100.295202,\n",
    "            )\n",
    "# NB: for a lossless bi-directional HVDC or transport link, set p_min_pu = -1 and efficiency = 1. NB: It is assumed that the links neither produce nor consume reactive power.\n",
    "n.add(\"Link\", \"New_HVDC\", bus0=\"CISO-PGAE0 13\", bus1=\"CISO-PGAE0 8\",type=\"HVDC_VSC\", carrier = \"DC\",\n",
    "            efficiency=1,\n",
    "            p_nom=100,\n",
    "            p_min_pu=-1,\n",
    "            )\n",
    "n.add(\"Generator\", \"Humboldt_OSW\", bus= \"CISO-PGAE0 13\", carrier=\"offwind\",\n",
    "            p_nom=4000,\n",
    "            marginal_cost=0,\n",
    "            p_max_pu=np.tile(ows_cf.cf_humboldt.values,6),\n",
    "            )"
   ]
  },
  {
   "cell_type": "code",
   "execution_count": 26,
   "metadata": {},
   "outputs": [
    {
     "name": "stderr",
     "output_type": "stream",
     "text": [
      "INFO:pypsa.linopf:Prepare linear problem\n",
      "/Users/kamrantehranchi/opt/miniconda3/envs/pypsa-usa/lib/python3.10/site-packages/pypsa/linopt.py:473: FutureWarning:\n",
      "\n",
      "In a future version, `df.iloc[:, i] = newvals` will attempt to set the values inplace instead of always setting a new array. To retain the old behavior, use either `df[df.columns[i]] = newvals` or, if columns are non-unique, `df.isetitem(i, newvals)`\n",
      "\n",
      "/Users/kamrantehranchi/opt/miniconda3/envs/pypsa-usa/lib/python3.10/site-packages/pypsa/linopt.py:473: FutureWarning:\n",
      "\n",
      "In a future version, `df.iloc[:, i] = newvals` will attempt to set the values inplace instead of always setting a new array. To retain the old behavior, use either `df[df.columns[i]] = newvals` or, if columns are non-unique, `df.isetitem(i, newvals)`\n",
      "\n",
      "INFO:pypsa.linopf:Total preparation time: 0.89s\n",
      "INFO:pypsa.linopf:Solve linear problem using Gurobi solver\n"
     ]
    },
    {
     "name": "stdout",
     "output_type": "stream",
     "text": [
      "Read LP format model from file /var/folders/00/vqry7y9s78q3rvf_m_jmk_bc0000gn/T/pypsa-problem-nofe_8cs.lp\n",
      "Reading time = 0.23 seconds\n",
      "obj: 137592 rows, 54485 columns, 269248 nonzeros\n",
      "Gurobi Optimizer version 10.0.0 build v10.0.0rc2 (mac64[x86])\n",
      "\n",
      "CPU model: Intel(R) Core(TM) i7-1068NG7 CPU @ 2.30GHz\n",
      "Thread count: 4 physical cores, 8 logical processors, using up to 8 threads\n",
      "\n",
      "Optimize a model with 137592 rows, 54485 columns and 269248 nonzeros\n",
      "Model fingerprint: 0x1d5eb190\n",
      "Coefficient statistics:\n",
      "  Matrix range     [2e-06, 1e+03]\n",
      "  Objective range  [1e+00, 2e+05]\n",
      "  Bounds range     [1e+00, 3e+09]\n",
      "  RHS range        [1e+00, 6e+04]\n",
      "Warning: Model contains large bounds\n",
      "         Consider reformulating model or setting NumericFocus parameter\n",
      "         to avoid numerical issues.\n",
      "Presolve removed 115303 rows and 15958 columns\n",
      "Presolve time: 0.18s\n",
      "Presolved: 22289 rows, 38527 columns, 144646 nonzeros\n",
      "\n",
      "Concurrent LP optimizer: dual simplex and barrier\n",
      "Showing barrier log only...\n",
      "\n",
      "Ordering time: 0.17s\n",
      "\n",
      "Barrier statistics:\n",
      " Dense cols : 20\n",
      " AA' NZ     : 2.809e+05\n",
      " Factor NZ  : 1.767e+06 (roughly 40 MB of memory)\n",
      " Factor Ops : 9.358e+08 (less than 1 second per iteration)\n",
      " Threads    : 3\n",
      "\n",
      "                  Objective                Residual\n",
      "Iter       Primal          Dual         Primal    Dual     Compl     Time\n",
      "   0   5.04048992e+13 -1.30566909e+13  4.02e+07 1.77e-12  7.43e+10     1s\n",
      "   1   4.87182057e+13 -1.28388362e+13  5.92e+06 4.71e+03  1.17e+10     1s\n",
      "   2   1.43871374e+13 -1.04725672e+13  4.49e+05 4.22e+01  1.07e+09     1s\n",
      "   3   1.80488940e+12 -4.87546629e+12  5.09e+04 1.86e-09  1.56e+08     1s\n",
      "   4   1.60277793e+11 -1.29233391e+12  3.10e+03 3.61e-09  2.05e+07     1s\n",
      "   5   4.06218420e+10 -1.99434729e+11  4.31e+02 8.73e-10  3.07e+06     1s\n",
      "   6   1.27888184e+10 -4.17925583e+10  1.09e+02 1.05e-09  6.78e+05     1s\n",
      "   7   3.90424400e+09 -1.80034722e+10  3.31e+01 1.75e-09  2.69e+05     1s\n",
      "   8   1.85800159e+09 -5.57831730e+09  1.41e+01 1.28e-09  9.10e+04     1s\n",
      "   9   8.60034498e+08 -1.34119626e+09  6.16e+00 1.05e-09  2.69e+04     1s\n",
      "  10   5.50373017e+08 -4.90067705e+08  3.06e+00 1.57e-09  1.27e+04     1s\n",
      "  11   4.04147565e+08  8.32549894e+07  1.67e+00 2.44e-09  3.92e+03     1s\n",
      "  12   2.83074534e+08  1.98331947e+08  4.35e-01 4.66e-09  1.03e+03     1s\n",
      "  13   2.49471308e+08  2.26636863e+08  7.30e-02 6.52e-09  2.78e+02     1s\n",
      "  14   2.37587548e+08  2.31319422e+08  1.84e-02 2.15e-09  7.62e+01     1s\n",
      "  15   2.33895065e+08  2.32955640e+08  2.40e-03 8.38e-09  1.14e+01     2s\n",
      "  16   2.33406463e+08  2.33186422e+08  5.59e-04 4.89e-09  2.67e+00     2s\n",
      "  17   2.33291632e+08  2.33235364e+08  1.56e-04 5.82e-10  6.84e-01     2s\n",
      "  18   2.33264428e+08  2.33241105e+08  6.36e-05 5.24e-10  2.83e-01     2s\n",
      "  19   2.33250579e+08  2.33243708e+08  1.77e-05 2.91e-09  8.35e-02     2s\n",
      "  20   2.33245554e+08  2.33244848e+08  1.74e-06 1.02e-08  8.57e-03     2s\n",
      "  21   2.33245098e+08  2.33245077e+08  3.95e-07 1.16e-10  2.57e-04     2s\n",
      "  22   2.33245091e+08  2.33245090e+08  2.47e-08 1.16e-10  7.29e-06     2s\n",
      "  23   2.33245090e+08  2.33245090e+08  1.04e-09 4.66e-10  1.64e-07     2s\n",
      "  24   2.33245090e+08  2.33245090e+08  1.16e-10 1.16e-10  1.64e-10     2s\n",
      "\n",
      "Barrier solved model in 24 iterations and 1.96 seconds (1.71 work units)\n",
      "Optimal objective 2.33245090e+08\n",
      "\n",
      "Crossover log...\n",
      "\n",
      "     563 DPushes remaining with DInf 0.0000000e+00                 2s\n",
      "       0 DPushes remaining with DInf 0.0000000e+00                 2s\n",
      "\n",
      "      29 PPushes remaining with PInf 0.0000000e+00                 2s\n",
      "       0 PPushes remaining with PInf 0.0000000e+00                 2s\n",
      "\n",
      "  Push phase complete: Pinf 0.0000000e+00, Dinf 9.5091698e-11      2s\n",
      "\n",
      "\n",
      "Solved with barrier\n",
      "Iteration    Objective       Primal Inf.    Dual Inf.      Time\n",
      "     595    2.3324509e+08   0.000000e+00   0.000000e+00      2s\n",
      "\n",
      "Solved in 595 iterations and 2.47 seconds (1.99 work units)\n",
      "Optimal objective  2.332450903e+08\n"
     ]
    },
    {
     "name": "stderr",
     "output_type": "stream",
     "text": [
      "INFO:pypsa.linopf:Optimization successful. Objective value: 2.33e+08\n"
     ]
    },
    {
     "data": {
      "text/plain": [
       "('ok', 'optimal')"
      ]
     },
     "execution_count": 26,
     "metadata": {},
     "output_type": "execute_result"
    }
   ],
   "source": [
    "simulation_hours = 168\n",
    "sim_snapshot = n.snapshots[n.snapshots.get_level_values(0) == 2020][:simulation_hours]\n",
    "n.lopf(sim_snapshot, solver_name=\"gurobi\")"
   ]
  },
  {
   "cell_type": "code",
   "execution_count": 27,
   "metadata": {},
   "outputs": [
    {
     "name": "stdout",
     "output_type": "stream",
     "text": [
      "Total Operational Cost:   233245090.3580391\n"
     ]
    },
    {
     "data": {
      "image/png": "[encoded data removed]",
      "text/plain": [
       "<Figure size 640x480 with 1 Axes>"
      ]
     },
     "metadata": {},
     "output_type": "display_data"
    }
   ],
   "source": [
    "generation_ts = n.generators_t.p.loc[sim_snapshot]\n",
    "ax = generation_ts.groupby(n.generators.carrier,axis=1).sum().plot(kind='area',stacked=True,linewidth=0,legend=True)\n",
    "load_ts = n.loads_t.p.loc[sim_snapshot].sum(axis=1)\n",
    "load_ts.plot( color='black',linewidth=2, label='Load',ax=ax,legend=True)\n",
    "operation_costs = n.generators.marginal_cost * generation_ts\n",
    "print(\"Total Operational Cost:  \" , operation_costs.sum(axis=1).sum())"
   ]
  },
  {
   "attachments": {},
   "cell_type": "markdown",
   "metadata": {},
   "source": [
    "# Single Investment Period Network Simulation"
   ]
  },
  {
   "attachments": {},
   "cell_type": "markdown",
   "metadata": {},
   "source": [
    "## Running Simulation"
   ]
  },
  {
   "cell_type": "code",
   "execution_count": 7,
   "metadata": {},
   "outputs": [
    {
     "name": "stderr",
     "output_type": "stream",
     "text": [
      "INFO:linopy.model: Solve linear problem using Gurobi solver\n",
      "Writing constraints.: 100%|██████████| 12/12 [00:03<00:00,  3.69it/s]\n",
      "Writing variables.: 100%|██████████| 5/5 [00:00<00:00,  9.87it/s]\n"
     ]
    },
    {
     "name": "stdout",
     "output_type": "stream",
     "text": [
      "Read LP format model from file /var/folders/00/vqry7y9s78q3rvf_m_jmk_bc0000gn/T/linopy-problem-qwvon68x.lp\n",
      "Reading time = 2.43 seconds\n",
      "obj: 1328054 rows, 544055 columns, 2498485 nonzeros\n",
      "Gurobi Optimizer version 10.0.0 build v10.0.0rc2 (mac64[x86])\n",
      "\n",
      "CPU model: Intel(R) Core(TM) i7-1068NG7 CPU @ 2.30GHz\n",
      "Thread count: 4 physical cores, 8 logical processors, using up to 8 threads\n",
      "\n",
      "Optimize a model with 1328054 rows, 544055 columns and 2498485 nonzeros\n",
      "Model fingerprint: 0x3cb2a96b\n",
      "Coefficient statistics:\n",
      "  Matrix range     [1e-06, 2e+03]\n",
      "  Objective range  [1e+00, 1e+05]\n",
      "  Bounds range     [3e+09, 3e+09]\n",
      "  RHS range        [9e-01, 3e+04]\n",
      "Warning: Model contains large bounds\n",
      "         Consider reformulating model or setting NumericFocus parameter\n",
      "         to avoid numerical issues.\n",
      "Presolve removed 1125028 rows and 154975 columns\n",
      "Presolve time: 2.36s\n",
      "Presolved: 203026 rows, 389080 columns, 1247715 nonzeros\n",
      "\n",
      "Concurrent LP optimizer: dual simplex and barrier\n",
      "Showing barrier log only...\n",
      "\n",
      "Ordering time: 0.10s\n",
      "\n",
      "Barrier statistics:\n",
      " Dense cols : 54\n",
      " AA' NZ     : 1.394e+06\n",
      " Factor NZ  : 5.922e+06 (roughly 300 MB of memory)\n",
      " Factor Ops : 2.627e+08 (less than 1 second per iteration)\n",
      " Threads    : 3\n",
      "\n",
      "                  Objective                Residual\n",
      "Iter       Primal          Dual         Primal    Dual     Compl     Time\n",
      "   0   2.90155137e+14 -2.69260500e+14  5.41e+07 1.77e-12  1.93e+11     3s\n",
      "   1   3.37881970e+14 -2.68495284e+14  7.86e+06 7.58e+03  3.14e+10     3s\n",
      "   2   2.31810085e+14 -2.36383270e+14  1.47e+06 3.97e+02  5.57e+09     4s\n",
      "   3   6.98508799e+13 -1.56575456e+14  2.14e+05 3.32e+01  9.43e+08     4s\n",
      "   4   1.74693711e+13 -6.99453554e+13  4.56e+04 2.79e-08  2.26e+08     4s\n",
      "   5   4.20863764e+12 -3.89448726e+13  9.79e+03 2.98e-08  7.32e+07     4s\n",
      "   6   1.67756162e+12 -1.44744029e+13  3.53e+03 2.33e-08  2.43e+07     4s\n",
      "   7   9.86386432e+11 -4.51948658e+12  1.97e+03 1.30e-08  8.21e+06     5s\n",
      "   8   3.79566423e+11 -1.78811848e+12  6.92e+02 5.59e-09  2.93e+06     5s\n",
      "   9   1.17092383e+11 -4.57792781e+11  1.80e+02 1.49e-08  7.25e+05     5s\n",
      "  10   3.95499913e+10 -1.08777042e+11  4.93e+01 2.14e-08  1.80e+05     5s\n",
      "  11   1.58229899e+10 -3.30099621e+10  1.72e+01 5.70e-09  5.85e+04     6s\n",
      "  12   1.01981028e+10 -1.46096874e+10  1.06e+01 4.60e-09  2.96e+04     6s\n",
      "  13   8.87631199e+09 -6.40660069e+09  8.97e+00 1.58e-08  1.83e+04     6s\n",
      "  14   6.44144517e+09 -2.59915941e+09  5.98e+00 1.58e-08  1.08e+04     6s\n",
      "  15   5.03095612e+09  3.68843680e+08  4.25e+00 1.83e-08  5.57e+03     6s\n",
      "  16   3.28365198e+09  1.53554049e+09  1.69e+00 2.14e-08  2.09e+03     7s\n",
      "  17   2.76979929e+09  1.82207448e+09  9.59e-01 2.33e-08  1.13e+03     7s\n",
      "  18   2.52224382e+09  1.92922940e+09  6.18e-01 1.02e-08  7.07e+02     7s\n",
      "  19   2.36609607e+09  1.99719179e+09  3.76e-01 1.02e-08  4.39e+02     7s\n",
      "  20   2.28890853e+09  2.02537829e+09  2.53e-01 1.77e-08  3.13e+02     7s\n",
      "  21   2.24921242e+09  2.08590679e+09  1.87e-01 4.10e-08  1.94e+02     8s\n",
      "  22   2.21306823e+09  2.10928585e+09  1.26e-01 5.31e-08  1.23e+02     8s\n",
      "  23   2.18902673e+09  2.12061988e+09  8.60e-02 3.45e-08  8.09e+01     8s\n",
      "  24   2.17188064e+09  2.12621708e+09  5.70e-02 3.26e-08  5.40e+01     8s\n",
      "  25   2.15872680e+09  2.12941681e+09  3.50e-02 3.26e-08  3.46e+01     8s\n",
      "  26   2.15351197e+09  2.13154572e+09  2.62e-02 2.51e-08  2.59e+01     8s\n",
      "  27   2.14678010e+09  2.13363652e+09  1.50e-02 4.66e-08  1.55e+01     9s\n",
      "  28   2.14287213e+09  2.13562524e+09  8.79e-03 6.61e-08  8.55e+00     9s\n",
      "  29   2.14032760e+09  2.13622203e+09  4.68e-03 7.17e-08  4.84e+00     9s\n",
      "  30   2.13926452e+09  2.13648695e+09  3.00e-03 4.56e-08  3.28e+00     9s\n",
      "  31   2.13825649e+09  2.13678578e+09  1.44e-03 4.19e-08  1.73e+00     9s\n",
      "  32   2.13791156e+09  2.13699807e+09  9.16e-04 7.17e-08  1.08e+00     9s\n",
      "  33   2.13745544e+09  2.13719897e+09  2.42e-04 4.38e-08  3.02e-01    10s\n",
      "  34   2.13729013e+09  2.13726946e+09  1.58e-05 2.42e-08  2.44e-02    10s\n",
      "  35   2.13727734e+09  2.13727541e+09  2.41e-06 1.86e-08  2.27e-03    10s\n",
      "  36   2.13727649e+09  2.13727610e+09  1.97e-06 3.73e-09  4.65e-04    10s\n",
      "  37   2.13727629e+09  2.13727627e+09  1.84e-07 4.66e-10  1.93e-05    10s\n",
      "  38   2.13727628e+09  2.13727628e+09  1.28e-09 4.66e-10  1.99e-08    11s\n",
      "  39   2.13727628e+09  2.13727628e+09  1.16e-10 9.31e-10  1.99e-14    11s\n",
      "\n",
      "Barrier solved model in 39 iterations and 10.86 seconds (7.99 work units)\n",
      "Optimal objective 2.13727628e+09\n",
      "\n",
      "Crossover log...\n",
      "\n",
      "   22546 DPushes remaining with DInf 0.0000000e+00                12s\n",
      "    7649 DPushes remaining with DInf 0.0000000e+00                15s\n",
      "    1969 DPushes remaining with DInf 0.0000000e+00                20s\n",
      "       0 DPushes remaining with DInf 0.0000000e+00                23s\n",
      "\n",
      "    2209 PPushes remaining with PInf 0.0000000e+00                23s\n",
      "       0 PPushes remaining with PInf 0.0000000e+00                24s\n",
      "\n",
      "  Push phase complete: Pinf 0.0000000e+00, Dinf 1.6251258e-09     24s\n",
      "\n",
      "\n",
      "Solved with barrier\n",
      "Iteration    Objective       Primal Inf.    Dual Inf.      Time\n",
      "   23142    2.1372763e+09   0.000000e+00   0.000000e+00     26s\n",
      "\n",
      "Solved in 23142 iterations and 25.93 seconds (18.06 work units)\n",
      "Optimal objective  2.137276285e+09\n"
     ]
    },
    {
     "name": "stderr",
     "output_type": "stream",
     "text": [
      "INFO:linopy.model: Optimization successful. Objective value: 2.14e+09\n"
     ]
    },
    {
     "data": {
      "text/plain": [
       "('ok', 'optimal')"
      ]
     },
     "execution_count": 7,
     "metadata": {},
     "output_type": "execute_result"
    }
   ],
   "source": [
    "simulation_hours = 2000\n",
    "network.optimize(network.snapshots[0:simulation_hours], solver_name=\"gurobi\")"
   ]
  },
  {
   "cell_type": "code",
   "execution_count": 5,
   "metadata": {},
   "outputs": [
    {
     "data": {
      "text/plain": [
       "snapshot\n",
       "2016-01-01 00:00:00     88760.839704\n",
       "2016-01-01 01:00:00     94398.920636\n",
       "2016-01-01 02:00:00     99026.967012\n",
       "2016-01-01 03:00:00    101434.483510\n",
       "2016-01-01 04:00:00    100431.005259\n",
       "                           ...      \n",
       "2016-01-09 03:00:00     99603.440265\n",
       "2016-01-09 04:00:00     98659.093245\n",
       "2016-01-09 05:00:00     96342.834806\n",
       "2016-01-09 06:00:00     92919.973282\n",
       "2016-01-09 07:00:00     88686.749252\n",
       "Length: 200, dtype: float64"
      ]
     },
     "execution_count": 5,
     "metadata": {},
     "output_type": "execute_result"
    }
   ],
   "source": [
    "load_ts = network.loads_t.p.iloc[0:simulation_hours].sum(axis=1)\n",
    "load_ts"
   ]
  },
  {
   "cell_type": "code",
   "execution_count": 7,
   "metadata": {},
   "outputs": [
    {
     "data": {
      "text/html": [
       "<div>\n",
       "<style scoped>\n",
       "    .dataframe tbody tr th:only-of-type {\n",
       "        vertical-align: middle;\n",
       "    }\n",
       "\n",
       "    .dataframe tbody tr th {\n",
       "        vertical-align: top;\n",
       "    }\n",
       "\n",
       "    .dataframe thead th {\n",
       "        text-align: right;\n",
       "    }\n",
       "</style>\n",
       "<table border=\"1\" class=\"dataframe\">\n",
       "  <thead>\n",
       "    <tr style=\"text-align: right;\">\n",
       "      <th></th>\n",
       "      <th>weight</th>\n",
       "      <th>p_nom</th>\n",
       "      <th>capital_cost</th>\n",
       "      <th>efficiency</th>\n",
       "      <th>p_nom_min</th>\n",
       "      <th>marginal_cost</th>\n",
       "      <th>carrier</th>\n",
       "      <th>bus</th>\n",
       "      <th>p_nom_extendable</th>\n",
       "      <th>control</th>\n",
       "      <th>...</th>\n",
       "      <th>start_up_cost</th>\n",
       "      <th>shut_down_cost</th>\n",
       "      <th>min_up_time</th>\n",
       "      <th>min_down_time</th>\n",
       "      <th>up_time_before</th>\n",
       "      <th>down_time_before</th>\n",
       "      <th>ramp_limit_up</th>\n",
       "      <th>ramp_limit_down</th>\n",
       "      <th>ramp_limit_start_up</th>\n",
       "      <th>ramp_limit_shut_down</th>\n",
       "    </tr>\n",
       "    <tr>\n",
       "      <th>Generator</th>\n",
       "      <th></th>\n",
       "      <th></th>\n",
       "      <th></th>\n",
       "      <th></th>\n",
       "      <th></th>\n",
       "      <th></th>\n",
       "      <th></th>\n",
       "      <th></th>\n",
       "      <th></th>\n",
       "      <th></th>\n",
       "      <th></th>\n",
       "      <th></th>\n",
       "      <th></th>\n",
       "      <th></th>\n",
       "      <th></th>\n",
       "      <th></th>\n",
       "      <th></th>\n",
       "      <th></th>\n",
       "      <th></th>\n",
       "      <th></th>\n",
       "      <th></th>\n",
       "    </tr>\n",
       "  </thead>\n",
       "  <tbody>\n",
       "  </tbody>\n",
       "</table>\n",
       "<p>0 rows × 31 columns</p>\n",
       "</div>"
      ],
      "text/plain": [
       "Empty DataFrame\n",
       "Columns: [weight, p_nom, capital_cost, efficiency, p_nom_min, marginal_cost, carrier, bus, p_nom_extendable, control, p_nom_opt, type, p_nom_max, p_min_pu, p_max_pu, p_set, q_set, sign, build_year, lifetime, committable, start_up_cost, shut_down_cost, min_up_time, min_down_time, up_time_before, down_time_before, ramp_limit_up, ramp_limit_down, ramp_limit_start_up, ramp_limit_shut_down]\n",
       "Index: []\n",
       "\n",
       "[0 rows x 31 columns]"
      ]
     },
     "execution_count": 7,
     "metadata": {},
     "output_type": "execute_result"
    }
   ],
   "source": [
    "network.generators[network.generators.carrier == 'offwind'] #### why is there offshore wind?"
   ]
  },
  {
   "cell_type": "code",
   "execution_count": 6,
   "metadata": {},
   "outputs": [
    {
     "data": {
      "text/plain": [
       "<AxesSubplot: xlabel='snapshot'>"
      ]
     },
     "execution_count": 6,
     "metadata": {},
     "output_type": "execute_result"
    },
    {
     "data": {
      "image/png": "[encoded data removed]",
      "text/plain": [
       "<Figure size 640x480 with 1 Axes>"
      ]
     },
     "metadata": {},
     "output_type": "display_data"
    }
   ],
   "source": [
    "generation_ts = network.generators_t.p.iloc[0:simulation_hours]\n",
    "ax = generation_ts.groupby(network.generators.carrier,axis=1).sum().plot(kind='area',stacked=True,linewidth=0,legend=True)\n",
    "load_ts.plot( color='black',linewidth=2, label='Load',ax=ax,legend=True)"
   ]
  },
  {
   "cell_type": "code",
   "execution_count": 134,
   "metadata": {},
   "outputs": [
    {
     "data": {
      "text/html": [
       "<div>\n",
       "<style scoped>\n",
       "    .dataframe tbody tr th:only-of-type {\n",
       "        vertical-align: middle;\n",
       "    }\n",
       "\n",
       "    .dataframe tbody tr th {\n",
       "        vertical-align: top;\n",
       "    }\n",
       "\n",
       "    .dataframe thead th {\n",
       "        text-align: right;\n",
       "    }\n",
       "</style>\n",
       "<table border=\"1\" class=\"dataframe\">\n",
       "  <thead>\n",
       "    <tr style=\"text-align: right;\">\n",
       "      <th>carrier</th>\n",
       "      <th>coal</th>\n",
       "      <th>geothermal</th>\n",
       "      <th>hydro</th>\n",
       "      <th>ng</th>\n",
       "      <th>nuclear</th>\n",
       "      <th>offwind</th>\n",
       "      <th>solar</th>\n",
       "      <th>wind</th>\n",
       "    </tr>\n",
       "    <tr>\n",
       "      <th>snapshot</th>\n",
       "      <th></th>\n",
       "      <th></th>\n",
       "      <th></th>\n",
       "      <th></th>\n",
       "      <th></th>\n",
       "      <th></th>\n",
       "      <th></th>\n",
       "      <th></th>\n",
       "    </tr>\n",
       "  </thead>\n",
       "  <tbody>\n",
       "    <tr>\n",
       "      <th>2016-01-01 00:00:00</th>\n",
       "      <td>18194.393753</td>\n",
       "      <td>429.57</td>\n",
       "      <td>10168.407604</td>\n",
       "      <td>12769.529749</td>\n",
       "      <td>6532.6</td>\n",
       "      <td>5.740301</td>\n",
       "      <td>1865.838875</td>\n",
       "      <td>2065.798121</td>\n",
       "    </tr>\n",
       "    <tr>\n",
       "      <th>2016-01-01 01:00:00</th>\n",
       "      <td>18798.532728</td>\n",
       "      <td>429.57</td>\n",
       "      <td>11390.009228</td>\n",
       "      <td>16502.149855</td>\n",
       "      <td>6532.6</td>\n",
       "      <td>6.216704</td>\n",
       "      <td>0.000000</td>\n",
       "      <td>2461.861551</td>\n",
       "    </tr>\n",
       "    <tr>\n",
       "      <th>2016-01-01 02:00:00</th>\n",
       "      <td>18341.211655</td>\n",
       "      <td>429.57</td>\n",
       "      <td>12638.907305</td>\n",
       "      <td>19358.490856</td>\n",
       "      <td>6532.6</td>\n",
       "      <td>6.737958</td>\n",
       "      <td>0.000000</td>\n",
       "      <td>2470.715908</td>\n",
       "    </tr>\n",
       "    <tr>\n",
       "      <th>2016-01-01 03:00:00</th>\n",
       "      <td>17872.789080</td>\n",
       "      <td>429.57</td>\n",
       "      <td>12950.751851</td>\n",
       "      <td>20653.692968</td>\n",
       "      <td>6532.6</td>\n",
       "      <td>6.949289</td>\n",
       "      <td>0.000000</td>\n",
       "      <td>2672.649175</td>\n",
       "    </tr>\n",
       "    <tr>\n",
       "      <th>2016-01-01 04:00:00</th>\n",
       "      <td>18001.903915</td>\n",
       "      <td>429.57</td>\n",
       "      <td>12801.696573</td>\n",
       "      <td>20055.076764</td>\n",
       "      <td>6532.6</td>\n",
       "      <td>7.008960</td>\n",
       "      <td>0.000000</td>\n",
       "      <td>2620.159839</td>\n",
       "    </tr>\n",
       "    <tr>\n",
       "      <th>...</th>\n",
       "      <td>...</td>\n",
       "      <td>...</td>\n",
       "      <td>...</td>\n",
       "      <td>...</td>\n",
       "      <td>...</td>\n",
       "      <td>...</td>\n",
       "      <td>...</td>\n",
       "      <td>...</td>\n",
       "    </tr>\n",
       "    <tr>\n",
       "      <th>2016-01-07 19:00:00</th>\n",
       "      <td>18434.926487</td>\n",
       "      <td>429.57</td>\n",
       "      <td>12113.592316</td>\n",
       "      <td>12556.944754</td>\n",
       "      <td>6532.6</td>\n",
       "      <td>5.120867</td>\n",
       "      <td>4930.237038</td>\n",
       "      <td>1136.585458</td>\n",
       "    </tr>\n",
       "    <tr>\n",
       "      <th>2016-01-07 20:00:00</th>\n",
       "      <td>18383.572928</td>\n",
       "      <td>429.57</td>\n",
       "      <td>11867.428799</td>\n",
       "      <td>12716.168192</td>\n",
       "      <td>6532.6</td>\n",
       "      <td>5.392181</td>\n",
       "      <td>4698.272828</td>\n",
       "      <td>1227.332443</td>\n",
       "    </tr>\n",
       "    <tr>\n",
       "      <th>2016-01-07 21:00:00</th>\n",
       "      <td>18175.129829</td>\n",
       "      <td>429.57</td>\n",
       "      <td>11322.064893</td>\n",
       "      <td>12322.609978</td>\n",
       "      <td>6532.6</td>\n",
       "      <td>6.714265</td>\n",
       "      <td>4104.991308</td>\n",
       "      <td>1187.099549</td>\n",
       "    </tr>\n",
       "    <tr>\n",
       "      <th>2016-01-07 22:00:00</th>\n",
       "      <td>18196.192194</td>\n",
       "      <td>429.57</td>\n",
       "      <td>10811.352936</td>\n",
       "      <td>13142.499042</td>\n",
       "      <td>6532.6</td>\n",
       "      <td>6.910914</td>\n",
       "      <td>3047.603606</td>\n",
       "      <td>1285.767776</td>\n",
       "    </tr>\n",
       "    <tr>\n",
       "      <th>2016-01-07 23:00:00</th>\n",
       "      <td>18550.432297</td>\n",
       "      <td>429.57</td>\n",
       "      <td>10650.187208</td>\n",
       "      <td>12465.104121</td>\n",
       "      <td>6532.6</td>\n",
       "      <td>6.834028</td>\n",
       "      <td>3508.114850</td>\n",
       "      <td>1313.808450</td>\n",
       "    </tr>\n",
       "  </tbody>\n",
       "</table>\n",
       "<p>168 rows × 8 columns</p>\n",
       "</div>"
      ],
      "text/plain": [
       "carrier                      coal  geothermal         hydro            ng  \\\n",
       "snapshot                                                                    \n",
       "2016-01-01 00:00:00  18194.393753      429.57  10168.407604  12769.529749   \n",
       "2016-01-01 01:00:00  18798.532728      429.57  11390.009228  16502.149855   \n",
       "2016-01-01 02:00:00  18341.211655      429.57  12638.907305  19358.490856   \n",
       "2016-01-01 03:00:00  17872.789080      429.57  12950.751851  20653.692968   \n",
       "2016-01-01 04:00:00  18001.903915      429.57  12801.696573  20055.076764   \n",
       "...                           ...         ...           ...           ...   \n",
       "2016-01-07 19:00:00  18434.926487      429.57  12113.592316  12556.944754   \n",
       "2016-01-07 20:00:00  18383.572928      429.57  11867.428799  12716.168192   \n",
       "2016-01-07 21:00:00  18175.129829      429.57  11322.064893  12322.609978   \n",
       "2016-01-07 22:00:00  18196.192194      429.57  10811.352936  13142.499042   \n",
       "2016-01-07 23:00:00  18550.432297      429.57  10650.187208  12465.104121   \n",
       "\n",
       "carrier              nuclear   offwind        solar         wind  \n",
       "snapshot                                                          \n",
       "2016-01-01 00:00:00   6532.6  5.740301  1865.838875  2065.798121  \n",
       "2016-01-01 01:00:00   6532.6  6.216704     0.000000  2461.861551  \n",
       "2016-01-01 02:00:00   6532.6  6.737958     0.000000  2470.715908  \n",
       "2016-01-01 03:00:00   6532.6  6.949289     0.000000  2672.649175  \n",
       "2016-01-01 04:00:00   6532.6  7.008960     0.000000  2620.159839  \n",
       "...                      ...       ...          ...          ...  \n",
       "2016-01-07 19:00:00   6532.6  5.120867  4930.237038  1136.585458  \n",
       "2016-01-07 20:00:00   6532.6  5.392181  4698.272828  1227.332443  \n",
       "2016-01-07 21:00:00   6532.6  6.714265  4104.991308  1187.099549  \n",
       "2016-01-07 22:00:00   6532.6  6.910914  3047.603606  1285.767776  \n",
       "2016-01-07 23:00:00   6532.6  6.834028  3508.114850  1313.808450  \n",
       "\n",
       "[168 rows x 8 columns]"
      ]
     },
     "execution_count": 134,
     "metadata": {},
     "output_type": "execute_result"
    }
   ],
   "source": [
    "generation_ts.groupby(network.generators.carrier,axis=1).sum()"
   ]
  },
  {
   "cell_type": "code",
   "execution_count": 136,
   "metadata": {},
   "outputs": [
    {
     "data": {
      "text/plain": [
       "227267443.92402208"
      ]
     },
     "execution_count": 136,
     "metadata": {},
     "output_type": "execute_result"
    }
   ],
   "source": [
    "operation_costs = network.generators.marginal_cost * generation_ts\n",
    "operation_costs.sum(axis=1).sum()"
   ]
  },
  {
   "attachments": {},
   "cell_type": "markdown",
   "metadata": {},
   "source": [
    "## Adding Lines to System"
   ]
  },
  {
   "cell_type": "code",
   "execution_count": 137,
   "metadata": {},
   "outputs": [
    {
     "data": {
      "application/vnd.plotly.v1+json": {
       "config": {
        "linkText": "Export to plot.ly",
        "plotlyServerURL": "https://plot.ly",
        "showLink": false
       },
       "data": [
        {
         "lat": [
          47.73997599999999,
          46.54832408906883
         ],
         "line": {
          "color": "rosybrown",
          "width": 3
         },
         "lon": [
          -117.27475999999997,
          -121.33785425101213
         ],
         "mode": "lines",
         "opacity": 0.8,
         "type": "scattermapbox"
        },
        {
         "lat": [
          47.73997599999999,
          48.11697692307692
         ],
         "line": {
          "color": "rosybrown",
          "width": 3
         },
         "lon": [
          -117.27475999999997,
          -119.68223076923078
         ],
         "mode": "lines",
         "opacity": 0.8,
         "type": "scattermapbox"
        },
        {
         "lat": [
          47.73997599999999,
          43.467796842105265
         ],
         "line": {
          "color": "rosybrown",
          "width": 3
         },
         "lon": [
          -117.27475999999997,
          -115.62950526315785
         ],
         "mode": "lines",
         "opacity": 0.8,
         "type": "scattermapbox"
        },
        {
         "lat": [
          33.90586019417476,
          34.232233852691216
         ],
         "line": {
          "color": "rosybrown",
          "width": 3
         },
         "lon": [
          -111.97188349514562,
          -117.95440934844191
         ],
         "mode": "lines",
         "opacity": 0.8,
         "type": "scattermapbox"
        },
        {
         "lat": [
          33.90586019417476,
          33.16159347826086
         ],
         "line": {
          "color": "rosybrown",
          "width": 3
         },
         "lon": [
          -111.97188349514562,
          -115.7453695652174
         ],
         "mode": "lines",
         "opacity": 0.8,
         "type": "scattermapbox"
        },
        {
         "lat": [
          33.90586019417476,
          37.582955023923446
         ],
         "line": {
          "color": "rosybrown",
          "width": 3
         },
         "lon": [
          -111.97188349514562,
          -116.49732057416269
         ],
         "mode": "lines",
         "opacity": 0.8,
         "type": "scattermapbox"
        },
        {
         "lat": [
          33.90586019417476,
          40.78797987012987
         ],
         "line": {
          "color": "rosybrown",
          "width": 3
         },
         "lon": [
          -111.97188349514562,
          -111.51946753246753
         ],
         "mode": "lines",
         "opacity": 0.8,
         "type": "scattermapbox"
        },
        {
         "lat": [
          33.90586019417476,
          35.07218153846155
         ],
         "line": {
          "color": "rosybrown",
          "width": 3
         },
         "lon": [
          -111.97188349514562,
          -107.02026153846154
         ],
         "mode": "lines",
         "opacity": 0.8,
         "type": "scattermapbox"
        },
        {
         "lat": [
          33.90586019417476,
          32.07233734939759
         ],
         "line": {
          "color": "rosybrown",
          "width": 3
         },
         "lon": [
          -111.97188349514562,
          -110.81897590361444
         ],
         "mode": "lines",
         "opacity": 0.8,
         "type": "scattermapbox"
        },
        {
         "lat": [
          33.90586019417476,
          40.06136272781065
         ],
         "line": {
          "color": "rosybrown",
          "width": 3
         },
         "lon": [
          -111.97188349514562,
          -120.8623437218935
         ],
         "mode": "lines",
         "opacity": 0.8,
         "type": "scattermapbox"
        },
        {
         "lat": [
          33.90586019417476,
          34.340066666666665
         ],
         "line": {
          "color": "rosybrown",
          "width": 3
         },
         "lon": [
          -111.97188349514562,
          -114.48700000000001
         ],
         "mode": "lines",
         "opacity": 0.8,
         "type": "scattermapbox"
        },
        {
         "lat": [
          38.54117340425532,
          39.61319999999999
         ],
         "line": {
          "color": "rosybrown",
          "width": 3
         },
         "lon": [
          -121.36831914893618,
          -121.74061904761905
         ],
         "mode": "lines",
         "opacity": 0.8,
         "type": "scattermapbox"
        },
        {
         "lat": [
          38.54117340425532,
          38.16834545454546
         ],
         "line": {
          "color": "rosybrown",
          "width": 3
         },
         "lon": [
          -121.36831914893618,
          -120.57772727272726
         ],
         "mode": "lines",
         "opacity": 0.8,
         "type": "scattermapbox"
        },
        {
         "lat": [
          38.54117340425532,
          37.93031707317073
         ],
         "line": {
          "color": "rosybrown",
          "width": 3
         },
         "lon": [
          -121.36831914893618,
          -121.41317073170731
         ],
         "mode": "lines",
         "opacity": 0.8,
         "type": "scattermapbox"
        },
        {
         "lat": [
          38.54117340425532,
          39.4826125
         ],
         "line": {
          "color": "rosybrown",
          "width": 3
         },
         "lon": [
          -121.36831914893618,
          -123.370125
         ],
         "mode": "lines",
         "opacity": 0.8,
         "type": "scattermapbox"
        },
        {
         "lat": [
          38.54117340425532,
          38.007
         ],
         "line": {
          "color": "rosybrown",
          "width": 3
         },
         "lon": [
          -121.36831914893618,
          -119.98500000000001
         ],
         "mode": "lines",
         "opacity": 0.8,
         "type": "scattermapbox"
        },
        {
         "lat": [
          38.54117340425532,
          38.84116176470587
         ],
         "line": {
          "color": "rosybrown",
          "width": 3
         },
         "lon": [
          -121.36831914893618,
          -121.60476470588235
         ],
         "mode": "lines",
         "opacity": 0.8,
         "type": "scattermapbox"
        },
        {
         "lat": [
          38.54117340425532,
          37.39108181818181
         ],
         "line": {
          "color": "rosybrown",
          "width": 3
         },
         "lon": [
          -121.36831914893618,
          -120.35927272727272
         ],
         "mode": "lines",
         "opacity": 0.8,
         "type": "scattermapbox"
        },
        {
         "lat": [
          38.54117340425532,
          38.82585
         ],
         "line": {
          "color": "rosybrown",
          "width": 3
         },
         "lon": [
          -121.36831914893618,
          -120.96787499999999
         ],
         "mode": "lines",
         "opacity": 0.8,
         "type": "scattermapbox"
        },
        {
         "lat": [
          38.54117340425532,
          40.43733888888889
         ],
         "line": {
          "color": "rosybrown",
          "width": 3
         },
         "lon": [
          -121.36831914893618,
          -122.35572222222224
         ],
         "mode": "lines",
         "opacity": 0.8,
         "type": "scattermapbox"
        },
        {
         "lat": [
          38.54117340425532,
          37.50101578947368
         ],
         "line": {
          "color": "rosybrown",
          "width": 3
         },
         "lon": [
          -121.36831914893618,
          -120.88726315789475
         ],
         "mode": "lines",
         "opacity": 0.8,
         "type": "scattermapbox"
        },
        {
         "lat": [
          38.54117340425532,
          40.06136272781065
         ],
         "line": {
          "color": "rosybrown",
          "width": 3
         },
         "lon": [
          -121.36831914893618,
          -120.8623437218935
         ],
         "mode": "lines",
         "opacity": 0.8,
         "type": "scattermapbox"
        },
        {
         "lat": [
          46.54832408906883,
          47.70271111111111
         ],
         "line": {
          "color": "rosybrown",
          "width": 3
         },
         "lon": [
          -121.33785425101213,
          -120.28122222222221
         ],
         "mode": "lines",
         "opacity": 0.8,
         "type": "scattermapbox"
        },
        {
         "lat": [
          46.54832408906883,
          48.11697692307692
         ],
         "line": {
          "color": "rosybrown",
          "width": 3
         },
         "lon": [
          -121.33785425101213,
          -119.68223076923078
         ],
         "mode": "lines",
         "opacity": 0.8,
         "type": "scattermapbox"
        },
        {
         "lat": [
          46.54832408906883,
          47.153645454545455
         ],
         "line": {
          "color": "rosybrown",
          "width": 3
         },
         "lon": [
          -121.33785425101213,
          -119.4911818181818
         ],
         "mode": "lines",
         "opacity": 0.8,
         "type": "scattermapbox"
        },
        {
         "lat": [
          46.54832408906883,
          45.744899999999994
         ],
         "line": {
          "color": "rosybrown",
          "width": 3
         },
         "lon": [
          -121.33785425101213,
          -119.66257142857141
         ],
         "mode": "lines",
         "opacity": 0.8,
         "type": "scattermapbox"
        },
        {
         "lat": [
          46.54832408906883,
          43.467796842105265
         ],
         "line": {
          "color": "rosybrown",
          "width": 3
         },
         "lon": [
          -121.33785425101213,
          -115.62950526315785
         ],
         "mode": "lines",
         "opacity": 0.8,
         "type": "scattermapbox"
        },
        {
         "lat": [
          46.54832408906883,
          46.62420740740741
         ],
         "line": {
          "color": "rosybrown",
          "width": 3
         },
         "lon": [
          -121.33785425101213,
          -111.14702777777777
         ],
         "mode": "lines",
         "opacity": 0.8,
         "type": "scattermapbox"
        },
        {
         "lat": [
          46.54832408906883,
          42.50423285714286
         ],
         "line": {
          "color": "rosybrown",
          "width": 3
         },
         "lon": [
          -121.33785425101213,
          -122.86985714285713
         ],
         "mode": "lines",
         "opacity": 0.8,
         "type": "scattermapbox"
        },
        {
         "lat": [
          46.54832408906883,
          45.351126771653554
         ],
         "line": {
          "color": "rosybrown",
          "width": 3
         },
         "lon": [
          -121.33785425101213,
          -122.7368346456693
         ],
         "mode": "lines",
         "opacity": 0.8,
         "type": "scattermapbox"
        },
        {
         "lat": [
          46.54832408906883,
          48.67661785714285
         ],
         "line": {
          "color": "rosybrown",
          "width": 3
         },
         "lon": [
          -121.33785425101213,
          -122.24942857142857
         ],
         "mode": "lines",
         "opacity": 0.8,
         "type": "scattermapbox"
        },
        {
         "lat": [
          46.54832408906883,
          40.06136272781065
         ],
         "line": {
          "color": "rosybrown",
          "width": 3
         },
         "lon": [
          -121.33785425101213,
          -120.8623437218935
         ],
         "mode": "lines",
         "opacity": 0.8,
         "type": "scattermapbox"
        },
        {
         "lat": [
          47.70271111111111,
          48.11697692307692
         ],
         "line": {
          "color": "rosybrown",
          "width": 3
         },
         "lon": [
          -120.28122222222221,
          -119.68223076923078
         ],
         "mode": "lines",
         "opacity": 0.8,
         "type": "scattermapbox"
        },
        {
         "lat": [
          36.9491,
          36.75341481481481
         ],
         "line": {
          "color": "rosybrown",
          "width": 3
         },
         "lon": [
          -120.76163636363636,
          -121.61470370370371
         ],
         "mode": "lines",
         "opacity": 0.8,
         "type": "scattermapbox"
        },
        {
         "lat": [
          36.9491,
          35.6387
         ],
         "line": {
          "color": "rosybrown",
          "width": 3
         },
         "lon": [
          -120.76163636363636,
          -120.79442105263158
         ],
         "mode": "lines",
         "opacity": 0.8,
         "type": "scattermapbox"
        },
        {
         "lat": [
          36.9491,
          35.31497999999999
         ],
         "line": {
          "color": "rosybrown",
          "width": 3
         },
         "lon": [
          -120.76163636363636,
          -119.61646666666665
         ],
         "mode": "lines",
         "opacity": 0.8,
         "type": "scattermapbox"
        },
        {
         "lat": [
          36.9491,
          37.30336565656565
         ],
         "line": {
          "color": "rosybrown",
          "width": 3
         },
         "lon": [
          -120.76163636363636,
          -121.93269696969696
         ],
         "mode": "lines",
         "opacity": 0.8,
         "type": "scattermapbox"
        },
        {
         "lat": [
          36.9491,
          36.778397435897425
         ],
         "line": {
          "color": "rosybrown",
          "width": 3
         },
         "lon": [
          -120.76163636363636,
          -119.86676923076924
         ],
         "mode": "lines",
         "opacity": 0.8,
         "type": "scattermapbox"
        },
        {
         "lat": [
          36.9491,
          37.50101578947368
         ],
         "line": {
          "color": "rosybrown",
          "width": 3
         },
         "lon": [
          -120.76163636363636,
          -120.88726315789475
         ],
         "mode": "lines",
         "opacity": 0.8,
         "type": "scattermapbox"
        },
        {
         "lat": [
          39.61319999999999,
          40.87992857142857
         ],
         "line": {
          "color": "rosybrown",
          "width": 3
         },
         "lon": [
          -121.74061904761905,
          -121.79014285714287
         ],
         "mode": "lines",
         "opacity": 0.8,
         "type": "scattermapbox"
        },
        {
         "lat": [
          39.61319999999999,
          38.563939999999995
         ],
         "line": {
          "color": "rosybrown",
          "width": 3
         },
         "lon": [
          -121.74061904761905,
          -122.71165
         ],
         "mode": "lines",
         "opacity": 0.8,
         "type": "scattermapbox"
        },
        {
         "lat": [
          39.61319999999999,
          39.26809166666667
         ],
         "line": {
          "color": "rosybrown",
          "width": 3
         },
         "lon": [
          -121.74061904761905,
          -121.03616666666669
         ],
         "mode": "lines",
         "opacity": 0.8,
         "type": "scattermapbox"
        },
        {
         "lat": [
          39.61319999999999,
          40.02655
         ],
         "line": {
          "color": "rosybrown",
          "width": 3
         },
         "lon": [
          -121.74061904761905,
          -121.16090000000001
         ],
         "mode": "lines",
         "opacity": 0.8,
         "type": "scattermapbox"
        },
        {
         "lat": [
          39.61319999999999,
          38.84116176470587
         ],
         "line": {
          "color": "rosybrown",
          "width": 3
         },
         "lon": [
          -121.74061904761905,
          -121.60476470588235
         ],
         "mode": "lines",
         "opacity": 0.8,
         "type": "scattermapbox"
        },
        {
         "lat": [
          39.61319999999999,
          38.82585
         ],
         "line": {
          "color": "rosybrown",
          "width": 3
         },
         "lon": [
          -121.74061904761905,
          -120.96787499999999
         ],
         "mode": "lines",
         "opacity": 0.8,
         "type": "scattermapbox"
        },
        {
         "lat": [
          39.61319999999999,
          40.43733888888889
         ],
         "line": {
          "color": "rosybrown",
          "width": 3
         },
         "lon": [
          -121.74061904761905,
          -122.35572222222224
         ],
         "mode": "lines",
         "opacity": 0.8,
         "type": "scattermapbox"
        },
        {
         "lat": [
          39.61319999999999,
          38.1160196969697
         ],
         "line": {
          "color": "rosybrown",
          "width": 3
         },
         "lon": [
          -121.74061904761905,
          -121.99057575757575
         ],
         "mode": "lines",
         "opacity": 0.8,
         "type": "scattermapbox"
        },
        {
         "lat": [
          39.61319999999999,
          37.582955023923446
         ],
         "line": {
          "color": "rosybrown",
          "width": 3
         },
         "lon": [
          -121.74061904761905,
          -116.49732057416269
         ],
         "mode": "lines",
         "opacity": 0.8,
         "type": "scattermapbox"
        },
        {
         "lat": [
          39.61319999999999,
          42.50423285714286
         ],
         "line": {
          "color": "rosybrown",
          "width": 3
         },
         "lon": [
          -121.74061904761905,
          -122.86985714285713
         ],
         "mode": "lines",
         "opacity": 0.8,
         "type": "scattermapbox"
        },
        {
         "lat": [
          38.16834545454546,
          37.93031707317073
         ],
         "line": {
          "color": "rosybrown",
          "width": 3
         },
         "lon": [
          -120.57772727272726,
          -121.41317073170731
         ],
         "mode": "lines",
         "opacity": 0.8,
         "type": "scattermapbox"
        },
        {
         "lat": [
          38.16834545454546,
          38.007
         ],
         "line": {
          "color": "rosybrown",
          "width": 3
         },
         "lon": [
          -120.57772727272726,
          -119.98500000000001
         ],
         "mode": "lines",
         "opacity": 0.8,
         "type": "scattermapbox"
        },
        {
         "lat": [
          38.16834545454546,
          38.859
         ],
         "line": {
          "color": "rosybrown",
          "width": 3
         },
         "lon": [
          -120.57772727272726,
          -120.28584615384617
         ],
         "mode": "lines",
         "opacity": 0.8,
         "type": "scattermapbox"
        },
        {
         "lat": [
          38.16834545454546,
          37.39108181818181
         ],
         "line": {
          "color": "rosybrown",
          "width": 3
         },
         "lon": [
          -120.57772727272726,
          -120.35927272727272
         ],
         "mode": "lines",
         "opacity": 0.8,
         "type": "scattermapbox"
        },
        {
         "lat": [
          38.16834545454546,
          38.82585
         ],
         "line": {
          "color": "rosybrown",
          "width": 3
         },
         "lon": [
          -120.57772727272726,
          -120.96787499999999
         ],
         "mode": "lines",
         "opacity": 0.8,
         "type": "scattermapbox"
        },
        {
         "lat": [
          38.16834545454546,
          37.50101578947368
         ],
         "line": {
          "color": "rosybrown",
          "width": 3
         },
         "lon": [
          -120.57772727272726,
          -120.88726315789475
         ],
         "mode": "lines",
         "opacity": 0.8,
         "type": "scattermapbox"
        },
        {
         "lat": [
          37.93031707317073,
          37.66708529411765
         ],
         "line": {
          "color": "rosybrown",
          "width": 3
         },
         "lon": [
          -121.41317073170731,
          -122.08832352941175
         ],
         "mode": "lines",
         "opacity": 0.8,
         "type": "scattermapbox"
        },
        {
         "lat": [
          37.93031707317073,
          37.30336565656565
         ],
         "line": {
          "color": "rosybrown",
          "width": 3
         },
         "lon": [
          -121.41317073170731,
          -121.93269696969696
         ],
         "mode": "lines",
         "opacity": 0.8,
         "type": "scattermapbox"
        },
        {
         "lat": [
          37.93031707317073,
          38.1160196969697
         ],
         "line": {
          "color": "rosybrown",
          "width": 3
         },
         "lon": [
          -121.41317073170731,
          -121.99057575757575
         ],
         "mode": "lines",
         "opacity": 0.8,
         "type": "scattermapbox"
        },
        {
         "lat": [
          37.93031707317073,
          37.50101578947368
         ],
         "line": {
          "color": "rosybrown",
          "width": 3
         },
         "lon": [
          -121.41317073170731,
          -120.88726315789475
         ],
         "mode": "lines",
         "opacity": 0.8,
         "type": "scattermapbox"
        },
        {
         "lat": [
          37.93031707317073,
          40.06136272781065
         ],
         "line": {
          "color": "rosybrown",
          "width": 3
         },
         "lon": [
          -121.41317073170731,
          -120.8623437218935
         ],
         "mode": "lines",
         "opacity": 0.8,
         "type": "scattermapbox"
        },
        {
         "lat": [
          40.87992857142857,
          40.02655
         ],
         "line": {
          "color": "rosybrown",
          "width": 3
         },
         "lon": [
          -121.79014285714287,
          -121.16090000000001
         ],
         "mode": "lines",
         "opacity": 0.8,
         "type": "scattermapbox"
        },
        {
         "lat": [
          40.87992857142857,
          40.205079999999995
         ],
         "line": {
          "color": "rosybrown",
          "width": 3
         },
         "lon": [
          -121.79014285714287,
          -120.3672
         ],
         "mode": "lines",
         "opacity": 0.8,
         "type": "scattermapbox"
        },
        {
         "lat": [
          40.87992857142857,
          40.43733888888889
         ],
         "line": {
          "color": "rosybrown",
          "width": 3
         },
         "lon": [
          -121.79014285714287,
          -122.35572222222224
         ],
         "mode": "lines",
         "opacity": 0.8,
         "type": "scattermapbox"
        },
        {
         "lat": [
          40.87992857142857,
          42.50423285714286
         ],
         "line": {
          "color": "rosybrown",
          "width": 3
         },
         "lon": [
          -121.79014285714287,
          -122.86985714285713
         ],
         "mode": "lines",
         "opacity": 0.8,
         "type": "scattermapbox"
        },
        {
         "lat": [
          40.82785,
          39.4826125
         ],
         "line": {
          "color": "rosybrown",
          "width": 3
         },
         "lon": [
          -124.092375,
          -123.370125
         ],
         "mode": "lines",
         "opacity": 0.8,
         "type": "scattermapbox"
        },
        {
         "lat": [
          40.82785,
          40.43733888888889
         ],
         "line": {
          "color": "rosybrown",
          "width": 3
         },
         "lon": [
          -124.092375,
          -122.35572222222224
         ],
         "mode": "lines",
         "opacity": 0.8,
         "type": "scattermapbox"
        },
        {
         "lat": [
          40.82785,
          40.837543
         ],
         "line": {
          "color": "rosybrown",
          "width": 3
         },
         "lon": [
          -124.092375,
          -124.511234
         ],
         "mode": "lines",
         "opacity": 0.8,
         "type": "scattermapbox"
        },
        {
         "lat": [
          40.82785,
          42.50423285714286
         ],
         "line": {
          "color": "rosybrown",
          "width": 3
         },
         "lon": [
          -124.092375,
          -122.86985714285713
         ],
         "mode": "lines",
         "opacity": 0.8,
         "type": "scattermapbox"
        },
        {
         "lat": [
          40.82785,
          40.06136272781065
         ],
         "line": {
          "color": "rosybrown",
          "width": 3
         },
         "lon": [
          -124.092375,
          -120.8623437218935
         ],
         "mode": "lines",
         "opacity": 0.8,
         "type": "scattermapbox"
        },
        {
         "lat": [
          39.4826125,
          38.563939999999995
         ],
         "line": {
          "color": "rosybrown",
          "width": 3
         },
         "lon": [
          -123.370125,
          -122.71165
         ],
         "mode": "lines",
         "opacity": 0.8,
         "type": "scattermapbox"
        },
        {
         "lat": [
          39.4826125,
          40.06136272781065
         ],
         "line": {
          "color": "rosybrown",
          "width": 3
         },
         "lon": [
          -123.370125,
          -120.8623437218935
         ],
         "mode": "lines",
         "opacity": 0.8,
         "type": "scattermapbox"
        },
        {
         "lat": [
          38.563939999999995,
          37.84046764705882
         ],
         "line": {
          "color": "rosybrown",
          "width": 3
         },
         "lon": [
          -122.71165,
          -122.39823529411764
         ],
         "mode": "lines",
         "opacity": 0.8,
         "type": "scattermapbox"
        },
        {
         "lat": [
          38.563939999999995,
          38.84116176470587
         ],
         "line": {
          "color": "rosybrown",
          "width": 3
         },
         "lon": [
          -122.71165,
          -121.60476470588235
         ],
         "mode": "lines",
         "opacity": 0.8,
         "type": "scattermapbox"
        },
        {
         "lat": [
          38.563939999999995,
          40.43733888888889
         ],
         "line": {
          "color": "rosybrown",
          "width": 3
         },
         "lon": [
          -122.71165,
          -122.35572222222224
         ],
         "mode": "lines",
         "opacity": 0.8,
         "type": "scattermapbox"
        },
        {
         "lat": [
          38.563939999999995,
          38.1160196969697
         ],
         "line": {
          "color": "rosybrown",
          "width": 3
         },
         "lon": [
          -122.71165,
          -121.99057575757575
         ],
         "mode": "lines",
         "opacity": 0.8,
         "type": "scattermapbox"
        },
        {
         "lat": [
          38.563939999999995,
          40.06136272781065
         ],
         "line": {
          "color": "rosybrown",
          "width": 3
         },
         "lon": [
          -122.71165,
          -120.8623437218935
         ],
         "mode": "lines",
         "opacity": 0.8,
         "type": "scattermapbox"
        },
        {
         "lat": [
          37.84046764705882,
          38.84116176470587
         ],
         "line": {
          "color": "rosybrown",
          "width": 3
         },
         "lon": [
          -122.39823529411764,
          -121.60476470588235
         ],
         "mode": "lines",
         "opacity": 0.8,
         "type": "scattermapbox"
        },
        {
         "lat": [
          37.84046764705882,
          37.66708529411765
         ],
         "line": {
          "color": "rosybrown",
          "width": 3
         },
         "lon": [
          -122.39823529411764,
          -122.08832352941175
         ],
         "mode": "lines",
         "opacity": 0.8,
         "type": "scattermapbox"
        },
        {
         "lat": [
          37.84046764705882,
          38.1160196969697
         ],
         "line": {
          "color": "rosybrown",
          "width": 3
         },
         "lon": [
          -122.39823529411764,
          -121.99057575757575
         ],
         "mode": "lines",
         "opacity": 0.8,
         "type": "scattermapbox"
        },
        {
         "lat": [
          37.84046764705882,
          40.06136272781065
         ],
         "line": {
          "color": "rosybrown",
          "width": 3
         },
         "lon": [
          -122.39823529411764,
          -120.8623437218935
         ],
         "mode": "lines",
         "opacity": 0.8,
         "type": "scattermapbox"
        },
        {
         "lat": [
          36.75341481481481,
          35.6387
         ],
         "line": {
          "color": "rosybrown",
          "width": 3
         },
         "lon": [
          -121.61470370370371,
          -120.79442105263158
         ],
         "mode": "lines",
         "opacity": 0.8,
         "type": "scattermapbox"
        },
        {
         "lat": [
          36.75341481481481,
          37.30336565656565
         ],
         "line": {
          "color": "rosybrown",
          "width": 3
         },
         "lon": [
          -121.61470370370371,
          -121.93269696969696
         ],
         "mode": "lines",
         "opacity": 0.8,
         "type": "scattermapbox"
        },
        {
         "lat": [
          36.75341481481481,
          40.06136272781065
         ],
         "line": {
          "color": "rosybrown",
          "width": 3
         },
         "lon": [
          -121.61470370370371,
          -120.8623437218935
         ],
         "mode": "lines",
         "opacity": 0.8,
         "type": "scattermapbox"
        },
        {
         "lat": [
          39.26809166666667,
          40.02655
         ],
         "line": {
          "color": "rosybrown",
          "width": 3
         },
         "lon": [
          -121.03616666666669,
          -121.16090000000001
         ],
         "mode": "lines",
         "opacity": 0.8,
         "type": "scattermapbox"
        },
        {
         "lat": [
          39.26809166666667,
          38.84116176470587
         ],
         "line": {
          "color": "rosybrown",
          "width": 3
         },
         "lon": [
          -121.03616666666669,
          -121.60476470588235
         ],
         "mode": "lines",
         "opacity": 0.8,
         "type": "scattermapbox"
        },
        {
         "lat": [
          39.26809166666667,
          38.859
         ],
         "line": {
          "color": "rosybrown",
          "width": 3
         },
         "lon": [
          -121.03616666666669,
          -120.28584615384617
         ],
         "mode": "lines",
         "opacity": 0.8,
         "type": "scattermapbox"
        },
        {
         "lat": [
          39.26809166666667,
          38.82585
         ],
         "line": {
          "color": "rosybrown",
          "width": 3
         },
         "lon": [
          -121.03616666666669,
          -120.96787499999999
         ],
         "mode": "lines",
         "opacity": 0.8,
         "type": "scattermapbox"
        },
        {
         "lat": [
          38.007,
          37.01856363636364
         ],
         "line": {
          "color": "rosybrown",
          "width": 3
         },
         "lon": [
          -119.98500000000001,
          -119.5139090909091
         ],
         "mode": "lines",
         "opacity": 0.8,
         "type": "scattermapbox"
        },
        {
         "lat": [
          38.007,
          37.39108181818181
         ],
         "line": {
          "color": "rosybrown",
          "width": 3
         },
         "lon": [
          -119.98500000000001,
          -120.35927272727272
         ],
         "mode": "lines",
         "opacity": 0.8,
         "type": "scattermapbox"
        },
        {
         "lat": [
          37.01856363636364,
          36.2242705882353
         ],
         "line": {
          "color": "rosybrown",
          "width": 3
         },
         "lon": [
          -119.5139090909091,
          -119.77147058823529
         ],
         "mode": "lines",
         "opacity": 0.8,
         "type": "scattermapbox"
        },
        {
         "lat": [
          37.01856363636364,
          36.787957142857145
         ],
         "line": {
          "color": "rosybrown",
          "width": 3
         },
         "lon": [
          -119.5139090909091,
          -119.10542857142856
         ],
         "mode": "lines",
         "opacity": 0.8,
         "type": "scattermapbox"
        },
        {
         "lat": [
          37.01856363636364,
          38.859
         ],
         "line": {
          "color": "rosybrown",
          "width": 3
         },
         "lon": [
          -119.5139090909091,
          -120.28584615384617
         ],
         "mode": "lines",
         "opacity": 0.8,
         "type": "scattermapbox"
        },
        {
         "lat": [
          37.01856363636364,
          37.39108181818181
         ],
         "line": {
          "color": "rosybrown",
          "width": 3
         },
         "lon": [
          -119.5139090909091,
          -120.35927272727272
         ],
         "mode": "lines",
         "opacity": 0.8,
         "type": "scattermapbox"
        },
        {
         "lat": [
          37.01856363636364,
          36.778397435897425
         ],
         "line": {
          "color": "rosybrown",
          "width": 3
         },
         "lon": [
          -119.5139090909091,
          -119.86676923076924
         ],
         "mode": "lines",
         "opacity": 0.8,
         "type": "scattermapbox"
        },
        {
         "lat": [
          37.01856363636364,
          34.232233852691216
         ],
         "line": {
          "color": "rosybrown",
          "width": 3
         },
         "lon": [
          -119.5139090909091,
          -117.95440934844191
         ],
         "mode": "lines",
         "opacity": 0.8,
         "type": "scattermapbox"
        },
        {
         "lat": [
          36.2242705882353,
          36.787957142857145
         ],
         "line": {
          "color": "rosybrown",
          "width": 3
         },
         "lon": [
          -119.77147058823529,
          -119.10542857142856
         ],
         "mode": "lines",
         "opacity": 0.8,
         "type": "scattermapbox"
        },
        {
         "lat": [
          36.2242705882353,
          35.6387
         ],
         "line": {
          "color": "rosybrown",
          "width": 3
         },
         "lon": [
          -119.77147058823529,
          -120.79442105263158
         ],
         "mode": "lines",
         "opacity": 0.8,
         "type": "scattermapbox"
        },
        {
         "lat": [
          36.2242705882353,
          35.31497999999999
         ],
         "line": {
          "color": "rosybrown",
          "width": 3
         },
         "lon": [
          -119.77147058823529,
          -119.61646666666665
         ],
         "mode": "lines",
         "opacity": 0.8,
         "type": "scattermapbox"
        },
        {
         "lat": [
          36.2242705882353,
          34.8279125
         ],
         "line": {
          "color": "rosybrown",
          "width": 3
         },
         "lon": [
          -119.77147058823529,
          -120.34468749999999
         ],
         "mode": "lines",
         "opacity": 0.8,
         "type": "scattermapbox"
        },
        {
         "lat": [
          36.2242705882353,
          36.778397435897425
         ],
         "line": {
          "color": "rosybrown",
          "width": 3
         },
         "lon": [
          -119.77147058823529,
          -119.86676923076924
         ],
         "mode": "lines",
         "opacity": 0.8,
         "type": "scattermapbox"
        },
        {
         "lat": [
          36.2242705882353,
          34.232233852691216
         ],
         "line": {
          "color": "rosybrown",
          "width": 3
         },
         "lon": [
          -119.77147058823529,
          -117.95440934844191
         ],
         "mode": "lines",
         "opacity": 0.8,
         "type": "scattermapbox"
        },
        {
         "lat": [
          36.787957142857145,
          34.232233852691216
         ],
         "line": {
          "color": "rosybrown",
          "width": 3
         },
         "lon": [
          -119.10542857142856,
          -117.95440934844191
         ],
         "mode": "lines",
         "opacity": 0.8,
         "type": "scattermapbox"
        },
        {
         "lat": [
          36.787957142857145,
          37.582955023923446
         ],
         "line": {
          "color": "rosybrown",
          "width": 3
         },
         "lon": [
          -119.10542857142856,
          -116.49732057416269
         ],
         "mode": "lines",
         "opacity": 0.8,
         "type": "scattermapbox"
        },
        {
         "lat": [
          40.02655,
          38.84116176470587
         ],
         "line": {
          "color": "rosybrown",
          "width": 3
         },
         "lon": [
          -121.16090000000001,
          -121.60476470588235
         ],
         "mode": "lines",
         "opacity": 0.8,
         "type": "scattermapbox"
        },
        {
         "lat": [
          40.02655,
          40.205079999999995
         ],
         "line": {
          "color": "rosybrown",
          "width": 3
         },
         "lon": [
          -121.16090000000001,
          -120.3672
         ],
         "mode": "lines",
         "opacity": 0.8,
         "type": "scattermapbox"
        },
        {
         "lat": [
          40.02655,
          40.43733888888889
         ],
         "line": {
          "color": "rosybrown",
          "width": 3
         },
         "lon": [
          -121.16090000000001,
          -122.35572222222224
         ],
         "mode": "lines",
         "opacity": 0.8,
         "type": "scattermapbox"
        },
        {
         "lat": [
          40.02655,
          37.582955023923446
         ],
         "line": {
          "color": "rosybrown",
          "width": 3
         },
         "lon": [
          -121.16090000000001,
          -116.49732057416269
         ],
         "mode": "lines",
         "opacity": 0.8,
         "type": "scattermapbox"
        },
        {
         "lat": [
          38.84116176470587,
          38.82585
         ],
         "line": {
          "color": "rosybrown",
          "width": 3
         },
         "lon": [
          -121.60476470588235,
          -120.96787499999999
         ],
         "mode": "lines",
         "opacity": 0.8,
         "type": "scattermapbox"
        },
        {
         "lat": [
          38.84116176470587,
          40.43733888888889
         ],
         "line": {
          "color": "rosybrown",
          "width": 3
         },
         "lon": [
          -121.60476470588235,
          -122.35572222222224
         ],
         "mode": "lines",
         "opacity": 0.8,
         "type": "scattermapbox"
        },
        {
         "lat": [
          38.84116176470587,
          38.1160196969697
         ],
         "line": {
          "color": "rosybrown",
          "width": 3
         },
         "lon": [
          -121.60476470588235,
          -121.99057575757575
         ],
         "mode": "lines",
         "opacity": 0.8,
         "type": "scattermapbox"
        },
        {
         "lat": [
          40.205079999999995,
          37.582955023923446
         ],
         "line": {
          "color": "rosybrown",
          "width": 3
         },
         "lon": [
          -120.3672,
          -116.49732057416269
         ],
         "mode": "lines",
         "opacity": 0.8,
         "type": "scattermapbox"
        },
        {
         "lat": [
          38.859,
          38.82585
         ],
         "line": {
          "color": "rosybrown",
          "width": 3
         },
         "lon": [
          -120.28584615384617,
          -120.96787499999999
         ],
         "mode": "lines",
         "opacity": 0.8,
         "type": "scattermapbox"
        },
        {
         "lat": [
          38.859,
          37.582955023923446
         ],
         "line": {
          "color": "rosybrown",
          "width": 3
         },
         "lon": [
          -120.28584615384617,
          -116.49732057416269
         ],
         "mode": "lines",
         "opacity": 0.8,
         "type": "scattermapbox"
        },
        {
         "lat": [
          35.6387,
          34.8279125
         ],
         "line": {
          "color": "rosybrown",
          "width": 3
         },
         "lon": [
          -120.79442105263158,
          -120.34468749999999
         ],
         "mode": "lines",
         "opacity": 0.8,
         "type": "scattermapbox"
        },
        {
         "lat": [
          35.6387,
          40.06136272781065
         ],
         "line": {
          "color": "rosybrown",
          "width": 3
         },
         "lon": [
          -120.79442105263158,
          -120.8623437218935
         ],
         "mode": "lines",
         "opacity": 0.8,
         "type": "scattermapbox"
        },
        {
         "lat": [
          35.31497999999999,
          34.8279125
         ],
         "line": {
          "color": "rosybrown",
          "width": 3
         },
         "lon": [
          -119.61646666666665,
          -120.34468749999999
         ],
         "mode": "lines",
         "opacity": 0.8,
         "type": "scattermapbox"
        },
        {
         "lat": [
          35.31497999999999,
          35.337139393939395
         ],
         "line": {
          "color": "rosybrown",
          "width": 3
         },
         "lon": [
          -119.61646666666665,
          -119.00824242424244
         ],
         "mode": "lines",
         "opacity": 0.8,
         "type": "scattermapbox"
        },
        {
         "lat": [
          35.31497999999999,
          34.232233852691216
         ],
         "line": {
          "color": "rosybrown",
          "width": 3
         },
         "lon": [
          -119.61646666666665,
          -117.95440934844191
         ],
         "mode": "lines",
         "opacity": 0.8,
         "type": "scattermapbox"
        },
        {
         "lat": [
          35.31497999999999,
          40.06136272781065
         ],
         "line": {
          "color": "rosybrown",
          "width": 3
         },
         "lon": [
          -119.61646666666665,
          -120.8623437218935
         ],
         "mode": "lines",
         "opacity": 0.8,
         "type": "scattermapbox"
        },
        {
         "lat": [
          37.66708529411765,
          37.30336565656565
         ],
         "line": {
          "color": "rosybrown",
          "width": 3
         },
         "lon": [
          -122.08832352941175,
          -121.93269696969696
         ],
         "mode": "lines",
         "opacity": 0.8,
         "type": "scattermapbox"
        },
        {
         "lat": [
          37.66708529411765,
          38.1160196969697
         ],
         "line": {
          "color": "rosybrown",
          "width": 3
         },
         "lon": [
          -122.08832352941175,
          -121.99057575757575
         ],
         "mode": "lines",
         "opacity": 0.8,
         "type": "scattermapbox"
        },
        {
         "lat": [
          37.66708529411765,
          40.06136272781065
         ],
         "line": {
          "color": "rosybrown",
          "width": 3
         },
         "lon": [
          -122.08832352941175,
          -120.8623437218935
         ],
         "mode": "lines",
         "opacity": 0.8,
         "type": "scattermapbox"
        },
        {
         "lat": [
          37.39108181818181,
          36.778397435897425
         ],
         "line": {
          "color": "rosybrown",
          "width": 3
         },
         "lon": [
          -120.35927272727272,
          -119.86676923076924
         ],
         "mode": "lines",
         "opacity": 0.8,
         "type": "scattermapbox"
        },
        {
         "lat": [
          37.39108181818181,
          37.50101578947368
         ],
         "line": {
          "color": "rosybrown",
          "width": 3
         },
         "lon": [
          -120.35927272727272,
          -120.88726315789475
         ],
         "mode": "lines",
         "opacity": 0.8,
         "type": "scattermapbox"
        },
        {
         "lat": [
          37.30336565656565,
          37.50101578947368
         ],
         "line": {
          "color": "rosybrown",
          "width": 3
         },
         "lon": [
          -121.93269696969696,
          -120.88726315789475
         ],
         "mode": "lines",
         "opacity": 0.8,
         "type": "scattermapbox"
        },
        {
         "lat": [
          37.30336565656565,
          40.06136272781065
         ],
         "line": {
          "color": "rosybrown",
          "width": 3
         },
         "lon": [
          -121.93269696969696,
          -120.8623437218935
         ],
         "mode": "lines",
         "opacity": 0.8,
         "type": "scattermapbox"
        },
        {
         "lat": [
          40.43733888888889,
          42.50423285714286
         ],
         "line": {
          "color": "rosybrown",
          "width": 3
         },
         "lon": [
          -122.35572222222224,
          -122.86985714285713
         ],
         "mode": "lines",
         "opacity": 0.8,
         "type": "scattermapbox"
        },
        {
         "lat": [
          34.8279125,
          34.232233852691216
         ],
         "line": {
          "color": "rosybrown",
          "width": 3
         },
         "lon": [
          -120.34468749999999,
          -117.95440934844191
         ],
         "mode": "lines",
         "opacity": 0.8,
         "type": "scattermapbox"
        },
        {
         "lat": [
          34.8279125,
          40.06136272781065
         ],
         "line": {
          "color": "rosybrown",
          "width": 3
         },
         "lon": [
          -120.34468749999999,
          -120.8623437218935
         ],
         "mode": "lines",
         "opacity": 0.8,
         "type": "scattermapbox"
        },
        {
         "lat": [
          35.337139393939395,
          34.232233852691216
         ],
         "line": {
          "color": "rosybrown",
          "width": 3
         },
         "lon": [
          -119.00824242424244,
          -117.95440934844191
         ],
         "mode": "lines",
         "opacity": 0.8,
         "type": "scattermapbox"
        },
        {
         "lat": [
          38.1160196969697,
          40.06136272781065
         ],
         "line": {
          "color": "rosybrown",
          "width": 3
         },
         "lon": [
          -121.99057575757575,
          -120.8623437218935
         ],
         "mode": "lines",
         "opacity": 0.8,
         "type": "scattermapbox"
        },
        {
         "lat": [
          36.778397435897425,
          34.232233852691216
         ],
         "line": {
          "color": "rosybrown",
          "width": 3
         },
         "lon": [
          -119.86676923076924,
          -117.95440934844191
         ],
         "mode": "lines",
         "opacity": 0.8,
         "type": "scattermapbox"
        },
        {
         "lat": [
          36.778397435897425,
          37.50101578947368
         ],
         "line": {
          "color": "rosybrown",
          "width": 3
         },
         "lon": [
          -119.86676923076924,
          -120.88726315789475
         ],
         "mode": "lines",
         "opacity": 0.8,
         "type": "scattermapbox"
        },
        {
         "lat": [
          34.232233852691216,
          32.965391406250006
         ],
         "line": {
          "color": "rosybrown",
          "width": 3
         },
         "lon": [
          -117.95440934844191,
          -117.13835937500001
         ],
         "mode": "lines",
         "opacity": 0.8,
         "type": "scattermapbox"
        },
        {
         "lat": [
          34.232233852691216,
          33.16159347826086
         ],
         "line": {
          "color": "rosybrown",
          "width": 3
         },
         "lon": [
          -117.95440934844191,
          -115.7453695652174
         ],
         "mode": "lines",
         "opacity": 0.8,
         "type": "scattermapbox"
        },
        {
         "lat": [
          34.232233852691216,
          34.0772
         ],
         "line": {
          "color": "rosybrown",
          "width": 3
         },
         "lon": [
          -117.95440934844191,
          -118.3538046875
         ],
         "mode": "lines",
         "opacity": 0.8,
         "type": "scattermapbox"
        },
        {
         "lat": [
          34.232233852691216,
          37.582955023923446
         ],
         "line": {
          "color": "rosybrown",
          "width": 3
         },
         "lon": [
          -117.95440934844191,
          -116.49732057416269
         ],
         "mode": "lines",
         "opacity": 0.8,
         "type": "scattermapbox"
        },
        {
         "lat": [
          34.232233852691216,
          40.06136272781065
         ],
         "line": {
          "color": "rosybrown",
          "width": 3
         },
         "lon": [
          -117.95440934844191,
          -120.8623437218935
         ],
         "mode": "lines",
         "opacity": 0.8,
         "type": "scattermapbox"
        },
        {
         "lat": [
          34.232233852691216,
          34.340066666666665
         ],
         "line": {
          "color": "rosybrown",
          "width": 3
         },
         "lon": [
          -117.95440934844191,
          -114.48700000000001
         ],
         "mode": "lines",
         "opacity": 0.8,
         "type": "scattermapbox"
        },
        {
         "lat": [
          32.965391406250006,
          33.16159347826086
         ],
         "line": {
          "color": "rosybrown",
          "width": 3
         },
         "lon": [
          -117.13835937500001,
          -115.7453695652174
         ],
         "mode": "lines",
         "opacity": 0.8,
         "type": "scattermapbox"
        },
        {
         "lat": [
          32.965391406250006,
          40.06136272781065
         ],
         "line": {
          "color": "rosybrown",
          "width": 3
         },
         "lon": [
          -117.13835937500001,
          -120.8623437218935
         ],
         "mode": "lines",
         "opacity": 0.8,
         "type": "scattermapbox"
        },
        {
         "lat": [
          36.404720000000005,
          37.582955023923446
         ],
         "line": {
          "color": "rosybrown",
          "width": 3
         },
         "lon": [
          -116.2266,
          -116.49732057416269
         ],
         "mode": "lines",
         "opacity": 0.8,
         "type": "scattermapbox"
        },
        {
         "lat": [
          48.11697692307692,
          47.153645454545455
         ],
         "line": {
          "color": "rosybrown",
          "width": 3
         },
         "lon": [
          -119.68223076923078,
          -119.4911818181818
         ],
         "mode": "lines",
         "opacity": 0.8,
         "type": "scattermapbox"
        },
        {
         "lat": [
          48.11697692307692,
          48.67661785714285
         ],
         "line": {
          "color": "rosybrown",
          "width": 3
         },
         "lon": [
          -119.68223076923078,
          -122.24942857142857
         ],
         "mode": "lines",
         "opacity": 0.8,
         "type": "scattermapbox"
        },
        {
         "lat": [
          31.988443661971832,
          35.07218153846155
         ],
         "line": {
          "color": "rosybrown",
          "width": 3
         },
         "lon": [
          -106.40547887323943,
          -107.02026153846154
         ],
         "mode": "lines",
         "opacity": 0.8,
         "type": "scattermapbox"
        },
        {
         "lat": [
          31.988443661971832,
          40.06136272781065
         ],
         "line": {
          "color": "rosybrown",
          "width": 3
         },
         "lon": [
          -106.40547887323943,
          -120.8623437218935
         ],
         "mode": "lines",
         "opacity": 0.8,
         "type": "scattermapbox"
        },
        {
         "lat": [
          33.16159347826086,
          40.06136272781065
         ],
         "line": {
          "color": "rosybrown",
          "width": 3
         },
         "lon": [
          -115.7453695652174,
          -120.8623437218935
         ],
         "mode": "lines",
         "opacity": 0.8,
         "type": "scattermapbox"
        },
        {
         "lat": [
          43.467796842105265,
          46.62420740740741
         ],
         "line": {
          "color": "rosybrown",
          "width": 3
         },
         "lon": [
          -115.62950526315785,
          -111.14702777777777
         ],
         "mode": "lines",
         "opacity": 0.8,
         "type": "scattermapbox"
        },
        {
         "lat": [
          43.467796842105265,
          37.582955023923446
         ],
         "line": {
          "color": "rosybrown",
          "width": 3
         },
         "lon": [
          -115.62950526315785,
          -116.49732057416269
         ],
         "mode": "lines",
         "opacity": 0.8,
         "type": "scattermapbox"
        },
        {
         "lat": [
          43.467796842105265,
          40.78797987012987
         ],
         "line": {
          "color": "rosybrown",
          "width": 3
         },
         "lon": [
          -115.62950526315785,
          -111.51946753246753
         ],
         "mode": "lines",
         "opacity": 0.8,
         "type": "scattermapbox"
        },
        {
         "lat": [
          34.0772,
          40.06136272781065
         ],
         "line": {
          "color": "rosybrown",
          "width": 3
         },
         "lon": [
          -118.3538046875,
          -120.8623437218935
         ],
         "mode": "lines",
         "opacity": 0.8,
         "type": "scattermapbox"
        },
        {
         "lat": [
          46.6394,
          46.62420740740741
         ],
         "line": {
          "color": "rosybrown",
          "width": 3
         },
         "lon": [
          -106.64900000000002,
          -111.14702777777777
         ],
         "mode": "lines",
         "opacity": 0.8,
         "type": "scattermapbox"
        },
        {
         "lat": [
          46.6394,
          40.06136272781065
         ],
         "line": {
          "color": "rosybrown",
          "width": 3
         },
         "lon": [
          -106.64900000000002,
          -120.8623437218935
         ],
         "mode": "lines",
         "opacity": 0.8,
         "type": "scattermapbox"
        },
        {
         "lat": [
          46.6394,
          40.326796067415735
         ],
         "line": {
          "color": "rosybrown",
          "width": 3
         },
         "lon": [
          -106.64900000000002,
          -106.08378651685392
         ],
         "mode": "lines",
         "opacity": 0.8,
         "type": "scattermapbox"
        },
        {
         "lat": [
          46.62420740740741,
          40.78797987012987
         ],
         "line": {
          "color": "rosybrown",
          "width": 3
         },
         "lon": [
          -111.14702777777777,
          -111.51946753246753
         ],
         "mode": "lines",
         "opacity": 0.8,
         "type": "scattermapbox"
        },
        {
         "lat": [
          46.62420740740741,
          40.06136272781065
         ],
         "line": {
          "color": "rosybrown",
          "width": 3
         },
         "lon": [
          -111.14702777777777,
          -120.8623437218935
         ],
         "mode": "lines",
         "opacity": 0.8,
         "type": "scattermapbox"
        },
        {
         "lat": [
          46.62420740740741,
          40.326796067415735
         ],
         "line": {
          "color": "rosybrown",
          "width": 3
         },
         "lon": [
          -111.14702777777777,
          -106.08378651685392
         ],
         "mode": "lines",
         "opacity": 0.8,
         "type": "scattermapbox"
        },
        {
         "lat": [
          35.780878,
          40.06136272781065
         ],
         "line": {
          "color": "rosybrown",
          "width": 3
         },
         "lon": [
          -121.753665,
          -120.8623437218935
         ],
         "mode": "lines",
         "opacity": 0.8,
         "type": "scattermapbox"
        },
        {
         "lat": [
          37.582955023923446,
          40.78797987012987
         ],
         "line": {
          "color": "rosybrown",
          "width": 3
         },
         "lon": [
          -116.49732057416269,
          -111.51946753246753
         ],
         "mode": "lines",
         "opacity": 0.8,
         "type": "scattermapbox"
        },
        {
         "lat": [
          37.582955023923446,
          34.340066666666665
         ],
         "line": {
          "color": "rosybrown",
          "width": 3
         },
         "lon": [
          -116.49732057416269,
          -114.48700000000001
         ],
         "mode": "lines",
         "opacity": 0.8,
         "type": "scattermapbox"
        },
        {
         "lat": [
          40.78797987012987,
          40.326796067415735
         ],
         "line": {
          "color": "rosybrown",
          "width": 3
         },
         "lon": [
          -111.51946753246753,
          -106.08378651685392
         ],
         "mode": "lines",
         "opacity": 0.8,
         "type": "scattermapbox"
        },
        {
         "lat": [
          42.50423285714286,
          40.06136272781065
         ],
         "line": {
          "color": "rosybrown",
          "width": 3
         },
         "lon": [
          -122.86985714285713,
          -120.8623437218935
         ],
         "mode": "lines",
         "opacity": 0.8,
         "type": "scattermapbox"
        },
        {
         "lat": [
          35.07218153846155,
          39.4394822147651
         ],
         "line": {
          "color": "rosybrown",
          "width": 3
         },
         "lon": [
          -107.02026153846154,
          -104.7841812080537
         ],
         "mode": "lines",
         "opacity": 0.8,
         "type": "scattermapbox"
        },
        {
         "lat": [
          35.07218153846155,
          32.07233734939759
         ],
         "line": {
          "color": "rosybrown",
          "width": 3
         },
         "lon": [
          -107.02026153846154,
          -110.81897590361444
         ],
         "mode": "lines",
         "opacity": 0.8,
         "type": "scattermapbox"
        },
        {
         "lat": [
          35.07218153846155,
          40.06136272781065
         ],
         "line": {
          "color": "rosybrown",
          "width": 3
         },
         "lon": [
          -107.02026153846154,
          -120.8623437218935
         ],
         "mode": "lines",
         "opacity": 0.8,
         "type": "scattermapbox"
        },
        {
         "lat": [
          35.07218153846155,
          40.326796067415735
         ],
         "line": {
          "color": "rosybrown",
          "width": 3
         },
         "lon": [
          -107.02026153846154,
          -106.08378651685392
         ],
         "mode": "lines",
         "opacity": 0.8,
         "type": "scattermapbox"
        },
        {
         "lat": [
          39.4394822147651,
          40.326796067415735
         ],
         "line": {
          "color": "rosybrown",
          "width": 3
         },
         "lon": [
          -104.7841812080537,
          -106.08378651685392
         ],
         "mode": "lines",
         "opacity": 0.8,
         "type": "scattermapbox"
        },
        {
         "lat": [
          48.67661785714285,
          40.06136272781065
         ],
         "line": {
          "color": "rosybrown",
          "width": 3
         },
         "lon": [
          -122.24942857142857,
          -120.8623437218935
         ],
         "mode": "lines",
         "opacity": 0.8,
         "type": "scattermapbox"
        },
        {
         "lat": [
          32.07233734939759,
          40.06136272781065
         ],
         "line": {
          "color": "rosybrown",
          "width": 3
         },
         "lon": [
          -110.81897590361444,
          -120.8623437218935
         ],
         "mode": "lines",
         "opacity": 0.8,
         "type": "scattermapbox"
        },
        {
         "lat": [
          40.78797987012987,
          34.232233852691216
         ],
         "line": {
          "color": "darkseagreen",
          "width": 3
         },
         "lon": [
          -111.51946753246753,
          -117.95440934844191
         ],
         "mode": "lines",
         "opacity": 0.8,
         "type": "scattermapbox"
        },
        {
         "lat": [
          46.54832408906883,
          34.0772
         ],
         "line": {
          "color": "darkseagreen",
          "width": 3
         },
         "lon": [
          -121.33785425101213,
          -118.3538046875
         ],
         "mode": "lines",
         "opacity": 0.8,
         "type": "scattermapbox"
        },
        {
         "lat": [
          37.84046764705882,
          38.1160196969697
         ],
         "line": {
          "color": "darkseagreen",
          "width": 3
         },
         "lon": [
          -122.39823529411764,
          -121.99057575757575
         ],
         "mode": "lines",
         "opacity": 0.8,
         "type": "scattermapbox"
        },
        {
         "hoverinfo": "text",
         "lat": [
          47.14415004453441,
          47.92847646153845,
          45.60388642105263,
          34.06904702343299,
          33.53372683621781,
          35.744407609049105,
          37.34692003215231,
          34.48902086631816,
          32.989098771786175,
          36.983611460992705,
          34.12296343042071,
          39.077186702127655,
          38.35475942940039,
          38.23574523871302,
          39.01189295212766,
          38.27408670212766,
          38.691167584480596,
          37.96612761121857,
          38.68351170212766,
          39.4892561465721,
          38.0210945968645,
          39.30126806603299,
          47.125517600089964,
          47.33265050607287,
          46.85098477180714,
          46.14661204453441,
          45.00806046558705,
          46.58626574823812,
          44.52627847310585,
          45.94972543036119,
          47.61247097310584,
          43.30484340843974,
          47.90984401709402,
          36.8512574074074,
          36.2939,
          36.132039999999996,
          37.126232828282824,
          36.86374871794871,
          37.22505789473684,
          40.246564285714285,
          39.08856999999999,
          39.440645833333335,
          39.819874999999996,
          39.22718088235293,
          39.219525,
          40.02526944444444,
          38.86460984848485,
          38.59807751196172,
          41.05871642857143,
          38.04933126385809,
          38.08767272727273,
          38.513672727272734,
          37.77971363636364,
          38.49709772727273,
          37.83468062200957,
          37.798701183644184,
          37.61684136486819,
          38.023168385070214,
          37.715666431322205,
          38.995839900490694,
          40.45323928571429,
          40.54250428571429,
          40.658633730158726,
          41.692080714285716,
          40.15523125,
          40.63259444444444,
          40.8326965,
          41.66604142857143,
          40.44460636390532,
          39.023276249999995,
          39.771987613905324,
          38.20220382352941,
          38.70255088235294,
          39.500639444444445,
          38.339979848484845,
          39.312651363905324,
          38.34081470588235,
          37.753776470588235,
          37.97824367201426,
          38.95091518743474,
          36.19605740740741,
          37.02839023569023,
          38.40738877131273,
          39.64732083333334,
          39.05462671568627,
          39.063545833333336,
          39.04697083333333,
          37.51278181818182,
          37.699040909090904,
          36.62141711229947,
          36.903260389610395,
          37.93878181818182,
          37.20482272727273,
          36.898480536130535,
          35.62539874452743,
          36.506113865546226,
          35.93148529411765,
          35.769625294117645,
          35.52609154411765,
          36.501334012066366,
          35.22825222046326,
          35.51009549777418,
          37.18545608339029,
          39.43385588235294,
          40.115815,
          40.231944444444444,
          38.80475251196172,
          38.83350588235294,
          39.63925032679738,
          38.47859073083779,
          38.89401751196172,
          38.842425000000006,
          38.22097751196172,
          35.23330625,
          37.85003136390533,
          35.071446249999994,
          35.32605969696969,
          34.77360692634561,
          37.688171363905326,
          37.48522547534165,
          37.89155249554368,
          38.86422401096415,
          37.08473962703962,
          37.44604880382775,
          37.40219072301967,
          38.68236419218815,
          41.47078587301587,
          34.53007317634561,
          37.44463761390533,
          34.78468662331531,
          39.088691212390174,
          35.50531564429432,
          37.13970661268556,
          33.598812629470615,
          33.69691366547604,
          34.15471692634561,
          35.90759443830733,
          37.146798290250935,
          34.28615025967894,
          33.06349244225544,
          36.51337706703033,
          36.99383751196173,
          47.63531118881119,
          48.39679739010988,
          33.53031260021669,
          36.024903194891245,
          36.61147810303576,
          45.04600212475634,
          40.52537593301436,
          42.127888356117566,
          37.069281363905326,
          46.63180370370371,
          43.35038136390533,
          43.48309803370787,
          43.706093638768635,
          43.34278506760903,
          43.47550173741158,
          37.92112036390533,
          39.18546744702665,
          35.96151084529505,
          40.5573879687728,
          41.28279779247676,
          37.25583187661333,
          33.57225944392957,
          37.5667721331361,
          37.699488802938646,
          39.88313914109042,
          44.36899029247675,
          36.06685003860412
         ],
         "lon": [
          -119.30630712550605,
          -118.47849538461537,
          -116.4521326315789,
          -114.96314642179377,
          -113.85862653018151,
          -114.23460203465416,
          -111.74567551380657,
          -109.49607251680358,
          -111.39542969938003,
          -116.41711360851956,
          -113.22944174757282,
          -121.55446909827762,
          -120.97302321083171,
          -121.39074494032175,
          -122.3692220744681,
          -120.67665957446809,
          -121.48654192740926,
          -120.86379593810446,
          -121.16809707446808,
          -121.86202068557921,
          -121.12779115341547,
          -121.11533143541484,
          -120.80953823661717,
          -120.51004251012145,
          -120.41451803459697,
          -120.50021283979177,
          -118.48367975708499,
          -116.24244101439496,
          -122.10385569693463,
          -122.03734444834072,
          -121.79364141122035,
          -121.10009898645282,
          -119.98172649572649,
          -121.18817003367003,
          -120.77802870813397,
          -120.1890515151515,
          -121.34716666666665,
          -120.3142027972028,
          -120.82444976076556,
          -121.76538095238095,
          -122.22613452380952,
          -121.38839285714286,
          -121.45075952380952,
          -121.67269187675069,
          -121.35424702380952,
          -122.04817063492064,
          -121.8655974025974,
          -119.11896981089086,
          -122.30523809523808,
          -120.99544900221728,
          -120.28136363636364,
          -120.43178671328671,
          -120.46849999999999,
          -120.77280113636363,
          -120.732495215311,
          -121.75074713055953,
          -121.67293385070214,
          -121.70187324464153,
          -121.15021694480103,
          -121.1377572268004,
          -121.47552142857144,
          -121.07867142857143,
          -122.07293253968255,
          -122.33,
          -123.73125,
          -123.22404861111113,
          -124.3018045,
          -123.48111607142857,
          -122.47735936094675,
          -123.0408875,
          -122.11623436094675,
          -122.55494264705882,
          -122.15820735294118,
          -122.53368611111112,
          -122.35111287878789,
          -121.78699686094674,
          -122.0015,
          -122.24327941176469,
          -122.19440552584669,
          -121.63028950800557,
          -121.20456237816765,
          -121.77370033670033,
          -121.23852371279861,
          -121.09853333333335,
          -121.32046568627452,
          -120.66100641025642,
          -121.00202083333335,
          -119.74945454545455,
          -120.17213636363637,
          -119.6426898395722,
          -119.30966883116884,
          -119.89987762237763,
          -119.93659090909091,
          -119.69033916083916,
          -118.7341592196755,
          -119.43844957983193,
          -120.28294582043344,
          -119.69396862745097,
          -120.05807904411765,
          -119.81911990950226,
          -118.8629399683386,
          -118.52991895993523,
          -117.80137457279562,
          -121.38283235294118,
          -120.76405,
          -121.75831111111113,
          -118.82911028708135,
          -121.28631985294118,
          -121.9802434640523,
          -121.79767023172906,
          -118.43226028708133,
          -120.62686057692308,
          -118.39158336400442,
          -120.56955427631578,
          -120.82838238726254,
          -119.98057708333332,
          -119.31235454545455,
          -118.78543800755429,
          -120.23940519428007,
          -122.01051024955436,
          -122.03944964349375,
          -121.47533362565262,
          -120.11302097902097,
          -120.62326794258374,
          -121.40998006379586,
          -121.39752034579523,
          -122.61278968253968,
          -119.14954842422095,
          -120.60351561094674,
          -118.48132588634218,
          -121.42645973973463,
          -118.91058928960558,
          -120.37701619433199,
          -117.54638436172095,
          -116.84988945682966,
          -118.15410701797096,
          -117.2258649613023,
          -119.4083765351677,
          -116.22070467422097,
          -116.4418644701087,
          -119.00035154844676,
          -116.36196028708135,
          -119.5867062937063,
          -120.96582967032967,
          -106.71287020585049,
          -113.63391129756647,
          -118.30385664355545,
          -113.38826652046781,
          -116.06341291866028,
          -113.57448639781269,
          -119.60807420469675,
          -108.8980138888889,
          -113.75567186094676,
          -106.36639325842697,
          -111.33324765512265,
          -116.00468574983563,
          -108.61540714731584,
          -121.30800436094674,
          -114.0083940533151,
          -115.49216028708135,
          -108.80162702466072,
          -121.8661004323753,
          -105.90222137325762,
          -108.91961872103799,
          -113.94130263017752,
          -106.55202402765772,
          -105.4339838624538,
          -121.55588614666104,
          -115.84065981275397
         ],
         "marker": {
          "opacity": 0
         },
         "mode": "markers",
         "text": [
          "Line 1",
          "Line 2",
          "Line 3",
          "Line 4",
          "Line 5",
          "Line 6",
          "Line 7",
          "Line 8",
          "Line 9",
          "Line 10",
          "Line 11",
          "Line 12",
          "Line 13",
          "Line 14",
          "Line 15",
          "Line 16",
          "Line 17",
          "Line 18",
          "Line 19",
          "Line 20",
          "Line 21",
          "Line 22",
          "Line 23",
          "Line 24",
          "Line 25",
          "Line 26",
          "Line 27",
          "Line 28",
          "Line 29",
          "Line 30",
          "Line 31",
          "Line 32",
          "Line 33",
          "Line 34",
          "Line 35",
          "Line 36",
          "Line 37",
          "Line 38",
          "Line 39",
          "Line 40",
          "Line 41",
          "Line 42",
          "Line 43",
          "Line 44",
          "Line 45",
          "Line 46",
          "Line 47",
          "Line 48",
          "Line 49",
          "Line 50",
          "Line 51",
          "Line 52",
          "Line 53",
          "Line 54",
          "Line 55",
          "Line 56",
          "Line 57",
          "Line 58",
          "Line 59",
          "Line 60",
          "Line 61",
          "Line 62",
          "Line 63",
          "Line 64",
          "Line 65",
          "Line 66",
          "Line 67",
          "Line 68",
          "Line 69",
          "Line 70",
          "Line 71",
          "Line 72",
          "Line 73",
          "Line 74",
          "Line 75",
          "Line 76",
          "Line 77",
          "Line 78",
          "Line 79",
          "Line 80",
          "Line 81",
          "Line 82",
          "Line 83",
          "Line 84",
          "Line 85",
          "Line 86",
          "Line 87",
          "Line 88",
          "Line 89",
          "Line 90",
          "Line 91",
          "Line 92",
          "Line 93",
          "Line 94",
          "Line 95",
          "Line 96",
          "Line 97",
          "Line 98",
          "Line 99",
          "Line 100",
          "Line 101",
          "Line 102",
          "Line 103",
          "Line 104",
          "Line 105",
          "Line 106",
          "Line 107",
          "Line 108",
          "Line 109",
          "Line 110",
          "Line 111",
          "Line 112",
          "Line 113",
          "Line 114",
          "Line 115",
          "Line 116",
          "Line 117",
          "Line 118",
          "Line 119",
          "Line 120",
          "Line 121",
          "Line 122",
          "Line 123",
          "Line 124",
          "Line 125",
          "Line 126",
          "Line 127",
          "Line 128",
          "Line 129",
          "Line 130",
          "Line 131",
          "Line 132",
          "Line 133",
          "Line 134",
          "Line 135",
          "Line 136",
          "Line 137",
          "Line 138",
          "Line 139",
          "Line 140",
          "Line 141",
          "Line 142",
          "Line 143",
          "Line 144",
          "Line 145",
          "Line 146",
          "Line 147",
          "Line 148",
          "Line 149",
          "Line 150",
          "Line 151",
          "Line 152",
          "Line 153",
          "Line 154",
          "Line 155",
          "Line 156",
          "Line 157",
          "Line 158",
          "Line 159",
          "Line 160",
          "Line 161",
          "Line 162",
          "Line 163",
          "Line 164",
          "Line 165",
          "Line 166",
          "Line 167",
          "Line 168",
          "Line 169"
         ],
         "type": "scattermapbox"
        },
        {
         "hoverinfo": "text",
         "lat": [
          37.51010686141054,
          40.31276204453441,
          37.97824367201426
         ],
         "lon": [
          -114.73693844045472,
          -119.84582946925607,
          -122.19440552584669
         ],
         "marker": {
          "opacity": 0
         },
         "mode": "markers",
         "text": [
          "Link 9",
          "Link 10",
          "Link 15"
         ],
         "type": "scattermapbox"
        },
        {
         "hoverinfo": "text",
         "lat": [
          47.73997599999999,
          33.90586019417476,
          38.54117340425532,
          46.54832408906883,
          47.70271111111111,
          36.9491,
          39.61319999999999,
          38.16834545454546,
          37.93031707317073,
          40.87992857142857,
          40.82785,
          39.4826125,
          38.563939999999995,
          37.84046764705882,
          36.75341481481481,
          39.26809166666667,
          38.007,
          37.01856363636364,
          36.2242705882353,
          36.787957142857145,
          40.02655,
          38.84116176470587,
          40.205079999999995,
          38.859,
          35.6387,
          35.31497999999999,
          37.66708529411765,
          37.39108181818181,
          37.30336565656565,
          38.82585,
          40.43733888888889,
          34.8279125,
          35.337139393939395,
          38.1160196969697,
          36.778397435897425,
          34.232233852691216,
          32.965391406250006,
          36.404720000000005,
          48.11697692307692,
          31.988443661971832,
          47.153645454545455,
          45.744899999999994,
          40.837543,
          33.16159347826086,
          43.467796842105265,
          34.0772,
          46.6394,
          46.62420740740741,
          35.780878,
          37.582955023923446,
          40.78797987012987,
          42.50423285714286,
          45.351126771653554,
          35.07218153846155,
          39.4394822147651,
          48.67661785714285,
          32.07233734939759,
          37.50101578947368,
          40.06136272781065,
          40.326796067415735,
          34.340066666666665
         ],
         "lon": [
          -117.27475999999997,
          -111.97188349514562,
          -121.36831914893618,
          -121.33785425101213,
          -120.28122222222221,
          -120.76163636363636,
          -121.74061904761905,
          -120.57772727272726,
          -121.41317073170731,
          -121.79014285714287,
          -124.092375,
          -123.370125,
          -122.71165,
          -122.39823529411764,
          -121.61470370370371,
          -121.03616666666669,
          -119.98500000000001,
          -119.5139090909091,
          -119.77147058823529,
          -119.10542857142856,
          -121.16090000000001,
          -121.60476470588235,
          -120.3672,
          -120.28584615384617,
          -120.79442105263158,
          -119.61646666666665,
          -122.08832352941175,
          -120.35927272727272,
          -121.93269696969696,
          -120.96787499999999,
          -122.35572222222224,
          -120.34468749999999,
          -119.00824242424244,
          -121.99057575757575,
          -119.86676923076924,
          -117.95440934844191,
          -117.13835937500001,
          -116.2266,
          -119.68223076923078,
          -106.40547887323943,
          -119.4911818181818,
          -119.66257142857141,
          -124.511234,
          -115.7453695652174,
          -115.62950526315785,
          -118.3538046875,
          -106.64900000000002,
          -111.14702777777777,
          -121.753665,
          -116.49732057416269,
          -111.51946753246753,
          -122.86985714285713,
          -122.7368346456693,
          -107.02026153846154,
          -104.7841812080537,
          -122.24942857142857,
          -110.81897590361444,
          -120.88726315789475,
          -120.8623437218935,
          -106.08378651685392,
          -114.48700000000001
         ],
         "marker": {
          "color": "cadetblue",
          "size": 10
         },
         "mode": "markers",
         "opacity": 1,
         "text": [
          "Bus AVA0 0",
          "Bus Arizona0 0",
          "Bus BANC0 0",
          "Bus BPAT0 0",
          "Bus CHPD0 0",
          "Bus CISO-PGAE0 0",
          "Bus CISO-PGAE0 1",
          "Bus CISO-PGAE0 10",
          "Bus CISO-PGAE0 11",
          "Bus CISO-PGAE0 12",
          "Bus CISO-PGAE0 13",
          "Bus CISO-PGAE0 14",
          "Bus CISO-PGAE0 15",
          "Bus CISO-PGAE0 16",
          "Bus CISO-PGAE0 17",
          "Bus CISO-PGAE0 18",
          "Bus CISO-PGAE0 19",
          "Bus CISO-PGAE0 2",
          "Bus CISO-PGAE0 20",
          "Bus CISO-PGAE0 21",
          "Bus CISO-PGAE0 22",
          "Bus CISO-PGAE0 23",
          "Bus CISO-PGAE0 24",
          "Bus CISO-PGAE0 25",
          "Bus CISO-PGAE0 26",
          "Bus CISO-PGAE0 27",
          "Bus CISO-PGAE0 28",
          "Bus CISO-PGAE0 29",
          "Bus CISO-PGAE0 3",
          "Bus CISO-PGAE0 4",
          "Bus CISO-PGAE0 5",
          "Bus CISO-PGAE0 6",
          "Bus CISO-PGAE0 7",
          "Bus CISO-PGAE0 8",
          "Bus CISO-PGAE0 9",
          "Bus CISO-SCE0 0",
          "Bus CISO-SDGE0 0",
          "Bus CISO-VEA0 0",
          "Bus DOPD0 0",
          "Bus EPE0 0",
          "Bus GCPD0 0",
          "Bus GRID0 0",
          "Bus Humboldt0 0",
          "Bus IID0 0",
          "Bus IPCO0 0",
          "Bus LADWP0 0",
          "Bus MISO-00010 0",
          "Bus MT_west0 0",
          "Bus Morro_Bay0 0",
          "Bus NEVP0 0",
          "Bus PACE0 0",
          "Bus PACW0 0",
          "Bus PGE0 0",
          "Bus PNM0 0",
          "Bus PSCO0 0",
          "Bus PSEI0 0",
          "Bus TEPC0 0",
          "Bus TID0 0",
          "Bus US0 0",
          "Bus WACM0 0",
          "Bus WALC0 0"
         ],
         "type": "scattermapbox"
        }
       ],
       "layout": {
        "height": 500,
        "hovermode": "closest",
        "mapbox": {
         "accesstoken": "pk.eyJ1Ijoia3RlaHJhbmNoaSIsImEiOiJjbDJzNW5kdHMwaGJzM2pudDBsazZ5am80In0.hQfjJnhiiO1-YcJEEpN-1A",
         "center": {
          "lat": 40.33253075955734,
          "lon": -114.4960885909091
         },
         "style": "open-street-map",
         "zoom": 2
        },
        "showlegend": false,
        "template": {
         "data": {
          "bar": [
           {
            "error_x": {
             "color": "#2a3f5f"
            },
            "error_y": {
             "color": "#2a3f5f"
            },
            "marker": {
             "line": {
              "color": "#E5ECF6",
              "width": 0.5
             },
             "pattern": {
              "fillmode": "overlay",
              "size": 10,
              "solidity": 0.2
             }
            },
            "type": "bar"
           }
          ],
          "barpolar": [
           {
            "marker": {
             "line": {
              "color": "#E5ECF6",
              "width": 0.5
             },
             "pattern": {
              "fillmode": "overlay",
              "size": 10,
              "solidity": 0.2
             }
            },
            "type": "barpolar"
           }
          ],
          "carpet": [
           {
            "aaxis": {
             "endlinecolor": "#2a3f5f",
             "gridcolor": "white",
             "linecolor": "white",
             "minorgridcolor": "white",
             "startlinecolor": "#2a3f5f"
            },
            "baxis": {
             "endlinecolor": "#2a3f5f",
             "gridcolor": "white",
             "linecolor": "white",
             "minorgridcolor": "white",
             "startlinecolor": "#2a3f5f"
            },
            "type": "carpet"
           }
          ],
          "choropleth": [
           {
            "colorbar": {
             "outlinewidth": 0,
             "ticks": ""
            },
            "type": "choropleth"
           }
          ],
          "contour": [
           {
            "colorbar": {
             "outlinewidth": 0,
             "ticks": ""
            },
            "colorscale": [
             [
              0,
              "#0d0887"
             ],
             [
              0.1111111111111111,
              "#46039f"
             ],
             [
              0.2222222222222222,
              "#7201a8"
             ],
             [
              0.3333333333333333,
              "#9c179e"
             ],
             [
              0.4444444444444444,
              "#bd3786"
             ],
             [
              0.5555555555555556,
              "#d8576b"
             ],
             [
              0.6666666666666666,
              "#ed7953"
             ],
             [
              0.7777777777777778,
              "#fb9f3a"
             ],
             [
              0.8888888888888888,
              "#fdca26"
             ],
             [
              1,
              "#f0f921"
             ]
            ],
            "type": "contour"
           }
          ],
          "contourcarpet": [
           {
            "colorbar": {
             "outlinewidth": 0,
             "ticks": ""
            },
            "type": "contourcarpet"
           }
          ],
          "heatmap": [
           {
            "colorbar": {
             "outlinewidth": 0,
             "ticks": ""
            },
            "colorscale": [
             [
              0,
              "#0d0887"
             ],
             [
              0.1111111111111111,
              "#46039f"
             ],
             [
              0.2222222222222222,
              "#7201a8"
             ],
             [
              0.3333333333333333,
              "#9c179e"
             ],
             [
              0.4444444444444444,
              "#bd3786"
             ],
             [
              0.5555555555555556,
              "#d8576b"
             ],
             [
              0.6666666666666666,
              "#ed7953"
             ],
             [
              0.7777777777777778,
              "#fb9f3a"
             ],
             [
              0.8888888888888888,
              "#fdca26"
             ],
             [
              1,
              "#f0f921"
             ]
            ],
            "type": "heatmap"
           }
          ],
          "heatmapgl": [
           {
            "colorbar": {
             "outlinewidth": 0,
             "ticks": ""
            },
            "colorscale": [
             [
              0,
              "#0d0887"
             ],
             [
              0.1111111111111111,
              "#46039f"
             ],
             [
              0.2222222222222222,
              "#7201a8"
             ],
             [
              0.3333333333333333,
              "#9c179e"
             ],
             [
              0.4444444444444444,
              "#bd3786"
             ],
             [
              0.5555555555555556,
              "#d8576b"
             ],
             [
              0.6666666666666666,
              "#ed7953"
             ],
             [
              0.7777777777777778,
              "#fb9f3a"
             ],
             [
              0.8888888888888888,
              "#fdca26"
             ],
             [
              1,
              "#f0f921"
             ]
            ],
            "type": "heatmapgl"
           }
          ],
          "histogram": [
           {
            "marker": {
             "pattern": {
              "fillmode": "overlay",
              "size": 10,
              "solidity": 0.2
             }
            },
            "type": "histogram"
           }
          ],
          "histogram2d": [
           {
            "colorbar": {
             "outlinewidth": 0,
             "ticks": ""
            },
            "colorscale": [
             [
              0,
              "#0d0887"
             ],
             [
              0.1111111111111111,
              "#46039f"
             ],
             [
              0.2222222222222222,
              "#7201a8"
             ],
             [
              0.3333333333333333,
              "#9c179e"
             ],
             [
              0.4444444444444444,
              "#bd3786"
             ],
             [
              0.5555555555555556,
              "#d8576b"
             ],
             [
              0.6666666666666666,
              "#ed7953"
             ],
             [
              0.7777777777777778,
              "#fb9f3a"
             ],
             [
              0.8888888888888888,
              "#fdca26"
             ],
             [
              1,
              "#f0f921"
             ]
            ],
            "type": "histogram2d"
           }
          ],
          "histogram2dcontour": [
           {
            "colorbar": {
             "outlinewidth": 0,
             "ticks": ""
            },
            "colorscale": [
             [
              0,
              "#0d0887"
             ],
             [
              0.1111111111111111,
              "#46039f"
             ],
             [
              0.2222222222222222,
              "#7201a8"
             ],
             [
              0.3333333333333333,
              "#9c179e"
             ],
             [
              0.4444444444444444,
              "#bd3786"
             ],
             [
              0.5555555555555556,
              "#d8576b"
             ],
             [
              0.6666666666666666,
              "#ed7953"
             ],
             [
              0.7777777777777778,
              "#fb9f3a"
             ],
             [
              0.8888888888888888,
              "#fdca26"
             ],
             [
              1,
              "#f0f921"
             ]
            ],
            "type": "histogram2dcontour"
           }
          ],
          "mesh3d": [
           {
            "colorbar": {
             "outlinewidth": 0,
             "ticks": ""
            },
            "type": "mesh3d"
           }
          ],
          "parcoords": [
           {
            "line": {
             "colorbar": {
              "outlinewidth": 0,
              "ticks": ""
             }
            },
            "type": "parcoords"
           }
          ],
          "pie": [
           {
            "automargin": true,
            "type": "pie"
           }
          ],
          "scatter": [
           {
            "fillpattern": {
             "fillmode": "overlay",
             "size": 10,
             "solidity": 0.2
            },
            "type": "scatter"
           }
          ],
          "scatter3d": [
           {
            "line": {
             "colorbar": {
              "outlinewidth": 0,
              "ticks": ""
             }
            },
            "marker": {
             "colorbar": {
              "outlinewidth": 0,
              "ticks": ""
             }
            },
            "type": "scatter3d"
           }
          ],
          "scattercarpet": [
           {
            "marker": {
             "colorbar": {
              "outlinewidth": 0,
              "ticks": ""
             }
            },
            "type": "scattercarpet"
           }
          ],
          "scattergeo": [
           {
            "marker": {
             "colorbar": {
              "outlinewidth": 0,
              "ticks": ""
             }
            },
            "type": "scattergeo"
           }
          ],
          "scattergl": [
           {
            "marker": {
             "colorbar": {
              "outlinewidth": 0,
              "ticks": ""
             }
            },
            "type": "scattergl"
           }
          ],
          "scattermapbox": [
           {
            "marker": {
             "colorbar": {
              "outlinewidth": 0,
              "ticks": ""
             }
            },
            "type": "scattermapbox"
           }
          ],
          "scatterpolar": [
           {
            "marker": {
             "colorbar": {
              "outlinewidth": 0,
              "ticks": ""
             }
            },
            "type": "scatterpolar"
           }
          ],
          "scatterpolargl": [
           {
            "marker": {
             "colorbar": {
              "outlinewidth": 0,
              "ticks": ""
             }
            },
            "type": "scatterpolargl"
           }
          ],
          "scatterternary": [
           {
            "marker": {
             "colorbar": {
              "outlinewidth": 0,
              "ticks": ""
             }
            },
            "type": "scatterternary"
           }
          ],
          "surface": [
           {
            "colorbar": {
             "outlinewidth": 0,
             "ticks": ""
            },
            "colorscale": [
             [
              0,
              "#0d0887"
             ],
             [
              0.1111111111111111,
              "#46039f"
             ],
             [
              0.2222222222222222,
              "#7201a8"
             ],
             [
              0.3333333333333333,
              "#9c179e"
             ],
             [
              0.4444444444444444,
              "#bd3786"
             ],
             [
              0.5555555555555556,
              "#d8576b"
             ],
             [
              0.6666666666666666,
              "#ed7953"
             ],
             [
              0.7777777777777778,
              "#fb9f3a"
             ],
             [
              0.8888888888888888,
              "#fdca26"
             ],
             [
              1,
              "#f0f921"
             ]
            ],
            "type": "surface"
           }
          ],
          "table": [
           {
            "cells": {
             "fill": {
              "color": "#EBF0F8"
             },
             "line": {
              "color": "white"
             }
            },
            "header": {
             "fill": {
              "color": "#C8D4E3"
             },
             "line": {
              "color": "white"
             }
            },
            "type": "table"
           }
          ]
         },
         "layout": {
          "annotationdefaults": {
           "arrowcolor": "#2a3f5f",
           "arrowhead": 0,
           "arrowwidth": 1
          },
          "autotypenumbers": "strict",
          "coloraxis": {
           "colorbar": {
            "outlinewidth": 0,
            "ticks": ""
           }
          },
          "colorscale": {
           "diverging": [
            [
             0,
             "#8e0152"
            ],
            [
             0.1,
             "#c51b7d"
            ],
            [
             0.2,
             "#de77ae"
            ],
            [
             0.3,
             "#f1b6da"
            ],
            [
             0.4,
             "#fde0ef"
            ],
            [
             0.5,
             "#f7f7f7"
            ],
            [
             0.6,
             "#e6f5d0"
            ],
            [
             0.7,
             "#b8e186"
            ],
            [
             0.8,
             "#7fbc41"
            ],
            [
             0.9,
             "#4d9221"
            ],
            [
             1,
             "#276419"
            ]
           ],
           "sequential": [
            [
             0,
             "#0d0887"
            ],
            [
             0.1111111111111111,
             "#46039f"
            ],
            [
             0.2222222222222222,
             "#7201a8"
            ],
            [
             0.3333333333333333,
             "#9c179e"
            ],
            [
             0.4444444444444444,
             "#bd3786"
            ],
            [
             0.5555555555555556,
             "#d8576b"
            ],
            [
             0.6666666666666666,
             "#ed7953"
            ],
            [
             0.7777777777777778,
             "#fb9f3a"
            ],
            [
             0.8888888888888888,
             "#fdca26"
            ],
            [
             1,
             "#f0f921"
            ]
           ],
           "sequentialminus": [
            [
             0,
             "#0d0887"
            ],
            [
             0.1111111111111111,
             "#46039f"
            ],
            [
             0.2222222222222222,
             "#7201a8"
            ],
            [
             0.3333333333333333,
             "#9c179e"
            ],
            [
             0.4444444444444444,
             "#bd3786"
            ],
            [
             0.5555555555555556,
             "#d8576b"
            ],
            [
             0.6666666666666666,
             "#ed7953"
            ],
            [
             0.7777777777777778,
             "#fb9f3a"
            ],
            [
             0.8888888888888888,
             "#fdca26"
            ],
            [
             1,
             "#f0f921"
            ]
           ]
          },
          "colorway": [
           "#636efa",
           "#EF553B",
           "#00cc96",
           "#ab63fa",
           "#FFA15A",
           "#19d3f3",
           "#FF6692",
           "#B6E880",
           "#FF97FF",
           "#FECB52"
          ],
          "font": {
           "color": "#2a3f5f"
          },
          "geo": {
           "bgcolor": "white",
           "lakecolor": "white",
           "landcolor": "#E5ECF6",
           "showlakes": true,
           "showland": true,
           "subunitcolor": "white"
          },
          "hoverlabel": {
           "align": "left"
          },
          "hovermode": "closest",
          "mapbox": {
           "style": "light"
          },
          "paper_bgcolor": "white",
          "plot_bgcolor": "#E5ECF6",
          "polar": {
           "angularaxis": {
            "gridcolor": "white",
            "linecolor": "white",
            "ticks": ""
           },
           "bgcolor": "#E5ECF6",
           "radialaxis": {
            "gridcolor": "white",
            "linecolor": "white",
            "ticks": ""
           }
          },
          "scene": {
           "xaxis": {
            "backgroundcolor": "#E5ECF6",
            "gridcolor": "white",
            "gridwidth": 2,
            "linecolor": "white",
            "showbackground": true,
            "ticks": "",
            "zerolinecolor": "white"
           },
           "yaxis": {
            "backgroundcolor": "#E5ECF6",
            "gridcolor": "white",
            "gridwidth": 2,
            "linecolor": "white",
            "showbackground": true,
            "ticks": "",
            "zerolinecolor": "white"
           },
           "zaxis": {
            "backgroundcolor": "#E5ECF6",
            "gridcolor": "white",
            "gridwidth": 2,
            "linecolor": "white",
            "showbackground": true,
            "ticks": "",
            "zerolinecolor": "white"
           }
          },
          "shapedefaults": {
           "line": {
            "color": "#2a3f5f"
           }
          },
          "ternary": {
           "aaxis": {
            "gridcolor": "white",
            "linecolor": "white",
            "ticks": ""
           },
           "baxis": {
            "gridcolor": "white",
            "linecolor": "white",
            "ticks": ""
           },
           "bgcolor": "#E5ECF6",
           "caxis": {
            "gridcolor": "white",
            "linecolor": "white",
            "ticks": ""
           }
          },
          "title": {
           "x": 0.05
          },
          "xaxis": {
           "automargin": true,
           "gridcolor": "white",
           "linecolor": "white",
           "ticks": "",
           "title": {
            "standoff": 15
           },
           "zerolinecolor": "white",
           "zerolinewidth": 2
          },
          "yaxis": {
           "automargin": true,
           "gridcolor": "white",
           "linecolor": "white",
           "ticks": "",
           "title": {
            "standoff": 15
           },
           "zerolinecolor": "white",
           "zerolinewidth": 2
          }
         }
        },
        "title": {
         "text": ""
        },
        "width": 900
       }
      }
     },
     "metadata": {},
     "output_type": "display_data"
    }
   ],
   "source": [
    "network.iplot(mapbox=True, mapbox_token='pk.eyJ1Ijoia3RlaHJhbmNoaSIsImEiOiJjbDJzNW5kdHMwaGJzM2pudDBsazZ5am80In0.hQfjJnhiiO1-YcJEEpN-1A',size= (900,500));"
   ]
  },
  {
   "cell_type": "code",
   "execution_count": 49,
   "metadata": {},
   "outputs": [
    {
     "data": {
      "text/html": [
       "<div>\n",
       "<style scoped>\n",
       "    .dataframe tbody tr th:only-of-type {\n",
       "        vertical-align: middle;\n",
       "    }\n",
       "\n",
       "    .dataframe tbody tr th {\n",
       "        vertical-align: top;\n",
       "    }\n",
       "\n",
       "    .dataframe thead th {\n",
       "        text-align: right;\n",
       "    }\n",
       "</style>\n",
       "<table border=\"1\" class=\"dataframe\">\n",
       "  <thead>\n",
       "    <tr style=\"text-align: right;\">\n",
       "      <th></th>\n",
       "      <th>bus0</th>\n",
       "      <th>bus1</th>\n",
       "      <th>r</th>\n",
       "      <th>x</th>\n",
       "      <th>b</th>\n",
       "      <th>s_nom</th>\n",
       "      <th>s_max_pu</th>\n",
       "      <th>length</th>\n",
       "      <th>num_parallel</th>\n",
       "      <th>type</th>\n",
       "      <th>...</th>\n",
       "      <th>v_ang_max</th>\n",
       "      <th>sub_network</th>\n",
       "      <th>x_pu</th>\n",
       "      <th>r_pu</th>\n",
       "      <th>g_pu</th>\n",
       "      <th>b_pu</th>\n",
       "      <th>x_pu_eff</th>\n",
       "      <th>r_pu_eff</th>\n",
       "      <th>s_nom_opt</th>\n",
       "      <th>v_nom</th>\n",
       "    </tr>\n",
       "    <tr>\n",
       "      <th>Line</th>\n",
       "      <th></th>\n",
       "      <th></th>\n",
       "      <th></th>\n",
       "      <th></th>\n",
       "      <th></th>\n",
       "      <th></th>\n",
       "      <th></th>\n",
       "      <th></th>\n",
       "      <th></th>\n",
       "      <th></th>\n",
       "      <th></th>\n",
       "      <th></th>\n",
       "      <th></th>\n",
       "      <th></th>\n",
       "      <th></th>\n",
       "      <th></th>\n",
       "      <th></th>\n",
       "      <th></th>\n",
       "      <th></th>\n",
       "      <th></th>\n",
       "      <th></th>\n",
       "    </tr>\n",
       "  </thead>\n",
       "  <tbody>\n",
       "    <tr>\n",
       "      <th>1</th>\n",
       "      <td>AVA0 0</td>\n",
       "      <td>BPAT0 0</td>\n",
       "      <td>0.815803</td>\n",
       "      <td>6.873208</td>\n",
       "      <td>0.000398</td>\n",
       "      <td>9665.725271</td>\n",
       "      <td>1.0</td>\n",
       "      <td>418.235262</td>\n",
       "      <td>24.022854</td>\n",
       "      <td></td>\n",
       "      <td>...</td>\n",
       "      <td>inf</td>\n",
       "      <td>0</td>\n",
       "      <td>0.000130</td>\n",
       "      <td>0.000015</td>\n",
       "      <td>0.0</td>\n",
       "      <td>21.034424</td>\n",
       "      <td>0.000130</td>\n",
       "      <td>0.000015</td>\n",
       "      <td>9665.725271</td>\n",
       "      <td>230.0</td>\n",
       "    </tr>\n",
       "    <tr>\n",
       "      <th>2</th>\n",
       "      <td>AVA0 0</td>\n",
       "      <td>DOPD0 0</td>\n",
       "      <td>0.979313</td>\n",
       "      <td>10.528460</td>\n",
       "      <td>0.000070</td>\n",
       "      <td>6696.342400</td>\n",
       "      <td>1.0</td>\n",
       "      <td>230.247931</td>\n",
       "      <td>16.642854</td>\n",
       "      <td></td>\n",
       "      <td>...</td>\n",
       "      <td>inf</td>\n",
       "      <td>0</td>\n",
       "      <td>0.000199</td>\n",
       "      <td>0.000019</td>\n",
       "      <td>0.0</td>\n",
       "      <td>3.680059</td>\n",
       "      <td>0.000199</td>\n",
       "      <td>0.000019</td>\n",
       "      <td>6696.342400</td>\n",
       "      <td>230.0</td>\n",
       "    </tr>\n",
       "    <tr>\n",
       "      <th>3</th>\n",
       "      <td>AVA0 0</td>\n",
       "      <td>IPCO0 0</td>\n",
       "      <td>6.940746</td>\n",
       "      <td>211.460261</td>\n",
       "      <td>0.000026</td>\n",
       "      <td>4451.199253</td>\n",
       "      <td>1.0</td>\n",
       "      <td>614.940313</td>\n",
       "      <td>11.062854</td>\n",
       "      <td></td>\n",
       "      <td>...</td>\n",
       "      <td>inf</td>\n",
       "      <td>0</td>\n",
       "      <td>0.003997</td>\n",
       "      <td>0.000131</td>\n",
       "      <td>0.0</td>\n",
       "      <td>1.366133</td>\n",
       "      <td>0.003997</td>\n",
       "      <td>0.000131</td>\n",
       "      <td>4451.199253</td>\n",
       "      <td>230.0</td>\n",
       "    </tr>\n",
       "    <tr>\n",
       "      <th>4</th>\n",
       "      <td>Arizona0 0</td>\n",
       "      <td>CISO-SCE0 0</td>\n",
       "      <td>2.218679</td>\n",
       "      <td>46.061683</td>\n",
       "      <td>0.000156</td>\n",
       "      <td>14359.486266</td>\n",
       "      <td>1.0</td>\n",
       "      <td>690.203291</td>\n",
       "      <td>35.688563</td>\n",
       "      <td></td>\n",
       "      <td>...</td>\n",
       "      <td>inf</td>\n",
       "      <td>0</td>\n",
       "      <td>0.000871</td>\n",
       "      <td>0.000042</td>\n",
       "      <td>0.0</td>\n",
       "      <td>8.234615</td>\n",
       "      <td>0.000871</td>\n",
       "      <td>0.000042</td>\n",
       "      <td>14359.486266</td>\n",
       "      <td>230.0</td>\n",
       "    </tr>\n",
       "    <tr>\n",
       "      <th>5</th>\n",
       "      <td>Arizona0 0</td>\n",
       "      <td>IID0 0</td>\n",
       "      <td>2.931627</td>\n",
       "      <td>46.804543</td>\n",
       "      <td>0.000078</td>\n",
       "      <td>5457.087760</td>\n",
       "      <td>1.0</td>\n",
       "      <td>449.236637</td>\n",
       "      <td>13.562854</td>\n",
       "      <td></td>\n",
       "      <td>...</td>\n",
       "      <td>inf</td>\n",
       "      <td>0</td>\n",
       "      <td>0.000885</td>\n",
       "      <td>0.000055</td>\n",
       "      <td>0.0</td>\n",
       "      <td>4.106688</td>\n",
       "      <td>0.000885</td>\n",
       "      <td>0.000055</td>\n",
       "      <td>5457.087760</td>\n",
       "      <td>230.0</td>\n",
       "    </tr>\n",
       "    <tr>\n",
       "      <th>...</th>\n",
       "      <td>...</td>\n",
       "      <td>...</td>\n",
       "      <td>...</td>\n",
       "      <td>...</td>\n",
       "      <td>...</td>\n",
       "      <td>...</td>\n",
       "      <td>...</td>\n",
       "      <td>...</td>\n",
       "      <td>...</td>\n",
       "      <td>...</td>\n",
       "      <td>...</td>\n",
       "      <td>...</td>\n",
       "      <td>...</td>\n",
       "      <td>...</td>\n",
       "      <td>...</td>\n",
       "      <td>...</td>\n",
       "      <td>...</td>\n",
       "      <td>...</td>\n",
       "      <td>...</td>\n",
       "      <td>...</td>\n",
       "      <td>...</td>\n",
       "    </tr>\n",
       "    <tr>\n",
       "      <th>165</th>\n",
       "      <td>PNM0 0</td>\n",
       "      <td>US0 0</td>\n",
       "      <td>126.981961</td>\n",
       "      <td>665.507574</td>\n",
       "      <td>0.000065</td>\n",
       "      <td>100.588851</td>\n",
       "      <td>1.0</td>\n",
       "      <td>1672.802087</td>\n",
       "      <td>0.250000</td>\n",
       "      <td></td>\n",
       "      <td>...</td>\n",
       "      <td>inf</td>\n",
       "      <td>0</td>\n",
       "      <td>0.012580</td>\n",
       "      <td>0.002400</td>\n",
       "      <td>0.0</td>\n",
       "      <td>3.414519</td>\n",
       "      <td>0.012580</td>\n",
       "      <td>0.002400</td>\n",
       "      <td>100.588851</td>\n",
       "      <td>230.0</td>\n",
       "    </tr>\n",
       "    <tr>\n",
       "      <th>166</th>\n",
       "      <td>PNM0 0</td>\n",
       "      <td>WACM0 0</td>\n",
       "      <td>3.371304</td>\n",
       "      <td>22.303651</td>\n",
       "      <td>0.000392</td>\n",
       "      <td>3175.534814</td>\n",
       "      <td>1.0</td>\n",
       "      <td>737.569625</td>\n",
       "      <td>7.975898</td>\n",
       "      <td></td>\n",
       "      <td>...</td>\n",
       "      <td>inf</td>\n",
       "      <td>0</td>\n",
       "      <td>0.000422</td>\n",
       "      <td>0.000064</td>\n",
       "      <td>0.0</td>\n",
       "      <td>20.759549</td>\n",
       "      <td>0.000422</td>\n",
       "      <td>0.000064</td>\n",
       "      <td>3175.534814</td>\n",
       "      <td>230.0</td>\n",
       "    </tr>\n",
       "    <tr>\n",
       "      <th>167</th>\n",
       "      <td>PSCO0 0</td>\n",
       "      <td>WACM0 0</td>\n",
       "      <td>0.147587</td>\n",
       "      <td>1.097048</td>\n",
       "      <td>0.000524</td>\n",
       "      <td>23894.393595</td>\n",
       "      <td>1.0</td>\n",
       "      <td>185.532779</td>\n",
       "      <td>56.527183</td>\n",
       "      <td></td>\n",
       "      <td>...</td>\n",
       "      <td>inf</td>\n",
       "      <td>0</td>\n",
       "      <td>0.000021</td>\n",
       "      <td>0.000003</td>\n",
       "      <td>0.0</td>\n",
       "      <td>27.710754</td>\n",
       "      <td>0.000021</td>\n",
       "      <td>0.000003</td>\n",
       "      <td>23894.393595</td>\n",
       "      <td>230.0</td>\n",
       "    </tr>\n",
       "    <tr>\n",
       "      <th>168</th>\n",
       "      <td>PSEI0 0</td>\n",
       "      <td>US0 0</td>\n",
       "      <td>6.884433</td>\n",
       "      <td>52.957157</td>\n",
       "      <td>0.000520</td>\n",
       "      <td>2534.839036</td>\n",
       "      <td>1.0</td>\n",
       "      <td>1205.313114</td>\n",
       "      <td>6.300000</td>\n",
       "      <td></td>\n",
       "      <td>...</td>\n",
       "      <td>inf</td>\n",
       "      <td>0</td>\n",
       "      <td>0.001001</td>\n",
       "      <td>0.000130</td>\n",
       "      <td>0.0</td>\n",
       "      <td>27.498716</td>\n",
       "      <td>0.001001</td>\n",
       "      <td>0.000130</td>\n",
       "      <td>2534.839036</td>\n",
       "      <td>230.0</td>\n",
       "    </tr>\n",
       "    <tr>\n",
       "      <th>169</th>\n",
       "      <td>TEPC0 0</td>\n",
       "      <td>US0 0</td>\n",
       "      <td>139.155744</td>\n",
       "      <td>580.228561</td>\n",
       "      <td>0.000059</td>\n",
       "      <td>100.588851</td>\n",
       "      <td>1.0</td>\n",
       "      <td>1581.089625</td>\n",
       "      <td>0.250000</td>\n",
       "      <td></td>\n",
       "      <td>...</td>\n",
       "      <td>inf</td>\n",
       "      <td>0</td>\n",
       "      <td>0.010968</td>\n",
       "      <td>0.002631</td>\n",
       "      <td>0.0</td>\n",
       "      <td>3.107813</td>\n",
       "      <td>0.010968</td>\n",
       "      <td>0.002631</td>\n",
       "      <td>100.588851</td>\n",
       "      <td>230.0</td>\n",
       "    </tr>\n",
       "  </tbody>\n",
       "</table>\n",
       "<p>169 rows × 30 columns</p>\n",
       "</div>"
      ],
      "text/plain": [
       "            bus0         bus1           r           x         b         s_nom  \\\n",
       "Line                                                                            \n",
       "1         AVA0 0      BPAT0 0    0.815803    6.873208  0.000398   9665.725271   \n",
       "2         AVA0 0      DOPD0 0    0.979313   10.528460  0.000070   6696.342400   \n",
       "3         AVA0 0      IPCO0 0    6.940746  211.460261  0.000026   4451.199253   \n",
       "4     Arizona0 0  CISO-SCE0 0    2.218679   46.061683  0.000156  14359.486266   \n",
       "5     Arizona0 0       IID0 0    2.931627   46.804543  0.000078   5457.087760   \n",
       "...          ...          ...         ...         ...       ...           ...   \n",
       "165       PNM0 0        US0 0  126.981961  665.507574  0.000065    100.588851   \n",
       "166       PNM0 0      WACM0 0    3.371304   22.303651  0.000392   3175.534814   \n",
       "167      PSCO0 0      WACM0 0    0.147587    1.097048  0.000524  23894.393595   \n",
       "168      PSEI0 0        US0 0    6.884433   52.957157  0.000520   2534.839036   \n",
       "169      TEPC0 0        US0 0  139.155744  580.228561  0.000059    100.588851   \n",
       "\n",
       "      s_max_pu       length  num_parallel type  ...  v_ang_max  sub_network  \\\n",
       "Line                                            ...                           \n",
       "1          1.0   418.235262     24.022854       ...        inf            0   \n",
       "2          1.0   230.247931     16.642854       ...        inf            0   \n",
       "3          1.0   614.940313     11.062854       ...        inf            0   \n",
       "4          1.0   690.203291     35.688563       ...        inf            0   \n",
       "5          1.0   449.236637     13.562854       ...        inf            0   \n",
       "...        ...          ...           ...  ...  ...        ...          ...   \n",
       "165        1.0  1672.802087      0.250000       ...        inf            0   \n",
       "166        1.0   737.569625      7.975898       ...        inf            0   \n",
       "167        1.0   185.532779     56.527183       ...        inf            0   \n",
       "168        1.0  1205.313114      6.300000       ...        inf            0   \n",
       "169        1.0  1581.089625      0.250000       ...        inf            0   \n",
       "\n",
       "          x_pu      r_pu  g_pu       b_pu  x_pu_eff  r_pu_eff     s_nom_opt  \\\n",
       "Line                                                                          \n",
       "1     0.000130  0.000015   0.0  21.034424  0.000130  0.000015   9665.725271   \n",
       "2     0.000199  0.000019   0.0   3.680059  0.000199  0.000019   6696.342400   \n",
       "3     0.003997  0.000131   0.0   1.366133  0.003997  0.000131   4451.199253   \n",
       "4     0.000871  0.000042   0.0   8.234615  0.000871  0.000042  14359.486266   \n",
       "5     0.000885  0.000055   0.0   4.106688  0.000885  0.000055   5457.087760   \n",
       "...        ...       ...   ...        ...       ...       ...           ...   \n",
       "165   0.012580  0.002400   0.0   3.414519  0.012580  0.002400    100.588851   \n",
       "166   0.000422  0.000064   0.0  20.759549  0.000422  0.000064   3175.534814   \n",
       "167   0.000021  0.000003   0.0  27.710754  0.000021  0.000003  23894.393595   \n",
       "168   0.001001  0.000130   0.0  27.498716  0.001001  0.000130   2534.839036   \n",
       "169   0.010968  0.002631   0.0   3.107813  0.010968  0.002631    100.588851   \n",
       "\n",
       "      v_nom  \n",
       "Line         \n",
       "1     230.0  \n",
       "2     230.0  \n",
       "3     230.0  \n",
       "4     230.0  \n",
       "5     230.0  \n",
       "...     ...  \n",
       "165   230.0  \n",
       "166   230.0  \n",
       "167   230.0  \n",
       "168   230.0  \n",
       "169   230.0  \n",
       "\n",
       "[169 rows x 30 columns]"
      ]
     },
     "execution_count": 49,
     "metadata": {},
     "output_type": "execute_result"
    }
   ],
   "source": [
    "network.lines"
   ]
  },
  {
   "cell_type": "code",
   "execution_count": 274,
   "metadata": {},
   "outputs": [],
   "source": [
    "network.line_types.loc[\"Rail\"] = pd.Series(\n",
    "    [60, 0.0683, 0.335, 15, 1.01],\n",
    "    index=[\"f_nom\", \"r_per_length\", \"x_per_length\", \"c_per_length\", \"i_nom\"],\n",
    "    )\n",
    "\n",
    "# network.remove(\"Line\", \"New_HVAC\")\n",
    "# network.remove(\"Link\", \"New_HVDC\")\n",
    "# network.remove(\"Generator\", \"Humboldt_OSW\")"
   ]
  },
  {
   "cell_type": "code",
   "execution_count": 268,
   "metadata": {},
   "outputs": [
    {
     "name": "stderr",
     "output_type": "stream",
     "text": [
      "WARNING:pypsa.components:Line has no attribute v_nom, ignoring this passed value.\n"
     ]
    }
   ],
   "source": [
    "network.add(\"Line\", \"New_HVAC\", bus0=\"CISO-PGAE0 13\", bus1=\"CISO-PGAE0 16\",\n",
    "            r=0.815803, x=6.873208, b=0.000398 ,s_nom=536.51,length=400, \n",
    "            type=\"Rail\",v_nom=230,\n",
    "            x_pu= 0.000725,\n",
    "            r_pu= 0.000085,\n",
    "            g_pu= 0.0,\n",
    "            b_pu= 7.557957,\n",
    "            x_pu_eff= 0.000725,\n",
    "            r_pu_eff= 0.000085,\n",
    "            s_nom_opt= 2100.295202,\n",
    "            )"
   ]
  },
  {
   "cell_type": "code",
   "execution_count": 269,
   "metadata": {},
   "outputs": [],
   "source": [
    "# NB: for a lossless bi-directional HVDC or transport link, set p_min_pu = -1 and efficiency = 1. NB: It is assumed that the links neither produce nor consume reactive power.\n",
    "network.add(\"Link\", \"New_HVDC\", bus0=\"CISO-PGAE0 13\", bus1=\"CISO-PGAE0 8\",type=\"HVDC_VSC\", carrier = \"DC\",\n",
    "            efficiency=1,\n",
    "            p_nom=100,\n",
    "            p_min_pu=-1,\n",
    "            )"
   ]
  },
  {
   "cell_type": "code",
   "execution_count": 279,
   "metadata": {},
   "outputs": [],
   "source": [
    "network.add(\"Generator\", \"Humboldt_OSW2\", bus= \"CISO-PGAE0 13\", carrier=\"wind\",\n",
    "            p_nom=1000,\n",
    "            marginal_cost=0,\n",
    "            p_max_pu=1,\n",
    "            )"
   ]
  },
  {
   "cell_type": "code",
   "execution_count": 277,
   "metadata": {},
   "outputs": [
    {
     "data": {
      "text/html": [
       "<div>\n",
       "<style scoped>\n",
       "    .dataframe tbody tr th:only-of-type {\n",
       "        vertical-align: middle;\n",
       "    }\n",
       "\n",
       "    .dataframe tbody tr th {\n",
       "        vertical-align: top;\n",
       "    }\n",
       "\n",
       "    .dataframe thead th {\n",
       "        text-align: right;\n",
       "    }\n",
       "</style>\n",
       "<table border=\"1\" class=\"dataframe\">\n",
       "  <thead>\n",
       "    <tr style=\"text-align: right;\">\n",
       "      <th></th>\n",
       "      <th>weight</th>\n",
       "      <th>p_nom</th>\n",
       "      <th>capital_cost</th>\n",
       "      <th>efficiency</th>\n",
       "      <th>p_nom_min</th>\n",
       "      <th>marginal_cost</th>\n",
       "      <th>p_nom_extendable</th>\n",
       "      <th>bus</th>\n",
       "      <th>carrier</th>\n",
       "      <th>control</th>\n",
       "      <th>...</th>\n",
       "      <th>start_up_cost</th>\n",
       "      <th>shut_down_cost</th>\n",
       "      <th>min_up_time</th>\n",
       "      <th>min_down_time</th>\n",
       "      <th>up_time_before</th>\n",
       "      <th>down_time_before</th>\n",
       "      <th>ramp_limit_up</th>\n",
       "      <th>ramp_limit_down</th>\n",
       "      <th>ramp_limit_start_up</th>\n",
       "      <th>ramp_limit_shut_down</th>\n",
       "    </tr>\n",
       "    <tr>\n",
       "      <th>Generator</th>\n",
       "      <th></th>\n",
       "      <th></th>\n",
       "      <th></th>\n",
       "      <th></th>\n",
       "      <th></th>\n",
       "      <th></th>\n",
       "      <th></th>\n",
       "      <th></th>\n",
       "      <th></th>\n",
       "      <th></th>\n",
       "      <th></th>\n",
       "      <th></th>\n",
       "      <th></th>\n",
       "      <th></th>\n",
       "      <th></th>\n",
       "      <th></th>\n",
       "      <th></th>\n",
       "      <th></th>\n",
       "      <th></th>\n",
       "      <th></th>\n",
       "      <th></th>\n",
       "    </tr>\n",
       "  </thead>\n",
       "  <tbody>\n",
       "    <tr>\n",
       "      <th>AVA0 0 hydro</th>\n",
       "      <td>35.0</td>\n",
       "      <td>2386.29</td>\n",
       "      <td>177345.216619</td>\n",
       "      <td>0.90</td>\n",
       "      <td>2386.29</td>\n",
       "      <td>0.000000</td>\n",
       "      <td>False</td>\n",
       "      <td>AVA0 0</td>\n",
       "      <td>hydro</td>\n",
       "      <td>Slack</td>\n",
       "      <td>...</td>\n",
       "      <td>0.0</td>\n",
       "      <td>0.0</td>\n",
       "      <td>0</td>\n",
       "      <td>0</td>\n",
       "      <td>1</td>\n",
       "      <td>0</td>\n",
       "      <td>NaN</td>\n",
       "      <td>NaN</td>\n",
       "      <td>1.0</td>\n",
       "      <td>1.0</td>\n",
       "    </tr>\n",
       "    <tr>\n",
       "      <th>AVA0 0 ng</th>\n",
       "      <td>6.0</td>\n",
       "      <td>555.70</td>\n",
       "      <td>0.000000</td>\n",
       "      <td>0.41</td>\n",
       "      <td>0.00</td>\n",
       "      <td>27.588816</td>\n",
       "      <td>False</td>\n",
       "      <td>AVA0 0</td>\n",
       "      <td>ng</td>\n",
       "      <td></td>\n",
       "      <td>...</td>\n",
       "      <td>0.0</td>\n",
       "      <td>0.0</td>\n",
       "      <td>0</td>\n",
       "      <td>0</td>\n",
       "      <td>1</td>\n",
       "      <td>0</td>\n",
       "      <td>NaN</td>\n",
       "      <td>NaN</td>\n",
       "      <td>1.0</td>\n",
       "      <td>1.0</td>\n",
       "    </tr>\n",
       "    <tr>\n",
       "      <th>AVA0 0 solar</th>\n",
       "      <td>2.0</td>\n",
       "      <td>57.90</td>\n",
       "      <td>35602.071244</td>\n",
       "      <td>1.00</td>\n",
       "      <td>57.90</td>\n",
       "      <td>0.000000</td>\n",
       "      <td>True</td>\n",
       "      <td>AVA0 0</td>\n",
       "      <td>solar</td>\n",
       "      <td></td>\n",
       "      <td>...</td>\n",
       "      <td>0.0</td>\n",
       "      <td>0.0</td>\n",
       "      <td>0</td>\n",
       "      <td>0</td>\n",
       "      <td>1</td>\n",
       "      <td>0</td>\n",
       "      <td>NaN</td>\n",
       "      <td>NaN</td>\n",
       "      <td>1.0</td>\n",
       "      <td>1.0</td>\n",
       "    </tr>\n",
       "    <tr>\n",
       "      <th>AVA0 0 wind</th>\n",
       "      <td>1.0</td>\n",
       "      <td>105.30</td>\n",
       "      <td>96085.888020</td>\n",
       "      <td>1.00</td>\n",
       "      <td>105.30</td>\n",
       "      <td>0.000000</td>\n",
       "      <td>True</td>\n",
       "      <td>AVA0 0</td>\n",
       "      <td>wind</td>\n",
       "      <td></td>\n",
       "      <td>...</td>\n",
       "      <td>0.0</td>\n",
       "      <td>0.0</td>\n",
       "      <td>0</td>\n",
       "      <td>0</td>\n",
       "      <td>1</td>\n",
       "      <td>0</td>\n",
       "      <td>NaN</td>\n",
       "      <td>NaN</td>\n",
       "      <td>1.0</td>\n",
       "      <td>1.0</td>\n",
       "    </tr>\n",
       "    <tr>\n",
       "      <th>Arizona0 0 coal</th>\n",
       "      <td>13.0</td>\n",
       "      <td>6125.70</td>\n",
       "      <td>0.000000</td>\n",
       "      <td>0.33</td>\n",
       "      <td>0.00</td>\n",
       "      <td>26.010908</td>\n",
       "      <td>False</td>\n",
       "      <td>Arizona0 0</td>\n",
       "      <td>coal</td>\n",
       "      <td></td>\n",
       "      <td>...</td>\n",
       "      <td>0.0</td>\n",
       "      <td>0.0</td>\n",
       "      <td>0</td>\n",
       "      <td>0</td>\n",
       "      <td>1</td>\n",
       "      <td>0</td>\n",
       "      <td>NaN</td>\n",
       "      <td>NaN</td>\n",
       "      <td>1.0</td>\n",
       "      <td>1.0</td>\n",
       "    </tr>\n",
       "    <tr>\n",
       "      <th>...</th>\n",
       "      <td>...</td>\n",
       "      <td>...</td>\n",
       "      <td>...</td>\n",
       "      <td>...</td>\n",
       "      <td>...</td>\n",
       "      <td>...</td>\n",
       "      <td>...</td>\n",
       "      <td>...</td>\n",
       "      <td>...</td>\n",
       "      <td>...</td>\n",
       "      <td>...</td>\n",
       "      <td>...</td>\n",
       "      <td>...</td>\n",
       "      <td>...</td>\n",
       "      <td>...</td>\n",
       "      <td>...</td>\n",
       "      <td>...</td>\n",
       "      <td>...</td>\n",
       "      <td>...</td>\n",
       "      <td>...</td>\n",
       "      <td>...</td>\n",
       "    </tr>\n",
       "    <tr>\n",
       "      <th>WACM0 0 hydro</th>\n",
       "      <td>30.0</td>\n",
       "      <td>906.30</td>\n",
       "      <td>177345.216619</td>\n",
       "      <td>0.90</td>\n",
       "      <td>906.30</td>\n",
       "      <td>0.000000</td>\n",
       "      <td>False</td>\n",
       "      <td>WACM0 0</td>\n",
       "      <td>hydro</td>\n",
       "      <td></td>\n",
       "      <td>...</td>\n",
       "      <td>0.0</td>\n",
       "      <td>0.0</td>\n",
       "      <td>0</td>\n",
       "      <td>0</td>\n",
       "      <td>1</td>\n",
       "      <td>0</td>\n",
       "      <td>NaN</td>\n",
       "      <td>NaN</td>\n",
       "      <td>1.0</td>\n",
       "      <td>1.0</td>\n",
       "    </tr>\n",
       "    <tr>\n",
       "      <th>WACM0 0 ng</th>\n",
       "      <td>19.0</td>\n",
       "      <td>358.09</td>\n",
       "      <td>0.000000</td>\n",
       "      <td>0.41</td>\n",
       "      <td>0.00</td>\n",
       "      <td>28.456748</td>\n",
       "      <td>False</td>\n",
       "      <td>WACM0 0</td>\n",
       "      <td>ng</td>\n",
       "      <td></td>\n",
       "      <td>...</td>\n",
       "      <td>0.0</td>\n",
       "      <td>0.0</td>\n",
       "      <td>0</td>\n",
       "      <td>0</td>\n",
       "      <td>1</td>\n",
       "      <td>0</td>\n",
       "      <td>NaN</td>\n",
       "      <td>NaN</td>\n",
       "      <td>1.0</td>\n",
       "      <td>1.0</td>\n",
       "    </tr>\n",
       "    <tr>\n",
       "      <th>WACM0 0 wind</th>\n",
       "      <td>21.0</td>\n",
       "      <td>1636.80</td>\n",
       "      <td>96085.888020</td>\n",
       "      <td>1.00</td>\n",
       "      <td>1636.80</td>\n",
       "      <td>0.000000</td>\n",
       "      <td>True</td>\n",
       "      <td>WACM0 0</td>\n",
       "      <td>wind</td>\n",
       "      <td></td>\n",
       "      <td>...</td>\n",
       "      <td>0.0</td>\n",
       "      <td>0.0</td>\n",
       "      <td>0</td>\n",
       "      <td>0</td>\n",
       "      <td>1</td>\n",
       "      <td>0</td>\n",
       "      <td>NaN</td>\n",
       "      <td>NaN</td>\n",
       "      <td>1.0</td>\n",
       "      <td>1.0</td>\n",
       "    </tr>\n",
       "    <tr>\n",
       "      <th>WALC0 0 hydro</th>\n",
       "      <td>4.0</td>\n",
       "      <td>120.00</td>\n",
       "      <td>177345.216619</td>\n",
       "      <td>0.90</td>\n",
       "      <td>120.00</td>\n",
       "      <td>0.000000</td>\n",
       "      <td>False</td>\n",
       "      <td>WALC0 0</td>\n",
       "      <td>hydro</td>\n",
       "      <td></td>\n",
       "      <td>...</td>\n",
       "      <td>0.0</td>\n",
       "      <td>0.0</td>\n",
       "      <td>0</td>\n",
       "      <td>0</td>\n",
       "      <td>1</td>\n",
       "      <td>0</td>\n",
       "      <td>NaN</td>\n",
       "      <td>NaN</td>\n",
       "      <td>1.0</td>\n",
       "      <td>1.0</td>\n",
       "    </tr>\n",
       "    <tr>\n",
       "      <th>Humboldt_OSW</th>\n",
       "      <td>NaN</td>\n",
       "      <td>1000.00</td>\n",
       "      <td>0.000000</td>\n",
       "      <td>1.00</td>\n",
       "      <td>0.00</td>\n",
       "      <td>0.000000</td>\n",
       "      <td>False</td>\n",
       "      <td>Humboldt0 0</td>\n",
       "      <td>wind</td>\n",
       "      <td>PQ</td>\n",
       "      <td>...</td>\n",
       "      <td>0.0</td>\n",
       "      <td>0.0</td>\n",
       "      <td>0</td>\n",
       "      <td>0</td>\n",
       "      <td>1</td>\n",
       "      <td>0</td>\n",
       "      <td>NaN</td>\n",
       "      <td>NaN</td>\n",
       "      <td>1.0</td>\n",
       "      <td>1.0</td>\n",
       "    </tr>\n",
       "  </tbody>\n",
       "</table>\n",
       "<p>149 rows × 31 columns</p>\n",
       "</div>"
      ],
      "text/plain": [
       "                 weight    p_nom   capital_cost  efficiency  p_nom_min  \\\n",
       "Generator                                                                \n",
       "AVA0 0 hydro       35.0  2386.29  177345.216619        0.90    2386.29   \n",
       "AVA0 0 ng           6.0   555.70       0.000000        0.41       0.00   \n",
       "AVA0 0 solar        2.0    57.90   35602.071244        1.00      57.90   \n",
       "AVA0 0 wind         1.0   105.30   96085.888020        1.00     105.30   \n",
       "Arizona0 0 coal    13.0  6125.70       0.000000        0.33       0.00   \n",
       "...                 ...      ...            ...         ...        ...   \n",
       "WACM0 0 hydro      30.0   906.30  177345.216619        0.90     906.30   \n",
       "WACM0 0 ng         19.0   358.09       0.000000        0.41       0.00   \n",
       "WACM0 0 wind       21.0  1636.80   96085.888020        1.00    1636.80   \n",
       "WALC0 0 hydro       4.0   120.00  177345.216619        0.90     120.00   \n",
       "Humboldt_OSW        NaN  1000.00       0.000000        1.00       0.00   \n",
       "\n",
       "                 marginal_cost  p_nom_extendable          bus carrier control  \\\n",
       "Generator                                                                       \n",
       "AVA0 0 hydro          0.000000             False       AVA0 0   hydro   Slack   \n",
       "AVA0 0 ng            27.588816             False       AVA0 0      ng           \n",
       "AVA0 0 solar          0.000000              True       AVA0 0   solar           \n",
       "AVA0 0 wind           0.000000              True       AVA0 0    wind           \n",
       "Arizona0 0 coal      26.010908             False   Arizona0 0    coal           \n",
       "...                        ...               ...          ...     ...     ...   \n",
       "WACM0 0 hydro         0.000000             False      WACM0 0   hydro           \n",
       "WACM0 0 ng           28.456748             False      WACM0 0      ng           \n",
       "WACM0 0 wind          0.000000              True      WACM0 0    wind           \n",
       "WALC0 0 hydro         0.000000             False      WALC0 0   hydro           \n",
       "Humboldt_OSW          0.000000             False  Humboldt0 0    wind      PQ   \n",
       "\n",
       "                 ...  start_up_cost shut_down_cost  min_up_time  \\\n",
       "Generator        ...                                              \n",
       "AVA0 0 hydro     ...            0.0            0.0            0   \n",
       "AVA0 0 ng        ...            0.0            0.0            0   \n",
       "AVA0 0 solar     ...            0.0            0.0            0   \n",
       "AVA0 0 wind      ...            0.0            0.0            0   \n",
       "Arizona0 0 coal  ...            0.0            0.0            0   \n",
       "...              ...            ...            ...          ...   \n",
       "WACM0 0 hydro    ...            0.0            0.0            0   \n",
       "WACM0 0 ng       ...            0.0            0.0            0   \n",
       "WACM0 0 wind     ...            0.0            0.0            0   \n",
       "WALC0 0 hydro    ...            0.0            0.0            0   \n",
       "Humboldt_OSW     ...            0.0            0.0            0   \n",
       "\n",
       "                 min_down_time  up_time_before  down_time_before  \\\n",
       "Generator                                                          \n",
       "AVA0 0 hydro                 0               1                 0   \n",
       "AVA0 0 ng                    0               1                 0   \n",
       "AVA0 0 solar                 0               1                 0   \n",
       "AVA0 0 wind                  0               1                 0   \n",
       "Arizona0 0 coal              0               1                 0   \n",
       "...                        ...             ...               ...   \n",
       "WACM0 0 hydro                0               1                 0   \n",
       "WACM0 0 ng                   0               1                 0   \n",
       "WACM0 0 wind                 0               1                 0   \n",
       "WALC0 0 hydro                0               1                 0   \n",
       "Humboldt_OSW                 0               1                 0   \n",
       "\n",
       "                 ramp_limit_up  ramp_limit_down  ramp_limit_start_up  \\\n",
       "Generator                                                              \n",
       "AVA0 0 hydro               NaN              NaN                  1.0   \n",
       "AVA0 0 ng                  NaN              NaN                  1.0   \n",
       "AVA0 0 solar               NaN              NaN                  1.0   \n",
       "AVA0 0 wind                NaN              NaN                  1.0   \n",
       "Arizona0 0 coal            NaN              NaN                  1.0   \n",
       "...                        ...              ...                  ...   \n",
       "WACM0 0 hydro              NaN              NaN                  1.0   \n",
       "WACM0 0 ng                 NaN              NaN                  1.0   \n",
       "WACM0 0 wind               NaN              NaN                  1.0   \n",
       "WALC0 0 hydro              NaN              NaN                  1.0   \n",
       "Humboldt_OSW               NaN              NaN                  1.0   \n",
       "\n",
       "                 ramp_limit_shut_down  \n",
       "Generator                              \n",
       "AVA0 0 hydro                      1.0  \n",
       "AVA0 0 ng                         1.0  \n",
       "AVA0 0 solar                      1.0  \n",
       "AVA0 0 wind                       1.0  \n",
       "Arizona0 0 coal                   1.0  \n",
       "...                               ...  \n",
       "WACM0 0 hydro                     1.0  \n",
       "WACM0 0 ng                        1.0  \n",
       "WACM0 0 wind                      1.0  \n",
       "WALC0 0 hydro                     1.0  \n",
       "Humboldt_OSW                      1.0  \n",
       "\n",
       "[149 rows x 31 columns]"
      ]
     },
     "execution_count": 277,
     "metadata": {},
     "output_type": "execute_result"
    }
   ],
   "source": [
    "network.generators"
   ]
  },
  {
   "attachments": {},
   "cell_type": "markdown",
   "metadata": {},
   "source": [
    "## Re-running simulation"
   ]
  },
  {
   "cell_type": "code",
   "execution_count": 280,
   "metadata": {},
   "outputs": [
    {
     "name": "stderr",
     "output_type": "stream",
     "text": [
      "INFO:pypsa.linopf:Prepare linear problem\n",
      "/Users/kamrantehranchi/opt/miniconda3/envs/pypsa-usa/lib/python3.10/site-packages/pypsa/linopt.py:473: FutureWarning:\n",
      "\n",
      "In a future version, `df.iloc[:, i] = newvals` will attempt to set the values inplace instead of always setting a new array. To retain the old behavior, use either `df[df.columns[i]] = newvals` or, if columns are non-unique, `df.isetitem(i, newvals)`\n",
      "\n",
      "/Users/kamrantehranchi/opt/miniconda3/envs/pypsa-usa/lib/python3.10/site-packages/pypsa/linopt.py:473: FutureWarning:\n",
      "\n",
      "In a future version, `df.iloc[:, i] = newvals` will attempt to set the values inplace instead of always setting a new array. To retain the old behavior, use either `df[df.columns[i]] = newvals` or, if columns are non-unique, `df.isetitem(i, newvals)`\n",
      "\n",
      "INFO:pypsa.linopf:Total preparation time: 0.91s\n",
      "INFO:pypsa.linopf:Solve linear problem using Gurobi solver\n"
     ]
    },
    {
     "name": "stdout",
     "output_type": "stream",
     "text": [
      "Read LP format model from file /var/folders/00/vqry7y9s78q3rvf_m_jmk_bc0000gn/T/pypsa-problem-wyyqlex7.lp\n",
      "Reading time = 0.24 seconds\n",
      "obj: 137592 rows, 54485 columns, 283696 nonzeros\n",
      "Gurobi Optimizer version 10.0.0 build v10.0.0rc2 (mac64[x86])\n",
      "\n",
      "CPU model: Intel(R) Core(TM) i7-1068NG7 CPU @ 2.30GHz\n",
      "Thread count: 4 physical cores, 8 logical processors, using up to 8 threads\n",
      "\n",
      "Optimize a model with 137592 rows, 54485 columns and 283696 nonzeros\n",
      "Model fingerprint: 0x91a835fd\n",
      "Coefficient statistics:\n",
      "  Matrix range     [2e-06, 1e+03]\n",
      "  Objective range  [1e+00, 2e+05]\n",
      "  Bounds range     [1e+00, 3e+09]\n",
      "  RHS range        [1e+00, 6e+04]\n",
      "Warning: Model contains large bounds\n",
      "         Consider reformulating model or setting NumericFocus parameter\n",
      "         to avoid numerical issues.\n",
      "Presolve removed 114413 rows and 15069 columns\n",
      "Presolve time: 0.19s\n",
      "Presolved: 23179 rows, 39416 columns, 161229 nonzeros\n",
      "\n",
      "Concurrent LP optimizer: dual simplex and barrier\n",
      "Showing barrier log only...\n",
      "\n",
      "Ordering time: 0.25s\n",
      "\n",
      "Barrier statistics:\n",
      " Dense cols : 19\n",
      " AA' NZ     : 3.365e+05\n",
      " Factor NZ  : 1.906e+06 (roughly 40 MB of memory)\n",
      " Factor Ops : 1.020e+09 (less than 1 second per iteration)\n",
      " Threads    : 3\n",
      "\n",
      "                  Objective                Residual\n",
      "Iter       Primal          Dual         Primal    Dual     Compl     Time\n",
      "   0   6.01225868e+13 -1.14836722e+13  3.15e+07 1.77e-12  7.98e+10     1s\n",
      "   1   5.64659638e+13 -1.14724101e+13  4.66e+06 4.12e+03  1.25e+10     1s\n",
      "   2   1.38850275e+13 -1.01015576e+13  3.67e+05 6.78e+01  1.15e+09     1s\n",
      "   3   1.32156205e+12 -5.15376279e+12  3.04e+04 8.85e-09  1.40e+08     1s\n",
      "   4   1.57656274e+11 -1.27558171e+12  2.52e+03 8.85e-09  2.03e+07     1s\n",
      "   5   3.69717846e+10 -1.87804531e+11  3.26e+02 2.21e-09  2.84e+06     1s\n",
      "   6   1.21141525e+10 -4.37374893e+10  8.12e+01 9.31e-10  6.82e+05     1s\n",
      "   7   3.04203055e+09 -1.65889333e+10  1.92e+01 4.66e-09  2.36e+05     1s\n",
      "   8   1.26981024e+09 -2.36144407e+09  7.51e+00 3.26e-09  4.37e+04     2s\n",
      "   9   6.13107640e+08 -6.73424443e+08  3.25e+00 9.78e-09  1.54e+04     2s\n",
      "  10   3.87154206e+08  2.94020170e+07  1.33e+00 2.44e-09  4.29e+03     2s\n",
      "  11   2.58312194e+08  1.70106009e+08  2.57e-01 1.69e-09  1.05e+03     2s\n",
      "  12   2.31988788e+08  2.11137358e+08  5.75e-02 6.52e-09  2.49e+02     2s\n",
      "  13   2.24056306e+08  2.16187720e+08  1.92e-02 4.19e-09  9.38e+01     2s\n",
      "  14   2.21348647e+08  2.18444576e+08  6.72e-03 1.30e-08  3.46e+01     2s\n",
      "  15   2.20123399e+08  2.19317634e+08  1.50e-03 1.07e-08  9.60e+00     2s\n",
      "  16   2.19772275e+08  2.19621826e+08  1.36e-04 6.29e-09  1.79e+00     2s\n",
      "  17   2.19730849e+08  2.19716877e+08  1.02e-05 5.82e-10  1.66e-01     2s\n",
      "  18   2.19726498e+08  2.19725590e+08  5.73e-07 2.62e-10  1.08e-02     2s\n",
      "  19   2.19726236e+08  2.19726198e+08  2.11e-07 2.33e-10  4.48e-04     2s\n",
      "  20   2.19726226e+08  2.19726225e+08  3.88e-09 4.66e-10  3.92e-06     2s\n",
      "  21   2.19726225e+08  2.19726225e+08  1.16e-10 1.16e-10  3.92e-09     2s\n",
      "\n",
      "Barrier solved model in 21 iterations and 2.40 seconds (1.62 work units)\n",
      "Optimal objective 2.19726225e+08\n",
      "\n",
      "Crossover log...\n",
      "\n",
      "     802 DPushes remaining with DInf 0.0000000e+00                 2s\n",
      "       0 DPushes remaining with DInf 0.0000000e+00                 3s\n",
      "\n",
      "      36 PPushes remaining with PInf 0.0000000e+00                 3s\n",
      "       0 PPushes remaining with PInf 0.0000000e+00                 3s\n",
      "\n",
      "  Push phase complete: Pinf 0.0000000e+00, Dinf 1.1518707e-10      3s\n",
      "\n",
      "\n",
      "Solved with barrier\n",
      "Iteration    Objective       Primal Inf.    Dual Inf.      Time\n",
      "     841    2.1972623e+08   0.000000e+00   0.000000e+00      3s\n",
      "\n",
      "Solved in 841 iterations and 2.94 seconds (1.97 work units)\n",
      "Optimal objective  2.197262255e+08\n"
     ]
    },
    {
     "name": "stderr",
     "output_type": "stream",
     "text": [
      "INFO:pypsa.linopf:Optimization successful. Objective value: 2.20e+08\n"
     ]
    },
    {
     "data": {
      "text/plain": [
       "('ok', 'optimal')"
      ]
     },
     "execution_count": 280,
     "metadata": {},
     "output_type": "execute_result"
    }
   ],
   "source": [
    "simulation_hours = 168\n",
    "network.lopf(network.snapshots[0:simulation_hours], solver_name=\"gurobi\")"
   ]
  },
  {
   "cell_type": "code",
   "execution_count": 281,
   "metadata": {},
   "outputs": [
    {
     "data": {
      "text/plain": [
       "219726225.53680354"
      ]
     },
     "execution_count": 281,
     "metadata": {},
     "output_type": "execute_result"
    }
   ],
   "source": [
    "operation_costs = network.generators.marginal_cost * generation_ts\n",
    "operation_costs.sum(axis=1).sum()"
   ]
  },
  {
   "attachments": {},
   "cell_type": "markdown",
   "metadata": {},
   "source": [
    "## Examining Original BE Network"
   ]
  },
  {
   "cell_type": "code",
   "execution_count": 173,
   "metadata": {},
   "outputs": [
    {
     "name": "stderr",
     "output_type": "stream",
     "text": [
      "INFO:pypsa.io:Imported network elec.nc has buses, carriers, generators, lines, line_types, links, loads, transformers\n"
     ]
    }
   ],
   "source": [
    "BE_network='/Users/kamrantehranchi/Library/CloudStorage/OneDrive-Stanford/Kamran_OSW/PyPSA_Models/pypsa-breakthroughenergy-usa/workflow/resources/western/elec.nc'\n",
    "network_original = pypsa.Network(BE_network)"
   ]
  },
  {
   "cell_type": "code",
   "execution_count": 176,
   "metadata": {},
   "outputs": [
    {
     "data": {
      "text/html": [
       "<div>\n",
       "<style scoped>\n",
       "    .dataframe tbody tr th:only-of-type {\n",
       "        vertical-align: middle;\n",
       "    }\n",
       "\n",
       "    .dataframe tbody tr th {\n",
       "        vertical-align: top;\n",
       "    }\n",
       "\n",
       "    .dataframe thead th {\n",
       "        text-align: right;\n",
       "    }\n",
       "</style>\n",
       "<table border=\"1\" class=\"dataframe\">\n",
       "  <thead>\n",
       "    <tr style=\"text-align: right;\">\n",
       "      <th></th>\n",
       "      <th>Pd</th>\n",
       "      <th>v_nom</th>\n",
       "      <th>zone_id</th>\n",
       "      <th>type</th>\n",
       "      <th>x</th>\n",
       "      <th>y</th>\n",
       "      <th>carrier</th>\n",
       "      <th>unit</th>\n",
       "      <th>v_mag_pu_set</th>\n",
       "      <th>v_mag_pu_min</th>\n",
       "      <th>v_mag_pu_max</th>\n",
       "      <th>control</th>\n",
       "      <th>sub_network</th>\n",
       "    </tr>\n",
       "    <tr>\n",
       "      <th>Bus</th>\n",
       "      <th></th>\n",
       "      <th></th>\n",
       "      <th></th>\n",
       "      <th></th>\n",
       "      <th></th>\n",
       "      <th></th>\n",
       "      <th></th>\n",
       "      <th></th>\n",
       "      <th></th>\n",
       "      <th></th>\n",
       "      <th></th>\n",
       "      <th></th>\n",
       "      <th></th>\n",
       "    </tr>\n",
       "  </thead>\n",
       "  <tbody>\n",
       "    <tr>\n",
       "      <th>2010001</th>\n",
       "      <td>9.64</td>\n",
       "      <td>138.0</td>\n",
       "      <td>201</td>\n",
       "      <td></td>\n",
       "      <td>0.0</td>\n",
       "      <td>0.0</td>\n",
       "      <td>AC</td>\n",
       "      <td>None</td>\n",
       "      <td>1.0</td>\n",
       "      <td>0.0</td>\n",
       "      <td>inf</td>\n",
       "      <td>PQ</td>\n",
       "      <td></td>\n",
       "    </tr>\n",
       "    <tr>\n",
       "      <th>2010002</th>\n",
       "      <td>15.98</td>\n",
       "      <td>138.0</td>\n",
       "      <td>201</td>\n",
       "      <td></td>\n",
       "      <td>0.0</td>\n",
       "      <td>0.0</td>\n",
       "      <td>AC</td>\n",
       "      <td>None</td>\n",
       "      <td>1.0</td>\n",
       "      <td>0.0</td>\n",
       "      <td>inf</td>\n",
       "      <td>PQ</td>\n",
       "      <td></td>\n",
       "    </tr>\n",
       "    <tr>\n",
       "      <th>2010003</th>\n",
       "      <td>14.39</td>\n",
       "      <td>138.0</td>\n",
       "      <td>201</td>\n",
       "      <td></td>\n",
       "      <td>0.0</td>\n",
       "      <td>0.0</td>\n",
       "      <td>AC</td>\n",
       "      <td>None</td>\n",
       "      <td>1.0</td>\n",
       "      <td>0.0</td>\n",
       "      <td>inf</td>\n",
       "      <td>PQ</td>\n",
       "      <td></td>\n",
       "    </tr>\n",
       "    <tr>\n",
       "      <th>2010004</th>\n",
       "      <td>0.00</td>\n",
       "      <td>138.0</td>\n",
       "      <td>201</td>\n",
       "      <td></td>\n",
       "      <td>0.0</td>\n",
       "      <td>0.0</td>\n",
       "      <td>AC</td>\n",
       "      <td>None</td>\n",
       "      <td>1.0</td>\n",
       "      <td>0.0</td>\n",
       "      <td>inf</td>\n",
       "      <td>PQ</td>\n",
       "      <td></td>\n",
       "    </tr>\n",
       "    <tr>\n",
       "      <th>2010005</th>\n",
       "      <td>10.45</td>\n",
       "      <td>138.0</td>\n",
       "      <td>201</td>\n",
       "      <td></td>\n",
       "      <td>0.0</td>\n",
       "      <td>0.0</td>\n",
       "      <td>AC</td>\n",
       "      <td>None</td>\n",
       "      <td>1.0</td>\n",
       "      <td>0.0</td>\n",
       "      <td>inf</td>\n",
       "      <td>PQ</td>\n",
       "      <td></td>\n",
       "    </tr>\n",
       "    <tr>\n",
       "      <th>...</th>\n",
       "      <td>...</td>\n",
       "      <td>...</td>\n",
       "      <td>...</td>\n",
       "      <td>...</td>\n",
       "      <td>...</td>\n",
       "      <td>...</td>\n",
       "      <td>...</td>\n",
       "      <td>...</td>\n",
       "      <td>...</td>\n",
       "      <td>...</td>\n",
       "      <td>...</td>\n",
       "      <td>...</td>\n",
       "      <td>...</td>\n",
       "    </tr>\n",
       "    <tr>\n",
       "      <th>2090019</th>\n",
       "      <td>0.00</td>\n",
       "      <td>138.0</td>\n",
       "      <td>202</td>\n",
       "      <td></td>\n",
       "      <td>0.0</td>\n",
       "      <td>0.0</td>\n",
       "      <td>AC</td>\n",
       "      <td>None</td>\n",
       "      <td>1.0</td>\n",
       "      <td>0.0</td>\n",
       "      <td>inf</td>\n",
       "      <td>PQ</td>\n",
       "      <td></td>\n",
       "    </tr>\n",
       "    <tr>\n",
       "      <th>2090020</th>\n",
       "      <td>0.00</td>\n",
       "      <td>138.0</td>\n",
       "      <td>201</td>\n",
       "      <td></td>\n",
       "      <td>0.0</td>\n",
       "      <td>0.0</td>\n",
       "      <td>AC</td>\n",
       "      <td>None</td>\n",
       "      <td>1.0</td>\n",
       "      <td>0.0</td>\n",
       "      <td>inf</td>\n",
       "      <td>PQ</td>\n",
       "      <td></td>\n",
       "    </tr>\n",
       "    <tr>\n",
       "      <th>2090021</th>\n",
       "      <td>0.00</td>\n",
       "      <td>138.0</td>\n",
       "      <td>201</td>\n",
       "      <td></td>\n",
       "      <td>0.0</td>\n",
       "      <td>0.0</td>\n",
       "      <td>AC</td>\n",
       "      <td>None</td>\n",
       "      <td>1.0</td>\n",
       "      <td>0.0</td>\n",
       "      <td>inf</td>\n",
       "      <td>PQ</td>\n",
       "      <td></td>\n",
       "    </tr>\n",
       "    <tr>\n",
       "      <th>2090022</th>\n",
       "      <td>0.00</td>\n",
       "      <td>138.0</td>\n",
       "      <td>201</td>\n",
       "      <td></td>\n",
       "      <td>0.0</td>\n",
       "      <td>0.0</td>\n",
       "      <td>AC</td>\n",
       "      <td>None</td>\n",
       "      <td>1.0</td>\n",
       "      <td>0.0</td>\n",
       "      <td>inf</td>\n",
       "      <td>PQ</td>\n",
       "      <td></td>\n",
       "    </tr>\n",
       "    <tr>\n",
       "      <th>2090023</th>\n",
       "      <td>0.00</td>\n",
       "      <td>138.0</td>\n",
       "      <td>201</td>\n",
       "      <td></td>\n",
       "      <td>0.0</td>\n",
       "      <td>0.0</td>\n",
       "      <td>AC</td>\n",
       "      <td>None</td>\n",
       "      <td>1.0</td>\n",
       "      <td>0.0</td>\n",
       "      <td>inf</td>\n",
       "      <td>PQ</td>\n",
       "      <td></td>\n",
       "    </tr>\n",
       "  </tbody>\n",
       "</table>\n",
       "<p>10024 rows × 13 columns</p>\n",
       "</div>"
      ],
      "text/plain": [
       "            Pd  v_nom  zone_id type    x    y carrier  unit  v_mag_pu_set  \\\n",
       "Bus                                                                         \n",
       "2010001   9.64  138.0      201       0.0  0.0      AC  None           1.0   \n",
       "2010002  15.98  138.0      201       0.0  0.0      AC  None           1.0   \n",
       "2010003  14.39  138.0      201       0.0  0.0      AC  None           1.0   \n",
       "2010004   0.00  138.0      201       0.0  0.0      AC  None           1.0   \n",
       "2010005  10.45  138.0      201       0.0  0.0      AC  None           1.0   \n",
       "...        ...    ...      ...  ...  ...  ...     ...   ...           ...   \n",
       "2090019   0.00  138.0      202       0.0  0.0      AC  None           1.0   \n",
       "2090020   0.00  138.0      201       0.0  0.0      AC  None           1.0   \n",
       "2090021   0.00  138.0      201       0.0  0.0      AC  None           1.0   \n",
       "2090022   0.00  138.0      201       0.0  0.0      AC  None           1.0   \n",
       "2090023   0.00  138.0      201       0.0  0.0      AC  None           1.0   \n",
       "\n",
       "         v_mag_pu_min  v_mag_pu_max control sub_network  \n",
       "Bus                                                      \n",
       "2010001           0.0           inf      PQ              \n",
       "2010002           0.0           inf      PQ              \n",
       "2010003           0.0           inf      PQ              \n",
       "2010004           0.0           inf      PQ              \n",
       "2010005           0.0           inf      PQ              \n",
       "...               ...           ...     ...         ...  \n",
       "2090019           0.0           inf      PQ              \n",
       "2090020           0.0           inf      PQ              \n",
       "2090021           0.0           inf      PQ              \n",
       "2090022           0.0           inf      PQ              \n",
       "2090023           0.0           inf      PQ              \n",
       "\n",
       "[10024 rows x 13 columns]"
      ]
     },
     "execution_count": 176,
     "metadata": {},
     "output_type": "execute_result"
    }
   ],
   "source": [
    "network_original.buses"
   ]
  },
  {
   "attachments": {},
   "cell_type": "markdown",
   "metadata": {},
   "source": [
    "## Other Exerimentation"
   ]
  },
  {
   "cell_type": "code",
   "execution_count": 18,
   "metadata": {},
   "outputs": [
    {
     "data": {
      "text/html": [
       "<div>\n",
       "<style scoped>\n",
       "    .dataframe tbody tr th:only-of-type {\n",
       "        vertical-align: middle;\n",
       "    }\n",
       "\n",
       "    .dataframe tbody tr th {\n",
       "        vertical-align: top;\n",
       "    }\n",
       "\n",
       "    .dataframe thead th {\n",
       "        text-align: right;\n",
       "    }\n",
       "</style>\n",
       "<table border=\"1\" class=\"dataframe\">\n",
       "  <thead>\n",
       "    <tr style=\"text-align: right;\">\n",
       "      <th>Bus</th>\n",
       "      <th>AVA0 0</th>\n",
       "      <th>Arizona0 0</th>\n",
       "      <th>Arizona0 1</th>\n",
       "      <th>Arizona0 2</th>\n",
       "      <th>Arizona0 3</th>\n",
       "      <th>BANC0 0</th>\n",
       "      <th>BPAT0 0</th>\n",
       "      <th>BPAT0 1</th>\n",
       "      <th>BPAT0 2</th>\n",
       "      <th>BPAT0 3</th>\n",
       "      <th>...</th>\n",
       "      <th>PNM0 0</th>\n",
       "      <th>PSCO0 0</th>\n",
       "      <th>PSCO0 1</th>\n",
       "      <th>PSCO0 2</th>\n",
       "      <th>PSEI0 0</th>\n",
       "      <th>TEPC0 0</th>\n",
       "      <th>TID0 0</th>\n",
       "      <th>US0 0</th>\n",
       "      <th>WACM0 0</th>\n",
       "      <th>WALC0 0</th>\n",
       "    </tr>\n",
       "    <tr>\n",
       "      <th>snapshot</th>\n",
       "      <th></th>\n",
       "      <th></th>\n",
       "      <th></th>\n",
       "      <th></th>\n",
       "      <th></th>\n",
       "      <th></th>\n",
       "      <th></th>\n",
       "      <th></th>\n",
       "      <th></th>\n",
       "      <th></th>\n",
       "      <th></th>\n",
       "      <th></th>\n",
       "      <th></th>\n",
       "      <th></th>\n",
       "      <th></th>\n",
       "      <th></th>\n",
       "      <th></th>\n",
       "      <th></th>\n",
       "      <th></th>\n",
       "      <th></th>\n",
       "      <th></th>\n",
       "    </tr>\n",
       "  </thead>\n",
       "  <tbody>\n",
       "    <tr>\n",
       "      <th>2016-01-01 00:00:00</th>\n",
       "      <td>27.111969</td>\n",
       "      <td>25.579690</td>\n",
       "      <td>24.120964</td>\n",
       "      <td>25.001718</td>\n",
       "      <td>26.591735</td>\n",
       "      <td>27.179381</td>\n",
       "      <td>26.952159</td>\n",
       "      <td>26.849407</td>\n",
       "      <td>27.293535</td>\n",
       "      <td>26.944032</td>\n",
       "      <td>...</td>\n",
       "      <td>25.013276</td>\n",
       "      <td>24.604291</td>\n",
       "      <td>24.603013</td>\n",
       "      <td>24.622363</td>\n",
       "      <td>27.080846</td>\n",
       "      <td>25.522038</td>\n",
       "      <td>27.252191</td>\n",
       "      <td>27.043101</td>\n",
       "      <td>24.599112</td>\n",
       "      <td>26.589459</td>\n",
       "    </tr>\n",
       "    <tr>\n",
       "      <th>2016-01-01 01:00:00</th>\n",
       "      <td>27.202508</td>\n",
       "      <td>25.675096</td>\n",
       "      <td>24.120964</td>\n",
       "      <td>25.069025</td>\n",
       "      <td>26.748962</td>\n",
       "      <td>27.189264</td>\n",
       "      <td>27.017497</td>\n",
       "      <td>27.006866</td>\n",
       "      <td>27.342663</td>\n",
       "      <td>27.036662</td>\n",
       "      <td>...</td>\n",
       "      <td>25.089295</td>\n",
       "      <td>24.704920</td>\n",
       "      <td>24.703719</td>\n",
       "      <td>24.721905</td>\n",
       "      <td>27.209681</td>\n",
       "      <td>25.613603</td>\n",
       "      <td>27.159676</td>\n",
       "      <td>27.084663</td>\n",
       "      <td>24.700053</td>\n",
       "      <td>26.735680</td>\n",
       "    </tr>\n",
       "    <tr>\n",
       "      <th>2016-01-01 02:00:00</th>\n",
       "      <td>27.202508</td>\n",
       "      <td>25.675096</td>\n",
       "      <td>24.120964</td>\n",
       "      <td>25.069025</td>\n",
       "      <td>26.748962</td>\n",
       "      <td>27.189264</td>\n",
       "      <td>27.017497</td>\n",
       "      <td>27.006866</td>\n",
       "      <td>27.342663</td>\n",
       "      <td>27.036662</td>\n",
       "      <td>...</td>\n",
       "      <td>25.089295</td>\n",
       "      <td>24.704920</td>\n",
       "      <td>24.703719</td>\n",
       "      <td>24.721905</td>\n",
       "      <td>27.209681</td>\n",
       "      <td>25.613603</td>\n",
       "      <td>27.159676</td>\n",
       "      <td>27.084663</td>\n",
       "      <td>24.700053</td>\n",
       "      <td>26.735680</td>\n",
       "    </tr>\n",
       "    <tr>\n",
       "      <th>2016-01-01 03:00:00</th>\n",
       "      <td>27.221538</td>\n",
       "      <td>25.709548</td>\n",
       "      <td>24.120964</td>\n",
       "      <td>25.091231</td>\n",
       "      <td>26.803516</td>\n",
       "      <td>27.332140</td>\n",
       "      <td>27.112982</td>\n",
       "      <td>27.016441</td>\n",
       "      <td>27.352678</td>\n",
       "      <td>27.099542</td>\n",
       "      <td>...</td>\n",
       "      <td>25.113172</td>\n",
       "      <td>24.714854</td>\n",
       "      <td>24.713610</td>\n",
       "      <td>24.732456</td>\n",
       "      <td>27.230373</td>\n",
       "      <td>25.647374</td>\n",
       "      <td>27.354392</td>\n",
       "      <td>27.196019</td>\n",
       "      <td>24.709811</td>\n",
       "      <td>26.792683</td>\n",
       "    </tr>\n",
       "    <tr>\n",
       "      <th>2016-01-01 04:00:00</th>\n",
       "      <td>27.221538</td>\n",
       "      <td>25.709548</td>\n",
       "      <td>24.120964</td>\n",
       "      <td>25.091231</td>\n",
       "      <td>26.803516</td>\n",
       "      <td>27.332140</td>\n",
       "      <td>27.112982</td>\n",
       "      <td>27.016441</td>\n",
       "      <td>27.352678</td>\n",
       "      <td>27.099542</td>\n",
       "      <td>...</td>\n",
       "      <td>25.113172</td>\n",
       "      <td>24.714854</td>\n",
       "      <td>24.713610</td>\n",
       "      <td>24.732456</td>\n",
       "      <td>27.230373</td>\n",
       "      <td>25.647374</td>\n",
       "      <td>27.354392</td>\n",
       "      <td>27.196019</td>\n",
       "      <td>24.709811</td>\n",
       "      <td>26.792683</td>\n",
       "    </tr>\n",
       "    <tr>\n",
       "      <th>...</th>\n",
       "      <td>...</td>\n",
       "      <td>...</td>\n",
       "      <td>...</td>\n",
       "      <td>...</td>\n",
       "      <td>...</td>\n",
       "      <td>...</td>\n",
       "      <td>...</td>\n",
       "      <td>...</td>\n",
       "      <td>...</td>\n",
       "      <td>...</td>\n",
       "      <td>...</td>\n",
       "      <td>...</td>\n",
       "      <td>...</td>\n",
       "      <td>...</td>\n",
       "      <td>...</td>\n",
       "      <td>...</td>\n",
       "      <td>...</td>\n",
       "      <td>...</td>\n",
       "      <td>...</td>\n",
       "      <td>...</td>\n",
       "      <td>...</td>\n",
       "    </tr>\n",
       "    <tr>\n",
       "      <th>2016-12-31 19:00:00</th>\n",
       "      <td>0.000000</td>\n",
       "      <td>0.000000</td>\n",
       "      <td>0.000000</td>\n",
       "      <td>0.000000</td>\n",
       "      <td>0.000000</td>\n",
       "      <td>0.000000</td>\n",
       "      <td>0.000000</td>\n",
       "      <td>0.000000</td>\n",
       "      <td>0.000000</td>\n",
       "      <td>0.000000</td>\n",
       "      <td>...</td>\n",
       "      <td>0.000000</td>\n",
       "      <td>0.000000</td>\n",
       "      <td>0.000000</td>\n",
       "      <td>0.000000</td>\n",
       "      <td>0.000000</td>\n",
       "      <td>0.000000</td>\n",
       "      <td>0.000000</td>\n",
       "      <td>0.000000</td>\n",
       "      <td>0.000000</td>\n",
       "      <td>0.000000</td>\n",
       "    </tr>\n",
       "    <tr>\n",
       "      <th>2016-12-31 20:00:00</th>\n",
       "      <td>0.000000</td>\n",
       "      <td>0.000000</td>\n",
       "      <td>0.000000</td>\n",
       "      <td>0.000000</td>\n",
       "      <td>0.000000</td>\n",
       "      <td>0.000000</td>\n",
       "      <td>0.000000</td>\n",
       "      <td>0.000000</td>\n",
       "      <td>0.000000</td>\n",
       "      <td>0.000000</td>\n",
       "      <td>...</td>\n",
       "      <td>0.000000</td>\n",
       "      <td>0.000000</td>\n",
       "      <td>0.000000</td>\n",
       "      <td>0.000000</td>\n",
       "      <td>0.000000</td>\n",
       "      <td>0.000000</td>\n",
       "      <td>0.000000</td>\n",
       "      <td>0.000000</td>\n",
       "      <td>0.000000</td>\n",
       "      <td>0.000000</td>\n",
       "    </tr>\n",
       "    <tr>\n",
       "      <th>2016-12-31 21:00:00</th>\n",
       "      <td>0.000000</td>\n",
       "      <td>0.000000</td>\n",
       "      <td>0.000000</td>\n",
       "      <td>0.000000</td>\n",
       "      <td>0.000000</td>\n",
       "      <td>0.000000</td>\n",
       "      <td>0.000000</td>\n",
       "      <td>0.000000</td>\n",
       "      <td>0.000000</td>\n",
       "      <td>0.000000</td>\n",
       "      <td>...</td>\n",
       "      <td>0.000000</td>\n",
       "      <td>0.000000</td>\n",
       "      <td>0.000000</td>\n",
       "      <td>0.000000</td>\n",
       "      <td>0.000000</td>\n",
       "      <td>0.000000</td>\n",
       "      <td>0.000000</td>\n",
       "      <td>0.000000</td>\n",
       "      <td>0.000000</td>\n",
       "      <td>0.000000</td>\n",
       "    </tr>\n",
       "    <tr>\n",
       "      <th>2016-12-31 22:00:00</th>\n",
       "      <td>0.000000</td>\n",
       "      <td>0.000000</td>\n",
       "      <td>0.000000</td>\n",
       "      <td>0.000000</td>\n",
       "      <td>0.000000</td>\n",
       "      <td>0.000000</td>\n",
       "      <td>0.000000</td>\n",
       "      <td>0.000000</td>\n",
       "      <td>0.000000</td>\n",
       "      <td>0.000000</td>\n",
       "      <td>...</td>\n",
       "      <td>0.000000</td>\n",
       "      <td>0.000000</td>\n",
       "      <td>0.000000</td>\n",
       "      <td>0.000000</td>\n",
       "      <td>0.000000</td>\n",
       "      <td>0.000000</td>\n",
       "      <td>0.000000</td>\n",
       "      <td>0.000000</td>\n",
       "      <td>0.000000</td>\n",
       "      <td>0.000000</td>\n",
       "    </tr>\n",
       "    <tr>\n",
       "      <th>2016-12-31 23:00:00</th>\n",
       "      <td>0.000000</td>\n",
       "      <td>0.000000</td>\n",
       "      <td>0.000000</td>\n",
       "      <td>0.000000</td>\n",
       "      <td>0.000000</td>\n",
       "      <td>0.000000</td>\n",
       "      <td>0.000000</td>\n",
       "      <td>0.000000</td>\n",
       "      <td>0.000000</td>\n",
       "      <td>0.000000</td>\n",
       "      <td>...</td>\n",
       "      <td>0.000000</td>\n",
       "      <td>0.000000</td>\n",
       "      <td>0.000000</td>\n",
       "      <td>0.000000</td>\n",
       "      <td>0.000000</td>\n",
       "      <td>0.000000</td>\n",
       "      <td>0.000000</td>\n",
       "      <td>0.000000</td>\n",
       "      <td>0.000000</td>\n",
       "      <td>0.000000</td>\n",
       "    </tr>\n",
       "  </tbody>\n",
       "</table>\n",
       "<p>8784 rows × 61 columns</p>\n",
       "</div>"
      ],
      "text/plain": [
       "Bus                     AVA0 0  Arizona0 0  Arizona0 1  Arizona0 2  \\\n",
       "snapshot                                                             \n",
       "2016-01-01 00:00:00  27.111969   25.579690   24.120964   25.001718   \n",
       "2016-01-01 01:00:00  27.202508   25.675096   24.120964   25.069025   \n",
       "2016-01-01 02:00:00  27.202508   25.675096   24.120964   25.069025   \n",
       "2016-01-01 03:00:00  27.221538   25.709548   24.120964   25.091231   \n",
       "2016-01-01 04:00:00  27.221538   25.709548   24.120964   25.091231   \n",
       "...                        ...         ...         ...         ...   \n",
       "2016-12-31 19:00:00   0.000000    0.000000    0.000000    0.000000   \n",
       "2016-12-31 20:00:00   0.000000    0.000000    0.000000    0.000000   \n",
       "2016-12-31 21:00:00   0.000000    0.000000    0.000000    0.000000   \n",
       "2016-12-31 22:00:00   0.000000    0.000000    0.000000    0.000000   \n",
       "2016-12-31 23:00:00   0.000000    0.000000    0.000000    0.000000   \n",
       "\n",
       "Bus                  Arizona0 3    BANC0 0    BPAT0 0    BPAT0 1    BPAT0 2  \\\n",
       "snapshot                                                                      \n",
       "2016-01-01 00:00:00   26.591735  27.179381  26.952159  26.849407  27.293535   \n",
       "2016-01-01 01:00:00   26.748962  27.189264  27.017497  27.006866  27.342663   \n",
       "2016-01-01 02:00:00   26.748962  27.189264  27.017497  27.006866  27.342663   \n",
       "2016-01-01 03:00:00   26.803516  27.332140  27.112982  27.016441  27.352678   \n",
       "2016-01-01 04:00:00   26.803516  27.332140  27.112982  27.016441  27.352678   \n",
       "...                         ...        ...        ...        ...        ...   \n",
       "2016-12-31 19:00:00    0.000000   0.000000   0.000000   0.000000   0.000000   \n",
       "2016-12-31 20:00:00    0.000000   0.000000   0.000000   0.000000   0.000000   \n",
       "2016-12-31 21:00:00    0.000000   0.000000   0.000000   0.000000   0.000000   \n",
       "2016-12-31 22:00:00    0.000000   0.000000   0.000000   0.000000   0.000000   \n",
       "2016-12-31 23:00:00    0.000000   0.000000   0.000000   0.000000   0.000000   \n",
       "\n",
       "Bus                    BPAT0 3  ...     PNM0 0    PSCO0 0    PSCO0 1  \\\n",
       "snapshot                        ...                                    \n",
       "2016-01-01 00:00:00  26.944032  ...  25.013276  24.604291  24.603013   \n",
       "2016-01-01 01:00:00  27.036662  ...  25.089295  24.704920  24.703719   \n",
       "2016-01-01 02:00:00  27.036662  ...  25.089295  24.704920  24.703719   \n",
       "2016-01-01 03:00:00  27.099542  ...  25.113172  24.714854  24.713610   \n",
       "2016-01-01 04:00:00  27.099542  ...  25.113172  24.714854  24.713610   \n",
       "...                        ...  ...        ...        ...        ...   \n",
       "2016-12-31 19:00:00   0.000000  ...   0.000000   0.000000   0.000000   \n",
       "2016-12-31 20:00:00   0.000000  ...   0.000000   0.000000   0.000000   \n",
       "2016-12-31 21:00:00   0.000000  ...   0.000000   0.000000   0.000000   \n",
       "2016-12-31 22:00:00   0.000000  ...   0.000000   0.000000   0.000000   \n",
       "2016-12-31 23:00:00   0.000000  ...   0.000000   0.000000   0.000000   \n",
       "\n",
       "Bus                    PSCO0 2    PSEI0 0    TEPC0 0     TID0 0      US0 0  \\\n",
       "snapshot                                                                     \n",
       "2016-01-01 00:00:00  24.622363  27.080846  25.522038  27.252191  27.043101   \n",
       "2016-01-01 01:00:00  24.721905  27.209681  25.613603  27.159676  27.084663   \n",
       "2016-01-01 02:00:00  24.721905  27.209681  25.613603  27.159676  27.084663   \n",
       "2016-01-01 03:00:00  24.732456  27.230373  25.647374  27.354392  27.196019   \n",
       "2016-01-01 04:00:00  24.732456  27.230373  25.647374  27.354392  27.196019   \n",
       "...                        ...        ...        ...        ...        ...   \n",
       "2016-12-31 19:00:00   0.000000   0.000000   0.000000   0.000000   0.000000   \n",
       "2016-12-31 20:00:00   0.000000   0.000000   0.000000   0.000000   0.000000   \n",
       "2016-12-31 21:00:00   0.000000   0.000000   0.000000   0.000000   0.000000   \n",
       "2016-12-31 22:00:00   0.000000   0.000000   0.000000   0.000000   0.000000   \n",
       "2016-12-31 23:00:00   0.000000   0.000000   0.000000   0.000000   0.000000   \n",
       "\n",
       "Bus                    WACM0 0    WALC0 0  \n",
       "snapshot                                   \n",
       "2016-01-01 00:00:00  24.599112  26.589459  \n",
       "2016-01-01 01:00:00  24.700053  26.735680  \n",
       "2016-01-01 02:00:00  24.700053  26.735680  \n",
       "2016-01-01 03:00:00  24.709811  26.792683  \n",
       "2016-01-01 04:00:00  24.709811  26.792683  \n",
       "...                        ...        ...  \n",
       "2016-12-31 19:00:00   0.000000   0.000000  \n",
       "2016-12-31 20:00:00   0.000000   0.000000  \n",
       "2016-12-31 21:00:00   0.000000   0.000000  \n",
       "2016-12-31 22:00:00   0.000000   0.000000  \n",
       "2016-12-31 23:00:00   0.000000   0.000000  \n",
       "\n",
       "[8784 rows x 61 columns]"
      ]
     },
     "execution_count": 18,
     "metadata": {},
     "output_type": "execute_result"
    }
   ],
   "source": [
    "network.buses_t.marginal_price"
   ]
  },
  {
   "cell_type": "code",
   "execution_count": 19,
   "metadata": {},
   "outputs": [
    {
     "data": {
      "text/html": [
       "<div>\n",
       "<style scoped>\n",
       "    .dataframe tbody tr th:only-of-type {\n",
       "        vertical-align: middle;\n",
       "    }\n",
       "\n",
       "    .dataframe tbody tr th {\n",
       "        vertical-align: top;\n",
       "    }\n",
       "\n",
       "    .dataframe thead th {\n",
       "        text-align: right;\n",
       "    }\n",
       "</style>\n",
       "<table border=\"1\" class=\"dataframe\">\n",
       "  <thead>\n",
       "    <tr style=\"text-align: right;\">\n",
       "      <th>Load</th>\n",
       "      <th>AVA0 0</th>\n",
       "      <th>Arizona0 0</th>\n",
       "      <th>Arizona0 1</th>\n",
       "      <th>Arizona0 2</th>\n",
       "      <th>Arizona0 3</th>\n",
       "      <th>BANC0 0</th>\n",
       "      <th>BPAT0 0</th>\n",
       "      <th>BPAT0 1</th>\n",
       "      <th>BPAT0 2</th>\n",
       "      <th>BPAT0 3</th>\n",
       "      <th>...</th>\n",
       "      <th>PNM0 0</th>\n",
       "      <th>PSCO0 0</th>\n",
       "      <th>PSCO0 1</th>\n",
       "      <th>PSCO0 2</th>\n",
       "      <th>PSEI0 0</th>\n",
       "      <th>TEPC0 0</th>\n",
       "      <th>TID0 0</th>\n",
       "      <th>US0 0</th>\n",
       "      <th>WACM0 0</th>\n",
       "      <th>WALC0 0</th>\n",
       "    </tr>\n",
       "    <tr>\n",
       "      <th>snapshot</th>\n",
       "      <th></th>\n",
       "      <th></th>\n",
       "      <th></th>\n",
       "      <th></th>\n",
       "      <th></th>\n",
       "      <th></th>\n",
       "      <th></th>\n",
       "      <th></th>\n",
       "      <th></th>\n",
       "      <th></th>\n",
       "      <th></th>\n",
       "      <th></th>\n",
       "      <th></th>\n",
       "      <th></th>\n",
       "      <th></th>\n",
       "      <th></th>\n",
       "      <th></th>\n",
       "      <th></th>\n",
       "      <th></th>\n",
       "      <th></th>\n",
       "      <th></th>\n",
       "    </tr>\n",
       "  </thead>\n",
       "  <tbody>\n",
       "    <tr>\n",
       "      <th>2016-01-01 00:00:00</th>\n",
       "      <td>1798.275255</td>\n",
       "      <td>5611.506180</td>\n",
       "      <td>537.394352</td>\n",
       "      <td>336.128296</td>\n",
       "      <td>367.987464</td>\n",
       "      <td>2092.340502</td>\n",
       "      <td>2400.519295</td>\n",
       "      <td>386.808949</td>\n",
       "      <td>647.100273</td>\n",
       "      <td>1055.033225</td>\n",
       "      <td>...</td>\n",
       "      <td>1667.539675</td>\n",
       "      <td>4301.165220</td>\n",
       "      <td>79.137248</td>\n",
       "      <td>1546.134210</td>\n",
       "      <td>622.144017</td>\n",
       "      <td>1296.950351</td>\n",
       "      <td>208.831540</td>\n",
       "      <td>3288.609021</td>\n",
       "      <td>3191.755189</td>\n",
       "      <td>16.201784</td>\n",
       "    </tr>\n",
       "    <tr>\n",
       "      <th>2016-01-01 01:00:00</th>\n",
       "      <td>1940.834916</td>\n",
       "      <td>6243.099373</td>\n",
       "      <td>597.879827</td>\n",
       "      <td>373.960624</td>\n",
       "      <td>409.405645</td>\n",
       "      <td>2175.417081</td>\n",
       "      <td>2559.037237</td>\n",
       "      <td>413.946062</td>\n",
       "      <td>694.927474</td>\n",
       "      <td>1135.157078</td>\n",
       "      <td>...</td>\n",
       "      <td>1857.866376</td>\n",
       "      <td>4675.855894</td>\n",
       "      <td>86.031191</td>\n",
       "      <td>1680.823774</td>\n",
       "      <td>670.211573</td>\n",
       "      <td>1442.926313</td>\n",
       "      <td>213.434635</td>\n",
       "      <td>3470.667161</td>\n",
       "      <td>3437.728159</td>\n",
       "      <td>16.564049</td>\n",
       "    </tr>\n",
       "    <tr>\n",
       "      <th>2016-01-01 02:00:00</th>\n",
       "      <td>2045.244922</td>\n",
       "      <td>6617.712080</td>\n",
       "      <td>633.755177</td>\n",
       "      <td>396.399863</td>\n",
       "      <td>433.971738</td>\n",
       "      <td>2339.934349</td>\n",
       "      <td>2744.435735</td>\n",
       "      <td>438.424270</td>\n",
       "      <td>700.094623</td>\n",
       "      <td>1208.149196</td>\n",
       "      <td>...</td>\n",
       "      <td>1916.373722</td>\n",
       "      <td>4649.934521</td>\n",
       "      <td>85.554263</td>\n",
       "      <td>1671.505852</td>\n",
       "      <td>712.589079</td>\n",
       "      <td>1529.508073</td>\n",
       "      <td>223.313964</td>\n",
       "      <td>3669.487661</td>\n",
       "      <td>3423.861673</td>\n",
       "      <td>17.291151</td>\n",
       "    </tr>\n",
       "    <tr>\n",
       "      <th>2016-01-01 03:00:00</th>\n",
       "      <td>2015.488293</td>\n",
       "      <td>6545.610271</td>\n",
       "      <td>626.850239</td>\n",
       "      <td>392.080977</td>\n",
       "      <td>429.243495</td>\n",
       "      <td>2504.410687</td>\n",
       "      <td>2721.286195</td>\n",
       "      <td>431.380663</td>\n",
       "      <td>684.302265</td>\n",
       "      <td>1197.866828</td>\n",
       "      <td>...</td>\n",
       "      <td>1886.487669</td>\n",
       "      <td>4523.700952</td>\n",
       "      <td>83.231688</td>\n",
       "      <td>1626.128837</td>\n",
       "      <td>706.517185</td>\n",
       "      <td>1512.843658</td>\n",
       "      <td>249.320799</td>\n",
       "      <td>3817.111009</td>\n",
       "      <td>3349.894800</td>\n",
       "      <td>19.425135</td>\n",
       "    </tr>\n",
       "    <tr>\n",
       "      <th>2016-01-01 04:00:00</th>\n",
       "      <td>1973.190477</td>\n",
       "      <td>6433.084812</td>\n",
       "      <td>616.074069</td>\n",
       "      <td>385.340720</td>\n",
       "      <td>421.864379</td>\n",
       "      <td>2490.177631</td>\n",
       "      <td>2635.046070</td>\n",
       "      <td>422.089142</td>\n",
       "      <td>670.508562</td>\n",
       "      <td>1163.061062</td>\n",
       "      <td>...</td>\n",
       "      <td>1863.628416</td>\n",
       "      <td>4406.018631</td>\n",
       "      <td>81.066448</td>\n",
       "      <td>1583.825727</td>\n",
       "      <td>686.235190</td>\n",
       "      <td>1486.836392</td>\n",
       "      <td>251.491226</td>\n",
       "      <td>3768.475576</td>\n",
       "      <td>3304.245393</td>\n",
       "      <td>19.649029</td>\n",
       "    </tr>\n",
       "    <tr>\n",
       "      <th>...</th>\n",
       "      <td>...</td>\n",
       "      <td>...</td>\n",
       "      <td>...</td>\n",
       "      <td>...</td>\n",
       "      <td>...</td>\n",
       "      <td>...</td>\n",
       "      <td>...</td>\n",
       "      <td>...</td>\n",
       "      <td>...</td>\n",
       "      <td>...</td>\n",
       "      <td>...</td>\n",
       "      <td>...</td>\n",
       "      <td>...</td>\n",
       "      <td>...</td>\n",
       "      <td>...</td>\n",
       "      <td>...</td>\n",
       "      <td>...</td>\n",
       "      <td>...</td>\n",
       "      <td>...</td>\n",
       "      <td>...</td>\n",
       "      <td>...</td>\n",
       "    </tr>\n",
       "    <tr>\n",
       "      <th>2016-12-31 19:00:00</th>\n",
       "      <td>1938.659580</td>\n",
       "      <td>5414.524712</td>\n",
       "      <td>518.530125</td>\n",
       "      <td>324.329138</td>\n",
       "      <td>355.069950</td>\n",
       "      <td>2129.064608</td>\n",
       "      <td>2559.383093</td>\n",
       "      <td>406.339675</td>\n",
       "      <td>652.325934</td>\n",
       "      <td>1150.382581</td>\n",
       "      <td>...</td>\n",
       "      <td>1615.327918</td>\n",
       "      <td>3686.732205</td>\n",
       "      <td>67.832279</td>\n",
       "      <td>1325.264781</td>\n",
       "      <td>680.371029</td>\n",
       "      <td>1251.423326</td>\n",
       "      <td>209.713895</td>\n",
       "      <td>3456.510903</td>\n",
       "      <td>2871.333322</td>\n",
       "      <td>16.264079</td>\n",
       "    </tr>\n",
       "    <tr>\n",
       "      <th>2016-12-31 20:00:00</th>\n",
       "      <td>1912.284577</td>\n",
       "      <td>5329.959886</td>\n",
       "      <td>510.431646</td>\n",
       "      <td>319.263719</td>\n",
       "      <td>349.524416</td>\n",
       "      <td>2133.304757</td>\n",
       "      <td>2530.483782</td>\n",
       "      <td>400.131489</td>\n",
       "      <td>637.320308</td>\n",
       "      <td>1138.264733</td>\n",
       "      <td>...</td>\n",
       "      <td>1566.091630</td>\n",
       "      <td>3634.400122</td>\n",
       "      <td>66.869420</td>\n",
       "      <td>1306.453036</td>\n",
       "      <td>673.270956</td>\n",
       "      <td>1231.878416</td>\n",
       "      <td>210.950837</td>\n",
       "      <td>3444.625705</td>\n",
       "      <td>2825.351029</td>\n",
       "      <td>16.362834</td>\n",
       "    </tr>\n",
       "    <tr>\n",
       "      <th>2016-12-31 21:00:00</th>\n",
       "      <td>1869.266758</td>\n",
       "      <td>5244.904463</td>\n",
       "      <td>502.286186</td>\n",
       "      <td>314.168913</td>\n",
       "      <td>343.946711</td>\n",
       "      <td>2096.067619</td>\n",
       "      <td>2471.436799</td>\n",
       "      <td>390.279927</td>\n",
       "      <td>623.171102</td>\n",
       "      <td>1113.747704</td>\n",
       "      <td>...</td>\n",
       "      <td>1556.158675</td>\n",
       "      <td>3591.278266</td>\n",
       "      <td>66.076020</td>\n",
       "      <td>1290.952079</td>\n",
       "      <td>658.925857</td>\n",
       "      <td>1212.220118</td>\n",
       "      <td>210.313279</td>\n",
       "      <td>3397.545661</td>\n",
       "      <td>2779.569818</td>\n",
       "      <td>16.303478</td>\n",
       "    </tr>\n",
       "    <tr>\n",
       "      <th>2016-12-31 22:00:00</th>\n",
       "      <td>1834.005561</td>\n",
       "      <td>5205.750937</td>\n",
       "      <td>498.536589</td>\n",
       "      <td>311.823623</td>\n",
       "      <td>341.379128</td>\n",
       "      <td>2062.679378</td>\n",
       "      <td>2406.020832</td>\n",
       "      <td>381.118420</td>\n",
       "      <td>612.344293</td>\n",
       "      <td>1090.043237</td>\n",
       "      <td>...</td>\n",
       "      <td>1540.911951</td>\n",
       "      <td>3574.836796</td>\n",
       "      <td>65.773513</td>\n",
       "      <td>1285.041886</td>\n",
       "      <td>645.342923</td>\n",
       "      <td>1203.170822</td>\n",
       "      <td>207.846306</td>\n",
       "      <td>3344.801929</td>\n",
       "      <td>2760.991925</td>\n",
       "      <td>16.162694</td>\n",
       "    </tr>\n",
       "    <tr>\n",
       "      <th>2016-12-31 23:00:00</th>\n",
       "      <td>1829.805524</td>\n",
       "      <td>5255.958519</td>\n",
       "      <td>503.344794</td>\n",
       "      <td>314.831049</td>\n",
       "      <td>344.671606</td>\n",
       "      <td>2037.539583</td>\n",
       "      <td>2384.888026</td>\n",
       "      <td>379.723918</td>\n",
       "      <td>615.155117</td>\n",
       "      <td>1083.210291</td>\n",
       "      <td>...</td>\n",
       "      <td>1571.704164</td>\n",
       "      <td>3643.042621</td>\n",
       "      <td>67.028433</td>\n",
       "      <td>1309.559744</td>\n",
       "      <td>641.505956</td>\n",
       "      <td>1214.774969</td>\n",
       "      <td>205.872381</td>\n",
       "      <td>3322.900872</td>\n",
       "      <td>2802.812424</td>\n",
       "      <td>16.033278</td>\n",
       "    </tr>\n",
       "  </tbody>\n",
       "</table>\n",
       "<p>8784 rows × 60 columns</p>\n",
       "</div>"
      ],
      "text/plain": [
       "Load                      AVA0 0   Arizona0 0  Arizona0 1  Arizona0 2  \\\n",
       "snapshot                                                                \n",
       "2016-01-01 00:00:00  1798.275255  5611.506180  537.394352  336.128296   \n",
       "2016-01-01 01:00:00  1940.834916  6243.099373  597.879827  373.960624   \n",
       "2016-01-01 02:00:00  2045.244922  6617.712080  633.755177  396.399863   \n",
       "2016-01-01 03:00:00  2015.488293  6545.610271  626.850239  392.080977   \n",
       "2016-01-01 04:00:00  1973.190477  6433.084812  616.074069  385.340720   \n",
       "...                          ...          ...         ...         ...   \n",
       "2016-12-31 19:00:00  1938.659580  5414.524712  518.530125  324.329138   \n",
       "2016-12-31 20:00:00  1912.284577  5329.959886  510.431646  319.263719   \n",
       "2016-12-31 21:00:00  1869.266758  5244.904463  502.286186  314.168913   \n",
       "2016-12-31 22:00:00  1834.005561  5205.750937  498.536589  311.823623   \n",
       "2016-12-31 23:00:00  1829.805524  5255.958519  503.344794  314.831049   \n",
       "\n",
       "Load                 Arizona0 3      BANC0 0      BPAT0 0     BPAT0 1  \\\n",
       "snapshot                                                                \n",
       "2016-01-01 00:00:00  367.987464  2092.340502  2400.519295  386.808949   \n",
       "2016-01-01 01:00:00  409.405645  2175.417081  2559.037237  413.946062   \n",
       "2016-01-01 02:00:00  433.971738  2339.934349  2744.435735  438.424270   \n",
       "2016-01-01 03:00:00  429.243495  2504.410687  2721.286195  431.380663   \n",
       "2016-01-01 04:00:00  421.864379  2490.177631  2635.046070  422.089142   \n",
       "...                         ...          ...          ...         ...   \n",
       "2016-12-31 19:00:00  355.069950  2129.064608  2559.383093  406.339675   \n",
       "2016-12-31 20:00:00  349.524416  2133.304757  2530.483782  400.131489   \n",
       "2016-12-31 21:00:00  343.946711  2096.067619  2471.436799  390.279927   \n",
       "2016-12-31 22:00:00  341.379128  2062.679378  2406.020832  381.118420   \n",
       "2016-12-31 23:00:00  344.671606  2037.539583  2384.888026  379.723918   \n",
       "\n",
       "Load                    BPAT0 2      BPAT0 3  ...       PNM0 0      PSCO0 0  \\\n",
       "snapshot                                      ...                             \n",
       "2016-01-01 00:00:00  647.100273  1055.033225  ...  1667.539675  4301.165220   \n",
       "2016-01-01 01:00:00  694.927474  1135.157078  ...  1857.866376  4675.855894   \n",
       "2016-01-01 02:00:00  700.094623  1208.149196  ...  1916.373722  4649.934521   \n",
       "2016-01-01 03:00:00  684.302265  1197.866828  ...  1886.487669  4523.700952   \n",
       "2016-01-01 04:00:00  670.508562  1163.061062  ...  1863.628416  4406.018631   \n",
       "...                         ...          ...  ...          ...          ...   \n",
       "2016-12-31 19:00:00  652.325934  1150.382581  ...  1615.327918  3686.732205   \n",
       "2016-12-31 20:00:00  637.320308  1138.264733  ...  1566.091630  3634.400122   \n",
       "2016-12-31 21:00:00  623.171102  1113.747704  ...  1556.158675  3591.278266   \n",
       "2016-12-31 22:00:00  612.344293  1090.043237  ...  1540.911951  3574.836796   \n",
       "2016-12-31 23:00:00  615.155117  1083.210291  ...  1571.704164  3643.042621   \n",
       "\n",
       "Load                   PSCO0 1      PSCO0 2     PSEI0 0      TEPC0 0  \\\n",
       "snapshot                                                               \n",
       "2016-01-01 00:00:00  79.137248  1546.134210  622.144017  1296.950351   \n",
       "2016-01-01 01:00:00  86.031191  1680.823774  670.211573  1442.926313   \n",
       "2016-01-01 02:00:00  85.554263  1671.505852  712.589079  1529.508073   \n",
       "2016-01-01 03:00:00  83.231688  1626.128837  706.517185  1512.843658   \n",
       "2016-01-01 04:00:00  81.066448  1583.825727  686.235190  1486.836392   \n",
       "...                        ...          ...         ...          ...   \n",
       "2016-12-31 19:00:00  67.832279  1325.264781  680.371029  1251.423326   \n",
       "2016-12-31 20:00:00  66.869420  1306.453036  673.270956  1231.878416   \n",
       "2016-12-31 21:00:00  66.076020  1290.952079  658.925857  1212.220118   \n",
       "2016-12-31 22:00:00  65.773513  1285.041886  645.342923  1203.170822   \n",
       "2016-12-31 23:00:00  67.028433  1309.559744  641.505956  1214.774969   \n",
       "\n",
       "Load                     TID0 0        US0 0      WACM0 0    WALC0 0  \n",
       "snapshot                                                              \n",
       "2016-01-01 00:00:00  208.831540  3288.609021  3191.755189  16.201784  \n",
       "2016-01-01 01:00:00  213.434635  3470.667161  3437.728159  16.564049  \n",
       "2016-01-01 02:00:00  223.313964  3669.487661  3423.861673  17.291151  \n",
       "2016-01-01 03:00:00  249.320799  3817.111009  3349.894800  19.425135  \n",
       "2016-01-01 04:00:00  251.491226  3768.475576  3304.245393  19.649029  \n",
       "...                         ...          ...          ...        ...  \n",
       "2016-12-31 19:00:00  209.713895  3456.510903  2871.333322  16.264079  \n",
       "2016-12-31 20:00:00  210.950837  3444.625705  2825.351029  16.362834  \n",
       "2016-12-31 21:00:00  210.313279  3397.545661  2779.569818  16.303478  \n",
       "2016-12-31 22:00:00  207.846306  3344.801929  2760.991925  16.162694  \n",
       "2016-12-31 23:00:00  205.872381  3322.900872  2802.812424  16.033278  \n",
       "\n",
       "[8784 rows x 60 columns]"
      ]
     },
     "execution_count": 19,
     "metadata": {},
     "output_type": "execute_result"
    }
   ],
   "source": [
    "network.loads_t.p_set"
   ]
  },
  {
   "cell_type": "code",
   "execution_count": 20,
   "metadata": {},
   "outputs": [
    {
     "data": {
      "text/plain": [
       "bus         carrier\n",
       "AVA0 0      hydro      1.606211e+05\n",
       "            ng         0.000000e+00\n",
       "            solar      1.530844e+03\n",
       "            wind       4.208671e+03\n",
       "Arizona0 0  hydro      1.435887e+04\n",
       "                           ...     \n",
       "WACM0 0     coal       1.130957e+06\n",
       "            hydro      3.612217e+04\n",
       "            ng         0.000000e+00\n",
       "            wind       1.051242e+05\n",
       "WALC0 0     hydro      2.207453e+03\n",
       "Length: 178, dtype: float64"
      ]
     },
     "execution_count": 20,
     "metadata": {},
     "output_type": "execute_result"
    }
   ],
   "source": [
    "s=network.generators_t.p.sum().groupby(\n",
    "    [network.generators.bus, network.generators.carrier]\n",
    ").sum()\n",
    "s"
   ]
  },
  {
   "cell_type": "code",
   "execution_count": 93,
   "metadata": {},
   "outputs": [
    {
     "name": "stderr",
     "output_type": "stream",
     "text": [
      "INFO:pypsa.io:Exported network Solved_Network_WECC_50.nc has carriers, links, loads, generators, lines, buses\n"
     ]
    },
    {
     "data": {
      "text/html": [
       "<div><svg style=\"position: absolute; width: 0; height: 0; overflow: hidden\">\n",
       "<defs>\n",
       "<symbol id=\"icon-database\" viewBox=\"0 0 32 32\">\n",
       "<path d=\"M16 0c-8.837 0-16 2.239-16 5v4c0 2.761 7.163 5 16 5s16-2.239 16-5v-4c0-2.761-7.163-5-16-5z\"></path>\n",
       "<path d=\"M16 17c-8.837 0-16-2.239-16-5v6c0 2.761 7.163 5 16 5s16-2.239 16-5v-6c0 2.761-7.163 5-16 5z\"></path>\n",
       "<path d=\"M16 26c-8.837 0-16-2.239-16-5v6c0 2.761 7.163 5 16 5s16-2.239 16-5v-6c0 2.761-7.163 5-16 5z\"></path>\n",
       "</symbol>\n",
       "<symbol id=\"icon-file-text2\" viewBox=\"0 0 32 32\">\n",
       "<path d=\"M28.681 7.159c-0.694-0.947-1.662-2.053-2.724-3.116s-2.169-2.030-3.116-2.724c-1.612-1.182-2.393-1.319-2.841-1.319h-15.5c-1.378 0-2.5 1.121-2.5 2.5v27c0 1.378 1.122 2.5 2.5 2.5h23c1.378 0 2.5-1.122 2.5-2.5v-19.5c0-0.448-0.137-1.23-1.319-2.841zM24.543 5.457c0.959 0.959 1.712 1.825 2.268 2.543h-4.811v-4.811c0.718 0.556 1.584 1.309 2.543 2.268zM28 29.5c0 0.271-0.229 0.5-0.5 0.5h-23c-0.271 0-0.5-0.229-0.5-0.5v-27c0-0.271 0.229-0.5 0.5-0.5 0 0 15.499-0 15.5 0v7c0 0.552 0.448 1 1 1h7v19.5z\"></path>\n",
       "<path d=\"M23 26h-14c-0.552 0-1-0.448-1-1s0.448-1 1-1h14c0.552 0 1 0.448 1 1s-0.448 1-1 1z\"></path>\n",
       "<path d=\"M23 22h-14c-0.552 0-1-0.448-1-1s0.448-1 1-1h14c0.552 0 1 0.448 1 1s-0.448 1-1 1z\"></path>\n",
       "<path d=\"M23 18h-14c-0.552 0-1-0.448-1-1s0.448-1 1-1h14c0.552 0 1 0.448 1 1s-0.448 1-1 1z\"></path>\n",
       "</symbol>\n",
       "</defs>\n",
       "</svg>\n",
       "<style>/* CSS stylesheet for displaying xarray objects in jupyterlab.\n",
       " *\n",
       " */\n",
       "\n",
       ":root {\n",
       "  --xr-font-color0: var(--jp-content-font-color0, rgba(0, 0, 0, 1));\n",
       "  --xr-font-color2: var(--jp-content-font-color2, rgba(0, 0, 0, 0.54));\n",
       "  --xr-font-color3: var(--jp-content-font-color3, rgba(0, 0, 0, 0.38));\n",
       "  --xr-border-color: var(--jp-border-color2, #e0e0e0);\n",
       "  --xr-disabled-color: var(--jp-layout-color3, #bdbdbd);\n",
       "  --xr-background-color: var(--jp-layout-color0, white);\n",
       "  --xr-background-color-row-even: var(--jp-layout-color1, white);\n",
       "  --xr-background-color-row-odd: var(--jp-layout-color2, #eeeeee);\n",
       "}\n",
       "\n",
       "html[theme=dark],\n",
       "body.vscode-dark {\n",
       "  --xr-font-color0: rgba(255, 255, 255, 1);\n",
       "  --xr-font-color2: rgba(255, 255, 255, 0.54);\n",
       "  --xr-font-color3: rgba(255, 255, 255, 0.38);\n",
       "  --xr-border-color: #1F1F1F;\n",
       "  --xr-disabled-color: #515151;\n",
       "  --xr-background-color: #111111;\n",
       "  --xr-background-color-row-even: #111111;\n",
       "  --xr-background-color-row-odd: #313131;\n",
       "}\n",
       "\n",
       ".xr-wrap {\n",
       "  display: block !important;\n",
       "  min-width: 300px;\n",
       "  max-width: 700px;\n",
       "}\n",
       "\n",
       ".xr-text-repr-fallback {\n",
       "  /* fallback to plain text repr when CSS is not injected (untrusted notebook) */\n",
       "  display: none;\n",
       "}\n",
       "\n",
       ".xr-header {\n",
       "  padding-top: 6px;\n",
       "  padding-bottom: 6px;\n",
       "  margin-bottom: 4px;\n",
       "  border-bottom: solid 1px var(--xr-border-color);\n",
       "}\n",
       "\n",
       ".xr-header > div,\n",
       ".xr-header > ul {\n",
       "  display: inline;\n",
       "  margin-top: 0;\n",
       "  margin-bottom: 0;\n",
       "}\n",
       "\n",
       ".xr-obj-type,\n",
       ".xr-array-name {\n",
       "  margin-left: 2px;\n",
       "  margin-right: 10px;\n",
       "}\n",
       "\n",
       ".xr-obj-type {\n",
       "  color: var(--xr-font-color2);\n",
       "}\n",
       "\n",
       ".xr-sections {\n",
       "  padding-left: 0 !important;\n",
       "  display: grid;\n",
       "  grid-template-columns: 150px auto auto 1fr 20px 20px;\n",
       "}\n",
       "\n",
       ".xr-section-item {\n",
       "  display: contents;\n",
       "}\n",
       "\n",
       ".xr-section-item input {\n",
       "  display: none;\n",
       "}\n",
       "\n",
       ".xr-section-item input + label {\n",
       "  color: var(--xr-disabled-color);\n",
       "}\n",
       "\n",
       ".xr-section-item input:enabled + label {\n",
       "  cursor: pointer;\n",
       "  color: var(--xr-font-color2);\n",
       "}\n",
       "\n",
       ".xr-section-item input:enabled + label:hover {\n",
       "  color: var(--xr-font-color0);\n",
       "}\n",
       "\n",
       ".xr-section-summary {\n",
       "  grid-column: 1;\n",
       "  color: var(--xr-font-color2);\n",
       "  font-weight: 500;\n",
       "}\n",
       "\n",
       ".xr-section-summary > span {\n",
       "  display: inline-block;\n",
       "  padding-left: 0.5em;\n",
       "}\n",
       "\n",
       ".xr-section-summary-in:disabled + label {\n",
       "  color: var(--xr-font-color2);\n",
       "}\n",
       "\n",
       ".xr-section-summary-in + label:before {\n",
       "  display: inline-block;\n",
       "  content: '►';\n",
       "  font-size: 11px;\n",
       "  width: 15px;\n",
       "  text-align: center;\n",
       "}\n",
       "\n",
       ".xr-section-summary-in:disabled + label:before {\n",
       "  color: var(--xr-disabled-color);\n",
       "}\n",
       "\n",
       ".xr-section-summary-in:checked + label:before {\n",
       "  content: '▼';\n",
       "}\n",
       "\n",
       ".xr-section-summary-in:checked + label > span {\n",
       "  display: none;\n",
       "}\n",
       "\n",
       ".xr-section-summary,\n",
       ".xr-section-inline-details {\n",
       "  padding-top: 4px;\n",
       "  padding-bottom: 4px;\n",
       "}\n",
       "\n",
       ".xr-section-inline-details {\n",
       "  grid-column: 2 / -1;\n",
       "}\n",
       "\n",
       ".xr-section-details {\n",
       "  display: none;\n",
       "  grid-column: 1 / -1;\n",
       "  margin-bottom: 5px;\n",
       "}\n",
       "\n",
       ".xr-section-summary-in:checked ~ .xr-section-details {\n",
       "  display: contents;\n",
       "}\n",
       "\n",
       ".xr-array-wrap {\n",
       "  grid-column: 1 / -1;\n",
       "  display: grid;\n",
       "  grid-template-columns: 20px auto;\n",
       "}\n",
       "\n",
       ".xr-array-wrap > label {\n",
       "  grid-column: 1;\n",
       "  vertical-align: top;\n",
       "}\n",
       "\n",
       ".xr-preview {\n",
       "  color: var(--xr-font-color3);\n",
       "}\n",
       "\n",
       ".xr-array-preview,\n",
       ".xr-array-data {\n",
       "  padding: 0 5px !important;\n",
       "  grid-column: 2;\n",
       "}\n",
       "\n",
       ".xr-array-data,\n",
       ".xr-array-in:checked ~ .xr-array-preview {\n",
       "  display: none;\n",
       "}\n",
       "\n",
       ".xr-array-in:checked ~ .xr-array-data,\n",
       ".xr-array-preview {\n",
       "  display: inline-block;\n",
       "}\n",
       "\n",
       ".xr-dim-list {\n",
       "  display: inline-block !important;\n",
       "  list-style: none;\n",
       "  padding: 0 !important;\n",
       "  margin: 0;\n",
       "}\n",
       "\n",
       ".xr-dim-list li {\n",
       "  display: inline-block;\n",
       "  padding: 0;\n",
       "  margin: 0;\n",
       "}\n",
       "\n",
       ".xr-dim-list:before {\n",
       "  content: '(';\n",
       "}\n",
       "\n",
       ".xr-dim-list:after {\n",
       "  content: ')';\n",
       "}\n",
       "\n",
       ".xr-dim-list li:not(:last-child):after {\n",
       "  content: ',';\n",
       "  padding-right: 5px;\n",
       "}\n",
       "\n",
       ".xr-has-index {\n",
       "  font-weight: bold;\n",
       "}\n",
       "\n",
       ".xr-var-list,\n",
       ".xr-var-item {\n",
       "  display: contents;\n",
       "}\n",
       "\n",
       ".xr-var-item > div,\n",
       ".xr-var-item label,\n",
       ".xr-var-item > .xr-var-name span {\n",
       "  background-color: var(--xr-background-color-row-even);\n",
       "  margin-bottom: 0;\n",
       "}\n",
       "\n",
       ".xr-var-item > .xr-var-name:hover span {\n",
       "  padding-right: 5px;\n",
       "}\n",
       "\n",
       ".xr-var-list > li:nth-child(odd) > div,\n",
       ".xr-var-list > li:nth-child(odd) > label,\n",
       ".xr-var-list > li:nth-child(odd) > .xr-var-name span {\n",
       "  background-color: var(--xr-background-color-row-odd);\n",
       "}\n",
       "\n",
       ".xr-var-name {\n",
       "  grid-column: 1;\n",
       "}\n",
       "\n",
       ".xr-var-dims {\n",
       "  grid-column: 2;\n",
       "}\n",
       "\n",
       ".xr-var-dtype {\n",
       "  grid-column: 3;\n",
       "  text-align: right;\n",
       "  color: var(--xr-font-color2);\n",
       "}\n",
       "\n",
       ".xr-var-preview {\n",
       "  grid-column: 4;\n",
       "}\n",
       "\n",
       ".xr-var-name,\n",
       ".xr-var-dims,\n",
       ".xr-var-dtype,\n",
       ".xr-preview,\n",
       ".xr-attrs dt {\n",
       "  white-space: nowrap;\n",
       "  overflow: hidden;\n",
       "  text-overflow: ellipsis;\n",
       "  padding-right: 10px;\n",
       "}\n",
       "\n",
       ".xr-var-name:hover,\n",
       ".xr-var-dims:hover,\n",
       ".xr-var-dtype:hover,\n",
       ".xr-attrs dt:hover {\n",
       "  overflow: visible;\n",
       "  width: auto;\n",
       "  z-index: 1;\n",
       "}\n",
       "\n",
       ".xr-var-attrs,\n",
       ".xr-var-data {\n",
       "  display: none;\n",
       "  background-color: var(--xr-background-color) !important;\n",
       "  padding-bottom: 5px !important;\n",
       "}\n",
       "\n",
       ".xr-var-attrs-in:checked ~ .xr-var-attrs,\n",
       ".xr-var-data-in:checked ~ .xr-var-data {\n",
       "  display: block;\n",
       "}\n",
       "\n",
       ".xr-var-data > table {\n",
       "  float: right;\n",
       "}\n",
       "\n",
       ".xr-var-name span,\n",
       ".xr-var-data,\n",
       ".xr-attrs {\n",
       "  padding-left: 25px !important;\n",
       "}\n",
       "\n",
       ".xr-attrs,\n",
       ".xr-var-attrs,\n",
       ".xr-var-data {\n",
       "  grid-column: 1 / -1;\n",
       "}\n",
       "\n",
       "dl.xr-attrs {\n",
       "  padding: 0;\n",
       "  margin: 0;\n",
       "  display: grid;\n",
       "  grid-template-columns: 125px auto;\n",
       "}\n",
       "\n",
       ".xr-attrs dt,\n",
       ".xr-attrs dd {\n",
       "  padding: 0;\n",
       "  margin: 0;\n",
       "  float: left;\n",
       "  padding-right: 10px;\n",
       "  width: auto;\n",
       "}\n",
       "\n",
       ".xr-attrs dt {\n",
       "  font-weight: normal;\n",
       "  grid-column: 1;\n",
       "}\n",
       "\n",
       ".xr-attrs dt:hover span {\n",
       "  display: inline-block;\n",
       "  background: var(--xr-background-color);\n",
       "  padding-right: 10px;\n",
       "}\n",
       "\n",
       ".xr-attrs dd {\n",
       "  grid-column: 2;\n",
       "  white-space: pre-wrap;\n",
       "  word-break: break-all;\n",
       "}\n",
       "\n",
       ".xr-icon-database,\n",
       ".xr-icon-file-text2 {\n",
       "  display: inline-block;\n",
       "  vertical-align: middle;\n",
       "  width: 1em;\n",
       "  height: 1.5em !important;\n",
       "  stroke-width: 0;\n",
       "  stroke: currentColor;\n",
       "  fill: currentColor;\n",
       "}\n",
       "</style><pre class='xr-text-repr-fallback'>&lt;xarray.Dataset&gt;\n",
       "Dimensions:                       (snapshots: 8784, investment_periods: 0,\n",
       "                                   carriers_i: 9, links_i: 2, links_t_p0_i: 2,\n",
       "                                   links_t_p1_i: 2, links_t_mu_lower_i: 2,\n",
       "                                   links_t_mu_upper_i: 2, loads_i: 50,\n",
       "                                   loads_t_p_set_i: 50, loads_t_p_i: 50,\n",
       "                                   generators_i: 160,\n",
       "                                   ...\n",
       "                                   generators_t_p_i: 144, lines_i: 128,\n",
       "                                   lines_t_p0_i: 128, lines_t_p1_i: 128,\n",
       "                                   lines_t_mu_lower_i: 15,\n",
       "                                   lines_t_mu_upper_i: 15, buses_i: 50,\n",
       "                                   buses_t_p_i: 50, buses_t_v_ang_i: 50,\n",
       "                                   buses_t_marginal_price_i: 50)\n",
       "Coordinates: (12/24)\n",
       "  * snapshots                     (snapshots) int64 0 1 2 3 ... 8781 8782 8783\n",
       "  * investment_periods            (investment_periods) float64 \n",
       "  * carriers_i                    (carriers_i) object &#x27;solar&#x27; ... &#x27;oil&#x27;\n",
       "  * links_i                       (links_i) object &#x27;9&#x27; &#x27;10&#x27;\n",
       "  * links_t_p0_i                  (links_t_p0_i) object &#x27;9&#x27; &#x27;10&#x27;\n",
       "  * links_t_p1_i                  (links_t_p1_i) object &#x27;9&#x27; &#x27;10&#x27;\n",
       "    ...                            ...\n",
       "  * lines_t_mu_lower_i            (lines_t_mu_lower_i) object &#x27;10&#x27; ... &#x27;128&#x27;\n",
       "  * lines_t_mu_upper_i            (lines_t_mu_upper_i) object &#x27;10&#x27; ... &#x27;118&#x27;\n",
       "  * buses_i                       (buses_i) object &#x27;AVA0 0&#x27; ... &#x27;WALC0 0&#x27;\n",
       "  * buses_t_p_i                   (buses_t_p_i) object &#x27;AVA0 0&#x27; ... &#x27;WALC0 0&#x27;\n",
       "  * buses_t_v_ang_i               (buses_t_v_ang_i) object &#x27;AVA0 0&#x27; ... &#x27;WALC...\n",
       "  * buses_t_marginal_price_i      (buses_t_marginal_price_i) object &#x27;AVA0 0&#x27; ...\n",
       "Data variables: (12/63)\n",
       "    snapshots_snapshot            (snapshots) datetime64[ns] 2016-01-01 ... 2...\n",
       "    snapshots_objective           (snapshots) float64 1.0 1.0 1.0 ... 1.0 1.0\n",
       "    snapshots_generators          (snapshots) float64 1.0 1.0 1.0 ... 1.0 1.0\n",
       "    snapshots_stores              (snapshots) float64 1.0 1.0 1.0 ... 1.0 1.0\n",
       "    investment_periods_objective  (investment_periods) float64 \n",
       "    investment_periods_years      (investment_periods) float64 \n",
       "    ...                            ...\n",
       "    buses_country                 (buses_i) object &#x27;AVA&#x27; &#x27;Arizona&#x27; ... &#x27;WALC&#x27;\n",
       "    buses_control                 (buses_i) object &#x27;Slack&#x27; &#x27;PQ&#x27; ... &#x27;PQ&#x27; &#x27;PQ&#x27;\n",
       "    buses_generator               (buses_i) object &#x27;AVA0 0 hydro&#x27; &#x27;&#x27; ... &#x27;&#x27; &#x27;&#x27;\n",
       "    buses_t_p                     (snapshots, buses_t_p_i) float64 -900.9 ......\n",
       "    buses_t_v_ang                 (snapshots, buses_t_v_ang_i) float64 -0.118...\n",
       "    buses_t_marginal_price        (snapshots, buses_t_marginal_price_i) float64 ...\n",
       "Attributes:\n",
       "    network__cCounter:           6227857\n",
       "    network__multi_invest:       0\n",
       "    network__xCounter:           2547420\n",
       "    network_max_memusage:        3125465088\n",
       "    network_name:                \n",
       "    network_objective:           8783072020.072104\n",
       "    network_objective_constant:  2591285865.223094\n",
       "    network_pypsa_version:       0.21.1\n",
       "    network_srid:                4326\n",
       "    meta:                        {&quot;version&quot;: &quot;0.5.0&quot;, &quot;tutorial&quot;: false, &quot;log...</pre><div class='xr-wrap' style='display:none'><div class='xr-header'><div class='xr-obj-type'>xarray.Dataset</div></div><ul class='xr-sections'><li class='xr-section-item'><input id='section-0d5a83cd-451d-4f00-b954-ec69fc67f7a7' class='xr-section-summary-in' type='checkbox' disabled ><label for='section-0d5a83cd-451d-4f00-b954-ec69fc67f7a7' class='xr-section-summary'  title='Expand/collapse section'>Dimensions:</label><div class='xr-section-inline-details'><ul class='xr-dim-list'><li><span class='xr-has-index'>snapshots</span>: 8784</li><li><span class='xr-has-index'>investment_periods</span>: 0</li><li><span class='xr-has-index'>carriers_i</span>: 9</li><li><span class='xr-has-index'>links_i</span>: 2</li><li><span class='xr-has-index'>links_t_p0_i</span>: 2</li><li><span class='xr-has-index'>links_t_p1_i</span>: 2</li><li><span class='xr-has-index'>links_t_mu_lower_i</span>: 2</li><li><span class='xr-has-index'>links_t_mu_upper_i</span>: 2</li><li><span class='xr-has-index'>loads_i</span>: 50</li><li><span class='xr-has-index'>loads_t_p_set_i</span>: 50</li><li><span class='xr-has-index'>loads_t_p_i</span>: 50</li><li><span class='xr-has-index'>generators_i</span>: 160</li><li><span class='xr-has-index'>generators_t_p_max_pu_i</span>: 94</li><li><span class='xr-has-index'>generators_t_p_set_i</span>: 160</li><li><span class='xr-has-index'>generators_t_p_i</span>: 144</li><li><span class='xr-has-index'>lines_i</span>: 128</li><li><span class='xr-has-index'>lines_t_p0_i</span>: 128</li><li><span class='xr-has-index'>lines_t_p1_i</span>: 128</li><li><span class='xr-has-index'>lines_t_mu_lower_i</span>: 15</li><li><span class='xr-has-index'>lines_t_mu_upper_i</span>: 15</li><li><span class='xr-has-index'>buses_i</span>: 50</li><li><span class='xr-has-index'>buses_t_p_i</span>: 50</li><li><span class='xr-has-index'>buses_t_v_ang_i</span>: 50</li><li><span class='xr-has-index'>buses_t_marginal_price_i</span>: 50</li></ul></div><div class='xr-section-details'></div></li><li class='xr-section-item'><input id='section-cf2f3a15-d09e-470b-a321-79bdaaa21613' class='xr-section-summary-in' type='checkbox'  checked><label for='section-cf2f3a15-d09e-470b-a321-79bdaaa21613' class='xr-section-summary' >Coordinates: <span>(24)</span></label><div class='xr-section-inline-details'></div><div class='xr-section-details'><ul class='xr-var-list'><li class='xr-var-item'><div class='xr-var-name'><span class='xr-has-index'>snapshots</span></div><div class='xr-var-dims'>(snapshots)</div><div class='xr-var-dtype'>int64</div><div class='xr-var-preview xr-preview'>0 1 2 3 4 ... 8780 8781 8782 8783</div><input id='attrs-83a4b26a-7fba-425e-b1e4-4c55705546f5' class='xr-var-attrs-in' type='checkbox' disabled><label for='attrs-83a4b26a-7fba-425e-b1e4-4c55705546f5' title='Show/Hide attributes'><svg class='icon xr-icon-file-text2'><use xlink:href='#icon-file-text2'></use></svg></label><input id='data-f5a09254-c17b-45fd-9ff3-a0a91cd5ec45' class='xr-var-data-in' type='checkbox'><label for='data-f5a09254-c17b-45fd-9ff3-a0a91cd5ec45' title='Show/Hide data repr'><svg class='icon xr-icon-database'><use xlink:href='#icon-database'></use></svg></label><div class='xr-var-attrs'><dl class='xr-attrs'></dl></div><div class='xr-var-data'><pre>array([   0,    1,    2, ..., 8781, 8782, 8783])</pre></div></li><li class='xr-var-item'><div class='xr-var-name'><span class='xr-has-index'>investment_periods</span></div><div class='xr-var-dims'>(investment_periods)</div><div class='xr-var-dtype'>float64</div><div class='xr-var-preview xr-preview'></div><input id='attrs-c8e1555e-077d-4964-9338-afeeab3f40c6' class='xr-var-attrs-in' type='checkbox' disabled><label for='attrs-c8e1555e-077d-4964-9338-afeeab3f40c6' title='Show/Hide attributes'><svg class='icon xr-icon-file-text2'><use xlink:href='#icon-file-text2'></use></svg></label><input id='data-f739d355-9613-4908-9147-f1831113b849' class='xr-var-data-in' type='checkbox'><label for='data-f739d355-9613-4908-9147-f1831113b849' title='Show/Hide data repr'><svg class='icon xr-icon-database'><use xlink:href='#icon-database'></use></svg></label><div class='xr-var-attrs'><dl class='xr-attrs'></dl></div><div class='xr-var-data'><pre>array([], dtype=float64)</pre></div></li><li class='xr-var-item'><div class='xr-var-name'><span class='xr-has-index'>carriers_i</span></div><div class='xr-var-dims'>(carriers_i)</div><div class='xr-var-dtype'>object</div><div class='xr-var-preview xr-preview'>&#x27;solar&#x27; &#x27;offwind&#x27; ... &#x27;oil&#x27;</div><input id='attrs-fde5541e-63da-48f1-b87e-d374a3adc7ad' class='xr-var-attrs-in' type='checkbox' disabled><label for='attrs-fde5541e-63da-48f1-b87e-d374a3adc7ad' title='Show/Hide attributes'><svg class='icon xr-icon-file-text2'><use xlink:href='#icon-file-text2'></use></svg></label><input id='data-9d3ab193-16c4-4cde-a7ae-efa3ef1599b5' class='xr-var-data-in' type='checkbox'><label for='data-9d3ab193-16c4-4cde-a7ae-efa3ef1599b5' title='Show/Hide data repr'><svg class='icon xr-icon-database'><use xlink:href='#icon-database'></use></svg></label><div class='xr-var-attrs'><dl class='xr-attrs'></dl></div><div class='xr-var-data'><pre>array([&#x27;solar&#x27;, &#x27;offwind&#x27;, &#x27;hydro&#x27;, &#x27;wind&#x27;, &#x27;coal&#x27;, &#x27;geothermal&#x27;, &#x27;ng&#x27;,\n",
       "       &#x27;nuclear&#x27;, &#x27;oil&#x27;], dtype=object)</pre></div></li><li class='xr-var-item'><div class='xr-var-name'><span class='xr-has-index'>links_i</span></div><div class='xr-var-dims'>(links_i)</div><div class='xr-var-dtype'>object</div><div class='xr-var-preview xr-preview'>&#x27;9&#x27; &#x27;10&#x27;</div><input id='attrs-a6f14906-8038-44d9-8802-88417a1cb4ed' class='xr-var-attrs-in' type='checkbox' disabled><label for='attrs-a6f14906-8038-44d9-8802-88417a1cb4ed' title='Show/Hide attributes'><svg class='icon xr-icon-file-text2'><use xlink:href='#icon-file-text2'></use></svg></label><input id='data-26aa26a0-cbff-44ad-a5df-82fcf74a8c0d' class='xr-var-data-in' type='checkbox'><label for='data-26aa26a0-cbff-44ad-a5df-82fcf74a8c0d' title='Show/Hide data repr'><svg class='icon xr-icon-database'><use xlink:href='#icon-database'></use></svg></label><div class='xr-var-attrs'><dl class='xr-attrs'></dl></div><div class='xr-var-data'><pre>array([&#x27;9&#x27;, &#x27;10&#x27;], dtype=object)</pre></div></li><li class='xr-var-item'><div class='xr-var-name'><span class='xr-has-index'>links_t_p0_i</span></div><div class='xr-var-dims'>(links_t_p0_i)</div><div class='xr-var-dtype'>object</div><div class='xr-var-preview xr-preview'>&#x27;9&#x27; &#x27;10&#x27;</div><input id='attrs-a2a797dc-d9c8-419b-893c-b2d82a9d3932' class='xr-var-attrs-in' type='checkbox' disabled><label for='attrs-a2a797dc-d9c8-419b-893c-b2d82a9d3932' title='Show/Hide attributes'><svg class='icon xr-icon-file-text2'><use xlink:href='#icon-file-text2'></use></svg></label><input id='data-053e072f-be16-4641-b609-0d3927777e39' class='xr-var-data-in' type='checkbox'><label for='data-053e072f-be16-4641-b609-0d3927777e39' title='Show/Hide data repr'><svg class='icon xr-icon-database'><use xlink:href='#icon-database'></use></svg></label><div class='xr-var-attrs'><dl class='xr-attrs'></dl></div><div class='xr-var-data'><pre>array([&#x27;9&#x27;, &#x27;10&#x27;], dtype=object)</pre></div></li><li class='xr-var-item'><div class='xr-var-name'><span class='xr-has-index'>links_t_p1_i</span></div><div class='xr-var-dims'>(links_t_p1_i)</div><div class='xr-var-dtype'>object</div><div class='xr-var-preview xr-preview'>&#x27;9&#x27; &#x27;10&#x27;</div><input id='attrs-846084e1-f42e-4e8e-8aa7-13651ad4bce9' class='xr-var-attrs-in' type='checkbox' disabled><label for='attrs-846084e1-f42e-4e8e-8aa7-13651ad4bce9' title='Show/Hide attributes'><svg class='icon xr-icon-file-text2'><use xlink:href='#icon-file-text2'></use></svg></label><input id='data-2cf9b763-9519-42b7-a2a5-e8a8f0b7d2d1' class='xr-var-data-in' type='checkbox'><label for='data-2cf9b763-9519-42b7-a2a5-e8a8f0b7d2d1' title='Show/Hide data repr'><svg class='icon xr-icon-database'><use xlink:href='#icon-database'></use></svg></label><div class='xr-var-attrs'><dl class='xr-attrs'></dl></div><div class='xr-var-data'><pre>array([&#x27;9&#x27;, &#x27;10&#x27;], dtype=object)</pre></div></li><li class='xr-var-item'><div class='xr-var-name'><span class='xr-has-index'>links_t_mu_lower_i</span></div><div class='xr-var-dims'>(links_t_mu_lower_i)</div><div class='xr-var-dtype'>object</div><div class='xr-var-preview xr-preview'>&#x27;9&#x27; &#x27;10&#x27;</div><input id='attrs-322d8b04-8361-4844-bf7d-d94747594ad3' class='xr-var-attrs-in' type='checkbox' disabled><label for='attrs-322d8b04-8361-4844-bf7d-d94747594ad3' title='Show/Hide attributes'><svg class='icon xr-icon-file-text2'><use xlink:href='#icon-file-text2'></use></svg></label><input id='data-662f49f5-7a3f-4175-aac0-2b50f718ff47' class='xr-var-data-in' type='checkbox'><label for='data-662f49f5-7a3f-4175-aac0-2b50f718ff47' title='Show/Hide data repr'><svg class='icon xr-icon-database'><use xlink:href='#icon-database'></use></svg></label><div class='xr-var-attrs'><dl class='xr-attrs'></dl></div><div class='xr-var-data'><pre>array([&#x27;9&#x27;, &#x27;10&#x27;], dtype=object)</pre></div></li><li class='xr-var-item'><div class='xr-var-name'><span class='xr-has-index'>links_t_mu_upper_i</span></div><div class='xr-var-dims'>(links_t_mu_upper_i)</div><div class='xr-var-dtype'>object</div><div class='xr-var-preview xr-preview'>&#x27;9&#x27; &#x27;10&#x27;</div><input id='attrs-c11715ba-e952-4bf9-85df-b6fc49c653ad' class='xr-var-attrs-in' type='checkbox' disabled><label for='attrs-c11715ba-e952-4bf9-85df-b6fc49c653ad' title='Show/Hide attributes'><svg class='icon xr-icon-file-text2'><use xlink:href='#icon-file-text2'></use></svg></label><input id='data-8b22c06e-09c0-4e79-a39a-9de7bce7793f' class='xr-var-data-in' type='checkbox'><label for='data-8b22c06e-09c0-4e79-a39a-9de7bce7793f' title='Show/Hide data repr'><svg class='icon xr-icon-database'><use xlink:href='#icon-database'></use></svg></label><div class='xr-var-attrs'><dl class='xr-attrs'></dl></div><div class='xr-var-data'><pre>array([&#x27;9&#x27;, &#x27;10&#x27;], dtype=object)</pre></div></li><li class='xr-var-item'><div class='xr-var-name'><span class='xr-has-index'>loads_i</span></div><div class='xr-var-dims'>(loads_i)</div><div class='xr-var-dtype'>object</div><div class='xr-var-preview xr-preview'>&#x27;AVA0 0&#x27; &#x27;Arizona0 0&#x27; ... &#x27;WALC0 0&#x27;</div><input id='attrs-9429ca87-d10d-4799-b802-380edb0764bf' class='xr-var-attrs-in' type='checkbox' disabled><label for='attrs-9429ca87-d10d-4799-b802-380edb0764bf' title='Show/Hide attributes'><svg class='icon xr-icon-file-text2'><use xlink:href='#icon-file-text2'></use></svg></label><input id='data-61d27438-066d-4a64-9dd7-814e9ee17ad5' class='xr-var-data-in' type='checkbox'><label for='data-61d27438-066d-4a64-9dd7-814e9ee17ad5' title='Show/Hide data repr'><svg class='icon xr-icon-database'><use xlink:href='#icon-database'></use></svg></label><div class='xr-var-attrs'><dl class='xr-attrs'></dl></div><div class='xr-var-data'><pre>array([&#x27;AVA0 0&#x27;, &#x27;Arizona0 0&#x27;, &#x27;Arizona0 1&#x27;, &#x27;Arizona0 2&#x27;, &#x27;Arizona0 3&#x27;,\n",
       "       &#x27;BANC0 0&#x27;, &#x27;BPAT0 0&#x27;, &#x27;BPAT0 1&#x27;, &#x27;BPAT0 2&#x27;, &#x27;BPAT0 3&#x27;, &#x27;BPAT0 4&#x27;,\n",
       "       &#x27;CHPD0 0&#x27;, &#x27;CISO-PGAE0 0&#x27;, &#x27;CISO-PGAE0 1&#x27;, &#x27;CISO-PGAE0 2&#x27;,\n",
       "       &#x27;CISO-PGAE0 3&#x27;, &#x27;CISO-PGAE0 4&#x27;, &#x27;CISO-SCE0 0&#x27;, &#x27;CISO-SCE0 1&#x27;,\n",
       "       &#x27;CISO-SCE0 2&#x27;, &#x27;CISO-SCE0 3&#x27;, &#x27;CISO-SCE0 4&#x27;, &#x27;CISO-SCE0 5&#x27;,\n",
       "       &#x27;CISO-SCE0 6&#x27;, &#x27;CISO-SDGE0 0&#x27;, &#x27;CISO-VEA0 0&#x27;, &#x27;DOPD0 0&#x27;, &#x27;EPE0 0&#x27;,\n",
       "       &#x27;GCPD0 0&#x27;, &#x27;GRID0 0&#x27;, &#x27;IID0 0&#x27;, &#x27;IPCO0 0&#x27;, &#x27;LADWP0 0&#x27;, &#x27;MISO-00010 0&#x27;,\n",
       "       &#x27;MT_west0 0&#x27;, &#x27;NEVP0 0&#x27;, &#x27;NEVP0 1&#x27;, &#x27;PACE0 0&#x27;, &#x27;PACE0 1&#x27;, &#x27;PACW0 0&#x27;,\n",
       "       &#x27;PGE0 0&#x27;, &#x27;PNM0 0&#x27;, &#x27;PSCO0 0&#x27;, &#x27;PSCO0 1&#x27;, &#x27;PSEI0 0&#x27;, &#x27;TEPC0 0&#x27;,\n",
       "       &#x27;TID0 0&#x27;, &#x27;US0 0&#x27;, &#x27;WACM0 0&#x27;, &#x27;WALC0 0&#x27;], dtype=object)</pre></div></li><li class='xr-var-item'><div class='xr-var-name'><span class='xr-has-index'>loads_t_p_set_i</span></div><div class='xr-var-dims'>(loads_t_p_set_i)</div><div class='xr-var-dtype'>object</div><div class='xr-var-preview xr-preview'>&#x27;AVA0 0&#x27; &#x27;Arizona0 0&#x27; ... &#x27;WALC0 0&#x27;</div><input id='attrs-db77a199-1ceb-4c7e-8a10-3428e61da63d' class='xr-var-attrs-in' type='checkbox' disabled><label for='attrs-db77a199-1ceb-4c7e-8a10-3428e61da63d' title='Show/Hide attributes'><svg class='icon xr-icon-file-text2'><use xlink:href='#icon-file-text2'></use></svg></label><input id='data-0e200f8e-9730-4bd5-8e97-a166194daa53' class='xr-var-data-in' type='checkbox'><label for='data-0e200f8e-9730-4bd5-8e97-a166194daa53' title='Show/Hide data repr'><svg class='icon xr-icon-database'><use xlink:href='#icon-database'></use></svg></label><div class='xr-var-attrs'><dl class='xr-attrs'></dl></div><div class='xr-var-data'><pre>array([&#x27;AVA0 0&#x27;, &#x27;Arizona0 0&#x27;, &#x27;Arizona0 1&#x27;, &#x27;Arizona0 2&#x27;, &#x27;Arizona0 3&#x27;,\n",
       "       &#x27;BANC0 0&#x27;, &#x27;BPAT0 0&#x27;, &#x27;BPAT0 1&#x27;, &#x27;BPAT0 2&#x27;, &#x27;BPAT0 3&#x27;, &#x27;BPAT0 4&#x27;,\n",
       "       &#x27;CHPD0 0&#x27;, &#x27;CISO-PGAE0 0&#x27;, &#x27;CISO-PGAE0 1&#x27;, &#x27;CISO-PGAE0 2&#x27;,\n",
       "       &#x27;CISO-PGAE0 3&#x27;, &#x27;CISO-PGAE0 4&#x27;, &#x27;CISO-SCE0 0&#x27;, &#x27;CISO-SCE0 1&#x27;,\n",
       "       &#x27;CISO-SCE0 2&#x27;, &#x27;CISO-SCE0 3&#x27;, &#x27;CISO-SCE0 4&#x27;, &#x27;CISO-SCE0 5&#x27;,\n",
       "       &#x27;CISO-SCE0 6&#x27;, &#x27;CISO-SDGE0 0&#x27;, &#x27;CISO-VEA0 0&#x27;, &#x27;DOPD0 0&#x27;, &#x27;EPE0 0&#x27;,\n",
       "       &#x27;GCPD0 0&#x27;, &#x27;GRID0 0&#x27;, &#x27;IID0 0&#x27;, &#x27;IPCO0 0&#x27;, &#x27;LADWP0 0&#x27;, &#x27;MISO-00010 0&#x27;,\n",
       "       &#x27;MT_west0 0&#x27;, &#x27;NEVP0 0&#x27;, &#x27;NEVP0 1&#x27;, &#x27;PACE0 0&#x27;, &#x27;PACE0 1&#x27;, &#x27;PACW0 0&#x27;,\n",
       "       &#x27;PGE0 0&#x27;, &#x27;PNM0 0&#x27;, &#x27;PSCO0 0&#x27;, &#x27;PSCO0 1&#x27;, &#x27;PSEI0 0&#x27;, &#x27;TEPC0 0&#x27;,\n",
       "       &#x27;TID0 0&#x27;, &#x27;US0 0&#x27;, &#x27;WACM0 0&#x27;, &#x27;WALC0 0&#x27;], dtype=object)</pre></div></li><li class='xr-var-item'><div class='xr-var-name'><span class='xr-has-index'>loads_t_p_i</span></div><div class='xr-var-dims'>(loads_t_p_i)</div><div class='xr-var-dtype'>object</div><div class='xr-var-preview xr-preview'>&#x27;AVA0 0&#x27; &#x27;Arizona0 0&#x27; ... &#x27;WALC0 0&#x27;</div><input id='attrs-5cb46e5b-1134-4b8b-9f73-62051cb8a389' class='xr-var-attrs-in' type='checkbox' disabled><label for='attrs-5cb46e5b-1134-4b8b-9f73-62051cb8a389' title='Show/Hide attributes'><svg class='icon xr-icon-file-text2'><use xlink:href='#icon-file-text2'></use></svg></label><input id='data-346cbb7c-c962-4ab1-b436-3b384c11a93f' class='xr-var-data-in' type='checkbox'><label for='data-346cbb7c-c962-4ab1-b436-3b384c11a93f' title='Show/Hide data repr'><svg class='icon xr-icon-database'><use xlink:href='#icon-database'></use></svg></label><div class='xr-var-attrs'><dl class='xr-attrs'></dl></div><div class='xr-var-data'><pre>array([&#x27;AVA0 0&#x27;, &#x27;Arizona0 0&#x27;, &#x27;Arizona0 1&#x27;, &#x27;Arizona0 2&#x27;, &#x27;Arizona0 3&#x27;,\n",
       "       &#x27;BANC0 0&#x27;, &#x27;BPAT0 0&#x27;, &#x27;BPAT0 1&#x27;, &#x27;BPAT0 2&#x27;, &#x27;BPAT0 3&#x27;, &#x27;BPAT0 4&#x27;,\n",
       "       &#x27;CHPD0 0&#x27;, &#x27;CISO-PGAE0 0&#x27;, &#x27;CISO-PGAE0 1&#x27;, &#x27;CISO-PGAE0 2&#x27;,\n",
       "       &#x27;CISO-PGAE0 3&#x27;, &#x27;CISO-PGAE0 4&#x27;, &#x27;CISO-SCE0 0&#x27;, &#x27;CISO-SCE0 1&#x27;,\n",
       "       &#x27;CISO-SCE0 2&#x27;, &#x27;CISO-SCE0 3&#x27;, &#x27;CISO-SCE0 4&#x27;, &#x27;CISO-SCE0 5&#x27;,\n",
       "       &#x27;CISO-SCE0 6&#x27;, &#x27;CISO-SDGE0 0&#x27;, &#x27;CISO-VEA0 0&#x27;, &#x27;DOPD0 0&#x27;, &#x27;EPE0 0&#x27;,\n",
       "       &#x27;GCPD0 0&#x27;, &#x27;GRID0 0&#x27;, &#x27;IID0 0&#x27;, &#x27;IPCO0 0&#x27;, &#x27;LADWP0 0&#x27;, &#x27;MISO-00010 0&#x27;,\n",
       "       &#x27;MT_west0 0&#x27;, &#x27;NEVP0 0&#x27;, &#x27;NEVP0 1&#x27;, &#x27;PACE0 0&#x27;, &#x27;PACE0 1&#x27;, &#x27;PACW0 0&#x27;,\n",
       "       &#x27;PGE0 0&#x27;, &#x27;PNM0 0&#x27;, &#x27;PSCO0 0&#x27;, &#x27;PSCO0 1&#x27;, &#x27;PSEI0 0&#x27;, &#x27;TEPC0 0&#x27;,\n",
       "       &#x27;TID0 0&#x27;, &#x27;US0 0&#x27;, &#x27;WACM0 0&#x27;, &#x27;WALC0 0&#x27;], dtype=object)</pre></div></li><li class='xr-var-item'><div class='xr-var-name'><span class='xr-has-index'>generators_i</span></div><div class='xr-var-dims'>(generators_i)</div><div class='xr-var-dtype'>object</div><div class='xr-var-preview xr-preview'>&#x27;AVA0 0 hydro&#x27; ... &#x27;WALC0 0 hydro&#x27;</div><input id='attrs-a3cc1ba2-5345-4155-8b2a-76ce3e2844f8' class='xr-var-attrs-in' type='checkbox' disabled><label for='attrs-a3cc1ba2-5345-4155-8b2a-76ce3e2844f8' title='Show/Hide attributes'><svg class='icon xr-icon-file-text2'><use xlink:href='#icon-file-text2'></use></svg></label><input id='data-8f6fc762-e32f-4b2d-84f7-75f63613e900' class='xr-var-data-in' type='checkbox'><label for='data-8f6fc762-e32f-4b2d-84f7-75f63613e900' title='Show/Hide data repr'><svg class='icon xr-icon-database'><use xlink:href='#icon-database'></use></svg></label><div class='xr-var-attrs'><dl class='xr-attrs'></dl></div><div class='xr-var-data'><pre>array([&#x27;AVA0 0 hydro&#x27;, &#x27;AVA0 0 ng&#x27;, &#x27;AVA0 0 solar&#x27;, &#x27;AVA0 0 wind&#x27;,\n",
       "       &#x27;Arizona0 0 hydro&#x27;, &#x27;Arizona0 0 ng&#x27;, &#x27;Arizona0 0 nuclear&#x27;,\n",
       "       &#x27;Arizona0 0 solar&#x27;, &#x27;Arizona0 1 coal&#x27;, &#x27;Arizona0 1 hydro&#x27;,\n",
       "       &#x27;Arizona0 1 solar&#x27;, &#x27;Arizona0 1 wind&#x27;, &#x27;Arizona0 2 coal&#x27;,\n",
       "       &#x27;Arizona0 2 solar&#x27;, &#x27;Arizona0 2 wind&#x27;, &#x27;Arizona0 3 hydro&#x27;,\n",
       "       &#x27;Arizona0 3 ng&#x27;, &#x27;Arizona0 3 solar&#x27;, &#x27;Arizona0 3 wind&#x27;, &#x27;BANC0 0 coal&#x27;,\n",
       "       &#x27;BANC0 0 hydro&#x27;, &#x27;BANC0 0 ng&#x27;, &#x27;BPAT0 0 hydro&#x27;, &#x27;BPAT0 0 ng&#x27;,\n",
       "       &#x27;BPAT0 0 solar&#x27;, &#x27;BPAT0 1 hydro&#x27;, &#x27;BPAT0 1 ng&#x27;, &#x27;BPAT0 1 nuclear&#x27;,\n",
       "       &#x27;BPAT0 1 solar&#x27;, &#x27;BPAT0 1 wind&#x27;, &#x27;BPAT0 2 coal&#x27;, &#x27;BPAT0 2 hydro&#x27;,\n",
       "       &#x27;BPAT0 2 ng&#x27;, &#x27;BPAT0 2 solar&#x27;, &#x27;BPAT0 3 hydro&#x27;, &#x27;BPAT0 4 hydro&#x27;,\n",
       "       &#x27;BPAT0 4 ng&#x27;, &#x27;BPAT0 4 solar&#x27;, &#x27;BPAT0 4 wind&#x27;, &#x27;CHPD0 0 hydro&#x27;,\n",
       "       &#x27;CISO-PGAE0 0 hydro&#x27;, &#x27;CISO-PGAE0 0 ng&#x27;, &#x27;CISO-PGAE0 0 solar&#x27;,\n",
       "       &#x27;CISO-PGAE0 1 hydro&#x27;, &#x27;CISO-PGAE0 1 ng&#x27;, &#x27;CISO-PGAE0 1 solar&#x27;,\n",
       "       &#x27;CISO-PGAE0 2 coal&#x27;, &#x27;CISO-PGAE0 2 geothermal&#x27;, &#x27;CISO-PGAE0 2 hydro&#x27;,\n",
       "       &#x27;CISO-PGAE0 2 ng&#x27;, &#x27;CISO-PGAE0 2 solar&#x27;, &#x27;CISO-PGAE0 2 wind&#x27;,\n",
       "       &#x27;CISO-PGAE0 3 ng&#x27;, &#x27;CISO-PGAE0 3 solar&#x27;, &#x27;CISO-PGAE0 4 hydro&#x27;,\n",
       "       &#x27;CISO-PGAE0 4 ng&#x27;, &#x27;CISO-PGAE0 4 solar&#x27;, &#x27;CISO-PGAE0 4 wind&#x27;,\n",
       "       &#x27;CISO-SCE0 0 coal&#x27;, &#x27;CISO-SCE0 0 geothermal&#x27;, &#x27;CISO-SCE0 0 ng&#x27;,\n",
       "       &#x27;CISO-SCE0 0 solar&#x27;, &#x27;CISO-SCE0 0 wind&#x27;, &#x27;CISO-SCE0 1 geothermal&#x27;,\n",
       "       &#x27;CISO-SCE0 1 hydro&#x27;, &#x27;CISO-SCE0 2 ng&#x27;, &#x27;CISO-SCE0 2 solar&#x27;,\n",
       "       &#x27;CISO-SCE0 3 hydro&#x27;, &#x27;CISO-SCE0 3 ng&#x27;, &#x27;CISO-SCE0 4 hydro&#x27;,\n",
       "       &#x27;CISO-SCE0 4 ng&#x27;, &#x27;CISO-SCE0 4 solar&#x27;, &#x27;CISO-SCE0 5 ng&#x27;,\n",
       "       &#x27;CISO-SCE0 5 solar&#x27;, &#x27;CISO-SCE0 5 wind&#x27;, &#x27;CISO-SCE0 6 coal&#x27;,\n",
       "       &#x27;CISO-SCE0 6 hydro&#x27;, &#x27;CISO-SCE0 6 ng&#x27;, &#x27;CISO-SCE0 6 solar&#x27;,\n",
       "       &#x27;CISO-SDGE0 0 hydro&#x27;, &#x27;CISO-SDGE0 0 ng&#x27;, &#x27;CISO-SDGE0 0 wind&#x27;,\n",
       "       &#x27;CISO-VEA0 0 solar&#x27;, &#x27;DOPD0 0 hydro&#x27;, &#x27;EPE0 0 ng&#x27;, &#x27;EPE0 0 solar&#x27;,\n",
       "       &#x27;GCPD0 0 hydro&#x27;, &#x27;GRID0 0 coal&#x27;, &#x27;GRID0 0 ng&#x27;, &#x27;GRID0 0 wind&#x27;,\n",
       "       &#x27;IID0 0 geothermal&#x27;, &#x27;IID0 0 hydro&#x27;, &#x27;IID0 0 ng&#x27;, &#x27;IID0 0 solar&#x27;,\n",
       "       &#x27;IID0 0 wind&#x27;, &#x27;IPCO0 0 hydro&#x27;, &#x27;IPCO0 0 ng&#x27;, &#x27;IPCO0 0 solar&#x27;,\n",
       "       &#x27;IPCO0 0 wind&#x27;, &#x27;LADWP0 0 ng&#x27;, &#x27;MISO-00010 0 coal&#x27;,\n",
       "       &#x27;MISO-00010 0 hydro&#x27;, &#x27;MT_west0 0 coal&#x27;, &#x27;MT_west0 0 hydro&#x27;,\n",
       "       &#x27;MT_west0 0 ng&#x27;, &#x27;MT_west0 0 wind&#x27;, &#x27;NEVP0 0 coal&#x27;, &#x27;NEVP0 0 hydro&#x27;,\n",
       "       &#x27;NEVP0 0 ng&#x27;, &#x27;NEVP0 0 solar&#x27;, &#x27;NEVP0 0 wind&#x27;, &#x27;NEVP0 1 coal&#x27;,\n",
       "       &#x27;NEVP0 1 geothermal&#x27;, &#x27;NEVP0 1 ng&#x27;, &#x27;NEVP0 1 solar&#x27;, &#x27;PACE0 0 coal&#x27;,\n",
       "       &#x27;PACE0 0 hydro&#x27;, &#x27;PACE0 0 ng&#x27;, &#x27;PACE0 0 solar&#x27;, &#x27;PACE0 0 wind&#x27;,\n",
       "       &#x27;PACE0 1 coal&#x27;, &#x27;PACE0 1 hydro&#x27;, &#x27;PACE0 1 ng&#x27;, &#x27;PACE0 1 solar&#x27;,\n",
       "       &#x27;PACE0 1 wind&#x27;, &#x27;PACW0 0 hydro&#x27;, &#x27;PACW0 0 ng&#x27;, &#x27;PACW0 0 solar&#x27;,\n",
       "       &#x27;PGE0 0 hydro&#x27;, &#x27;PGE0 0 solar&#x27;, &#x27;PNM0 0 coal&#x27;, &#x27;PNM0 0 hydro&#x27;,\n",
       "       &#x27;PNM0 0 ng&#x27;, &#x27;PNM0 0 solar&#x27;, &#x27;PNM0 0 wind&#x27;, &#x27;PSCO0 0 coal&#x27;,\n",
       "       &#x27;PSCO0 0 ng&#x27;, &#x27;PSCO0 0 solar&#x27;, &#x27;PSCO0 0 wind&#x27;, &#x27;PSCO0 1 coal&#x27;,\n",
       "       &#x27;PSCO0 1 hydro&#x27;, &#x27;PSCO0 1 ng&#x27;, &#x27;PSCO0 1 solar&#x27;, &#x27;PSCO0 1 wind&#x27;,\n",
       "       &#x27;PSEI0 0 hydro&#x27;, &#x27;PSEI0 0 ng&#x27;, &#x27;PSEI0 0 solar&#x27;, &#x27;TEPC0 0 coal&#x27;,\n",
       "       &#x27;TEPC0 0 ng&#x27;, &#x27;TEPC0 0 solar&#x27;, &#x27;TID0 0 ng&#x27;, &#x27;US0 0 ng&#x27;, &#x27;US0 0 nuclear&#x27;,\n",
       "       &#x27;US0 0 offwind&#x27;, &#x27;US0 0 solar&#x27;, &#x27;WACM0 0 coal&#x27;, &#x27;WACM0 0 hydro&#x27;,\n",
       "       &#x27;WACM0 0 ng&#x27;, &#x27;WACM0 0 wind&#x27;, &#x27;WALC0 0 hydro&#x27;], dtype=object)</pre></div></li><li class='xr-var-item'><div class='xr-var-name'><span class='xr-has-index'>generators_t_p_max_pu_i</span></div><div class='xr-var-dims'>(generators_t_p_max_pu_i)</div><div class='xr-var-dtype'>object</div><div class='xr-var-preview xr-preview'>&#x27;AVA0 0 hydro&#x27; ... &#x27;WALC0 0 hydro&#x27;</div><input id='attrs-b18c02d9-4896-484c-a55a-3c89a22475b2' class='xr-var-attrs-in' type='checkbox' disabled><label for='attrs-b18c02d9-4896-484c-a55a-3c89a22475b2' title='Show/Hide attributes'><svg class='icon xr-icon-file-text2'><use xlink:href='#icon-file-text2'></use></svg></label><input id='data-be271e27-de44-47ee-acce-6cb23b9bbcb9' class='xr-var-data-in' type='checkbox'><label for='data-be271e27-de44-47ee-acce-6cb23b9bbcb9' title='Show/Hide data repr'><svg class='icon xr-icon-database'><use xlink:href='#icon-database'></use></svg></label><div class='xr-var-attrs'><dl class='xr-attrs'></dl></div><div class='xr-var-data'><pre>array([&#x27;AVA0 0 hydro&#x27;, &#x27;AVA0 0 solar&#x27;, &#x27;AVA0 0 wind&#x27;, &#x27;Arizona0 0 hydro&#x27;,\n",
       "       &#x27;Arizona0 0 solar&#x27;, &#x27;Arizona0 1 hydro&#x27;, &#x27;Arizona0 1 solar&#x27;,\n",
       "       &#x27;Arizona0 1 wind&#x27;, &#x27;Arizona0 2 solar&#x27;, &#x27;Arizona0 2 wind&#x27;,\n",
       "       &#x27;Arizona0 3 hydro&#x27;, &#x27;Arizona0 3 solar&#x27;, &#x27;Arizona0 3 wind&#x27;,\n",
       "       &#x27;BANC0 0 hydro&#x27;, &#x27;BPAT0 0 hydro&#x27;, &#x27;BPAT0 0 solar&#x27;, &#x27;BPAT0 1 hydro&#x27;,\n",
       "       &#x27;BPAT0 1 solar&#x27;, &#x27;BPAT0 1 wind&#x27;, &#x27;BPAT0 2 hydro&#x27;, &#x27;BPAT0 2 solar&#x27;,\n",
       "       &#x27;BPAT0 3 hydro&#x27;, &#x27;BPAT0 4 hydro&#x27;, &#x27;BPAT0 4 solar&#x27;, &#x27;BPAT0 4 wind&#x27;,\n",
       "       &#x27;CHPD0 0 hydro&#x27;, &#x27;CISO-PGAE0 0 hydro&#x27;, &#x27;CISO-PGAE0 0 solar&#x27;,\n",
       "       &#x27;CISO-PGAE0 1 hydro&#x27;, &#x27;CISO-PGAE0 1 solar&#x27;, &#x27;CISO-PGAE0 2 hydro&#x27;,\n",
       "       &#x27;CISO-PGAE0 2 solar&#x27;, &#x27;CISO-PGAE0 2 wind&#x27;, &#x27;CISO-PGAE0 3 solar&#x27;,\n",
       "       &#x27;CISO-PGAE0 4 hydro&#x27;, &#x27;CISO-PGAE0 4 solar&#x27;, &#x27;CISO-PGAE0 4 wind&#x27;,\n",
       "       &#x27;CISO-SCE0 0 solar&#x27;, &#x27;CISO-SCE0 0 wind&#x27;, &#x27;CISO-SCE0 1 hydro&#x27;,\n",
       "       &#x27;CISO-SCE0 2 solar&#x27;, &#x27;CISO-SCE0 3 hydro&#x27;, &#x27;CISO-SCE0 4 hydro&#x27;,\n",
       "       &#x27;CISO-SCE0 4 solar&#x27;, &#x27;CISO-SCE0 5 solar&#x27;, &#x27;CISO-SCE0 5 wind&#x27;,\n",
       "       &#x27;CISO-SCE0 6 hydro&#x27;, &#x27;CISO-SCE0 6 solar&#x27;, &#x27;CISO-SDGE0 0 hydro&#x27;,\n",
       "       &#x27;CISO-SDGE0 0 wind&#x27;, &#x27;CISO-VEA0 0 solar&#x27;, &#x27;DOPD0 0 hydro&#x27;,\n",
       "       &#x27;EPE0 0 solar&#x27;, &#x27;GCPD0 0 hydro&#x27;, &#x27;GRID0 0 wind&#x27;, &#x27;IID0 0 hydro&#x27;,\n",
       "       &#x27;IID0 0 solar&#x27;, &#x27;IID0 0 wind&#x27;, &#x27;IPCO0 0 hydro&#x27;, &#x27;IPCO0 0 solar&#x27;,\n",
       "       &#x27;IPCO0 0 wind&#x27;, &#x27;MISO-00010 0 hydro&#x27;, &#x27;MT_west0 0 hydro&#x27;,\n",
       "       &#x27;MT_west0 0 wind&#x27;, &#x27;NEVP0 0 hydro&#x27;, &#x27;NEVP0 0 solar&#x27;, &#x27;NEVP0 0 wind&#x27;,\n",
       "       &#x27;NEVP0 1 solar&#x27;, &#x27;PACE0 0 hydro&#x27;, &#x27;PACE0 0 solar&#x27;, &#x27;PACE0 0 wind&#x27;,\n",
       "       &#x27;PACE0 1 hydro&#x27;, &#x27;PACE0 1 solar&#x27;, &#x27;PACE0 1 wind&#x27;, &#x27;PACW0 0 hydro&#x27;,\n",
       "       &#x27;PACW0 0 solar&#x27;, &#x27;PGE0 0 hydro&#x27;, &#x27;PGE0 0 solar&#x27;, &#x27;PNM0 0 hydro&#x27;,\n",
       "       &#x27;PNM0 0 solar&#x27;, &#x27;PNM0 0 wind&#x27;, &#x27;PSCO0 0 solar&#x27;, &#x27;PSCO0 0 wind&#x27;,\n",
       "       &#x27;PSCO0 1 hydro&#x27;, &#x27;PSCO0 1 solar&#x27;, &#x27;PSCO0 1 wind&#x27;, &#x27;PSEI0 0 hydro&#x27;,\n",
       "       &#x27;PSEI0 0 solar&#x27;, &#x27;TEPC0 0 solar&#x27;, &#x27;US0 0 offwind&#x27;, &#x27;US0 0 solar&#x27;,\n",
       "       &#x27;WACM0 0 hydro&#x27;, &#x27;WACM0 0 wind&#x27;, &#x27;WALC0 0 hydro&#x27;], dtype=object)</pre></div></li><li class='xr-var-item'><div class='xr-var-name'><span class='xr-has-index'>generators_t_p_set_i</span></div><div class='xr-var-dims'>(generators_t_p_set_i)</div><div class='xr-var-dtype'>object</div><div class='xr-var-preview xr-preview'>&#x27;AVA0 0 hydro&#x27; ... &#x27;WALC0 0 hydro&#x27;</div><input id='attrs-bbc9f782-485c-46f0-933b-7f604fdb9829' class='xr-var-attrs-in' type='checkbox' disabled><label for='attrs-bbc9f782-485c-46f0-933b-7f604fdb9829' title='Show/Hide attributes'><svg class='icon xr-icon-file-text2'><use xlink:href='#icon-file-text2'></use></svg></label><input id='data-b4699cee-4724-45f8-b90c-fa67a3f19d20' class='xr-var-data-in' type='checkbox'><label for='data-b4699cee-4724-45f8-b90c-fa67a3f19d20' title='Show/Hide data repr'><svg class='icon xr-icon-database'><use xlink:href='#icon-database'></use></svg></label><div class='xr-var-attrs'><dl class='xr-attrs'></dl></div><div class='xr-var-data'><pre>array([&#x27;AVA0 0 hydro&#x27;, &#x27;AVA0 0 ng&#x27;, &#x27;AVA0 0 solar&#x27;, &#x27;AVA0 0 wind&#x27;,\n",
       "       &#x27;Arizona0 0 hydro&#x27;, &#x27;Arizona0 0 ng&#x27;, &#x27;Arizona0 0 nuclear&#x27;,\n",
       "       &#x27;Arizona0 0 solar&#x27;, &#x27;Arizona0 1 coal&#x27;, &#x27;Arizona0 1 hydro&#x27;,\n",
       "       &#x27;Arizona0 1 solar&#x27;, &#x27;Arizona0 1 wind&#x27;, &#x27;Arizona0 2 coal&#x27;,\n",
       "       &#x27;Arizona0 2 solar&#x27;, &#x27;Arizona0 2 wind&#x27;, &#x27;Arizona0 3 hydro&#x27;,\n",
       "       &#x27;Arizona0 3 ng&#x27;, &#x27;Arizona0 3 solar&#x27;, &#x27;Arizona0 3 wind&#x27;, &#x27;BANC0 0 coal&#x27;,\n",
       "       &#x27;BANC0 0 hydro&#x27;, &#x27;BANC0 0 ng&#x27;, &#x27;BPAT0 0 hydro&#x27;, &#x27;BPAT0 0 ng&#x27;,\n",
       "       &#x27;BPAT0 0 solar&#x27;, &#x27;BPAT0 1 hydro&#x27;, &#x27;BPAT0 1 ng&#x27;, &#x27;BPAT0 1 nuclear&#x27;,\n",
       "       &#x27;BPAT0 1 solar&#x27;, &#x27;BPAT0 1 wind&#x27;, &#x27;BPAT0 2 coal&#x27;, &#x27;BPAT0 2 hydro&#x27;,\n",
       "       &#x27;BPAT0 2 ng&#x27;, &#x27;BPAT0 2 solar&#x27;, &#x27;BPAT0 3 hydro&#x27;, &#x27;BPAT0 4 hydro&#x27;,\n",
       "       &#x27;BPAT0 4 ng&#x27;, &#x27;BPAT0 4 solar&#x27;, &#x27;BPAT0 4 wind&#x27;, &#x27;CHPD0 0 hydro&#x27;,\n",
       "       &#x27;CISO-PGAE0 0 hydro&#x27;, &#x27;CISO-PGAE0 0 ng&#x27;, &#x27;CISO-PGAE0 0 solar&#x27;,\n",
       "       &#x27;CISO-PGAE0 1 hydro&#x27;, &#x27;CISO-PGAE0 1 ng&#x27;, &#x27;CISO-PGAE0 1 solar&#x27;,\n",
       "       &#x27;CISO-PGAE0 2 coal&#x27;, &#x27;CISO-PGAE0 2 geothermal&#x27;, &#x27;CISO-PGAE0 2 hydro&#x27;,\n",
       "       &#x27;CISO-PGAE0 2 ng&#x27;, &#x27;CISO-PGAE0 2 solar&#x27;, &#x27;CISO-PGAE0 2 wind&#x27;,\n",
       "       &#x27;CISO-PGAE0 3 ng&#x27;, &#x27;CISO-PGAE0 3 solar&#x27;, &#x27;CISO-PGAE0 4 hydro&#x27;,\n",
       "       &#x27;CISO-PGAE0 4 ng&#x27;, &#x27;CISO-PGAE0 4 solar&#x27;, &#x27;CISO-PGAE0 4 wind&#x27;,\n",
       "       &#x27;CISO-SCE0 0 coal&#x27;, &#x27;CISO-SCE0 0 geothermal&#x27;, &#x27;CISO-SCE0 0 ng&#x27;,\n",
       "       &#x27;CISO-SCE0 0 solar&#x27;, &#x27;CISO-SCE0 0 wind&#x27;, &#x27;CISO-SCE0 1 geothermal&#x27;,\n",
       "       &#x27;CISO-SCE0 1 hydro&#x27;, &#x27;CISO-SCE0 2 ng&#x27;, &#x27;CISO-SCE0 2 solar&#x27;,\n",
       "       &#x27;CISO-SCE0 3 hydro&#x27;, &#x27;CISO-SCE0 3 ng&#x27;, &#x27;CISO-SCE0 4 hydro&#x27;,\n",
       "       &#x27;CISO-SCE0 4 ng&#x27;, &#x27;CISO-SCE0 4 solar&#x27;, &#x27;CISO-SCE0 5 ng&#x27;,\n",
       "       &#x27;CISO-SCE0 5 solar&#x27;, &#x27;CISO-SCE0 5 wind&#x27;, &#x27;CISO-SCE0 6 coal&#x27;,\n",
       "       &#x27;CISO-SCE0 6 hydro&#x27;, &#x27;CISO-SCE0 6 ng&#x27;, &#x27;CISO-SCE0 6 solar&#x27;,\n",
       "       &#x27;CISO-SDGE0 0 hydro&#x27;, &#x27;CISO-SDGE0 0 ng&#x27;, &#x27;CISO-SDGE0 0 wind&#x27;,\n",
       "       &#x27;CISO-VEA0 0 solar&#x27;, &#x27;DOPD0 0 hydro&#x27;, &#x27;EPE0 0 ng&#x27;, &#x27;EPE0 0 solar&#x27;,\n",
       "       &#x27;GCPD0 0 hydro&#x27;, &#x27;GRID0 0 coal&#x27;, &#x27;GRID0 0 ng&#x27;, &#x27;GRID0 0 wind&#x27;,\n",
       "       &#x27;IID0 0 geothermal&#x27;, &#x27;IID0 0 hydro&#x27;, &#x27;IID0 0 ng&#x27;, &#x27;IID0 0 solar&#x27;,\n",
       "       &#x27;IID0 0 wind&#x27;, &#x27;IPCO0 0 hydro&#x27;, &#x27;IPCO0 0 ng&#x27;, &#x27;IPCO0 0 solar&#x27;,\n",
       "       &#x27;IPCO0 0 wind&#x27;, &#x27;LADWP0 0 ng&#x27;, &#x27;MISO-00010 0 coal&#x27;,\n",
       "       &#x27;MISO-00010 0 hydro&#x27;, &#x27;MT_west0 0 coal&#x27;, &#x27;MT_west0 0 hydro&#x27;,\n",
       "       &#x27;MT_west0 0 ng&#x27;, &#x27;MT_west0 0 wind&#x27;, &#x27;NEVP0 0 coal&#x27;, &#x27;NEVP0 0 hydro&#x27;,\n",
       "       &#x27;NEVP0 0 ng&#x27;, &#x27;NEVP0 0 solar&#x27;, &#x27;NEVP0 0 wind&#x27;, &#x27;NEVP0 1 coal&#x27;,\n",
       "       &#x27;NEVP0 1 geothermal&#x27;, &#x27;NEVP0 1 ng&#x27;, &#x27;NEVP0 1 solar&#x27;, &#x27;PACE0 0 coal&#x27;,\n",
       "       &#x27;PACE0 0 hydro&#x27;, &#x27;PACE0 0 ng&#x27;, &#x27;PACE0 0 solar&#x27;, &#x27;PACE0 0 wind&#x27;,\n",
       "       &#x27;PACE0 1 coal&#x27;, &#x27;PACE0 1 hydro&#x27;, &#x27;PACE0 1 ng&#x27;, &#x27;PACE0 1 solar&#x27;,\n",
       "       &#x27;PACE0 1 wind&#x27;, &#x27;PACW0 0 hydro&#x27;, &#x27;PACW0 0 ng&#x27;, &#x27;PACW0 0 solar&#x27;,\n",
       "       &#x27;PGE0 0 hydro&#x27;, &#x27;PGE0 0 solar&#x27;, &#x27;PNM0 0 coal&#x27;, &#x27;PNM0 0 hydro&#x27;,\n",
       "       &#x27;PNM0 0 ng&#x27;, &#x27;PNM0 0 solar&#x27;, &#x27;PNM0 0 wind&#x27;, &#x27;PSCO0 0 coal&#x27;,\n",
       "       &#x27;PSCO0 0 ng&#x27;, &#x27;PSCO0 0 solar&#x27;, &#x27;PSCO0 0 wind&#x27;, &#x27;PSCO0 1 coal&#x27;,\n",
       "       &#x27;PSCO0 1 hydro&#x27;, &#x27;PSCO0 1 ng&#x27;, &#x27;PSCO0 1 solar&#x27;, &#x27;PSCO0 1 wind&#x27;,\n",
       "       &#x27;PSEI0 0 hydro&#x27;, &#x27;PSEI0 0 ng&#x27;, &#x27;PSEI0 0 solar&#x27;, &#x27;TEPC0 0 coal&#x27;,\n",
       "       &#x27;TEPC0 0 ng&#x27;, &#x27;TEPC0 0 solar&#x27;, &#x27;TID0 0 ng&#x27;, &#x27;US0 0 ng&#x27;, &#x27;US0 0 nuclear&#x27;,\n",
       "       &#x27;US0 0 offwind&#x27;, &#x27;US0 0 solar&#x27;, &#x27;WACM0 0 coal&#x27;, &#x27;WACM0 0 hydro&#x27;,\n",
       "       &#x27;WACM0 0 ng&#x27;, &#x27;WACM0 0 wind&#x27;, &#x27;WALC0 0 hydro&#x27;], dtype=object)</pre></div></li><li class='xr-var-item'><div class='xr-var-name'><span class='xr-has-index'>generators_t_p_i</span></div><div class='xr-var-dims'>(generators_t_p_i)</div><div class='xr-var-dtype'>object</div><div class='xr-var-preview xr-preview'>&#x27;AVA0 0 hydro&#x27; ... &#x27;WALC0 0 hydro&#x27;</div><input id='attrs-3274074b-3f01-4e54-a438-bcc57de0a68c' class='xr-var-attrs-in' type='checkbox' disabled><label for='attrs-3274074b-3f01-4e54-a438-bcc57de0a68c' title='Show/Hide attributes'><svg class='icon xr-icon-file-text2'><use xlink:href='#icon-file-text2'></use></svg></label><input id='data-7e275c62-e16c-457f-914a-db5888384d52' class='xr-var-data-in' type='checkbox'><label for='data-7e275c62-e16c-457f-914a-db5888384d52' title='Show/Hide data repr'><svg class='icon xr-icon-database'><use xlink:href='#icon-database'></use></svg></label><div class='xr-var-attrs'><dl class='xr-attrs'></dl></div><div class='xr-var-data'><pre>array([&#x27;AVA0 0 hydro&#x27;, &#x27;AVA0 0 ng&#x27;, &#x27;AVA0 0 solar&#x27;, &#x27;AVA0 0 wind&#x27;,\n",
       "       &#x27;Arizona0 0 hydro&#x27;, &#x27;Arizona0 0 ng&#x27;, &#x27;Arizona0 0 nuclear&#x27;,\n",
       "       &#x27;Arizona0 0 solar&#x27;, &#x27;Arizona0 1 coal&#x27;, &#x27;Arizona0 1 hydro&#x27;,\n",
       "       &#x27;Arizona0 1 solar&#x27;, &#x27;Arizona0 1 wind&#x27;, &#x27;Arizona0 2 coal&#x27;,\n",
       "       &#x27;Arizona0 2 solar&#x27;, &#x27;Arizona0 2 wind&#x27;, &#x27;Arizona0 3 hydro&#x27;,\n",
       "       &#x27;Arizona0 3 ng&#x27;, &#x27;Arizona0 3 solar&#x27;, &#x27;Arizona0 3 wind&#x27;, &#x27;BANC0 0 coal&#x27;,\n",
       "       &#x27;BANC0 0 hydro&#x27;, &#x27;BANC0 0 ng&#x27;, &#x27;BPAT0 0 hydro&#x27;, &#x27;BPAT0 0 solar&#x27;,\n",
       "       &#x27;BPAT0 1 hydro&#x27;, &#x27;BPAT0 1 nuclear&#x27;, &#x27;BPAT0 1 solar&#x27;, &#x27;BPAT0 1 wind&#x27;,\n",
       "       &#x27;BPAT0 2 hydro&#x27;, &#x27;BPAT0 2 solar&#x27;, &#x27;BPAT0 3 hydro&#x27;, &#x27;BPAT0 4 hydro&#x27;,\n",
       "       &#x27;BPAT0 4 ng&#x27;, &#x27;BPAT0 4 solar&#x27;, &#x27;BPAT0 4 wind&#x27;, &#x27;CHPD0 0 hydro&#x27;,\n",
       "       &#x27;CISO-PGAE0 0 hydro&#x27;, &#x27;CISO-PGAE0 0 ng&#x27;, &#x27;CISO-PGAE0 0 solar&#x27;,\n",
       "       &#x27;CISO-PGAE0 1 hydro&#x27;, &#x27;CISO-PGAE0 1 ng&#x27;, &#x27;CISO-PGAE0 1 solar&#x27;,\n",
       "       &#x27;CISO-PGAE0 2 coal&#x27;, &#x27;CISO-PGAE0 2 geothermal&#x27;, &#x27;CISO-PGAE0 2 hydro&#x27;,\n",
       "       &#x27;CISO-PGAE0 2 ng&#x27;, &#x27;CISO-PGAE0 2 solar&#x27;, &#x27;CISO-PGAE0 2 wind&#x27;,\n",
       "       &#x27;CISO-PGAE0 3 ng&#x27;, &#x27;CISO-PGAE0 3 solar&#x27;, &#x27;CISO-PGAE0 4 hydro&#x27;,\n",
       "       &#x27;CISO-PGAE0 4 ng&#x27;, &#x27;CISO-PGAE0 4 solar&#x27;, &#x27;CISO-PGAE0 4 wind&#x27;,\n",
       "       &#x27;CISO-SCE0 0 coal&#x27;, &#x27;CISO-SCE0 0 geothermal&#x27;, &#x27;CISO-SCE0 0 solar&#x27;,\n",
       "       &#x27;CISO-SCE0 0 wind&#x27;, &#x27;CISO-SCE0 1 geothermal&#x27;, &#x27;CISO-SCE0 1 hydro&#x27;,\n",
       "       &#x27;CISO-SCE0 2 ng&#x27;, &#x27;CISO-SCE0 2 solar&#x27;, &#x27;CISO-SCE0 3 hydro&#x27;,\n",
       "       &#x27;CISO-SCE0 3 ng&#x27;, &#x27;CISO-SCE0 4 hydro&#x27;, &#x27;CISO-SCE0 4 ng&#x27;,\n",
       "       &#x27;CISO-SCE0 4 solar&#x27;, &#x27;CISO-SCE0 5 ng&#x27;, &#x27;CISO-SCE0 5 solar&#x27;,\n",
       "       &#x27;CISO-SCE0 5 wind&#x27;, &#x27;CISO-SCE0 6 coal&#x27;, &#x27;CISO-SCE0 6 hydro&#x27;,\n",
       "       &#x27;CISO-SCE0 6 ng&#x27;, &#x27;CISO-SCE0 6 solar&#x27;, &#x27;CISO-SDGE0 0 hydro&#x27;,\n",
       "       &#x27;CISO-SDGE0 0 ng&#x27;, &#x27;CISO-SDGE0 0 wind&#x27;, &#x27;CISO-VEA0 0 solar&#x27;,\n",
       "       &#x27;DOPD0 0 hydro&#x27;, &#x27;EPE0 0 ng&#x27;, &#x27;EPE0 0 solar&#x27;, &#x27;GCPD0 0 hydro&#x27;,\n",
       "       &#x27;GRID0 0 ng&#x27;, &#x27;GRID0 0 wind&#x27;, &#x27;IID0 0 geothermal&#x27;, &#x27;IID0 0 hydro&#x27;,\n",
       "       &#x27;IID0 0 solar&#x27;, &#x27;IID0 0 wind&#x27;, &#x27;IPCO0 0 hydro&#x27;, &#x27;IPCO0 0 solar&#x27;,\n",
       "       &#x27;IPCO0 0 wind&#x27;, &#x27;LADWP0 0 ng&#x27;, &#x27;MISO-00010 0 coal&#x27;,\n",
       "       &#x27;MISO-00010 0 hydro&#x27;, &#x27;MT_west0 0 coal&#x27;, &#x27;MT_west0 0 hydro&#x27;,\n",
       "       &#x27;MT_west0 0 ng&#x27;, &#x27;MT_west0 0 wind&#x27;, &#x27;NEVP0 0 hydro&#x27;, &#x27;NEVP0 0 ng&#x27;,\n",
       "       &#x27;NEVP0 0 solar&#x27;, &#x27;NEVP0 0 wind&#x27;, &#x27;NEVP0 1 geothermal&#x27;, &#x27;NEVP0 1 ng&#x27;,\n",
       "       &#x27;NEVP0 1 solar&#x27;, &#x27;PACE0 0 coal&#x27;, &#x27;PACE0 0 hydro&#x27;, &#x27;PACE0 0 ng&#x27;,\n",
       "       &#x27;PACE0 0 solar&#x27;, &#x27;PACE0 0 wind&#x27;, &#x27;PACE0 1 coal&#x27;, &#x27;PACE0 1 hydro&#x27;,\n",
       "       &#x27;PACE0 1 solar&#x27;, &#x27;PACE0 1 wind&#x27;, &#x27;PACW0 0 hydro&#x27;, &#x27;PACW0 0 ng&#x27;,\n",
       "       &#x27;PACW0 0 solar&#x27;, &#x27;PGE0 0 hydro&#x27;, &#x27;PGE0 0 solar&#x27;, &#x27;PNM0 0 coal&#x27;,\n",
       "       &#x27;PNM0 0 hydro&#x27;, &#x27;PNM0 0 solar&#x27;, &#x27;PNM0 0 wind&#x27;, &#x27;PSCO0 0 solar&#x27;,\n",
       "       &#x27;PSCO0 0 wind&#x27;, &#x27;PSCO0 1 coal&#x27;, &#x27;PSCO0 1 hydro&#x27;, &#x27;PSCO0 1 ng&#x27;,\n",
       "       &#x27;PSCO0 1 solar&#x27;, &#x27;PSCO0 1 wind&#x27;, &#x27;PSEI0 0 hydro&#x27;, &#x27;PSEI0 0 ng&#x27;,\n",
       "       &#x27;PSEI0 0 solar&#x27;, &#x27;TEPC0 0 coal&#x27;, &#x27;TEPC0 0 ng&#x27;, &#x27;TEPC0 0 solar&#x27;,\n",
       "       &#x27;TID0 0 ng&#x27;, &#x27;US0 0 nuclear&#x27;, &#x27;US0 0 offwind&#x27;, &#x27;US0 0 solar&#x27;,\n",
       "       &#x27;WACM0 0 coal&#x27;, &#x27;WACM0 0 hydro&#x27;, &#x27;WACM0 0 wind&#x27;, &#x27;WALC0 0 hydro&#x27;],\n",
       "      dtype=object)</pre></div></li><li class='xr-var-item'><div class='xr-var-name'><span class='xr-has-index'>lines_i</span></div><div class='xr-var-dims'>(lines_i)</div><div class='xr-var-dtype'>object</div><div class='xr-var-preview xr-preview'>&#x27;1&#x27; &#x27;2&#x27; &#x27;3&#x27; ... &#x27;126&#x27; &#x27;127&#x27; &#x27;128&#x27;</div><input id='attrs-eeb034bf-db1e-4fdf-8168-89057120b744' class='xr-var-attrs-in' type='checkbox' disabled><label for='attrs-eeb034bf-db1e-4fdf-8168-89057120b744' title='Show/Hide attributes'><svg class='icon xr-icon-file-text2'><use xlink:href='#icon-file-text2'></use></svg></label><input id='data-eda66334-9726-4501-8cdf-73d9b80f4a8b' class='xr-var-data-in' type='checkbox'><label for='data-eda66334-9726-4501-8cdf-73d9b80f4a8b' title='Show/Hide data repr'><svg class='icon xr-icon-database'><use xlink:href='#icon-database'></use></svg></label><div class='xr-var-attrs'><dl class='xr-attrs'></dl></div><div class='xr-var-data'><pre>array([&#x27;1&#x27;, &#x27;2&#x27;, &#x27;3&#x27;, &#x27;4&#x27;, &#x27;5&#x27;, &#x27;6&#x27;, &#x27;7&#x27;, &#x27;8&#x27;, &#x27;9&#x27;, &#x27;10&#x27;, &#x27;11&#x27;, &#x27;12&#x27;, &#x27;13&#x27;,\n",
       "       &#x27;14&#x27;, &#x27;15&#x27;, &#x27;16&#x27;, &#x27;17&#x27;, &#x27;18&#x27;, &#x27;19&#x27;, &#x27;20&#x27;, &#x27;21&#x27;, &#x27;22&#x27;, &#x27;23&#x27;, &#x27;24&#x27;, &#x27;25&#x27;,\n",
       "       &#x27;26&#x27;, &#x27;27&#x27;, &#x27;28&#x27;, &#x27;29&#x27;, &#x27;30&#x27;, &#x27;31&#x27;, &#x27;32&#x27;, &#x27;33&#x27;, &#x27;34&#x27;, &#x27;35&#x27;, &#x27;36&#x27;, &#x27;37&#x27;,\n",
       "       &#x27;38&#x27;, &#x27;39&#x27;, &#x27;40&#x27;, &#x27;41&#x27;, &#x27;42&#x27;, &#x27;43&#x27;, &#x27;44&#x27;, &#x27;45&#x27;, &#x27;46&#x27;, &#x27;47&#x27;, &#x27;48&#x27;, &#x27;49&#x27;,\n",
       "       &#x27;50&#x27;, &#x27;51&#x27;, &#x27;52&#x27;, &#x27;53&#x27;, &#x27;54&#x27;, &#x27;55&#x27;, &#x27;56&#x27;, &#x27;57&#x27;, &#x27;58&#x27;, &#x27;59&#x27;, &#x27;60&#x27;, &#x27;61&#x27;,\n",
       "       &#x27;62&#x27;, &#x27;63&#x27;, &#x27;64&#x27;, &#x27;65&#x27;, &#x27;66&#x27;, &#x27;67&#x27;, &#x27;68&#x27;, &#x27;69&#x27;, &#x27;70&#x27;, &#x27;71&#x27;, &#x27;72&#x27;, &#x27;73&#x27;,\n",
       "       &#x27;74&#x27;, &#x27;75&#x27;, &#x27;76&#x27;, &#x27;77&#x27;, &#x27;78&#x27;, &#x27;79&#x27;, &#x27;80&#x27;, &#x27;81&#x27;, &#x27;82&#x27;, &#x27;83&#x27;, &#x27;84&#x27;, &#x27;85&#x27;,\n",
       "       &#x27;86&#x27;, &#x27;87&#x27;, &#x27;88&#x27;, &#x27;89&#x27;, &#x27;90&#x27;, &#x27;91&#x27;, &#x27;92&#x27;, &#x27;93&#x27;, &#x27;94&#x27;, &#x27;95&#x27;, &#x27;96&#x27;, &#x27;97&#x27;,\n",
       "       &#x27;98&#x27;, &#x27;99&#x27;, &#x27;100&#x27;, &#x27;101&#x27;, &#x27;102&#x27;, &#x27;103&#x27;, &#x27;104&#x27;, &#x27;105&#x27;, &#x27;106&#x27;, &#x27;107&#x27;,\n",
       "       &#x27;108&#x27;, &#x27;109&#x27;, &#x27;110&#x27;, &#x27;111&#x27;, &#x27;112&#x27;, &#x27;113&#x27;, &#x27;114&#x27;, &#x27;115&#x27;, &#x27;116&#x27;, &#x27;117&#x27;,\n",
       "       &#x27;118&#x27;, &#x27;119&#x27;, &#x27;120&#x27;, &#x27;121&#x27;, &#x27;122&#x27;, &#x27;123&#x27;, &#x27;124&#x27;, &#x27;125&#x27;, &#x27;126&#x27;, &#x27;127&#x27;,\n",
       "       &#x27;128&#x27;], dtype=object)</pre></div></li><li class='xr-var-item'><div class='xr-var-name'><span class='xr-has-index'>lines_t_p0_i</span></div><div class='xr-var-dims'>(lines_t_p0_i)</div><div class='xr-var-dtype'>object</div><div class='xr-var-preview xr-preview'>&#x27;1&#x27; &#x27;2&#x27; &#x27;3&#x27; ... &#x27;126&#x27; &#x27;127&#x27; &#x27;128&#x27;</div><input id='attrs-a6dce2cb-ecbc-4691-81a0-5df1c450a0b0' class='xr-var-attrs-in' type='checkbox' disabled><label for='attrs-a6dce2cb-ecbc-4691-81a0-5df1c450a0b0' title='Show/Hide attributes'><svg class='icon xr-icon-file-text2'><use xlink:href='#icon-file-text2'></use></svg></label><input id='data-fd19ecd4-76cf-4a94-8888-58a2e86aa1ce' class='xr-var-data-in' type='checkbox'><label for='data-fd19ecd4-76cf-4a94-8888-58a2e86aa1ce' title='Show/Hide data repr'><svg class='icon xr-icon-database'><use xlink:href='#icon-database'></use></svg></label><div class='xr-var-attrs'><dl class='xr-attrs'></dl></div><div class='xr-var-data'><pre>array([&#x27;1&#x27;, &#x27;2&#x27;, &#x27;3&#x27;, &#x27;4&#x27;, &#x27;5&#x27;, &#x27;6&#x27;, &#x27;7&#x27;, &#x27;8&#x27;, &#x27;9&#x27;, &#x27;10&#x27;, &#x27;11&#x27;, &#x27;12&#x27;, &#x27;13&#x27;,\n",
       "       &#x27;14&#x27;, &#x27;15&#x27;, &#x27;16&#x27;, &#x27;17&#x27;, &#x27;18&#x27;, &#x27;19&#x27;, &#x27;20&#x27;, &#x27;21&#x27;, &#x27;22&#x27;, &#x27;23&#x27;, &#x27;24&#x27;, &#x27;25&#x27;,\n",
       "       &#x27;26&#x27;, &#x27;27&#x27;, &#x27;28&#x27;, &#x27;29&#x27;, &#x27;30&#x27;, &#x27;31&#x27;, &#x27;32&#x27;, &#x27;33&#x27;, &#x27;34&#x27;, &#x27;35&#x27;, &#x27;36&#x27;, &#x27;37&#x27;,\n",
       "       &#x27;38&#x27;, &#x27;39&#x27;, &#x27;40&#x27;, &#x27;41&#x27;, &#x27;42&#x27;, &#x27;43&#x27;, &#x27;44&#x27;, &#x27;45&#x27;, &#x27;46&#x27;, &#x27;47&#x27;, &#x27;48&#x27;, &#x27;49&#x27;,\n",
       "       &#x27;50&#x27;, &#x27;51&#x27;, &#x27;52&#x27;, &#x27;53&#x27;, &#x27;54&#x27;, &#x27;55&#x27;, &#x27;56&#x27;, &#x27;57&#x27;, &#x27;58&#x27;, &#x27;59&#x27;, &#x27;60&#x27;, &#x27;61&#x27;,\n",
       "       &#x27;62&#x27;, &#x27;63&#x27;, &#x27;64&#x27;, &#x27;65&#x27;, &#x27;66&#x27;, &#x27;67&#x27;, &#x27;68&#x27;, &#x27;69&#x27;, &#x27;70&#x27;, &#x27;71&#x27;, &#x27;72&#x27;, &#x27;73&#x27;,\n",
       "       &#x27;74&#x27;, &#x27;75&#x27;, &#x27;76&#x27;, &#x27;77&#x27;, &#x27;78&#x27;, &#x27;79&#x27;, &#x27;80&#x27;, &#x27;81&#x27;, &#x27;82&#x27;, &#x27;83&#x27;, &#x27;84&#x27;, &#x27;85&#x27;,\n",
       "       &#x27;86&#x27;, &#x27;87&#x27;, &#x27;88&#x27;, &#x27;89&#x27;, &#x27;90&#x27;, &#x27;91&#x27;, &#x27;92&#x27;, &#x27;93&#x27;, &#x27;94&#x27;, &#x27;95&#x27;, &#x27;96&#x27;, &#x27;97&#x27;,\n",
       "       &#x27;98&#x27;, &#x27;99&#x27;, &#x27;100&#x27;, &#x27;101&#x27;, &#x27;102&#x27;, &#x27;103&#x27;, &#x27;104&#x27;, &#x27;105&#x27;, &#x27;106&#x27;, &#x27;107&#x27;,\n",
       "       &#x27;108&#x27;, &#x27;109&#x27;, &#x27;110&#x27;, &#x27;111&#x27;, &#x27;112&#x27;, &#x27;113&#x27;, &#x27;114&#x27;, &#x27;115&#x27;, &#x27;116&#x27;, &#x27;117&#x27;,\n",
       "       &#x27;118&#x27;, &#x27;119&#x27;, &#x27;120&#x27;, &#x27;121&#x27;, &#x27;122&#x27;, &#x27;123&#x27;, &#x27;124&#x27;, &#x27;125&#x27;, &#x27;126&#x27;, &#x27;127&#x27;,\n",
       "       &#x27;128&#x27;], dtype=object)</pre></div></li><li class='xr-var-item'><div class='xr-var-name'><span class='xr-has-index'>lines_t_p1_i</span></div><div class='xr-var-dims'>(lines_t_p1_i)</div><div class='xr-var-dtype'>object</div><div class='xr-var-preview xr-preview'>&#x27;1&#x27; &#x27;2&#x27; &#x27;3&#x27; ... &#x27;126&#x27; &#x27;127&#x27; &#x27;128&#x27;</div><input id='attrs-ccabc340-54dc-4e12-b0cf-4aa433e19aed' class='xr-var-attrs-in' type='checkbox' disabled><label for='attrs-ccabc340-54dc-4e12-b0cf-4aa433e19aed' title='Show/Hide attributes'><svg class='icon xr-icon-file-text2'><use xlink:href='#icon-file-text2'></use></svg></label><input id='data-ed128cc4-22a1-4602-b502-9bfee9beec83' class='xr-var-data-in' type='checkbox'><label for='data-ed128cc4-22a1-4602-b502-9bfee9beec83' title='Show/Hide data repr'><svg class='icon xr-icon-database'><use xlink:href='#icon-database'></use></svg></label><div class='xr-var-attrs'><dl class='xr-attrs'></dl></div><div class='xr-var-data'><pre>array([&#x27;1&#x27;, &#x27;2&#x27;, &#x27;3&#x27;, &#x27;4&#x27;, &#x27;5&#x27;, &#x27;6&#x27;, &#x27;7&#x27;, &#x27;8&#x27;, &#x27;9&#x27;, &#x27;10&#x27;, &#x27;11&#x27;, &#x27;12&#x27;, &#x27;13&#x27;,\n",
       "       &#x27;14&#x27;, &#x27;15&#x27;, &#x27;16&#x27;, &#x27;17&#x27;, &#x27;18&#x27;, &#x27;19&#x27;, &#x27;20&#x27;, &#x27;21&#x27;, &#x27;22&#x27;, &#x27;23&#x27;, &#x27;24&#x27;, &#x27;25&#x27;,\n",
       "       &#x27;26&#x27;, &#x27;27&#x27;, &#x27;28&#x27;, &#x27;29&#x27;, &#x27;30&#x27;, &#x27;31&#x27;, &#x27;32&#x27;, &#x27;33&#x27;, &#x27;34&#x27;, &#x27;35&#x27;, &#x27;36&#x27;, &#x27;37&#x27;,\n",
       "       &#x27;38&#x27;, &#x27;39&#x27;, &#x27;40&#x27;, &#x27;41&#x27;, &#x27;42&#x27;, &#x27;43&#x27;, &#x27;44&#x27;, &#x27;45&#x27;, &#x27;46&#x27;, &#x27;47&#x27;, &#x27;48&#x27;, &#x27;49&#x27;,\n",
       "       &#x27;50&#x27;, &#x27;51&#x27;, &#x27;52&#x27;, &#x27;53&#x27;, &#x27;54&#x27;, &#x27;55&#x27;, &#x27;56&#x27;, &#x27;57&#x27;, &#x27;58&#x27;, &#x27;59&#x27;, &#x27;60&#x27;, &#x27;61&#x27;,\n",
       "       &#x27;62&#x27;, &#x27;63&#x27;, &#x27;64&#x27;, &#x27;65&#x27;, &#x27;66&#x27;, &#x27;67&#x27;, &#x27;68&#x27;, &#x27;69&#x27;, &#x27;70&#x27;, &#x27;71&#x27;, &#x27;72&#x27;, &#x27;73&#x27;,\n",
       "       &#x27;74&#x27;, &#x27;75&#x27;, &#x27;76&#x27;, &#x27;77&#x27;, &#x27;78&#x27;, &#x27;79&#x27;, &#x27;80&#x27;, &#x27;81&#x27;, &#x27;82&#x27;, &#x27;83&#x27;, &#x27;84&#x27;, &#x27;85&#x27;,\n",
       "       &#x27;86&#x27;, &#x27;87&#x27;, &#x27;88&#x27;, &#x27;89&#x27;, &#x27;90&#x27;, &#x27;91&#x27;, &#x27;92&#x27;, &#x27;93&#x27;, &#x27;94&#x27;, &#x27;95&#x27;, &#x27;96&#x27;, &#x27;97&#x27;,\n",
       "       &#x27;98&#x27;, &#x27;99&#x27;, &#x27;100&#x27;, &#x27;101&#x27;, &#x27;102&#x27;, &#x27;103&#x27;, &#x27;104&#x27;, &#x27;105&#x27;, &#x27;106&#x27;, &#x27;107&#x27;,\n",
       "       &#x27;108&#x27;, &#x27;109&#x27;, &#x27;110&#x27;, &#x27;111&#x27;, &#x27;112&#x27;, &#x27;113&#x27;, &#x27;114&#x27;, &#x27;115&#x27;, &#x27;116&#x27;, &#x27;117&#x27;,\n",
       "       &#x27;118&#x27;, &#x27;119&#x27;, &#x27;120&#x27;, &#x27;121&#x27;, &#x27;122&#x27;, &#x27;123&#x27;, &#x27;124&#x27;, &#x27;125&#x27;, &#x27;126&#x27;, &#x27;127&#x27;,\n",
       "       &#x27;128&#x27;], dtype=object)</pre></div></li><li class='xr-var-item'><div class='xr-var-name'><span class='xr-has-index'>lines_t_mu_lower_i</span></div><div class='xr-var-dims'>(lines_t_mu_lower_i)</div><div class='xr-var-dtype'>object</div><div class='xr-var-preview xr-preview'>&#x27;10&#x27; &#x27;11&#x27; &#x27;14&#x27; ... &#x27;118&#x27; &#x27;128&#x27;</div><input id='attrs-77b7e592-0d26-4c8a-9dbe-91d4dc019b2b' class='xr-var-attrs-in' type='checkbox' disabled><label for='attrs-77b7e592-0d26-4c8a-9dbe-91d4dc019b2b' title='Show/Hide attributes'><svg class='icon xr-icon-file-text2'><use xlink:href='#icon-file-text2'></use></svg></label><input id='data-aa45ae97-69d0-4f32-97a2-8dc5bd2d6c3e' class='xr-var-data-in' type='checkbox'><label for='data-aa45ae97-69d0-4f32-97a2-8dc5bd2d6c3e' title='Show/Hide data repr'><svg class='icon xr-icon-database'><use xlink:href='#icon-database'></use></svg></label><div class='xr-var-attrs'><dl class='xr-attrs'></dl></div><div class='xr-var-data'><pre>array([&#x27;10&#x27;, &#x27;11&#x27;, &#x27;14&#x27;, &#x27;16&#x27;, &#x27;21&#x27;, &#x27;36&#x27;, &#x27;58&#x27;, &#x27;65&#x27;, &#x27;67&#x27;, &#x27;78&#x27;, &#x27;110&#x27;,\n",
       "       &#x27;112&#x27;, &#x27;116&#x27;, &#x27;118&#x27;, &#x27;128&#x27;], dtype=object)</pre></div></li><li class='xr-var-item'><div class='xr-var-name'><span class='xr-has-index'>lines_t_mu_upper_i</span></div><div class='xr-var-dims'>(lines_t_mu_upper_i)</div><div class='xr-var-dtype'>object</div><div class='xr-var-preview xr-preview'>&#x27;10&#x27; &#x27;11&#x27; &#x27;14&#x27; ... &#x27;116&#x27; &#x27;118&#x27;</div><input id='attrs-f7657021-3f52-4c7f-8b1b-1cb77663ca6d' class='xr-var-attrs-in' type='checkbox' disabled><label for='attrs-f7657021-3f52-4c7f-8b1b-1cb77663ca6d' title='Show/Hide attributes'><svg class='icon xr-icon-file-text2'><use xlink:href='#icon-file-text2'></use></svg></label><input id='data-641b0c3d-6069-4980-9ebc-6d1b6f659820' class='xr-var-data-in' type='checkbox'><label for='data-641b0c3d-6069-4980-9ebc-6d1b6f659820' title='Show/Hide data repr'><svg class='icon xr-icon-database'><use xlink:href='#icon-database'></use></svg></label><div class='xr-var-attrs'><dl class='xr-attrs'></dl></div><div class='xr-var-data'><pre>array([&#x27;10&#x27;, &#x27;11&#x27;, &#x27;14&#x27;, &#x27;21&#x27;, &#x27;36&#x27;, &#x27;78&#x27;, &#x27;82&#x27;, &#x27;86&#x27;, &#x27;96&#x27;, &#x27;100&#x27;, &#x27;110&#x27;,\n",
       "       &#x27;112&#x27;, &#x27;115&#x27;, &#x27;116&#x27;, &#x27;118&#x27;], dtype=object)</pre></div></li><li class='xr-var-item'><div class='xr-var-name'><span class='xr-has-index'>buses_i</span></div><div class='xr-var-dims'>(buses_i)</div><div class='xr-var-dtype'>object</div><div class='xr-var-preview xr-preview'>&#x27;AVA0 0&#x27; &#x27;Arizona0 0&#x27; ... &#x27;WALC0 0&#x27;</div><input id='attrs-0636a651-a909-4de2-9386-ff791d31d9cf' class='xr-var-attrs-in' type='checkbox' disabled><label for='attrs-0636a651-a909-4de2-9386-ff791d31d9cf' title='Show/Hide attributes'><svg class='icon xr-icon-file-text2'><use xlink:href='#icon-file-text2'></use></svg></label><input id='data-78c9a28c-4e46-49fc-a679-542dcfad74d2' class='xr-var-data-in' type='checkbox'><label for='data-78c9a28c-4e46-49fc-a679-542dcfad74d2' title='Show/Hide data repr'><svg class='icon xr-icon-database'><use xlink:href='#icon-database'></use></svg></label><div class='xr-var-attrs'><dl class='xr-attrs'></dl></div><div class='xr-var-data'><pre>array([&#x27;AVA0 0&#x27;, &#x27;Arizona0 0&#x27;, &#x27;Arizona0 1&#x27;, &#x27;Arizona0 2&#x27;, &#x27;Arizona0 3&#x27;,\n",
       "       &#x27;BANC0 0&#x27;, &#x27;BPAT0 0&#x27;, &#x27;BPAT0 1&#x27;, &#x27;BPAT0 2&#x27;, &#x27;BPAT0 3&#x27;, &#x27;BPAT0 4&#x27;,\n",
       "       &#x27;CHPD0 0&#x27;, &#x27;CISO-PGAE0 0&#x27;, &#x27;CISO-PGAE0 1&#x27;, &#x27;CISO-PGAE0 2&#x27;,\n",
       "       &#x27;CISO-PGAE0 3&#x27;, &#x27;CISO-PGAE0 4&#x27;, &#x27;CISO-SCE0 0&#x27;, &#x27;CISO-SCE0 1&#x27;,\n",
       "       &#x27;CISO-SCE0 2&#x27;, &#x27;CISO-SCE0 3&#x27;, &#x27;CISO-SCE0 4&#x27;, &#x27;CISO-SCE0 5&#x27;,\n",
       "       &#x27;CISO-SCE0 6&#x27;, &#x27;CISO-SDGE0 0&#x27;, &#x27;CISO-VEA0 0&#x27;, &#x27;DOPD0 0&#x27;, &#x27;EPE0 0&#x27;,\n",
       "       &#x27;GCPD0 0&#x27;, &#x27;GRID0 0&#x27;, &#x27;IID0 0&#x27;, &#x27;IPCO0 0&#x27;, &#x27;LADWP0 0&#x27;, &#x27;MISO-00010 0&#x27;,\n",
       "       &#x27;MT_west0 0&#x27;, &#x27;NEVP0 0&#x27;, &#x27;NEVP0 1&#x27;, &#x27;PACE0 0&#x27;, &#x27;PACE0 1&#x27;, &#x27;PACW0 0&#x27;,\n",
       "       &#x27;PGE0 0&#x27;, &#x27;PNM0 0&#x27;, &#x27;PSCO0 0&#x27;, &#x27;PSCO0 1&#x27;, &#x27;PSEI0 0&#x27;, &#x27;TEPC0 0&#x27;,\n",
       "       &#x27;TID0 0&#x27;, &#x27;US0 0&#x27;, &#x27;WACM0 0&#x27;, &#x27;WALC0 0&#x27;], dtype=object)</pre></div></li><li class='xr-var-item'><div class='xr-var-name'><span class='xr-has-index'>buses_t_p_i</span></div><div class='xr-var-dims'>(buses_t_p_i)</div><div class='xr-var-dtype'>object</div><div class='xr-var-preview xr-preview'>&#x27;AVA0 0&#x27; &#x27;Arizona0 0&#x27; ... &#x27;WALC0 0&#x27;</div><input id='attrs-b2be9487-784e-404b-967a-0120305647f0' class='xr-var-attrs-in' type='checkbox' disabled><label for='attrs-b2be9487-784e-404b-967a-0120305647f0' title='Show/Hide attributes'><svg class='icon xr-icon-file-text2'><use xlink:href='#icon-file-text2'></use></svg></label><input id='data-5528f19e-f758-4286-bcae-277290331148' class='xr-var-data-in' type='checkbox'><label for='data-5528f19e-f758-4286-bcae-277290331148' title='Show/Hide data repr'><svg class='icon xr-icon-database'><use xlink:href='#icon-database'></use></svg></label><div class='xr-var-attrs'><dl class='xr-attrs'></dl></div><div class='xr-var-data'><pre>array([&#x27;AVA0 0&#x27;, &#x27;Arizona0 0&#x27;, &#x27;Arizona0 1&#x27;, &#x27;Arizona0 2&#x27;, &#x27;Arizona0 3&#x27;,\n",
       "       &#x27;BANC0 0&#x27;, &#x27;BPAT0 0&#x27;, &#x27;BPAT0 1&#x27;, &#x27;BPAT0 2&#x27;, &#x27;BPAT0 3&#x27;, &#x27;BPAT0 4&#x27;,\n",
       "       &#x27;CHPD0 0&#x27;, &#x27;CISO-PGAE0 0&#x27;, &#x27;CISO-PGAE0 1&#x27;, &#x27;CISO-PGAE0 2&#x27;,\n",
       "       &#x27;CISO-PGAE0 3&#x27;, &#x27;CISO-PGAE0 4&#x27;, &#x27;CISO-SCE0 0&#x27;, &#x27;CISO-SCE0 1&#x27;,\n",
       "       &#x27;CISO-SCE0 2&#x27;, &#x27;CISO-SCE0 3&#x27;, &#x27;CISO-SCE0 4&#x27;, &#x27;CISO-SCE0 5&#x27;,\n",
       "       &#x27;CISO-SCE0 6&#x27;, &#x27;CISO-SDGE0 0&#x27;, &#x27;CISO-VEA0 0&#x27;, &#x27;DOPD0 0&#x27;, &#x27;EPE0 0&#x27;,\n",
       "       &#x27;GCPD0 0&#x27;, &#x27;GRID0 0&#x27;, &#x27;IID0 0&#x27;, &#x27;IPCO0 0&#x27;, &#x27;LADWP0 0&#x27;, &#x27;MISO-00010 0&#x27;,\n",
       "       &#x27;MT_west0 0&#x27;, &#x27;NEVP0 0&#x27;, &#x27;NEVP0 1&#x27;, &#x27;PACE0 0&#x27;, &#x27;PACE0 1&#x27;, &#x27;PACW0 0&#x27;,\n",
       "       &#x27;PGE0 0&#x27;, &#x27;PNM0 0&#x27;, &#x27;PSCO0 0&#x27;, &#x27;PSCO0 1&#x27;, &#x27;PSEI0 0&#x27;, &#x27;TEPC0 0&#x27;,\n",
       "       &#x27;TID0 0&#x27;, &#x27;US0 0&#x27;, &#x27;WACM0 0&#x27;, &#x27;WALC0 0&#x27;], dtype=object)</pre></div></li><li class='xr-var-item'><div class='xr-var-name'><span class='xr-has-index'>buses_t_v_ang_i</span></div><div class='xr-var-dims'>(buses_t_v_ang_i)</div><div class='xr-var-dtype'>object</div><div class='xr-var-preview xr-preview'>&#x27;AVA0 0&#x27; &#x27;Arizona0 0&#x27; ... &#x27;WALC0 0&#x27;</div><input id='attrs-646047a6-1adf-4b67-9ebe-abb854f1ee77' class='xr-var-attrs-in' type='checkbox' disabled><label for='attrs-646047a6-1adf-4b67-9ebe-abb854f1ee77' title='Show/Hide attributes'><svg class='icon xr-icon-file-text2'><use xlink:href='#icon-file-text2'></use></svg></label><input id='data-7aad6de4-2a0a-48a8-948c-8d345b3acdc2' class='xr-var-data-in' type='checkbox'><label for='data-7aad6de4-2a0a-48a8-948c-8d345b3acdc2' title='Show/Hide data repr'><svg class='icon xr-icon-database'><use xlink:href='#icon-database'></use></svg></label><div class='xr-var-attrs'><dl class='xr-attrs'></dl></div><div class='xr-var-data'><pre>array([&#x27;AVA0 0&#x27;, &#x27;Arizona0 0&#x27;, &#x27;Arizona0 1&#x27;, &#x27;Arizona0 2&#x27;, &#x27;Arizona0 3&#x27;,\n",
       "       &#x27;BANC0 0&#x27;, &#x27;BPAT0 0&#x27;, &#x27;BPAT0 1&#x27;, &#x27;BPAT0 2&#x27;, &#x27;BPAT0 3&#x27;, &#x27;BPAT0 4&#x27;,\n",
       "       &#x27;CHPD0 0&#x27;, &#x27;CISO-PGAE0 0&#x27;, &#x27;CISO-PGAE0 1&#x27;, &#x27;CISO-PGAE0 2&#x27;,\n",
       "       &#x27;CISO-PGAE0 3&#x27;, &#x27;CISO-PGAE0 4&#x27;, &#x27;CISO-SCE0 0&#x27;, &#x27;CISO-SCE0 1&#x27;,\n",
       "       &#x27;CISO-SCE0 2&#x27;, &#x27;CISO-SCE0 3&#x27;, &#x27;CISO-SCE0 4&#x27;, &#x27;CISO-SCE0 5&#x27;,\n",
       "       &#x27;CISO-SCE0 6&#x27;, &#x27;CISO-SDGE0 0&#x27;, &#x27;CISO-VEA0 0&#x27;, &#x27;DOPD0 0&#x27;, &#x27;EPE0 0&#x27;,\n",
       "       &#x27;GCPD0 0&#x27;, &#x27;GRID0 0&#x27;, &#x27;IID0 0&#x27;, &#x27;IPCO0 0&#x27;, &#x27;LADWP0 0&#x27;, &#x27;MISO-00010 0&#x27;,\n",
       "       &#x27;MT_west0 0&#x27;, &#x27;NEVP0 0&#x27;, &#x27;NEVP0 1&#x27;, &#x27;PACE0 0&#x27;, &#x27;PACE0 1&#x27;, &#x27;PACW0 0&#x27;,\n",
       "       &#x27;PGE0 0&#x27;, &#x27;PNM0 0&#x27;, &#x27;PSCO0 0&#x27;, &#x27;PSCO0 1&#x27;, &#x27;PSEI0 0&#x27;, &#x27;TEPC0 0&#x27;,\n",
       "       &#x27;TID0 0&#x27;, &#x27;US0 0&#x27;, &#x27;WACM0 0&#x27;, &#x27;WALC0 0&#x27;], dtype=object)</pre></div></li><li class='xr-var-item'><div class='xr-var-name'><span class='xr-has-index'>buses_t_marginal_price_i</span></div><div class='xr-var-dims'>(buses_t_marginal_price_i)</div><div class='xr-var-dtype'>object</div><div class='xr-var-preview xr-preview'>&#x27;AVA0 0&#x27; &#x27;Arizona0 0&#x27; ... &#x27;WALC0 0&#x27;</div><input id='attrs-81c2d0c4-2a9b-4b1c-88a1-3e9c4e101895' class='xr-var-attrs-in' type='checkbox' disabled><label for='attrs-81c2d0c4-2a9b-4b1c-88a1-3e9c4e101895' title='Show/Hide attributes'><svg class='icon xr-icon-file-text2'><use xlink:href='#icon-file-text2'></use></svg></label><input id='data-53e15c53-9cbc-4174-82cb-5dc6562a5316' class='xr-var-data-in' type='checkbox'><label for='data-53e15c53-9cbc-4174-82cb-5dc6562a5316' title='Show/Hide data repr'><svg class='icon xr-icon-database'><use xlink:href='#icon-database'></use></svg></label><div class='xr-var-attrs'><dl class='xr-attrs'></dl></div><div class='xr-var-data'><pre>array([&#x27;AVA0 0&#x27;, &#x27;Arizona0 0&#x27;, &#x27;Arizona0 1&#x27;, &#x27;Arizona0 2&#x27;, &#x27;Arizona0 3&#x27;,\n",
       "       &#x27;BANC0 0&#x27;, &#x27;BPAT0 0&#x27;, &#x27;BPAT0 1&#x27;, &#x27;BPAT0 2&#x27;, &#x27;BPAT0 3&#x27;, &#x27;BPAT0 4&#x27;,\n",
       "       &#x27;CHPD0 0&#x27;, &#x27;CISO-PGAE0 0&#x27;, &#x27;CISO-PGAE0 1&#x27;, &#x27;CISO-PGAE0 2&#x27;,\n",
       "       &#x27;CISO-PGAE0 3&#x27;, &#x27;CISO-PGAE0 4&#x27;, &#x27;CISO-SCE0 0&#x27;, &#x27;CISO-SCE0 1&#x27;,\n",
       "       &#x27;CISO-SCE0 2&#x27;, &#x27;CISO-SCE0 3&#x27;, &#x27;CISO-SCE0 4&#x27;, &#x27;CISO-SCE0 5&#x27;,\n",
       "       &#x27;CISO-SCE0 6&#x27;, &#x27;CISO-SDGE0 0&#x27;, &#x27;CISO-VEA0 0&#x27;, &#x27;DOPD0 0&#x27;, &#x27;EPE0 0&#x27;,\n",
       "       &#x27;GCPD0 0&#x27;, &#x27;GRID0 0&#x27;, &#x27;IID0 0&#x27;, &#x27;IPCO0 0&#x27;, &#x27;LADWP0 0&#x27;, &#x27;MISO-00010 0&#x27;,\n",
       "       &#x27;MT_west0 0&#x27;, &#x27;NEVP0 0&#x27;, &#x27;NEVP0 1&#x27;, &#x27;PACE0 0&#x27;, &#x27;PACE0 1&#x27;, &#x27;PACW0 0&#x27;,\n",
       "       &#x27;PGE0 0&#x27;, &#x27;PNM0 0&#x27;, &#x27;PSCO0 0&#x27;, &#x27;PSCO0 1&#x27;, &#x27;PSEI0 0&#x27;, &#x27;TEPC0 0&#x27;,\n",
       "       &#x27;TID0 0&#x27;, &#x27;US0 0&#x27;, &#x27;WACM0 0&#x27;, &#x27;WALC0 0&#x27;], dtype=object)</pre></div></li></ul></div></li><li class='xr-section-item'><input id='section-39a285da-ec57-4dd7-b591-d98e3d50f35b' class='xr-section-summary-in' type='checkbox'  ><label for='section-39a285da-ec57-4dd7-b591-d98e3d50f35b' class='xr-section-summary' >Data variables: <span>(63)</span></label><div class='xr-section-inline-details'></div><div class='xr-section-details'><ul class='xr-var-list'><li class='xr-var-item'><div class='xr-var-name'><span>snapshots_snapshot</span></div><div class='xr-var-dims'>(snapshots)</div><div class='xr-var-dtype'>datetime64[ns]</div><div class='xr-var-preview xr-preview'>2016-01-01 ... 2016-12-31T23:00:00</div><input id='attrs-a19f478a-6188-4e78-bee9-4e56554a9de4' class='xr-var-attrs-in' type='checkbox' disabled><label for='attrs-a19f478a-6188-4e78-bee9-4e56554a9de4' title='Show/Hide attributes'><svg class='icon xr-icon-file-text2'><use xlink:href='#icon-file-text2'></use></svg></label><input id='data-a5e078f6-f218-4ef9-b7bd-dd9fddb86229' class='xr-var-data-in' type='checkbox'><label for='data-a5e078f6-f218-4ef9-b7bd-dd9fddb86229' title='Show/Hide data repr'><svg class='icon xr-icon-database'><use xlink:href='#icon-database'></use></svg></label><div class='xr-var-attrs'><dl class='xr-attrs'></dl></div><div class='xr-var-data'><pre>array([&#x27;2016-01-01T00:00:00.000000000&#x27;, &#x27;2016-01-01T01:00:00.000000000&#x27;,\n",
       "       &#x27;2016-01-01T02:00:00.000000000&#x27;, ...,\n",
       "       &#x27;2016-12-31T21:00:00.000000000&#x27;, &#x27;2016-12-31T22:00:00.000000000&#x27;,\n",
       "       &#x27;2016-12-31T23:00:00.000000000&#x27;], dtype=&#x27;datetime64[ns]&#x27;)</pre></div></li><li class='xr-var-item'><div class='xr-var-name'><span>snapshots_objective</span></div><div class='xr-var-dims'>(snapshots)</div><div class='xr-var-dtype'>float64</div><div class='xr-var-preview xr-preview'>1.0 1.0 1.0 1.0 ... 1.0 1.0 1.0 1.0</div><input id='attrs-17bf7d02-8c59-491c-87f0-7d1b7e5b08d6' class='xr-var-attrs-in' type='checkbox' disabled><label for='attrs-17bf7d02-8c59-491c-87f0-7d1b7e5b08d6' title='Show/Hide attributes'><svg class='icon xr-icon-file-text2'><use xlink:href='#icon-file-text2'></use></svg></label><input id='data-4af555d5-bc02-4460-8b94-4d0277f42712' class='xr-var-data-in' type='checkbox'><label for='data-4af555d5-bc02-4460-8b94-4d0277f42712' title='Show/Hide data repr'><svg class='icon xr-icon-database'><use xlink:href='#icon-database'></use></svg></label><div class='xr-var-attrs'><dl class='xr-attrs'></dl></div><div class='xr-var-data'><pre>array([1., 1., 1., ..., 1., 1., 1.])</pre></div></li><li class='xr-var-item'><div class='xr-var-name'><span>snapshots_generators</span></div><div class='xr-var-dims'>(snapshots)</div><div class='xr-var-dtype'>float64</div><div class='xr-var-preview xr-preview'>1.0 1.0 1.0 1.0 ... 1.0 1.0 1.0 1.0</div><input id='attrs-fd5c4636-99db-4f85-999e-8da76dbed390' class='xr-var-attrs-in' type='checkbox' disabled><label for='attrs-fd5c4636-99db-4f85-999e-8da76dbed390' title='Show/Hide attributes'><svg class='icon xr-icon-file-text2'><use xlink:href='#icon-file-text2'></use></svg></label><input id='data-4c1af758-6cad-479f-a939-55b78f3ea664' class='xr-var-data-in' type='checkbox'><label for='data-4c1af758-6cad-479f-a939-55b78f3ea664' title='Show/Hide data repr'><svg class='icon xr-icon-database'><use xlink:href='#icon-database'></use></svg></label><div class='xr-var-attrs'><dl class='xr-attrs'></dl></div><div class='xr-var-data'><pre>array([1., 1., 1., ..., 1., 1., 1.])</pre></div></li><li class='xr-var-item'><div class='xr-var-name'><span>snapshots_stores</span></div><div class='xr-var-dims'>(snapshots)</div><div class='xr-var-dtype'>float64</div><div class='xr-var-preview xr-preview'>1.0 1.0 1.0 1.0 ... 1.0 1.0 1.0 1.0</div><input id='attrs-3f943808-f84f-4a8c-8ef4-963fdd605109' class='xr-var-attrs-in' type='checkbox' disabled><label for='attrs-3f943808-f84f-4a8c-8ef4-963fdd605109' title='Show/Hide attributes'><svg class='icon xr-icon-file-text2'><use xlink:href='#icon-file-text2'></use></svg></label><input id='data-e5bf5c17-83af-4a66-8156-76f659e776f6' class='xr-var-data-in' type='checkbox'><label for='data-e5bf5c17-83af-4a66-8156-76f659e776f6' title='Show/Hide data repr'><svg class='icon xr-icon-database'><use xlink:href='#icon-database'></use></svg></label><div class='xr-var-attrs'><dl class='xr-attrs'></dl></div><div class='xr-var-data'><pre>array([1., 1., 1., ..., 1., 1., 1.])</pre></div></li><li class='xr-var-item'><div class='xr-var-name'><span>investment_periods_objective</span></div><div class='xr-var-dims'>(investment_periods)</div><div class='xr-var-dtype'>float64</div><div class='xr-var-preview xr-preview'></div><input id='attrs-129eb9ad-3860-4d0e-bf7d-e367c23e942b' class='xr-var-attrs-in' type='checkbox' disabled><label for='attrs-129eb9ad-3860-4d0e-bf7d-e367c23e942b' title='Show/Hide attributes'><svg class='icon xr-icon-file-text2'><use xlink:href='#icon-file-text2'></use></svg></label><input id='data-27842fc0-a71d-45b6-a8a7-9c8fc3d1ad5a' class='xr-var-data-in' type='checkbox'><label for='data-27842fc0-a71d-45b6-a8a7-9c8fc3d1ad5a' title='Show/Hide data repr'><svg class='icon xr-icon-database'><use xlink:href='#icon-database'></use></svg></label><div class='xr-var-attrs'><dl class='xr-attrs'></dl></div><div class='xr-var-data'><pre>array([], dtype=float64)</pre></div></li><li class='xr-var-item'><div class='xr-var-name'><span>investment_periods_years</span></div><div class='xr-var-dims'>(investment_periods)</div><div class='xr-var-dtype'>float64</div><div class='xr-var-preview xr-preview'></div><input id='attrs-3863f308-0a2e-4e60-8e40-52587ba93681' class='xr-var-attrs-in' type='checkbox' disabled><label for='attrs-3863f308-0a2e-4e60-8e40-52587ba93681' title='Show/Hide attributes'><svg class='icon xr-icon-file-text2'><use xlink:href='#icon-file-text2'></use></svg></label><input id='data-b8aebaec-0777-4f5a-9d85-fb9cc6966afb' class='xr-var-data-in' type='checkbox'><label for='data-b8aebaec-0777-4f5a-9d85-fb9cc6966afb' title='Show/Hide data repr'><svg class='icon xr-icon-database'><use xlink:href='#icon-database'></use></svg></label><div class='xr-var-attrs'><dl class='xr-attrs'></dl></div><div class='xr-var-data'><pre>array([], dtype=float64)</pre></div></li><li class='xr-var-item'><div class='xr-var-name'><span>carriers_co2_emissions</span></div><div class='xr-var-dims'>(carriers_i)</div><div class='xr-var-dtype'>float64</div><div class='xr-var-preview xr-preview'>0.0 0.0 0.0 0.0 ... 0.2 0.0 0.27</div><input id='attrs-9b72fe90-12e6-4352-86eb-f3d4e7fe7dc3' class='xr-var-attrs-in' type='checkbox' disabled><label for='attrs-9b72fe90-12e6-4352-86eb-f3d4e7fe7dc3' title='Show/Hide attributes'><svg class='icon xr-icon-file-text2'><use xlink:href='#icon-file-text2'></use></svg></label><input id='data-c1a07002-1c8f-49d8-8894-1c474d67c371' class='xr-var-data-in' type='checkbox'><label for='data-c1a07002-1c8f-49d8-8894-1c474d67c371' title='Show/Hide data repr'><svg class='icon xr-icon-database'><use xlink:href='#icon-database'></use></svg></label><div class='xr-var-attrs'><dl class='xr-attrs'></dl></div><div class='xr-var-data'><pre>array([0.  , 0.  , 0.  , 0.  , 0.34, 0.03, 0.2 , 0.  , 0.27])</pre></div></li><li class='xr-var-item'><div class='xr-var-name'><span>links_bus0</span></div><div class='xr-var-dims'>(links_i)</div><div class='xr-var-dtype'>object</div><div class='xr-var-preview xr-preview'>&#x27;PACE0 0&#x27; &#x27;BPAT0 4&#x27;</div><input id='attrs-348e8c28-52f2-4d2d-8682-9d3be9f53db0' class='xr-var-attrs-in' type='checkbox' disabled><label for='attrs-348e8c28-52f2-4d2d-8682-9d3be9f53db0' title='Show/Hide attributes'><svg class='icon xr-icon-file-text2'><use xlink:href='#icon-file-text2'></use></svg></label><input id='data-ca19c427-06da-43be-ad6d-3173d5502a89' class='xr-var-data-in' type='checkbox'><label for='data-ca19c427-06da-43be-ad6d-3173d5502a89' title='Show/Hide data repr'><svg class='icon xr-icon-database'><use xlink:href='#icon-database'></use></svg></label><div class='xr-var-attrs'><dl class='xr-attrs'></dl></div><div class='xr-var-data'><pre>array([&#x27;PACE0 0&#x27;, &#x27;BPAT0 4&#x27;], dtype=object)</pre></div></li><li class='xr-var-item'><div class='xr-var-name'><span>links_bus1</span></div><div class='xr-var-dims'>(links_i)</div><div class='xr-var-dtype'>object</div><div class='xr-var-preview xr-preview'>&#x27;CISO-SCE0 3&#x27; &#x27;LADWP0 0&#x27;</div><input id='attrs-cd17f3da-e949-4892-a5a4-70ee9ba36c5d' class='xr-var-attrs-in' type='checkbox' disabled><label for='attrs-cd17f3da-e949-4892-a5a4-70ee9ba36c5d' title='Show/Hide attributes'><svg class='icon xr-icon-file-text2'><use xlink:href='#icon-file-text2'></use></svg></label><input id='data-30d51790-75d8-49c1-a767-c2d72c4d4ead' class='xr-var-data-in' type='checkbox'><label for='data-30d51790-75d8-49c1-a767-c2d72c4d4ead' title='Show/Hide data repr'><svg class='icon xr-icon-database'><use xlink:href='#icon-database'></use></svg></label><div class='xr-var-attrs'><dl class='xr-attrs'></dl></div><div class='xr-var-data'><pre>array([&#x27;CISO-SCE0 3&#x27;, &#x27;LADWP0 0&#x27;], dtype=object)</pre></div></li><li class='xr-var-item'><div class='xr-var-name'><span>links_p_nom</span></div><div class='xr-var-dims'>(links_i)</div><div class='xr-var-dtype'>float64</div><div class='xr-var-preview xr-preview'>2.3e+03 3e+03</div><input id='attrs-400dc1d7-2398-4e6d-b984-54ae2be0cc89' class='xr-var-attrs-in' type='checkbox' disabled><label for='attrs-400dc1d7-2398-4e6d-b984-54ae2be0cc89' title='Show/Hide attributes'><svg class='icon xr-icon-file-text2'><use xlink:href='#icon-file-text2'></use></svg></label><input id='data-2321c1a3-3884-4413-87fa-a18550a6e14a' class='xr-var-data-in' type='checkbox'><label for='data-2321c1a3-3884-4413-87fa-a18550a6e14a' title='Show/Hide data repr'><svg class='icon xr-icon-database'><use xlink:href='#icon-database'></use></svg></label><div class='xr-var-attrs'><dl class='xr-attrs'></dl></div><div class='xr-var-data'><pre>array([2300., 3000.])</pre></div></li><li class='xr-var-item'><div class='xr-var-name'><span>links_carrier</span></div><div class='xr-var-dims'>(links_i)</div><div class='xr-var-dtype'>object</div><div class='xr-var-preview xr-preview'>&#x27;DC&#x27; &#x27;DC&#x27;</div><input id='attrs-8ac84c7e-6caf-4ed6-a4a8-8bf3817cac6b' class='xr-var-attrs-in' type='checkbox' disabled><label for='attrs-8ac84c7e-6caf-4ed6-a4a8-8bf3817cac6b' title='Show/Hide attributes'><svg class='icon xr-icon-file-text2'><use xlink:href='#icon-file-text2'></use></svg></label><input id='data-ad674af1-d033-4d16-90ab-b3e467fe9ff3' class='xr-var-data-in' type='checkbox'><label for='data-ad674af1-d033-4d16-90ab-b3e467fe9ff3' title='Show/Hide data repr'><svg class='icon xr-icon-database'><use xlink:href='#icon-database'></use></svg></label><div class='xr-var-attrs'><dl class='xr-attrs'></dl></div><div class='xr-var-data'><pre>array([&#x27;DC&#x27;, &#x27;DC&#x27;], dtype=object)</pre></div></li><li class='xr-var-item'><div class='xr-var-name'><span>links_underwater_fraction</span></div><div class='xr-var-dims'>(links_i)</div><div class='xr-var-dtype'>float64</div><div class='xr-var-preview xr-preview'>0.0 0.0</div><input id='attrs-7b284092-5d4c-449e-82c1-afb0e8157272' class='xr-var-attrs-in' type='checkbox' disabled><label for='attrs-7b284092-5d4c-449e-82c1-afb0e8157272' title='Show/Hide attributes'><svg class='icon xr-icon-file-text2'><use xlink:href='#icon-file-text2'></use></svg></label><input id='data-c5d82193-4bfd-4cee-873a-ec7bde4d3d66' class='xr-var-data-in' type='checkbox'><label for='data-c5d82193-4bfd-4cee-873a-ec7bde4d3d66' title='Show/Hide data repr'><svg class='icon xr-icon-database'><use xlink:href='#icon-database'></use></svg></label><div class='xr-var-attrs'><dl class='xr-attrs'></dl></div><div class='xr-var-data'><pre>array([0., 0.])</pre></div></li><li class='xr-var-item'><div class='xr-var-name'><span>links_length</span></div><div class='xr-var-dims'>(links_i)</div><div class='xr-var-dtype'>float64</div><div class='xr-var-preview xr-preview'>1.107e+03 1.611e+03</div><input id='attrs-b5f43ea5-ee34-46a6-b5a9-84b5e2f9ee35' class='xr-var-attrs-in' type='checkbox' disabled><label for='attrs-b5f43ea5-ee34-46a6-b5a9-84b5e2f9ee35' title='Show/Hide attributes'><svg class='icon xr-icon-file-text2'><use xlink:href='#icon-file-text2'></use></svg></label><input id='data-93c0def8-0592-443c-86e4-bc8040857b7f' class='xr-var-data-in' type='checkbox'><label for='data-93c0def8-0592-443c-86e4-bc8040857b7f' title='Show/Hide data repr'><svg class='icon xr-icon-database'><use xlink:href='#icon-database'></use></svg></label><div class='xr-var-attrs'><dl class='xr-attrs'></dl></div><div class='xr-var-data'><pre>array([1106.76099758, 1611.44326741])</pre></div></li><li class='xr-var-item'><div class='xr-var-name'><span>links_capital_cost</span></div><div class='xr-var-dims'>(links_i)</div><div class='xr-var-dtype'>float64</div><div class='xr-var-preview xr-preview'>1.712e+04 1.362e+04</div><input id='attrs-285ad74d-e770-43d2-bba3-d33286ca3e93' class='xr-var-attrs-in' type='checkbox' disabled><label for='attrs-285ad74d-e770-43d2-bba3-d33286ca3e93' title='Show/Hide attributes'><svg class='icon xr-icon-file-text2'><use xlink:href='#icon-file-text2'></use></svg></label><input id='data-646b22aa-2762-4535-9bd0-c282970647be' class='xr-var-data-in' type='checkbox'><label for='data-646b22aa-2762-4535-9bd0-c282970647be' title='Show/Hide data repr'><svg class='icon xr-icon-database'><use xlink:href='#icon-database'></use></svg></label><div class='xr-var-attrs'><dl class='xr-attrs'></dl></div><div class='xr-var-data'><pre>array([17116.52609816, 13619.72675726])</pre></div></li><li class='xr-var-item'><div class='xr-var-name'><span>links_p_nom_opt</span></div><div class='xr-var-dims'>(links_i)</div><div class='xr-var-dtype'>float64</div><div class='xr-var-preview xr-preview'>2.3e+03 3e+03</div><input id='attrs-ea4f8af4-b98f-42e0-a28d-1d16db60ab9a' class='xr-var-attrs-in' type='checkbox' disabled><label for='attrs-ea4f8af4-b98f-42e0-a28d-1d16db60ab9a' title='Show/Hide attributes'><svg class='icon xr-icon-file-text2'><use xlink:href='#icon-file-text2'></use></svg></label><input id='data-2c0c88a5-e378-4e3b-866d-7c2d382c479f' class='xr-var-data-in' type='checkbox'><label for='data-2c0c88a5-e378-4e3b-866d-7c2d382c479f' title='Show/Hide data repr'><svg class='icon xr-icon-database'><use xlink:href='#icon-database'></use></svg></label><div class='xr-var-attrs'><dl class='xr-attrs'></dl></div><div class='xr-var-data'><pre>array([2300., 3000.])</pre></div></li><li class='xr-var-item'><div class='xr-var-name'><span>links_t_p0</span></div><div class='xr-var-dims'>(snapshots, links_t_p0_i)</div><div class='xr-var-dtype'>float64</div><div class='xr-var-preview xr-preview'>2.3e+03 0.0 ... 2.3e+03 2.367e+03</div><input id='attrs-71669cd8-8c3e-466c-b637-1282013b851b' class='xr-var-attrs-in' type='checkbox' disabled><label for='attrs-71669cd8-8c3e-466c-b637-1282013b851b' title='Show/Hide attributes'><svg class='icon xr-icon-file-text2'><use xlink:href='#icon-file-text2'></use></svg></label><input id='data-ce4c94c8-7fe8-449b-98a7-b648827a1e4f' class='xr-var-data-in' type='checkbox'><label for='data-ce4c94c8-7fe8-449b-98a7-b648827a1e4f' title='Show/Hide data repr'><svg class='icon xr-icon-database'><use xlink:href='#icon-database'></use></svg></label><div class='xr-var-attrs'><dl class='xr-attrs'></dl></div><div class='xr-var-data'><pre>array([[2300.        ,    0.        ],\n",
       "       [2300.        ,    0.        ],\n",
       "       [2300.        ,    0.        ],\n",
       "       ...,\n",
       "       [2300.        , 2205.42203897],\n",
       "       [2300.        , 2546.06398417],\n",
       "       [2300.        , 2366.82503326]])</pre></div></li><li class='xr-var-item'><div class='xr-var-name'><span>links_t_p1</span></div><div class='xr-var-dims'>(snapshots, links_t_p1_i)</div><div class='xr-var-dtype'>float64</div><div class='xr-var-preview xr-preview'>-2.3e+03 -0.0 ... -2.367e+03</div><input id='attrs-611e0143-dafe-4ee4-8f54-c3afe4293dc6' class='xr-var-attrs-in' type='checkbox' disabled><label for='attrs-611e0143-dafe-4ee4-8f54-c3afe4293dc6' title='Show/Hide attributes'><svg class='icon xr-icon-file-text2'><use xlink:href='#icon-file-text2'></use></svg></label><input id='data-486bbae6-f722-42fa-b774-eaa8619a8cf9' class='xr-var-data-in' type='checkbox'><label for='data-486bbae6-f722-42fa-b774-eaa8619a8cf9' title='Show/Hide data repr'><svg class='icon xr-icon-database'><use xlink:href='#icon-database'></use></svg></label><div class='xr-var-attrs'><dl class='xr-attrs'></dl></div><div class='xr-var-data'><pre>array([[-2300.        ,    -0.        ],\n",
       "       [-2300.        ,    -0.        ],\n",
       "       [-2300.        ,    -0.        ],\n",
       "       ...,\n",
       "       [-2300.        , -2205.42203897],\n",
       "       [-2300.        , -2546.06398417],\n",
       "       [-2300.        , -2366.82503326]])</pre></div></li><li class='xr-var-item'><div class='xr-var-name'><span>links_t_mu_lower</span></div><div class='xr-var-dims'>(snapshots, links_t_mu_lower_i)</div><div class='xr-var-dtype'>float64</div><div class='xr-var-preview xr-preview'>-0.0 -0.321 -0.0 ... -0.0 -0.0 -0.0</div><input id='attrs-168180db-7bb7-4187-ac08-ee0c552e14f3' class='xr-var-attrs-in' type='checkbox' disabled><label for='attrs-168180db-7bb7-4187-ac08-ee0c552e14f3' title='Show/Hide attributes'><svg class='icon xr-icon-file-text2'><use xlink:href='#icon-file-text2'></use></svg></label><input id='data-d2476f14-9b38-436e-8735-dd436aaba41c' class='xr-var-data-in' type='checkbox'><label for='data-d2476f14-9b38-436e-8735-dd436aaba41c' title='Show/Hide data repr'><svg class='icon xr-icon-database'><use xlink:href='#icon-database'></use></svg></label><div class='xr-var-attrs'><dl class='xr-attrs'></dl></div><div class='xr-var-data'><pre>array([[-0.        , -0.32100642],\n",
       "       [-0.        , -0.18801724],\n",
       "       [-0.        , -0.15049058],\n",
       "       ...,\n",
       "       [-0.        , -0.        ],\n",
       "       [-0.        , -0.        ],\n",
       "       [-0.        , -0.        ]])</pre></div></li><li class='xr-var-item'><div class='xr-var-name'><span>links_t_mu_upper</span></div><div class='xr-var-dims'>(snapshots, links_t_mu_upper_i)</div><div class='xr-var-dtype'>float64</div><div class='xr-var-preview xr-preview'>-2.449 0.0 -2.773 ... 0.0 -2.28 0.0</div><input id='attrs-5b3924c8-6925-4d3d-b2f9-619dad9d3402' class='xr-var-attrs-in' type='checkbox' disabled><label for='attrs-5b3924c8-6925-4d3d-b2f9-619dad9d3402' title='Show/Hide attributes'><svg class='icon xr-icon-file-text2'><use xlink:href='#icon-file-text2'></use></svg></label><input id='data-a1a38731-8166-425c-ae6f-754b2c883759' class='xr-var-data-in' type='checkbox'><label for='data-a1a38731-8166-425c-ae6f-754b2c883759' title='Show/Hide data repr'><svg class='icon xr-icon-database'><use xlink:href='#icon-database'></use></svg></label><div class='xr-var-attrs'><dl class='xr-attrs'></dl></div><div class='xr-var-data'><pre>array([[-2.44888296,  0.        ],\n",
       "       [-2.77345631,  0.        ],\n",
       "       [-2.83618482,  0.        ],\n",
       "       ...,\n",
       "       [-1.99499998,  0.        ],\n",
       "       [-2.28266324,  0.        ],\n",
       "       [-2.27970929,  0.        ]])</pre></div></li><li class='xr-var-item'><div class='xr-var-name'><span>loads_bus</span></div><div class='xr-var-dims'>(loads_i)</div><div class='xr-var-dtype'>object</div><div class='xr-var-preview xr-preview'>&#x27;AVA0 0&#x27; &#x27;Arizona0 0&#x27; ... &#x27;WALC0 0&#x27;</div><input id='attrs-a8055870-1bcd-45b3-a89e-0d944ce21a55' class='xr-var-attrs-in' type='checkbox' disabled><label for='attrs-a8055870-1bcd-45b3-a89e-0d944ce21a55' title='Show/Hide attributes'><svg class='icon xr-icon-file-text2'><use xlink:href='#icon-file-text2'></use></svg></label><input id='data-6c0f9955-3f1f-4e2d-8834-14d136699110' class='xr-var-data-in' type='checkbox'><label for='data-6c0f9955-3f1f-4e2d-8834-14d136699110' title='Show/Hide data repr'><svg class='icon xr-icon-database'><use xlink:href='#icon-database'></use></svg></label><div class='xr-var-attrs'><dl class='xr-attrs'></dl></div><div class='xr-var-data'><pre>array([&#x27;AVA0 0&#x27;, &#x27;Arizona0 0&#x27;, &#x27;Arizona0 1&#x27;, &#x27;Arizona0 2&#x27;, &#x27;Arizona0 3&#x27;,\n",
       "       &#x27;BANC0 0&#x27;, &#x27;BPAT0 0&#x27;, &#x27;BPAT0 1&#x27;, &#x27;BPAT0 2&#x27;, &#x27;BPAT0 3&#x27;, &#x27;BPAT0 4&#x27;,\n",
       "       &#x27;CHPD0 0&#x27;, &#x27;CISO-PGAE0 0&#x27;, &#x27;CISO-PGAE0 1&#x27;, &#x27;CISO-PGAE0 2&#x27;,\n",
       "       &#x27;CISO-PGAE0 3&#x27;, &#x27;CISO-PGAE0 4&#x27;, &#x27;CISO-SCE0 0&#x27;, &#x27;CISO-SCE0 1&#x27;,\n",
       "       &#x27;CISO-SCE0 2&#x27;, &#x27;CISO-SCE0 3&#x27;, &#x27;CISO-SCE0 4&#x27;, &#x27;CISO-SCE0 5&#x27;,\n",
       "       &#x27;CISO-SCE0 6&#x27;, &#x27;CISO-SDGE0 0&#x27;, &#x27;CISO-VEA0 0&#x27;, &#x27;DOPD0 0&#x27;, &#x27;EPE0 0&#x27;,\n",
       "       &#x27;GCPD0 0&#x27;, &#x27;GRID0 0&#x27;, &#x27;IID0 0&#x27;, &#x27;IPCO0 0&#x27;, &#x27;LADWP0 0&#x27;,\n",
       "       &#x27;MISO-00010 0&#x27;, &#x27;MT_west0 0&#x27;, &#x27;NEVP0 0&#x27;, &#x27;NEVP0 1&#x27;, &#x27;PACE0 0&#x27;,\n",
       "       &#x27;PACE0 1&#x27;, &#x27;PACW0 0&#x27;, &#x27;PGE0 0&#x27;, &#x27;PNM0 0&#x27;, &#x27;PSCO0 0&#x27;, &#x27;PSCO0 1&#x27;,\n",
       "       &#x27;PSEI0 0&#x27;, &#x27;TEPC0 0&#x27;, &#x27;TID0 0&#x27;, &#x27;US0 0&#x27;, &#x27;WACM0 0&#x27;, &#x27;WALC0 0&#x27;],\n",
       "      dtype=object)</pre></div></li><li class='xr-var-item'><div class='xr-var-name'><span>loads_t_p_set</span></div><div class='xr-var-dims'>(snapshots, loads_t_p_set_i)</div><div class='xr-var-dtype'>float64</div><div class='xr-var-preview xr-preview'>1.798e+03 5.612e+03 ... 16.03</div><input id='attrs-fb1c5466-bcc0-4462-b618-12f2c5ce61e0' class='xr-var-attrs-in' type='checkbox' disabled><label for='attrs-fb1c5466-bcc0-4462-b618-12f2c5ce61e0' title='Show/Hide attributes'><svg class='icon xr-icon-file-text2'><use xlink:href='#icon-file-text2'></use></svg></label><input id='data-d449890f-cbd2-41f8-889c-e397a09879fe' class='xr-var-data-in' type='checkbox'><label for='data-d449890f-cbd2-41f8-889c-e397a09879fe' title='Show/Hide data repr'><svg class='icon xr-icon-database'><use xlink:href='#icon-database'></use></svg></label><div class='xr-var-attrs'><dl class='xr-attrs'></dl></div><div class='xr-var-data'><pre>array([[1798.27525536, 5611.50617965,  537.3943519 , ..., 3290.07192339,\n",
       "        3191.75518879,   16.20178442],\n",
       "       [1940.8349164 , 6243.09937253,  597.87982651, ..., 3472.30257505,\n",
       "        3437.72815895,   16.56404897],\n",
       "       [2045.24492189, 6617.71208045,  633.75517743, ..., 3671.19208053,\n",
       "        3423.86167315,   17.29115136],\n",
       "       ...,\n",
       "       [1869.26675816, 5244.90446305,  502.28618565, ..., 3398.90678177,\n",
       "        2779.56981795,   16.30347839],\n",
       "       [1834.0055614 , 5205.75093742,  498.53658922, ..., 3346.16304917,\n",
       "        2760.99192525,   16.1626942 ],\n",
       "       [1829.80552373, 5255.95851897,  503.34479398, ..., 3324.24129123,\n",
       "        2802.81242367,   16.03327801]])</pre></div></li><li class='xr-var-item'><div class='xr-var-name'><span>loads_t_p</span></div><div class='xr-var-dims'>(snapshots, loads_t_p_i)</div><div class='xr-var-dtype'>float64</div><div class='xr-var-preview xr-preview'>1.798e+03 5.612e+03 ... 16.03</div><input id='attrs-40ca36cb-cd74-4769-a962-768d8857f1a6' class='xr-var-attrs-in' type='checkbox' disabled><label for='attrs-40ca36cb-cd74-4769-a962-768d8857f1a6' title='Show/Hide attributes'><svg class='icon xr-icon-file-text2'><use xlink:href='#icon-file-text2'></use></svg></label><input id='data-cbc95124-651e-4836-aa32-1ce117489eb5' class='xr-var-data-in' type='checkbox'><label for='data-cbc95124-651e-4836-aa32-1ce117489eb5' title='Show/Hide data repr'><svg class='icon xr-icon-database'><use xlink:href='#icon-database'></use></svg></label><div class='xr-var-attrs'><dl class='xr-attrs'></dl></div><div class='xr-var-data'><pre>array([[1798.27525536, 5611.50617965,  537.3943519 , ..., 3290.07192339,\n",
       "        3191.75518879,   16.20178442],\n",
       "       [1940.8349164 , 6243.09937253,  597.87982651, ..., 3472.30257505,\n",
       "        3437.72815895,   16.56404897],\n",
       "       [2045.24492189, 6617.71208045,  633.75517743, ..., 3671.19208053,\n",
       "        3423.86167315,   17.29115136],\n",
       "       ...,\n",
       "       [1869.26675816, 5244.90446305,  502.28618565, ..., 3398.90678177,\n",
       "        2779.56981795,   16.30347839],\n",
       "       [1834.0055614 , 5205.75093742,  498.53658922, ..., 3346.16304917,\n",
       "        2760.99192525,   16.1626942 ],\n",
       "       [1829.80552373, 5255.95851897,  503.34479398, ..., 3324.24129123,\n",
       "        2802.81242367,   16.03327801]])</pre></div></li><li class='xr-var-item'><div class='xr-var-name'><span>generators_weight</span></div><div class='xr-var-dims'>(generators_i)</div><div class='xr-var-dtype'>float64</div><div class='xr-var-preview xr-preview'>35.0 6.0 2.0 1.0 ... 19.0 21.0 4.0</div><input id='attrs-49bd26f0-d91c-49e7-a087-cf6c13a3bb55' class='xr-var-attrs-in' type='checkbox' disabled><label for='attrs-49bd26f0-d91c-49e7-a087-cf6c13a3bb55' title='Show/Hide attributes'><svg class='icon xr-icon-file-text2'><use xlink:href='#icon-file-text2'></use></svg></label><input id='data-e618f521-7b03-43c1-80b9-7b3a8cca4542' class='xr-var-data-in' type='checkbox'><label for='data-e618f521-7b03-43c1-80b9-7b3a8cca4542' title='Show/Hide data repr'><svg class='icon xr-icon-database'><use xlink:href='#icon-database'></use></svg></label><div class='xr-var-attrs'><dl class='xr-attrs'></dl></div><div class='xr-var-data'><pre>array([35.,  6.,  2.,  1., 12., 92.,  3., 30.,  3.,  6.,  2.,  1., 10.,\n",
       "        1.,  2.,  5., 18.,  6.,  1.,  2., 11., 28., 29., 20., 16., 36.,\n",
       "       11.,  1.,  4., 21.,  2., 38., 10.,  3., 29., 19.,  2.,  2., 31.,\n",
       "       14., 42., 23., 10., 80., 15., 11., 10.,  9.,  6., 84., 23., 21.,\n",
       "       52., 41., 30., 18., 14.,  1.,  5.,  4.,  1., 49., 50.,  1., 22.,\n",
       "       94.,  2.,  9., 37., 21., 18.,  2., 13., 25., 24.,  1.,  6.,  1.,\n",
       "        2.,  2., 44.,  2.,  1., 24., 16.,  5., 10.,  1.,  4.,  2.,  9.,\n",
       "        4., 15., 59.,  1., 43.,  8.,  6., 25., 45.,  5.,  5.,  3., 27.,\n",
       "       10., 10.,  1., 12., 56., 26.,  1.,  3., 19., 20., 43., 20., 21.,\n",
       "       37.,  5., 13., 13.,  9.,  3.,  2.,  8., 31.,  7., 10., 16.,  3.,\n",
       "       13.,  6., 30.,  4.,  8., 11., 24.,  6., 10.,  8.,  4., 54.,  1.,\n",
       "        2., 17., 15.,  6., 14., 10.,  5., 10., 14.,  2., 24.,  6., 31.,\n",
       "       30., 19., 21.,  4.])</pre></div></li><li class='xr-var-item'><div class='xr-var-name'><span>generators_p_nom</span></div><div class='xr-var-dims'>(generators_i)</div><div class='xr-var-dtype'>float64</div><div class='xr-var-preview xr-preview'>2.386e+03 555.7 ... 1.637e+03 120.0</div><input id='attrs-14ceafc9-921c-4254-8130-7a98d53e5c0c' class='xr-var-attrs-in' type='checkbox' disabled><label for='attrs-14ceafc9-921c-4254-8130-7a98d53e5c0c' title='Show/Hide attributes'><svg class='icon xr-icon-file-text2'><use xlink:href='#icon-file-text2'></use></svg></label><input id='data-4ac67022-a9e7-48b0-b1cd-3884225b3e92' class='xr-var-data-in' type='checkbox'><label for='data-4ac67022-a9e7-48b0-b1cd-3884225b3e92' title='Show/Hide data repr'><svg class='icon xr-icon-database'><use xlink:href='#icon-database'></use></svg></label><div class='xr-var-attrs'><dl class='xr-attrs'></dl></div><div class='xr-var-data'><pre>array([2.386290e+03, 5.557000e+02, 5.790000e+01, 1.053000e+02,\n",
       "       2.820000e+02, 1.382111e+04, 4.209600e+03, 1.182892e+03,\n",
       "       2.409300e+03, 1.312011e+03, 5.530000e+01, 9.920000e+01,\n",
       "       3.716400e+03, 2.720000e+01, 1.281000e+02, 2.548000e+02,\n",
       "       1.970990e+03, 1.465000e+02, 1.000000e+01, 1.424000e+02,\n",
       "       5.228000e+02, 1.633320e+03, 1.011200e+03, 1.891520e+03,\n",
       "       3.339990e+02, 4.448100e+03, 1.356200e+03, 1.200000e+03,\n",
       "       1.138000e+02, 2.103300e+03, 1.459800e+03, 1.056700e+03,\n",
       "       1.844120e+03, 3.300000e+01, 2.218207e+03, 4.481593e+03,\n",
       "       2.843000e+02, 1.033000e+02, 4.107500e+03, 2.132800e+03,\n",
       "       3.024007e+03, 1.033110e+03, 5.220000e+02, 3.542805e+03,\n",
       "       1.690610e+03, 1.972000e+02, 3.323800e+02, 7.275600e+02,\n",
       "       4.240050e+02, 1.143280e+04, 2.140105e+03, 1.555300e+03,\n",
       "       4.340910e+03, 2.363700e+03, 1.619500e+03, 3.964500e+02,\n",
       "       2.250930e+02, 1.012000e+02, 9.249000e+01, 1.402800e+02,\n",
       "       4.820000e+01, 2.450693e+03, 3.371900e+03, 2.471000e+01,\n",
       "       8.372100e+02, 8.898880e+03, 6.590000e+01, 3.407000e+02,\n",
       "       3.944300e+03, 1.926610e+03, 1.040500e+03, 3.190000e+02,\n",
       "       1.547880e+03, 1.347497e+03, 6.174000e+02, 3.820000e+01,\n",
       "       7.020000e+01, 4.850000e+01, 5.700000e+01, 4.200000e+01,\n",
       "       3.788790e+03, 1.930000e+02, 9.600000e+01, 9.894606e+03,\n",
       "       1.653010e+03, 6.020000e+01, 1.087305e+03, 6.422000e+02,\n",
       "       5.533000e+02, 8.190000e+01, 4.295700e+02, 5.260000e+01,\n",
       "       6.304000e+02, 2.202586e+03, 2.654000e+02, 1.579096e+03,\n",
       "       7.830000e+02, 7.440000e+01, 4.761000e+02, 3.291830e+03,\n",
       "       2.318100e+03, 1.853000e+02, 3.565000e+02, 6.032000e+02,\n",
       "       3.006000e+02, 5.373000e+02, 2.948000e+02, 2.078787e+03,\n",
       "       6.984160e+03, 1.106196e+03, 1.500000e+02, 8.090000e+02,\n",
       "       3.828200e+02, 1.632500e+03, 6.559830e+02, 5.580980e+03,\n",
       "       4.237000e+02, 3.123350e+03, 8.380000e+01, 1.099900e+03,\n",
       "       3.012400e+03, 2.394000e+02, 1.080000e+02, 1.496000e+02,\n",
       "       3.839000e+02, 8.526000e+02, 6.191100e+02, 9.899100e+01,\n",
       "       1.419311e+03, 7.630000e+01, 3.786620e+03, 6.590000e+01,\n",
       "       1.713400e+03, 1.189000e+02, 1.146500e+03, 2.218410e+03,\n",
       "       1.435980e+03, 1.303000e+02, 1.853000e+03, 1.389610e+03,\n",
       "       3.354000e+02, 4.587320e+03, 5.000000e+01, 5.513000e+02,\n",
       "       1.067695e+03, 1.123010e+03, 2.244000e+02, 1.245280e+03,\n",
       "       3.098000e+02, 8.270000e+01, 5.978800e+02, 1.886200e+03,\n",
       "       2.323000e+03, 2.400000e+01, 1.980000e+02, 6.874010e+03,\n",
       "       9.063000e+02, 3.580900e+02, 1.636800e+03, 1.200000e+02])</pre></div></li><li class='xr-var-item'><div class='xr-var-name'><span>generators_capital_cost</span></div><div class='xr-var-dims'>(generators_i)</div><div class='xr-var-dtype'>float64</div><div class='xr-var-preview xr-preview'>1.773e+05 0.0 ... 1.773e+05</div><input id='attrs-71366718-ab56-4ead-9620-15ed158c40f1' class='xr-var-attrs-in' type='checkbox' disabled><label for='attrs-71366718-ab56-4ead-9620-15ed158c40f1' title='Show/Hide attributes'><svg class='icon xr-icon-file-text2'><use xlink:href='#icon-file-text2'></use></svg></label><input id='data-f4d1ed97-9f79-4210-bc47-7339171c8b00' class='xr-var-data-in' type='checkbox'><label for='data-f4d1ed97-9f79-4210-bc47-7339171c8b00' title='Show/Hide data repr'><svg class='icon xr-icon-database'><use xlink:href='#icon-database'></use></svg></label><div class='xr-var-attrs'><dl class='xr-attrs'></dl></div><div class='xr-var-data'><pre>array([177345.21661949,      0.        ,  35602.0712438 ,  96085.88801997,\n",
       "       177345.21661949,      0.        ,      0.        ,  35602.0712438 ,\n",
       "            0.        , 177345.21661949,  35602.0712438 ,  96085.88801997,\n",
       "            0.        ,  35602.0712438 ,  96085.88801997, 177345.21661949,\n",
       "            0.        ,  35602.0712438 ,  96085.88801997,      0.        ,\n",
       "       177345.21661949,      0.        , 177345.21661949,      0.        ,\n",
       "        35602.0712438 , 177345.21661949,      0.        ,      0.        ,\n",
       "        35602.0712438 ,  96085.88801997,      0.        , 177345.21661949,\n",
       "            0.        ,  35602.0712438 , 177345.21661949, 177345.21661949,\n",
       "            0.        ,  35602.0712438 ,  96085.88801997, 177345.21661949,\n",
       "       177345.21661949,      0.        ,  35602.0712438 , 177345.21661949,\n",
       "            0.        ,  35602.0712438 ,      0.        ,      0.        ,\n",
       "       177345.21661949,      0.        ,  35602.0712438 ,  96085.88801997,\n",
       "            0.        ,  35602.0712438 , 177345.21661949,      0.        ,\n",
       "        35602.0712438 ,  96085.88801997,      0.        ,      0.        ,\n",
       "            0.        ,  35602.0712438 ,  96085.88801997,      0.        ,\n",
       "       177345.21661949,      0.        ,  35602.0712438 , 177345.21661949,\n",
       "            0.        , 177345.21661949,      0.        ,  35602.0712438 ,\n",
       "            0.        ,  35602.0712438 ,  96085.88801997,      0.        ,\n",
       "       177345.21661949,      0.        ,  35602.0712438 , 177345.21661949,\n",
       "            0.        ,  96085.88801997,  35602.0712438 , 177345.21661949,\n",
       "            0.        ,  35602.0712438 , 177345.21661949,      0.        ,\n",
       "            0.        ,  96085.88801997,      0.        , 177345.21661949,\n",
       "            0.        ,  35602.0712438 ,  96085.88801997, 177345.21661949,\n",
       "            0.        ,  35602.0712438 ,  96085.88801997,      0.        ,\n",
       "            0.        , 177345.21661949,      0.        , 177345.21661949,\n",
       "            0.        ,  96085.88801997,      0.        , 177345.21661949,\n",
       "            0.        ,  35602.0712438 ,  96085.88801997,      0.        ,\n",
       "            0.        ,      0.        ,  35602.0712438 ,      0.        ,\n",
       "       177345.21661949,      0.        ,  35602.0712438 ,  96085.88801997,\n",
       "            0.        , 177345.21661949,      0.        ,  35602.0712438 ,\n",
       "        96085.88801997, 177345.21661949,      0.        ,  35602.0712438 ,\n",
       "       177345.21661949,  35602.0712438 ,      0.        , 177345.21661949,\n",
       "            0.        ,  35602.0712438 ,  96085.88801997,      0.        ,\n",
       "            0.        ,  35602.0712438 ,  96085.88801997,      0.        ,\n",
       "       177345.21661949,      0.        ,  35602.0712438 ,  96085.88801997,\n",
       "       177345.21661949,      0.        ,  35602.0712438 ,      0.        ,\n",
       "            0.        ,  35602.0712438 ,      0.        ,      0.        ,\n",
       "            0.        , 158123.77506935,  35602.0712438 ,      0.        ,\n",
       "       177345.21661949,      0.        ,  96085.88801997, 177345.21661949])</pre></div></li><li class='xr-var-item'><div class='xr-var-name'><span>generators_efficiency</span></div><div class='xr-var-dims'>(generators_i)</div><div class='xr-var-dtype'>float64</div><div class='xr-var-preview xr-preview'>0.9 0.41 1.0 1.0 ... 0.41 1.0 0.9</div><input id='attrs-2feb7340-0c92-43e6-a219-2ce1e020e107' class='xr-var-attrs-in' type='checkbox' disabled><label for='attrs-2feb7340-0c92-43e6-a219-2ce1e020e107' title='Show/Hide attributes'><svg class='icon xr-icon-file-text2'><use xlink:href='#icon-file-text2'></use></svg></label><input id='data-b45caa30-74f4-497b-a50d-97674bad5095' class='xr-var-data-in' type='checkbox'><label for='data-b45caa30-74f4-497b-a50d-97674bad5095' title='Show/Hide data repr'><svg class='icon xr-icon-database'><use xlink:href='#icon-database'></use></svg></label><div class='xr-var-attrs'><dl class='xr-attrs'></dl></div><div class='xr-var-data'><pre>array([0.9 , 0.41, 1.  , 1.  , 0.9 , 0.41, 0.33, 1.  , 0.33, 0.9 , 1.  ,\n",
       "       1.  , 0.33, 1.  , 1.  , 0.9 , 0.41, 1.  , 1.  , 0.33, 0.9 , 0.41,\n",
       "       0.9 , 0.41, 1.  , 0.9 , 0.41, 0.33, 1.  , 1.  , 0.33, 0.9 , 0.41,\n",
       "       1.  , 0.9 , 0.9 , 0.41, 1.  , 1.  , 0.9 , 0.9 , 0.41, 1.  , 0.9 ,\n",
       "       0.41, 1.  , 0.33, 0.24, 0.9 , 0.41, 1.  , 1.  , 0.41, 1.  , 0.9 ,\n",
       "       0.41, 1.  , 1.  , 0.33, 0.24, 0.41, 1.  , 1.  , 0.24, 0.9 , 0.41,\n",
       "       1.  , 0.9 , 0.41, 0.9 , 0.41, 1.  , 0.41, 1.  , 1.  , 0.33, 0.9 ,\n",
       "       0.41, 1.  , 0.9 , 0.41, 1.  , 1.  , 0.9 , 0.41, 1.  , 0.9 , 0.33,\n",
       "       0.41, 1.  , 0.24, 0.9 , 0.41, 1.  , 1.  , 0.9 , 0.41, 1.  , 1.  ,\n",
       "       0.41, 0.33, 0.9 , 0.33, 0.9 , 0.41, 1.  , 0.33, 0.9 , 0.41, 1.  ,\n",
       "       1.  , 0.33, 0.24, 0.41, 1.  , 0.33, 0.9 , 0.41, 1.  , 1.  , 0.33,\n",
       "       0.9 , 0.41, 1.  , 1.  , 0.9 , 0.41, 1.  , 0.9 , 1.  , 0.33, 0.9 ,\n",
       "       0.41, 1.  , 1.  , 0.33, 0.41, 1.  , 1.  , 0.33, 0.9 , 0.41, 1.  ,\n",
       "       1.  , 0.9 , 0.41, 1.  , 0.33, 0.41, 1.  , 0.41, 0.41, 0.33, 1.  ,\n",
       "       1.  , 0.33, 0.9 , 0.41, 1.  , 0.9 ])</pre></div></li><li class='xr-var-item'><div class='xr-var-name'><span>generators_p_nom_min</span></div><div class='xr-var-dims'>(generators_i)</div><div class='xr-var-dtype'>float64</div><div class='xr-var-preview xr-preview'>2.386e+03 0.0 ... 1.637e+03 120.0</div><input id='attrs-01bb7b10-8684-43ef-a1ba-171633f4137c' class='xr-var-attrs-in' type='checkbox' disabled><label for='attrs-01bb7b10-8684-43ef-a1ba-171633f4137c' title='Show/Hide attributes'><svg class='icon xr-icon-file-text2'><use xlink:href='#icon-file-text2'></use></svg></label><input id='data-9c43ae62-4d74-452d-af85-f4e3f3a54ef1' class='xr-var-data-in' type='checkbox'><label for='data-9c43ae62-4d74-452d-af85-f4e3f3a54ef1' title='Show/Hide data repr'><svg class='icon xr-icon-database'><use xlink:href='#icon-database'></use></svg></label><div class='xr-var-attrs'><dl class='xr-attrs'></dl></div><div class='xr-var-data'><pre>array([2386.29 ,    0.   ,   57.9  ,  105.3  ,  282.   ,    0.   ,\n",
       "          0.   , 1182.892,    0.   , 1312.011,   55.3  ,   99.2  ,\n",
       "          0.   ,   27.2  ,  128.1  ,  254.8  ,    0.   ,  146.5  ,\n",
       "         10.   ,    0.   ,  522.8  ,    0.   , 1011.2  ,    0.   ,\n",
       "        333.999, 4448.1  ,    0.   ,    0.   ,  113.8  , 2103.3  ,\n",
       "          0.   , 1056.7  ,    0.   ,   33.   , 2218.207, 4481.593,\n",
       "          0.   ,  103.3  , 4107.5  , 2132.8  , 3024.007,    0.   ,\n",
       "        522.   , 3542.805,    0.   ,  197.2  ,    0.   ,    0.   ,\n",
       "        424.005,    0.   , 2140.105, 1555.3  ,    0.   , 2363.7  ,\n",
       "       1619.5  ,    0.   ,  225.093,  101.2  ,    0.   ,    0.   ,\n",
       "          0.   , 2450.693, 3371.9  ,    0.   ,  837.21 ,    0.   ,\n",
       "         65.9  ,  340.7  ,    0.   , 1926.61 ,    0.   ,  319.   ,\n",
       "          0.   , 1347.497,  617.4  ,    0.   ,   70.2  ,    0.   ,\n",
       "         57.   ,   42.   ,    0.   ,  193.   ,   96.   , 9894.606,\n",
       "          0.   ,   60.2  , 1087.305,    0.   ,    0.   ,   81.9  ,\n",
       "          0.   ,   52.6  ,    0.   , 2202.586,  265.4  , 1579.096,\n",
       "          0.   ,   74.4  ,  476.1  ,    0.   ,    0.   ,  185.3  ,\n",
       "          0.   ,  603.2  ,    0.   ,  537.3  ,    0.   , 2078.787,\n",
       "          0.   , 1106.196,  150.   ,    0.   ,    0.   ,    0.   ,\n",
       "        655.983,    0.   ,  423.7  ,    0.   ,   83.8  , 1099.9  ,\n",
       "          0.   ,  239.4  ,    0.   ,  149.6  ,  383.9  ,  852.6  ,\n",
       "          0.   ,   98.991, 1419.311,   76.3  ,    0.   ,   65.9  ,\n",
       "          0.   ,  118.9  , 1146.5  ,    0.   ,    0.   ,  130.3  ,\n",
       "       1853.   ,    0.   ,  335.4  ,    0.   ,   50.   ,  551.3  ,\n",
       "       1067.695,    0.   ,  224.4  ,    0.   ,    0.   ,   82.7  ,\n",
       "          0.   ,    0.   ,    0.   ,   24.   ,  198.   ,    0.   ,\n",
       "        906.3  ,    0.   , 1636.8  ,  120.   ])</pre></div></li><li class='xr-var-item'><div class='xr-var-name'><span>generators_marginal_cost</span></div><div class='xr-var-dims'>(generators_i)</div><div class='xr-var-dtype'>float64</div><div class='xr-var-preview xr-preview'>0.0 27.59 0.0 0.0 ... 28.46 0.0 0.0</div><input id='attrs-3b8f7c87-680a-4020-ae11-11d5c7867c0d' class='xr-var-attrs-in' type='checkbox' disabled><label for='attrs-3b8f7c87-680a-4020-ae11-11d5c7867c0d' title='Show/Hide attributes'><svg class='icon xr-icon-file-text2'><use xlink:href='#icon-file-text2'></use></svg></label><input id='data-eaf22ead-5872-4fe5-8985-1585221fc84b' class='xr-var-data-in' type='checkbox'><label for='data-eaf22ead-5872-4fe5-8985-1585221fc84b' title='Show/Hide data repr'><svg class='icon xr-icon-database'><use xlink:href='#icon-database'></use></svg></label><div class='xr-var-attrs'><dl class='xr-attrs'></dl></div><div class='xr-var-data'><pre>array([ 0.        , 27.58881585,  0.        ,  0.        ,  0.        ,\n",
       "       26.32997332,  7.01754386,  0.        , 24.12096351,  0.        ,\n",
       "        0.        ,  0.        , 26.64088924,  0.        ,  0.        ,\n",
       "        0.        , 26.56152478,  0.        ,  0.        , 26.51899516,\n",
       "        0.        , 27.18647064,  0.        , 27.61257383,  0.        ,\n",
       "        0.        , 27.50112536,  7.01754386,  0.        ,  0.        ,\n",
       "       29.17019144,  0.        , 28.76401566,  0.        ,  0.        ,\n",
       "        0.        , 26.77575878,  0.        ,  0.        ,  0.        ,\n",
       "        0.        , 25.46317973,  0.        ,  0.        , 26.08450007,\n",
       "        0.        , 26.51079075,  0.        ,  0.        , 27.23650661,\n",
       "        0.        ,  0.        , 26.39084748,  0.        ,  0.        ,\n",
       "       27.32460336,  0.        ,  0.        , 26.83685742,  0.        ,\n",
       "       28.79438959,  0.        ,  0.        ,  0.        ,  0.        ,\n",
       "       26.60565892,  0.        ,  0.        , 27.11264288,  0.        ,\n",
       "       25.6846254 ,  0.        , 26.74970585,  0.        ,  0.        ,\n",
       "       26.51899516,  0.        , 29.67936556,  0.        ,  0.        ,\n",
       "       27.09098132,  0.        ,  0.        ,  0.        , 26.77344122,\n",
       "        0.        ,  0.        , 27.70746246, 26.41058964,  0.        ,\n",
       "        0.        ,  0.        , 27.50144641,  0.        ,  0.        ,\n",
       "        0.        , 27.91257667,  0.        ,  0.        , 27.23145413,\n",
       "       26.84512043,  0.        , 22.79653743,  0.        , 28.71898513,\n",
       "        0.        , 29.95078239,  0.        , 26.30170986,  0.        ,\n",
       "        0.        , 33.00106458,  0.        , 25.81868196,  0.        ,\n",
       "       24.13708768,  0.        , 23.74633628,  0.        ,  0.        ,\n",
       "       21.54419294,  0.        , 30.45819269,  0.        ,  0.        ,\n",
       "        0.        , 26.42374589,  0.        ,  0.        ,  0.        ,\n",
       "       22.23951663,  0.        , 26.80694139,  0.        ,  0.        ,\n",
       "       28.51647582, 27.44838961,  0.        ,  0.        , 24.0766597 ,\n",
       "        0.        , 27.17067415,  0.        ,  0.        ,  0.        ,\n",
       "       27.36781524,  0.        , 25.01831381, 24.18543793,  0.        ,\n",
       "       25.6698542 , 28.25620768,  7.01754386,  0.        ,  0.        ,\n",
       "       24.08927285,  0.        , 28.45674802,  0.        ,  0.        ])</pre></div></li><li class='xr-var-item'><div class='xr-var-name'><span>generators_bus</span></div><div class='xr-var-dims'>(generators_i)</div><div class='xr-var-dtype'>object</div><div class='xr-var-preview xr-preview'>&#x27;AVA0 0&#x27; &#x27;AVA0 0&#x27; ... &#x27;WALC0 0&#x27;</div><input id='attrs-cccff63a-b195-4067-9749-cfab1f6fd794' class='xr-var-attrs-in' type='checkbox' disabled><label for='attrs-cccff63a-b195-4067-9749-cfab1f6fd794' title='Show/Hide attributes'><svg class='icon xr-icon-file-text2'><use xlink:href='#icon-file-text2'></use></svg></label><input id='data-0369764e-7fe0-4a30-8382-d8f0e64581b8' class='xr-var-data-in' type='checkbox'><label for='data-0369764e-7fe0-4a30-8382-d8f0e64581b8' title='Show/Hide data repr'><svg class='icon xr-icon-database'><use xlink:href='#icon-database'></use></svg></label><div class='xr-var-attrs'><dl class='xr-attrs'></dl></div><div class='xr-var-data'><pre>array([&#x27;AVA0 0&#x27;, &#x27;AVA0 0&#x27;, &#x27;AVA0 0&#x27;, &#x27;AVA0 0&#x27;, &#x27;Arizona0 0&#x27;, &#x27;Arizona0 0&#x27;,\n",
       "       &#x27;Arizona0 0&#x27;, &#x27;Arizona0 0&#x27;, &#x27;Arizona0 1&#x27;, &#x27;Arizona0 1&#x27;,\n",
       "       &#x27;Arizona0 1&#x27;, &#x27;Arizona0 1&#x27;, &#x27;Arizona0 2&#x27;, &#x27;Arizona0 2&#x27;,\n",
       "       &#x27;Arizona0 2&#x27;, &#x27;Arizona0 3&#x27;, &#x27;Arizona0 3&#x27;, &#x27;Arizona0 3&#x27;,\n",
       "       &#x27;Arizona0 3&#x27;, &#x27;BANC0 0&#x27;, &#x27;BANC0 0&#x27;, &#x27;BANC0 0&#x27;, &#x27;BPAT0 0&#x27;,\n",
       "       &#x27;BPAT0 0&#x27;, &#x27;BPAT0 0&#x27;, &#x27;BPAT0 1&#x27;, &#x27;BPAT0 1&#x27;, &#x27;BPAT0 1&#x27;, &#x27;BPAT0 1&#x27;,\n",
       "       &#x27;BPAT0 1&#x27;, &#x27;BPAT0 2&#x27;, &#x27;BPAT0 2&#x27;, &#x27;BPAT0 2&#x27;, &#x27;BPAT0 2&#x27;, &#x27;BPAT0 3&#x27;,\n",
       "       &#x27;BPAT0 4&#x27;, &#x27;BPAT0 4&#x27;, &#x27;BPAT0 4&#x27;, &#x27;BPAT0 4&#x27;, &#x27;CHPD0 0&#x27;,\n",
       "       &#x27;CISO-PGAE0 0&#x27;, &#x27;CISO-PGAE0 0&#x27;, &#x27;CISO-PGAE0 0&#x27;, &#x27;CISO-PGAE0 1&#x27;,\n",
       "       &#x27;CISO-PGAE0 1&#x27;, &#x27;CISO-PGAE0 1&#x27;, &#x27;CISO-PGAE0 2&#x27;, &#x27;CISO-PGAE0 2&#x27;,\n",
       "       &#x27;CISO-PGAE0 2&#x27;, &#x27;CISO-PGAE0 2&#x27;, &#x27;CISO-PGAE0 2&#x27;, &#x27;CISO-PGAE0 2&#x27;,\n",
       "       &#x27;CISO-PGAE0 3&#x27;, &#x27;CISO-PGAE0 3&#x27;, &#x27;CISO-PGAE0 4&#x27;, &#x27;CISO-PGAE0 4&#x27;,\n",
       "       &#x27;CISO-PGAE0 4&#x27;, &#x27;CISO-PGAE0 4&#x27;, &#x27;CISO-SCE0 0&#x27;, &#x27;CISO-SCE0 0&#x27;,\n",
       "       &#x27;CISO-SCE0 0&#x27;, &#x27;CISO-SCE0 0&#x27;, &#x27;CISO-SCE0 0&#x27;, &#x27;CISO-SCE0 1&#x27;,\n",
       "       &#x27;CISO-SCE0 1&#x27;, &#x27;CISO-SCE0 2&#x27;, &#x27;CISO-SCE0 2&#x27;, &#x27;CISO-SCE0 3&#x27;,\n",
       "       &#x27;CISO-SCE0 3&#x27;, &#x27;CISO-SCE0 4&#x27;, &#x27;CISO-SCE0 4&#x27;, &#x27;CISO-SCE0 4&#x27;,\n",
       "       &#x27;CISO-SCE0 5&#x27;, &#x27;CISO-SCE0 5&#x27;, &#x27;CISO-SCE0 5&#x27;, &#x27;CISO-SCE0 6&#x27;,\n",
       "       &#x27;CISO-SCE0 6&#x27;, &#x27;CISO-SCE0 6&#x27;, &#x27;CISO-SCE0 6&#x27;, &#x27;CISO-SDGE0 0&#x27;,\n",
       "       &#x27;CISO-SDGE0 0&#x27;, &#x27;CISO-SDGE0 0&#x27;, &#x27;CISO-VEA0 0&#x27;, &#x27;DOPD0 0&#x27;, &#x27;EPE0 0&#x27;,\n",
       "       &#x27;EPE0 0&#x27;, &#x27;GCPD0 0&#x27;, &#x27;GRID0 0&#x27;, &#x27;GRID0 0&#x27;, &#x27;GRID0 0&#x27;, &#x27;IID0 0&#x27;,\n",
       "       &#x27;IID0 0&#x27;, &#x27;IID0 0&#x27;, &#x27;IID0 0&#x27;, &#x27;IID0 0&#x27;, &#x27;IPCO0 0&#x27;, &#x27;IPCO0 0&#x27;,\n",
       "       &#x27;IPCO0 0&#x27;, &#x27;IPCO0 0&#x27;, &#x27;LADWP0 0&#x27;, &#x27;MISO-00010 0&#x27;, &#x27;MISO-00010 0&#x27;,\n",
       "       &#x27;MT_west0 0&#x27;, &#x27;MT_west0 0&#x27;, &#x27;MT_west0 0&#x27;, &#x27;MT_west0 0&#x27;, &#x27;NEVP0 0&#x27;,\n",
       "       &#x27;NEVP0 0&#x27;, &#x27;NEVP0 0&#x27;, &#x27;NEVP0 0&#x27;, &#x27;NEVP0 0&#x27;, &#x27;NEVP0 1&#x27;, &#x27;NEVP0 1&#x27;,\n",
       "       &#x27;NEVP0 1&#x27;, &#x27;NEVP0 1&#x27;, &#x27;PACE0 0&#x27;, &#x27;PACE0 0&#x27;, &#x27;PACE0 0&#x27;, &#x27;PACE0 0&#x27;,\n",
       "       &#x27;PACE0 0&#x27;, &#x27;PACE0 1&#x27;, &#x27;PACE0 1&#x27;, &#x27;PACE0 1&#x27;, &#x27;PACE0 1&#x27;, &#x27;PACE0 1&#x27;,\n",
       "       &#x27;PACW0 0&#x27;, &#x27;PACW0 0&#x27;, &#x27;PACW0 0&#x27;, &#x27;PGE0 0&#x27;, &#x27;PGE0 0&#x27;, &#x27;PNM0 0&#x27;,\n",
       "       &#x27;PNM0 0&#x27;, &#x27;PNM0 0&#x27;, &#x27;PNM0 0&#x27;, &#x27;PNM0 0&#x27;, &#x27;PSCO0 0&#x27;, &#x27;PSCO0 0&#x27;,\n",
       "       &#x27;PSCO0 0&#x27;, &#x27;PSCO0 0&#x27;, &#x27;PSCO0 1&#x27;, &#x27;PSCO0 1&#x27;, &#x27;PSCO0 1&#x27;, &#x27;PSCO0 1&#x27;,\n",
       "       &#x27;PSCO0 1&#x27;, &#x27;PSEI0 0&#x27;, &#x27;PSEI0 0&#x27;, &#x27;PSEI0 0&#x27;, &#x27;TEPC0 0&#x27;, &#x27;TEPC0 0&#x27;,\n",
       "       &#x27;TEPC0 0&#x27;, &#x27;TID0 0&#x27;, &#x27;US0 0&#x27;, &#x27;US0 0&#x27;, &#x27;US0 0&#x27;, &#x27;US0 0&#x27;, &#x27;WACM0 0&#x27;,\n",
       "       &#x27;WACM0 0&#x27;, &#x27;WACM0 0&#x27;, &#x27;WACM0 0&#x27;, &#x27;WALC0 0&#x27;], dtype=object)</pre></div></li><li class='xr-var-item'><div class='xr-var-name'><span>generators_p_nom_extendable</span></div><div class='xr-var-dims'>(generators_i)</div><div class='xr-var-dtype'>bool</div><div class='xr-var-preview xr-preview'>False False True ... True False</div><input id='attrs-9c846174-e47d-43ca-a9b7-e43076378632' class='xr-var-attrs-in' type='checkbox' disabled><label for='attrs-9c846174-e47d-43ca-a9b7-e43076378632' title='Show/Hide attributes'><svg class='icon xr-icon-file-text2'><use xlink:href='#icon-file-text2'></use></svg></label><input id='data-2d155e20-aee5-4c31-bc9b-438bde2237b3' class='xr-var-data-in' type='checkbox'><label for='data-2d155e20-aee5-4c31-bc9b-438bde2237b3' title='Show/Hide data repr'><svg class='icon xr-icon-database'><use xlink:href='#icon-database'></use></svg></label><div class='xr-var-attrs'><dl class='xr-attrs'></dl></div><div class='xr-var-data'><pre>array([False, False,  True,  True, False, False, False,  True, False,\n",
       "       False,  True,  True, False,  True,  True, False, False,  True,\n",
       "        True, False, False, False, False, False,  True, False, False,\n",
       "       False,  True,  True, False, False, False,  True, False, False,\n",
       "       False,  True,  True, False, False, False,  True, False, False,\n",
       "        True, False, False, False, False,  True,  True, False,  True,\n",
       "       False, False,  True,  True, False, False, False,  True,  True,\n",
       "       False, False, False,  True, False, False, False, False,  True,\n",
       "       False,  True,  True, False, False, False,  True, False, False,\n",
       "        True,  True, False, False,  True, False, False, False,  True,\n",
       "       False, False, False,  True,  True, False, False,  True,  True,\n",
       "       False, False, False, False, False, False,  True, False, False,\n",
       "       False,  True,  True, False, False, False,  True, False, False,\n",
       "       False,  True,  True, False, False, False,  True,  True, False,\n",
       "       False,  True, False,  True, False, False, False,  True,  True,\n",
       "       False, False,  True,  True, False, False, False,  True,  True,\n",
       "       False, False,  True, False, False,  True, False, False, False,\n",
       "        True,  True, False, False, False,  True, False])</pre></div></li><li class='xr-var-item'><div class='xr-var-name'><span>generators_carrier</span></div><div class='xr-var-dims'>(generators_i)</div><div class='xr-var-dtype'>object</div><div class='xr-var-preview xr-preview'>&#x27;hydro&#x27; &#x27;ng&#x27; ... &#x27;wind&#x27; &#x27;hydro&#x27;</div><input id='attrs-34e3f090-83cc-4095-953d-7d0089a2082e' class='xr-var-attrs-in' type='checkbox' disabled><label for='attrs-34e3f090-83cc-4095-953d-7d0089a2082e' title='Show/Hide attributes'><svg class='icon xr-icon-file-text2'><use xlink:href='#icon-file-text2'></use></svg></label><input id='data-a32966ae-ee45-47c5-8096-8d2c0c77b7f7' class='xr-var-data-in' type='checkbox'><label for='data-a32966ae-ee45-47c5-8096-8d2c0c77b7f7' title='Show/Hide data repr'><svg class='icon xr-icon-database'><use xlink:href='#icon-database'></use></svg></label><div class='xr-var-attrs'><dl class='xr-attrs'></dl></div><div class='xr-var-data'><pre>array([&#x27;hydro&#x27;, &#x27;ng&#x27;, &#x27;solar&#x27;, &#x27;wind&#x27;, &#x27;hydro&#x27;, &#x27;ng&#x27;, &#x27;nuclear&#x27;, &#x27;solar&#x27;,\n",
       "       &#x27;coal&#x27;, &#x27;hydro&#x27;, &#x27;solar&#x27;, &#x27;wind&#x27;, &#x27;coal&#x27;, &#x27;solar&#x27;, &#x27;wind&#x27;, &#x27;hydro&#x27;,\n",
       "       &#x27;ng&#x27;, &#x27;solar&#x27;, &#x27;wind&#x27;, &#x27;coal&#x27;, &#x27;hydro&#x27;, &#x27;ng&#x27;, &#x27;hydro&#x27;, &#x27;ng&#x27;,\n",
       "       &#x27;solar&#x27;, &#x27;hydro&#x27;, &#x27;ng&#x27;, &#x27;nuclear&#x27;, &#x27;solar&#x27;, &#x27;wind&#x27;, &#x27;coal&#x27;,\n",
       "       &#x27;hydro&#x27;, &#x27;ng&#x27;, &#x27;solar&#x27;, &#x27;hydro&#x27;, &#x27;hydro&#x27;, &#x27;ng&#x27;, &#x27;solar&#x27;, &#x27;wind&#x27;,\n",
       "       &#x27;hydro&#x27;, &#x27;hydro&#x27;, &#x27;ng&#x27;, &#x27;solar&#x27;, &#x27;hydro&#x27;, &#x27;ng&#x27;, &#x27;solar&#x27;, &#x27;coal&#x27;,\n",
       "       &#x27;geothermal&#x27;, &#x27;hydro&#x27;, &#x27;ng&#x27;, &#x27;solar&#x27;, &#x27;wind&#x27;, &#x27;ng&#x27;, &#x27;solar&#x27;,\n",
       "       &#x27;hydro&#x27;, &#x27;ng&#x27;, &#x27;solar&#x27;, &#x27;wind&#x27;, &#x27;coal&#x27;, &#x27;geothermal&#x27;, &#x27;ng&#x27;,\n",
       "       &#x27;solar&#x27;, &#x27;wind&#x27;, &#x27;geothermal&#x27;, &#x27;hydro&#x27;, &#x27;ng&#x27;, &#x27;solar&#x27;, &#x27;hydro&#x27;,\n",
       "       &#x27;ng&#x27;, &#x27;hydro&#x27;, &#x27;ng&#x27;, &#x27;solar&#x27;, &#x27;ng&#x27;, &#x27;solar&#x27;, &#x27;wind&#x27;, &#x27;coal&#x27;,\n",
       "       &#x27;hydro&#x27;, &#x27;ng&#x27;, &#x27;solar&#x27;, &#x27;hydro&#x27;, &#x27;ng&#x27;, &#x27;wind&#x27;, &#x27;solar&#x27;, &#x27;hydro&#x27;,\n",
       "       &#x27;ng&#x27;, &#x27;solar&#x27;, &#x27;hydro&#x27;, &#x27;coal&#x27;, &#x27;ng&#x27;, &#x27;wind&#x27;, &#x27;geothermal&#x27;,\n",
       "       &#x27;hydro&#x27;, &#x27;ng&#x27;, &#x27;solar&#x27;, &#x27;wind&#x27;, &#x27;hydro&#x27;, &#x27;ng&#x27;, &#x27;solar&#x27;, &#x27;wind&#x27;,\n",
       "       &#x27;ng&#x27;, &#x27;coal&#x27;, &#x27;hydro&#x27;, &#x27;coal&#x27;, &#x27;hydro&#x27;, &#x27;ng&#x27;, &#x27;wind&#x27;, &#x27;coal&#x27;,\n",
       "       &#x27;hydro&#x27;, &#x27;ng&#x27;, &#x27;solar&#x27;, &#x27;wind&#x27;, &#x27;coal&#x27;, &#x27;geothermal&#x27;, &#x27;ng&#x27;,\n",
       "       &#x27;solar&#x27;, &#x27;coal&#x27;, &#x27;hydro&#x27;, &#x27;ng&#x27;, &#x27;solar&#x27;, &#x27;wind&#x27;, &#x27;coal&#x27;, &#x27;hydro&#x27;,\n",
       "       &#x27;ng&#x27;, &#x27;solar&#x27;, &#x27;wind&#x27;, &#x27;hydro&#x27;, &#x27;ng&#x27;, &#x27;solar&#x27;, &#x27;hydro&#x27;, &#x27;solar&#x27;,\n",
       "       &#x27;coal&#x27;, &#x27;hydro&#x27;, &#x27;ng&#x27;, &#x27;solar&#x27;, &#x27;wind&#x27;, &#x27;coal&#x27;, &#x27;ng&#x27;, &#x27;solar&#x27;,\n",
       "       &#x27;wind&#x27;, &#x27;coal&#x27;, &#x27;hydro&#x27;, &#x27;ng&#x27;, &#x27;solar&#x27;, &#x27;wind&#x27;, &#x27;hydro&#x27;, &#x27;ng&#x27;,\n",
       "       &#x27;solar&#x27;, &#x27;coal&#x27;, &#x27;ng&#x27;, &#x27;solar&#x27;, &#x27;ng&#x27;, &#x27;ng&#x27;, &#x27;nuclear&#x27;, &#x27;offwind&#x27;,\n",
       "       &#x27;solar&#x27;, &#x27;coal&#x27;, &#x27;hydro&#x27;, &#x27;ng&#x27;, &#x27;wind&#x27;, &#x27;hydro&#x27;], dtype=object)</pre></div></li><li class='xr-var-item'><div class='xr-var-name'><span>generators_control</span></div><div class='xr-var-dims'>(generators_i)</div><div class='xr-var-dtype'>object</div><div class='xr-var-preview xr-preview'>&#x27;Slack&#x27; &#x27;&#x27; &#x27;&#x27; &#x27;&#x27; &#x27;&#x27; ... &#x27;&#x27; &#x27;&#x27; &#x27;&#x27; &#x27;&#x27;</div><input id='attrs-74c409c7-0a99-48dd-8788-2099eb8f515c' class='xr-var-attrs-in' type='checkbox' disabled><label for='attrs-74c409c7-0a99-48dd-8788-2099eb8f515c' title='Show/Hide attributes'><svg class='icon xr-icon-file-text2'><use xlink:href='#icon-file-text2'></use></svg></label><input id='data-c054ffe7-aab6-4d24-9168-1c368999efd8' class='xr-var-data-in' type='checkbox'><label for='data-c054ffe7-aab6-4d24-9168-1c368999efd8' title='Show/Hide data repr'><svg class='icon xr-icon-database'><use xlink:href='#icon-database'></use></svg></label><div class='xr-var-attrs'><dl class='xr-attrs'></dl></div><div class='xr-var-data'><pre>array([&#x27;Slack&#x27;, &#x27;&#x27;, &#x27;&#x27;, &#x27;&#x27;, &#x27;&#x27;, &#x27;&#x27;, &#x27;&#x27;, &#x27;&#x27;, &#x27;&#x27;, &#x27;&#x27;, &#x27;&#x27;, &#x27;&#x27;, &#x27;&#x27;, &#x27;&#x27;, &#x27;&#x27;,\n",
       "       &#x27;&#x27;, &#x27;&#x27;, &#x27;&#x27;, &#x27;&#x27;, &#x27;&#x27;, &#x27;&#x27;, &#x27;&#x27;, &#x27;&#x27;, &#x27;&#x27;, &#x27;&#x27;, &#x27;&#x27;, &#x27;&#x27;, &#x27;&#x27;, &#x27;&#x27;, &#x27;&#x27;, &#x27;&#x27;, &#x27;&#x27;,\n",
       "       &#x27;&#x27;, &#x27;&#x27;, &#x27;&#x27;, &#x27;&#x27;, &#x27;&#x27;, &#x27;&#x27;, &#x27;&#x27;, &#x27;&#x27;, &#x27;&#x27;, &#x27;&#x27;, &#x27;&#x27;, &#x27;&#x27;, &#x27;&#x27;, &#x27;&#x27;, &#x27;&#x27;, &#x27;&#x27;, &#x27;&#x27;,\n",
       "       &#x27;&#x27;, &#x27;&#x27;, &#x27;&#x27;, &#x27;&#x27;, &#x27;&#x27;, &#x27;&#x27;, &#x27;&#x27;, &#x27;&#x27;, &#x27;&#x27;, &#x27;&#x27;, &#x27;&#x27;, &#x27;&#x27;, &#x27;&#x27;, &#x27;&#x27;, &#x27;&#x27;, &#x27;&#x27;, &#x27;&#x27;,\n",
       "       &#x27;&#x27;, &#x27;&#x27;, &#x27;&#x27;, &#x27;&#x27;, &#x27;&#x27;, &#x27;&#x27;, &#x27;&#x27;, &#x27;&#x27;, &#x27;&#x27;, &#x27;&#x27;, &#x27;&#x27;, &#x27;&#x27;, &#x27;&#x27;, &#x27;&#x27;, &#x27;&#x27;, &#x27;&#x27;, &#x27;&#x27;,\n",
       "       &#x27;&#x27;, &#x27;&#x27;, &#x27;&#x27;, &#x27;&#x27;, &#x27;&#x27;, &#x27;&#x27;, &#x27;&#x27;, &#x27;&#x27;, &#x27;&#x27;, &#x27;&#x27;, &#x27;&#x27;, &#x27;&#x27;, &#x27;&#x27;, &#x27;&#x27;, &#x27;&#x27;, &#x27;&#x27;, &#x27;&#x27;,\n",
       "       &#x27;&#x27;, &#x27;&#x27;, &#x27;&#x27;, &#x27;&#x27;, &#x27;&#x27;, &#x27;&#x27;, &#x27;&#x27;, &#x27;&#x27;, &#x27;&#x27;, &#x27;&#x27;, &#x27;&#x27;, &#x27;&#x27;, &#x27;&#x27;, &#x27;&#x27;, &#x27;&#x27;, &#x27;&#x27;, &#x27;&#x27;,\n",
       "       &#x27;&#x27;, &#x27;&#x27;, &#x27;&#x27;, &#x27;&#x27;, &#x27;&#x27;, &#x27;&#x27;, &#x27;&#x27;, &#x27;&#x27;, &#x27;&#x27;, &#x27;&#x27;, &#x27;&#x27;, &#x27;&#x27;, &#x27;&#x27;, &#x27;&#x27;, &#x27;&#x27;, &#x27;&#x27;, &#x27;&#x27;,\n",
       "       &#x27;&#x27;, &#x27;&#x27;, &#x27;&#x27;, &#x27;&#x27;, &#x27;&#x27;, &#x27;&#x27;, &#x27;&#x27;, &#x27;&#x27;, &#x27;&#x27;, &#x27;&#x27;, &#x27;&#x27;, &#x27;&#x27;, &#x27;&#x27;, &#x27;&#x27;, &#x27;&#x27;, &#x27;&#x27;, &#x27;&#x27;,\n",
       "       &#x27;&#x27;, &#x27;&#x27;, &#x27;&#x27;, &#x27;&#x27;, &#x27;&#x27;, &#x27;&#x27;, &#x27;&#x27;, &#x27;&#x27;, &#x27;&#x27;], dtype=object)</pre></div></li><li class='xr-var-item'><div class='xr-var-name'><span>generators_p_nom_opt</span></div><div class='xr-var-dims'>(generators_i)</div><div class='xr-var-dtype'>float64</div><div class='xr-var-preview xr-preview'>2.386e+03 555.7 ... 1.637e+03 120.0</div><input id='attrs-d9871233-e93e-438e-bf1d-c87793fb9e17' class='xr-var-attrs-in' type='checkbox' disabled><label for='attrs-d9871233-e93e-438e-bf1d-c87793fb9e17' title='Show/Hide attributes'><svg class='icon xr-icon-file-text2'><use xlink:href='#icon-file-text2'></use></svg></label><input id='data-e9163219-9f5a-4ee2-bd11-42bb4386ef03' class='xr-var-data-in' type='checkbox'><label for='data-e9163219-9f5a-4ee2-bd11-42bb4386ef03' title='Show/Hide data repr'><svg class='icon xr-icon-database'><use xlink:href='#icon-database'></use></svg></label><div class='xr-var-attrs'><dl class='xr-attrs'></dl></div><div class='xr-var-data'><pre>array([2.38629000e+03, 5.55700000e+02, 5.79000000e+01, 1.05300000e+02,\n",
       "       2.82000000e+02, 1.38211100e+04, 4.20960000e+03, 1.18289200e+03,\n",
       "       2.40930000e+03, 1.31201100e+03, 5.32737336e+02, 9.92000000e+01,\n",
       "       3.71640000e+03, 2.72000000e+01, 1.28100000e+02, 2.54800000e+02,\n",
       "       1.97099000e+03, 1.46500000e+02, 1.00000000e+01, 1.42400000e+02,\n",
       "       5.22800000e+02, 1.63332000e+03, 1.01120000e+03, 1.89152000e+03,\n",
       "       3.33999000e+02, 4.44810000e+03, 1.35620000e+03, 1.20000000e+03,\n",
       "       1.13800000e+02, 2.10330000e+03, 1.45980000e+03, 1.05670000e+03,\n",
       "       1.84412000e+03, 3.30000000e+01, 2.21820700e+03, 4.48159300e+03,\n",
       "       2.84300000e+02, 1.03300000e+02, 4.10750000e+03, 2.13280000e+03,\n",
       "       3.02400700e+03, 1.03311000e+03, 6.25667261e+02, 3.54280500e+03,\n",
       "       1.69061000e+03, 1.97200000e+02, 3.32380000e+02, 7.27560000e+02,\n",
       "       4.24005000e+02, 1.14328000e+04, 9.90918306e+03, 1.55530000e+03,\n",
       "       4.34091000e+03, 2.36370000e+03, 1.61950000e+03, 3.96450000e+02,\n",
       "       2.25093000e+02, 1.01200000e+02, 9.24900000e+01, 1.40280000e+02,\n",
       "       4.82000000e+01, 2.45069300e+03, 3.37190000e+03, 2.47100000e+01,\n",
       "       8.37210000e+02, 8.89888000e+03, 6.59000000e+01, 3.40700000e+02,\n",
       "       3.94430000e+03, 1.92661000e+03, 1.04050000e+03, 2.34524803e+04,\n",
       "       1.54788000e+03, 1.34749700e+03, 6.17400000e+02, 3.82000000e+01,\n",
       "       7.02000000e+01, 4.85000000e+01, 9.43367698e+02, 4.20000000e+01,\n",
       "       3.78879000e+03, 1.93000000e+02, 1.58053554e+03, 9.89460600e+03,\n",
       "       1.65301000e+03, 2.30959716e+03, 1.08730500e+03, 6.42200000e+02,\n",
       "       5.53300000e+02, 8.19000000e+01, 4.29570000e+02, 5.26000000e+01,\n",
       "       6.30400000e+02, 2.20258600e+03, 2.65400000e+02, 1.57909600e+03,\n",
       "       7.83000000e+02, 7.44000000e+01, 4.76100000e+02, 3.29183000e+03,\n",
       "       2.31810000e+03, 1.85300000e+02, 3.56500000e+02, 6.03200000e+02,\n",
       "       3.00600000e+02, 5.37300000e+02, 2.94800000e+02, 2.07878700e+03,\n",
       "       6.98416000e+03, 1.10619600e+03, 1.50000000e+02, 8.09000000e+02,\n",
       "       3.82820000e+02, 1.63250000e+03, 6.55983000e+02, 5.58098000e+03,\n",
       "       4.23700000e+02, 3.12335000e+03, 3.98886259e+03, 1.09990000e+03,\n",
       "       3.01240000e+03, 2.39400000e+02, 1.08000000e+02, 1.49600000e+02,\n",
       "       3.83900000e+02, 8.52600000e+02, 6.19110000e+02, 9.89910000e+01,\n",
       "       1.41931100e+03, 7.63000000e+01, 3.78662000e+03, 6.59000000e+01,\n",
       "       1.71340000e+03, 5.27898432e+03, 1.14650000e+03, 2.21841000e+03,\n",
       "       1.43598000e+03, 2.79854265e+03, 1.85300000e+03, 1.38961000e+03,\n",
       "       3.35400000e+02, 4.58732000e+03, 4.71918422e+03, 5.51300000e+02,\n",
       "       1.06769500e+03, 1.12301000e+03, 2.24400000e+02, 1.24528000e+03,\n",
       "       3.09800000e+02, 3.86063055e+02, 5.97880000e+02, 1.88620000e+03,\n",
       "       2.32300000e+03, 2.40000000e+01, 1.98000000e+02, 6.87401000e+03,\n",
       "       9.06300000e+02, 3.58090000e+02, 1.63680000e+03, 1.20000000e+02])</pre></div></li><li class='xr-var-item'><div class='xr-var-name'><span>generators_t_p_max_pu</span></div><div class='xr-var-dims'>(snapshots, generators_t_p_max_pu_i)</div><div class='xr-var-dtype'>float64</div><div class='xr-var-preview xr-preview'>0.3745 0.0 ... 0.3469 0.2156</div><input id='attrs-18356df5-6cf5-4a3f-aa65-e90bbf94d944' class='xr-var-attrs-in' type='checkbox' disabled><label for='attrs-18356df5-6cf5-4a3f-aa65-e90bbf94d944' title='Show/Hide attributes'><svg class='icon xr-icon-file-text2'><use xlink:href='#icon-file-text2'></use></svg></label><input id='data-b2bd3533-012b-4561-b54e-0b257ba1e2cb' class='xr-var-data-in' type='checkbox'><label for='data-b2bd3533-012b-4561-b54e-0b257ba1e2cb' title='Show/Hide data repr'><svg class='icon xr-icon-database'><use xlink:href='#icon-database'></use></svg></label><div class='xr-var-attrs'><dl class='xr-attrs'></dl></div><div class='xr-var-data'><pre>array([[0.3744663 , 0.        , 0.03621166, ..., 0.22492903, 0.47338656,\n",
       "        0.10616046],\n",
       "       [0.41966971, 0.        , 0.07877415, ..., 0.24618334, 0.56068314,\n",
       "        0.118893  ],\n",
       "       [0.46742544, 0.        , 0.12963174, ..., 0.26863773, 0.55429608,\n",
       "        0.12578511],\n",
       "       ...,\n",
       "       [0.43843664, 0.62066448, 0.16355592, ..., 0.15778035, 0.41606071,\n",
       "        0.21749714],\n",
       "       [0.41981757, 0.458105  , 0.21852604, ..., 0.15276389, 0.36993205,\n",
       "        0.21407623],\n",
       "       [0.43268998, 0.1969419 , 0.13334358, ..., 0.15623205, 0.34687182,\n",
       "        0.21555098]])</pre></div></li><li class='xr-var-item'><div class='xr-var-name'><span>generators_t_p_set</span></div><div class='xr-var-dims'>(snapshots, generators_t_p_set_i)</div><div class='xr-var-dtype'>float64</div><div class='xr-var-preview xr-preview'>893.6 0.0 0.0 3.813 ... nan nan nan</div><input id='attrs-ac0c1c35-d93a-4779-863b-064e0aeb51c5' class='xr-var-attrs-in' type='checkbox' disabled><label for='attrs-ac0c1c35-d93a-4779-863b-064e0aeb51c5' title='Show/Hide attributes'><svg class='icon xr-icon-file-text2'><use xlink:href='#icon-file-text2'></use></svg></label><input id='data-0fa43532-d5b1-4759-8c0a-a6ca077b033a' class='xr-var-data-in' type='checkbox'><label for='data-0fa43532-d5b1-4759-8c0a-a6ca077b033a' title='Show/Hide data repr'><svg class='icon xr-icon-database'><use xlink:href='#icon-database'></use></svg></label><div class='xr-var-attrs'><dl class='xr-attrs'></dl></div><div class='xr-var-data'><pre>array([[893.58519796,   0.        ,   0.        , ...,   0.        ,\n",
       "        774.83911403,  12.73925545],\n",
       "       [         nan,          nan,          nan, ...,          nan,\n",
       "                 nan,          nan],\n",
       "       [         nan,          nan,          nan, ...,          nan,\n",
       "                 nan,          nan],\n",
       "       ...,\n",
       "       [         nan,          nan,          nan, ...,          nan,\n",
       "                 nan,          nan],\n",
       "       [         nan,          nan,          nan, ...,          nan,\n",
       "                 nan,          nan],\n",
       "       [         nan,          nan,          nan, ...,          nan,\n",
       "                 nan,          nan]])</pre></div></li><li class='xr-var-item'><div class='xr-var-name'><span>generators_t_p</span></div><div class='xr-var-dims'>(snapshots, generators_t_p_i)</div><div class='xr-var-dtype'>float64</div><div class='xr-var-preview xr-preview'>893.6 0.0 0.0 ... 141.6 567.8 25.87</div><input id='attrs-d756e673-c6b8-4272-a5cd-a892f2757c7b' class='xr-var-attrs-in' type='checkbox' disabled><label for='attrs-d756e673-c6b8-4272-a5cd-a892f2757c7b' title='Show/Hide attributes'><svg class='icon xr-icon-file-text2'><use xlink:href='#icon-file-text2'></use></svg></label><input id='data-15d698d6-bf4e-4ef2-b641-d7f432044e20' class='xr-var-data-in' type='checkbox'><label for='data-15d698d6-bf4e-4ef2-b641-d7f432044e20' title='Show/Hide data repr'><svg class='icon xr-icon-database'><use xlink:href='#icon-database'></use></svg></label><div class='xr-var-attrs'><dl class='xr-attrs'></dl></div><div class='xr-var-data'><pre>array([[ 893.585198 ,    0.       ,    0.       , ...,  203.85318  ,\n",
       "         774.8398416,   12.739255 ],\n",
       "       [1001.453627 ,    0.       ,    0.       , ...,  223.115959 ,\n",
       "         917.7259344,   14.26716  ],\n",
       "       [1115.412654 ,    0.       ,    0.       , ...,  243.466376 ,\n",
       "         907.2716928,   15.094213 ],\n",
       "       ...,\n",
       "       [1046.236979 ,    0.       ,   35.9364456, ...,  142.996328 ,\n",
       "         681.0086448,   26.099657 ],\n",
       "       [1001.80647  ,    0.       ,   26.5242795, ...,  138.449911 ,\n",
       "         605.5046976,   25.689147 ],\n",
       "       [1032.523783 ,    0.       ,   11.4029418, ...,  141.593105 ,\n",
       "         567.7600896,   25.866118 ]])</pre></div></li><li class='xr-var-item'><div class='xr-var-name'><span>lines_bus0</span></div><div class='xr-var-dims'>(lines_i)</div><div class='xr-var-dtype'>object</div><div class='xr-var-preview xr-preview'>&#x27;AVA0 0&#x27; &#x27;AVA0 0&#x27; ... &#x27;TEPC0 0&#x27;</div><input id='attrs-432e5d5b-1030-4a42-9641-0c46d53c8fd5' class='xr-var-attrs-in' type='checkbox' disabled><label for='attrs-432e5d5b-1030-4a42-9641-0c46d53c8fd5' title='Show/Hide attributes'><svg class='icon xr-icon-file-text2'><use xlink:href='#icon-file-text2'></use></svg></label><input id='data-eb194b59-f107-4c27-b9f0-b7345a260871' class='xr-var-data-in' type='checkbox'><label for='data-eb194b59-f107-4c27-b9f0-b7345a260871' title='Show/Hide data repr'><svg class='icon xr-icon-database'><use xlink:href='#icon-database'></use></svg></label><div class='xr-var-attrs'><dl class='xr-attrs'></dl></div><div class='xr-var-data'><pre>array([&#x27;AVA0 0&#x27;, &#x27;AVA0 0&#x27;, &#x27;AVA0 0&#x27;, &#x27;AVA0 0&#x27;, &#x27;Arizona0 0&#x27;, &#x27;Arizona0 0&#x27;,\n",
       "       &#x27;Arizona0 0&#x27;, &#x27;Arizona0 0&#x27;, &#x27;Arizona0 0&#x27;, &#x27;Arizona0 1&#x27;,\n",
       "       &#x27;Arizona0 1&#x27;, &#x27;Arizona0 1&#x27;, &#x27;Arizona0 1&#x27;, &#x27;Arizona0 1&#x27;,\n",
       "       &#x27;Arizona0 2&#x27;, &#x27;Arizona0 2&#x27;, &#x27;Arizona0 2&#x27;, &#x27;Arizona0 3&#x27;,\n",
       "       &#x27;Arizona0 3&#x27;, &#x27;Arizona0 3&#x27;, &#x27;Arizona0 3&#x27;, &#x27;Arizona0 3&#x27;, &#x27;BANC0 0&#x27;,\n",
       "       &#x27;BANC0 0&#x27;, &#x27;BANC0 0&#x27;, &#x27;BANC0 0&#x27;, &#x27;BANC0 0&#x27;, &#x27;BANC0 0&#x27;, &#x27;BPAT0 0&#x27;,\n",
       "       &#x27;BPAT0 0&#x27;, &#x27;BPAT0 0&#x27;, &#x27;BPAT0 0&#x27;, &#x27;BPAT0 0&#x27;, &#x27;BPAT0 1&#x27;, &#x27;BPAT0 1&#x27;,\n",
       "       &#x27;BPAT0 1&#x27;, &#x27;BPAT0 1&#x27;, &#x27;BPAT0 1&#x27;, &#x27;BPAT0 1&#x27;, &#x27;BPAT0 1&#x27;, &#x27;BPAT0 2&#x27;,\n",
       "       &#x27;BPAT0 2&#x27;, &#x27;BPAT0 2&#x27;, &#x27;BPAT0 2&#x27;, &#x27;BPAT0 2&#x27;, &#x27;BPAT0 3&#x27;, &#x27;BPAT0 4&#x27;,\n",
       "       &#x27;BPAT0 4&#x27;, &#x27;BPAT0 4&#x27;, &#x27;BPAT0 4&#x27;, &#x27;BPAT0 4&#x27;, &#x27;CHPD0 0&#x27;,\n",
       "       &#x27;CISO-PGAE0 0&#x27;, &#x27;CISO-PGAE0 0&#x27;, &#x27;CISO-PGAE0 0&#x27;, &#x27;CISO-PGAE0 0&#x27;,\n",
       "       &#x27;CISO-PGAE0 0&#x27;, &#x27;CISO-PGAE0 0&#x27;, &#x27;CISO-PGAE0 0&#x27;, &#x27;CISO-PGAE0 0&#x27;,\n",
       "       &#x27;CISO-PGAE0 1&#x27;, &#x27;CISO-PGAE0 1&#x27;, &#x27;CISO-PGAE0 1&#x27;, &#x27;CISO-PGAE0 1&#x27;,\n",
       "       &#x27;CISO-PGAE0 2&#x27;, &#x27;CISO-PGAE0 2&#x27;, &#x27;CISO-PGAE0 2&#x27;, &#x27;CISO-PGAE0 2&#x27;,\n",
       "       &#x27;CISO-PGAE0 3&#x27;, &#x27;CISO-PGAE0 3&#x27;, &#x27;CISO-PGAE0 3&#x27;, &#x27;CISO-PGAE0 4&#x27;,\n",
       "       &#x27;CISO-PGAE0 4&#x27;, &#x27;CISO-SCE0 0&#x27;, &#x27;CISO-SCE0 0&#x27;, &#x27;CISO-SCE0 0&#x27;,\n",
       "       &#x27;CISO-SCE0 0&#x27;, &#x27;CISO-SCE0 0&#x27;, &#x27;CISO-SCE0 0&#x27;, &#x27;CISO-SCE0 2&#x27;,\n",
       "       &#x27;CISO-SCE0 2&#x27;, &#x27;CISO-SCE0 2&#x27;, &#x27;CISO-SCE0 2&#x27;, &#x27;CISO-SCE0 2&#x27;,\n",
       "       &#x27;CISO-SCE0 3&#x27;, &#x27;CISO-SCE0 3&#x27;, &#x27;CISO-SCE0 3&#x27;, &#x27;CISO-SCE0 4&#x27;,\n",
       "       &#x27;CISO-SCE0 4&#x27;, &#x27;CISO-SCE0 5&#x27;, &#x27;CISO-SCE0 5&#x27;, &#x27;CISO-SCE0 5&#x27;,\n",
       "       &#x27;CISO-SCE0 5&#x27;, &#x27;CISO-SDGE0 0&#x27;, &#x27;CISO-SDGE0 0&#x27;, &#x27;CISO-VEA0 0&#x27;,\n",
       "       &#x27;DOPD0 0&#x27;, &#x27;DOPD0 0&#x27;, &#x27;EPE0 0&#x27;, &#x27;EPE0 0&#x27;, &#x27;IID0 0&#x27;, &#x27;IPCO0 0&#x27;,\n",
       "       &#x27;IPCO0 0&#x27;, &#x27;IPCO0 0&#x27;, &#x27;LADWP0 0&#x27;, &#x27;MISO-00010 0&#x27;, &#x27;MISO-00010 0&#x27;,\n",
       "       &#x27;MISO-00010 0&#x27;, &#x27;MT_west0 0&#x27;, &#x27;MT_west0 0&#x27;, &#x27;MT_west0 0&#x27;,\n",
       "       &#x27;MT_west0 0&#x27;, &#x27;NEVP0 0&#x27;, &#x27;NEVP0 0&#x27;, &#x27;NEVP0 0&#x27;, &#x27;NEVP0 1&#x27;,\n",
       "       &#x27;PACE0 0&#x27;, &#x27;PACE0 1&#x27;, &#x27;PACW0 0&#x27;, &#x27;PNM0 0&#x27;, &#x27;PNM0 0&#x27;, &#x27;PNM0 0&#x27;,\n",
       "       &#x27;PNM0 0&#x27;, &#x27;PSCO0 0&#x27;, &#x27;PSCO0 0&#x27;, &#x27;PSCO0 1&#x27;, &#x27;PSEI0 0&#x27;, &#x27;TEPC0 0&#x27;],\n",
       "      dtype=object)</pre></div></li><li class='xr-var-item'><div class='xr-var-name'><span>lines_bus1</span></div><div class='xr-var-dims'>(lines_i)</div><div class='xr-var-dtype'>object</div><div class='xr-var-preview xr-preview'>&#x27;BPAT0 1&#x27; &#x27;BPAT0 3&#x27; ... &#x27;US0 0&#x27;</div><input id='attrs-dfe845cc-c955-490e-8579-27954b7f7415' class='xr-var-attrs-in' type='checkbox' disabled><label for='attrs-dfe845cc-c955-490e-8579-27954b7f7415' title='Show/Hide attributes'><svg class='icon xr-icon-file-text2'><use xlink:href='#icon-file-text2'></use></svg></label><input id='data-d32f9e82-b925-42fb-b587-56c18278538a' class='xr-var-data-in' type='checkbox'><label for='data-d32f9e82-b925-42fb-b587-56c18278538a' title='Show/Hide data repr'><svg class='icon xr-icon-database'><use xlink:href='#icon-database'></use></svg></label><div class='xr-var-attrs'><dl class='xr-attrs'></dl></div><div class='xr-var-data'><pre>array([&#x27;BPAT0 1&#x27;, &#x27;BPAT0 3&#x27;, &#x27;DOPD0 0&#x27;, &#x27;IPCO0 0&#x27;, &#x27;Arizona0 1&#x27;,\n",
       "       &#x27;Arizona0 2&#x27;, &#x27;Arizona0 3&#x27;, &#x27;CISO-SCE0 5&#x27;, &#x27;TEPC0 0&#x27;, &#x27;Arizona0 2&#x27;,\n",
       "       &#x27;Arizona0 3&#x27;, &#x27;NEVP0 0&#x27;, &#x27;PACE0 0&#x27;, &#x27;PACE0 1&#x27;, &#x27;PACE0 1&#x27;, &#x27;PNM0 0&#x27;,\n",
       "       &#x27;TEPC0 0&#x27;, &#x27;CISO-SCE0 5&#x27;, &#x27;IID0 0&#x27;, &#x27;NEVP0 0&#x27;, &#x27;US0 0&#x27;, &#x27;WALC0 0&#x27;,\n",
       "       &#x27;CISO-PGAE0 0&#x27;, &#x27;CISO-PGAE0 1&#x27;, &#x27;CISO-PGAE0 2&#x27;, &#x27;CISO-PGAE0 4&#x27;,\n",
       "       &#x27;TID0 0&#x27;, &#x27;US0 0&#x27;, &#x27;BPAT0 2&#x27;, &#x27;BPAT0 4&#x27;, &#x27;PACW0 0&#x27;, &#x27;PGE0 0&#x27;,\n",
       "       &#x27;US0 0&#x27;, &#x27;BPAT0 3&#x27;, &#x27;BPAT0 4&#x27;, &#x27;CHPD0 0&#x27;, &#x27;DOPD0 0&#x27;, &#x27;GCPD0 0&#x27;,\n",
       "       &#x27;GRID0 0&#x27;, &#x27;IPCO0 0&#x27;, &#x27;BPAT0 4&#x27;, &#x27;CHPD0 0&#x27;, &#x27;DOPD0 0&#x27;, &#x27;PSEI0 0&#x27;,\n",
       "       &#x27;US0 0&#x27;, &#x27;MT_west0 0&#x27;, &#x27;DOPD0 0&#x27;, &#x27;GCPD0 0&#x27;, &#x27;GRID0 0&#x27;, &#x27;PACW0 0&#x27;,\n",
       "       &#x27;PGE0 0&#x27;, &#x27;DOPD0 0&#x27;, &#x27;CISO-PGAE0 1&#x27;, &#x27;CISO-PGAE0 2&#x27;,\n",
       "       &#x27;CISO-PGAE0 3&#x27;, &#x27;CISO-SCE0 0&#x27;, &#x27;CISO-SCE0 1&#x27;, &#x27;CISO-SCE0 6&#x27;,\n",
       "       &#x27;NEVP0 1&#x27;, &#x27;TID0 0&#x27;, &#x27;CISO-PGAE0 2&#x27;, &#x27;CISO-PGAE0 4&#x27;, &#x27;NEVP0 1&#x27;,\n",
       "       &#x27;PACW0 0&#x27;, &#x27;CISO-PGAE0 3&#x27;, &#x27;CISO-PGAE0 4&#x27;, &#x27;TID0 0&#x27;, &#x27;US0 0&#x27;,\n",
       "       &#x27;CISO-SCE0 4&#x27;, &#x27;CISO-SCE0 6&#x27;, &#x27;US0 0&#x27;, &#x27;PACW0 0&#x27;, &#x27;US0 0&#x27;,\n",
       "       &#x27;CISO-SCE0 2&#x27;, &#x27;CISO-SCE0 3&#x27;, &#x27;CISO-SCE0 4&#x27;, &#x27;CISO-SCE0 5&#x27;,\n",
       "       &#x27;CISO-SCE0 6&#x27;, &#x27;LADWP0 0&#x27;, &#x27;CISO-SCE0 3&#x27;, &#x27;CISO-SCE0 4&#x27;,\n",
       "       &#x27;CISO-SDGE0 0&#x27;, &#x27;LADWP0 0&#x27;, &#x27;US0 0&#x27;, &#x27;CISO-SCE0 5&#x27;, &#x27;CISO-SDGE0 0&#x27;,\n",
       "       &#x27;US0 0&#x27;, &#x27;LADWP0 0&#x27;, &#x27;US0 0&#x27;, &#x27;CISO-SDGE0 0&#x27;, &#x27;IID0 0&#x27;, &#x27;NEVP0 0&#x27;,\n",
       "       &#x27;WALC0 0&#x27;, &#x27;IID0 0&#x27;, &#x27;US0 0&#x27;, &#x27;NEVP0 0&#x27;, &#x27;GCPD0 0&#x27;, &#x27;PSEI0 0&#x27;,\n",
       "       &#x27;PNM0 0&#x27;, &#x27;US0 0&#x27;, &#x27;US0 0&#x27;, &#x27;MT_west0 0&#x27;, &#x27;NEVP0 1&#x27;, &#x27;PACE0 0&#x27;,\n",
       "       &#x27;US0 0&#x27;, &#x27;MT_west0 0&#x27;, &#x27;US0 0&#x27;, &#x27;WACM0 0&#x27;, &#x27;PACE0 0&#x27;, &#x27;PACE0 1&#x27;,\n",
       "       &#x27;US0 0&#x27;, &#x27;WACM0 0&#x27;, &#x27;NEVP0 1&#x27;, &#x27;PACE0 0&#x27;, &#x27;WALC0 0&#x27;, &#x27;PACE0 0&#x27;,\n",
       "       &#x27;PACE0 1&#x27;, &#x27;WACM0 0&#x27;, &#x27;US0 0&#x27;, &#x27;PSCO0 0&#x27;, &#x27;TEPC0 0&#x27;, &#x27;US0 0&#x27;,\n",
       "       &#x27;WACM0 0&#x27;, &#x27;PSCO0 1&#x27;, &#x27;WACM0 0&#x27;, &#x27;WACM0 0&#x27;, &#x27;US0 0&#x27;, &#x27;US0 0&#x27;],\n",
       "      dtype=object)</pre></div></li><li class='xr-var-item'><div class='xr-var-name'><span>lines_r</span></div><div class='xr-var-dims'>(lines_i)</div><div class='xr-var-dtype'>float64</div><div class='xr-var-preview xr-preview'>1.095 0.7961 0.9793 ... 6.899 139.2</div><input id='attrs-d42d314f-8883-45c4-a0db-d2c07ed201fe' class='xr-var-attrs-in' type='checkbox' disabled><label for='attrs-d42d314f-8883-45c4-a0db-d2c07ed201fe' title='Show/Hide attributes'><svg class='icon xr-icon-file-text2'><use xlink:href='#icon-file-text2'></use></svg></label><input id='data-f052cad9-8374-4215-b291-3b968914f617' class='xr-var-data-in' type='checkbox'><label for='data-f052cad9-8374-4215-b291-3b968914f617' title='Show/Hide data repr'><svg class='icon xr-icon-database'><use xlink:href='#icon-database'></use></svg></label><div class='xr-var-attrs'><dl class='xr-attrs'></dl></div><div class='xr-var-data'><pre>array([1.09490329e+00, 7.96147222e-01, 9.79312860e-01, 6.94074647e+00,\n",
       "       3.01260889e+00, 1.15252024e+00, 1.45208193e+00, 6.87275357e+00,\n",
       "       9.59739878e-01, 3.81806559e+00, 1.54713526e+01, 4.99852381e+00,\n",
       "       4.96960388e+00, 3.67680676e+01, 8.01320769e+01, 1.01078823e+00,\n",
       "       3.84475876e+00, 1.08837225e+00, 1.64628622e+00, 2.40723861e+00,\n",
       "       6.30638909e+01, 1.04005201e+00, 1.58966860e+00, 1.15307900e-01,\n",
       "       3.60411031e-01, 1.79764019e+00, 1.50393150e+00, 4.06141163e+00,\n",
       "       2.48718513e+00, 5.33390658e-01, 1.67091683e+00, 2.70097942e-02,\n",
       "       2.74699869e+00, 7.07556003e+00, 1.13133329e+00, 5.33300390e+00,\n",
       "       2.93825544e+00, 6.22958761e-01, 3.23873845e-01, 1.90846822e+00,\n",
       "       3.54704282e+00, 7.75342001e-01, 1.66463896e+00, 6.87364145e-01,\n",
       "       1.34299085e+00, 1.93499863e+00, 1.03549415e+01, 1.35785796e+00,\n",
       "       2.75286201e-01, 1.76438114e+00, 3.24353326e-01, 1.40124762e-01,\n",
       "       3.58832288e+00, 1.90889111e+00, 8.72722410e-01, 3.66253975e+00,\n",
       "       4.90432965e-01, 7.03960158e-01, 4.61804379e+00, 3.93903899e-01,\n",
       "       6.26860460e-01, 6.48612834e-01, 1.26732230e+00, 5.59973622e+00,\n",
       "       1.23303557e+01, 2.49396377e+00, 1.04201568e+00, 2.69656985e-01,\n",
       "       2.73606740e-01, 3.24932745e-01, 2.10985855e+00, 6.71942134e-01,\n",
       "       8.74923928e-01, 1.02864543e+00, 8.68085105e-01, 3.20695514e-01,\n",
       "       1.99205580e+00, 4.74066906e+00, 1.58559279e+00, 2.10157286e-01,\n",
       "       4.78958487e-01, 1.01487280e+00, 2.74330100e-02, 4.65379849e+00,\n",
       "       2.29231890e-01, 6.33655135e-01, 1.47700302e+01, 6.91775402e-02,\n",
       "       1.74252864e+00, 2.33337826e+00, 1.23211784e+00, 1.14304050e+00,\n",
       "       2.37561381e+00, 1.04645242e+00, 2.51131940e+00, 1.32724146e+00,\n",
       "       1.27509822e+00, 1.40000249e+00, 1.40795149e+00, 1.63639495e+01,\n",
       "       1.47414853e+01, 5.53283970e+00, 5.74167456e+00, 4.29869375e+00,\n",
       "       2.92390270e+00, 4.34804539e+00, 1.45148066e+02, 1.07677581e+01,\n",
       "       6.05634530e+01, 1.13059595e+01, 1.12766824e+02, 5.47723812e+01,\n",
       "       1.02257070e+01, 3.47418735e+00, 1.04383125e+01, 2.24900167e+01,\n",
       "       1.02695785e+00, 2.91468898e+00, 5.19949196e+00, 6.89882627e+00,\n",
       "       9.22762327e+00, 1.27109350e+02, 3.37130386e+00, 5.02926229e-01,\n",
       "       8.53320619e-01, 1.58491069e-01, 6.89891981e+00, 1.39176488e+02])</pre></div></li><li class='xr-var-item'><div class='xr-var-name'><span>lines_x</span></div><div class='xr-var-dims'>(lines_i)</div><div class='xr-var-dtype'>float64</div><div class='xr-var-preview xr-preview'>11.72 5.628 10.53 ... 53.07 580.3</div><input id='attrs-6d71dad2-b893-4eb7-af43-4b6d6226d8d6' class='xr-var-attrs-in' type='checkbox' disabled><label for='attrs-6d71dad2-b893-4eb7-af43-4b6d6226d8d6' title='Show/Hide attributes'><svg class='icon xr-icon-file-text2'><use xlink:href='#icon-file-text2'></use></svg></label><input id='data-07212452-1e0b-4b49-b9b6-38c2245154da' class='xr-var-data-in' type='checkbox'><label for='data-07212452-1e0b-4b49-b9b6-38c2245154da' title='Show/Hide data repr'><svg class='icon xr-icon-database'><use xlink:href='#icon-database'></use></svg></label><div class='xr-var-attrs'><dl class='xr-attrs'></dl></div><div class='xr-var-data'><pre>array([1.17204341e+01, 5.62787711e+00, 1.05284600e+01, 2.11460261e+02,\n",
       "       3.92964670e+01, 1.16737909e+01, 1.14856147e+01, 1.77881127e+02,\n",
       "       7.17169154e+00, 1.58638524e+01, 6.88598279e+01, 1.33681191e+02,\n",
       "       4.07447786e+01, 1.40818529e+02, 3.80747903e+02, 6.87375725e+00,\n",
       "       6.75618188e+01, 2.12845002e+01, 2.62835910e+01, 1.53839822e+01,\n",
       "       2.59645113e+02, 7.12605183e+00, 1.21734215e+01, 9.04851934e-01,\n",
       "       3.17305437e+00, 1.12808931e+01, 1.25193925e+01, 5.30356624e+01,\n",
       "       1.59086884e+01, 1.03870905e+01, 1.86573109e+01, 2.00492502e-01,\n",
       "       2.10841195e+01, 7.49624286e+01, 1.38504553e+01, 2.59764275e+01,\n",
       "       5.85584008e+01, 8.41278732e+00, 3.77636285e+00, 1.38977129e+01,\n",
       "       2.92608179e+01, 8.91169923e+00, 2.48524407e+01, 5.89717606e+00,\n",
       "       9.61652475e+00, 1.30194957e+01, 1.28860718e+02, 1.55648911e+01,\n",
       "       4.13923696e+00, 2.16600871e+01, 2.62324684e+00, 2.46194780e+00,\n",
       "       6.18839400e+01, 2.12836552e+01, 1.01098569e+01, 1.09855655e+02,\n",
       "       3.92413830e+00, 4.34617628e+00, 1.29378003e+02, 4.47972732e+00,\n",
       "       4.98499284e+00, 6.88241109e+00, 7.78453878e+00, 1.49670755e+02,\n",
       "       6.41512296e+01, 3.75177352e+01, 5.95740994e+00, 1.55853022e+00,\n",
       "       3.90909475e+00, 2.27237038e+00, 2.52155753e+01, 6.40723651e+00,\n",
       "       7.29203953e+00, 1.09271709e+01, 9.07344661e+00, 2.40459106e+00,\n",
       "       2.72667318e+01, 2.64215466e+01, 4.16603981e+01, 1.38355255e+00,\n",
       "       4.24511580e+00, 7.59156765e+00, 2.10229928e-01, 2.75790655e+01,\n",
       "       2.12124638e+00, 3.98086977e+00, 8.49939485e+01, 7.31120325e-01,\n",
       "       1.08656993e+01, 6.30012130e+01, 9.20926983e+00, 1.50996146e+01,\n",
       "       2.03975619e+01, 1.24561015e+01, 1.55873580e+01, 1.08106872e+01,\n",
       "       8.88173285e+00, 4.09856381e+01, 8.75186495e+00, 8.18390388e+01,\n",
       "       8.22414693e+01, 3.20852488e+01, 4.11086951e+01, 3.68528291e+01,\n",
       "       2.32938384e+01, 4.10379234e+01, 7.92168119e+02, 1.08269779e+02,\n",
       "       3.63304481e+02, 5.98077698e+01, 6.54254062e+02, 3.34379707e+02,\n",
       "       8.29378644e+01, 2.95520890e+01, 6.25659886e+01, 1.22445647e+02,\n",
       "       8.93122238e+00, 1.55467893e+01, 4.62177063e+01, 4.78821599e+01,\n",
       "       1.71942059e+02, 6.66175218e+02, 2.23036505e+01, 3.02933991e+00,\n",
       "       5.81307267e+00, 1.22239435e+00, 5.30685962e+01, 5.80315055e+02])</pre></div></li><li class='xr-var-item'><div class='xr-var-name'><span>lines_b</span></div><div class='xr-var-dims'>(lines_i)</div><div class='xr-var-dtype'>float64</div><div class='xr-var-preview xr-preview'>9.157e-05 0.0001302 ... 5.876e-05</div><input id='attrs-b586fa30-972d-4c03-911a-5aad41bcc365' class='xr-var-attrs-in' type='checkbox' disabled><label for='attrs-b586fa30-972d-4c03-911a-5aad41bcc365' title='Show/Hide attributes'><svg class='icon xr-icon-file-text2'><use xlink:href='#icon-file-text2'></use></svg></label><input id='data-6f1be9a5-75f1-4043-a98e-f23c1b6d1328' class='xr-var-data-in' type='checkbox'><label for='data-6f1be9a5-75f1-4043-a98e-f23c1b6d1328' title='Show/Hide data repr'><svg class='icon xr-icon-database'><use xlink:href='#icon-database'></use></svg></label><div class='xr-var-attrs'><dl class='xr-attrs'></dl></div><div class='xr-var-data'><pre>array([9.15693311e-05, 1.30228406e-04, 6.95663336e-05, 2.58248187e-05,\n",
       "       6.03627087e-05, 1.53513965e-04, 9.86481662e-05, 2.36285596e-05,\n",
       "       1.33509153e-04, 6.33738567e-05, 3.36400810e-05, 1.59189027e-05,\n",
       "       1.49280976e-04, 6.08934279e-05, 3.89239704e-05, 2.30612517e-04,\n",
       "       4.50415364e-05, 4.62129007e-05, 4.35946075e-05, 1.18545707e-04,\n",
       "       9.15619871e-05, 5.92616573e-06, 9.82977167e-05, 1.74144896e-04,\n",
       "       1.16207147e-04, 1.33450466e-04, 3.12823225e-05, 1.14950442e-05,\n",
       "       9.85887654e-05, 6.43373388e-05, 1.16799114e-04, 1.04591122e-04,\n",
       "       2.15378844e-04, 3.59618508e-05, 5.11897419e-05, 4.50748441e-05,\n",
       "       3.30791956e-05, 5.45029292e-05, 5.06273183e-05, 2.70867989e-04,\n",
       "       4.75300216e-05, 6.45567179e-05, 4.50408474e-05, 7.83085751e-05,\n",
       "       1.89752840e-03, 1.85531280e-04, 1.73794912e-05, 6.19094173e-05,\n",
       "       4.27177833e-05, 1.65727095e-04, 2.43245855e-04, 4.21383657e-05,\n",
       "       2.81500205e-05, 5.32433195e-05, 7.58018864e-05, 1.44660645e-05,\n",
       "       6.19736504e-05, 1.01548489e-04, 1.67590693e-05, 6.73201844e-05,\n",
       "       1.60481723e-04, 1.28517499e-04, 1.46121742e-04, 2.82089888e-05,\n",
       "       4.43262363e-05, 6.84836054e-05, 4.50443719e-05, 1.56645186e-03,\n",
       "       1.31430571e-04, 9.66923053e-05, 2.86919156e-04, 2.34218893e-04,\n",
       "       1.94650691e-05, 3.57114947e-05, 5.26283950e-05, 1.36226918e-04,\n",
       "       3.05533790e-05, 1.89295150e-05, 7.90983916e-06, 9.53287686e-05,\n",
       "       5.16509149e-05, 7.37321210e-05, 1.93228876e-04, 8.05248396e-04,\n",
       "       1.08763575e-04, 1.00632849e-04, 2.44948961e-04, 1.21131481e-04,\n",
       "       1.24270214e-03, 1.01700933e-05, 4.30686639e-05, 1.27835033e-04,\n",
       "       3.80908736e-05, 3.73427821e-05, 1.64449250e-03, 2.35047334e-05,\n",
       "       3.10354512e-05, 2.78543774e-05, 3.86171148e-04, 1.25878535e-03,\n",
       "       2.80150749e-04, 1.83436247e-04, 1.36106663e-04, 1.37373770e-04,\n",
       "       8.07524019e-04, 7.56973353e-05, 5.88200571e-05, 9.78937492e-05,\n",
       "       3.73815435e-05, 1.51895200e-04, 3.97580366e-05, 4.79065318e-05,\n",
       "       7.55929154e-05, 2.86011052e-04, 2.12114149e-05, 1.78519229e-05,\n",
       "       2.00671620e-04, 1.04112606e-04, 0.00000000e+00, 1.11325097e-04,\n",
       "       3.44492509e-05, 6.46114310e-05, 3.92430046e-04, 1.94467911e-04,\n",
       "       2.53790998e-04, 2.83943768e-04, 5.20918380e-04, 5.87575850e-05])</pre></div></li><li class='xr-var-item'><div class='xr-var-name'><span>lines_s_nom</span></div><div class='xr-var-dims'>(lines_i)</div><div class='xr-var-dtype'>float64</div><div class='xr-var-preview xr-preview'>6.551e+03 3.114e+03 ... 100.6</div><input id='attrs-1ee13891-14b1-4926-a7de-b6c15b5cc163' class='xr-var-attrs-in' type='checkbox' disabled><label for='attrs-1ee13891-14b1-4926-a7de-b6c15b5cc163' title='Show/Hide attributes'><svg class='icon xr-icon-file-text2'><use xlink:href='#icon-file-text2'></use></svg></label><input id='data-3dbad30f-9cb2-47de-b1d9-e6e8707060f9' class='xr-var-data-in' type='checkbox'><label for='data-3dbad30f-9cb2-47de-b1d9-e6e8707060f9' title='Show/Hide data repr'><svg class='icon xr-icon-database'><use xlink:href='#icon-database'></use></svg></label><div class='xr-var-attrs'><dl class='xr-attrs'></dl></div><div class='xr-var-data'><pre>array([ 6551.4944546 ,  3114.23081611,  6696.34239953,  4451.19925304,\n",
       "        3903.56997162,  8857.7134779 ,  4406.51422486,  4451.19925304,\n",
       "        6956.22291742,   603.5331039 ,   201.1777013 ,  4451.19925304,\n",
       "        2396.38770568,   201.1777013 ,   100.58885065,  5010.04732876,\n",
       "        3802.98112097,  9908.28701257,  5457.08775953,  2303.84596308,\n",
       "         100.58885065,  1106.47735715,  2245.1431465 , 15130.86013829,\n",
       "       10495.72590036,  1774.38732546,  2245.1431465 ,   905.29965585,\n",
       "        1339.84349065, 11618.29747361,  7456.79411044, 21685.22964662,\n",
       "        2064.08321533,  1050.14760078,  5791.04274369,   289.69588987,\n",
       "        4596.04719797, 10242.24199672, 10387.08994166,  4345.43834806,\n",
       "        1339.84349065,  6551.4944546 ,  5501.34685382,  4055.74245819,\n",
       "        8147.69690261,  2679.6869813 ,   905.29965585,  5646.19479875,\n",
       "       15598.7409056 ,  9336.94234088, 10966.4817214 , 25116.74317765,\n",
       "        4596.04719797,  4885.74308784,  7456.79411044,  4451.19925304,\n",
       "        3440.13869222,  1774.38732546,  4451.19925304, 10531.93788659,\n",
       "        7275.73417927,  8796.6376011 ,  6527.35313044,  4451.19925304,\n",
       "         289.69588987,  5501.34685382,   724.23972468, 13108.73901665,\n",
       "       22910.68707111,  4309.22636183, 11437.23754244, 12777.08103309,\n",
       "        2389.99109143,  2860.74691247,  5935.89068862,  8615.57766993,\n",
       "        4740.89514291,   289.69588987,  4451.19925304,  6623.91842707,\n",
       "        6225.58657849,  1484.69143559, 27334.2994991 ,  2643.47499507,\n",
       "       12921.92897803,  1774.38732546,   724.23972468, 26169.76583216,\n",
       "        8144.82184889,  4451.19925304,  1339.84349065, 10531.93788659,\n",
       "        1339.84349065,  5646.19479875,  5757.70581118,  1392.14969299,\n",
       "        1194.99554572,  8902.39850607,  4325.28251503,   603.5331039 ,\n",
       "         579.39177974,   869.08766961,  1484.69143559,  2100.29520156,\n",
       "        6660.1304133 ,  1955.44725663,   144.84794494,  1955.44725663,\n",
       "         144.84794494,   579.39177974,   144.84794494,   144.84794494,\n",
       "        1299.60795039,  3989.71509997,   289.69588987,   197.15414727,\n",
       "        7126.43674643,  1219.13686987,  1955.44725663,  2203.25711243,\n",
       "        1901.49056048,   100.58885065,  3175.53481373,  4439.94136568,\n",
       "        5505.46192616, 18388.93166836,  2534.83903637,   100.58885065])</pre></div></li><li class='xr-var-item'><div class='xr-var-name'><span>lines_s_max_pu</span></div><div class='xr-var-dims'>(lines_i)</div><div class='xr-var-dtype'>float64</div><div class='xr-var-preview xr-preview'>1.0 1.0 1.0 1.0 ... 1.0 1.0 1.0 1.0</div><input id='attrs-a0fdd24f-9e16-4fc0-9f94-69d33bcab118' class='xr-var-attrs-in' type='checkbox' disabled><label for='attrs-a0fdd24f-9e16-4fc0-9f94-69d33bcab118' title='Show/Hide attributes'><svg class='icon xr-icon-file-text2'><use xlink:href='#icon-file-text2'></use></svg></label><input id='data-e755e12e-c622-442f-a554-798a0316fb7b' class='xr-var-data-in' type='checkbox'><label for='data-e755e12e-c622-442f-a554-798a0316fb7b' title='Show/Hide data repr'><svg class='icon xr-icon-database'><use xlink:href='#icon-database'></use></svg></label><div class='xr-var-attrs'><dl class='xr-attrs'></dl></div><div class='xr-var-data'><pre>array([1., 1., 1., 1., 1., 1., 1., 1., 1., 1., 1., 1., 1., 1., 1., 1., 1.,\n",
       "       1., 1., 1., 1., 1., 1., 1., 1., 1., 1., 1., 1., 1., 1., 1., 1., 1.,\n",
       "       1., 1., 1., 1., 1., 1., 1., 1., 1., 1., 1., 1., 1., 1., 1., 1., 1.,\n",
       "       1., 1., 1., 1., 1., 1., 1., 1., 1., 1., 1., 1., 1., 1., 1., 1., 1.,\n",
       "       1., 1., 1., 1., 1., 1., 1., 1., 1., 1., 1., 1., 1., 1., 1., 1., 1.,\n",
       "       1., 1., 1., 1., 1., 1., 1., 1., 1., 1., 1., 1., 1., 1., 1., 1., 1.,\n",
       "       1., 1., 1., 1., 1., 1., 1., 1., 1., 1., 1., 1., 1., 1., 1., 1., 1.,\n",
       "       1., 1., 1., 1., 1., 1., 1., 1., 1.])</pre></div></li><li class='xr-var-item'><div class='xr-var-name'><span>lines_length</span></div><div class='xr-var-dims'>(lines_i)</div><div class='xr-var-dtype'>float64</div><div class='xr-var-preview xr-preview'>266.0 214.7 ... 1.208e+03 1.581e+03</div><input id='attrs-bc5c607a-78d1-45ad-bd44-5cf3e325898f' class='xr-var-attrs-in' type='checkbox' disabled><label for='attrs-bc5c607a-78d1-45ad-bd44-5cf3e325898f' title='Show/Hide attributes'><svg class='icon xr-icon-file-text2'><use xlink:href='#icon-file-text2'></use></svg></label><input id='data-593228ca-abbf-4873-9cb7-ddc165feb625' class='xr-var-data-in' type='checkbox'><label for='data-593228ca-abbf-4873-9cb7-ddc165feb625' title='Show/Hide data repr'><svg class='icon xr-icon-database'><use xlink:href='#icon-database'></use></svg></label><div class='xr-var-attrs'><dl class='xr-attrs'></dl></div><div class='xr-var-data'><pre>array([ 266.03804981,  214.71153391,  230.24793137,  614.94031281,\n",
       "        386.06518114,  328.42079638,  268.93347692,  507.56250972,\n",
       "        242.77980413,  254.4128728 ,  397.84382053,  405.22483043,\n",
       "        620.91817796,  762.22244663,  886.82996757,  317.09550943,\n",
       "        425.32665787,  258.2011251 ,  252.27363014,  284.40854161,\n",
       "       1089.74572551,   44.29284334,  270.13373466,   89.81362152,\n",
       "        133.83497472,  297.91922807,  153.87127089,  214.73237496,\n",
       "        323.6060803 ,  225.58611565,  368.20164279,   33.17945117,\n",
       "        740.41810043,  425.33314204,  209.12799613,  272.5487023 ,\n",
       "        298.87337741,  168.5618085 ,  106.69460667,  470.91771878,\n",
       "        310.63889784,  197.8364732 ,  266.55254185,  171.09155448,\n",
       "       1039.96122986,  397.86638794,  371.41641816,  252.45943595,\n",
       "        103.24525998,  474.45737147,  202.07115007,   80.18586069,\n",
       "        335.16082165,  257.82650857,  218.99910732,  337.85606537,\n",
       "        114.89102596,  160.36834608,  403.93669839,  130.83612904,\n",
       "        220.2389782 ,  240.03420544,  270.70577294,  495.97262525,\n",
       "        408.66196565,  377.42383675,  130.38389525,  343.8365506 ,\n",
       "        182.32252357,  113.78071405,  655.02299227,  294.5443756 ,\n",
       "        206.54973589,  157.96241456,  168.68656705,  134.29158852,\n",
       "        234.62088263,  178.64050821,  140.87974245,   81.65326348,\n",
       "        109.90139039,  169.81243437,   41.41874428,  906.70391952,\n",
       "        117.80756162,  145.81446417,  927.01153775,   68.51373295,\n",
       "        822.69675943,  188.76215249,  152.97526648,  323.56573722,\n",
       "        213.98538111,  164.53804188, 1068.71153682,  130.00708368,\n",
       "        135.08718713,  249.34789436,  434.49529337, 1971.78943201,\n",
       "       1114.69631889,  621.29329409,  611.30920886,  542.29480228,\n",
       "        875.19419781,  429.25998196, 1702.9012243 ,  879.25464689,\n",
       "        826.95053788,  766.01490848, 1342.51469893, 1012.8714379 ,\n",
       "        633.79873001,  709.21919765,  272.42959225,  739.11314901,\n",
       "        329.37032972,  328.9309429 ,  400.04133242,  556.32817371,\n",
       "        606.0211748 , 1674.48025972,  737.56962477,  187.98691479,\n",
       "        305.15533725,  142.56213221, 1207.84949492, 1581.32531668])</pre></div></li><li class='xr-var-item'><div class='xr-var-name'><span>lines_num_parallel</span></div><div class='xr-var-dims'>(lines_i)</div><div class='xr-var-dtype'>float64</div><div class='xr-var-preview xr-preview'>16.28 7.74 16.64 ... 43.08 6.3 0.25</div><input id='attrs-8d411c32-fa7a-4a20-99f0-32db417ff6c5' class='xr-var-attrs-in' type='checkbox' disabled><label for='attrs-8d411c32-fa7a-4a20-99f0-32db417ff6c5' title='Show/Hide attributes'><svg class='icon xr-icon-file-text2'><use xlink:href='#icon-file-text2'></use></svg></label><input id='data-bf140121-f634-49f0-b385-22455828bdba' class='xr-var-data-in' type='checkbox'><label for='data-bf140121-f634-49f0-b385-22455828bdba' title='Show/Hide data repr'><svg class='icon xr-icon-database'><use xlink:href='#icon-database'></use></svg></label><div class='xr-var-attrs'><dl class='xr-attrs'></dl></div><div class='xr-var-data'><pre>array([16.28285444,  7.74      , 16.64285444, 11.06285444,  9.70179584,\n",
       "       22.01465028, 10.95179584, 11.06285444, 17.28875236,  1.5       ,\n",
       "        0.5       , 11.06285444,  5.95589792,  0.5       ,  0.25      ,\n",
       "       12.45179584,  9.45179584, 24.62570888, 13.56285444,  5.72589792,\n",
       "        0.25      ,  2.75      ,  5.58      , 37.60570888, 26.08570888,\n",
       "        4.41      ,  5.58      ,  2.25      ,  3.33      , 28.87570888,\n",
       "       18.53285444, 53.89570888,  5.13      ,  2.61      , 14.39285444,\n",
       "        0.72      , 11.42285444, 25.45570888, 25.81570888, 10.8       ,\n",
       "        3.33      , 16.28285444, 13.67285444, 10.08      , 20.25      ,\n",
       "        6.66      ,  2.25      , 14.03285444, 38.76856333, 23.20570888,\n",
       "       27.25570888, 62.42427221, 11.42285444, 12.14285444, 18.53285444,\n",
       "       11.06285444,  8.55      ,  4.41      , 11.06285444, 26.17570888,\n",
       "       18.08285444, 21.86285444, 16.22285444, 11.06285444,  0.72      ,\n",
       "       13.67285444,  1.8       , 32.58      , 56.94141777, 10.71      ,\n",
       "       28.42570888, 31.75570888,  5.94      ,  7.11      , 14.75285444,\n",
       "       21.41285444, 11.78285444,  0.72      , 11.06285444, 16.46285444,\n",
       "       15.47285444,  3.69      , 67.93570888,  6.57      , 32.11570888,\n",
       "        4.41      ,  1.8       , 65.04141777, 20.24285444, 11.06285444,\n",
       "        3.33      , 26.17570888,  3.33      , 14.03285444, 14.31      ,\n",
       "        3.46      ,  2.97      , 22.12570888,  9.47589792,  1.5       ,\n",
       "        1.44      ,  2.16      ,  3.69      ,  5.22      , 16.55285444,\n",
       "        4.86      ,  0.36      ,  4.86      ,  0.36      ,  1.44      ,\n",
       "        0.36      ,  0.36      ,  3.23      ,  9.91589792,  0.72      ,\n",
       "        0.49      , 17.71179584,  3.03      ,  4.86      ,  5.47589792,\n",
       "        4.72589792,  0.25      ,  7.97589792,  9.72589792, 13.45179584,\n",
       "       43.07538752,  6.3       ,  0.25      ])</pre></div></li><li class='xr-var-item'><div class='xr-var-name'><span>lines_carrier</span></div><div class='xr-var-dims'>(lines_i)</div><div class='xr-var-dtype'>object</div><div class='xr-var-preview xr-preview'>&#x27;AC&#x27; &#x27;AC&#x27; &#x27;AC&#x27; ... &#x27;AC&#x27; &#x27;AC&#x27; &#x27;AC&#x27;</div><input id='attrs-6cd77b02-0472-4987-a5c9-f625d3c438e2' class='xr-var-attrs-in' type='checkbox' disabled><label for='attrs-6cd77b02-0472-4987-a5c9-f625d3c438e2' title='Show/Hide attributes'><svg class='icon xr-icon-file-text2'><use xlink:href='#icon-file-text2'></use></svg></label><input id='data-d111e547-ebc4-447e-aab2-6426d1cbde90' class='xr-var-data-in' type='checkbox'><label for='data-d111e547-ebc4-447e-aab2-6426d1cbde90' title='Show/Hide data repr'><svg class='icon xr-icon-database'><use xlink:href='#icon-database'></use></svg></label><div class='xr-var-attrs'><dl class='xr-attrs'></dl></div><div class='xr-var-data'><pre>array([&#x27;AC&#x27;, &#x27;AC&#x27;, &#x27;AC&#x27;, &#x27;AC&#x27;, &#x27;AC&#x27;, &#x27;AC&#x27;, &#x27;AC&#x27;, &#x27;AC&#x27;, &#x27;AC&#x27;, &#x27;AC&#x27;, &#x27;AC&#x27;,\n",
       "       &#x27;AC&#x27;, &#x27;AC&#x27;, &#x27;AC&#x27;, &#x27;AC&#x27;, &#x27;AC&#x27;, &#x27;AC&#x27;, &#x27;AC&#x27;, &#x27;AC&#x27;, &#x27;AC&#x27;, &#x27;AC&#x27;, &#x27;AC&#x27;,\n",
       "       &#x27;AC&#x27;, &#x27;AC&#x27;, &#x27;AC&#x27;, &#x27;AC&#x27;, &#x27;AC&#x27;, &#x27;AC&#x27;, &#x27;AC&#x27;, &#x27;AC&#x27;, &#x27;AC&#x27;, &#x27;AC&#x27;, &#x27;AC&#x27;,\n",
       "       &#x27;AC&#x27;, &#x27;AC&#x27;, &#x27;AC&#x27;, &#x27;AC&#x27;, &#x27;AC&#x27;, &#x27;AC&#x27;, &#x27;AC&#x27;, &#x27;AC&#x27;, &#x27;AC&#x27;, &#x27;AC&#x27;, &#x27;AC&#x27;,\n",
       "       &#x27;AC&#x27;, &#x27;AC&#x27;, &#x27;AC&#x27;, &#x27;AC&#x27;, &#x27;AC&#x27;, &#x27;AC&#x27;, &#x27;AC&#x27;, &#x27;AC&#x27;, &#x27;AC&#x27;, &#x27;AC&#x27;, &#x27;AC&#x27;,\n",
       "       &#x27;AC&#x27;, &#x27;AC&#x27;, &#x27;AC&#x27;, &#x27;AC&#x27;, &#x27;AC&#x27;, &#x27;AC&#x27;, &#x27;AC&#x27;, &#x27;AC&#x27;, &#x27;AC&#x27;, &#x27;AC&#x27;, &#x27;AC&#x27;,\n",
       "       &#x27;AC&#x27;, &#x27;AC&#x27;, &#x27;AC&#x27;, &#x27;AC&#x27;, &#x27;AC&#x27;, &#x27;AC&#x27;, &#x27;AC&#x27;, &#x27;AC&#x27;, &#x27;AC&#x27;, &#x27;AC&#x27;, &#x27;AC&#x27;,\n",
       "       &#x27;AC&#x27;, &#x27;AC&#x27;, &#x27;AC&#x27;, &#x27;AC&#x27;, &#x27;AC&#x27;, &#x27;AC&#x27;, &#x27;AC&#x27;, &#x27;AC&#x27;, &#x27;AC&#x27;, &#x27;AC&#x27;, &#x27;AC&#x27;,\n",
       "       &#x27;AC&#x27;, &#x27;AC&#x27;, &#x27;AC&#x27;, &#x27;AC&#x27;, &#x27;AC&#x27;, &#x27;AC&#x27;, &#x27;AC&#x27;, &#x27;AC&#x27;, &#x27;AC&#x27;, &#x27;AC&#x27;, &#x27;AC&#x27;,\n",
       "       &#x27;AC&#x27;, &#x27;AC&#x27;, &#x27;AC&#x27;, &#x27;AC&#x27;, &#x27;AC&#x27;, &#x27;AC&#x27;, &#x27;AC&#x27;, &#x27;AC&#x27;, &#x27;AC&#x27;, &#x27;AC&#x27;, &#x27;AC&#x27;,\n",
       "       &#x27;AC&#x27;, &#x27;AC&#x27;, &#x27;AC&#x27;, &#x27;AC&#x27;, &#x27;AC&#x27;, &#x27;AC&#x27;, &#x27;AC&#x27;, &#x27;AC&#x27;, &#x27;AC&#x27;, &#x27;AC&#x27;, &#x27;AC&#x27;,\n",
       "       &#x27;AC&#x27;, &#x27;AC&#x27;, &#x27;AC&#x27;, &#x27;AC&#x27;, &#x27;AC&#x27;, &#x27;AC&#x27;, &#x27;AC&#x27;], dtype=object)</pre></div></li><li class='xr-var-item'><div class='xr-var-name'><span>lines_x_pu_eff</span></div><div class='xr-var-dims'>(lines_i)</div><div class='xr-var-dtype'>float64</div><div class='xr-var-preview xr-preview'>0.0002216 0.0001064 ... 0.01097</div><input id='attrs-565e0aef-7d5a-4a6e-a7e9-2cca5d6de4b8' class='xr-var-attrs-in' type='checkbox' disabled><label for='attrs-565e0aef-7d5a-4a6e-a7e9-2cca5d6de4b8' title='Show/Hide attributes'><svg class='icon xr-icon-file-text2'><use xlink:href='#icon-file-text2'></use></svg></label><input id='data-89710cd2-83c5-44ac-8257-2c1be45274be' class='xr-var-data-in' type='checkbox'><label for='data-89710cd2-83c5-44ac-8257-2c1be45274be' title='Show/Hide data repr'><svg class='icon xr-icon-database'><use xlink:href='#icon-database'></use></svg></label><div class='xr-var-attrs'><dl class='xr-attrs'></dl></div><div class='xr-var-data'><pre>array([2.21558301e-04, 1.06387091e-04, 1.99025709e-04, 3.99735843e-03,\n",
       "       7.42844367e-04, 2.20676576e-04, 2.17119371e-04, 3.36259218e-03,\n",
       "       1.35570729e-04, 2.99883789e-04, 1.30169807e-03, 2.52705465e-03,\n",
       "       7.70222658e-04, 2.66197596e-03, 7.19750290e-03, 1.29938700e-04,\n",
       "       1.27716104e-03, 4.02353501e-04, 4.96854273e-04, 2.90812519e-04,\n",
       "       4.90822519e-03, 1.34707974e-04, 2.30121389e-04, 1.71049515e-05,\n",
       "       5.99821242e-05, 2.13249398e-04, 2.36661483e-04, 1.00256451e-03,\n",
       "       3.00731349e-04, 1.96353318e-04, 3.52690188e-04, 3.79002840e-06,\n",
       "       3.98565587e-04, 1.41705914e-03, 2.61823351e-04, 4.91047779e-04,\n",
       "       1.10696410e-03, 1.59031896e-04, 7.13868214e-05, 2.62716691e-04,\n",
       "       5.53134554e-04, 1.68463123e-04, 4.69800392e-04, 1.11477808e-04,\n",
       "       1.81786857e-04, 2.46115230e-04, 2.43593039e-03, 2.94232347e-04,\n",
       "       7.82464454e-05, 4.09453443e-04, 4.95887872e-05, 4.65396560e-05,\n",
       "       1.16982873e-03, 4.02337527e-04, 1.91112606e-04, 2.07666644e-03,\n",
       "       7.41803082e-05, 8.21583417e-05, 2.44570895e-03, 8.46829362e-05,\n",
       "       9.42342692e-05, 1.30102289e-04, 1.47155743e-04, 2.82931484e-03,\n",
       "       1.21268865e-03, 7.09219947e-04, 1.12616445e-04, 2.94618188e-05,\n",
       "       7.38959310e-05, 4.29559619e-05, 4.76664940e-04, 1.21119783e-04,\n",
       "       1.37845738e-04, 2.06562777e-04, 1.71520730e-04, 4.54554076e-05,\n",
       "       5.15439164e-04, 4.99462129e-04, 7.87531155e-04, 2.61541124e-05,\n",
       "       8.02479358e-05, 1.43507895e-04, 3.97410072e-06, 5.21343393e-04,\n",
       "       4.00991755e-05, 7.52527367e-05, 1.60669090e-03, 1.38208001e-05,\n",
       "       2.05400744e-04, 1.19094921e-03, 1.74088276e-04, 2.85436949e-04,\n",
       "       3.85587181e-04, 2.35465057e-04, 2.94657051e-04, 2.04360817e-04,\n",
       "       1.67896651e-04, 7.74775767e-04, 1.65441681e-04, 1.54705177e-03,\n",
       "       1.55465916e-03, 6.06526443e-04, 7.77101987e-04, 6.96650834e-04,\n",
       "       4.40337210e-04, 7.75764147e-04, 1.49748227e-02, 2.04668768e-03,\n",
       "       6.86775956e-03, 1.13058166e-03, 1.23677516e-02, 6.32097746e-03,\n",
       "       1.56782352e-03, 5.58640623e-04, 1.18272190e-03, 2.31466251e-03,\n",
       "       1.68832181e-04, 2.93890156e-04, 8.73680649e-04, 9.05144800e-04,\n",
       "       3.25032247e-03, 1.25931043e-02, 4.21619102e-04, 5.72654047e-05,\n",
       "       1.09887952e-04, 2.31076437e-05, 1.00318707e-03, 1.09700388e-02])</pre></div></li><li class='xr-var-item'><div class='xr-var-name'><span>lines_r_pu_eff</span></div><div class='xr-var-dims'>(lines_i)</div><div class='xr-var-dtype'>float64</div><div class='xr-var-preview xr-preview'>2.07e-05 1.505e-05 ... 0.002631</div><input id='attrs-a62a1081-fb62-4893-8859-c1dac32ab359' class='xr-var-attrs-in' type='checkbox' disabled><label for='attrs-a62a1081-fb62-4893-8859-c1dac32ab359' title='Show/Hide attributes'><svg class='icon xr-icon-file-text2'><use xlink:href='#icon-file-text2'></use></svg></label><input id='data-36e57599-b27c-4e93-977a-8c1b079c7b77' class='xr-var-data-in' type='checkbox'><label for='data-36e57599-b27c-4e93-977a-8c1b079c7b77' title='Show/Hide data repr'><svg class='icon xr-icon-database'><use xlink:href='#icon-database'></use></svg></label><div class='xr-var-attrs'><dl class='xr-attrs'></dl></div><div class='xr-var-data'><pre>array([2.06976046e-05, 1.50500420e-05, 1.85125304e-05, 1.31205037e-04,\n",
       "       5.69491283e-05, 2.17867720e-05, 2.74495639e-05, 1.29919727e-04,\n",
       "       1.81425308e-05, 7.21751530e-05, 2.92464133e-04, 9.44900532e-05,\n",
       "       9.39433626e-05, 6.95048537e-04, 1.51478406e-03, 1.91075280e-05,\n",
       "       7.26797496e-05, 2.05741445e-05, 3.11207225e-05, 4.55054557e-05,\n",
       "       1.19213404e-03, 1.96607186e-05, 3.00504461e-05, 2.17973346e-06,\n",
       "       6.81306297e-06, 3.39818561e-05, 2.84297070e-05, 7.67752672e-05,\n",
       "       4.70167321e-05, 1.00829992e-05, 3.15863296e-05, 5.10582122e-07,\n",
       "       5.19281415e-05, 1.33753498e-04, 2.13862626e-05, 1.00812928e-04,\n",
       "       5.55435811e-05, 1.17761581e-05, 6.12237892e-06, 3.60769039e-05,\n",
       "       6.70518491e-05, 1.46567486e-05, 3.14676552e-05, 1.29936511e-05,\n",
       "       2.53873507e-05, 3.65784240e-05, 1.95745585e-04, 2.56683925e-05,\n",
       "       5.20389793e-06, 3.33531407e-05, 6.13144284e-06, 2.64886128e-06,\n",
       "       6.78321906e-05, 3.60848981e-05, 1.64975881e-05, 6.92351559e-05,\n",
       "       9.27094451e-06, 1.33073754e-05, 8.72976142e-05, 7.44619846e-06,\n",
       "       1.18499142e-05, 1.22611122e-05, 2.39569432e-05, 1.05855127e-04,\n",
       "       2.33088009e-04, 4.71448728e-05, 1.96978390e-05, 5.09748555e-06,\n",
       "       5.17215009e-06, 6.14239593e-06, 3.98839046e-05, 1.27021197e-05,\n",
       "       1.65392047e-05, 1.94450933e-05, 1.64099264e-05, 6.06229705e-06,\n",
       "       3.76570095e-05, 8.96156722e-05, 2.99733986e-05, 3.97272753e-06,\n",
       "       9.05403568e-06, 1.91847411e-05, 5.18582419e-07, 8.79735065e-05,\n",
       "       4.33330605e-06, 1.19783579e-05, 2.79206620e-04, 1.30770397e-06,\n",
       "       3.29400499e-05, 4.41092298e-05, 2.32914525e-05, 2.16075709e-05,\n",
       "       4.49076335e-05, 1.97817092e-05, 4.74729565e-05, 2.50896307e-05,\n",
       "       2.41039361e-05, 2.64650755e-05, 2.66153400e-05, 3.09337420e-04,\n",
       "       2.78667019e-04, 1.04590543e-04, 1.08538271e-04, 8.12607514e-05,\n",
       "       5.52722627e-05, 8.21936746e-05, 2.74381977e-03, 2.03549303e-04,\n",
       "       1.14486679e-03, 2.13723241e-04, 2.13169799e-03, 1.03539473e-03,\n",
       "       1.93302590e-04, 6.56746192e-05, 1.97321598e-04, 4.25142093e-04,\n",
       "       1.94131919e-05, 5.50980904e-05, 9.82890730e-05, 1.30412595e-04,\n",
       "       1.74435223e-04, 2.40282325e-03, 6.37297516e-05, 9.50711209e-06,\n",
       "       1.61308246e-05, 2.99605045e-06, 1.30414363e-04, 2.63093551e-03])</pre></div></li><li class='xr-var-item'><div class='xr-var-name'><span>lines_s_nom_opt</span></div><div class='xr-var-dims'>(lines_i)</div><div class='xr-var-dtype'>float64</div><div class='xr-var-preview xr-preview'>6.551e+03 3.114e+03 ... 100.6</div><input id='attrs-3908fbf5-a262-40b5-bfc8-34cd7cfcab6d' class='xr-var-attrs-in' type='checkbox' disabled><label for='attrs-3908fbf5-a262-40b5-bfc8-34cd7cfcab6d' title='Show/Hide attributes'><svg class='icon xr-icon-file-text2'><use xlink:href='#icon-file-text2'></use></svg></label><input id='data-610284b7-aaec-46b1-8ac8-c941433e8d4d' class='xr-var-data-in' type='checkbox'><label for='data-610284b7-aaec-46b1-8ac8-c941433e8d4d' title='Show/Hide data repr'><svg class='icon xr-icon-database'><use xlink:href='#icon-database'></use></svg></label><div class='xr-var-attrs'><dl class='xr-attrs'></dl></div><div class='xr-var-data'><pre>array([ 6551.4944546 ,  3114.23081611,  6696.34239953,  4451.19925304,\n",
       "        3903.56997162,  8857.7134779 ,  4406.51422486,  4451.19925304,\n",
       "        6956.22291742,   603.5331039 ,   201.1777013 ,  4451.19925304,\n",
       "        2396.38770568,   201.1777013 ,   100.58885065,  5010.04732876,\n",
       "        3802.98112097,  9908.28701257,  5457.08775953,  2303.84596308,\n",
       "         100.58885065,  1106.47735715,  2245.1431465 , 15130.86013829,\n",
       "       10495.72590036,  1774.38732546,  2245.1431465 ,   905.29965585,\n",
       "        1339.84349065, 11618.29747361,  7456.79411044, 21685.22964662,\n",
       "        2064.08321533,  1050.14760078,  5791.04274369,   289.69588987,\n",
       "        4596.04719797, 10242.24199672, 10387.08994166,  4345.43834806,\n",
       "        1339.84349065,  6551.4944546 ,  5501.34685382,  4055.74245819,\n",
       "        8147.69690261,  2679.6869813 ,   905.29965585,  5646.19479875,\n",
       "       15598.7409056 ,  9336.94234088, 10966.4817214 , 25116.74317765,\n",
       "        4596.04719797,  4885.74308784,  7456.79411044,  4451.19925304,\n",
       "        3440.13869222,  1774.38732546,  4451.19925304, 10531.93788659,\n",
       "        7275.73417927,  8796.6376011 ,  6527.35313044,  4451.19925304,\n",
       "         289.69588987,  5501.34685382,   724.23972468, 13108.73901665,\n",
       "       22910.68707111,  4309.22636183, 11437.23754244, 12777.08103309,\n",
       "        2389.99109143,  2860.74691247,  5935.89068862,  8615.57766993,\n",
       "        4740.89514291,   289.69588987,  4451.19925304,  6623.91842707,\n",
       "        6225.58657849,  1484.69143559, 27334.2994991 ,  2643.47499507,\n",
       "       12921.92897803,  1774.38732546,   724.23972468, 26169.76583216,\n",
       "        8144.82184889,  4451.19925304,  1339.84349065, 10531.93788659,\n",
       "        1339.84349065,  5646.19479875,  5757.70581118,  1392.14969299,\n",
       "        1194.99554572,  8902.39850607,  4325.28251503,   603.5331039 ,\n",
       "         579.39177974,   869.08766961,  1484.69143559,  2100.29520156,\n",
       "        6660.1304133 ,  1955.44725663,   144.84794494,  1955.44725663,\n",
       "         144.84794494,   579.39177974,   144.84794494,   144.84794494,\n",
       "        1299.60795039,  3989.71509997,   289.69588987,   197.15414727,\n",
       "        7126.43674643,  1219.13686987,  1955.44725663,  2203.25711243,\n",
       "        1901.49056048,   100.58885065,  3175.53481373,  4439.94136568,\n",
       "        5505.46192616, 18388.93166836,  2534.83903637,   100.58885065])</pre></div></li><li class='xr-var-item'><div class='xr-var-name'><span>lines_v_nom</span></div><div class='xr-var-dims'>(lines_i)</div><div class='xr-var-dtype'>float64</div><div class='xr-var-preview xr-preview'>230.0 230.0 230.0 ... 230.0 230.0</div><input id='attrs-daa8a5b2-266d-4a99-9b4b-7b03bc8dbc00' class='xr-var-attrs-in' type='checkbox' disabled><label for='attrs-daa8a5b2-266d-4a99-9b4b-7b03bc8dbc00' title='Show/Hide attributes'><svg class='icon xr-icon-file-text2'><use xlink:href='#icon-file-text2'></use></svg></label><input id='data-281819e1-5a36-46b8-8ccc-ab52f623dd18' class='xr-var-data-in' type='checkbox'><label for='data-281819e1-5a36-46b8-8ccc-ab52f623dd18' title='Show/Hide data repr'><svg class='icon xr-icon-database'><use xlink:href='#icon-database'></use></svg></label><div class='xr-var-attrs'><dl class='xr-attrs'></dl></div><div class='xr-var-data'><pre>array([230., 230., 230., 230., 230., 230., 230., 230., 230., 230., 230.,\n",
       "       230., 230., 230., 230., 230., 230., 230., 230., 230., 230., 230.,\n",
       "       230., 230., 230., 230., 230., 230., 230., 230., 230., 230., 230.,\n",
       "       230., 230., 230., 230., 230., 230., 230., 230., 230., 230., 230.,\n",
       "       230., 230., 230., 230., 230., 230., 230., 230., 230., 230., 230.,\n",
       "       230., 230., 230., 230., 230., 230., 230., 230., 230., 230., 230.,\n",
       "       230., 230., 230., 230., 230., 230., 230., 230., 230., 230., 230.,\n",
       "       230., 230., 230., 230., 230., 230., 230., 230., 230., 230., 230.,\n",
       "       230., 230., 230., 230., 230., 230., 230., 230., 230., 230., 230.,\n",
       "       230., 230., 230., 230., 230., 230., 230., 230., 230., 230., 230.,\n",
       "       230., 230., 230., 230., 230., 230., 230., 230., 230., 230., 230.,\n",
       "       230., 230., 230., 230., 230., 230., 230.])</pre></div></li><li class='xr-var-item'><div class='xr-var-name'><span>lines_t_p0</span></div><div class='xr-var-dims'>(snapshots, lines_t_p0_i)</div><div class='xr-var-dtype'>float64</div><div class='xr-var-preview xr-preview'>-178.3 -548.0 ... -233.0 22.32</div><input id='attrs-5314d783-a472-4adb-b846-e6be832171c8' class='xr-var-attrs-in' type='checkbox' disabled><label for='attrs-5314d783-a472-4adb-b846-e6be832171c8' title='Show/Hide attributes'><svg class='icon xr-icon-file-text2'><use xlink:href='#icon-file-text2'></use></svg></label><input id='data-aff556ad-ae4d-48d5-92b4-3f148396d7e5' class='xr-var-data-in' type='checkbox'><label for='data-aff556ad-ae4d-48d5-92b4-3f148396d7e5' title='Show/Hide data repr'><svg class='icon xr-icon-database'><use xlink:href='#icon-database'></use></svg></label><div class='xr-var-attrs'><dl class='xr-attrs'></dl></div><div class='xr-var-data'><pre>array([[ -178.26457235,  -548.03074175,  -199.46319313, ...,\n",
       "        -3104.39787564,  -307.28739561,    29.63782308],\n",
       "       [ -190.40641986,  -500.4704013 ,  -270.20303127, ...,\n",
       "        -3439.07438596,  -305.6310371 ,    37.92458943],\n",
       "       [ -140.77790375,  -501.84947866,  -308.41909369, ...,\n",
       "        -3384.22583156,  -309.59503676,    38.57280068],\n",
       "       ...,\n",
       "       [  102.39445315,  -744.72360386,  -163.78326779, ...,\n",
       "         1086.44144993,  -274.61675071,    30.37664035],\n",
       "       [   28.55597095,  -715.55022722,  -128.93458286, ...,\n",
       "         1186.96070667,  -264.64978807,    26.87771624],\n",
       "       [   49.47250267,  -717.96136832,  -142.37302627, ...,\n",
       "        -1854.7942197 ,  -233.00558433,    22.32015684]])</pre></div></li><li class='xr-var-item'><div class='xr-var-name'><span>lines_t_p1</span></div><div class='xr-var-dims'>(snapshots, lines_t_p1_i)</div><div class='xr-var-dtype'>float64</div><div class='xr-var-preview xr-preview'>178.3 548.0 199.5 ... 233.0 -22.32</div><input id='attrs-28e7bc8b-f0aa-4941-a7a4-e2f7da150298' class='xr-var-attrs-in' type='checkbox' disabled><label for='attrs-28e7bc8b-f0aa-4941-a7a4-e2f7da150298' title='Show/Hide attributes'><svg class='icon xr-icon-file-text2'><use xlink:href='#icon-file-text2'></use></svg></label><input id='data-9b02febc-6aab-480e-b164-2568de1a1009' class='xr-var-data-in' type='checkbox'><label for='data-9b02febc-6aab-480e-b164-2568de1a1009' title='Show/Hide data repr'><svg class='icon xr-icon-database'><use xlink:href='#icon-database'></use></svg></label><div class='xr-var-attrs'><dl class='xr-attrs'></dl></div><div class='xr-var-data'><pre>array([[  178.26457235,   548.03074175,   199.46319313, ...,\n",
       "         3104.39787564,   307.28739561,   -29.63782308],\n",
       "       [  190.40641986,   500.4704013 ,   270.20303127, ...,\n",
       "         3439.07438596,   305.6310371 ,   -37.92458943],\n",
       "       [  140.77790375,   501.84947866,   308.41909369, ...,\n",
       "         3384.22583156,   309.59503676,   -38.57280068],\n",
       "       ...,\n",
       "       [ -102.39445315,   744.72360386,   163.78326779, ...,\n",
       "        -1086.44144993,   274.61675071,   -30.37664035],\n",
       "       [  -28.55597095,   715.55022722,   128.93458286, ...,\n",
       "        -1186.96070667,   264.64978807,   -26.87771624],\n",
       "       [  -49.47250267,   717.96136832,   142.37302627, ...,\n",
       "         1854.7942197 ,   233.00558433,   -22.32015684]])</pre></div></li><li class='xr-var-item'><div class='xr-var-name'><span>lines_t_mu_lower</span></div><div class='xr-var-dims'>(snapshots, lines_t_mu_lower_i)</div><div class='xr-var-dtype'>float64</div><div class='xr-var-preview xr-preview'>-0.0 -0.0 -0.0 ... -3.492 -0.0 -0.0</div><input id='attrs-4a9f0cc7-d08f-4f47-b638-cc08ceb10d7b' class='xr-var-attrs-in' type='checkbox' disabled><label for='attrs-4a9f0cc7-d08f-4f47-b638-cc08ceb10d7b' title='Show/Hide attributes'><svg class='icon xr-icon-file-text2'><use xlink:href='#icon-file-text2'></use></svg></label><input id='data-a5b30b9d-c26b-464b-94d4-ad472b4e7ff4' class='xr-var-data-in' type='checkbox'><label for='data-a5b30b9d-c26b-464b-94d4-ad472b4e7ff4' title='Show/Hide data repr'><svg class='icon xr-icon-database'><use xlink:href='#icon-database'></use></svg></label><div class='xr-var-attrs'><dl class='xr-attrs'></dl></div><div class='xr-var-data'><pre>array([[ -0.        ,  -0.        ,  -0.        , ..., -12.81263631,\n",
       "         -0.        ,  -0.        ],\n",
       "       [ -0.        ,  -0.        ,  -0.        , ..., -19.3729269 ,\n",
       "         -0.        ,  -0.        ],\n",
       "       [ -0.        ,  -0.        ,  -0.        , ..., -19.82713119,\n",
       "         -0.        ,  -0.        ],\n",
       "       ...,\n",
       "       [ -0.        ,  -0.        ,  -0.        , ...,  -2.56856342,\n",
       "         -0.        ,  -0.        ],\n",
       "       [ -0.        ,  -0.        ,  -0.        , ...,  -3.15164971,\n",
       "         -0.        ,  -0.        ],\n",
       "       [ -0.        ,  -0.        ,  -0.        , ...,  -3.49231422,\n",
       "         -0.        ,  -0.        ]])</pre></div></li><li class='xr-var-item'><div class='xr-var-name'><span>lines_t_mu_upper</span></div><div class='xr-var-dims'>(snapshots, lines_t_mu_upper_i)</div><div class='xr-var-dtype'>float64</div><div class='xr-var-preview xr-preview'>0.0 -12.37 0.0 0.0 ... 0.0 0.0 0.0</div><input id='attrs-da4de47f-bd3c-4fdb-955a-682b1c9fd406' class='xr-var-attrs-in' type='checkbox' disabled><label for='attrs-da4de47f-bd3c-4fdb-955a-682b1c9fd406' title='Show/Hide attributes'><svg class='icon xr-icon-file-text2'><use xlink:href='#icon-file-text2'></use></svg></label><input id='data-0f793976-f65a-47cf-a8be-20b36d2454d3' class='xr-var-data-in' type='checkbox'><label for='data-0f793976-f65a-47cf-a8be-20b36d2454d3' title='Show/Hide data repr'><svg class='icon xr-icon-database'><use xlink:href='#icon-database'></use></svg></label><div class='xr-var-attrs'><dl class='xr-attrs'></dl></div><div class='xr-var-data'><pre>array([[  0.        , -12.36666235,   0.        , ...,   0.        ,\n",
       "          0.        ,   0.        ],\n",
       "       [  0.        , -10.53498586,   0.        , ...,   0.        ,\n",
       "          0.        ,   0.        ],\n",
       "       [  0.        , -10.42426904,   0.        , ...,   0.        ,\n",
       "          0.        ,   0.        ],\n",
       "       ...,\n",
       "       [  0.        , -21.4858256 ,   0.        , ...,   0.        ,\n",
       "          0.        ,   0.        ],\n",
       "       [  0.        , -24.37244145,   0.        , ...,   0.        ,\n",
       "          0.        ,   0.        ],\n",
       "       [  0.        , -23.99818288,   0.        , ...,   0.        ,\n",
       "          0.        ,   0.        ]])</pre></div></li><li class='xr-var-item'><div class='xr-var-name'><span>buses_v_nom</span></div><div class='xr-var-dims'>(buses_i)</div><div class='xr-var-dtype'>float64</div><div class='xr-var-preview xr-preview'>230.0 230.0 230.0 ... 230.0 230.0</div><input id='attrs-24f4910a-d5e9-41a8-85e4-bae2f6badfe3' class='xr-var-attrs-in' type='checkbox' disabled><label for='attrs-24f4910a-d5e9-41a8-85e4-bae2f6badfe3' title='Show/Hide attributes'><svg class='icon xr-icon-file-text2'><use xlink:href='#icon-file-text2'></use></svg></label><input id='data-ac15899d-f133-48f9-9970-74cbf8733246' class='xr-var-data-in' type='checkbox'><label for='data-ac15899d-f133-48f9-9970-74cbf8733246' title='Show/Hide data repr'><svg class='icon xr-icon-database'><use xlink:href='#icon-database'></use></svg></label><div class='xr-var-attrs'><dl class='xr-attrs'></dl></div><div class='xr-var-data'><pre>array([230., 230., 230., 230., 230., 230., 230., 230., 230., 230., 230.,\n",
       "       230., 230., 230., 230., 230., 230., 230., 230., 230., 230., 230.,\n",
       "       230., 230., 230., 230., 230., 230., 230., 230., 230., 230., 230.,\n",
       "       230., 230., 230., 230., 230., 230., 230., 230., 230., 230., 230.,\n",
       "       230., 230., 230., 230., 230., 230.])</pre></div></li><li class='xr-var-item'><div class='xr-var-name'><span>buses_x</span></div><div class='xr-var-dims'>(buses_i)</div><div class='xr-var-dtype'>float64</div><div class='xr-var-preview xr-preview'>-117.3 -112.0 ... -106.1 -114.5</div><input id='attrs-af348d38-1c1d-4775-9427-0be94421db97' class='xr-var-attrs-in' type='checkbox' disabled><label for='attrs-af348d38-1c1d-4775-9427-0be94421db97' title='Show/Hide attributes'><svg class='icon xr-icon-file-text2'><use xlink:href='#icon-file-text2'></use></svg></label><input id='data-74497ecc-723a-47c3-91d5-e557a0b8a204' class='xr-var-data-in' type='checkbox'><label for='data-74497ecc-723a-47c3-91d5-e557a0b8a204' title='Show/Hide data repr'><svg class='icon xr-icon-database'><use xlink:href='#icon-database'></use></svg></label><div class='xr-var-attrs'><dl class='xr-attrs'></dl></div><div class='xr-var-data'><pre>array([-117.27476   , -112.00686379, -111.46913636, -109.80593182,\n",
       "       -114.10151111, -121.36831915, -122.92592593, -118.66998462,\n",
       "       -122.3570262 , -114.9788    , -120.68109677, -120.28122222,\n",
       "       -119.90104545, -121.18448673, -122.03461779, -119.79307368,\n",
       "       -122.78166667, -118.05859259, -118.96763636, -118.04494304,\n",
       "       -117.34256442, -118.85171875, -116.33466667, -119.11659259,\n",
       "       -117.13835938, -116.2266    , -119.68223077, -106.40547887,\n",
       "       -119.49118182, -119.66257143, -115.74536957, -115.62950526,\n",
       "       -118.35380469, -106.649     , -111.14702778, -115.08416279,\n",
       "       -118.7760375 , -111.92142697, -108.90182927, -122.86985714,\n",
       "       -122.73683465, -107.02026154, -104.47440909, -104.91399048,\n",
       "       -122.24942857, -110.8189759 , -120.88726316, -120.88889467,\n",
       "       -106.08378652, -114.487     ])</pre></div></li><li class='xr-var-item'><div class='xr-var-name'><span>buses_y</span></div><div class='xr-var-dims'>(buses_i)</div><div class='xr-var-dtype'>float64</div><div class='xr-var-preview xr-preview'>47.74 33.51 36.25 ... 40.33 34.34</div><input id='attrs-2e42ad88-0dba-4b2a-892b-366a71c29d55' class='xr-var-attrs-in' type='checkbox' disabled><label for='attrs-2e42ad88-0dba-4b2a-892b-366a71c29d55' title='Show/Hide attributes'><svg class='icon xr-icon-file-text2'><use xlink:href='#icon-file-text2'></use></svg></label><input id='data-069af10c-386f-4845-b938-c138567566fe' class='xr-var-data-in' type='checkbox'><label for='data-069af10c-386f-4845-b938-c138567566fe' title='Show/Hide data repr'><svg class='icon xr-icon-database'><use xlink:href='#icon-database'></use></svg></label><div class='xr-var-attrs'><dl class='xr-attrs'></dl></div><div class='xr-var-data'><pre>array([47.739976  , 33.50545581, 36.24779091, 35.01365   , 34.35600444,\n",
       "       38.5411734 , 45.15297778, 46.08005538, 47.44778908, 47.81732333,\n",
       "       45.53360484, 47.70271111, 36.98172159, 39.17128761, 37.73338798,\n",
       "       35.40852737, 40.38614286, 35.06118889, 37.34218182, 33.92477247,\n",
       "       34.00054724, 34.34819375, 34.14683333, 36.0155    , 32.96539141,\n",
       "       36.40472   , 48.11697692, 31.98844366, 47.15364545, 45.7449    ,\n",
       "       33.16159348, 43.46779684, 34.0772    , 46.6394    , 46.62420741,\n",
       "       36.23851938, 39.7508575 , 40.700997  , 41.35442927, 42.50423286,\n",
       "       45.35112677, 35.07218154, 38.51713636, 39.82598905, 48.67661786,\n",
       "       32.07233735, 37.50101579, 40.04086972, 40.32679607, 34.34006667])</pre></div></li><li class='xr-var-item'><div class='xr-var-name'><span>buses_country</span></div><div class='xr-var-dims'>(buses_i)</div><div class='xr-var-dtype'>object</div><div class='xr-var-preview xr-preview'>&#x27;AVA&#x27; &#x27;Arizona&#x27; ... &#x27;WACM&#x27; &#x27;WALC&#x27;</div><input id='attrs-7ede787e-8c33-4034-bc09-d84bef41795d' class='xr-var-attrs-in' type='checkbox' disabled><label for='attrs-7ede787e-8c33-4034-bc09-d84bef41795d' title='Show/Hide attributes'><svg class='icon xr-icon-file-text2'><use xlink:href='#icon-file-text2'></use></svg></label><input id='data-8d60273b-0d0e-4f4f-810d-63fb5a987b80' class='xr-var-data-in' type='checkbox'><label for='data-8d60273b-0d0e-4f4f-810d-63fb5a987b80' title='Show/Hide data repr'><svg class='icon xr-icon-database'><use xlink:href='#icon-database'></use></svg></label><div class='xr-var-attrs'><dl class='xr-attrs'></dl></div><div class='xr-var-data'><pre>array([&#x27;AVA&#x27;, &#x27;Arizona&#x27;, &#x27;Arizona&#x27;, &#x27;Arizona&#x27;, &#x27;Arizona&#x27;, &#x27;BANC&#x27;, &#x27;BPAT&#x27;,\n",
       "       &#x27;BPAT&#x27;, &#x27;BPAT&#x27;, &#x27;BPAT&#x27;, &#x27;BPAT&#x27;, &#x27;CHPD&#x27;, &#x27;CISO-PGAE&#x27;, &#x27;CISO-PGAE&#x27;,\n",
       "       &#x27;CISO-PGAE&#x27;, &#x27;CISO-PGAE&#x27;, &#x27;CISO-PGAE&#x27;, &#x27;CISO-SCE&#x27;, &#x27;CISO-SCE&#x27;,\n",
       "       &#x27;CISO-SCE&#x27;, &#x27;CISO-SCE&#x27;, &#x27;CISO-SCE&#x27;, &#x27;CISO-SCE&#x27;, &#x27;CISO-SCE&#x27;,\n",
       "       &#x27;CISO-SDGE&#x27;, &#x27;CISO-VEA&#x27;, &#x27;DOPD&#x27;, &#x27;EPE&#x27;, &#x27;GCPD&#x27;, &#x27;GRID&#x27;, &#x27;IID&#x27;,\n",
       "       &#x27;IPCO&#x27;, &#x27;LADWP&#x27;, &#x27;MISO-0001&#x27;, &#x27;MT_west&#x27;, &#x27;NEVP&#x27;, &#x27;NEVP&#x27;, &#x27;PACE&#x27;,\n",
       "       &#x27;PACE&#x27;, &#x27;PACW&#x27;, &#x27;PGE&#x27;, &#x27;PNM&#x27;, &#x27;PSCO&#x27;, &#x27;PSCO&#x27;, &#x27;PSEI&#x27;, &#x27;TEPC&#x27;,\n",
       "       &#x27;TID&#x27;, &#x27;US&#x27;, &#x27;WACM&#x27;, &#x27;WALC&#x27;], dtype=object)</pre></div></li><li class='xr-var-item'><div class='xr-var-name'><span>buses_control</span></div><div class='xr-var-dims'>(buses_i)</div><div class='xr-var-dtype'>object</div><div class='xr-var-preview xr-preview'>&#x27;Slack&#x27; &#x27;PQ&#x27; &#x27;PQ&#x27; ... &#x27;PQ&#x27; &#x27;PQ&#x27;</div><input id='attrs-e037970f-f514-4c45-94bf-2400694667ce' class='xr-var-attrs-in' type='checkbox' disabled><label for='attrs-e037970f-f514-4c45-94bf-2400694667ce' title='Show/Hide attributes'><svg class='icon xr-icon-file-text2'><use xlink:href='#icon-file-text2'></use></svg></label><input id='data-4104a5be-35c3-4d0e-bdbf-d2a7390889e9' class='xr-var-data-in' type='checkbox'><label for='data-4104a5be-35c3-4d0e-bdbf-d2a7390889e9' title='Show/Hide data repr'><svg class='icon xr-icon-database'><use xlink:href='#icon-database'></use></svg></label><div class='xr-var-attrs'><dl class='xr-attrs'></dl></div><div class='xr-var-data'><pre>array([&#x27;Slack&#x27;, &#x27;PQ&#x27;, &#x27;PQ&#x27;, &#x27;PQ&#x27;, &#x27;PQ&#x27;, &#x27;PQ&#x27;, &#x27;PQ&#x27;, &#x27;PQ&#x27;, &#x27;PQ&#x27;, &#x27;PQ&#x27;,\n",
       "       &#x27;PQ&#x27;, &#x27;PQ&#x27;, &#x27;PQ&#x27;, &#x27;PQ&#x27;, &#x27;PQ&#x27;, &#x27;PQ&#x27;, &#x27;PQ&#x27;, &#x27;PQ&#x27;, &#x27;PQ&#x27;, &#x27;PQ&#x27;, &#x27;PQ&#x27;,\n",
       "       &#x27;PQ&#x27;, &#x27;PQ&#x27;, &#x27;PQ&#x27;, &#x27;PQ&#x27;, &#x27;PQ&#x27;, &#x27;PQ&#x27;, &#x27;PQ&#x27;, &#x27;PQ&#x27;, &#x27;PQ&#x27;, &#x27;PQ&#x27;, &#x27;PQ&#x27;,\n",
       "       &#x27;PQ&#x27;, &#x27;PQ&#x27;, &#x27;PQ&#x27;, &#x27;PQ&#x27;, &#x27;PQ&#x27;, &#x27;PQ&#x27;, &#x27;PQ&#x27;, &#x27;PQ&#x27;, &#x27;PQ&#x27;, &#x27;PQ&#x27;, &#x27;PQ&#x27;,\n",
       "       &#x27;PQ&#x27;, &#x27;PQ&#x27;, &#x27;PQ&#x27;, &#x27;PQ&#x27;, &#x27;PQ&#x27;, &#x27;PQ&#x27;, &#x27;PQ&#x27;], dtype=object)</pre></div></li><li class='xr-var-item'><div class='xr-var-name'><span>buses_generator</span></div><div class='xr-var-dims'>(buses_i)</div><div class='xr-var-dtype'>object</div><div class='xr-var-preview xr-preview'>&#x27;AVA0 0 hydro&#x27; &#x27;&#x27; &#x27;&#x27; ... &#x27;&#x27; &#x27;&#x27; &#x27;&#x27;</div><input id='attrs-307dde65-3d8b-47d7-9a29-181087a190e5' class='xr-var-attrs-in' type='checkbox' disabled><label for='attrs-307dde65-3d8b-47d7-9a29-181087a190e5' title='Show/Hide attributes'><svg class='icon xr-icon-file-text2'><use xlink:href='#icon-file-text2'></use></svg></label><input id='data-15035c07-a927-4555-8171-ef0ebdad7656' class='xr-var-data-in' type='checkbox'><label for='data-15035c07-a927-4555-8171-ef0ebdad7656' title='Show/Hide data repr'><svg class='icon xr-icon-database'><use xlink:href='#icon-database'></use></svg></label><div class='xr-var-attrs'><dl class='xr-attrs'></dl></div><div class='xr-var-data'><pre>array([&#x27;AVA0 0 hydro&#x27;, &#x27;&#x27;, &#x27;&#x27;, &#x27;&#x27;, &#x27;&#x27;, &#x27;&#x27;, &#x27;&#x27;, &#x27;&#x27;, &#x27;&#x27;, &#x27;&#x27;, &#x27;&#x27;, &#x27;&#x27;, &#x27;&#x27;, &#x27;&#x27;,\n",
       "       &#x27;&#x27;, &#x27;&#x27;, &#x27;&#x27;, &#x27;&#x27;, &#x27;&#x27;, &#x27;&#x27;, &#x27;&#x27;, &#x27;&#x27;, &#x27;&#x27;, &#x27;&#x27;, &#x27;&#x27;, &#x27;&#x27;, &#x27;&#x27;, &#x27;&#x27;, &#x27;&#x27;, &#x27;&#x27;, &#x27;&#x27;,\n",
       "       &#x27;&#x27;, &#x27;&#x27;, &#x27;&#x27;, &#x27;&#x27;, &#x27;&#x27;, &#x27;&#x27;, &#x27;&#x27;, &#x27;&#x27;, &#x27;&#x27;, &#x27;&#x27;, &#x27;&#x27;, &#x27;&#x27;, &#x27;&#x27;, &#x27;&#x27;, &#x27;&#x27;, &#x27;&#x27;, &#x27;&#x27;,\n",
       "       &#x27;&#x27;, &#x27;&#x27;], dtype=object)</pre></div></li><li class='xr-var-item'><div class='xr-var-name'><span>buses_t_p</span></div><div class='xr-var-dims'>(snapshots, buses_t_p_i)</div><div class='xr-var-dtype'>float64</div><div class='xr-var-preview xr-preview'>-900.9 -1.322e+03 ... 9.833</div><input id='attrs-55598d22-6326-439e-837e-c8a099e754e5' class='xr-var-attrs-in' type='checkbox' disabled><label for='attrs-55598d22-6326-439e-837e-c8a099e754e5' title='Show/Hide attributes'><svg class='icon xr-icon-file-text2'><use xlink:href='#icon-file-text2'></use></svg></label><input id='data-f64e3172-332f-4987-915a-0fcee9c5f9fe' class='xr-var-data-in' type='checkbox'><label for='data-f64e3172-332f-4987-915a-0fcee9c5f9fe' title='Show/Hide data repr'><svg class='icon xr-icon-database'><use xlink:href='#icon-database'></use></svg></label><div class='xr-var-attrs'><dl class='xr-attrs'></dl></div><div class='xr-var-data'><pre>array([[-9.00876934e+02, -1.32202331e+03, -1.24737430e+02, ...,\n",
       "        -9.17987843e+02,  4.66094783e+03, -3.46252942e+00],\n",
       "       [-9.31086387e+02, -1.94397351e+03,  9.13796715e+02, ...,\n",
       "        -1.14308588e+03,  4.57712373e+03, -2.29688897e+00],\n",
       "       [-9.16182018e+02, -2.30839874e+03,  1.22715393e+03, ...,\n",
       "        -1.34145413e+03,  4.60088640e+03, -2.19693836e+00],\n",
       "       ...,\n",
       "       [-7.69870887e+02, -4.90141119e+02,  3.02671168e+02, ...,\n",
       "        -9.26966526e+02, -1.95556485e+03,  9.79617861e+00],\n",
       "       [-7.82664024e+02, -5.35025816e+02,  2.15556540e+02, ...,\n",
       "        -8.89735637e+02, -2.01703732e+03,  9.52645280e+00],\n",
       "       [-7.71837676e+02, -7.17935486e+02,  8.38928156e+01, ...,\n",
       "        -8.98245177e+02,  2.55360857e+03,  9.83283999e+00]])</pre></div></li><li class='xr-var-item'><div class='xr-var-name'><span>buses_t_v_ang</span></div><div class='xr-var-dims'>(snapshots, buses_t_v_ang_i)</div><div class='xr-var-dtype'>float64</div><div class='xr-var-preview xr-preview'>-0.118 0.05272 ... 0.7458 -0.03596</div><input id='attrs-d268f42e-4e6f-4ba9-aabe-7c5a537f1b79' class='xr-var-attrs-in' type='checkbox' disabled><label for='attrs-d268f42e-4e6f-4ba9-aabe-7c5a537f1b79' title='Show/Hide attributes'><svg class='icon xr-icon-file-text2'><use xlink:href='#icon-file-text2'></use></svg></label><input id='data-1c6df1f1-8c3b-4894-bc62-39b72c4bb1c2' class='xr-var-data-in' type='checkbox'><label for='data-1c6df1f1-8c3b-4894-bc62-39b72c4bb1c2' title='Show/Hide data repr'><svg class='icon xr-icon-database'><use xlink:href='#icon-database'></use></svg></label><div class='xr-var-attrs'><dl class='xr-attrs'></dl></div><div class='xr-var-data'><pre>array([[-0.11804031,  0.05271611,  0.21905245, ..., -0.20600884,\n",
       "         0.73685081, -0.07152888],\n",
       "       [-0.12913407,  0.12273117,  0.42780465, ..., -0.24891933,\n",
       "         0.63554525,  0.1160186 ],\n",
       "       [-0.11954328,  0.11819146,  0.48582926, ..., -0.26975609,\n",
       "         0.63881703,  0.17570839],\n",
       "       ...,\n",
       "       [-0.03365793,  0.17721326,  0.37715744, ..., -0.20902958,\n",
       "         0.61266653,  0.04565339],\n",
       "       [-0.01619171,  0.14455458,  0.34969599, ..., -0.2052452 ,\n",
       "         0.60846273,  0.01847473],\n",
       "       [ 0.01445991,  0.07878697,  0.29322989, ..., -0.22322083,\n",
       "         0.74579196, -0.03595563]])</pre></div></li><li class='xr-var-item'><div class='xr-var-name'><span>buses_t_marginal_price</span></div><div class='xr-var-dims'>(snapshots, buses_t_marginal_price_i)</div><div class='xr-var-dtype'>float64</div><div class='xr-var-preview xr-preview'>27.12 25.41 23.71 ... 24.09 26.71</div><input id='attrs-3ee7c8ec-8240-46f0-8962-a9e5ad4b5f0e' class='xr-var-attrs-in' type='checkbox' disabled><label for='attrs-3ee7c8ec-8240-46f0-8962-a9e5ad4b5f0e' title='Show/Hide attributes'><svg class='icon xr-icon-file-text2'><use xlink:href='#icon-file-text2'></use></svg></label><input id='data-f949d03b-667f-4b8b-90e7-385dee382454' class='xr-var-data-in' type='checkbox'><label for='data-f949d03b-667f-4b8b-90e7-385dee382454' title='Show/Hide data repr'><svg class='icon xr-icon-database'><use xlink:href='#icon-database'></use></svg></label><div class='xr-var-attrs'><dl class='xr-attrs'></dl></div><div class='xr-var-data'><pre>array([[27.11808938, 25.40816423, 23.70781015, ..., 26.86767273,\n",
       "        24.48257677, 26.51583022],\n",
       "       [27.23979811, 25.67789343, 24.120964  , ..., 27.12935535,\n",
       "        24.7163197 , 26.73250364],\n",
       "       [27.26565719, 25.65577413, 24.120964  , ..., 27.17457281,\n",
       "        24.72532996, 26.70649376],\n",
       "       ...,\n",
       "       [26.2657646 , 24.89109187, 22.33366516, ..., 26.08122701,\n",
       "        24.07534048, 26.40522424],\n",
       "       [26.57055229, 25.00564585, 22.10144379, ..., 26.36383042,\n",
       "        24.07512027, 26.7263356 ],\n",
       "       [26.56391773, 25.0139744 , 22.1491611 , ..., 26.36463403,\n",
       "        24.089273  , 26.7133648 ]])</pre></div></li></ul></div></li><li class='xr-section-item'><input id='section-2004fa29-3fb0-468d-af13-9f35a694e965' class='xr-section-summary-in' type='checkbox'  ><label for='section-2004fa29-3fb0-468d-af13-9f35a694e965' class='xr-section-summary' >Attributes: <span>(10)</span></label><div class='xr-section-inline-details'></div><div class='xr-section-details'><dl class='xr-attrs'><dt><span>network__cCounter :</span></dt><dd>6227857</dd><dt><span>network__multi_invest :</span></dt><dd>0</dd><dt><span>network__xCounter :</span></dt><dd>2547420</dd><dt><span>network_max_memusage :</span></dt><dd>3125465088</dd><dt><span>network_name :</span></dt><dd></dd><dt><span>network_objective :</span></dt><dd>8783072020.072104</dd><dt><span>network_objective_constant :</span></dt><dd>2591285865.223094</dd><dt><span>network_pypsa_version :</span></dt><dd>0.21.1</dd><dt><span>network_srid :</span></dt><dd>4326</dd><dt><span>meta :</span></dt><dd>{&quot;version&quot;: &quot;0.5.0&quot;, &quot;tutorial&quot;: false, &quot;logging&quot;: {&quot;level&quot;: &quot;INFO&quot;, &quot;format&quot;: &quot;%(levelname)s:%(name)s:%(message)s&quot;}, &quot;scenario&quot;: {&quot;simpl&quot;: [&quot;&quot;], &quot;ll&quot;: [&quot;copt&quot;], &quot;clusters&quot;: [37, 128, 256, 512, 1024], &quot;opts&quot;: [&quot;Co2L-3H&quot;]}, &quot;countries&quot;: [&quot;US&quot;], &quot;snapshots&quot;: {&quot;start&quot;: &quot;2013-01-01&quot;, &quot;end&quot;: &quot;2014-01-01&quot;, &quot;closed&quot;: &quot;left&quot;}, &quot;enable&quot;: {&quot;prepare_links_p_nom&quot;: false, &quot;retrieve_databundle&quot;: true, &quot;retrieve_cost_data&quot;: true, &quot;build_cutout&quot;: false, &quot;retrieve_cutout&quot;: true, &quot;build_natura_raster&quot;: false, &quot;retrieve_natura_raster&quot;: true, &quot;custom_busmap&quot;: false}, &quot;electricity&quot;: {&quot;voltages&quot;: [230.0, 345.0, 500.0, 765.0], &quot;gaslimit&quot;: false, &quot;co2limit&quot;: 1472800000.0, &quot;co2base&quot;: 1841000000.0, &quot;agg_p_nom_limits&quot;: &quot;data/agg_p_nom_minmax.csv&quot;, &quot;operational_reserve&quot;: {&quot;activate&quot;: false, &quot;epsilon_load&quot;: 0.02, &quot;epsilon_vres&quot;: 0.02, &quot;contingency&quot;: 4000}, &quot;max_hours&quot;: {&quot;battery&quot;: 6, &quot;H2&quot;: 168}, &quot;extendable_carriers&quot;: {&quot;Generator&quot;: [], &quot;StorageUnit&quot;: [], &quot;Store&quot;: [&quot;battery&quot;, &quot;H2&quot;], &quot;Link&quot;: [&quot;H2 pipeline&quot;]}, &quot;powerplants_filter&quot;: &quot;(DateOut &gt;= 2022 or DateOut != DateOut)&quot;, &quot;custom_powerplants&quot;: false, &quot;conventional_carriers&quot;: [&quot;nuclear&quot;, &quot;oil&quot;, &quot;OCGT&quot;, &quot;CCGT&quot;, &quot;coal&quot;, &quot;lignite&quot;, &quot;geothermal&quot;, &quot;biomass&quot;], &quot;renewable_carriers&quot;: [&quot;solar&quot;, &quot;onwind&quot;, &quot;offwind-ac&quot;, &quot;offwind-dc&quot;, &quot;hydro&quot;], &quot;estimate_renewable_capacities&quot;: {&quot;enable&quot;: false, &quot;from_opsd&quot;: true, &quot;year&quot;: 2020, &quot;expansion_limit&quot;: false, &quot;technology_mapping&quot;: {&quot;Offshore&quot;: [&quot;offwind-ac&quot;, &quot;offwind-dc&quot;], &quot;Onshore&quot;: [&quot;onwind&quot;], &quot;PV&quot;: [&quot;solar&quot;]}}, &quot;voltage_simplified&quot;: 230}, &quot;atlite&quot;: {&quot;nprocesses&quot;: 4, &quot;cutouts&quot;: {&quot;europe-2013-era5&quot;: {&quot;module&quot;: &quot;era5&quot;, &quot;x&quot;: [-12.0, 35.0], &quot;y&quot;: [33.0, 72], &quot;dx&quot;: 0.3, &quot;dy&quot;: 0.3, &quot;time&quot;: [&quot;2013&quot;, &quot;2013&quot;]}, &quot;europe-2013-sarah&quot;: {&quot;module&quot;: [&quot;sarah&quot;, &quot;era5&quot;], &quot;x&quot;: [-12.0, 45.0], &quot;y&quot;: [33.0, 65], &quot;dx&quot;: 0.2, &quot;dy&quot;: 0.2, &quot;time&quot;: [&quot;2013&quot;, &quot;2013&quot;], &quot;sarah_interpolate&quot;: false, &quot;sarah_dir&quot;: null, &quot;features&quot;: [&quot;influx&quot;, &quot;temperature&quot;]}}}, &quot;renewable&quot;: {&quot;onwind&quot;: {&quot;cutout&quot;: &quot;europe-2013-era5&quot;, &quot;resource&quot;: {&quot;method&quot;: &quot;wind&quot;, &quot;turbine&quot;: &quot;Vestas_V112_3MW&quot;}, &quot;capacity_per_sqkm&quot;: 3, &quot;corine&quot;: {&quot;grid_codes&quot;: [12, 13, 14, 15, 16, 17, 18, 19, 20, 21, 22, 23, 24, 25, 26, 27, 28, 29, 31, 32], &quot;distance&quot;: 1000, &quot;distance_grid_codes&quot;: [1, 2, 3, 4, 5, 6]}, &quot;natura&quot;: true, &quot;excluder_resolution&quot;: 100, &quot;potential&quot;: &quot;simple&quot;, &quot;clip_p_max_pu&quot;: 0.01}, &quot;offwind-ac&quot;: {&quot;cutout&quot;: &quot;europe-2013-era5&quot;, &quot;resource&quot;: {&quot;method&quot;: &quot;wind&quot;, &quot;turbine&quot;: &quot;NREL_ReferenceTurbine_5MW_offshore&quot;}, &quot;capacity_per_sqkm&quot;: 2, &quot;correction_factor&quot;: 0.8855, &quot;corine&quot;: [44, 255], &quot;natura&quot;: true, &quot;ship_threshold&quot;: 400, &quot;max_depth&quot;: 50, &quot;max_shore_distance&quot;: 30000, &quot;excluder_resolution&quot;: 200, &quot;potential&quot;: &quot;simple&quot;, &quot;clip_p_max_pu&quot;: 0.01}, &quot;offwind-dc&quot;: {&quot;cutout&quot;: &quot;europe-2013-era5&quot;, &quot;resource&quot;: {&quot;method&quot;: &quot;wind&quot;, &quot;turbine&quot;: &quot;NREL_ReferenceTurbine_5MW_offshore&quot;}, &quot;capacity_per_sqkm&quot;: 2, &quot;correction_factor&quot;: 0.8855, &quot;corine&quot;: [44, 255], &quot;natura&quot;: true, &quot;ship_threshold&quot;: 400, &quot;max_depth&quot;: 50, &quot;min_shore_distance&quot;: 30000, &quot;excluder_resolution&quot;: 200, &quot;potential&quot;: &quot;simple&quot;, &quot;clip_p_max_pu&quot;: 0.01}, &quot;solar&quot;: {&quot;cutout&quot;: &quot;europe-2013-sarah&quot;, &quot;resource&quot;: {&quot;method&quot;: &quot;pv&quot;, &quot;panel&quot;: &quot;CSi&quot;, &quot;orientation&quot;: {&quot;slope&quot;: 35.0, &quot;azimuth&quot;: 180.0}}, &quot;capacity_per_sqkm&quot;: 1.7, &quot;corine&quot;: [1, 2, 3, 4, 5, 6, 7, 8, 9, 10, 11, 12, 13, 14, 15, 16, 17, 18, 19, 20, 26, 31, 32], &quot;natura&quot;: true, &quot;excluder_resolution&quot;: 100, &quot;potential&quot;: &quot;simple&quot;, &quot;clip_p_max_pu&quot;: 0.01}, &quot;hydro&quot;: {&quot;cutout&quot;: &quot;europe-2013-era5&quot;, &quot;carriers&quot;: [&quot;ror&quot;, &quot;PHS&quot;, &quot;hydro&quot;], &quot;PHS_max_hours&quot;: 6, &quot;hydro_max_hours&quot;: &quot;energy_capacity_totals_by_country&quot;, &quot;clip_min_inflow&quot;: 1.0, &quot;potential&quot;: &quot;simple&quot;}, &quot;wind&quot;: {&quot;potential&quot;: &quot;simple&quot;}}, &quot;conventional&quot;: {&quot;nuclear&quot;: {&quot;p_max_pu&quot;: &quot;data/nuclear_p_max_pu.csv&quot;}}, &quot;lines&quot;: {&quot;types&quot;: {&quot;220.0&quot;: &quot;Al/St 240/40 2-bundle 220.0&quot;, &quot;300.0&quot;: &quot;Al/St 240/40 3-bundle 300.0&quot;, &quot;380.0&quot;: &quot;Al/St 240/40 4-bundle 380.0&quot;}, &quot;s_max_pu&quot;: 0.7, &quot;s_nom_max&quot;: Infinity, &quot;length_factor&quot;: 1.25, &quot;under_construction&quot;: &quot;zero&quot;}, &quot;links&quot;: {&quot;p_max_pu&quot;: 1.0, &quot;p_nom_max&quot;: Infinity, &quot;include_tyndp&quot;: true, &quot;under_construction&quot;: &quot;zero&quot;}, &quot;transformers&quot;: {&quot;x&quot;: 0.1, &quot;s_nom&quot;: 2000.0, &quot;type&quot;: &quot;&quot;}, &quot;load&quot;: {&quot;power_statistics&quot;: true, &quot;interpolate_limit&quot;: 3, &quot;time_shift_for_large_gaps&quot;: &quot;1w&quot;, &quot;manual_adjustments&quot;: true, &quot;scaling_factor&quot;: 1.0}, &quot;costs&quot;: {&quot;year&quot;: 2030, &quot;version&quot;: &quot;v0.4.0&quot;, &quot;rooftop_share&quot;: 0.14, &quot;fill_values&quot;: {&quot;FOM&quot;: 0, &quot;VOM&quot;: 0, &quot;efficiency&quot;: 1, &quot;fuel&quot;: 0, &quot;investment&quot;: 0, &quot;lifetime&quot;: 25, &quot;CO2 intensity&quot;: 0, &quot;discount rate&quot;: 0.07}, &quot;marginal_cost&quot;: {&quot;solar&quot;: 0.01, &quot;onwind&quot;: 0.015, &quot;offwind&quot;: 0.015, &quot;hydro&quot;: 0.0, &quot;H2&quot;: 0.0, &quot;electrolysis&quot;: 0.0, &quot;fuel cell&quot;: 0.0, &quot;battery&quot;: 0.0, &quot;battery inverter&quot;: 0.0}, &quot;emission_prices&quot;: {&quot;co2&quot;: 0.0}}, &quot;clustering&quot;: {&quot;simplify_network&quot;: {&quot;to_substations&quot;: false, &quot;algorithm&quot;: &quot;kmeans&quot;, &quot;feature&quot;: &quot;solar+onwind-time&quot;}, &quot;cluster_network&quot;: {&quot;algorithm&quot;: &quot;kmeans&quot;, &quot;feature&quot;: &quot;solar+onwind-time&quot;}, &quot;aggregation_strategies&quot;: {&quot;generators&quot;: {&quot;p_nom_max&quot;: &quot;sum&quot;, &quot;p_nom_min&quot;: &quot;sum&quot;, &quot;p_min_pu&quot;: &quot;mean&quot;, &quot;marginal_cost&quot;: &quot;mean&quot;, &quot;committable&quot;: &quot;any&quot;, &quot;ramp_limit_up&quot;: &quot;max&quot;, &quot;ramp_limit_down&quot;: &quot;max&quot;, &quot;efficiency&quot;: &quot;mean&quot;}}}, &quot;solving&quot;: {&quot;options&quot;: {&quot;formulation&quot;: &quot;kirchhoff&quot;, &quot;load_shedding&quot;: false, &quot;noisy_costs&quot;: true, &quot;min_iterations&quot;: 4, &quot;max_iterations&quot;: 6, &quot;clip_p_max_pu&quot;: 0.01, &quot;skip_iterations&quot;: true, &quot;track_iterations&quot;: false}, &quot;solver&quot;: {&quot;name&quot;: &quot;gurobi&quot;, &quot;threads&quot;: 4, &quot;method&quot;: 2, &quot;crossover&quot;: 0, &quot;BarConvTol&quot;: 1e-05, &quot;FeasibilityTol&quot;: 1e-06, &quot;AggFill&quot;: 0, &quot;PreDual&quot;: 0, &quot;GURO_PAR_BARDENSETHRESH&quot;: 200}}, &quot;plotting&quot;: {&quot;map&quot;: {&quot;figsize&quot;: [7, 7], &quot;boundaries&quot;: [-10.2, 29, 35, 72], &quot;p_nom&quot;: {&quot;bus_size_factor&quot;: 50000.0, &quot;linewidth_factor&quot;: 3000.0}}, &quot;costs_max&quot;: 800, &quot;costs_threshold&quot;: 1, &quot;energy_max&quot;: 15000.0, &quot;energy_min&quot;: -10000.0, &quot;energy_threshold&quot;: 50.0, &quot;vre_techs&quot;: [&quot;onwind&quot;, &quot;offwind-ac&quot;, &quot;offwind-dc&quot;, &quot;solar&quot;, &quot;ror&quot;], &quot;conv_techs&quot;: [&quot;OCGT&quot;, &quot;CCGT&quot;, &quot;Nuclear&quot;, &quot;Coal&quot;], &quot;storage_techs&quot;: [&quot;hydro+PHS&quot;, &quot;battery&quot;, &quot;H2&quot;], &quot;load_carriers&quot;: [&quot;AC load&quot;], &quot;AC_carriers&quot;: [&quot;AC line&quot;, &quot;AC transformer&quot;], &quot;link_carriers&quot;: [&quot;DC line&quot;, &quot;Converter AC-DC&quot;], &quot;tech_colors&quot;: {&quot;onwind&quot;: &quot;#235ebc&quot;, &quot;onshore wind&quot;: &quot;#235ebc&quot;, &quot;offwind&quot;: &quot;#6895dd&quot;, &quot;offwind-ac&quot;: &quot;#6895dd&quot;, &quot;offshore wind&quot;: &quot;#6895dd&quot;, &quot;offshore wind ac&quot;: &quot;#6895dd&quot;, &quot;offwind-dc&quot;: &quot;#74c6f2&quot;, &quot;offshore wind dc&quot;: &quot;#74c6f2&quot;, &quot;hydro&quot;: &quot;#08ad97&quot;, &quot;hydro+PHS&quot;: &quot;#08ad97&quot;, &quot;PHS&quot;: &quot;#08ad97&quot;, &quot;hydro reservoir&quot;: &quot;#08ad97&quot;, &quot;hydroelectricity&quot;: &quot;#08ad97&quot;, &quot;ror&quot;: &quot;#4adbc8&quot;, &quot;run of river&quot;: &quot;#4adbc8&quot;, &quot;solar&quot;: &quot;#f9d002&quot;, &quot;solar PV&quot;: &quot;#f9d002&quot;, &quot;solar thermal&quot;: &quot;#ffef60&quot;, &quot;biomass&quot;: &quot;#0c6013&quot;, &quot;solid biomass&quot;: &quot;#06540d&quot;, &quot;biogas&quot;: &quot;#23932d&quot;, &quot;waste&quot;: &quot;#68896b&quot;, &quot;geothermal&quot;: &quot;#ba91b1&quot;, &quot;OCGT&quot;: &quot;#d35050&quot;, &quot;gas&quot;: &quot;#d35050&quot;, &quot;natural gas&quot;: &quot;#d35050&quot;, &quot;CCGT&quot;: &quot;#b20101&quot;, &quot;nuclear&quot;: &quot;#ff9000&quot;, &quot;coal&quot;: &quot;#707070&quot;, &quot;lignite&quot;: &quot;#9e5a01&quot;, &quot;oil&quot;: &quot;#262626&quot;, &quot;H2&quot;: &quot;#ea048a&quot;, &quot;hydrogen storage&quot;: &quot;#ea048a&quot;, &quot;battery&quot;: &quot;#b8ea04&quot;, &quot;Electric load&quot;: &quot;#f9d002&quot;, &quot;electricity&quot;: &quot;#f9d002&quot;, &quot;lines&quot;: &quot;#70af1d&quot;, &quot;transmission lines&quot;: &quot;#70af1d&quot;, &quot;AC-AC&quot;: &quot;#70af1d&quot;, &quot;AC line&quot;: &quot;#70af1d&quot;, &quot;links&quot;: &quot;#8a1caf&quot;, &quot;HVDC links&quot;: &quot;#8a1caf&quot;, &quot;DC-DC&quot;: &quot;#8a1caf&quot;, &quot;DC link&quot;: &quot;#8a1caf&quot;}, &quot;nice_names&quot;: {&quot;OCGT&quot;: &quot;Open-Cycle Gas&quot;, &quot;CCGT&quot;: &quot;Combined-Cycle Gas&quot;, &quot;offwind-ac&quot;: &quot;Offshore Wind (AC)&quot;, &quot;offwind-dc&quot;: &quot;Offshore Wind (DC)&quot;, &quot;onwind&quot;: &quot;Onshore Wind&quot;, &quot;solar&quot;: &quot;Solar&quot;, &quot;PHS&quot;: &quot;Pumped Hydro Storage&quot;, &quot;hydro&quot;: &quot;Reservoir &amp; Dam&quot;, &quot;battery&quot;: &quot;Battery Storage&quot;, &quot;H2&quot;: &quot;Hydrogen Storage&quot;, &quot;lines&quot;: &quot;Transmission Lines&quot;, &quot;ror&quot;: &quot;Run of River&quot;}}, &quot;scenarios&quot;: {&quot;all&quot;: {&quot;interconnect&quot;: &quot;western&quot;, &quot;clusters&quot;: 50, &quot;opts&quot;: [&quot;Co2L1.0&quot;], &quot;ll&quot;: [&quot;vopt&quot;]}, &quot;test&quot;: {&quot;interconnect&quot;: &quot;texas&quot;, &quot;clusters&quot;: 5, &quot;opts&quot;: [&quot;Co2L1.0&quot;], &quot;ll&quot;: &quot;v1.0&quot;}}, &quot;subworkflow&quot;: &quot;pypsa-eur/&quot;, &quot;zenodo_repository&quot;: {&quot;url&quot;: &quot;https://zenodo.org/record/4538590/files/USATestSystem.zip&quot;, &quot;use&quot;: true}, &quot;offshore&quot;: &quot;ca&quot;, &quot;offshore_nrel&quot;: {&quot;path&quot;: &quot;geodata_repo/Offshore_Wind_Speed_90m/Offshore_Wind_Speed_90m.shp&quot;}, &quot;offshore_ca&quot;: {&quot;path&quot;: &quot;geodata_repo/BOEM_CA_OSW_GIS/CA_OSW_BOEM_CallAreas.shp&quot;}, &quot;offshore_weathergov&quot;: {&quot;path&quot;: &quot;https://www.weather.gov/source/gis/Shapefiles/WSOM/oz22mr22.zip&quot;}, &quot;use_state_shapes&quot;: true, &quot;balancing_authorities&quot;: {&quot;use&quot;: true, &quot;path&quot;: &quot;geodata_repo/BE_BA_shapes/remap_ba_area.shp&quot;}, &quot;states&quot;: [&quot;AEC&quot;, &quot;AECI&quot;, &quot;AVA&quot;, &quot;Arizona&quot;, &quot;BANC&quot;, &quot;BPAT&quot;, &quot;CHPD&quot;, &quot;CISO-PGAE&quot;, &quot;CISO-SCE&quot;, &quot;CISO-SDGE&quot;, &quot;CISO-VEA&quot;, &quot;SPP-CSWS&quot;, &quot;Carolina&quot;, &quot;DOPD&quot;, &quot;SPP-EDE&quot;, &quot;EPE&quot;, &quot;ERCO-C&quot;, &quot;ERCO-E&quot;, &quot;ERCO-FW&quot;, &quot;ERCO-N&quot;, &quot;ERCO-NC&quot;, &quot;ERCO-S&quot;, &quot;ERCO-SC&quot;, &quot;ERCO-W&quot;, &quot;Florida&quot;, &quot;GCPD&quot;, &quot;SPP-GRDA&quot;, &quot;GRID&quot;, &quot;IID&quot;, &quot;IPCO&quot;, &quot;ISONE-Connecticut&quot;, &quot;ISONE-Maine&quot;, &quot;ISONE-Massachusetts&quot;, &quot;ISONE-New Hampshire&quot;, &quot;ISONE-Rhode Island&quot;, &quot;ISONE-Vermont&quot;, &quot;SPP-KACY&quot;, &quot;SPP-KCPL&quot;, &quot;LADWP&quot;, &quot;SPP-LES&quot;, &quot;MISO-0001&quot;, &quot;MISO-0027&quot;, &quot;MISO-0035&quot;, &quot;MISO-0004&quot;, &quot;MISO-0006&quot;, &quot;MISO-8910&quot;, &quot;SPP-MPS&quot;, &quot;MT_west&quot;, &quot;NEVP&quot;, &quot;SPP-NPPD&quot;, &quot;NYISO-A&quot;, &quot;NYISO-B&quot;, &quot;NYISO-C&quot;, &quot;NYISO-D&quot;, &quot;NYISO-E&quot;, &quot;NYISO-F&quot;, &quot;NYISO-G&quot;, &quot;NYISO-H&quot;, &quot;NYISO-I&quot;, &quot;NYISO-J&quot;, &quot;NYISO-K&quot;, &quot;SPP-OKGE&quot;, &quot;SPP-OPPD&quot;, &quot;PACE&quot;, &quot;PACW&quot;, &quot;PGE&quot;, &quot;PJM_AE&quot;, &quot;PJM_AEP&quot;, &quot;PJM_AP&quot;, &quot;PJM_ATSI&quot;, &quot;PJM_BGE&quot;, &quot;PJM_ComEd&quot;, &quot;PJM_DAY&quot;, &quot;PJM_DEO&amp;K&quot;, &quot;PJM_DLCO&quot;, &quot;PJM_DP&amp;L&quot;, &quot;PJM_Dominion&quot;, &quot;PJM_EKPC&quot;, &quot;PJM_JCP&amp;L&quot;, &quot;PJM_METED&quot;, &quot;PJM_PECO&quot;, &quot;PJM_PENELEC&quot;, &quot;PJM_PEPCO&quot;, &quot;PJM_PPL&quot;, &quot;PJM_PSEG&quot;, &quot;PJM_RECO&quot;, &quot;PNM&quot;, &quot;PSCO&quot;, &quot;PSEI&quot;, &quot;SPP-SECI&quot;, &quot;SOCO&quot;, &quot;SPP-SPRM&quot;, &quot;SPP-SPS&quot;, &quot;TEPC&quot;, &quot;TID&quot;, &quot;TVA&quot;, &quot;WACM&quot;, &quot;WALC&quot;, &quot;SPP-WAUE&quot;, &quot;SPP-WFEC&quot;, &quot;SPP-WR&quot;], &quot;allowed_carriers&quot;: [&quot;wind&quot;, &quot;solar&quot;, &quot;offwind&quot;, &quot;hydro&quot;, &quot;coal&quot;, &quot;nuclear&quot;, &quot;ng&quot;, &quot;oil&quot;, &quot;geothermal&quot;], &quot;committable_carriers&quot;: [], &quot;extendable_carriers&quot;: [&quot;solar&quot;, &quot;wind&quot;, &quot;offwind&quot;], &quot;cluster&quot;: &quot;&quot;, &quot;wildcards&quot;: {&quot;interconnect&quot;: &quot;western&quot;, &quot;clusters&quot;: &quot;50&quot;}}</dd></dl></div></li></ul></div></div>"
      ],
      "text/plain": [
       "<xarray.Dataset>\n",
       "Dimensions:                       (snapshots: 8784, investment_periods: 0,\n",
       "                                   carriers_i: 9, links_i: 2, links_t_p0_i: 2,\n",
       "                                   links_t_p1_i: 2, links_t_mu_lower_i: 2,\n",
       "                                   links_t_mu_upper_i: 2, loads_i: 50,\n",
       "                                   loads_t_p_set_i: 50, loads_t_p_i: 50,\n",
       "                                   generators_i: 160,\n",
       "                                   ...\n",
       "                                   generators_t_p_i: 144, lines_i: 128,\n",
       "                                   lines_t_p0_i: 128, lines_t_p1_i: 128,\n",
       "                                   lines_t_mu_lower_i: 15,\n",
       "                                   lines_t_mu_upper_i: 15, buses_i: 50,\n",
       "                                   buses_t_p_i: 50, buses_t_v_ang_i: 50,\n",
       "                                   buses_t_marginal_price_i: 50)\n",
       "Coordinates: (12/24)\n",
       "  * snapshots                     (snapshots) int64 0 1 2 3 ... 8781 8782 8783\n",
       "  * investment_periods            (investment_periods) float64 \n",
       "  * carriers_i                    (carriers_i) object 'solar' ... 'oil'\n",
       "  * links_i                       (links_i) object '9' '10'\n",
       "  * links_t_p0_i                  (links_t_p0_i) object '9' '10'\n",
       "  * links_t_p1_i                  (links_t_p1_i) object '9' '10'\n",
       "    ...                            ...\n",
       "  * lines_t_mu_lower_i            (lines_t_mu_lower_i) object '10' ... '128'\n",
       "  * lines_t_mu_upper_i            (lines_t_mu_upper_i) object '10' ... '118'\n",
       "  * buses_i                       (buses_i) object 'AVA0 0' ... 'WALC0 0'\n",
       "  * buses_t_p_i                   (buses_t_p_i) object 'AVA0 0' ... 'WALC0 0'\n",
       "  * buses_t_v_ang_i               (buses_t_v_ang_i) object 'AVA0 0' ... 'WALC...\n",
       "  * buses_t_marginal_price_i      (buses_t_marginal_price_i) object 'AVA0 0' ...\n",
       "Data variables: (12/63)\n",
       "    snapshots_snapshot            (snapshots) datetime64[ns] 2016-01-01 ... 2...\n",
       "    snapshots_objective           (snapshots) float64 1.0 1.0 1.0 ... 1.0 1.0\n",
       "    snapshots_generators          (snapshots) float64 1.0 1.0 1.0 ... 1.0 1.0\n",
       "    snapshots_stores              (snapshots) float64 1.0 1.0 1.0 ... 1.0 1.0\n",
       "    investment_periods_objective  (investment_periods) float64 \n",
       "    investment_periods_years      (investment_periods) float64 \n",
       "    ...                            ...\n",
       "    buses_country                 (buses_i) object 'AVA' 'Arizona' ... 'WALC'\n",
       "    buses_control                 (buses_i) object 'Slack' 'PQ' ... 'PQ' 'PQ'\n",
       "    buses_generator               (buses_i) object 'AVA0 0 hydro' '' ... '' ''\n",
       "    buses_t_p                     (snapshots, buses_t_p_i) float64 -900.9 ......\n",
       "    buses_t_v_ang                 (snapshots, buses_t_v_ang_i) float64 -0.118...\n",
       "    buses_t_marginal_price        (snapshots, buses_t_marginal_price_i) float64 ...\n",
       "Attributes:\n",
       "    network__cCounter:           6227857\n",
       "    network__multi_invest:       0\n",
       "    network__xCounter:           2547420\n",
       "    network_max_memusage:        3125465088\n",
       "    network_name:                \n",
       "    network_objective:           8783072020.072104\n",
       "    network_objective_constant:  2591285865.223094\n",
       "    network_pypsa_version:       0.21.1\n",
       "    network_srid:                4326\n",
       "    meta:                        {\"version\": \"0.5.0\", \"tutorial\": false, \"log..."
      ]
     },
     "execution_count": 93,
     "metadata": {},
     "output_type": "execute_result"
    }
   ],
   "source": [
    "# network.export_to_netcdf('Solved_Network_WECC.nc')"
   ]
  },
  {
   "cell_type": "code",
   "execution_count": null,
   "metadata": {},
   "outputs": [],
   "source": []
  }
 ],
 "metadata": {
  "kernelspec": {
   "display_name": "pypsa-usa",
   "language": "python",
   "name": "python3"
  },
  "language_info": {
   "codemirror_mode": {
    "name": "ipython",
    "version": 3
   },
   "file_extension": ".py",
   "mimetype": "text/x-python",
   "name": "python",
   "nbconvert_exporter": "python",
   "pygments_lexer": "ipython3",
   "version": "3.10.7"
  },
  "orig_nbformat": 4,
  "vscode": {
   "interpreter": {
    "hash": "b6bdd5e882f535feb344ce086532ddd4b6f6706ae5567e7578a2e2080ae1e3a2"
   }
  }
 },
 "nbformat": 4,
 "nbformat_minor": 2
}
