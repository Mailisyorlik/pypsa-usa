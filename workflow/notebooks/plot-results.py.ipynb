{
 "cells": [
  {
   "cell_type": "code",
   "execution_count": 1,
   "id": "43e0aa42",
   "metadata": {
    "execution": {
     "iopub.execute_input": "2022-09-08T21:18:38.180961Z",
     "iopub.status.busy": "2022-09-08T21:18:38.180564Z",
     "iopub.status.idle": "2022-09-08T21:18:38.265746Z",
     "shell.execute_reply": "2022-09-08T21:18:38.265221Z"
    },
    "tags": []
   },
   "outputs": [
    {
     "data": {
      "text/plain": [
       "'/Users/kamrantehranchi/Library/CloudStorage/OneDrive-Stanford/Kamran_OSW/PyPSA_Models/pypsa-breakthroughenergy-usa/workflow'"
      ]
     },
     "execution_count": 1,
     "metadata": {},
     "output_type": "execute_result"
    }
   ],
   "source": [
    "######## snakemake preamble start (automatically inserted, do not edit) ########\n",
    "import sys\n",
    "import os\n",
    "\n",
    "from snakemake.logging import logger\n",
    "\n",
    "logger.printshellcmds = False\n",
    "\n",
    "os.chdir(os.getcwd())\n",
    "\n",
    "######## snakemake preamble end #########"
   ]
  },
  {
   "cell_type": "code",
   "execution_count": null,
   "id": "12be1b70",
   "metadata": {
    "execution": {
     "iopub.execute_input": "2022-09-08T21:18:38.268053Z",
     "iopub.status.busy": "2022-09-08T21:18:38.267905Z",
     "iopub.status.idle": "2022-09-08T21:18:38.270827Z",
     "shell.execute_reply": "2022-09-08T21:18:38.270255Z"
    }
   },
   "outputs": [],
   "source": [
    "# start coding here"
   ]
  },
  {
   "cell_type": "code",
   "execution_count": 3,
   "id": "4c6fddcc",
   "metadata": {
    "execution": {
     "iopub.execute_input": "2022-09-08T21:18:38.272742Z",
     "iopub.status.busy": "2022-09-08T21:18:38.272599Z",
     "iopub.status.idle": "2022-09-08T21:18:40.438558Z",
     "shell.execute_reply": "2022-09-08T21:18:40.437977Z"
    }
   },
   "outputs": [
    {
     "name": "stderr",
     "output_type": "stream",
     "text": [
      "/Users/kamrantehranchi/opt/miniconda3/envs/pypsa-usa/lib/python3.10/site-packages/geopandas/_compat.py:123: UserWarning:\n",
      "\n",
      "The Shapely GEOS version (3.11.1-CAPI-1.17.1) is incompatible with the GEOS version PyGEOS was compiled with (3.10.4-CAPI-1.16.2). Conversions between both will be slow.\n",
      "\n"
     ]
    }
   ],
   "source": [
    "import pypsa\n",
    "import matplotlib.pyplot as plt\n",
    "import geopandas as gpd\n",
    "import numpy as np\n",
    "import pandas as pd\n",
    "from pathlib import Path\n",
    "import seaborn as sns\n",
    "from datetime import datetime\n",
    "from cartopy import crs as ccrs\n",
    "from pypsa.plot import add_legend_circles, add_legend_lines, add_legend_patches"
   ]
  },
  {
   "cell_type": "code",
   "execution_count": 4,
   "id": "745c8c97",
   "metadata": {
    "execution": {
     "iopub.execute_input": "2022-09-08T21:18:40.441430Z",
     "iopub.status.busy": "2022-09-08T21:18:40.441119Z",
     "iopub.status.idle": "2022-09-08T21:18:40.444867Z",
     "shell.execute_reply": "2022-09-08T21:18:40.444248Z"
    }
   },
   "outputs": [],
   "source": [
    "sns.set_theme(\"paper\", style=\"darkgrid\")"
   ]
  },
  {
   "cell_type": "code",
   "execution_count": 5,
   "id": "19cf8141",
   "metadata": {
    "execution": {
     "iopub.execute_input": "2022-09-08T21:18:40.447065Z",
     "iopub.status.busy": "2022-09-08T21:18:40.446877Z",
     "iopub.status.idle": "2022-09-08T21:18:43.737285Z",
     "shell.execute_reply": "2022-09-08T21:18:43.736735Z"
    }
   },
   "outputs": [
    {
     "ename": "FileNotFoundError",
     "evalue": "[Errno 2] No such file or directory: b'/Users/kamrantehranchi/Library/CloudStorage/OneDrive-Stanford/Kamran_OSW/PyPSA_Models/pypsa-breakthroughenergy-usa/results/usa/networks/elec_s_200_ec_lv1.1_Co2L0.5.nc'",
     "output_type": "error",
     "traceback": [
      "\u001b[0;31m---------------------------------------------------------------------------\u001b[0m",
      "\u001b[0;31mKeyError\u001b[0m                                  Traceback (most recent call last)",
      "File \u001b[0;32m~/opt/miniconda3/envs/pypsa-usa/lib/python3.10/site-packages/xarray/backends/file_manager.py:199\u001b[0m, in \u001b[0;36mCachingFileManager._acquire_with_cache_info\u001b[0;34m(self, needs_lock)\u001b[0m\n\u001b[1;32m    198\u001b[0m \u001b[39mtry\u001b[39;00m:\n\u001b[0;32m--> 199\u001b[0m     file \u001b[39m=\u001b[39m \u001b[39mself\u001b[39;49m\u001b[39m.\u001b[39;49m_cache[\u001b[39mself\u001b[39;49m\u001b[39m.\u001b[39;49m_key]\n\u001b[1;32m    200\u001b[0m \u001b[39mexcept\u001b[39;00m \u001b[39mKeyError\u001b[39;00m:\n",
      "File \u001b[0;32m~/opt/miniconda3/envs/pypsa-usa/lib/python3.10/site-packages/xarray/backends/lru_cache.py:53\u001b[0m, in \u001b[0;36mLRUCache.__getitem__\u001b[0;34m(self, key)\u001b[0m\n\u001b[1;32m     52\u001b[0m \u001b[39mwith\u001b[39;00m \u001b[39mself\u001b[39m\u001b[39m.\u001b[39m_lock:\n\u001b[0;32m---> 53\u001b[0m     value \u001b[39m=\u001b[39m \u001b[39mself\u001b[39;49m\u001b[39m.\u001b[39;49m_cache[key]\n\u001b[1;32m     54\u001b[0m     \u001b[39mself\u001b[39m\u001b[39m.\u001b[39m_cache\u001b[39m.\u001b[39mmove_to_end(key)\n",
      "\u001b[0;31mKeyError\u001b[0m: [<class 'netCDF4._netCDF4.Dataset'>, ('/Users/kamrantehranchi/Library/CloudStorage/OneDrive-Stanford/Kamran_OSW/PyPSA_Models/pypsa-breakthroughenergy-usa/results/usa/networks/elec_s_200_ec_lv1.1_Co2L0.5.nc',), 'r', (('clobber', True), ('diskless', False), ('format', 'NETCDF4'), ('persist', False))]",
      "\nDuring handling of the above exception, another exception occurred:\n",
      "\u001b[0;31mFileNotFoundError\u001b[0m                         Traceback (most recent call last)",
      "\u001b[1;32m/Users/kamrantehranchi/Library/CloudStorage/OneDrive-Stanford/Kamran_OSW/PyPSA_Models/pypsa-breakthroughenergy-usa/workflow/notebooks/plot-results.py.ipynb Cell 5\u001b[0m in \u001b[0;36m1\n\u001b[0;32m----> <a href='vscode-notebook-cell:/Users/kamrantehranchi/Library/CloudStorage/OneDrive-Stanford/Kamran_OSW/PyPSA_Models/pypsa-breakthroughenergy-usa/workflow/notebooks/plot-results.py.ipynb#W4sZmlsZQ%3D%3D?line=0'>1</a>\u001b[0m n \u001b[39m=\u001b[39m pypsa\u001b[39m.\u001b[39;49mNetwork(snakemake\u001b[39m.\u001b[39;49minput\u001b[39m.\u001b[39;49mnetwork)\n\u001b[1;32m      <a href='vscode-notebook-cell:/Users/kamrantehranchi/Library/CloudStorage/OneDrive-Stanford/Kamran_OSW/PyPSA_Models/pypsa-breakthroughenergy-usa/workflow/notebooks/plot-results.py.ipynb#W4sZmlsZQ%3D%3D?line=1'>2</a>\u001b[0m regions_onshore \u001b[39m=\u001b[39m gpd\u001b[39m.\u001b[39mread_file(snakemake\u001b[39m.\u001b[39minput\u001b[39m.\u001b[39mregions_onshore)\n",
      "File \u001b[0;32m~/opt/miniconda3/envs/pypsa-usa/lib/python3.10/site-packages/pypsa/components.py:340\u001b[0m, in \u001b[0;36mNetwork.__init__\u001b[0;34m(self, import_name, name, ignore_standard_types, override_components, override_component_attrs, **kwargs)\u001b[0m\n\u001b[1;32m    338\u001b[0m     \u001b[39mself\u001b[39m\u001b[39m.\u001b[39mimport_from_hdf5(import_name)\n\u001b[1;32m    339\u001b[0m \u001b[39melif\u001b[39;00m import_name\u001b[39m.\u001b[39msuffix \u001b[39m==\u001b[39m \u001b[39m\"\u001b[39m\u001b[39m.nc\u001b[39m\u001b[39m\"\u001b[39m:\n\u001b[0;32m--> 340\u001b[0m     \u001b[39mself\u001b[39;49m\u001b[39m.\u001b[39;49mimport_from_netcdf(import_name)\n\u001b[1;32m    341\u001b[0m \u001b[39melif\u001b[39;00m import_name\u001b[39m.\u001b[39mis_dir():\n\u001b[1;32m    342\u001b[0m     \u001b[39mself\u001b[39m\u001b[39m.\u001b[39mimport_from_csv_folder(import_name)\n",
      "File \u001b[0;32m~/opt/miniconda3/envs/pypsa-usa/lib/python3.10/site-packages/pypsa/io.py:617\u001b[0m, in \u001b[0;36mimport_from_netcdf\u001b[0;34m(network, path, skip_time)\u001b[0m\n\u001b[1;32m    614\u001b[0m \u001b[39massert\u001b[39;00m has_xarray, \u001b[39m\"\u001b[39m\u001b[39mxarray must be installed for netCDF support.\u001b[39m\u001b[39m\"\u001b[39m\n\u001b[1;32m    616\u001b[0m basename \u001b[39m=\u001b[39m Path(path)\u001b[39m.\u001b[39mname\n\u001b[0;32m--> 617\u001b[0m \u001b[39mwith\u001b[39;00m ImporterNetCDF(path\u001b[39m=\u001b[39;49mpath) \u001b[39mas\u001b[39;00m importer:\n\u001b[1;32m    618\u001b[0m     _import_from_importer(network, importer, basename\u001b[39m=\u001b[39mbasename, skip_time\u001b[39m=\u001b[39mskip_time)\n",
      "File \u001b[0;32m~/opt/miniconda3/envs/pypsa-usa/lib/python3.10/site-packages/pypsa/io.py:264\u001b[0m, in \u001b[0;36mImporterNetCDF.__init__\u001b[0;34m(self, path)\u001b[0m\n\u001b[1;32m    262\u001b[0m \u001b[39mself\u001b[39m\u001b[39m.\u001b[39mpath \u001b[39m=\u001b[39m path\n\u001b[1;32m    263\u001b[0m \u001b[39mif\u001b[39;00m \u001b[39misinstance\u001b[39m(path, (\u001b[39mstr\u001b[39m, Path)):\n\u001b[0;32m--> 264\u001b[0m     \u001b[39mself\u001b[39m\u001b[39m.\u001b[39mds \u001b[39m=\u001b[39m xr\u001b[39m.\u001b[39;49mopen_dataset(path)\n\u001b[1;32m    265\u001b[0m \u001b[39melse\u001b[39;00m:\n\u001b[1;32m    266\u001b[0m     \u001b[39mself\u001b[39m\u001b[39m.\u001b[39mds \u001b[39m=\u001b[39m path\n",
      "File \u001b[0;32m~/opt/miniconda3/envs/pypsa-usa/lib/python3.10/site-packages/xarray/backends/api.py:495\u001b[0m, in \u001b[0;36mopen_dataset\u001b[0;34m(filename_or_obj, engine, chunks, cache, decode_cf, mask_and_scale, decode_times, decode_timedelta, use_cftime, concat_characters, decode_coords, drop_variables, backend_kwargs, *args, **kwargs)\u001b[0m\n\u001b[1;32m    483\u001b[0m decoders \u001b[39m=\u001b[39m _resolve_decoders_kwargs(\n\u001b[1;32m    484\u001b[0m     decode_cf,\n\u001b[1;32m    485\u001b[0m     open_backend_dataset_parameters\u001b[39m=\u001b[39mbackend\u001b[39m.\u001b[39mopen_dataset_parameters,\n\u001b[0;32m   (...)\u001b[0m\n\u001b[1;32m    491\u001b[0m     decode_coords\u001b[39m=\u001b[39mdecode_coords,\n\u001b[1;32m    492\u001b[0m )\n\u001b[1;32m    494\u001b[0m overwrite_encoded_chunks \u001b[39m=\u001b[39m kwargs\u001b[39m.\u001b[39mpop(\u001b[39m\"\u001b[39m\u001b[39moverwrite_encoded_chunks\u001b[39m\u001b[39m\"\u001b[39m, \u001b[39mNone\u001b[39;00m)\n\u001b[0;32m--> 495\u001b[0m backend_ds \u001b[39m=\u001b[39m backend\u001b[39m.\u001b[39;49mopen_dataset(\n\u001b[1;32m    496\u001b[0m     filename_or_obj,\n\u001b[1;32m    497\u001b[0m     drop_variables\u001b[39m=\u001b[39;49mdrop_variables,\n\u001b[1;32m    498\u001b[0m     \u001b[39m*\u001b[39;49m\u001b[39m*\u001b[39;49mdecoders,\n\u001b[1;32m    499\u001b[0m     \u001b[39m*\u001b[39;49m\u001b[39m*\u001b[39;49mkwargs,\n\u001b[1;32m    500\u001b[0m )\n\u001b[1;32m    501\u001b[0m ds \u001b[39m=\u001b[39m _dataset_from_backend_dataset(\n\u001b[1;32m    502\u001b[0m     backend_ds,\n\u001b[1;32m    503\u001b[0m     filename_or_obj,\n\u001b[0;32m   (...)\u001b[0m\n\u001b[1;32m    510\u001b[0m     \u001b[39m*\u001b[39m\u001b[39m*\u001b[39mkwargs,\n\u001b[1;32m    511\u001b[0m )\n\u001b[1;32m    512\u001b[0m \u001b[39mreturn\u001b[39;00m ds\n",
      "File \u001b[0;32m~/opt/miniconda3/envs/pypsa-usa/lib/python3.10/site-packages/xarray/backends/netCDF4_.py:553\u001b[0m, in \u001b[0;36mNetCDF4BackendEntrypoint.open_dataset\u001b[0;34m(self, filename_or_obj, mask_and_scale, decode_times, concat_characters, decode_coords, drop_variables, use_cftime, decode_timedelta, group, mode, format, clobber, diskless, persist, lock, autoclose)\u001b[0m\n\u001b[1;32m    532\u001b[0m \u001b[39mdef\u001b[39;00m \u001b[39mopen_dataset\u001b[39m(\n\u001b[1;32m    533\u001b[0m     \u001b[39mself\u001b[39m,\n\u001b[1;32m    534\u001b[0m     filename_or_obj,\n\u001b[0;32m   (...)\u001b[0m\n\u001b[1;32m    549\u001b[0m     autoclose\u001b[39m=\u001b[39m\u001b[39mFalse\u001b[39;00m,\n\u001b[1;32m    550\u001b[0m ):\n\u001b[1;32m    552\u001b[0m     filename_or_obj \u001b[39m=\u001b[39m _normalize_path(filename_or_obj)\n\u001b[0;32m--> 553\u001b[0m     store \u001b[39m=\u001b[39m NetCDF4DataStore\u001b[39m.\u001b[39;49mopen(\n\u001b[1;32m    554\u001b[0m         filename_or_obj,\n\u001b[1;32m    555\u001b[0m         mode\u001b[39m=\u001b[39;49mmode,\n\u001b[1;32m    556\u001b[0m         \u001b[39mformat\u001b[39;49m\u001b[39m=\u001b[39;49m\u001b[39mformat\u001b[39;49m,\n\u001b[1;32m    557\u001b[0m         group\u001b[39m=\u001b[39;49mgroup,\n\u001b[1;32m    558\u001b[0m         clobber\u001b[39m=\u001b[39;49mclobber,\n\u001b[1;32m    559\u001b[0m         diskless\u001b[39m=\u001b[39;49mdiskless,\n\u001b[1;32m    560\u001b[0m         persist\u001b[39m=\u001b[39;49mpersist,\n\u001b[1;32m    561\u001b[0m         lock\u001b[39m=\u001b[39;49mlock,\n\u001b[1;32m    562\u001b[0m         autoclose\u001b[39m=\u001b[39;49mautoclose,\n\u001b[1;32m    563\u001b[0m     )\n\u001b[1;32m    565\u001b[0m     store_entrypoint \u001b[39m=\u001b[39m StoreBackendEntrypoint()\n\u001b[1;32m    566\u001b[0m     \u001b[39mwith\u001b[39;00m close_on_error(store):\n",
      "File \u001b[0;32m~/opt/miniconda3/envs/pypsa-usa/lib/python3.10/site-packages/xarray/backends/netCDF4_.py:382\u001b[0m, in \u001b[0;36mNetCDF4DataStore.open\u001b[0;34m(cls, filename, mode, format, group, clobber, diskless, persist, lock, lock_maker, autoclose)\u001b[0m\n\u001b[1;32m    376\u001b[0m kwargs \u001b[39m=\u001b[39m \u001b[39mdict\u001b[39m(\n\u001b[1;32m    377\u001b[0m     clobber\u001b[39m=\u001b[39mclobber, diskless\u001b[39m=\u001b[39mdiskless, persist\u001b[39m=\u001b[39mpersist, \u001b[39mformat\u001b[39m\u001b[39m=\u001b[39m\u001b[39mformat\u001b[39m\n\u001b[1;32m    378\u001b[0m )\n\u001b[1;32m    379\u001b[0m manager \u001b[39m=\u001b[39m CachingFileManager(\n\u001b[1;32m    380\u001b[0m     netCDF4\u001b[39m.\u001b[39mDataset, filename, mode\u001b[39m=\u001b[39mmode, kwargs\u001b[39m=\u001b[39mkwargs\n\u001b[1;32m    381\u001b[0m )\n\u001b[0;32m--> 382\u001b[0m \u001b[39mreturn\u001b[39;00m \u001b[39mcls\u001b[39;49m(manager, group\u001b[39m=\u001b[39;49mgroup, mode\u001b[39m=\u001b[39;49mmode, lock\u001b[39m=\u001b[39;49mlock, autoclose\u001b[39m=\u001b[39;49mautoclose)\n",
      "File \u001b[0;32m~/opt/miniconda3/envs/pypsa-usa/lib/python3.10/site-packages/xarray/backends/netCDF4_.py:330\u001b[0m, in \u001b[0;36mNetCDF4DataStore.__init__\u001b[0;34m(self, manager, group, mode, lock, autoclose)\u001b[0m\n\u001b[1;32m    328\u001b[0m \u001b[39mself\u001b[39m\u001b[39m.\u001b[39m_group \u001b[39m=\u001b[39m group\n\u001b[1;32m    329\u001b[0m \u001b[39mself\u001b[39m\u001b[39m.\u001b[39m_mode \u001b[39m=\u001b[39m mode\n\u001b[0;32m--> 330\u001b[0m \u001b[39mself\u001b[39m\u001b[39m.\u001b[39mformat \u001b[39m=\u001b[39m \u001b[39mself\u001b[39;49m\u001b[39m.\u001b[39;49mds\u001b[39m.\u001b[39mdata_model\n\u001b[1;32m    331\u001b[0m \u001b[39mself\u001b[39m\u001b[39m.\u001b[39m_filename \u001b[39m=\u001b[39m \u001b[39mself\u001b[39m\u001b[39m.\u001b[39mds\u001b[39m.\u001b[39mfilepath()\n\u001b[1;32m    332\u001b[0m \u001b[39mself\u001b[39m\u001b[39m.\u001b[39mis_remote \u001b[39m=\u001b[39m is_remote_uri(\u001b[39mself\u001b[39m\u001b[39m.\u001b[39m_filename)\n",
      "File \u001b[0;32m~/opt/miniconda3/envs/pypsa-usa/lib/python3.10/site-packages/xarray/backends/netCDF4_.py:391\u001b[0m, in \u001b[0;36mNetCDF4DataStore.ds\u001b[0;34m(self)\u001b[0m\n\u001b[1;32m    389\u001b[0m \u001b[39m@property\u001b[39m\n\u001b[1;32m    390\u001b[0m \u001b[39mdef\u001b[39;00m \u001b[39mds\u001b[39m(\u001b[39mself\u001b[39m):\n\u001b[0;32m--> 391\u001b[0m     \u001b[39mreturn\u001b[39;00m \u001b[39mself\u001b[39;49m\u001b[39m.\u001b[39;49m_acquire()\n",
      "File \u001b[0;32m~/opt/miniconda3/envs/pypsa-usa/lib/python3.10/site-packages/xarray/backends/netCDF4_.py:385\u001b[0m, in \u001b[0;36mNetCDF4DataStore._acquire\u001b[0;34m(self, needs_lock)\u001b[0m\n\u001b[1;32m    384\u001b[0m \u001b[39mdef\u001b[39;00m \u001b[39m_acquire\u001b[39m(\u001b[39mself\u001b[39m, needs_lock\u001b[39m=\u001b[39m\u001b[39mTrue\u001b[39;00m):\n\u001b[0;32m--> 385\u001b[0m     \u001b[39mwith\u001b[39;00m \u001b[39mself\u001b[39m\u001b[39m.\u001b[39m_manager\u001b[39m.\u001b[39macquire_context(needs_lock) \u001b[39mas\u001b[39;00m root:\n\u001b[1;32m    386\u001b[0m         ds \u001b[39m=\u001b[39m _nc4_require_group(root, \u001b[39mself\u001b[39m\u001b[39m.\u001b[39m_group, \u001b[39mself\u001b[39m\u001b[39m.\u001b[39m_mode)\n\u001b[1;32m    387\u001b[0m     \u001b[39mreturn\u001b[39;00m ds\n",
      "File \u001b[0;32m~/opt/miniconda3/envs/pypsa-usa/lib/python3.10/contextlib.py:135\u001b[0m, in \u001b[0;36m_GeneratorContextManager.__enter__\u001b[0;34m(self)\u001b[0m\n\u001b[1;32m    133\u001b[0m \u001b[39mdel\u001b[39;00m \u001b[39mself\u001b[39m\u001b[39m.\u001b[39margs, \u001b[39mself\u001b[39m\u001b[39m.\u001b[39mkwds, \u001b[39mself\u001b[39m\u001b[39m.\u001b[39mfunc\n\u001b[1;32m    134\u001b[0m \u001b[39mtry\u001b[39;00m:\n\u001b[0;32m--> 135\u001b[0m     \u001b[39mreturn\u001b[39;00m \u001b[39mnext\u001b[39;49m(\u001b[39mself\u001b[39;49m\u001b[39m.\u001b[39;49mgen)\n\u001b[1;32m    136\u001b[0m \u001b[39mexcept\u001b[39;00m \u001b[39mStopIteration\u001b[39;00m:\n\u001b[1;32m    137\u001b[0m     \u001b[39mraise\u001b[39;00m \u001b[39mRuntimeError\u001b[39;00m(\u001b[39m\"\u001b[39m\u001b[39mgenerator didn\u001b[39m\u001b[39m'\u001b[39m\u001b[39mt yield\u001b[39m\u001b[39m\"\u001b[39m) \u001b[39mfrom\u001b[39;00m \u001b[39mNone\u001b[39m\n",
      "File \u001b[0;32m~/opt/miniconda3/envs/pypsa-usa/lib/python3.10/site-packages/xarray/backends/file_manager.py:187\u001b[0m, in \u001b[0;36mCachingFileManager.acquire_context\u001b[0;34m(self, needs_lock)\u001b[0m\n\u001b[1;32m    184\u001b[0m \u001b[39m@contextlib\u001b[39m\u001b[39m.\u001b[39mcontextmanager\n\u001b[1;32m    185\u001b[0m \u001b[39mdef\u001b[39;00m \u001b[39macquire_context\u001b[39m(\u001b[39mself\u001b[39m, needs_lock\u001b[39m=\u001b[39m\u001b[39mTrue\u001b[39;00m):\n\u001b[1;32m    186\u001b[0m     \u001b[39m\"\"\"Context manager for acquiring a file.\"\"\"\u001b[39;00m\n\u001b[0;32m--> 187\u001b[0m     file, cached \u001b[39m=\u001b[39m \u001b[39mself\u001b[39;49m\u001b[39m.\u001b[39;49m_acquire_with_cache_info(needs_lock)\n\u001b[1;32m    188\u001b[0m     \u001b[39mtry\u001b[39;00m:\n\u001b[1;32m    189\u001b[0m         \u001b[39myield\u001b[39;00m file\n",
      "File \u001b[0;32m~/opt/miniconda3/envs/pypsa-usa/lib/python3.10/site-packages/xarray/backends/file_manager.py:205\u001b[0m, in \u001b[0;36mCachingFileManager._acquire_with_cache_info\u001b[0;34m(self, needs_lock)\u001b[0m\n\u001b[1;32m    203\u001b[0m     kwargs \u001b[39m=\u001b[39m kwargs\u001b[39m.\u001b[39mcopy()\n\u001b[1;32m    204\u001b[0m     kwargs[\u001b[39m\"\u001b[39m\u001b[39mmode\u001b[39m\u001b[39m\"\u001b[39m] \u001b[39m=\u001b[39m \u001b[39mself\u001b[39m\u001b[39m.\u001b[39m_mode\n\u001b[0;32m--> 205\u001b[0m file \u001b[39m=\u001b[39m \u001b[39mself\u001b[39;49m\u001b[39m.\u001b[39;49m_opener(\u001b[39m*\u001b[39;49m\u001b[39mself\u001b[39;49m\u001b[39m.\u001b[39;49m_args, \u001b[39m*\u001b[39;49m\u001b[39m*\u001b[39;49mkwargs)\n\u001b[1;32m    206\u001b[0m \u001b[39mif\u001b[39;00m \u001b[39mself\u001b[39m\u001b[39m.\u001b[39m_mode \u001b[39m==\u001b[39m \u001b[39m\"\u001b[39m\u001b[39mw\u001b[39m\u001b[39m\"\u001b[39m:\n\u001b[1;32m    207\u001b[0m     \u001b[39m# ensure file doesn't get overridden when opened again\u001b[39;00m\n\u001b[1;32m    208\u001b[0m     \u001b[39mself\u001b[39m\u001b[39m.\u001b[39m_mode \u001b[39m=\u001b[39m \u001b[39m\"\u001b[39m\u001b[39ma\u001b[39m\u001b[39m\"\u001b[39m\n",
      "File \u001b[0;32msrc/netCDF4/_netCDF4.pyx:2463\u001b[0m, in \u001b[0;36mnetCDF4._netCDF4.Dataset.__init__\u001b[0;34m()\u001b[0m\n",
      "File \u001b[0;32msrc/netCDF4/_netCDF4.pyx:2026\u001b[0m, in \u001b[0;36mnetCDF4._netCDF4._ensure_nc_success\u001b[0;34m()\u001b[0m\n",
      "\u001b[0;31mFileNotFoundError\u001b[0m: [Errno 2] No such file or directory: b'/Users/kamrantehranchi/Library/CloudStorage/OneDrive-Stanford/Kamran_OSW/PyPSA_Models/pypsa-breakthroughenergy-usa/results/usa/networks/elec_s_200_ec_lv1.1_Co2L0.5.nc'"
     ]
    }
   ],
   "source": [
    "n = pypsa.Network(snakemake.input.network)\n",
    "regions_onshore = gpd.read_file(snakemake.input.regions_onshore)"
   ]
  },
  {
   "cell_type": "code",
   "execution_count": null,
   "id": "09df91d0",
   "metadata": {
    "execution": {
     "iopub.execute_input": "2022-09-08T21:18:43.740192Z",
     "iopub.status.busy": "2022-09-08T21:18:43.739989Z",
     "iopub.status.idle": "2022-09-08T21:18:43.744343Z",
     "shell.execute_reply": "2022-09-08T21:18:43.743859Z"
    }
   },
   "outputs": [],
   "source": [
    "# TODO\n",
    "n.carriers.loc[\"wind\", \"color\"] = \"lightblue\"\n",
    "n.carriers.loc[\"wind_offshore\", \"color\"] = \"lightblue\"\n",
    "n.carriers.loc[\"wind_offshore\", \"nice_name\"] = \"Offshore Wind\"\n",
    "n.carriers.loc[\"ng\", \"color\"] = \"indianred\"\n",
    "n.carriers.loc[\"dfo\", \"color\"] = \"k\"\n",
    "n.carriers.loc[\"other\", \"color\"] = \"grey\""
   ]
  },
  {
   "cell_type": "code",
   "execution_count": null,
   "id": "68511a81",
   "metadata": {},
   "outputs": [],
   "source": [
    "# TODO\n",
    "generating_link_carrier_map = {\"fuel cell\": \"H2\", \"battery discharger\": \"battery\"}"
   ]
  },
  {
   "cell_type": "markdown",
   "id": "1424d8d3",
   "metadata": {},
   "source": [
    "# Capacity plots"
   ]
  },
  {
   "cell_type": "code",
   "execution_count": null,
   "id": "6b43b69c",
   "metadata": {
    "execution": {
     "iopub.execute_input": "2022-09-08T21:18:43.746924Z",
     "iopub.status.busy": "2022-09-08T21:18:43.746756Z",
     "iopub.status.idle": "2022-09-08T21:18:43.750129Z",
     "shell.execute_reply": "2022-09-08T21:18:43.749677Z"
    }
   },
   "outputs": [],
   "source": [
    "if snakemake.wildcards.interconnect != \"usa\":\n",
    "    bus_scale = 1e5\n",
    "else:\n",
    "    bus_scale = 4e4\n",
    "\n",
    "if snakemake.wildcards.interconnect != \"usa\":\n",
    "    line_scale = 2e3\n",
    "else:\n",
    "    line_scale = 4e3"
   ]
  },
  {
   "cell_type": "code",
   "execution_count": null,
   "id": "a23790dd",
   "metadata": {
    "execution": {
     "iopub.execute_input": "2022-09-08T21:18:43.752894Z",
     "iopub.status.busy": "2022-09-08T21:18:43.752655Z",
     "iopub.status.idle": "2022-09-08T21:18:49.018040Z",
     "shell.execute_reply": "2022-09-08T21:18:49.017427Z"
    },
    "scrolled": true
   },
   "outputs": [],
   "source": [
    "fig, ax = plt.subplots(\n",
    "    figsize=(8, 8), subplot_kw={\"projection\": ccrs.EqualEarth(n.buses.x.mean())}\n",
    ")\n",
    "g = n.generators.groupby([\"bus\", \"carrier\"]).p_nom_opt.sum()\n",
    "s = (\n",
    "    n.links.query(\"carrier in @generating_link_carrier_map\")\n",
    "    .groupby([\"bus1\", \"carrier\"])\n",
    "    .p_nom_opt.sum()\n",
    ")\n",
    "s = s.rename(index=generating_link_carrier_map, level=1)\n",
    "buses = pd.concat([g, s])\n",
    "with plt.rc_context({\"patch.linewidth\": 0.1}):\n",
    "    n.plot(\n",
    "        bus_sizes=buses / bus_scale,\n",
    "        bus_alpha=0.7,\n",
    "        line_widths=n.lines.s_nom_opt / line_scale,\n",
    "        link_widths=n.links.p_nom_opt / line_scale,\n",
    "        line_colors=\"teal\",\n",
    "        ax=ax,\n",
    "        margin=0.2,\n",
    "        color_geomap=None,\n",
    "    )\n",
    "regions_onshore.plot(\n",
    "    ax=ax,\n",
    "    facecolor=\"whitesmoke\",\n",
    "    edgecolor=\"white\",\n",
    "    aspect=\"equal\",\n",
    "    transform=ccrs.PlateCarree(),\n",
    "    linewidth=1.2,\n",
    ")\n",
    "ax.set_extent(regions_onshore.total_bounds[[0, 2, 1, 3]])\n",
    "\n",
    "\n",
    "legend_kwargs = {\"loc\": \"upper left\", \"frameon\": False}\n",
    "bus_sizes = [5000, 10e3, 50e3]  # in MW\n",
    "line_sizes = [2000, 5000]  # in MW\n",
    "add_legend_circles(\n",
    "    ax,\n",
    "    [s / bus_scale for s in bus_sizes],\n",
    "    [f\"{s / 1000} GW\" for s in bus_sizes],\n",
    "    legend_kw={\"bbox_to_anchor\": (1, 1), **legend_kwargs},\n",
    ")\n",
    "add_legend_lines(\n",
    "    ax,\n",
    "    [s / line_scale for s in line_sizes],\n",
    "    [f\"{s / 1000} GW\" for s in line_sizes],\n",
    "    legend_kw={\"bbox_to_anchor\": (1, 0.8), **legend_kwargs},\n",
    ")\n",
    "add_legend_patches(\n",
    "    ax,\n",
    "    n.carriers.color,\n",
    "    n.carriers.nice_name,\n",
    "    legend_kw={\"bbox_to_anchor\": (1, 0), **legend_kwargs, \"loc\": \"lower left\"},\n",
    ")\n",
    "fig.tight_layout()\n",
    "fig.savefig(snakemake.output.capacity_map)"
   ]
  },
  {
   "cell_type": "code",
   "execution_count": null,
   "id": "50f462a3",
   "metadata": {
    "execution": {
     "iopub.execute_input": "2022-09-08T21:18:49.020939Z",
     "iopub.status.busy": "2022-09-08T21:18:49.020368Z",
     "iopub.status.idle": "2022-09-08T21:18:49.238127Z",
     "shell.execute_reply": "2022-09-08T21:18:49.237395Z"
    }
   },
   "outputs": [],
   "source": [
    "fig, ax = plt.subplots()\n",
    "capacities = n.generators.groupby(\"carrier\").p_nom_opt.sum()\n",
    "capacities.rename(n.carriers.nice_name, inplace=True)\n",
    "colors = n.carriers.set_index(\"nice_name\").color[capacities.index]\n",
    "capacities.div(1e3).plot.bar(color=colors, ax=ax)\n",
    "ax.set_ylabel(\"Total capacity [GW]\")\n",
    "ax.set_xlabel(\"\")\n",
    "fig.savefig(snakemake.output.capacity_bar)"
   ]
  },
  {
   "cell_type": "markdown",
   "id": "c97c0a59",
   "metadata": {},
   "source": [
    "# Operation plots"
   ]
  },
  {
   "cell_type": "code",
   "execution_count": null,
   "id": "3afb3d2e",
   "metadata": {
    "execution": {
     "iopub.execute_input": "2022-09-08T21:18:49.240906Z",
     "iopub.status.busy": "2022-09-08T21:18:49.240346Z",
     "iopub.status.idle": "2022-09-08T21:18:49.244123Z",
     "shell.execute_reply": "2022-09-08T21:18:49.243389Z"
    }
   },
   "outputs": [],
   "source": [
    "if snakemake.wildcards.interconnect != \"usa\":\n",
    "    bus_scale = 5e7\n",
    "else:\n",
    "    bus_scale = 5e7\n",
    "\n",
    "if snakemake.wildcards.interconnect != \"usa\":\n",
    "    line_scale = 1e6\n",
    "else:\n",
    "    line_scale = 1e7"
   ]
  },
  {
   "cell_type": "code",
   "execution_count": null,
   "id": "f58b45ae",
   "metadata": {
    "execution": {
     "iopub.execute_input": "2022-09-08T21:18:49.246259Z",
     "iopub.status.busy": "2022-09-08T21:18:49.246093Z",
     "iopub.status.idle": "2022-09-08T21:18:51.191596Z",
     "shell.execute_reply": "2022-09-08T21:18:51.190940Z"
    },
    "scrolled": true
   },
   "outputs": [],
   "source": [
    "fig, ax = plt.subplots(\n",
    "    figsize=(8, 8), subplot_kw={\"projection\": ccrs.EqualEarth(n.buses.x.mean())}\n",
    ")\n",
    "with plt.rc_context({\"patch.linewidth\": 0.1}):\n",
    "    n.plot(\n",
    "        bus_sizes=n.generators_t.p.sum()\n",
    "        .groupby([n.generators.bus, n.generators.carrier])\n",
    "        .sum()\n",
    "        / bus_scale,\n",
    "        bus_alpha=0.7,\n",
    "        line_widths=n.lines_t.p0.sum() / line_scale,\n",
    "        link_widths=n.links_t.p0.sum() / line_scale,\n",
    "        line_colors=\"teal\",\n",
    "        ax=ax,\n",
    "        margin=0.2,\n",
    "        color_geomap=None,\n",
    "    )\n",
    "regions_onshore.plot(\n",
    "    ax=ax,\n",
    "    facecolor=\"whitesmoke\",\n",
    "    edgecolor=\"white\",\n",
    "    aspect=\"equal\",\n",
    "    transform=ccrs.PlateCarree(),\n",
    "    linewidth=1.2,\n",
    ")\n",
    "ax.set_extent(regions_onshore.total_bounds[[0, 2, 1, 3]])\n",
    "\n",
    "\n",
    "legend_kwargs = {\"loc\": \"upper left\", \"frameon\": False}\n",
    "bus_sizes = [1000000, 2000000, 5000000]  # in MW\n",
    "line_sizes = [2000000, 5000000]  # in MW\n",
    "add_legend_circles(\n",
    "    ax,\n",
    "    [s / bus_scale for s in bus_sizes],\n",
    "    [f\"{s / 1e6} TWh\" for s in bus_sizes],\n",
    "    legend_kw={\"bbox_to_anchor\": (1, 1), **legend_kwargs},\n",
    ")\n",
    "add_legend_lines(\n",
    "    ax,\n",
    "    [s / line_scale for s in line_sizes],\n",
    "    [f\"{s / 1e6} TWh\" for s in line_sizes],\n",
    "    legend_kw={\"bbox_to_anchor\": (1, 0.8), **legend_kwargs},\n",
    ")\n",
    "add_legend_patches(\n",
    "    ax,\n",
    "    n.carriers.color,\n",
    "    n.carriers.nice_name,\n",
    "    legend_kw={\"bbox_to_anchor\": (1, 0.0), **legend_kwargs, \"loc\": \"lower left\"},\n",
    ")\n",
    "fig.tight_layout()\n",
    "fig.savefig(snakemake.output.operation_map)"
   ]
  },
  {
   "cell_type": "markdown",
   "id": "0abee5f1",
   "metadata": {},
   "source": [
    "# Cost plots"
   ]
  },
  {
   "cell_type": "code",
   "execution_count": null,
   "id": "96321119",
   "metadata": {
    "execution": {
     "iopub.execute_input": "2022-09-08T21:18:51.194443Z",
     "iopub.status.busy": "2022-09-08T21:18:51.194240Z",
     "iopub.status.idle": "2022-09-08T21:18:58.359382Z",
     "shell.execute_reply": "2022-09-08T21:18:58.358838Z"
    },
    "scrolled": true
   },
   "outputs": [],
   "source": [
    "carriers = n.generators.carrier\n",
    "production = (\n",
    "    n.generators_t.p.groupby(carriers, axis=1)\n",
    "    .sum()\n",
    "    .rename(columns=n.carriers.nice_name)\n",
    "    / 1e3\n",
    ")\n",
    "production = production.loc[:, production.sum() > 0.1]\n",
    "demand = n.loads_t.p.sum(1).rename(\"Demand\") / 1e3\n",
    "colors = n.carriers.set_index(\"nice_name\").color[production.columns]\n",
    "\n",
    "if snakemake.config['solving']['options']['nhours'] < 8760:\n",
    "    nhours= snakemake.config['solving']['options']['nhours']\n",
    "    enddate = pd.to_datetime('2016-01-01') + pd.Timedelta(nhours%24,'h')\n",
    "    enddate\n",
    "    for timeslice in list(range(1, enddate.month)) + [\"all\"]:\n",
    "        snapshots = (\n",
    "            n.snapshots.get_loc(f\"2016-{timeslice}\")\n",
    "            if timeslice != \"all\"\n",
    "            else slice(None, None)\n",
    "        )\n",
    "        fig, ax = plt.subplots(figsize=(14, 4))\n",
    "        production[snapshots].plot.area(ax=ax, color=colors, alpha=0.7, legend=\"reverse\")\n",
    "        # demand.plot.line(ax=ax, ls='-', color='darkblue')\n",
    "        ax.legend(bbox_to_anchor=(1, 1), loc=\"upper left\")\n",
    "        ax.set_ylabel(\"Power [GW]\")\n",
    "        ax.set_xlabel(\"\")\n",
    "        fig.tight_layout()\n",
    "        suffix = (\n",
    "            \"-\" + datetime.strptime(str(timeslice), \"%m\").strftime(\"%b\")\n",
    "            if timeslice != \"all\"\n",
    "            else \"\"\n",
    "        )\n",
    "        path = Path(snakemake.output.operation_area)\n",
    "        fig.savefig(path.parent / (path.stem + suffix + path.suffix))\n",
    "\n",
    "else:\n",
    "    for timeslice in list(range(1, 12)) + [\"all\"]:\n",
    "        snapshots = (\n",
    "            n.snapshots.get_loc(f\"2016-{timeslice}\")\n",
    "            if timeslice != \"all\"\n",
    "            else slice(None, None)\n",
    "        )\n",
    "        fig, ax = plt.subplots(figsize=(14, 4))\n",
    "        production[snapshots].plot.area(ax=ax, color=colors, alpha=0.7, legend=\"reverse\")\n",
    "        # demand.plot.line(ax=ax, ls='-', color='darkblue')\n",
    "        ax.legend(bbox_to_anchor=(1, 1), loc=\"upper left\")\n",
    "        ax.set_ylabel(\"Power [GW]\")\n",
    "        ax.set_xlabel(\"\")\n",
    "        fig.tight_layout()\n",
    "        suffix = (\n",
    "            \"-\" + datetime.strptime(str(timeslice), \"%m\").strftime(\"%b\")\n",
    "            if timeslice != \"all\"\n",
    "            else \"\"\n",
    "        )\n",
    "        path = Path(snakemake.output.operation_area)\n",
    "        fig.savefig(path.parent / (path.stem + suffix + path.suffix))"
   ]
  },
  {
   "cell_type": "code",
   "execution_count": null,
   "id": "328ee2cb",
   "metadata": {
    "execution": {
     "iopub.execute_input": "2022-09-08T21:18:58.361488Z",
     "iopub.status.busy": "2022-09-08T21:18:58.361320Z",
     "iopub.status.idle": "2022-09-08T21:18:58.543605Z",
     "shell.execute_reply": "2022-09-08T21:18:58.542940Z"
    }
   },
   "outputs": [],
   "source": [
    "fig, ax = plt.subplots()\n",
    "total_production = n.snapshot_weightings.generators @ production\n",
    "total_production.div(1e3).plot.bar(color=colors, ax=ax)\n",
    "ax.set_ylabel(\"Total production [TWh]\")\n",
    "ax.set_xlabel(\"\")\n",
    "fig.savefig(snakemake.output.operation_bar)"
   ]
  },
  {
   "cell_type": "code",
   "execution_count": null,
   "id": "dd213083",
   "metadata": {
    "execution": {
     "iopub.execute_input": "2022-09-08T21:18:58.546148Z",
     "iopub.status.busy": "2022-09-08T21:18:58.545893Z",
     "iopub.status.idle": "2022-09-08T21:18:58.837908Z",
     "shell.execute_reply": "2022-09-08T21:18:58.837341Z"
    }
   },
   "outputs": [],
   "source": [
    "fig, ax = plt.subplots()\n",
    "\n",
    "production = n.generators_t.p\n",
    "operational_costs = (\n",
    "    (production * n.generators.marginal_cost)\n",
    "    .groupby(carriers, axis=1)\n",
    "    .sum()\n",
    "    .rename(columns=n.carriers.nice_name)\n",
    ").sum()\n",
    "\n",
    "capital_costs = (\n",
    "    n.generators.eval(\"p_nom_opt * capital_cost\")\n",
    "    .groupby(carriers)\n",
    "    .sum()\n",
    "    .rename(n.carriers.nice_name)\n",
    ")\n",
    "\n",
    "costs = pd.concat([operational_costs, capital_costs], axis=1, keys=[\"OPEX\", \"CAPEX\"])\n",
    "costs = costs.reset_index(\"carrier\")\n",
    "\n",
    "\n",
    "s1 = sns.barplot(y=\"carrier\", x=\"CAPEX\", data=costs, alpha=0.6, ax=ax, palette=colors)\n",
    "s2 = sns.barplot(\n",
    "    y=\"carrier\", x=\"OPEX\", data=costs, ax=ax, left=costs[\"CAPEX\"], palette=colors\n",
    ")\n",
    "\n",
    "ax.set_ylabel(\"\")\n",
    "ax.set_xlabel(\"CAPEX & OPEX [bn€]\")\n",
    "fig.savefig(snakemake.output.cost_bar)"
   ]
  },
  {
   "cell_type": "code",
   "execution_count": null,
   "id": "62cc49c3",
   "metadata": {},
   "outputs": [],
   "source": []
  }
 ],
 "metadata": {
  "@webio": {
   "lastCommId": null,
   "lastKernelId": null
  },
  "kernelspec": {
   "display_name": "Python 3",
   "language": "python",
   "name": "python3"
  },
  "language_info": {
   "codemirror_mode": {
    "name": "ipython",
    "version": 3
   },
   "file_extension": ".py",
   "mimetype": "text/x-python",
   "name": "python",
   "nbconvert_exporter": "python",
   "pygments_lexer": "ipython3",
   "version": "3.10.7"
  },
  "vscode": {
   "interpreter": {
    "hash": "ed88634a96f0f44ddf87d723a7b512fbeabb17521926a161ee96c50fffea2b11"
   }
  }
 },
 "nbformat": 4,
 "nbformat_minor": 5
}
